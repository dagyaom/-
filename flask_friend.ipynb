{
  "nbformat": 4,
  "nbformat_minor": 0,
  "metadata": {
    "colab": {
      "name": "flask_friend",
      "provenance": [],
      "collapsed_sections": [],
      "authorship_tag": "ABX9TyO+mRaBw4tbtlVL3kNopC7P",
      "include_colab_link": true
    },
    "kernelspec": {
      "name": "python3",
      "display_name": "Python 3"
    },
    "language_info": {
      "name": "python"
    }
  },
  "cells": [
    {
      "cell_type": "markdown",
      "metadata": {
        "id": "view-in-github",
        "colab_type": "text"
      },
      "source": [
        "<a href=\"https://colab.research.google.com/github/dagyaom/Python_Practice/blob/main/flask_friend.ipynb\" target=\"_parent\"><img src=\"https://colab.research.google.com/assets/colab-badge.svg\" alt=\"Open In Colab\"/></a>"
      ]
    },
    {
      "cell_type": "code",
      "metadata": {
        "id": "Idc1A__G2pzM",
        "colab": {
          "base_uri": "https://localhost:8080/"
        },
        "outputId": "446434b7-ff6b-46b3-e5a9-892c0b36f827"
      },
      "source": [
        "# 데이터프레임을 딕셔너리형태로 반환하기.\n",
        "# 다양한 방법이 있다. \n",
        "\n",
        "import pandas as pd\n",
        "userid = pd.read_csv('./users.csv').set_index(['id']).to_dict()['username']\n",
        "userid\n",
        "# len(username)"
      ],
      "execution_count": 139,
      "outputs": [
        {
          "output_type": "execute_result",
          "data": {
            "text/plain": [
              "{0: 'squiddy', 1: 'spongebob', 2: 'patrick'}"
            ]
          },
          "metadata": {},
          "execution_count": 139
        }
      ]
    },
    {
      "cell_type": "code",
      "metadata": {
        "id": "bBfxKYvATzHA"
      },
      "source": [
        "# csv 파일 읽기&쓰기\n",
        "# https://docs.python.org/ko/3/library/csv.html#dialects-and-formatting-parameters\n",
        "# https://devpouch.tistory.com/55\n",
        "\n",
        "lines = []\n",
        "import csv\n",
        "with open('./users.csv') as f:\n",
        "    reader = csv.reader(f)\n",
        "    for row in reader:\n",
        "        if row[1] == \"squiddy\":\n",
        "            row[1] = \"서울\"\n",
        "        lines.append(row)\n",
        "\n",
        "f = open('./users.csv','w',newline='') #원본을 훼손할 위험이 있으니 다른 파일에 저장하는 것을 추천합니다.\n",
        "wr = csv.writer(f)\n",
        "wr.writerows(lines)\n",
        " \n",
        "f.close()\n",
        "\n",
        "# lines ==> [['id', 'username'], ['0', '서울'], ['1', 'spongebob'], ['2', 'patrick']]"
      ],
      "execution_count": 221,
      "outputs": []
    },
    {
      "cell_type": "code",
      "metadata": {
        "colab": {
          "base_uri": "https://localhost:8080/"
        },
        "id": "LHFmygptc7pP",
        "outputId": "cf528c85-a23b-4b46-8122-846554a03366"
      },
      "source": [
        "lines = []\n",
        "import csv\n",
        "with open('./users.csv') as f:\n",
        "    reader = csv.reader(f)\n",
        "    for row in reader:\n",
        "        print(', '.join(row))"
      ],
      "execution_count": 224,
      "outputs": [
        {
          "output_type": "stream",
          "name": "stdout",
          "text": [
            "id, username\n",
            "0, 서울\n",
            "1, spongebob\n",
            "2, patrick\n"
          ]
        }
      ]
    },
    {
      "cell_type": "code",
      "metadata": {
        "colab": {
          "base_uri": "https://localhost:8080/"
        },
        "id": "CHK6DM8UKa9v",
        "outputId": "62b4e593-4f18-44bb-8128-7b6352f5f5c8"
      },
      "source": [
        "type([k for k, v in userid.items() if v == 'squiddy'][0]"
      ],
      "execution_count": 178,
      "outputs": [
        {
          "output_type": "execute_result",
          "data": {
            "text/plain": [
              "int"
            ]
          },
          "metadata": {},
          "execution_count": 178
        }
      ]
    },
    {
      "cell_type": "code",
      "metadata": {
        "colab": {
          "base_uri": "https://localhost:8080/"
        },
        "id": "1iHaGuRNNZV4",
        "outputId": "74b29716-7b3e-438c-f2de-f62a89208cf2"
      },
      "source": [
        "userid[0] = 'kkd'\n",
        "userid"
      ],
      "execution_count": 180,
      "outputs": [
        {
          "output_type": "execute_result",
          "data": {
            "text/plain": [
              "{0: 'kkd', 1: 'spongebob', 2: 'patrick'}"
            ]
          },
          "metadata": {},
          "execution_count": 180
        }
      ]
    },
    {
      "cell_type": "code",
      "metadata": {
        "colab": {
          "base_uri": "https://localhost:8080/",
          "height": 143
        },
        "id": "ohUV_ghTE2H2",
        "outputId": "be3a5c1b-3af5-4ca1-c85e-8db43b3ac29f"
      },
      "source": [
        "useri = pd.read_csv('./users.csv')\n",
        "useri \n",
        "# for i in range(len(useri))"
      ],
      "execution_count": 160,
      "outputs": [
        {
          "output_type": "execute_result",
          "data": {
            "text/html": [
              "<div>\n",
              "<style scoped>\n",
              "    .dataframe tbody tr th:only-of-type {\n",
              "        vertical-align: middle;\n",
              "    }\n",
              "\n",
              "    .dataframe tbody tr th {\n",
              "        vertical-align: top;\n",
              "    }\n",
              "\n",
              "    .dataframe thead th {\n",
              "        text-align: right;\n",
              "    }\n",
              "</style>\n",
              "<table border=\"1\" class=\"dataframe\">\n",
              "  <thead>\n",
              "    <tr style=\"text-align: right;\">\n",
              "      <th></th>\n",
              "      <th>id</th>\n",
              "      <th>username</th>\n",
              "    </tr>\n",
              "  </thead>\n",
              "  <tbody>\n",
              "    <tr>\n",
              "      <th>0</th>\n",
              "      <td>0</td>\n",
              "      <td>squiddy</td>\n",
              "    </tr>\n",
              "    <tr>\n",
              "      <th>1</th>\n",
              "      <td>1</td>\n",
              "      <td>spongebob</td>\n",
              "    </tr>\n",
              "    <tr>\n",
              "      <th>2</th>\n",
              "      <td>2</td>\n",
              "      <td>patrick</td>\n",
              "    </tr>\n",
              "  </tbody>\n",
              "</table>\n",
              "</div>"
            ],
            "text/plain": [
              "   id   username\n",
              "0   0    squiddy\n",
              "1   1  spongebob\n",
              "2   2    patrick"
            ]
          },
          "metadata": {},
          "execution_count": 160
        }
      ]
    },
    {
      "cell_type": "code",
      "metadata": {
        "colab": {
          "base_uri": "https://localhost:8080/"
        },
        "id": "ScazoYphFDdU",
        "outputId": "635e0ede-e7c0-409f-fe88-48c4d2667fee"
      },
      "source": [
        "lis = []\n",
        "for i in range(len(useri)):\n",
        "    dic = {}\n",
        "    dic[useri.iloc[i][0]] = useri.iloc[i][1]\n",
        "    lis.append(dic)\n",
        "print(lis)\n",
        "\n",
        "\n"
      ],
      "execution_count": 169,
      "outputs": [
        {
          "output_type": "stream",
          "name": "stdout",
          "text": [
            "[{0: 'squiddy'}, {1: 'spongebob'}, {2: 'patrick'}]\n"
          ]
        }
      ]
    },
    {
      "cell_type": "code",
      "metadata": {
        "id": "lAc1C9eQIUi2"
      },
      "source": [
        ""
      ],
      "execution_count": null,
      "outputs": []
    },
    {
      "cell_type": "code",
      "metadata": {
        "colab": {
          "base_uri": "https://localhost:8080/"
        },
        "id": "ATF_0jo8gIfq",
        "outputId": "ca23545d-b76a-4da2-df98-e15770aaa5f3"
      },
      "source": [
        "username = 'patrick'\n",
        "for key, value in userid.items(): \n",
        "    if value == username:\n",
        "        print(str(key))\n",
        "    else:\n",
        "        continue\n",
        "\n",
        "# 출처: https://seong6496.tistory.com/72 [codmath]"
      ],
      "execution_count": 153,
      "outputs": [
        {
          "output_type": "stream",
          "name": "stdout",
          "text": [
            "2\n"
          ]
        }
      ]
    },
    {
      "cell_type": "code",
      "metadata": {
        "colab": {
          "base_uri": "https://localhost:8080/",
          "height": 35
        },
        "id": "7Xv_3AsPY1NI",
        "outputId": "ccf664ab-1cfc-4895-e79d-053c46e3af57"
      },
      "source": [
        "userid[0][1]"
      ],
      "execution_count": 170,
      "outputs": [
        {
          "output_type": "execute_result",
          "data": {
            "application/vnd.google.colaboratory.intrinsic+json": {
              "type": "string"
            },
            "text/plain": [
              "'q'"
            ]
          },
          "metadata": {},
          "execution_count": 170
        }
      ]
    },
    {
      "cell_type": "code",
      "metadata": {
        "colab": {
          "base_uri": "https://localhost:8080/"
        },
        "id": "cDe6PJsa7sx8",
        "outputId": "16c22494-36d6-453a-e6d5-1aea37fa07d4"
      },
      "source": [
        "li = []\n",
        "for i in username.values() :\n",
        "    li.append(i)\n",
        "print(li[1])"
      ],
      "execution_count": 97,
      "outputs": [
        {
          "output_type": "stream",
          "name": "stdout",
          "text": [
            "['squiddy', 'spongebob', 'patrick']\n"
          ]
        }
      ]
    },
    {
      "cell_type": "code",
      "metadata": {
        "colab": {
          "base_uri": "https://localhost:8080/"
        },
        "id": "1wsDiDXSS9Vv",
        "outputId": "bf510381-cb08-4889-91b8-0f7975627268"
      },
      "source": [
        "'squidd' not in userid.values()"
      ],
      "execution_count": 154,
      "outputs": [
        {
          "output_type": "execute_result",
          "data": {
            "text/plain": [
              "True"
            ]
          },
          "metadata": {},
          "execution_count": 154
        }
      ]
    },
    {
      "cell_type": "code",
      "metadata": {
        "id": "4_0hcbmZUrDu"
      },
      "source": [
        ""
      ],
      "execution_count": null,
      "outputs": []
    },
    {
      "cell_type": "code",
      "metadata": {
        "id": "W0LMkEICTGUP"
      },
      "source": [
        "a = None"
      ],
      "execution_count": 100,
      "outputs": []
    },
    {
      "cell_type": "code",
      "metadata": {
        "colab": {
          "base_uri": "https://localhost:8080/"
        },
        "id": "pvEKdEu2THpu",
        "outputId": "5aca4ce6-bb72-4842-c5d4-8945bf9caa05"
      },
      "source": [
        "a is None"
      ],
      "execution_count": 101,
      "outputs": [
        {
          "output_type": "execute_result",
          "data": {
            "text/plain": [
              "True"
            ]
          },
          "metadata": {},
          "execution_count": 101
        }
      ]
    },
    {
      "cell_type": "code",
      "metadata": {
        "colab": {
          "base_uri": "https://localhost:8080/"
        },
        "id": "1UvA36jQ3Fwx",
        "outputId": "260a6291-e31f-452f-bf98-63617650f4a1"
      },
      "source": [
        "li = []\n",
        "dic = {\"users\":None}\n",
        "for i in username['username']:\n",
        "    li.append(i)\n",
        "\n",
        "dic['users'] = li\n",
        "dic\n",
        "    \n"
      ],
      "execution_count": null,
      "outputs": [
        {
          "output_type": "execute_result",
          "data": {
            "text/plain": [
              "{'users': ['spongebob', 'patrick', 'squidward']}"
            ]
          },
          "metadata": {},
          "execution_count": 63
        }
      ]
    },
    {
      "cell_type": "code",
      "metadata": {
        "id": "GH_jtv5f3Oil",
        "colab": {
          "base_uri": "https://localhost:8080/"
        },
        "outputId": "2975180a-c3c2-44c9-87b2-9f00c862e1b5"
      },
      "source": [
        "dic"
      ],
      "execution_count": null,
      "outputs": [
        {
          "output_type": "execute_result",
          "data": {
            "text/plain": [
              "{'users': None}"
            ]
          },
          "metadata": {},
          "execution_count": 61
        }
      ]
    },
    {
      "cell_type": "code",
      "metadata": {
        "id": "Uh7pxBee3LiF"
      },
      "source": [
        "username['users'] = username.pop('username')"
      ],
      "execution_count": null,
      "outputs": []
    },
    {
      "cell_type": "code",
      "metadata": {
        "colab": {
          "base_uri": "https://localhost:8080/",
          "height": 35
        },
        "id": "IF6epbHB7MQY",
        "outputId": "bd23ff79-9435-47b0-86da-a36dd80d258e"
      },
      "source": [
        "username['users'][0]"
      ],
      "execution_count": null,
      "outputs": [
        {
          "output_type": "execute_result",
          "data": {
            "application/vnd.google.colaboratory.intrinsic+json": {
              "type": "string"
            },
            "text/plain": [
              "'spongebob'"
            ]
          },
          "metadata": {},
          "execution_count": 42
        }
      ]
    },
    {
      "cell_type": "code",
      "metadata": {
        "id": "fETRMdD9TeIc"
      },
      "source": [
        "import json\n",
        "json_val = json.dumps(username)"
      ],
      "execution_count": null,
      "outputs": []
    },
    {
      "cell_type": "code",
      "metadata": {
        "colab": {
          "base_uri": "https://localhost:8080/",
          "height": 35
        },
        "id": "FEHEBKkAAaja",
        "outputId": "1fd15116-1332-449f-fb1f-738d374c50d9"
      },
      "source": [
        "json_val "
      ],
      "execution_count": null,
      "outputs": [
        {
          "output_type": "execute_result",
          "data": {
            "application/vnd.google.colaboratory.intrinsic+json": {
              "type": "string"
            },
            "text/plain": [
              "'{\"username\": [\"spongebob\", \"patrick\", \"squidward\"]}'"
            ]
          },
          "metadata": {},
          "execution_count": 54
        }
      ]
    },
    {
      "cell_type": "code",
      "metadata": {
        "id": "R8g18UZeAA3x"
      },
      "source": [
        ""
      ],
      "execution_count": null,
      "outputs": []
    }
  ]
}