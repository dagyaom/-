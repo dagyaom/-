{
  "nbformat": 4,
  "nbformat_minor": 0,
  "metadata": {
    "colab": {
      "name": "ds-sa-search(n533)_고민의 흔적.ipynb",
      "provenance": [],
      "authorship_tag": "ABX9TyMqim/LGwxE+6WQoqykMl2u",
      "include_colab_link": true
    },
    "kernelspec": {
      "name": "python3",
      "display_name": "Python 3"
    },
    "language_info": {
      "name": "python"
    }
  },
  "cells": [
    {
      "cell_type": "markdown",
      "metadata": {
        "id": "view-in-github",
        "colab_type": "text"
      },
      "source": [
        "<a href=\"https://colab.research.google.com/github/dagyeom23658/Python_Practice/blob/main/ds_sa_search(n533)_%EA%B3%A0%EB%AF%BC%EC%9D%98_%ED%9D%94%EC%A0%81.ipynb\" target=\"_parent\"><img src=\"https://colab.research.google.com/assets/colab-badge.svg\" alt=\"Open In Colab\"/></a>"
      ]
    },
    {
      "cell_type": "code",
      "metadata": {
        "colab": {
          "base_uri": "https://localhost:8080/"
        },
        "id": "k2aOThmV-2me",
        "outputId": "9d0f7926-c99a-4d51-8767-afbe839bfc26"
      },
      "source": [
        "# 우선 deque를 위해 자료구조의 큐에서 배웠던 내용을 복습한다.\n",
        "\n",
        "from collections import deque\n",
        "queue = deque([\"Eric\", \"John\", \"Michael\"])\n",
        "queue.append(\"Terry\")        # append : 오른쪽끝 삽입   \n",
        "queue.append(\"Graham\")  \n",
        "print(queue)      \n",
        "print(queue.pop())\n",
        "\n",
        "print(queue.popleft())       # popleft : 왼쪽끝 빼오기          \n",
        "\n",
        "print(queue.popleft())   \n",
        "\n",
        "print(queue)                           "
      ],
      "execution_count": 7,
      "outputs": [
        {
          "output_type": "stream",
          "name": "stdout",
          "text": [
            "deque(['Eric', 'John', 'Michael', 'Terry', 'Graham'])\n",
            "Graham\n",
            "Eric\n",
            "John\n",
            "deque(['Michael', 'Terry'])\n"
          ]
        }
      ]
    },
    {
      "cell_type": "code",
      "metadata": {
        "id": "SzYIGk2atIIV"
      },
      "source": [
        "# 재귀를 활용한 DFS 구현하기\n",
        "\n",
        "dfs_graph = {   # 그래프를 인접리스트로 표현\n",
        "    1: [2,3,4],\n",
        "    2: [5],\n",
        "    3: [6],\n",
        "    4: [],\n",
        "    5: [7],\n",
        "    6: [5],\n",
        "    7: [6],\n",
        "}\n",
        "\n",
        "def dfs_recur(node, dfs_list=[]):\n",
        "  dfs_list.append(node)   # 리스트에 인접한 노드를 덧붙이는 형태\n",
        "\n",
        "  for i in dfs_graph[node]:   # 노드의 인접한 노드를 기준으로 반복한다. \n",
        "    ##### 재귀개념에 대한 로직을 작성해보세요 #####\n",
        "  return dfs_list\n",
        "\n",
        "dfs_recur(2)  # 시작노드"
      ],
      "execution_count": null,
      "outputs": []
    },
    {
      "cell_type": "code",
      "metadata": {
        "colab": {
          "base_uri": "https://localhost:8080/"
        },
        "id": "bIANRDU7liaB",
        "outputId": "53298e3a-a706-4655-add0-7e6976cbdc0a"
      },
      "source": [
        "a='qwe'\n",
        "list(a)"
      ],
      "execution_count": 9,
      "outputs": [
        {
          "output_type": "execute_result",
          "data": {
            "text/plain": [
              "['q', 'w', 'e']"
            ]
          },
          "metadata": {},
          "execution_count": 9
        }
      ]
    },
    {
      "cell_type": "code",
      "metadata": {
        "colab": {
          "base_uri": "https://localhost:8080/"
        },
        "id": "cUHg6_qH9DVr",
        "outputId": "59b4be6a-37bf-4de0-effc-5909e461c24e"
      },
      "source": [
        "list(str(24))"
      ],
      "execution_count": 10,
      "outputs": [
        {
          "output_type": "execute_result",
          "data": {
            "text/plain": [
              "['2', '4']"
            ]
          },
          "metadata": {},
          "execution_count": 10
        }
      ]
    },
    {
      "cell_type": "code",
      "metadata": {
        "id": "CdCZcnnT5XAk"
      },
      "source": [
        "char_combi('2')"
      ],
      "execution_count": null,
      "outputs": []
    },
    {
      "cell_type": "code",
      "metadata": {
        "id": "msTALDk982Rw"
      },
      "source": [
        "char_combi('24')"
      ],
      "execution_count": null,
      "outputs": []
    },
    {
      "cell_type": "code",
      "metadata": {
        "id": "TWdKMhOZ84W-"
      },
      "source": [
        "def char_combi(num):\n",
        "    def dfs():\n",
        "        pass\n",
        "    \n",
        "    test_dict = {\"2\": \"qwe\", \"3\": \"asd\", \"4\": \"zxc\"}\n",
        "\n",
        "    return test_result"
      ],
      "execution_count": null,
      "outputs": []
    },
    {
      "cell_type": "code",
      "metadata": {
        "id": "Pt2Hbp9SAAOl"
      },
      "source": [
        "test_dict = {\"2\": \"qwe\", \"3\": \"asd\", \"4\": \"zxc\"}\n",
        "dict_num21={}\n",
        "dict_num22={}\n",
        "dict_num23={}\n",
        "\n",
        "dict_num21[list(test_dict[\"2\"])[0]] = list(test_dict[\"3\"])\n",
        "dict_num22[list(test_dict[\"2\"])[1]] = list(test_dict[\"3\"])\n",
        "dict_num23[list(test_dict[\"2\"])[2]] = list(test_dict[\"3\"])                                     "
      ],
      "execution_count": 27,
      "outputs": []
    },
    {
      "cell_type": "code",
      "metadata": {
        "id": "rKFiqjKrACnd"
      },
      "source": [
        "dict_num31={}\n",
        "dict_num32={}\n",
        "dict_num33={}\n",
        "\n",
        "dict_num31[list(test_dict[\"3\"])[0]] = list(test_dict[\"4\"])\n",
        "dict_num32[list(test_dict[\"3\"])[1]] = list(test_dict[\"4\"])\n",
        "dict_num33[list(test_dict[\"3\"])[2]] = list(test_dict[\"4\"]) "
      ],
      "execution_count": 29,
      "outputs": []
    },
    {
      "cell_type": "code",
      "metadata": {
        "colab": {
          "base_uri": "https://localhost:8080/"
        },
        "id": "sKHvk2atDbHo",
        "outputId": "69d1f224-f9b7-4472-9e38-de045ee9391a"
      },
      "source": [
        "print(dict_num21)\n",
        "print(dict_num22)\n",
        "print(dict_num23)\n",
        "print(dict_num31)\n",
        "print(dict_num32)\n",
        "print(dict_num33)"
      ],
      "execution_count": 30,
      "outputs": [
        {
          "output_type": "stream",
          "name": "stdout",
          "text": [
            "{'q': ['a', 's', 'd']}\n",
            "{'w': ['a', 's', 'd']}\n",
            "{'e': ['a', 's', 'd']}\n",
            "{'a': ['z', 'x', 'c']}\n",
            "{'s': ['z', 'x', 'c']}\n",
            "{'d': ['z', 'x', 'c']}\n"
          ]
        }
      ]
    },
    {
      "cell_type": "code",
      "metadata": {
        "id": "Ylsobe_LEJdN"
      },
      "source": [
        "test_dict = {\"2\": \"qwe\", \"3\": \"asd\", \"4\": \"zxc\"}\n",
        "\n",
        "def dfs(num):\n",
        "    # num을 문자열로 처리 후 파싱\n",
        "    path = []\n",
        "    parsing_num = list(str(num))  # if 234 -> ['2','3','4']\n",
        "    \n",
        "    # 파싱한 키값에 대한 벨류값 찾고, 벨류값 파싱\n",
        "    for number in parsing_num: \n",
        "        value = test_dict[number]  # 파싱넘버에 대한 벨류값\n",
        "        path.append(list(value)) # 벨류값 파싱해서 path 리스트에 추가\n",
        "    # print(path)   # 파싱된 문자열들이 리스트에 들어갔는지 확인.\n",
        "\n",
        "\n",
        "    # 벨류값으로 인접그래프 만들기.\n",
        "    dfs_graph = {}\n",
        "\n",
        "    # 반복문을 통해 value리스트를 하나씩 불러오기.\n",
        "    for i in range(len(path)):\n",
        "        # 리스트의 마지막값은 더이상 연결할 노드값이 없으므로 제외 + 한자리수 숫자가 입력되었을 때도 빈 리스트를 벨류값으로 인접리스트 만들기.\n",
        "        if (i == len(path)-1) and (dfs_graph != {}):    # 만약 (dfs_graph != {})을 제외하면 한자릿수 숫자일 때 빈 딕셔너리가 리턴된다.(if num == 2,  len(path) = 1, 0 == 1-1 성립)\n",
        "            break\n",
        "\n",
        "        # 키값 추출 + 벨류값 설정    \n",
        "        for j in range(len(path[i])):\n",
        "            if len(path) ==1:\n",
        "                dfs_graph[path[i][j]] = []\n",
        "            else:\n",
        "                dfs_graph[path[i][j]] = path[i+1]\n",
        "\n",
        "    return dfs_graph                           \n",
        "\n",
        "\n",
        "### 앞에 키가되는 숫자를 빼버리니까 알파벳이 입력하는 숫자정렬로 나오질 않잖아.... ㅠ ㅠ"
      ],
      "execution_count": 86,
      "outputs": []
    },
    {
      "cell_type": "code",
      "metadata": {
        "id": "6abUEmoa2kyZ"
      },
      "source": [
        "test_dict = {\"2\": \"qwe\", \"3\": \"asd\", \"4\": \"zxc\"}\n",
        "\n",
        "def dfs(num):\n",
        "    # num을 문자열로 처리 후 파싱\n",
        "    path = []\n",
        "    parsing_num = list(str(num))  # if 234 -> ['2','3','4']\n",
        "    path.append(parsing_num)\n",
        "    # 파싱한 키값에 대한 벨류값 찾고, 벨류값 파싱\n",
        "    for number in parsing_num: \n",
        "        value = test_dict[number]  # 파싱넘버에 대한 벨류값\n",
        "        path.append(list(value)) # 벨류값 파싱해서 path 리스트에 추가\n",
        "    # print(path)   # 파싱된 문자열들이 리스트에 들어갔는지 확인.\n",
        "\n",
        "\n",
        "    # 벨류값으로 인접그래프 만들기.\n",
        "    dfs_graph = {}\n",
        "\n",
        "    # 숫자에 대한 간선만들기.\n",
        "    for i in range(len(path)-1):  # ex) len(path)=4, i= 0,1,2,3\n",
        "        dfs_graph[path[0][i]] = path[-(len(path)-i-1)]  # 키는 path의 [0]에서 한개씩 할당 -- ex) 4-0-1, 4-1-1, 4-2-1\n",
        "\n",
        "    # 숫자간선과 알파벳 간선은 연결되는 방향이 다르다. 알파벳 간선을 만들기위해 숫자노드에 해당하는 리스트[0] 없애기.\n",
        "    del path[0]\n",
        "\n",
        "    # 알파벳에 대한 간선만들기.\n",
        "    for i in range(len(path)):\n",
        "        # 리스트의 마지막값은 더이상 연결할 노드값이 없으므로 제외 + 한자리수 숫자가 입력되었을 때도 빈 리스트를 벨류값으로 인접리스트 만들기.\n",
        "        if (i == len(path)-1) and (len(dfs_graph) > 1):    # 만약 (len(dfs_graph) > 1)을 제외하면 한자릿수 숫자일 때 마지막 노드에 대한 정보를 출력하지 않는다. (if num == '3',  len(path) = 1, 0 == 1-1 성립)\n",
        "            break\n",
        "\n",
        "        # 키값 추출 + 벨류값 설정    \n",
        "        for j in range(len(path[i])):\n",
        "            if len(path) ==1:\n",
        "                dfs_graph[path[i][j]] = []\n",
        "            else:\n",
        "                dfs_graph[path[i][j]] = path[i+1]\n",
        "\n",
        "    return dfs_graph\n",
        "\n",
        "# 잘된다... 성공은 했는데 어지러워 ㅠㅠ"
      ],
      "execution_count": 118,
      "outputs": []
    },
    {
      "cell_type": "code",
      "metadata": {
        "colab": {
          "base_uri": "https://localhost:8080/"
        },
        "id": "uFjE6PqghN2M",
        "outputId": "c317076c-f413-4656-945b-6892c27b9f23"
      },
      "source": [
        "dfs(23)"
      ],
      "execution_count": 122,
      "outputs": [
        {
          "output_type": "execute_result",
          "data": {
            "text/plain": [
              "{'2': ['q', 'w', 'e'],\n",
              " '3': ['a', 's', 'd'],\n",
              " 'e': ['a', 's', 'd'],\n",
              " 'q': ['a', 's', 'd'],\n",
              " 'w': ['a', 's', 'd']}"
            ]
          },
          "metadata": {},
          "execution_count": 122
        }
      ]
    },
    {
      "cell_type": "code",
      "metadata": {
        "colab": {
          "base_uri": "https://localhost:8080/"
        },
        "id": "mjk_MnS512EB",
        "outputId": "0540102d-f411-419c-b250-2ebab0e63b7b"
      },
      "source": [
        "for key in dfs(24).keys():\n",
        "    print(key)"
      ],
      "execution_count": 89,
      "outputs": [
        {
          "output_type": "stream",
          "name": "stdout",
          "text": [
            "q\n",
            "w\n",
            "e\n"
          ]
        }
      ]
    },
    {
      "cell_type": "code",
      "metadata": {
        "id": "3rFDQENHhUe-"
      },
      "source": [
        "def dfs_recur(node, dfs_graph, dfs_list=[]):\n",
        "    dfs_list.append(node)\n",
        "    "
      ],
      "execution_count": 77,
      "outputs": []
    },
    {
      "cell_type": "code",
      "metadata": {
        "id": "g0GnGHmStkj2"
      },
      "source": [
        "graph = {}\n",
        "for i in range(len(b)):\n",
        "    if i == len(b)-1:\n",
        "        break\n",
        "    for j in range(len(b[i])):\n",
        "        graph[b[i][j]] = b[i+1]"
      ],
      "execution_count": 65,
      "outputs": []
    },
    {
      "cell_type": "code",
      "metadata": {
        "colab": {
          "base_uri": "https://localhost:8080/"
        },
        "id": "FHZa5fLsuyAU",
        "outputId": "88a4a4b3-07c9-4041-b954-388ea3a8dee9"
      },
      "source": [
        "graph  # 오오 제가 해냈습니다!!! 짝짝짝 "
      ],
      "execution_count": 66,
      "outputs": [
        {
          "output_type": "execute_result",
          "data": {
            "text/plain": [
              "{'a': ['z', 'x', 'c'],\n",
              " 'd': ['z', 'x', 'c'],\n",
              " 'e': ['a', 's', 'd'],\n",
              " 'q': ['a', 's', 'd'],\n",
              " 's': ['z', 'x', 'c'],\n",
              " 'w': ['a', 's', 'd']}"
            ]
          },
          "metadata": {},
          "execution_count": 66
        }
      ]
    },
    {
      "cell_type": "code",
      "metadata": {
        "id": "d92cjTgSBQtJ"
      },
      "source": [
        "test_dict = {\"2\": \"qwe\", \"3\": \"asd\", \"4\": \"zxc\"}\n",
        "\n",
        "def dfs(num):\n",
        "    # num을 문자열로 처리 후 파싱\n",
        "    path = []\n",
        "    parsing_num = list(str(num))  # if 234 -> ['2','3','4']\n",
        "    path.append(parsing_num)\n",
        "    # 파싱한 키값에 대한 벨류값 찾고, 벨류값 파싱\n",
        "    for number in parsing_num: \n",
        "        value = test_dict[number]  # 파싱넘버에 대한 벨류값\n",
        "        path.append(list(value)) # 벨류값 파싱해서 path 리스트에 추가\n",
        "    # print(path)   # 파싱된 문자열들이 리스트에 들어갔는지 확인.\n",
        "\n",
        "\n",
        "    # 벨류값으로 인접그래프 만들기.\n",
        "    dfs_graph = {}\n",
        "\n",
        "    # 숫자에 대한 간선만들기.\n",
        "    for i in range(len(path)-1):  # ex) len(path)=4, i= 0,1,2,3\n",
        "        dfs_graph[path[0][i]] = path[-(len(path)-i-1)]  # 키는 path의 [0]에서 한개씩 할당 -- ex) 4-0-1, 4-1-1, 4-2-1\n",
        "\n",
        "    # 숫자간선과 알파벳 간선은 연결되는 방향이 다르다. 알파벳 간선을 만들기위해 숫자노드에 해당하는 리스트[0] 없애기.\n",
        "    del path[0]\n",
        "\n",
        "    # 알파벳에 대한 간선만들기.\n",
        "    for i in range(len(path)):\n",
        "        # 키값 추출 + 벨류값 설정    \n",
        "        for j in range(len(path[i])):\n",
        "            if (len(path) ==1) or (i == len(path)-1):  # 더이상 연결할 노드값이 없을때는 빈 리스트\n",
        "                dfs_graph[path[i][j]] = []\n",
        "            else:\n",
        "                dfs_graph[path[i][j]] = path[i+1]\n",
        "\n",
        "    return dfs_graph\n",
        "\n",
        "# 잘된다... 성공은 했는데 어지러워 ㅠㅠ"
      ],
      "execution_count": 123,
      "outputs": []
    },
    {
      "cell_type": "code",
      "metadata": {
        "colab": {
          "base_uri": "https://localhost:8080/"
        },
        "id": "k4vVDXGiM2Vn",
        "outputId": "d9cd71b8-cf18-4be6-a06f-bb14c41630db"
      },
      "source": [
        "dfs(2)"
      ],
      "execution_count": 126,
      "outputs": [
        {
          "output_type": "execute_result",
          "data": {
            "text/plain": [
              "{'2': ['q', 'w', 'e'], 'e': [], 'q': [], 'w': []}"
            ]
          },
          "metadata": {},
          "execution_count": 126
        }
      ]
    },
    {
      "cell_type": "code",
      "metadata": {
        "id": "b_rbNw6X0xrs"
      },
      "source": [
        "def char_combi(num):\n",
        "    test_dict = {\"2\": \"qwe\", \"3\": \"asd\", \"4\": \"zxc\"}\n",
        "\n",
        "    \"\"\"num을 받아서 인접그래프를 만듭니다.\"\"\"\n",
        "\n",
        "    # num을 문자열로 처리 후 파싱\n",
        "    path = []\n",
        "    parsing_num = list(str(num))  # if 234 -> ['2','3','4']\n",
        "    path.append(parsing_num)\n",
        "    # 파싱한 키값에 대한 벨류값 찾고, 벨류값 파싱\n",
        "    for number in parsing_num: \n",
        "        value = test_dict[number]  # 파싱넘버에 대한 벨류값\n",
        "        path.append(list(value)) # 벨류값 파싱해서 path 리스트에 추가\n",
        "    # print(path)   # 파싱된 문자열들이 리스트에 들어갔는지 확인.\n",
        "\n",
        "\n",
        "    # 벨류값으로 인접그래프 만들기.\n",
        "    dfs_graph = {}\n",
        "\n",
        "    # 숫자에 대한 간선만들기.\n",
        "    for i in range(len(path)-1):  # ex) len(path)=4, i= 0,1,2,3\n",
        "        dfs_graph[path[0][i]] = path[-(len(path)-i-1)]  # 키는 path의 [0]에서 한개씩 할당 -- ex) 4-0-1, 4-1-1, 4-2-1\n",
        "\n",
        "    # 숫자간선과 알파벳 간선은 연결되는 방향이 다르다. 알파벳 간선을 만들기위해 숫자노드에 해당하는 리스트[0] 없애기.\n",
        "    del path[0]\n",
        "\n",
        "    # 알파벳에 대한 간선만들기.\n",
        "    for i in range(len(path)):\n",
        "        # 키값 추출 + 벨류값 설정    \n",
        "        for j in range(len(path[i])):\n",
        "            if (len(path) ==1) or (i == len(path)-1):  # 더이상 연결할 노드값이 없을때는 빈 리스트\n",
        "                dfs_graph[path[i][j]] = []\n",
        "            else:\n",
        "                dfs_graph[path[i][j]] = path[i+1]\n",
        "\n",
        "\n",
        "\n",
        "    \"\"\"깊이우선탐색(DFS)에 대한 재귀함수입니다.\"\"\"\n",
        "    \n",
        "    def dfs(first_node, dfs_graph, dfs_list = []): # 출발노드 = num의 앞글자.\n",
        "        # first_node = 출발지점\n",
        "        # dfs_graph : 인접그래프\n",
        "        # dfs_list : 출발노드로부터 나올수있는 모든 경로\n",
        "\n",
        "        dfs_list.append(first_node) # 2,q,a,s,d,w,a,s,d,e,a,s,d\n",
        "        for i in dfs_graph[first_node]:\n",
        "            dfs(i,dfs_graph, dfs_list)\n",
        "        return dfs_list\n",
        "\n",
        "\n",
        "    \"\"\"DFS 진행 후 리턴값을 저장합니다.\"\"\"\n",
        "\n",
        "    first_node = parsing_num[0]\n",
        "    search_list = dfs(first_node, dfs_graph, dfs_list = [])\n",
        "\n",
        "\n",
        "    \"\"\"깊이우선탐색(DFS)으로 출력된 노드탐색리스트에서 규칙을 찾습니다\"\"\"\n",
        "    # 이 부분 3중 중첩문 말고 좀더 효율적인 코드없을까?\n",
        "\n",
        "    # 만약 입력한 숫자가 한자릿수일 때:\n",
        "    if len(parsing_num) == 1:\n",
        "        test_result = search_list[1:]\n",
        "\n",
        "    # 입력한 숫자가 두자릿수일 때:\n",
        "    elif len(parsing_num) == 2:\n",
        "        lis = []\n",
        "        for i in range(1,len(search_list),4):\n",
        "            for j in range(i+1,i+4) : \n",
        "                lis.append(search_list[i]+search_list[j])\n",
        "        test_result = lis\n",
        "    \n",
        "    # 입력한 숫자가 세자릿수일 때:\n",
        "    elif len(parsing_num) == 3:\n",
        "        lis = []\n",
        "        for i in range(1,len(search_list), 13):\n",
        "            for j in range(i+1, i+13, 4):\n",
        "                for k in range(j+1, j+4):\n",
        "                    lis.append(search_list[i]+search_list[j]+search_list[k])\n",
        "        test_result = lis\n",
        "\n",
        "    return test_result"
      ],
      "execution_count": 185,
      "outputs": []
    },
    {
      "cell_type": "code",
      "metadata": {
        "colab": {
          "base_uri": "https://localhost:8080/"
        },
        "id": "2PyYV8GDuymv",
        "outputId": "f4854fdf-22da-4ace-93cb-cd5ed76ac271"
      },
      "source": [
        "char_combi('23')"
      ],
      "execution_count": 190,
      "outputs": [
        {
          "output_type": "execute_result",
          "data": {
            "text/plain": [
              "['qa', 'qs', 'qd', 'wa', 'ws', 'wd', 'ea', 'es', 'ed']"
            ]
          },
          "metadata": {},
          "execution_count": 190
        }
      ]
    },
    {
      "cell_type": "code",
      "metadata": {
        "colab": {
          "base_uri": "https://localhost:8080/"
        },
        "id": "-Cia0E67BehI",
        "outputId": "65766863-41aa-4b09-ef9c-7650d5b3c455"
      },
      "source": [
        "l1= ['2', 'q', 'w', 'e']\n",
        "l2 = ['2', 'q', 'a', 's', 'd', 'w', 'a', 's', 'd', 'e', 'a', 's', 'd']  # 1,5,9 (4씩 늘어남) # 한 숫자당 3개의 문자라서 기준문자 중간에 3개씩 들어가니까.\n",
        "l3= ['2', 'q', 'a', 'z', 'x', 'c', 's', 'z', 'x', 'c', 'd', 'z', 'x', 'c', 'w', 'a', 'z', 'x', 'c', 's', 'z', 'x', 'c', 'd', 'z', 'x', 'c', 'e', 'a', 'z', 'x', 'c', 's', 'z', 'x', 'c', 'd', 'z', 'x', 'c'] \n",
        "# 1,(2, 6, 10) 14,(15, 19, 23), 27,(28, 32, 36)  # 기준점은 똑같이 4인데... 한 숫자당 3개의 문자. \n",
        "\n",
        "# 규칙찾기\n",
        "li = []\n",
        "for i,j in enumerate(search_list3):\n",
        "    if j == 'd':\n",
        "        print(i)"
      ],
      "execution_count": 181,
      "outputs": [
        {
          "output_type": "stream",
          "name": "stdout",
          "text": [
            "10\n",
            "23\n",
            "36\n"
          ]
        }
      ]
    },
    {
      "cell_type": "code",
      "metadata": {
        "colab": {
          "base_uri": "https://localhost:8080/"
        },
        "id": "D3E9fgarsbXX",
        "outputId": "c6c97e65-c4f3-4058-f3fb-21f14a455cc3"
      },
      "source": [
        "len(l3)"
      ],
      "execution_count": 179,
      "outputs": [
        {
          "output_type": "execute_result",
          "data": {
            "text/plain": [
              "40"
            ]
          },
          "metadata": {},
          "execution_count": 179
        }
      ]
    },
    {
      "cell_type": "code",
      "metadata": {
        "colab": {
          "base_uri": "https://localhost:8080/"
        },
        "id": "UAU3PVHfUfEi",
        "outputId": "10b1135e-7e2a-4081-8cdd-fc360a7fe97e"
      },
      "source": [
        "# 요소가 2개일 때\n",
        "lis = []\n",
        "for i in range(1,len(l2),4):\n",
        "    for j in range(i+1,i+4) : \n",
        "        lis.append(l2[i]+l2[j])\n",
        "lis"
      ],
      "execution_count": 157,
      "outputs": [
        {
          "output_type": "execute_result",
          "data": {
            "text/plain": [
              "['qa', 'qs', 'qd', 'wa', 'ws', 'wd', 'ea', 'es', 'ed']"
            ]
          },
          "metadata": {},
          "execution_count": 157
        }
      ]
    },
    {
      "cell_type": "code",
      "metadata": {
        "colab": {
          "base_uri": "https://localhost:8080/"
        },
        "id": "6Wm5nHsygFgr",
        "outputId": "6c154e77-7ddd-47b7-e94a-c6f7b02bc19d"
      },
      "source": [
        "# 요소가 3개일 때\n",
        "lis = []\n",
        "for i in range(1,len(l3), 13):\n",
        "    for j in range(i+1, i+13, 4):\n",
        "        for k in range(j+1, j+4):\n",
        "            lis.append(l3[i]+l3[j]+l3[k])\n",
        "\n",
        "print(lis, len(lis))"
      ],
      "execution_count": 183,
      "outputs": [
        {
          "output_type": "stream",
          "name": "stdout",
          "text": [
            "['qaz', 'qax', 'qac', 'qsz', 'qsx', 'qsc', 'qdz', 'qdx', 'qdc', 'waz', 'wax', 'wac', 'wsz', 'wsx', 'wsc', 'wdz', 'wdx', 'wdc', 'eaz', 'eax', 'eac', 'esz', 'esx', 'esc', 'edz', 'edx', 'edc'] 27\n"
          ]
        }
      ]
    },
    {
      "cell_type": "code",
      "metadata": {
        "colab": {
          "base_uri": "https://localhost:8080/"
        },
        "id": "Vstiv6doVJiC",
        "outputId": "457c9e8e-8d30-419b-9e17-5ae577d53366"
      },
      "source": [
        "lis\n"
      ],
      "execution_count": 156,
      "outputs": [
        {
          "output_type": "execute_result",
          "data": {
            "text/plain": [
              "['qa', 'qs', 'qd', 'wa', 'ws', 'wd', 'ea', 'es', 'ed']"
            ]
          },
          "metadata": {},
          "execution_count": 156
        }
      ]
    },
    {
      "cell_type": "code",
      "metadata": {
        "id": "2zpw7uOfdxwT"
      },
      "source": [
        ""
      ],
      "execution_count": null,
      "outputs": []
    }
  ]
}