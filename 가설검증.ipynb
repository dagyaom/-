{
  "nbformat": 4,
  "nbformat_minor": 0,
  "metadata": {
    "colab": {
      "name": "가설검증.ipynb",
      "private_outputs": true,
      "provenance": [],
      "authorship_tag": "ABX9TyNwG4Vf9NFGiTLWuKDLXESt",
      "include_colab_link": true
    },
    "kernelspec": {
      "name": "python3",
      "display_name": "Python 3"
    },
    "language_info": {
      "name": "python"
    }
  },
  "cells": [
    {
      "cell_type": "markdown",
      "metadata": {
        "id": "view-in-github",
        "colab_type": "text"
      },
      "source": [
        "<a href=\"https://colab.research.google.com/github/dagyaom/Python_Practice/blob/main/%EA%B0%80%EC%84%A4%EA%B2%80%EC%A6%9D.ipynb\" target=\"_parent\"><img src=\"https://colab.research.google.com/assets/colab-badge.svg\" alt=\"Open In Colab\"/></a>"
      ]
    },
    {
      "cell_type": "markdown",
      "metadata": {
        "id": "_znMb1Orb7rB"
      },
      "source": [
        "# 기술통계, 추리통계\n",
        "- 기술통계치란?(Descriptive Statistics)\n",
        "\n",
        "평균, 분산, 표준편차, 최빈값, 최소값, 중앙값, 사분위(1Q,2Q,3Q,4Q)...\n",
        "\n",
        "데이터를 대략적으로 표현해주는 통계량.\n",
        "\n",
        "→ 시각화 어떻게?\n",
        "\n",
        "1) boxplot\n",
        "\n",
        "2) violin plat\n",
        "\n",
        "- 추리통계치(Inferential Statistics)란?\n",
        "\n",
        "모집단의 표본을 추출해서 추론한 결과를 통해 모집단의 통계치를 알아보는 것.\n",
        "\n",
        "여러 샘플링 기법이 있음. \n",
        "\n",
        "1) 표본평균의 표준오차.(Standard Error)\n"
      ]
    },
    {
      "cell_type": "code",
      "metadata": {
        "id": "VXyMKSUTfFvx"
      },
      "source": [
        "df.descrive()\n",
        "# 디폴트 : count, mean, std, min, 25%, 50%, 75%, max"
      ],
      "execution_count": null,
      "outputs": []
    },
    {
      "cell_type": "markdown",
      "metadata": {
        "id": "WD2TAgHegQMe"
      },
      "source": [
        "# Hypothesis Test(가설검정)\n",
        "-정규화 과정을 거친 데이터를 써줘야 한다.(평균0, 표준편차 1인 데이터로 xcaling)\n",
        "\n",
        "(1) 가설수립(H0-귀무, H1(대립, 대안))\n",
        "\n",
        "(2) 데이터 파악(표본평균, 특정값)\n",
        " \n",
        "(3) 신뢰도 설정 \n",
        "\n",
        " :신뢰도 95%란? = 모수가 신뢰구간 안에 포함될 확률 95%, \n",
        " \n",
        " - 귀무가설이 틀렸지만 우연히 성립할 확률 5%\n",
        "\n",
        "(4) P-value는?\n",
        "\n",
        " : 주어진 가설에 대해 얼마나 근거가 있는지에 대한 값을 0~1사이의 값으로 scale한 지표.\n",
        "\n",
        " - p-value가 낮다(0에 가깝다 ) = 귀무가설이 틀렸을 확률이 높다.\n",
        "\n",
        "(5) 귀무, 대립 채택"
      ]
    },
    {
      "cell_type": "markdown",
      "metadata": {
        "id": "XjLgxteq1mgv"
      },
      "source": [
        "# 오류의 종류 4가지"
      ]
    },
    {
      "cell_type": "markdown",
      "metadata": {
        "id": "jMVNolF8kmUV"
      },
      "source": [
        "# Student T-test(독립표본 T검정)\n",
        "\n",
        "- 그룹의 평균값에 대해서 비교하는 가설검정. 단, 아래의 조건 하에서.\n",
        "- 샘플이 가져야 할 조건 : 독립성, 정규성(정규분포), 등분산성\n"
      ]
    },
    {
      "cell_type": "markdown",
      "metadata": {
        "id": "Trqwv1U2zr5O"
      },
      "source": [
        "- One Sample T-test : 샘플 vs 특정값\n",
        " - 1개의 sample값들의 **평균**이 특정값과 동일한가.\n",
        "\n",
        " - **One side test** : \n",
        " 샘플 데이터의 평균이 \"X\"보다 크다 혹은 작다 / 크지 않다 작지 않다. 를 검정하는 내용(한쪽만 고려하면 됨)\n",
        "\n",
        " - **Two side (tail / direction) test** : \n",
        " 샘플 데이터의 평균이 \"X\"와 같다 / 같지 않다. 를 검정하는 내용 (같지않을 때 양방향을 고려해야 하기 떄문. \n"
      ]
    },
    {
      "cell_type": "code",
      "metadata": {
        "id": "qPs9b-jrkwZM"
      },
      "source": [
        "from scipy import stats\n",
        "\n",
        "# ttest_1samp 함수의 파라미터 1) Sample 데이터, 2) 비교하려는 값\n",
        "\n",
        "stats.ttest_1samp(coinflips, .5)\n",
        "\n",
        "# p-value가 (1-Confidence(신뢰도 : 95%를 많이 쓴다.))보다 낮은 경우(pvalue는 0.05를 기준으로 함.), 귀무가설을 기각하고 대안 가설을 채택함\n",
        "# pvalue=0.5694721717152109)   pvalue : coinflips의 평균은 0.5일 것이다. 0.5가 아니라고 보기엔 좀 어렵다."
      ],
      "execution_count": null,
      "outputs": []
    },
    {
      "cell_type": "markdown",
      "metadata": {
        "id": "IEq6yGoY1Y1K"
      },
      "source": [
        "## 데이터의 정규성 확인"
      ]
    },
    {
      "cell_type": "code",
      "metadata": {
        "id": "nFsD2RR-1X36"
      },
      "source": [
        "from scipy.stats import normaltest\n",
        "import numpy as np\n",
        "\n",
        "sample = np.random.poisson(5, 1000) # normal 분포가 아님. poisson 분포. 넘파이에서 랜덤  바탕으로 시뮬레이터 분포를 만들되 포아섬 분포를 바탕으로 1000개짜리 데이터를 뽑아냄.\n",
        "normaltest(sample) # 그래서 샘플데이터가 정규성 나타내는지 아닌지 확인위해 노멀테스트를 import해보ㅔㅆ다. \n",
        "#p 벨류가 아주아주 작은걸 보아하니, 이 샘플은 정규분포로 보기엔 무리가 있구나."
      ],
      "execution_count": null,
      "outputs": []
    },
    {
      "cell_type": "code",
      "metadata": {
        "id": "m6QBCH5w1exM"
      },
      "source": [
        "sample2 = np.random.normal(size = 1000) # normal 분포\n",
        "normaltest(sample2) # 노말분포로 1000개를 만들었을 때 p벨류가 꽤 큼."
      ],
      "execution_count": null,
      "outputs": []
    },
    {
      "cell_type": "markdown",
      "metadata": {
        "id": "b_RCfiJ3yA6t"
      },
      "source": [
        "- Two Sample T-test : 샘플 vs 샘플\n",
        " - 2개의 샘플 값들의 **평균**이 동일한가.\n",
        " - 귀무가설 : 두 샘플의 평균은 같다.(차이가 없다. 두 샘플은 같은 데이터더라.)\n",
        " - 대안가설 : 두 샘플의 평균은 같지않다.(유의미한 차이가 있다. 즉, 다른 데이터더라)"
      ]
    },
    {
      "cell_type": "code",
      "metadata": {
        "id": "HHy1s6bRzeMX"
      },
      "source": [
        "stats.ttest_ind(coin1, coin2)"
      ],
      "execution_count": null,
      "outputs": []
    },
    {
      "cell_type": "markdown",
      "metadata": {
        "id": "GzwULhWba8SE"
      },
      "source": [
        "# chi-square\n",
        "- 데이터의 분포, 빈도, 비율에 대해 검정\n",
        "\n",
        "- parameter estimation이 필요하지 않기 때문에 non-parametric이라고 부름(비모수적 방법)\n",
        "- Categorical 데이터를 위한 모델링 (ex) a,,b,c 등 숫자아닌거)\n",
        "- 혹은 극단적 outlier가 있는 경우 매우매우 유효한 방식\n",
        "\n",
        "- 이런 검증이 왜 중요하냐. ? : 이 표본이 해당모집단을 얼마나 대표할수 있는지를 보는것. 예상과 실제가 다르면, 실제값이 예상값과 다르긴 하지만 계속 반복하면 결국은 예상값과 같아질 거니까 무시할 수 있어. 그렇지 않은경우 다른모집단에서 왔으므로..."
      ]
    },
    {
      "cell_type": "markdown",
      "metadata": {
        "id": "Ns_lGz1p2PJv"
      },
      "source": [
        "## One sample $\\chi^2$ test\n",
        "- 주어진 데이터가 특정 예상되는 분포와 **동일한 분포**를 나타내는지 알고자 할 때\n",
        "- 두 분포가 비슷하다 = 평균으로부터 떨어진 정도가 비슷하다.\n",
        "- 두 분포가 비슷하다는 뜻은? : 기대값과 예상값이 다르지 않다\n"
      ]
    },
    {
      "cell_type": "code",
      "metadata": {
        "id": "k4gVMFMAav55"
      },
      "source": [
        "import numpy as np\n",
        "from scipy.stats import chisquare  #카이스퀘어\n",
        "chisquare(s_obs, axis=None) # One sample chi-square"
      ],
      "execution_count": null,
      "outputs": []
    },
    {
      "cell_type": "markdown",
      "metadata": {
        "id": "7pgqeGhV4C1P"
      },
      "source": [
        "# Two sample $\\chi^2$ test\n",
        "- 귀무가설 : 독립적이야(두 변수간 연관이 없다.)\n",
        "-  대립가설 : 독립적이지 않아.(두 변수간 연관이 있다.)"
      ]
    },
    {
      "cell_type": "code",
      "metadata": {
        "id": "EsCTbxQj5aH0"
      },
      "source": [
        "chi2_contingency(obs3, correction = False)) "
      ],
      "execution_count": null,
      "outputs": []
    }
  ]
}