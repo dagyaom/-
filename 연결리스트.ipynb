{
  "nbformat": 4,
  "nbformat_minor": 0,
  "metadata": {
    "colab": {
      "name": "연결리스트.ipynb",
      "provenance": [],
      "collapsed_sections": [],
      "authorship_tag": "ABX9TyPbgCTWV2+MEg+GEdRdOoGi",
      "include_colab_link": true
    },
    "kernelspec": {
      "name": "python3",
      "display_name": "Python 3"
    },
    "language_info": {
      "name": "python"
    }
  },
  "cells": [
    {
      "cell_type": "markdown",
      "metadata": {
        "id": "view-in-github",
        "colab_type": "text"
      },
      "source": [
        "<a href=\"https://colab.research.google.com/github/dagyeom23658/Python_Practice/blob/main/%EC%97%B0%EA%B2%B0%EB%A6%AC%EC%8A%A4%ED%8A%B8.ipynb\" target=\"_parent\"><img src=\"https://colab.research.google.com/assets/colab-badge.svg\" alt=\"Open In Colab\"/></a>"
      ]
    },
    {
      "cell_type": "markdown",
      "metadata": {
        "id": "Kj-0JPKZzBUS"
      },
      "source": [
        "# Linked List\n",
        "1) 배열과 연결리스트 차이점\n",
        "- 배열 : 순차적으로 연결된 공간에 데이터를 나열하는 데이터구조\n",
        "- 연결리스트 : 떨어진 곳에 존재하는 데이터를 화살표로 연결해서 관리하는 데이터 구조\n",
        "\n",
        "2) 연결리스트의 구성요소\n",
        " - 노드(Node) : 데이터 저장 단위(데이터값, 포인터)로 구성된다.\n",
        " - 포인터(pointer) : 각 노드 안에서 다음이나 이전의 노드와의 연결정보를 가지고 있는 공간.\n",
        "\n",
        "3) 장점과 단점\n",
        "- 장점 \n",
        " - 데이터 공간을 미리 할당하지 않아도 된다.   # ★ --> 이 부분! 좀더 알아보기.\n",
        "   - 배열은 미리 데이터 공간을 할당해야 한다.\n",
        "- 단점\n",
        " - 연결을 위한 별도 데이터 공간이 필요하므로, 저장공간 효율이 높지 않다. \n",
        " - 연결정보를 찾는 시간이 필요하므로 접근 속도가 느리다.\n",
        " - 중간 데이터 삭제시, 앞뒤 데이터의 연결을 재구성해야 하는 부가적인 작업이 필요하다. (유지관리에 부가적인 구현이 필요)\n",
        "\n",
        "4) 빅오표기법\n",
        "\n",
        "https://velog.io/@grinding_hannah/CS-%EC%9E%90%EB%A3%8C%EA%B5%AC%EC%A1%B0-Big-O-%ED%91%9C%EA%B8%B0%EB%B2%95-%EB%A7%81%ED%81%AC%EB%93%9C-%EB%A6%AC%EC%8A%A4%ED%8A%B8Linked-List\n",
        "\n"
      ]
    },
    {
      "cell_type": "markdown",
      "metadata": {
        "id": "Nj4L3M6_z33T"
      },
      "source": [
        "![image.png](data:image/png;base64,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)"
      ]
    },
    {
      "cell_type": "markdown",
      "metadata": {
        "id": "OvbPAg7T5nm5"
      },
      "source": [
        "## 연결리스트 구현을 위한 의사코드 작성하기.\n",
        "\n",
        "1. 노드\n",
        "- 1) 값\n",
        "- 2) 포인터\n",
        "2. 연결리스트\n",
        "- 1) 헤드 정의\n",
        "3. 추가기능\n",
        "- 1) 헤드가 존재하는지 안하는지.\n",
        " - 헤드 x : 헤드추가\n",
        " - 헤드 o : '현재노드'를 헤드로 지정.\n",
        "   - 반복문으로 다음노드가 None 이 될때까지\n",
        "   '현재노드'에 '다음노드'를 할당.\n",
        "   - None이 되면 포인터에 다음노드의 위치정보 추가.\n",
        "\n",
        "4. 삭제기능\n",
        "- 1) 헤드 존재유부 확인\n",
        " - 헤드 x : None 반환\n",
        " - 헤드 o :\n",
        "   - 헤드 == 찾는값 : 다음 노드를 헤드로 만들고, 헤드는 삭제. \n",
        "   - 헤드 != 찾는값 : 반복문으로 다음노드 정보를 확인\n",
        "     - if 다음노드 == 찾는값 : 다음노드를 다다음 노드로 지정, 다음노드 삭제\n",
        "     - else 다음노드 != 찾는값 : 현재노드를 다음노드로 지정 후 다시 반복문."
      ]
    },
    {
      "cell_type": "code",
      "metadata": {
        "id": "K-_zBJToWl0t"
      },
      "source": [
        "# 노드(데이터 1개의 저장단위) 정의\n",
        "class Node:\n",
        "    def __init__(self, data):\n",
        "        self.data = data   # 데이터값\n",
        "        self.next = None   # 포인터\n",
        "\n",
        "# 연결리스트 구현\n",
        "class linked_list:\n",
        "\n",
        "    # 헤드 정의\n",
        "    def __init__(self, value):\n",
        "        self.head = Node(value)  # Node인스턴스를 할당하고, linked_list인스턴스를 할당하면, 생성자로 이미70ㅐ 헤드가 정의되는데, 왜 삽입노드메서드에서 head==None이 있을까? 있을 이유가 뭘까?\n",
        "    \n",
        "    # 연결리스트의 추가기능 구현\n",
        "    def add_node(self, val):\n",
        "        if self.head == None:\n",
        "            self.head = Node(val)    # self.head는 Node(value)의 인스턴스이며, 객체이다. 그런데, 사용자정의클래스는 mutable(변경가능한) 객체이다.  https://hun-developer.tistory.com/2  즉, 인스턴스 생성 후 값이 변할 수 있다. https://zzonglove.tistory.com/21 , https://it-eldorado.tistory.com/11  https://elvanov.com/599\n",
        "        else:\n",
        "            node = self.head  # 현재위치노드를 헤드라고 하자.\n",
        "            while node.next:      # 다음노드가 존재한다면, 현재위치노드를 다음노드로 옮기기. 다음노드가 존재하지 않는다면 while문을 빠져나와서 node.next에 새로운 노드 할당하기. \n",
        "                node = node.next  #self.head 인스턴스에 self.head.next속성을 할당.\n",
        "            node.next = Node(val)  ## self.head인스턴스의 next속성에 새로운 노드를 할당함. init함수의 value. 이건 또 먼말이야?\n",
        "\n",
        "    # 연결리스트의 삭제 구현\n",
        "    def del_node(self, value):\n",
        "        if self.head == None:   # if self.head == '':  <-- 이것도 가능\n",
        "            print('해당 값을 가진 노드가 없습니다.')\n",
        "            return None\n",
        "        elif self.head.value == value:\n",
        "            temp = self.head\n",
        "            self.head = self.head.next   # 여기에 다음 노드를 할당해버린 시점에서 이미 기존노드 정보가 지워진 것 아닌가?? 굳이 temp변수에 self.head를 담아주고 temp변수를 지워주는 이유가 뭘까?\n",
        "            del temp        # 이 부분이 잘 이해가 안된다. 클래스가 리스트와 같은 mutable객체라고 했을 때, 이 원리를 리스트에 적용해보면 적용되지 않는다. \n"
      ],
      "execution_count": 1,
      "outputs": []
    },
    {
      "cell_type": "code",
      "metadata": {
        "id": "pHZAyCw3DdH6"
      },
      "source": [
        "# 노드 삽입 테스트\n",
        "node = Node(11)"
      ],
      "execution_count": 2,
      "outputs": []
    },
    {
      "cell_type": "code",
      "metadata": {
        "colab": {
          "base_uri": "https://localhost:8080/"
        },
        "id": "w4NDamoGExh7",
        "outputId": "3b8abc78-cc68-4e26-eb56-58198db5095b"
      },
      "source": [
        "a=linked_list(10)\n",
        "print(a.head.data)\n",
        "a.add_node(12)\n",
        "print(a.head.data)\n",
        "print(a.head.next)  #같은 값\n",
        "print(a.head.next.data)\n",
        "print(a.head.next.next)\n",
        "a.add_node(16)\n",
        "print(a.head.next)   #같은 값\n",
        "print(a.head.next.data)\n",
        "print(a.head.next.next)  # None 값이 아니다.\n",
        "print(a.head.next.next.data)"
      ],
      "execution_count": 14,
      "outputs": [
        {
          "output_type": "stream",
          "name": "stdout",
          "text": [
            "10\n",
            "10\n",
            "<__main__.Node object at 0x7ff78aea26d0>\n",
            "12\n",
            "None\n",
            "<__main__.Node object at 0x7ff78aea26d0>\n",
            "12\n",
            "<__main__.Node object at 0x7ff78add3d50>\n",
            "16\n"
          ]
        }
      ]
    },
    {
      "cell_type": "code",
      "metadata": {
        "colab": {
          "base_uri": "https://localhost:8080/",
          "height": 170
        },
        "id": "C15lAQ4F0w6S",
        "outputId": "1b75bb4c-b7a5-4b5b-8bb1-3a458a84290a"
      },
      "source": [
        "b = linked_list.add_node(16)"
      ],
      "execution_count": 3,
      "outputs": [
        {
          "output_type": "error",
          "ename": "TypeError",
          "evalue": "ignored",
          "traceback": [
            "\u001b[0;31m---------------------------------------------------------------------------\u001b[0m",
            "\u001b[0;31mTypeError\u001b[0m                                 Traceback (most recent call last)",
            "\u001b[0;32m<ipython-input-3-3d69daa52ed8>\u001b[0m in \u001b[0;36m<module>\u001b[0;34m()\u001b[0m\n\u001b[0;32m----> 1\u001b[0;31m \u001b[0mb\u001b[0m \u001b[0;34m=\u001b[0m \u001b[0mlinked_list\u001b[0m\u001b[0;34m.\u001b[0m\u001b[0madd_node\u001b[0m\u001b[0;34m(\u001b[0m\u001b[0;36m16\u001b[0m\u001b[0;34m)\u001b[0m\u001b[0;34m\u001b[0m\u001b[0;34m\u001b[0m\u001b[0m\n\u001b[0m",
            "\u001b[0;31mTypeError\u001b[0m: add_node() missing 1 required positional argument: 'val'"
          ]
        }
      ]
    },
    {
      "cell_type": "code",
      "metadata": {
        "id": "6-h84tSzWnLJ"
      },
      "source": [
        "def oneto100(num):\n",
        "    a= 0\n",
        "    for i in range(0,num+1):\n",
        "        a+=i\n",
        "    return a"
      ],
      "execution_count": null,
      "outputs": []
    },
    {
      "cell_type": "code",
      "metadata": {
        "id": "Ctks3DjDYIiG"
      },
      "source": [
        "def oneto100(num):\n",
        "    만약 range(num+1)의 갯수가 1개라면?\n",
        "        그냥 리스트의 1번 아이템을 반환하면 되고\n",
        "    그렇지 않으면\n",
        "        리스트의 1번 아이템 + 재귀함수(아이템의 나머지부분을 더한다.) "
      ],
      "execution_count": null,
      "outputs": []
    },
    {
      "cell_type": "code",
      "metadata": {
        "id": "ka5RPL9BY7ll"
      },
      "source": [
        "def oneto100(num):\n",
        "\n",
        "    if len(range(num+1)) == 1:\n",
        "        return num\n",
        "\n",
        "    else:\n",
        "        return "
      ],
      "execution_count": null,
      "outputs": []
    },
    {
      "cell_type": "code",
      "metadata": {
        "colab": {
          "base_uri": "https://localhost:8080/"
        },
        "id": "OvlurCHsYU0T",
        "outputId": "36515c3b-01a2-4558-814f-c5346a5d0cea"
      },
      "source": [
        "range(1)"
      ],
      "execution_count": null,
      "outputs": [
        {
          "output_type": "execute_result",
          "data": {
            "text/plain": [
              "range(0, 1)"
            ]
          },
          "metadata": {},
          "execution_count": 13
        }
      ]
    },
    {
      "cell_type": "code",
      "metadata": {
        "id": "d3x9d5bTbq4V"
      },
      "source": [
        "def factor(num1, num2):\n",
        "    # 첫번째 숫자의 약수를 구한다\n",
        "    # 두번째 숫자의 약수를 구한다.\n",
        "    # 약수 중 공통된 숫자를 구한다\n",
        "    # 공통된 숫자 중 가장 큰 숫자를 구한다. \n",
        "    list1= []\n",
        "    list2 = []\n",
        "    result = []\n",
        "    for i in range(1,num1+1):\n",
        "        if num1%i == 0:\n",
        "            list1.append(i)\n",
        "\n",
        "    for j in range(1,num2+1):\n",
        "        if num2%j == 0:\n",
        "            list2.append(j)\n",
        "\n",
        "    for k in list1:\n",
        "        if k in list2:\n",
        "            result.append(k)\n",
        "    \n",
        "    return max(result)"
      ],
      "execution_count": null,
      "outputs": []
    },
    {
      "cell_type": "code",
      "metadata": {
        "id": "ff1rBGrReHqT"
      },
      "source": [
        "# functools 모듈 사용\n",
        "```\n",
        "\n",
        "result = []\n",
        "\n",
        "def factor(num1, num2):\n",
        "    for i in range(2, min(num1, num2)) :\n",
        "        print(i)\n",
        "        if not (num1%i==0 and num2%i==0)  :\n",
        "            return '1'  # ?? ㅠㅠ\n",
        "        else num1%i==0 and num2%i==0:\n",
        "            return i*(factor(num1%i, num2%i))\n",
        "```\n",
        "이런 식으로 시도해보다가 결국 못풀었습니다 ㅠ"
      ],
      "execution_count": null,
      "outputs": []
    },
    {
      "cell_type": "code",
      "metadata": {
        "id": "_GxFPYfcurSj"
      },
      "source": [
        "# 소수구하기\n",
        "def 소수(num):\n",
        "    li = []\n",
        "    for i in range(len(num)):\n",
        "        li.append(i)\n",
        "    for i in range(len(num)):\n",
        "        if li[0]%i == 0:\n",
        "            li.remove\n",
        "    for j in li:\n",
        "        if li[]"
      ],
      "execution_count": null,
      "outputs": []
    },
    {
      "cell_type": "code",
      "metadata": {
        "colab": {
          "base_uri": "https://localhost:8080/"
        },
        "id": "_-hC3ZIhX5_I",
        "outputId": "9abe0d05-44b7-4ece-e9c3-6c31183b3052"
      },
      "source": [
        "19%7"
      ],
      "execution_count": null,
      "outputs": [
        {
          "output_type": "execute_result",
          "data": {
            "text/plain": [
              "5"
            ]
          },
          "metadata": {},
          "execution_count": 52
        }
      ]
    },
    {
      "cell_type": "code",
      "metadata": {
        "id": "bllNtSdoXJzH"
      },
      "source": [
        "# 노드 클래스 생성(해당 클래스는 검색알고리즘에 필요한 기본클래스이다.)\n",
        "\n",
        "class node:\n",
        "  def __init__(self, value):\n",
        "    self.value = value\n",
        "    self.left = None\n",
        "    self.right = None"
      ],
      "execution_count": 53,
      "outputs": []
    },
    {
      "cell_type": "code",
      "metadata": {
        "id": "sXUjNCwhbGyq"
      },
      "source": [
        "# 이진검색트리에 노드삽입 함수추가\n",
        "\n",
        "class binary_search_tree:\n",
        "  def __init__(self, head):\n",
        "    self.head = head\n",
        "\n",
        "  def insert_node(self, value):\n",
        "    self.base_node = self.head\n",
        "    while True:\n",
        "      if value < self.base_node.value:\n",
        "        if self.base_node.left != None:\n",
        "          self.base_node = self.base_node.left\n",
        "        else:\n",
        "          self.base_node.left = node(value)\n",
        "          break\n",
        "      else:\n",
        "        if self.base_node.right != None:\n",
        "          self.base_node = self.base_node.right\n",
        "        else:\n",
        "          self.base_node.right = node(value)\n",
        "          break"
      ],
      "execution_count": 54,
      "outputs": []
    },
    {
      "cell_type": "code",
      "metadata": {
        "id": "OF2HX6T1bKAP"
      },
      "source": [
        "class node:\n",
        "    def __init__(self, value):\n",
        "        self.left = None\n",
        "        self.right = None\n",
        "        self.value = value\n",
        "\n",
        "class binary_search_tree:\n",
        "    def __init__(self, head):\n",
        "        self.head = head\n",
        "\n",
        "    def insert_node(self, value):  # value값을 삽입하자. !!\n",
        "        self.current_node = self.head  # base_node는 클래스를 담는 인스턴스가 된다.(head에 node클래스가 들어감.)\n",
        "        while True:\n",
        "            if value < self.current_node.value:  # 만약 value값이 기저노드보다 작다면 왼쪽으로!\n",
        "                if self.current_node.left != None:  # 만약 기저노드의 왼쪽에 값이 있다면\n",
        "                    self.current_node = self.current_node.left  # 현재노드를 왼쪽으로 옮기고 다시 루프\n",
        "                else:    # 만약 기저노드의 왼쪽에 값이 없다면\n",
        "                    self.current_node.left = node(value)  # value값이 기저노드보다 크다면 왼쪽에 하나의 노드를 생성한다. \n",
        "                    break\n",
        "            else:  # 만약 value값이 기저노드보다 크다면 오른쪽으로!\n",
        "                if self.current_node.right != None:\n",
        "                    self.current_node = self.current_node.right\n",
        "                else:\n",
        "                    self.current_node.right = node(value)\n",
        "                    break\n",
        "\n",
        "    def search_node(self, value):\n",
        "        self.current_node = self.head\n",
        "        while self.current_node:\n",
        "            if self.current_node.value == value:\n",
        "                return True\n",
        "            else:\n",
        "                if value < self.current_node.value:\n",
        "                    self.current_node = self.current_node.left\n",
        "                else:\n",
        "                    self.current_node = self.current_node.right\n",
        "        return False"
      ],
      "execution_count": 65,
      "outputs": []
    },
    {
      "cell_type": "code",
      "metadata": {
        "id": "D0hNQB-4i4w4"
      },
      "source": [
        "head = node(16)  \n",
        "bt = binary_search_tree(head)"
      ],
      "execution_count": 66,
      "outputs": []
    },
    {
      "cell_type": "code",
      "metadata": {
        "colab": {
          "base_uri": "https://localhost:8080/"
        },
        "id": "R87YCcuUbMVA",
        "outputId": "8b46f2b3-3703-43e8-eb8a-dc8a598f1aed"
      },
      "source": [
        "bt.insert_node(12)\n",
        "bt.insert_node(19)\n",
        "bt.insert_node(11)\n",
        "bt.insert_node(13)\n",
        "bt.insert_node(18)\n",
        "bt.insert_node(20)\n",
        "bt.insert_node(9)\n",
        "bt.insert_node(8)\n",
        "bt.insert_node(10)\n",
        "\n",
        "print(bt.search_node(5))    #False\n",
        "print(bt.search_node(12))   #False\n",
        "print(bt.search_node(18))   #True\n",
        "\n",
        "head = node(1)  # 루트노드 지정\n",
        "bt = binary_search_tree(head) # binary_search_tree(node(1))"
      ],
      "execution_count": 67,
      "outputs": [
        {
          "output_type": "stream",
          "name": "stdout",
          "text": [
            "False\n",
            "True\n",
            "True\n"
          ]
        }
      ]
    },
    {
      "cell_type": "code",
      "metadata": {
        "id": "2a6xEqiQi3EV"
      },
      "source": [
        "def recursion_advanced(str):\n",
        "    if len(str) == 1 : \n",
        "        return str[0]\n",
        "    return str[-1]+recursion_advanced(str[:-1])"
      ],
      "execution_count": 73,
      "outputs": []
    },
    {
      "cell_type": "code",
      "metadata": {
        "colab": {
          "base_uri": "https://localhost:8080/",
          "height": 35
        },
        "id": "FqH2nXEPv-3h",
        "outputId": "9baabf58-e331-42b9-c9c9-ba674009ca85"
      },
      "source": [
        "recursion_advanced('testing...')"
      ],
      "execution_count": 74,
      "outputs": [
        {
          "output_type": "execute_result",
          "data": {
            "application/vnd.google.colaboratory.intrinsic+json": {
              "type": "string"
            },
            "text/plain": [
              "'...gnitset'"
            ]
          },
          "metadata": {},
          "execution_count": 74
        }
      ]
    },
    {
      "cell_type": "code",
      "metadata": {
        "colab": {
          "base_uri": "https://localhost:8080/",
          "height": 35
        },
        "id": "evmLkgbowDjV",
        "outputId": "7c07ffc9-7412-4a79-ebd6-fde2c0cfd568"
      },
      "source": [
        "a = 'testing...'\n",
        "a[:-2]"
      ],
      "execution_count": 72,
      "outputs": [
        {
          "output_type": "execute_result",
          "data": {
            "application/vnd.google.colaboratory.intrinsic+json": {
              "type": "string"
            },
            "text/plain": [
              "'testing.'"
            ]
          },
          "metadata": {},
          "execution_count": 72
        }
      ]
    },
    {
      "cell_type": "code",
      "metadata": {
        "id": "-crFmAFTwHu2"
      },
      "source": [
        ""
      ],
      "execution_count": null,
      "outputs": []
    }
  ]
}