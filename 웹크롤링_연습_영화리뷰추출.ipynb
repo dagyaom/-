{
  "nbformat": 4,
  "nbformat_minor": 0,
  "metadata": {
    "colab": {
      "name": "웹크롤링 연습.ipynb",
      "provenance": [],
      "collapsed_sections": [],
      "toc_visible": true,
      "authorship_tag": "ABX9TyOlLrYp59Tpvab2GQBo0PAm",
      "include_colab_link": true
    },
    "kernelspec": {
      "name": "python3",
      "display_name": "Python 3"
    },
    "language_info": {
      "name": "python"
    }
  },
  "cells": [
    {
      "cell_type": "markdown",
      "metadata": {
        "id": "view-in-github",
        "colab_type": "text"
      },
      "source": [
        "<a href=\"https://colab.research.google.com/github/dagyaom/Python_Practice/blob/main/%EC%9B%B9%ED%81%AC%EB%A1%A4%EB%A7%81_%EC%97%B0%EC%8A%B5_%EC%98%81%ED%99%94%EB%A6%AC%EB%B7%B0%EC%B6%94%EC%B6%9C.ipynb\" target=\"_parent\"><img src=\"https://colab.research.google.com/assets/colab-badge.svg\" alt=\"Open In Colab\"/></a>"
      ]
    },
    {
      "cell_type": "markdown",
      "metadata": {
        "id": "HHmlaB-hgS_q"
      },
      "source": [
        "# HTML\n",
        "\n",
        "\n",
        "- 웹 페이지에서 보여지는 것들이 어떻게 어떤 방식으로 보여져야 하는지 알려주는 마크업 언어\n",
        "\n",
        "## HTML Element\n",
        "-head\n",
        "-body\n",
        "-div\n",
        "-li\n",
        "....\n",
        "\n",
        "각 엘레먼트들은 태그를 통해 표현된다. \n",
        "- opening tag와 closing tag\n",
        "\n",
        "opening tag만 있는 것도 있다. \n",
        "- 빈 줄을 추가하는 \\<br>\n",
        "- 수평으로 줄긋은 \\<hr>\n",
        "\n",
        "## HTML Children\n",
        "하나의 html요소 안에 다른 요소를 추가할 수 있다. "
      ]
    },
    {
      "cell_type": "markdown",
      "metadata": {
        "id": "-L3TjuYShQU7"
      },
      "source": [
        "# CSS \n",
        "\n",
        "HTML 이 표현한 문서가 어떻게 표현이 되는지 알려주는 스타일시트 언어\n",
        "\n",
        "\n",
        "## CSS Selector\n",
        "- Type selector : p, div ...\n",
        "- Class selector : class\n",
        "- Id selector : id\n",
        "\n",
        "### 1) CSS는 요소의 위치에 따라 상위 요소의 스타일을 상속받는다. \n",
        "```\n",
        "<div style=\"color:red\">\n",
        "    <p>I have no style</p>\n",
        "</div>\n",
        "```\n",
        "\n",
        "- p 태그는 아무런 스타일이 적용이 되어 있지 않지만 상위 요소인 div 의 영향을 받게 된다.\n",
        "\n",
        "### 2) 동시에 여러 개의 요소들에 대한 스타일을 정할 때에는 보통 클래스를 지정해서 상속을 받도록 정한다.\n",
        "```\n",
        "<p class=\"banana\">I have a banana class</p>\n",
        "```\n",
        "```\n",
        ".banana {\n",
        "    color:\"yellow\";\n",
        "}\n",
        "```\n",
        "- 한번에 3개의 클래스를 동시에 부여할 수 있다. 그리고 CSS 에서는 따로따로 클래스를 정의해 스타일을 지정할 수가 있다.\n",
        "```\n",
        "<p class=\"banana fruit orange\">I have many classes</p>\n",
        "```\n",
        "\n",
        "\n",
        "\n",
        "### 3)  ID 는 보통 특정 HTML 요소를 가리킬 때에만 사용된다. https://bangu4.tistory.com/26\n",
        "\n",
        "\n",
        "\n"
      ]
    },
    {
      "cell_type": "markdown",
      "metadata": {
        "id": "OgFh885BoRNV"
      },
      "source": [
        "# DOM(Document Object Model)\n",
        "\n",
        "\n"
      ]
    },
    {
      "cell_type": "markdown",
      "metadata": {
        "id": "N-54O2VwLBgM"
      },
      "source": [
        "크롤링 읽어보기\n",
        "\n",
        "https://hogni.tistory.com/21\n",
        "https://victorydntmd.tistory.com/245\n",
        "https://doubly12f.tistory.com/64\n"
      ]
    },
    {
      "cell_type": "markdown",
      "metadata": {
        "id": "ZJnql4zYmWGc"
      },
      "source": [
        "# get_movie_code"
      ]
    },
    {
      "cell_type": "code",
      "metadata": {
        "colab": {
          "base_uri": "https://localhost:8080/"
        },
        "id": "LOaI0Nnryi7g",
        "outputId": "5462a329-7078-46aa-8fd6-3beb2de3daeb"
      },
      "source": [
        "reviews = [{'review_text': 'Wow...!', 'review_star': 7},\n",
        "           {'review_text': 'Okay movie', 'review_star': 6}]\n",
        "\n",
        "a = []\n",
        "for review in reviews:\n",
        "    print(review)\n",
        "    a.append(review)\n",
        "print(a)\n",
        "# sum(a)\n",
        "len(reviews)"
      ],
      "execution_count": null,
      "outputs": [
        {
          "output_type": "stream",
          "name": "stdout",
          "text": [
            "{'review_text': 'Wow...!', 'review_star': 7}\n",
            "{'review_text': 'Okay movie', 'review_star': 6}\n",
            "[{'review_text': 'Wow...!', 'review_star': 7}, {'review_text': 'Okay movie', 'review_star': 6}]\n"
          ]
        },
        {
          "output_type": "execute_result",
          "data": {
            "text/plain": [
              "2"
            ]
          },
          "metadata": {},
          "execution_count": 47
        }
      ]
    },
    {
      "cell_type": "code",
      "metadata": {
        "id": "ak8yG0IR3OKj"
      },
      "source": [
        "BASE_URL = \"https://movie.naver.com/movie\""
      ],
      "execution_count": null,
      "outputs": []
    },
    {
      "cell_type": "code",
      "metadata": {
        "id": "6E8QQJmBdwty"
      },
      "source": [
        "import requests\n",
        "from bs4 import BeautifulSoup\n",
        "import re\n",
        "def get_movie_code(movie_title):\n",
        "    \"\"\"\n",
        "    get_movie_code 함수는 영화 제목을 받으면 해당 영화 제목으로 검색했을 때\n",
        "    가장 먼저 나오는 영화의 아이디를 리턴합니다.\n",
        "\n",
        "    해당 영화의 아이디는 네이버에서 지정한대로 사용합니다. \n",
        "    여기에서 네이버에서 지정한 아이디란 예를 들어 다음과 같습니다:\n",
        "        - `https://movie.naver.com/` 에 접속\n",
        "        - 검색란에 영화 제목 (예: Soul) 입력 뒤 검색\n",
        "        - 해당 영화 페이지의 URL (예: `https://movie.naver.com/movie/bi/mi/basic.nhn?code=184517`) 의 'code=' 뒤에 나오는 숫자\n",
        "\n",
        "    파라미터:\n",
        "        - movie_title: 리뷰를 스크레이핑할 영화 제목이 담긴 문자열(str) 입니다.\n",
        "\n",
        "    리턴:\n",
        "        - 영화 아이디 번호: 네이버에서 지정한 영화의 아이디 번호가 담긴\n",
        "        숫자(int) 입니다.\n",
        "    \"\"\"\n",
        "    search_url = f\"{BASE_URL}/search/result.naver?query={movie_title}&section=all&ie=utf8\"  # f : 문자열 포매팅 https://blockdmask.tistory.com/429\n",
        "    page = requests.get(search_url)\n",
        "    soup = BeautifulSoup(page.content, 'html.parser')\n",
        "    movie_elements = soup.find('p', class_ = 'result_thumb').find('a')['href']\n",
        "    numbers = re.findall(\"\\d+\", movie_elements)\n",
        "    movie_code = int(numbers[0])\n",
        "\n",
        "    return movie_code"
      ],
      "execution_count": null,
      "outputs": []
    },
    {
      "cell_type": "markdown",
      "metadata": {
        "id": "xEkXiYZeGlp5"
      },
      "source": [
        "![20210920_114753.png](data:image/png;base64,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)"
      ]
    },
    {
      "cell_type": "code",
      "metadata": {
        "id": "Zjtt8qlK3zpO"
      },
      "source": [
        "movie_title = 'Soul'\n",
        "search_url = f\"{BASE_URL}/search/result.naver?query={movie_title}&section=all&ie=utf8\"  # 이걸 통해서 code를 받아온다. "
      ],
      "execution_count": null,
      "outputs": []
    },
    {
      "cell_type": "code",
      "metadata": {
        "colab": {
          "base_uri": "https://localhost:8080/"
        },
        "id": "Nj-_Tt2w3z1m",
        "outputId": "5adce196-96cc-48b0-f75e-cd68fd5d1e8d"
      },
      "source": [
        "import requests\n",
        "from bs4 import BeautifulSoup\n",
        "import re\n",
        "page = requests.get(search_url)  # 일단은 주소를 받아서.\n",
        "soup = BeautifulSoup(page.content, 'html.parser')  #뷰티풀숲으로 파싱을 하고,\n",
        "movie_elements = soup.find('p', class_ = 'result_thumb').find('a')['href']\n",
        "numbers = re.findall(\"\\d+\", movie_elements)\n",
        "int(numbers[0])"
      ],
      "execution_count": null,
      "outputs": [
        {
          "output_type": "execute_result",
          "data": {
            "text/plain": [
              "184517"
            ]
          },
          "metadata": {},
          "execution_count": 4
        }
      ]
    },
    {
      "cell_type": "markdown",
      "metadata": {
        "id": "5bkzoqOomPs-"
      },
      "source": [
        "# get_reviews "
      ]
    },
    {
      "cell_type": "code",
      "metadata": {
        "id": "6ZTt28HE7ICy"
      },
      "source": [
        "def get_reviews(movie_code, page_num=1):\n",
        "    \"\"\"\n",
        "    get_reviews 함수는 리뷰들이 담긴 리뷰 리스트를 리턴해주는 함수입니다.\n",
        "\n",
        "    각 리뷰는 다음과 같은 파이썬 딕셔너리 형태입니다:\n",
        "        {\n",
        "            'review_text': 리뷰 글이 담긴 문자열(str) 입니다,\n",
        "            'review_star': 리뷰 별점이 담긴 숫자(int) 입니다\n",
        "        }\n",
        "\n",
        "    파라미터:\n",
        "        - movie_code: 네이버에서 지정한 영화 아이디 번호가 담긴 숫자(int)\n",
        "        입니다.\n",
        "        - page_num: 리뷰를 몇 번째 리뷰 페이지에서 가져와야 하는지 담긴\n",
        "        숫자(int) 입니다. 아무것도 주어지지 않은 경우 기본값은 1 입니다.\n",
        "\n",
        "    리턴:\n",
        "        - 리뷰 리스트: 스크레이핑한 리뷰들이 각각 파이썬 딕셔너리로 위에 명시된\n",
        "        형태로 저장된 리스트입니다.\n",
        "    \"\"\"\n",
        "    review_url = f\"{BASE_URL}/point/af/list.naver?st=mcode&sword={movie_code}&target=after&page={page_num}\"\n",
        "    review_list = []\n",
        "\n",
        "    # 별점빼기.\n",
        "    page = requests.get(review_url)  # 일단은 주소를 받아서.\n",
        "    soup = BeautifulSoup(page.content, 'html.parser')  #뷰티풀숲으로 파싱을 하고,\n",
        "\n",
        "    movie_elements = soup.find_all('div', class_ = 'list_netizen_score')   #bs4.element.ResultSet 객체로 리턴된다. \n",
        "    list_review_star = []\n",
        "    for i in range(len(movie_elements)) :   # 갯수만큼 for문을 돌려서, \n",
        "        movie_star=movie_elements[i].contents[2]  # 2번째에 위치한 컨텐츠를 꺼낸다. \n",
        "        movie_str = str(movie_star)  # bs4.element.Tag로 반환되는데 문자열로 변경 후 re정규표현식에 넣어서 숫자만 꺼내준다. \n",
        "        numbers = re.findall(\"\\d+\", movie_str)  #re 정규표현식은 문자 or 바이트류 객체만 받는다. \n",
        "        review_star = int(numbers[0])\n",
        "        list_review_star.append(review_star)\n",
        "    # print(list_review_star)\n",
        "\n",
        "    # 리뷰빼기.\n",
        "\n",
        "    movie_elements = soup.find_all('td', class_ = 'title')\n",
        "    list_review_text = []\n",
        "    for i in range(len(movie_elements)):\n",
        "        sentence = movie_elements[i].contents[6]\n",
        "        review_text = ' '.join(sentence.split())\n",
        "        list_review_text.append(review_text)\n",
        "    # print(list_review_text)\n",
        "\n",
        "    for i in range(len(list_review_text)):  #for문을 갯수만큼 돌려서\n",
        "        # print(i)\n",
        "        dt_movie = dict()    # 빈 딕셔너리\n",
        "        dt_movie['review_text'] = list_review_text[i]   #딕셔너리에 텍스트 넣고\n",
        "        dt_movie['review_star'] = list_review_star[i]    #star도 넣고\n",
        "        # print(dt_movie)\n",
        "        review_list.append(dt_movie)  # 빈 리스트에 딕셔너리를 추가한다. \n",
        "\n",
        "    return review_list"
      ],
      "execution_count": null,
      "outputs": []
    },
    {
      "cell_type": "code",
      "metadata": {
        "id": "vHTx06Ao8zog"
      },
      "source": [
        "BASE_URL = \"https://movie.naver.com/movie\"\n",
        "review_url = f\"{BASE_URL}/point/af/list.naver?st=mcode&sword=184517&target=after&page=1\"\n",
        "# review_url = https://movie.naver.com/movie/point/af/list.naver?st=mcode&sword=184517&target=after&page=1"
      ],
      "execution_count": null,
      "outputs": []
    },
    {
      "cell_type": "code",
      "metadata": {
        "colab": {
          "base_uri": "https://localhost:8080/"
        },
        "id": "Y8e7Mpgc4Av2",
        "outputId": "5515a0dc-633c-4741-ba8a-1e7585e5ee6d"
      },
      "source": [
        "import requests\n",
        "from bs4 import BeautifulSoup\n",
        "import re\n",
        "page = requests.get(review_url)  # 일단은 주소를 받아서.\n",
        "soup = BeautifulSoup(page.content, 'html.parser')  #뷰티풀숲으로 파싱을 하고,\n",
        "\n",
        "movie_elements = soup.find_all('div', class_ = 'list_netizen_score')\n",
        "\n",
        "# type(movie_elements)  ## 리턴된 타입은 bs4.element.ResultSet 객체 입니다 --> find 나 select 는 단일 객체만 사용가능. \n",
        "# type(movie_elements[1])  ## 리턴된 타입은 bs4.element.Tag 객체 입니다\n",
        "\n",
        "movie=movie_elements[0].contents[2]  # movie_elements의 0번째 Tag를 꺼낸다. 그리고 2번째 내용물(별점)을 꺼낸다.    https://victorydntmd.tistory.com/245\n",
        "movie_str = str(movie)  # bs4.element.Tag로 반환되는데 문자열로 변경 후 re정규표현식에 넣어서 숫자만 꺼내준다.\n",
        "numbers = re.findall(\"\\d+\", movie_str)\n",
        "int(numbers[0])\n",
        "# numbers\n",
        "# movie_elements.string('em')\n",
        "# movie_element = movie_elements.select('em')\n",
        "# numbers = re.findall(\"\\d+\", movie_elements)\n",
        "# int(numbers[0])\n"
      ],
      "execution_count": null,
      "outputs": [
        {
          "output_type": "execute_result",
          "data": {
            "text/plain": [
              "1"
            ]
          },
          "metadata": {},
          "execution_count": 3
        }
      ]
    },
    {
      "cell_type": "code",
      "metadata": {
        "colab": {
          "base_uri": "https://localhost:8080/"
        },
        "id": "qjFWu0KrF0i0",
        "outputId": "2896152f-24d6-48a1-c89a-6c1886dcdccc"
      },
      "source": [
        "len(movie_elements)"
      ],
      "execution_count": null,
      "outputs": [
        {
          "output_type": "execute_result",
          "data": {
            "text/plain": [
              "10"
            ]
          },
          "metadata": {},
          "execution_count": 73
        }
      ]
    },
    {
      "cell_type": "code",
      "metadata": {
        "colab": {
          "base_uri": "https://localhost:8080/"
        },
        "id": "5Q5ZvXPEG4dD",
        "outputId": "6754a73b-e57a-40c5-ee15-d0643e6a39c9"
      },
      "source": [
        "movie_elements[0].contents[2]"
      ],
      "execution_count": null,
      "outputs": [
        {
          "output_type": "execute_result",
          "data": {
            "text/plain": [
              "<em>1</em>"
            ]
          },
          "metadata": {},
          "execution_count": 78
        }
      ]
    },
    {
      "cell_type": "code",
      "metadata": {
        "colab": {
          "base_uri": "https://localhost:8080/"
        },
        "id": "82horsz2HwnR",
        "outputId": "a779d095-d42b-4a08-9756-d9dc3b6cf6ee"
      },
      "source": [
        "type(movie_elements[0].contents[2])"
      ],
      "execution_count": null,
      "outputs": [
        {
          "output_type": "execute_result",
          "data": {
            "text/plain": [
              "bs4.element.Tag"
            ]
          },
          "metadata": {},
          "execution_count": 82
        }
      ]
    },
    {
      "cell_type": "code",
      "metadata": {
        "colab": {
          "base_uri": "https://localhost:8080/",
          "height": 35
        },
        "id": "tTrV0cdyHteU",
        "outputId": "299e3ba3-2eec-444b-cd26-9ac4e324818a"
      },
      "source": [
        "movie_str"
      ],
      "execution_count": null,
      "outputs": [
        {
          "output_type": "execute_result",
          "data": {
            "application/vnd.google.colaboratory.intrinsic+json": {
              "type": "string"
            },
            "text/plain": [
              "'<em>10</em>'"
            ]
          },
          "metadata": {},
          "execution_count": 202
        }
      ]
    },
    {
      "cell_type": "code",
      "metadata": {
        "colab": {
          "base_uri": "https://localhost:8080/"
        },
        "id": "nbq-xnpLD-Dj",
        "outputId": "eb7ddb81-4bf2-407a-e90d-a16a610ef264"
      },
      "source": [
        "# 일단 별점은 완성.\n",
        "import requests\n",
        "from bs4 import BeautifulSoup\n",
        "import re\n",
        "page = requests.get(review_url)  # 일단은 주소를 받아서.\n",
        "soup = BeautifulSoup(page.content, 'html.parser')  #뷰티풀숲으로 파싱을 하고,\n",
        "\n",
        "movie_elements = soup.find_all('div', class_ = 'list_netizen_score')   #bs4.element.ResultSet 객체로 리턴된다. \n",
        "\n",
        "for i in range(len(movie_elements)) :   # 갯수만큼 for문을 돌려서, \n",
        "    movie_star=movie_elements[i].contents[2]  # 2번째에 위치한 컨텐츠를 꺼낸다. \n",
        "    movie_str = str(movie_star)  # bs4.element.Tag로 반환되는데 문자열로 변경 후 re정규표현식에 넣어서 숫자만 꺼내준다. \n",
        "    numbers = re.findall(\"\\d+\", movie_str)  #re 정규표현식은 문자 or 바이트류 객체만 받는다. \n",
        "    review_star = int(numbers[0])\n",
        "    print(review_star)"
      ],
      "execution_count": null,
      "outputs": [
        {
          "output_type": "stream",
          "name": "stdout",
          "text": [
            "1\n",
            "10\n",
            "10\n",
            "10\n",
            "10\n",
            "8\n",
            "10\n",
            "9\n",
            "10\n",
            "10\n"
          ]
        }
      ]
    },
    {
      "cell_type": "code",
      "metadata": {
        "colab": {
          "base_uri": "https://localhost:8080/"
        },
        "id": "zhiFS1qMXQtc",
        "outputId": "a414827d-cbb7-4dac-ef1f-f3a52d4741d6"
      },
      "source": [
        "movie_elements[0]"
      ],
      "execution_count": null,
      "outputs": [
        {
          "output_type": "execute_result",
          "data": {
            "text/plain": [
              "<div class=\"list_netizen_score\">\n",
              "<span class=\"st_off\"><span class=\"st_on\" style=\"width:10%\">별점 - 총 10점 중</span></span><em>1</em>\n",
              "</div>"
            ]
          },
          "metadata": {},
          "execution_count": 21
        }
      ]
    },
    {
      "cell_type": "code",
      "metadata": {
        "id": "9GSis7dZXtnp"
      },
      "source": [
        "movie_elements[0].string # 왜 이게 안될까. 가져올 문자가 여러개라서 안되는걸까\n"
      ],
      "execution_count": null,
      "outputs": []
    },
    {
      "cell_type": "markdown",
      "metadata": {
        "id": "BsoM8G-SGJio"
      },
      "source": [
        "![20210920_114551.png](data:image/png;base64,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)"
      ]
    },
    {
      "cell_type": "code",
      "metadata": {
        "colab": {
          "base_uri": "https://localhost:8080/"
        },
        "id": "g-3EUnI09tpW",
        "outputId": "2f8c2af9-d9e7-4f40-fc85-d9c36dc89c6d"
      },
      "source": [
        "# 이제 리뷰를 빼내보자. title class에서 contents만 빼내도 되고, a herf에서 onclick속성값만 빼낸 후 re정규식으로 문자열만 빼낼수도 있다. \n",
        "\n",
        "import requests\n",
        "from bs4 import BeautifulSoup\n",
        "import re\n",
        "page = requests.get(review_url)  # 일단은 주소를 받아서.\n",
        "soup = BeautifulSoup(page.content, 'html.parser')  #뷰티풀숲으로 파싱을 하고,\n",
        "\n",
        "movie_elements = soup.find_all('td', class_ = 'title')\n",
        "for i in range(len(movie_elements)):\n",
        "    sentence = movie_elements[i].contents[6]\n",
        "    review_text = ' '.join(sentence.split())\n",
        "    print(review_text)"
      ],
      "execution_count": null,
      "outputs": [
        {
          "output_type": "stream",
          "name": "stdout",
          "text": [
            "인생을 매 순간을 즐기며 감사하며 산다는 것을 말하기 위해온갖 잡다한 생각과 도무지 이해 할 수 없는 내용을 집어 넣어멋진 그림 영상으로 설득하려 하는 것이 너무 안타까운 영화였습니다.우리 영혼에 대해서 너무 가치 없게 만든 영화라고 생각합니다.\n",
            "진짜 완전 대박 짱\n",
            "수단이 목적이 되려고 할 때 기억할 영화.\n",
            "\n",
            "\n",
            "\"소울\" 그 자체는 자유롭지만 결국 자리는 정해져있어\n",
            "너무 귀여워요 인생영화\n",
            "영상미가 돋보이고 귀엽다 애니에서 철학이라니.. 대단\n",
            "요약 : 개똥 밭에 굴러도 이승이 낫다. 그러니 즐겁게 살자.\n",
            "\n"
          ]
        }
      ]
    },
    {
      "cell_type": "code",
      "metadata": {
        "colab": {
          "base_uri": "https://localhost:8080/",
          "height": 53
        },
        "id": "yOROhmxBWkUN",
        "outputId": "f7137af4-8f0e-46aa-8fa2-6634ea48f189"
      },
      "source": [
        "sentence = movie_elements[5].contents[6]     #  bs4.element.NavigableString. 쓸데없는 띄워쓰기가 너무 많다.\n",
        "print(sentence.split())  #이렇게 하면 스페이스 기준으로 문장을 나눠서 리스트에 담아준다. \n",
        "sentence1 = ' '.join(sentence.split())  # 모든 공백을 제거하고 싶다면 이렇게..!\n",
        "sentence1"
      ],
      "execution_count": null,
      "outputs": [
        {
          "output_type": "stream",
          "name": "stdout",
          "text": [
            "['\"소울\"', '그', '자체는', '자유롭지만', '결국', '자리는', '정해져있어']\n"
          ]
        },
        {
          "output_type": "execute_result",
          "data": {
            "application/vnd.google.colaboratory.intrinsic+json": {
              "type": "string"
            },
            "text/plain": [
              "'\"소울\" 그 자체는 자유롭지만 결국 자리는 정해져있어'"
            ]
          },
          "metadata": {},
          "execution_count": 192
        }
      ]
    },
    {
      "cell_type": "code",
      "metadata": {
        "id": "AH9rEH59NA2l"
      },
      "source": [
        "movie_elements[0].string #태그 내 자식 태그가 둘이상이라서 무엇을 반환해야 하는지 명확하지 않아 None을 반환함. "
      ],
      "execution_count": null,
      "outputs": []
    },
    {
      "cell_type": "code",
      "metadata": {
        "colab": {
          "base_uri": "https://localhost:8080/"
        },
        "id": "WyMcVLW9ORgP",
        "outputId": "3e032ecc-3bcd-45aa-9ccd-cb4345107f23"
      },
      "source": [
        "# class title안에 a class가 또 하나 있는데, 여기서도 뺴내올 수 있다. \n",
        "movie_elements[0].contents[7]  "
      ],
      "execution_count": null,
      "outputs": [
        {
          "output_type": "execute_result",
          "data": {
            "text/plain": [
              "<a class=\"report\" href=\"#\" onclick=\"report('iyw1****', 'y9rtHjqXmbaqGv+vNnSG9MpzHc5+6U95LMUlW8ISb7Q=', '인생을 매 순간을 즐기며 감사하며 산다는 것을 말하기 위해온갖 잡다한 생각과 도무지 이해 할 수 없는 내용을 집어 넣어멋진 그림 영상으로 설득하려 하는 것이 너무 안타까운 영화였습니다.우리 영혼에 대해서 너무 가치 없게 만든 영화라고 생각합니다.', '17707808', 'point_after');\" style=\"color:#8F8F8F\" title=\"새 창\">신고</a>"
            ]
          },
          "metadata": {},
          "execution_count": 137
        }
      ]
    },
    {
      "cell_type": "code",
      "metadata": {
        "colab": {
          "base_uri": "https://localhost:8080/"
        },
        "id": "cBeU8fCiRffT",
        "outputId": "7dcd7319-cd3a-4a6b-db92-e65420cfe689"
      },
      "source": [
        "# 아래와 같은 방법도 있다. \n",
        "\n",
        "movie_elements = soup.find_all('a', class_ = 'report')\n",
        "for i in range(len(movie_elements)):\n",
        "    # print(movie_elements[i]['onclick'])  # onclick 속성값 빼내기.\n",
        "    string = movie_elements[i]['onclick']  # 문자열로 반환된다. \n",
        "    recompile = re.compile('[가-힣]+').findall(string)   # 한글만 추출. 하지만 이 경우 영어리뷰는 안담긴다는 단점이 있네.\n",
        "    print(\" \".join(recompile))    # 리스트를 구분자를 줘서 문자열로 반환."
      ],
      "execution_count": null,
      "outputs": [
        {
          "output_type": "stream",
          "name": "stdout",
          "text": [
            "인생을 매 순간을 즐기며 감사하며 산다는 것을 말하기 위해온갖 잡다한 생각과 도무지 이해 할 수 없는 내용을 집어 넣어멋진 그림 영상으로 설득하려 하는 것이 너무 안타까운 영화였습니다 우리 영혼에 대해서 너무 가치 없게 만든 영화라고 생각합니다\n",
            "진짜 완전 대박 짱\n",
            "수단이 목적이 되려고 할 때 기억할 영화\n",
            "\n",
            "\n",
            "소울 그 자체는 자유롭지만 결국 자리는 정해져있어\n",
            "너무 귀여워요 인생영화\n",
            "영상미가 돋보이고 귀엽다 애니에서 철학이라니 대단\n",
            "요약 개똥 밭에 굴러도 이승이 낫다 그러니 즐겁게 살자\n",
            "\n"
          ]
        }
      ]
    },
    {
      "cell_type": "code",
      "metadata": {
        "colab": {
          "base_uri": "https://localhost:8080/"
        },
        "id": "pCjbkRf0SR1T",
        "outputId": "f3fb8dd8-082f-4174-97b6-537ab3e9026d"
      },
      "source": [
        "# 연습\n",
        "str=movie_elements[1]['onclick']\n",
        "recompile = re.compile('[가-힣]+').findall(str)  # 한글만 추출. 하지만 이 경우 영어리뷰는 안담긴다는 단점이 있네.\n",
        "print(\" \".join(recompile))  # 리스트를 구분자를 줘서 문자열로 반환."
      ],
      "execution_count": null,
      "outputs": [
        {
          "output_type": "stream",
          "name": "stdout",
          "text": [
            "진짜 완전 대박 짱\n"
          ]
        }
      ]
    },
    {
      "cell_type": "code",
      "metadata": {
        "colab": {
          "base_uri": "https://localhost:8080/",
          "height": 244
        },
        "id": "h1_-WgyTPT03",
        "outputId": "730bdb54-dbaa-41d3-ad9d-55cf7e81d556"
      },
      "source": [
        "# 별점빼기.\n",
        "import requests\n",
        "from bs4 import BeautifulSoup\n",
        "import re\n",
        "page = requests.get(review_url)  # 일단은 주소를 받아서.\n",
        "soup = BeautifulSoup(page.content, 'html.parser')  #뷰티풀숲으로 파싱을 하고,\n",
        "\n",
        "movie_elements = soup.find_all('div', class_ = 'list_netizen_score')   #bs4.element.ResultSet 객체로 리턴된다. \n",
        "list_review_star = []\n",
        "for i in range(len(movie_elements)) :   # 갯수만큼 for문을 돌려서, \n",
        "    movie_star=movie_elements[i].contents[2]  # 2번째에 위치한 컨텐츠를 꺼낸다. \n",
        "    movie_str = str(movie_star)  # bs4.element.Tag로 반환되는데 문자열로 변경 후 re정규표현식에 넣어서 숫자만 꺼내준다. \n",
        "    numbers = re.findall(\"\\d+\", movie_str)  #re 정규표현식은 문자 or 바이트류 객체만 받는다. \n",
        "    review_star = int(numbers[0])\n",
        "    list_review_star.append(review_star)\n",
        "\n",
        "list_review_star"
      ],
      "execution_count": null,
      "outputs": [
        {
          "output_type": "error",
          "ename": "NameError",
          "evalue": "ignored",
          "traceback": [
            "\u001b[0;31m---------------------------------------------------------------------------\u001b[0m",
            "\u001b[0;31mNameError\u001b[0m                                 Traceback (most recent call last)",
            "\u001b[0;32m<ipython-input-10-2787680e8c4d>\u001b[0m in \u001b[0;36m<module>\u001b[0;34m()\u001b[0m\n\u001b[1;32m      3\u001b[0m \u001b[0;32mfrom\u001b[0m \u001b[0mbs4\u001b[0m \u001b[0;32mimport\u001b[0m \u001b[0mBeautifulSoup\u001b[0m\u001b[0;34m\u001b[0m\u001b[0;34m\u001b[0m\u001b[0m\n\u001b[1;32m      4\u001b[0m \u001b[0;32mimport\u001b[0m \u001b[0mre\u001b[0m\u001b[0;34m\u001b[0m\u001b[0;34m\u001b[0m\u001b[0m\n\u001b[0;32m----> 5\u001b[0;31m \u001b[0mpage\u001b[0m \u001b[0;34m=\u001b[0m \u001b[0mrequests\u001b[0m\u001b[0;34m.\u001b[0m\u001b[0mget\u001b[0m\u001b[0;34m(\u001b[0m\u001b[0mreview_url\u001b[0m\u001b[0;34m)\u001b[0m  \u001b[0;31m# 일단은 주소를 받아서.\u001b[0m\u001b[0;34m\u001b[0m\u001b[0;34m\u001b[0m\u001b[0m\n\u001b[0m\u001b[1;32m      6\u001b[0m \u001b[0msoup\u001b[0m \u001b[0;34m=\u001b[0m \u001b[0mBeautifulSoup\u001b[0m\u001b[0;34m(\u001b[0m\u001b[0mpage\u001b[0m\u001b[0;34m.\u001b[0m\u001b[0mcontent\u001b[0m\u001b[0;34m,\u001b[0m \u001b[0;34m'html.parser'\u001b[0m\u001b[0;34m)\u001b[0m  \u001b[0;31m#뷰티풀숲으로 파싱을 하고,\u001b[0m\u001b[0;34m\u001b[0m\u001b[0;34m\u001b[0m\u001b[0m\n\u001b[1;32m      7\u001b[0m \u001b[0;34m\u001b[0m\u001b[0m\n",
            "\u001b[0;31mNameError\u001b[0m: name 'review_url' is not defined"
          ]
        }
      ]
    },
    {
      "cell_type": "code",
      "metadata": {
        "colab": {
          "base_uri": "https://localhost:8080/"
        },
        "id": "Ar7_JQitazW9",
        "outputId": "8dfdfe9c-5ffb-40ad-fef8-425da379b5fa"
      },
      "source": [
        "# 리뷰빼기.\n",
        "\n",
        "movie_elements = soup.find_all('td', class_ = 'title')\n",
        "\n",
        "list_review_text = []\n",
        "for i in range(len(movie_elements)):\n",
        "    sentence = movie_elements[i].contents[6]\n",
        "    review_text = ' '.join(sentence.split())\n",
        "    list_review_text.append(review_text)\n",
        "\n",
        "list_review_text\n",
        "# 이걸 어떻게 딕셔너리로 묶을까?\n",
        "# 일단 키값을 넣고... \n",
        "\n",
        "    # 각 리뷰는 다음과 같은 파이썬 딕셔너리 형태입니다:\n",
        "\n",
        "            # 'review_text': 리뷰 글이 담긴 문자열(str) 입니다,\n",
        "            # 'review_star': 리뷰 별점이 담긴 숫자(int) 입니다\n",
        "\n"
      ],
      "execution_count": null,
      "outputs": [
        {
          "output_type": "execute_result",
          "data": {
            "text/plain": [
              "['인생을 매 순간을 즐기며 감사하며 산다는 것을 말하기 위해온갖 잡다한 생각과 도무지 이해 할 수 없는 내용을 집어 넣어멋진 그림 영상으로 설득하려 하는 것이 너무 안타까운 영화였습니다.우리 영혼에 대해서 너무 가치 없게 만든 영화라고 생각합니다.',\n",
              " '진짜 완전 대박 짱',\n",
              " '수단이 목적이 되려고 할 때 기억할 영화.',\n",
              " '',\n",
              " '',\n",
              " '\"소울\" 그 자체는 자유롭지만 결국 자리는 정해져있어',\n",
              " '너무 귀여워요 인생영화',\n",
              " '영상미가 돋보이고 귀엽다 애니에서 철학이라니.. 대단',\n",
              " '요약 : 개똥 밭에 굴러도 이승이 낫다. 그러니 즐겁게 살자.',\n",
              " '']"
            ]
          },
          "metadata": {},
          "execution_count": 11
        }
      ]
    },
    {
      "cell_type": "code",
      "metadata": {
        "colab": {
          "base_uri": "https://localhost:8080/"
        },
        "id": "IcjInLQJgyAo",
        "outputId": "8fa7076d-42b1-4acb-e9bc-fc03e2199ead"
      },
      "source": [
        "review_list = []  #빈 리스트\n",
        "\n",
        "\n",
        "for i in range(len(list_review_text)):  #for문을 갯수만큼 돌려서\n",
        "    # print(i)\n",
        "    dt_movie = dict()    #빈 딕셔너리\n",
        "    dt_movie['review_text'] = list_review_text[i]   #딕셔너리에 텍스트 넣고\n",
        "    dt_movie['review_star'] = list_review_star[i]    #star도 넣고\n",
        "    # print(dt_movie)\n",
        "    review_list.append(dt_movie)  #빈 리스트에 딕셔너리를 추가한다. \n",
        "\n",
        "print(review_list)\n",
        "\n",
        "\n",
        "### 해냈어!!!!!!!!!!!!!!!!!!!!! "
      ],
      "execution_count": null,
      "outputs": [
        {
          "output_type": "stream",
          "name": "stdout",
          "text": [
            "[{'review_text': '인생을 매 순간을 즐기며 감사하며 산다는 것을 말하기 위해온갖 잡다한 생각과 도무지 이해 할 수 없는 내용을 집어 넣어멋진 그림 영상으로 설득하려 하는 것이 너무 안타까운 영화였습니다.우리 영혼에 대해서 너무 가치 없게 만든 영화라고 생각합니다.', 'review_star': 1}, {'review_text': '진짜 완전 대박 짱', 'review_star': 10}, {'review_text': '수단이 목적이 되려고 할 때 기억할 영화.', 'review_star': 10}, {'review_text': '', 'review_star': 10}, {'review_text': '', 'review_star': 10}, {'review_text': '\"소울\" 그 자체는 자유롭지만 결국 자리는 정해져있어', 'review_star': 8}, {'review_text': '너무 귀여워요 인생영화', 'review_star': 10}, {'review_text': '영상미가 돋보이고 귀엽다 애니에서 철학이라니.. 대단', 'review_star': 9}, {'review_text': '요약 : 개똥 밭에 굴러도 이승이 낫다. 그러니 즐겁게 살자.', 'review_star': 10}, {'review_text': '', 'review_star': 10}]\n"
          ]
        }
      ]
    },
    {
      "cell_type": "code",
      "metadata": {
        "colab": {
          "base_uri": "https://localhost:8080/"
        },
        "id": "6_EsJRfihxD_",
        "outputId": "c6320c6d-50d9-49dd-f958-a73238e6c71a"
      },
      "source": [
        "len(list_review_star)"
      ],
      "execution_count": null,
      "outputs": [
        {
          "output_type": "execute_result",
          "data": {
            "text/plain": [
              "10"
            ]
          },
          "metadata": {},
          "execution_count": 45
        }
      ]
    },
    {
      "cell_type": "code",
      "metadata": {
        "colab": {
          "base_uri": "https://localhost:8080/"
        },
        "id": "wXNKlHGbhAYC",
        "outputId": "db403bf0-ef8e-4957-92e4-82ba8552d7b8"
      },
      "source": [
        "print(list_review_text)"
      ],
      "execution_count": null,
      "outputs": [
        {
          "output_type": "stream",
          "name": "stdout",
          "text": [
            "[]\n"
          ]
        }
      ]
    },
    {
      "cell_type": "code",
      "metadata": {
        "id": "LQUEn4_EbLJU"
      },
      "source": [
        "lists = []\n",
        "dt_movie = dict() #빈 딕셔너리\n",
        "\n",
        "for i in range(len(review_text)):\n",
        "    dt_movie['review_text'] = list_review_text[i]\n",
        "    dt_movie['review_star'] = list_review_star[i]\n"
      ],
      "execution_count": null,
      "outputs": []
    },
    {
      "cell_type": "code",
      "metadata": {
        "colab": {
          "base_uri": "https://localhost:8080/"
        },
        "id": "ED-_1V7ifAt2",
        "outputId": "2af4b24f-0a83-4b6a-88a1-06967293c85b"
      },
      "source": [
        "print(dt_movie)\n",
        "dt_movie['review_text'] = list_review_text[0]\n",
        "dt_movie['review_star'] = list_review_star[0]\n",
        "\n",
        "\n",
        "lists.append(dt_movie)\n",
        "lists"
      ],
      "execution_count": null,
      "outputs": [
        {
          "output_type": "stream",
          "name": "stdout",
          "text": [
            "{}\n"
          ]
        },
        {
          "output_type": "execute_result",
          "data": {
            "text/plain": [
              "[{'review_star': 1,\n",
              "  'review_text': '인생을 매 순간을 즐기며 감사하며 산다는 것을 말하기 위해온갖 잡다한 생각과 도무지 이해 할 수 없는 내용을 집어 넣어멋진 그림 영상으로 설득하려 하는 것이 너무 안타까운 영화였습니다.우리 영혼에 대해서 너무 가치 없게 만든 영화라고 생각합니다.'},\n",
              " {'review_star': 1,\n",
              "  'review_text': '인생을 매 순간을 즐기며 감사하며 산다는 것을 말하기 위해온갖 잡다한 생각과 도무지 이해 할 수 없는 내용을 집어 넣어멋진 그림 영상으로 설득하려 하는 것이 너무 안타까운 영화였습니다.우리 영혼에 대해서 너무 가치 없게 만든 영화라고 생각합니다.'}]"
            ]
          },
          "metadata": {},
          "execution_count": 35
        }
      ]
    },
    {
      "cell_type": "code",
      "metadata": {
        "colab": {
          "base_uri": "https://localhost:8080/",
          "height": 35
        },
        "id": "oZVGmE3wfKqf",
        "outputId": "1a7063c5-1a45-41e5-bb04-8ac0a9c12ccc"
      },
      "source": [
        "review_text"
      ],
      "execution_count": null,
      "outputs": [
        {
          "output_type": "execute_result",
          "data": {
            "application/vnd.google.colaboratory.intrinsic+json": {
              "type": "string"
            },
            "text/plain": [
              "''"
            ]
          },
          "metadata": {},
          "execution_count": 19
        }
      ]
    },
    {
      "cell_type": "markdown",
      "metadata": {
        "id": "9ai8lw3smLTc"
      },
      "source": [
        "# scrape_by_review_num\n",
        "\n",
        "\n",
        "https://ai-creator.tistory.com/201"
      ]
    },
    {
      "cell_type": "code",
      "metadata": {
        "id": "xTbnhkR-gDvf"
      },
      "source": [
        "def scrape_by_review_num(movie_title, review_num):\n",
        "    \"\"\"\n",
        "    scrape_by_review_num 함수는 총 스크레이핑할 리뷰 개수를 받아 해당 개수만큼\n",
        "    리뷰 항목이 담긴 리뷰 리스트를 리턴합니다.\n",
        "\n",
        "    파라미터:\n",
        "        - movie_title: 리뷰를 스크레이핑할 영화 제목이 담긴 문자열(str) 입니다.\n",
        "        - review_num: 총 몇 개의 리뷰를 가져올지 정해주는 숫자(int) 입니다.\n",
        "\n",
        "    리턴:\n",
        "        - 리뷰 리스트: 주어진 review_num 만큼의 리뷰 항목을 담은 파이썬\n",
        "        리스트입니다. (각 리뷰 항목은 get_reviews 에서 명시된 파이썬 딕셔너리\n",
        "        형태여야 합니다.)\n",
        "    \"\"\"\n",
        "    reviews = []\n",
        "\n",
        "    movie_code =  get_movie_code(movie_title)  # 이전에 만든 get_movie_code 함수 활용.\n",
        "    review_url1 = f\"{BASE_URL}/point/af/list.naver?st=mcode&sword={movie_code}\"\n",
        "\n",
        "    res = requests.get(review_url1)  # html 문서를 받아와서\n",
        "    soup = BeautifulSoup(res.text, 'html.parser')  #파싱\n",
        "    div = soup.find('strong', class_=\"c_88 fs_11\").string  # 평점 총갯수를 꺼냄. 그럼 총 몇페이지인지 알수있다. \n",
        "    \n",
        "    import math    # 총 페이지 갯수를 구하기 위해 올림이 필요.\n",
        "    page_number = math.ceil(int(div)/10)  # 평점갯수/10 --> 올림.  # 이렇게 총 페이지 갯수를 받아온다.  # div = class 'bs4.element.NavigableString'--> int형변환 해줘야 math함수에 넣을 수 있다. \n",
        "    # print(page_number)\n",
        "\n",
        "    # page_number = 3  # 함수 실험을 위한 임의지정\n",
        "\n",
        "    reviews = []  # 빈 리스트\n",
        "\n",
        "    for page_num in range(1, page_number+1):\n",
        "        if len(reviews) >= review_num :   # break를 두번 걸어줘야 했다. 이중 for문이기 때문. 아래 for에서는 break가 걸려도 위 for문으로 다시 돈다. \n",
        "            break\n",
        "        # print('page_num ' , page_num)\n",
        "        get_re = get_reviews(movie_code, page_num)  #일단 여기에서 1페이지의 [{:, :},{:, :} x10 ]를 얻는데.. \n",
        "        # print('get_re ', get_re)\n",
        "\n",
        "        for rev in get_re:   #그걸 for문을 돌려서 딕셔너리 하나하나를 꺼낸다. \n",
        "            reviews.append(rev)  #딕셔너리 하나하나를 빈 reviews리스트에 담는다. 10개를 다 담고나면 다시 for문으로 돌아가서 2페이지의 딕셔너리를 추가한다. \n",
        "            # print('reviews ', reviews)\n",
        "            # print('리스트 개수: ', len(reviews))\n",
        "            if len(reviews) >= review_num  : # 만약 reviews리스트의 갯수가 구하고자 하는 리뷰 갯수와 일치한다면 멈춘다. \n",
        "                break\n",
        "    # print(reviews)\n",
        "    \n",
        "\n",
        "\n",
        "    return reviews  # reviews는 원하는 갯수만큼의 리뷰 수가 딕셔너리 형태로 담겨있다. \n"
      ],
      "execution_count": null,
      "outputs": []
    },
    {
      "cell_type": "code",
      "metadata": {
        "colab": {
          "base_uri": "https://localhost:8080/"
        },
        "id": "ljs1colAzWQq",
        "outputId": "dd155a61-94ec-4551-a51d-65a64a94fdcc"
      },
      "source": [
        "len(scrape_by_review_num('Soul', 8))"
      ],
      "execution_count": null,
      "outputs": [
        {
          "output_type": "execute_result",
          "data": {
            "text/plain": [
              "8"
            ]
          },
          "metadata": {},
          "execution_count": 80
        }
      ]
    },
    {
      "cell_type": "markdown",
      "metadata": {
        "id": "fO5kLrcrL6cy"
      },
      "source": [
        "![20210920_213016.png](data:image/png;base64,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)"
      ]
    },
    {
      "cell_type": "code",
      "metadata": {
        "id": "UmSuKtfKI1Be"
      },
      "source": [
        "review_url = f\"{BASE_URL}/point/af/list.naver?st=mcode&sword={movie_code}&target=after&page={page_num}\""
      ],
      "execution_count": null,
      "outputs": []
    },
    {
      "cell_type": "code",
      "metadata": {
        "id": "Xe0Tb8dkKOyI"
      },
      "source": [
        "BASE_URL = \"https://movie.naver.com/movie\""
      ],
      "execution_count": null,
      "outputs": []
    },
    {
      "cell_type": "code",
      "metadata": {
        "id": "glh_tg7hKSUS"
      },
      "source": [
        "https://movie.naver.com/movie/point/af/list.naver?st=mcode&sword=184517"
      ],
      "execution_count": null,
      "outputs": []
    },
    {
      "cell_type": "code",
      "metadata": {
        "colab": {
          "base_uri": "https://localhost:8080/"
        },
        "id": "E_A1SboGHOAX",
        "outputId": "055a8913-30d9-4f66-88d7-b12d1dd977af"
      },
      "source": [
        "# movie_title 을 쳐서 리뷰를 얻기 위해서는...\n",
        "# 일단 타이틀을 통해 code번호를 알아내야 하고... --> 위에서 함수를 통해 구현함.\n",
        "# 평점 리스트를 보면 한 페이지당 10개의 평점이 있고, 총 9,836개의 평점이 있다.  --> 총 페이지 갯수는 984페이지\n",
        "\n",
        "\n",
        "import requests\n",
        "from bs4 import BeautifulSoup\n",
        "import re\n",
        "\n",
        "review_num = 18\n",
        "movie_title = 'Soul'\n",
        "movie_code =  get_movie_code(movie_title)  # 이전에 만든 get_movie_code 함수 활용\n",
        "\n",
        "review_url1 = f\"{BASE_URL}/point/af/list.naver?st=mcode&sword={movie_code}\"\n",
        "res = requests.get(review_url1)\n",
        "soup = BeautifulSoup(res.text, 'html.parser')\n",
        "div = soup.find('strong', class_=\"c_88 fs_11\").string  # 평점 총갯수를 꺼냄. 그럼 총 몇페이지인지 알수있다.  #class 'bs4.element.NavigableString'--> int형변환 해줘야 math함수에 넣을 수 있다. \n",
        "import math\n",
        "page_number = math.ceil(int(div)/10)  # 평점갯수/10 --> 올림.  #이렇게 총 페이지 갯수를 받아온다. \n",
        "print(page_number)\n",
        "\n",
        "page_number = 3  # 임의지정\n",
        "\n",
        "reviews = []\n",
        "for page_num in range(1, page_number+1):\n",
        "    if len(reviews) >= review_num :\n",
        "        break\n",
        "    print('page_num ' , page_num)\n",
        "    get_re = get_reviews(movie_code, page_num)  #일단 여기에서 1페이지의 [{:, :},{:, :} x10 ]를 얻는데.. \n",
        "    print('get_re ', get_re)\n",
        "\n",
        "    for rev in get_re:   #그걸 for문을 돌려서 딕셔너리 하나하나를 꺼낸다. \n",
        "        reviews.append(rev)  #딕셔너리 하나하나를 빈 reviews리스트에 담는다. 10개를 다 담고나면 다시 for문으로 돌아가서 2페이지의 딕셔너리를 추가한다. \n",
        "        print('reviews ', reviews)\n",
        "        print('리스트 개수: ', len(reviews))\n",
        "        if len(reviews) >= review_num  : # 만약 reviews리스트의 갯수가 구하고자 하는 리뷰 갯수와 일치한다면 멈춘다. (== 는 이상하게 명령이 잘 안먹힐때가 많다.. )\n",
        "            break\n",
        "print(reviews)\n",
        "    \n",
        "\n",
        "\n",
        "    # link = f\"{BASE_URL}/point/af/list.naver?st=mcode&sword={movie_code}&target=after&page={page_num}\"\n",
        "    # resp = requests.get(link)\n",
        "    # soup = BeautifulSoup(resp.text, 'html.parser')\n",
        "    # div = soup.find\n",
        "\n",
        "\n",
        "\n",
        "\n",
        "\n",
        "# res = requests.get(review_num_url)\n",
        "# soup = BeautifulSoup(res.text, 'html.parser')\n",
        "# div= soup.find('div', class_='paging')\n",
        "# print(div)\n",
        "# print('-------------')\n",
        "# a_list = div.find_all(\"a\")\n",
        "# print(a_list)\n",
        "# print('-------------')\n"
      ],
      "execution_count": null,
      "outputs": [
        {
          "output_type": "stream",
          "name": "stdout",
          "text": [
            "984\n",
            "page_num  1\n",
            "get_re  [{'review_text': '', 'review_star': 10}, {'review_text': '인생을 매 순간을 즐기며 감사하며 산다는 것을 말하기 위해온갖 잡다한 생각과 도무지 이해 할 수 없는 내용을 집어 넣어멋진 그림 영상으로 설득하려 하는 것이 너무 안타까운 영화였습니다.우리 영혼에 대해서 너무 가치 없게 만든 영화라고 생각합니다.', 'review_star': 1}, {'review_text': '진짜 완전 대박 짱', 'review_star': 10}, {'review_text': '수단이 목적이 되려고 할 때 기억할 영화.', 'review_star': 10}, {'review_text': '', 'review_star': 10}, {'review_text': '', 'review_star': 10}, {'review_text': '\"소울\" 그 자체는 자유롭지만 결국 자리는 정해져있어', 'review_star': 8}, {'review_text': '너무 귀여워요 인생영화', 'review_star': 10}, {'review_text': '영상미가 돋보이고 귀엽다 애니에서 철학이라니.. 대단', 'review_star': 9}, {'review_text': '요약 : 개똥 밭에 굴러도 이승이 낫다. 그러니 즐겁게 살자.', 'review_star': 10}]\n",
            "reviews  [{'review_text': '', 'review_star': 10}]\n",
            "리스트 개수:  1\n",
            "reviews  [{'review_text': '', 'review_star': 10}, {'review_text': '인생을 매 순간을 즐기며 감사하며 산다는 것을 말하기 위해온갖 잡다한 생각과 도무지 이해 할 수 없는 내용을 집어 넣어멋진 그림 영상으로 설득하려 하는 것이 너무 안타까운 영화였습니다.우리 영혼에 대해서 너무 가치 없게 만든 영화라고 생각합니다.', 'review_star': 1}]\n",
            "리스트 개수:  2\n",
            "reviews  [{'review_text': '', 'review_star': 10}, {'review_text': '인생을 매 순간을 즐기며 감사하며 산다는 것을 말하기 위해온갖 잡다한 생각과 도무지 이해 할 수 없는 내용을 집어 넣어멋진 그림 영상으로 설득하려 하는 것이 너무 안타까운 영화였습니다.우리 영혼에 대해서 너무 가치 없게 만든 영화라고 생각합니다.', 'review_star': 1}, {'review_text': '진짜 완전 대박 짱', 'review_star': 10}]\n",
            "리스트 개수:  3\n",
            "reviews  [{'review_text': '', 'review_star': 10}, {'review_text': '인생을 매 순간을 즐기며 감사하며 산다는 것을 말하기 위해온갖 잡다한 생각과 도무지 이해 할 수 없는 내용을 집어 넣어멋진 그림 영상으로 설득하려 하는 것이 너무 안타까운 영화였습니다.우리 영혼에 대해서 너무 가치 없게 만든 영화라고 생각합니다.', 'review_star': 1}, {'review_text': '진짜 완전 대박 짱', 'review_star': 10}, {'review_text': '수단이 목적이 되려고 할 때 기억할 영화.', 'review_star': 10}]\n",
            "리스트 개수:  4\n",
            "reviews  [{'review_text': '', 'review_star': 10}, {'review_text': '인생을 매 순간을 즐기며 감사하며 산다는 것을 말하기 위해온갖 잡다한 생각과 도무지 이해 할 수 없는 내용을 집어 넣어멋진 그림 영상으로 설득하려 하는 것이 너무 안타까운 영화였습니다.우리 영혼에 대해서 너무 가치 없게 만든 영화라고 생각합니다.', 'review_star': 1}, {'review_text': '진짜 완전 대박 짱', 'review_star': 10}, {'review_text': '수단이 목적이 되려고 할 때 기억할 영화.', 'review_star': 10}, {'review_text': '', 'review_star': 10}]\n",
            "리스트 개수:  5\n",
            "reviews  [{'review_text': '', 'review_star': 10}, {'review_text': '인생을 매 순간을 즐기며 감사하며 산다는 것을 말하기 위해온갖 잡다한 생각과 도무지 이해 할 수 없는 내용을 집어 넣어멋진 그림 영상으로 설득하려 하는 것이 너무 안타까운 영화였습니다.우리 영혼에 대해서 너무 가치 없게 만든 영화라고 생각합니다.', 'review_star': 1}, {'review_text': '진짜 완전 대박 짱', 'review_star': 10}, {'review_text': '수단이 목적이 되려고 할 때 기억할 영화.', 'review_star': 10}, {'review_text': '', 'review_star': 10}, {'review_text': '', 'review_star': 10}]\n",
            "리스트 개수:  6\n",
            "reviews  [{'review_text': '', 'review_star': 10}, {'review_text': '인생을 매 순간을 즐기며 감사하며 산다는 것을 말하기 위해온갖 잡다한 생각과 도무지 이해 할 수 없는 내용을 집어 넣어멋진 그림 영상으로 설득하려 하는 것이 너무 안타까운 영화였습니다.우리 영혼에 대해서 너무 가치 없게 만든 영화라고 생각합니다.', 'review_star': 1}, {'review_text': '진짜 완전 대박 짱', 'review_star': 10}, {'review_text': '수단이 목적이 되려고 할 때 기억할 영화.', 'review_star': 10}, {'review_text': '', 'review_star': 10}, {'review_text': '', 'review_star': 10}, {'review_text': '\"소울\" 그 자체는 자유롭지만 결국 자리는 정해져있어', 'review_star': 8}]\n",
            "리스트 개수:  7\n",
            "reviews  [{'review_text': '', 'review_star': 10}, {'review_text': '인생을 매 순간을 즐기며 감사하며 산다는 것을 말하기 위해온갖 잡다한 생각과 도무지 이해 할 수 없는 내용을 집어 넣어멋진 그림 영상으로 설득하려 하는 것이 너무 안타까운 영화였습니다.우리 영혼에 대해서 너무 가치 없게 만든 영화라고 생각합니다.', 'review_star': 1}, {'review_text': '진짜 완전 대박 짱', 'review_star': 10}, {'review_text': '수단이 목적이 되려고 할 때 기억할 영화.', 'review_star': 10}, {'review_text': '', 'review_star': 10}, {'review_text': '', 'review_star': 10}, {'review_text': '\"소울\" 그 자체는 자유롭지만 결국 자리는 정해져있어', 'review_star': 8}, {'review_text': '너무 귀여워요 인생영화', 'review_star': 10}]\n",
            "리스트 개수:  8\n",
            "reviews  [{'review_text': '', 'review_star': 10}, {'review_text': '인생을 매 순간을 즐기며 감사하며 산다는 것을 말하기 위해온갖 잡다한 생각과 도무지 이해 할 수 없는 내용을 집어 넣어멋진 그림 영상으로 설득하려 하는 것이 너무 안타까운 영화였습니다.우리 영혼에 대해서 너무 가치 없게 만든 영화라고 생각합니다.', 'review_star': 1}, {'review_text': '진짜 완전 대박 짱', 'review_star': 10}, {'review_text': '수단이 목적이 되려고 할 때 기억할 영화.', 'review_star': 10}, {'review_text': '', 'review_star': 10}, {'review_text': '', 'review_star': 10}, {'review_text': '\"소울\" 그 자체는 자유롭지만 결국 자리는 정해져있어', 'review_star': 8}, {'review_text': '너무 귀여워요 인생영화', 'review_star': 10}, {'review_text': '영상미가 돋보이고 귀엽다 애니에서 철학이라니.. 대단', 'review_star': 9}]\n",
            "리스트 개수:  9\n",
            "reviews  [{'review_text': '', 'review_star': 10}, {'review_text': '인생을 매 순간을 즐기며 감사하며 산다는 것을 말하기 위해온갖 잡다한 생각과 도무지 이해 할 수 없는 내용을 집어 넣어멋진 그림 영상으로 설득하려 하는 것이 너무 안타까운 영화였습니다.우리 영혼에 대해서 너무 가치 없게 만든 영화라고 생각합니다.', 'review_star': 1}, {'review_text': '진짜 완전 대박 짱', 'review_star': 10}, {'review_text': '수단이 목적이 되려고 할 때 기억할 영화.', 'review_star': 10}, {'review_text': '', 'review_star': 10}, {'review_text': '', 'review_star': 10}, {'review_text': '\"소울\" 그 자체는 자유롭지만 결국 자리는 정해져있어', 'review_star': 8}, {'review_text': '너무 귀여워요 인생영화', 'review_star': 10}, {'review_text': '영상미가 돋보이고 귀엽다 애니에서 철학이라니.. 대단', 'review_star': 9}, {'review_text': '요약 : 개똥 밭에 굴러도 이승이 낫다. 그러니 즐겁게 살자.', 'review_star': 10}]\n",
            "리스트 개수:  10\n",
            "page_num  2\n",
            "get_re  [{'review_text': '', 'review_star': 10}, {'review_text': '영화관에서 입술 깨물고 울었음..', 'review_star': 10}, {'review_text': '영혼의 안식처가 필요한 모든 이에게', 'review_star': 8}, {'review_text': '추천받아 봤는데 글쎄요.. 삶에 목적과 의미가 중요하다고 생각하는 사람이라 조금 안 맞기는 했지만 재즈 음악은 좋더라고요~', 'review_star': 2}, {'review_text': 'Cf. 플라톤, \"동굴\"이신론, 실용주의', 'review_star': 1}, {'review_text': '내가 많이 지치고 힘들었음을,무엇을 위한 삶을 살아가는지를 다시 돌아보게 해준 영화. 디즈니의 선물.', 'review_star': 10}, {'review_text': '엄청난 스토리나 큰 포인트가 있지는 않았지만 영화가 끝났을 때 울고 있었던 영화. 오히려 억지 울음이 아니라 더 좋았던 영화.', 'review_star': 10}, {'review_text': '기대안하고 그냥 디즈니픽사영화라 가벼운힐링용으로 봤다가 펑펑울음..지금 내 현실에 딱맞는 너무나도 큰위로를 준 영화임.. 주변의 백마디 위로보다 이 영화가 주는 메세지가 내가 너무나 와닿아 눈물이 펑펑났다 .. 살기싫어질때마다 보고 위로받고싶다ㅠ', 'review_star': 10}, {'review_text': '디즈니 픽사 정말 안좋아하는데 감명깊게 봤어요 대여로 구매했는데 소장으로 살걸', 'review_star': 10}, {'review_text': '나이가 들었다 느껴지는 지금, 듣기 적절한 이야기', 'review_star': 8}]\n",
            "reviews  [{'review_text': '', 'review_star': 10}, {'review_text': '인생을 매 순간을 즐기며 감사하며 산다는 것을 말하기 위해온갖 잡다한 생각과 도무지 이해 할 수 없는 내용을 집어 넣어멋진 그림 영상으로 설득하려 하는 것이 너무 안타까운 영화였습니다.우리 영혼에 대해서 너무 가치 없게 만든 영화라고 생각합니다.', 'review_star': 1}, {'review_text': '진짜 완전 대박 짱', 'review_star': 10}, {'review_text': '수단이 목적이 되려고 할 때 기억할 영화.', 'review_star': 10}, {'review_text': '', 'review_star': 10}, {'review_text': '', 'review_star': 10}, {'review_text': '\"소울\" 그 자체는 자유롭지만 결국 자리는 정해져있어', 'review_star': 8}, {'review_text': '너무 귀여워요 인생영화', 'review_star': 10}, {'review_text': '영상미가 돋보이고 귀엽다 애니에서 철학이라니.. 대단', 'review_star': 9}, {'review_text': '요약 : 개똥 밭에 굴러도 이승이 낫다. 그러니 즐겁게 살자.', 'review_star': 10}, {'review_text': '', 'review_star': 10}]\n",
            "리스트 개수:  11\n",
            "reviews  [{'review_text': '', 'review_star': 10}, {'review_text': '인생을 매 순간을 즐기며 감사하며 산다는 것을 말하기 위해온갖 잡다한 생각과 도무지 이해 할 수 없는 내용을 집어 넣어멋진 그림 영상으로 설득하려 하는 것이 너무 안타까운 영화였습니다.우리 영혼에 대해서 너무 가치 없게 만든 영화라고 생각합니다.', 'review_star': 1}, {'review_text': '진짜 완전 대박 짱', 'review_star': 10}, {'review_text': '수단이 목적이 되려고 할 때 기억할 영화.', 'review_star': 10}, {'review_text': '', 'review_star': 10}, {'review_text': '', 'review_star': 10}, {'review_text': '\"소울\" 그 자체는 자유롭지만 결국 자리는 정해져있어', 'review_star': 8}, {'review_text': '너무 귀여워요 인생영화', 'review_star': 10}, {'review_text': '영상미가 돋보이고 귀엽다 애니에서 철학이라니.. 대단', 'review_star': 9}, {'review_text': '요약 : 개똥 밭에 굴러도 이승이 낫다. 그러니 즐겁게 살자.', 'review_star': 10}, {'review_text': '', 'review_star': 10}, {'review_text': '영화관에서 입술 깨물고 울었음..', 'review_star': 10}]\n",
            "리스트 개수:  12\n",
            "reviews  [{'review_text': '', 'review_star': 10}, {'review_text': '인생을 매 순간을 즐기며 감사하며 산다는 것을 말하기 위해온갖 잡다한 생각과 도무지 이해 할 수 없는 내용을 집어 넣어멋진 그림 영상으로 설득하려 하는 것이 너무 안타까운 영화였습니다.우리 영혼에 대해서 너무 가치 없게 만든 영화라고 생각합니다.', 'review_star': 1}, {'review_text': '진짜 완전 대박 짱', 'review_star': 10}, {'review_text': '수단이 목적이 되려고 할 때 기억할 영화.', 'review_star': 10}, {'review_text': '', 'review_star': 10}, {'review_text': '', 'review_star': 10}, {'review_text': '\"소울\" 그 자체는 자유롭지만 결국 자리는 정해져있어', 'review_star': 8}, {'review_text': '너무 귀여워요 인생영화', 'review_star': 10}, {'review_text': '영상미가 돋보이고 귀엽다 애니에서 철학이라니.. 대단', 'review_star': 9}, {'review_text': '요약 : 개똥 밭에 굴러도 이승이 낫다. 그러니 즐겁게 살자.', 'review_star': 10}, {'review_text': '', 'review_star': 10}, {'review_text': '영화관에서 입술 깨물고 울었음..', 'review_star': 10}, {'review_text': '영혼의 안식처가 필요한 모든 이에게', 'review_star': 8}]\n",
            "리스트 개수:  13\n",
            "reviews  [{'review_text': '', 'review_star': 10}, {'review_text': '인생을 매 순간을 즐기며 감사하며 산다는 것을 말하기 위해온갖 잡다한 생각과 도무지 이해 할 수 없는 내용을 집어 넣어멋진 그림 영상으로 설득하려 하는 것이 너무 안타까운 영화였습니다.우리 영혼에 대해서 너무 가치 없게 만든 영화라고 생각합니다.', 'review_star': 1}, {'review_text': '진짜 완전 대박 짱', 'review_star': 10}, {'review_text': '수단이 목적이 되려고 할 때 기억할 영화.', 'review_star': 10}, {'review_text': '', 'review_star': 10}, {'review_text': '', 'review_star': 10}, {'review_text': '\"소울\" 그 자체는 자유롭지만 결국 자리는 정해져있어', 'review_star': 8}, {'review_text': '너무 귀여워요 인생영화', 'review_star': 10}, {'review_text': '영상미가 돋보이고 귀엽다 애니에서 철학이라니.. 대단', 'review_star': 9}, {'review_text': '요약 : 개똥 밭에 굴러도 이승이 낫다. 그러니 즐겁게 살자.', 'review_star': 10}, {'review_text': '', 'review_star': 10}, {'review_text': '영화관에서 입술 깨물고 울었음..', 'review_star': 10}, {'review_text': '영혼의 안식처가 필요한 모든 이에게', 'review_star': 8}, {'review_text': '추천받아 봤는데 글쎄요.. 삶에 목적과 의미가 중요하다고 생각하는 사람이라 조금 안 맞기는 했지만 재즈 음악은 좋더라고요~', 'review_star': 2}]\n",
            "리스트 개수:  14\n",
            "reviews  [{'review_text': '', 'review_star': 10}, {'review_text': '인생을 매 순간을 즐기며 감사하며 산다는 것을 말하기 위해온갖 잡다한 생각과 도무지 이해 할 수 없는 내용을 집어 넣어멋진 그림 영상으로 설득하려 하는 것이 너무 안타까운 영화였습니다.우리 영혼에 대해서 너무 가치 없게 만든 영화라고 생각합니다.', 'review_star': 1}, {'review_text': '진짜 완전 대박 짱', 'review_star': 10}, {'review_text': '수단이 목적이 되려고 할 때 기억할 영화.', 'review_star': 10}, {'review_text': '', 'review_star': 10}, {'review_text': '', 'review_star': 10}, {'review_text': '\"소울\" 그 자체는 자유롭지만 결국 자리는 정해져있어', 'review_star': 8}, {'review_text': '너무 귀여워요 인생영화', 'review_star': 10}, {'review_text': '영상미가 돋보이고 귀엽다 애니에서 철학이라니.. 대단', 'review_star': 9}, {'review_text': '요약 : 개똥 밭에 굴러도 이승이 낫다. 그러니 즐겁게 살자.', 'review_star': 10}, {'review_text': '', 'review_star': 10}, {'review_text': '영화관에서 입술 깨물고 울었음..', 'review_star': 10}, {'review_text': '영혼의 안식처가 필요한 모든 이에게', 'review_star': 8}, {'review_text': '추천받아 봤는데 글쎄요.. 삶에 목적과 의미가 중요하다고 생각하는 사람이라 조금 안 맞기는 했지만 재즈 음악은 좋더라고요~', 'review_star': 2}, {'review_text': 'Cf. 플라톤, \"동굴\"이신론, 실용주의', 'review_star': 1}]\n",
            "리스트 개수:  15\n",
            "reviews  [{'review_text': '', 'review_star': 10}, {'review_text': '인생을 매 순간을 즐기며 감사하며 산다는 것을 말하기 위해온갖 잡다한 생각과 도무지 이해 할 수 없는 내용을 집어 넣어멋진 그림 영상으로 설득하려 하는 것이 너무 안타까운 영화였습니다.우리 영혼에 대해서 너무 가치 없게 만든 영화라고 생각합니다.', 'review_star': 1}, {'review_text': '진짜 완전 대박 짱', 'review_star': 10}, {'review_text': '수단이 목적이 되려고 할 때 기억할 영화.', 'review_star': 10}, {'review_text': '', 'review_star': 10}, {'review_text': '', 'review_star': 10}, {'review_text': '\"소울\" 그 자체는 자유롭지만 결국 자리는 정해져있어', 'review_star': 8}, {'review_text': '너무 귀여워요 인생영화', 'review_star': 10}, {'review_text': '영상미가 돋보이고 귀엽다 애니에서 철학이라니.. 대단', 'review_star': 9}, {'review_text': '요약 : 개똥 밭에 굴러도 이승이 낫다. 그러니 즐겁게 살자.', 'review_star': 10}, {'review_text': '', 'review_star': 10}, {'review_text': '영화관에서 입술 깨물고 울었음..', 'review_star': 10}, {'review_text': '영혼의 안식처가 필요한 모든 이에게', 'review_star': 8}, {'review_text': '추천받아 봤는데 글쎄요.. 삶에 목적과 의미가 중요하다고 생각하는 사람이라 조금 안 맞기는 했지만 재즈 음악은 좋더라고요~', 'review_star': 2}, {'review_text': 'Cf. 플라톤, \"동굴\"이신론, 실용주의', 'review_star': 1}, {'review_text': '내가 많이 지치고 힘들었음을,무엇을 위한 삶을 살아가는지를 다시 돌아보게 해준 영화. 디즈니의 선물.', 'review_star': 10}]\n",
            "리스트 개수:  16\n",
            "reviews  [{'review_text': '', 'review_star': 10}, {'review_text': '인생을 매 순간을 즐기며 감사하며 산다는 것을 말하기 위해온갖 잡다한 생각과 도무지 이해 할 수 없는 내용을 집어 넣어멋진 그림 영상으로 설득하려 하는 것이 너무 안타까운 영화였습니다.우리 영혼에 대해서 너무 가치 없게 만든 영화라고 생각합니다.', 'review_star': 1}, {'review_text': '진짜 완전 대박 짱', 'review_star': 10}, {'review_text': '수단이 목적이 되려고 할 때 기억할 영화.', 'review_star': 10}, {'review_text': '', 'review_star': 10}, {'review_text': '', 'review_star': 10}, {'review_text': '\"소울\" 그 자체는 자유롭지만 결국 자리는 정해져있어', 'review_star': 8}, {'review_text': '너무 귀여워요 인생영화', 'review_star': 10}, {'review_text': '영상미가 돋보이고 귀엽다 애니에서 철학이라니.. 대단', 'review_star': 9}, {'review_text': '요약 : 개똥 밭에 굴러도 이승이 낫다. 그러니 즐겁게 살자.', 'review_star': 10}, {'review_text': '', 'review_star': 10}, {'review_text': '영화관에서 입술 깨물고 울었음..', 'review_star': 10}, {'review_text': '영혼의 안식처가 필요한 모든 이에게', 'review_star': 8}, {'review_text': '추천받아 봤는데 글쎄요.. 삶에 목적과 의미가 중요하다고 생각하는 사람이라 조금 안 맞기는 했지만 재즈 음악은 좋더라고요~', 'review_star': 2}, {'review_text': 'Cf. 플라톤, \"동굴\"이신론, 실용주의', 'review_star': 1}, {'review_text': '내가 많이 지치고 힘들었음을,무엇을 위한 삶을 살아가는지를 다시 돌아보게 해준 영화. 디즈니의 선물.', 'review_star': 10}, {'review_text': '엄청난 스토리나 큰 포인트가 있지는 않았지만 영화가 끝났을 때 울고 있었던 영화. 오히려 억지 울음이 아니라 더 좋았던 영화.', 'review_star': 10}]\n",
            "리스트 개수:  17\n",
            "reviews  [{'review_text': '', 'review_star': 10}, {'review_text': '인생을 매 순간을 즐기며 감사하며 산다는 것을 말하기 위해온갖 잡다한 생각과 도무지 이해 할 수 없는 내용을 집어 넣어멋진 그림 영상으로 설득하려 하는 것이 너무 안타까운 영화였습니다.우리 영혼에 대해서 너무 가치 없게 만든 영화라고 생각합니다.', 'review_star': 1}, {'review_text': '진짜 완전 대박 짱', 'review_star': 10}, {'review_text': '수단이 목적이 되려고 할 때 기억할 영화.', 'review_star': 10}, {'review_text': '', 'review_star': 10}, {'review_text': '', 'review_star': 10}, {'review_text': '\"소울\" 그 자체는 자유롭지만 결국 자리는 정해져있어', 'review_star': 8}, {'review_text': '너무 귀여워요 인생영화', 'review_star': 10}, {'review_text': '영상미가 돋보이고 귀엽다 애니에서 철학이라니.. 대단', 'review_star': 9}, {'review_text': '요약 : 개똥 밭에 굴러도 이승이 낫다. 그러니 즐겁게 살자.', 'review_star': 10}, {'review_text': '', 'review_star': 10}, {'review_text': '영화관에서 입술 깨물고 울었음..', 'review_star': 10}, {'review_text': '영혼의 안식처가 필요한 모든 이에게', 'review_star': 8}, {'review_text': '추천받아 봤는데 글쎄요.. 삶에 목적과 의미가 중요하다고 생각하는 사람이라 조금 안 맞기는 했지만 재즈 음악은 좋더라고요~', 'review_star': 2}, {'review_text': 'Cf. 플라톤, \"동굴\"이신론, 실용주의', 'review_star': 1}, {'review_text': '내가 많이 지치고 힘들었음을,무엇을 위한 삶을 살아가는지를 다시 돌아보게 해준 영화. 디즈니의 선물.', 'review_star': 10}, {'review_text': '엄청난 스토리나 큰 포인트가 있지는 않았지만 영화가 끝났을 때 울고 있었던 영화. 오히려 억지 울음이 아니라 더 좋았던 영화.', 'review_star': 10}, {'review_text': '기대안하고 그냥 디즈니픽사영화라 가벼운힐링용으로 봤다가 펑펑울음..지금 내 현실에 딱맞는 너무나도 큰위로를 준 영화임.. 주변의 백마디 위로보다 이 영화가 주는 메세지가 내가 너무나 와닿아 눈물이 펑펑났다 .. 살기싫어질때마다 보고 위로받고싶다ㅠ', 'review_star': 10}]\n",
            "리스트 개수:  18\n",
            "[{'review_text': '', 'review_star': 10}, {'review_text': '인생을 매 순간을 즐기며 감사하며 산다는 것을 말하기 위해온갖 잡다한 생각과 도무지 이해 할 수 없는 내용을 집어 넣어멋진 그림 영상으로 설득하려 하는 것이 너무 안타까운 영화였습니다.우리 영혼에 대해서 너무 가치 없게 만든 영화라고 생각합니다.', 'review_star': 1}, {'review_text': '진짜 완전 대박 짱', 'review_star': 10}, {'review_text': '수단이 목적이 되려고 할 때 기억할 영화.', 'review_star': 10}, {'review_text': '', 'review_star': 10}, {'review_text': '', 'review_star': 10}, {'review_text': '\"소울\" 그 자체는 자유롭지만 결국 자리는 정해져있어', 'review_star': 8}, {'review_text': '너무 귀여워요 인생영화', 'review_star': 10}, {'review_text': '영상미가 돋보이고 귀엽다 애니에서 철학이라니.. 대단', 'review_star': 9}, {'review_text': '요약 : 개똥 밭에 굴러도 이승이 낫다. 그러니 즐겁게 살자.', 'review_star': 10}, {'review_text': '', 'review_star': 10}, {'review_text': '영화관에서 입술 깨물고 울었음..', 'review_star': 10}, {'review_text': '영혼의 안식처가 필요한 모든 이에게', 'review_star': 8}, {'review_text': '추천받아 봤는데 글쎄요.. 삶에 목적과 의미가 중요하다고 생각하는 사람이라 조금 안 맞기는 했지만 재즈 음악은 좋더라고요~', 'review_star': 2}, {'review_text': 'Cf. 플라톤, \"동굴\"이신론, 실용주의', 'review_star': 1}, {'review_text': '내가 많이 지치고 힘들었음을,무엇을 위한 삶을 살아가는지를 다시 돌아보게 해준 영화. 디즈니의 선물.', 'review_star': 10}, {'review_text': '엄청난 스토리나 큰 포인트가 있지는 않았지만 영화가 끝났을 때 울고 있었던 영화. 오히려 억지 울음이 아니라 더 좋았던 영화.', 'review_star': 10}, {'review_text': '기대안하고 그냥 디즈니픽사영화라 가벼운힐링용으로 봤다가 펑펑울음..지금 내 현실에 딱맞는 너무나도 큰위로를 준 영화임.. 주변의 백마디 위로보다 이 영화가 주는 메세지가 내가 너무나 와닿아 눈물이 펑펑났다 .. 살기싫어질때마다 보고 위로받고싶다ㅠ', 'review_star': 10}]\n"
          ]
        }
      ]
    },
    {
      "cell_type": "code",
      "metadata": {
        "colab": {
          "base_uri": "https://localhost:8080/"
        },
        "id": "sAsVwwzqki8q",
        "outputId": "ea02a128-efb9-476e-c467-ec11ab2c3d3e"
      },
      "source": [
        "len(reviews)"
      ],
      "execution_count": null,
      "outputs": [
        {
          "output_type": "execute_result",
          "data": {
            "text/plain": [
              "18"
            ]
          },
          "metadata": {},
          "execution_count": 74
        }
      ]
    },
    {
      "cell_type": "code",
      "metadata": {
        "colab": {
          "base_uri": "https://localhost:8080/",
          "height": 35
        },
        "id": "xzMXrCSJZ7BP",
        "outputId": "3edd51a2-c724-48cd-a9ed-390fc7a91653"
      },
      "source": [
        "review_url2 = f\"{BASE_URL}/point/af/list.naver?st=mcode&sword={movie_code}&target=after&page={page_num}\"\n",
        "review_url2"
      ],
      "execution_count": null,
      "outputs": [
        {
          "output_type": "execute_result",
          "data": {
            "application/vnd.google.colaboratory.intrinsic+json": {
              "type": "string"
            },
            "text/plain": [
              "'https://movie.naver.com/movie/point/af/list.naver?st=mcode&sword=184517&target=after&page=984'"
            ]
          },
          "metadata": {},
          "execution_count": 31
        }
      ]
    },
    {
      "cell_type": "code",
      "metadata": {
        "id": "R-DIwvp1PEFu"
      },
      "source": [
        "https://movie.naver.com/movie/point/af/list.naver?st=mcode&sword=184517"
      ],
      "execution_count": null,
      "outputs": []
    },
    {
      "cell_type": "code",
      "metadata": {
        "colab": {
          "base_uri": "https://localhost:8080/"
        },
        "id": "rYHRASVRM0m1",
        "outputId": "52c69e49-82f7-48e2-efdd-f93a84cbf928"
      },
      "source": [
        "# 연습1) \n",
        "url = \"https://movie.naver.com/movie/bi/mi/review.nhn?code=191633\"\n",
        "res = requests.get(url)\n",
        "soup = BeautifulSoup(res.text, 'html.parser')\n",
        "div = soup.find('div', class_='paging')\n",
        "print(type(div))   # <class 'bs4.element.Tag'>\n",
        "a_list = div.find_all(\"a\")   #a 태그로 찾기.\n",
        "print(type(a_list))   # <class 'bs4.element.ResultSet'> 에서는 find, find_all을 쓸수없음. \n",
        "a_list"
      ],
      "execution_count": null,
      "outputs": [
        {
          "output_type": "stream",
          "name": "stdout",
          "text": [
            "<class 'bs4.element.Tag'>\n",
            "<class 'bs4.element.ResultSet'>\n"
          ]
        },
        {
          "output_type": "execute_result",
          "data": {
            "text/plain": [
              "[<a href=\"/movie/bi/mi/review.naver?code=191633&amp;page=1\" id=\"pagerTagAnchor1\" onclick=\"clickcr(this, 'rli.page', '', '', event);\"><span class=\"on\">1</span></a>,\n",
              " <a href=\"/movie/bi/mi/review.naver?code=191633&amp;page=2\" id=\"pagerTagAnchor2\" onclick=\"clickcr(this, 'rli.page', '', '', event);\"><span>2</span></a>,\n",
              " <a href=\"/movie/bi/mi/review.naver?code=191633&amp;page=3\" id=\"pagerTagAnchor3\" onclick=\"clickcr(this, 'rli.page', '', '', event);\"><span>3</span></a>,\n",
              " <a class=\"pg_next\" href=\"/movie/bi/mi/review.naver?code=191633&amp;page=2\" id=\"pagerTagAnchor2\" onclick=\"clickcr(this, 'rli.page', '', '', event);\" title=\"다음\"><em>다음</em></a>]"
            ]
          },
          "metadata": {},
          "execution_count": 9
        }
      ]
    },
    {
      "cell_type": "code",
      "metadata": {
        "colab": {
          "base_uri": "https://localhost:8080/"
        },
        "id": "wZ0edteAUjoC",
        "outputId": "acde9466-ea05-417b-85f5-4a453dcfc0ef"
      },
      "source": [
        "# 연습1) \n",
        "url = \"https://movie.naver.com/movie/bi/mi/review.nhn?code=191633\"\n",
        "res = requests.get(url)\n",
        "soup = BeautifulSoup(res.text, 'html.parser')\n",
        "div = soup.find('div', class_='paging')\n",
        "# print(type(div))   # <class 'bs4.element.Tag'>\n",
        "a_list = div.find_all(\"a\")   #a 태그로 찾기.\n",
        "# print(type(a_list))   # <class 'bs4.element.ResultSet'> 에서는 find, find_all을 쓸수없음. \n",
        "\n",
        "all_review = pd.DataFrame()  # 빈 데이터프레임\n",
        "for a in a_list:  # 루프문\n",
        "    print(a['href'], a.string)  # 속성값 'href'의 문자열 빼내기."
      ],
      "execution_count": null,
      "outputs": [
        {
          "output_type": "stream",
          "name": "stdout",
          "text": [
            "/movie/bi/mi/review.naver?code=191633&page=1 1\n",
            "/movie/bi/mi/review.naver?code=191633&page=2 2\n",
            "/movie/bi/mi/review.naver?code=191633&page=3 3\n",
            "/movie/bi/mi/review.naver?code=191633&page=2 다음\n"
          ]
        }
      ]
    },
    {
      "cell_type": "code",
      "metadata": {
        "colab": {
          "base_uri": "https://localhost:8080/"
        },
        "id": "tWTrOJgwYaYI",
        "outputId": "9f830489-11c5-4d22-f3ff-58f6536f4480"
      },
      "source": [
        "# 연습1) \n",
        "url = \"https://movie.naver.com/movie/bi/mi/review.nhn?code=191633\"\n",
        "res = requests.get(url)\n",
        "soup = BeautifulSoup(res.text, 'html.parser')\n",
        "div = soup.find('div', class_='paging')\n",
        "# print(type(div))   # <class 'bs4.element.Tag'>\n",
        "a_list = div.find_all(\"a\")   #a 태그로 찾기.\n",
        "# print(type(a_list))   # <class 'bs4.element.ResultSet'> 에서는 find, find_all을 쓸수없음. \n",
        "\n",
        "for a in a_list:  # 루프문\n",
        "    print(a['href'], a.string)  # 속성값 'href'의 문자열 빼내기.\n",
        "    if a.string == '다음' or a.string == '이전':\n",
        "        continue    # 다시 for문으로 돌아가는데,더이상 돌게 없으면 중지됨.\n",
        "    else:\n",
        "        page_url = \"https://movie.naver.com\" + a['href']  #문자열 붙이기.\n",
        "        print(page_url)"
      ],
      "execution_count": null,
      "outputs": [
        {
          "output_type": "stream",
          "name": "stdout",
          "text": [
            "/movie/bi/mi/review.naver?code=191633&page=1 1\n",
            "https://movie.naver.com/movie/bi/mi/review.naver?code=191633&page=1\n",
            "/movie/bi/mi/review.naver?code=191633&page=2 2\n",
            "https://movie.naver.com/movie/bi/mi/review.naver?code=191633&page=2\n",
            "/movie/bi/mi/review.naver?code=191633&page=3 3\n",
            "https://movie.naver.com/movie/bi/mi/review.naver?code=191633&page=3\n",
            "/movie/bi/mi/review.naver?code=191633&page=2 다음\n"
          ]
        }
      ]
    },
    {
      "cell_type": "markdown",
      "metadata": {
        "id": "BIP3vLyhDt7I"
      },
      "source": [
        "# scrape_by_page_num"
      ]
    },
    {
      "cell_type": "code",
      "metadata": {
        "id": "npNn1u5jDtKd"
      },
      "source": [
        "def scrape_by_page_num(movie_title, page_num=10):\n",
        "    \"\"\"\n",
        "    scrape_by_page_num 함수는 페이지 <갯수>를 기준으로 리뷰를 스크레이핑하는\n",
        "    함수입니다.\n",
        "\n",
        "    파라미터:\n",
        "        - movie_title: 리뷰를 스크레이핑할 영화 제목이 담긴 문자열(str) 입니다.\n",
        "        - page_num: 첫 번째 페이지에서부터 스크레이핑할 페이지 개수가 담긴\n",
        "        숫자(int) 입니다.\n",
        "\n",
        "    리턴:\n",
        "        - 리뷰 리스트: 주어진 page_num 만큼의 페이지에서부터 스크레이핑한\n",
        "        리뷰를 담은 파이썬 리스트입니다. (각 리뷰 항목은 get_reviews 에서\n",
        "        명시된 파이썬 딕셔너리 형태여야 합니다.)\n",
        "    \"\"\"\n",
        "    \n",
        "    movie_code = get_movie_code(movie_title)\n",
        "    link = f\"{BASE_URL}/point/af/list.naver?st=mcode&sword={movie_code}\"\n",
        "    resp = requests.get(link)\n",
        "\n",
        "    soup = BeautifulSoup(resp.text, 'html.parser')\n",
        "    div = soup.find('strong', class_=\"c_88 fs_11\").string  # 평점 총갯수를 꺼냄. 그럼 총 몇페이지인지 알수있다. \n",
        "    \n",
        "    import math    # 총 페이지 갯수를 구하기 위해 올림이 필요.\n",
        "    page_number = math.ceil(int(div)/10)  # 평점갯수/10 --> 올림.  # 이렇게 총 페이지 갯수를 받아온다.  # div = class 'bs4.element.NavigableString'--> int형변환 해줘야 math함수에 넣을 수 있다. \n",
        "    # print(page_number) # page_number = 총 페이지 갯수\n",
        "    \n",
        "    reviews = []  # 빈 리스트\n",
        "\n",
        "    for i in range(1, page_number+1) : \n",
        "        if i > page_num:\n",
        "            break\n",
        "        else:\n",
        "            rev = get_reviews(movie_code, i)\n",
        "            for r in rev:\n",
        "                reviews.append(r)\n",
        "    \n",
        "    return reviews"
      ],
      "execution_count": null,
      "outputs": []
    },
    {
      "cell_type": "code",
      "metadata": {
        "colab": {
          "base_uri": "https://localhost:8080/"
        },
        "id": "m_SpmFu5GYvG",
        "outputId": "59b7ebd6-da35-46e2-baae-b9c4344de710"
      },
      "source": [
        "len(scrape_by_page_num('부산행', 2))"
      ],
      "execution_count": null,
      "outputs": [
        {
          "output_type": "execute_result",
          "data": {
            "text/plain": [
              "20"
            ]
          },
          "metadata": {},
          "execution_count": 10
        }
      ]
    },
    {
      "cell_type": "code",
      "metadata": {
        "colab": {
          "base_uri": "https://localhost:8080/"
        },
        "id": "x_qB6YlmEjdV",
        "outputId": "00635ad0-b514-41f5-9c6f-ae1b0fc0f593"
      },
      "source": [
        "reviews = []\n",
        "movie_title = 'Soul'\n",
        "page_num = 10\n",
        "    \n",
        "movie_code = get_movie_code(movie_title)\n",
        "review_url = f\"{BASE_URL}/point/af/list.naver?st=mcode&sword={movie_code}&target=after&page={page_num}\"\n",
        "resp = requests.get(review_url)\n",
        "soup = BeautifulSoup(resp.content, 'html.parser')\n",
        "get_reviews(movie_code, page_num)"
      ],
      "execution_count": null,
      "outputs": [
        {
          "output_type": "execute_result",
          "data": {
            "text/plain": [
              "\n",
              "<!DOCTYPE html>\n",
              "\n",
              "<html lang=\"ko\">\n",
              "<head>\n",
              "<meta content=\"text/html; charset=utf-8\" http-equiv=\"Content-Type\"/>\n",
              "<meta content=\"IE=edge\" http-equiv=\"X-UA-Compatible\"/>\n",
              "<meta content=\"http://imgmovie.naver.com/today/naverme/naverme_profile.jpg\" property=\"me2:image\">\n",
              "<meta content=\"네이버영화 \" property=\"me2:post_tag\">\n",
              "<meta content=\"네이버영화\" property=\"me2:category1\"/>\n",
              "<meta content=\"\" property=\"me2:category2\"/>\n",
              "<meta content=\"평점 : 네이버 영화\" property=\"og:title\"/>\n",
              "<meta content=\"네티즌 평점과 리뷰 정보 제공\" property=\"og:description\"/>\n",
              "<meta content=\"article\" property=\"og:type\"/>\n",
              "<meta content=\"https://movie.naver.com/movie/point/af/list.naver?st=mcode&amp;sword=184517&amp;target=after&amp;page=10\" property=\"og:url\"/>\n",
              "<meta content=\"http://static.naver.net/m/movie/icons/OG_270_270.png\" property=\"og:image\"/><!-- http://static.naver.net/m/movie/im/navermovie.jpg -->\n",
              "<meta content=\"http://imgmovie.naver.com/today/naverme/naverme_profile.jpg\" property=\"og:article:thumbnailUrl\"/>\n",
              "<meta content=\"네이버 영화\" property=\"og:article:author\"/>\n",
              "<meta content=\"https://movie.naver.com/\" property=\"og:article:author:url\"/>\n",
              "<link href=\"https://ssl.pstatic.net/static/m/movie/icons/naver_movie_favicon.ico\" rel=\"shortcut icon\" type=\"image/x-icon\"/>\n",
              "<title>네티즌 평점 : 네이버 영화</title>\n",
              "<link href=\"/common/css/movie_tablet.css?20210910175425\" rel=\"stylesheet\" type=\"text/css\"/>\n",
              "<link href=\"/common/css/common.css?20210910175425\" rel=\"stylesheet\" type=\"text/css\"/>\n",
              "<link href=\"/common/css/layout.css?20210910175425\" rel=\"stylesheet\" type=\"text/css\"/>\n",
              "<link href=\"/common/css/old_default.css?20210910175425\" rel=\"stylesheet\" type=\"text/css\"/>\n",
              "<link href=\"/common/css/old_layout.css?20210910175425\" rel=\"stylesheet\" type=\"text/css\"/>\n",
              "<link href=\"/common/css/old_common.css?20210910175425\" rel=\"stylesheet\" type=\"text/css\"/>\n",
              "<link href=\"/common/css/old_community.css?20210910175425\" rel=\"stylesheet\" type=\"text/css\"/>\n",
              "<script src=\"/common/js/default-min.js\" type=\"text/javascript\"></script>\n",
              "<script language=\"JavaScript\" src=\"/common/js/jindo2.js\"></script>\n",
              "<script language=\"JavaScript\" src=\"/common/js/pwm.js\"></script>\n",
              "<script type=\"text/javascript\">\n",
              "\n",
              "\tvar pwmManager = new PwmManager();\n",
              "\t\n",
              "\tfunction find_list(st, sword, target) {\n",
              "\t\tif (st == \"nickname\" || st == \"nickname_before\") {\n",
              "\t\t\tif (target == \"before\") {\n",
              "\t\t\t\tlocation.href = \"/movie/point/af/list.naver?st=nickname_before&sword=\" + sword + \"&target=before\";\n",
              "\t\t\t} else {\n",
              "\t\t\t\tlocation.href = \"/movie/point/af/list.naver?st=nickname&sword=\" + sword + \"&target=after\";\n",
              "\t\t\t}\n",
              "\t\t} else {\n",
              "\t\t\tlocation.href = \"?st=\" + st + \"&sword=\" + sword + \"&target=\" + target;\n",
              "\t\t}\n",
              "\t}\n",
              "\t\n",
              "\tfunction login_check() {\n",
              "\t\tif(\"\" == \"\"){\n",
              "\t\t\tif(confirm(\"로그인이 필요합니다. 로그인 하시겠습니까?\")){\n",
              "\t\t\t\tgoLogin();\n",
              "\t\t\t}\n",
              "\t\t\treturn false;\n",
              "\t\t}\n",
              "\t}\n",
              "\t\n",
              "\tfunction goLogin() {\n",
              "\t\tlocation.href=\"https://nid.naver.com/nidlogin.login?mode=form&url=\"+encodeURIComponent(location.href);\n",
              "\t}\n",
              "\t\n",
              "\tfunction deletePoint(nid, target) {\n",
              "\t\tif( 'Y' == 'N' || 'Y' == 'G' ) {\n",
              "\t\t\topenNotify('Y', '');\n",
              "\t\t\treturn;\n",
              "\t\t}\n",
              "\t\t\n",
              "\t\tvar tmp = document.delete_point_form;\n",
              "\t\ttmp.target.value = target;\n",
              "\t\ttmp.nid.value = nid;\n",
              "\t\t\n",
              "\t\tif(confirm(\"사용자 삭제시 복원 할 수 없습니다.정말로 삭제 하시겠습니까?\")){\n",
              "\t\t\ttmp.submit();\n",
              "\t\t}\n",
              "\t\treturn;\n",
              "\t}\n",
              "\t\n",
              "\tvar gradePopupWin;\n",
              "\tfunction openRulePopup() {\n",
              "\t\tif (screen === undefined || screen.availHeight === undefined || screen.availHeight > 800) {\n",
              "\t\t\tgradePopupWin = window.open(\"/movie/board/popup/board_rule.naver\", \"gradePopup\", \"width=550, height=800, history=no, resizable=no, scrollbars=yes, status=no, menubar=no, toolbar=no\");\n",
              "\t\t} else {\n",
              "\t\t\tgradePopupWin = window.open(\"/movie/board/popup/board_rule.naver\", \"gradePopup\", \"width=550, height=560, history=no, resizable=no, scrollbars=yes, status=no, menubar=no, toolbar=no\");\n",
              "\t\t}\n",
              "\t\t\n",
              "\t\tif (gradePopupWin) {\n",
              "\t\t\tgradePopupWin.focus();\n",
              "\t\t}\n",
              "\t}\n",
              "\t\n",
              "\n",
              "\n",
              "</script>\n",
              "</meta></meta></head>\n",
              "<body>\n",
              "<div class=\"fix\" id=\"wrap\">\n",
              "<!-- GNB -->\n",
              "<script type=\"text/javascript\">\n",
              "function delayed_submit(object) {\n",
              "\tif (navigator.userAgent.indexOf('MSIE') == -1) {\n",
              "\t\tvar b = c = new Date();\n",
              "      \twhile ((b.getTime() - c.getTime()) < 100) {\n",
              "\t\t\tb = new Date();\n",
              "      \t}\n",
              "\t\t//window.setTimeout(function() {object.submit(); console.log('s');}, 300);\n",
              "\t}\n",
              "}\n",
              "var gnb_service = 'movie';\n",
              "var gnb_logout = 'http://movie.naver.com/movie/point/af/list.naver%3Fst%3Dmcode%26sword%3D184517%26target%3Dafter%26page%3D10';\n",
              "var gnb_template = \"gnb_utf8\"; /* https://ssl.pstatic.net/static.gn/templates/gnb_utf8.nhn */\n",
              "var gnb_brightness=3;\n",
              "var gnb_response = true;\n",
              "</script>\n",
              "<a name=\"gnb_top\"></a>\n",
              "<!-- skip navigation -->\n",
              "<div id=\"u_skip\">\n",
              "<a href=\"#header\" onclick=\"document.getElementById('header').tabIndex=-1;document.getElementById('header').focus();return false;\"><span>메인 메뉴로 바로가기</span></a>\n",
              "<a href=\"#content\" id=\"gnb_goContent\" onclick=\"document.getElementById('content').tabIndex=-1;document.getElementById('content').focus();return false;\"><span>본문으로 바로가기</span></a>\n",
              "</div>\n",
              "<!-- //skip navigation -->\n",
              "<!-- GNB -->\n",
              "<div class=\"gnb_container\">\n",
              "<div class=\"gnb_content\">\n",
              "<div class=\"gnb_box\">\n",
              "<div class=\"gnb_wrap\">\n",
              "<div id=\"gnb\" onload=\"javascript:getGNB();\">\n",
              "<script charset=\"utf-8\" src=\"https://ssl.pstatic.net/static.gn/templates/gnb_utf8.nhn\" type=\"text/javascript\"></script>\n",
              "</div>\n",
              "</div>\n",
              "<!-- 검색창 -->\n",
              "<form action=\"/movie/search/result.naver\" id=\"jSearchForm\" method=\"get\" style=\"margin:0;display:none;\">\n",
              "<input maxlength=\"100\" name=\"query\" title=\"영화검색\" type=\"text\"/>\n",
              "<input name=\"section\" type=\"hidden\" value=\"all\"/>\n",
              "</form>\n",
              "<fieldset class=\"srch_area\" id=\"jSearchArea\">\n",
              "<legend><span class=\"blind\">영화검색 영역</span></legend>\n",
              "<div class=\"srch_field_on _view\">\n",
              "<span class=\"ipt_srch\">\n",
              "<label for=\"ipt_tx_srch\" id=\"search_placeholder\">영화검색</label>\n",
              "<input accesskey=\"s\" autocomplete=\"off\" class=\"ipt_tx_srch\" id=\"ipt_tx_srch\" maxlength=\"100\" name=\"query\" style=\"ime-mode:active;\" type=\"text\"/>\n",
              "<span class=\"align\"></span>\n",
              "<span class=\"auto_tx\"><a href=\"#\" title=\"자동완성 펼치기\"><img alt=\"자동완성 펼치기\" height=\"4\" src=\"https://ssl.pstatic.net/static/movie/2012/06/srch_arrow_down.gif\" title=\"자동완성 펼치기\" width=\"7\"/></a></span>\n",
              "</span>\n",
              "<button class=\"btn_srch\" onclick=\"clickcr(this, 'GNB.search', '', '', event); delayed_submit(this);\" title=\"검색\" type=\"submit\"><span class=\"blind\">검색</span></button>\n",
              "<!-- 자동 완성 영역임 #autocomplate_template-->\n",
              "</div>\n",
              "</fieldset>\n",
              "<!-- //검색창 -->\n",
              "</div>\n",
              "</div>\n",
              "</div>\n",
              "<!-- //GNB -->\n",
              "<!-- nClicks -->\n",
              "<script type=\"text/javascript\">var nsc = \"movie.comm\";</script>\n",
              "<script src=\"/common/js/clickcr.js\" type=\"text/javascript\"></script>\n",
              "<!-- // nClicks -->\n",
              "<!-- //GNB -->\n",
              "<!-- LNB -->\n",
              "<!-- header -->\n",
              "<div id=\"header\">\n",
              "<h1 class=\"svc_name\">\n",
              "<a class=\"ci_logo\" href=\"http://www.naver.com/\" id=\"lnb_gonaver\" onclick=\"clickcr(this, 'LNB.naver', '', '', event);\" title=\"naver로 바로가기\"><img alt=\"NAVER\" height=\"13\" src=\"https://ssl.pstatic.net/static/movie/2013/07/logo_ci.png\" width=\"62\"/></a>\n",
              "<a class=\"svc_logo\" href=\"/\" onclick=\"clickcr(this, 'LNB.movie', '', '', event);\" title=\"영화서비스홈으로 바로가기\"><img alt=\"영화\" height=\"19\" src=\"https://ssl.pstatic.net/static/movie/2012/06/logo_svc.png\" width=\"34\"/></a>\n",
              "</h1>\n",
              "<div class=\"scrollbar scrollbar-noscript\" id=\"scrollbar\">\n",
              "<div class=\"scrollbar-box\">\n",
              "<div class=\"scrollbar-content\">\n",
              "<div class=\"in_scroll\">\n",
              "<ul class=\"navi\">\n",
              "<li>\n",
              "<a class=\"menu01\" href=\"/\" onclick=\"clickcr(this, 'LNB.home', '', '', event);\" title=\"영화홈\"><strong>영화홈</strong></a>\n",
              "</li>\n",
              "<li>\n",
              "<a class=\"menu02\" href=\"/movie/running/current.naver\" onclick=\"clickcr(this, 'LNB.movies', '', '', event);\" title=\"상영작·예정작\"><strong>상영작·예정작</strong></a>\n",
              "<ul class=\"navi_sub\" style=\"display:none\">\n",
              "<li><a class=\"sub2_1\" href=\"/movie/running/current.naver\" onclick=\"clickcr(this, 'LNB.now', '', '', event);\" title=\"현재 상영영화\"><em>현재 상영영화</em></a></li>\n",
              "<li><a class=\"sub2_2\" href=\"/movie/running/premovie.naver\" onclick=\"clickcr(this, 'LNB.soon', '', '', event);\" title=\"개봉 예정영화\"><em>개봉 예정영화</em></a></li>\n",
              "<li><a class=\"sub2_4\" href=\"/movie/running/movieclip.naver\" onclick=\"clickcr(this, 'LNB.tailer', '', '', event);\" title=\"예고편\"><em>예고편</em></a></li>\n",
              "</ul>\n",
              "</li>\n",
              "<li>\n",
              "<a class=\"menu03\" href=\"/movie/sdb/rank/rmovie.naver\" onclick=\"clickcr(this, 'LNB.db', '', '', event);\" title=\"영화랭킹\"><strong>영화랭킹</strong></a>\n",
              "<ul class=\"navi_sub\" style=\"display:none\">\n",
              "<li><a class=\"sub3_1\" href=\"/movie/sdb/rank/rmovie.naver\" onclick=\"clickcr(this, 'LNB.rank', '', '', event);\" title=\"랭킹\"><em>랭킹</em></a></li>\n",
              "<li><a class=\"sub3_2\" href=\"/movie/sdb/browsing/bmovie_nation.naver\" onclick=\"clickcr(this, 'LNB.dir', '', '', event);\" title=\"디렉토리\"><em>디렉토리</em></a></li>\n",
              "</ul>\n",
              "</li>\n",
              "<li>\n",
              "<a class=\"menu05\" href=\"/movie/bi/mi/reserve.naver\" onclick=\"clickcr(this, 'LNB.ticket', '', '', event);\" title=\"예매\"><strong>예매</strong></a>\n",
              "<ul class=\"navi_sub\" style=\"display:none\">\n",
              "<li><a class=\"sub5_1\" href=\"http://ticket.movie.naver.com/Ticket/Reserve.aspx\" onclick=\"clickcr(this, 'LNB.buy', '', '', event);\" title=\"예매하기\"><em>예매하기</em></a></li>\n",
              "<li><a class=\"sub5_2\" href=\"http://ticket.movie.naver.com/Order/OrderList.aspx\" onclick=\"clickcr(this, 'LNB.check', '', '', event);\" title=\"예매확인·취소\"><em>예매확인·취소</em></a></li>\n",
              "<li><a class=\"sub5_3\" href=\"http://ticket.movie.naver.com/Coupon/Ticket.aspx\" onclick=\"clickcr(this, 'LNB.disticket', '', '', event);\" title=\"예매권·할인권 등록\"><em>예매권·할인권 등록</em></a></li>\n",
              "<li><a class=\"sub5_4\" href=\"http://ticket.movie.naver.com/Discount/DiscountCard.aspx\" onclick=\"clickcr(this, 'LNB.discard', '', '', event);\" title=\"할인카드안내·등록\"><em>할인카드안내·등록</em></a></li>\n",
              "<li><a class=\"sub5_5\" href=\"http://help.naver.com/ops/step2/faq.nhn?parentId=77&amp;depth=2\" onclick=\"clickcr(this, 'LNB.service', '', '', event);\" target=\"_blank\" title=\"이용안내\"><em>이용안내</em></a></li>\n",
              "</ul>\n",
              "</li>\n",
              "<li>\n",
              "<a class=\"menu07_on\" href=\"/movie/point/af/list.naver\" onclick=\"clickcr(this, 'LNB.comm', '', '', event);\" title=\"평점\"><strong>평점</strong></a>\n",
              "<ul class=\"navi_sub\" style=\"display:block\">\n",
              "<li><a class=\"sub7_1_on\" href=\"/movie/point/af/list.naver\" onclick=\"clickcr(this, 'LNB.rating', '', '', event);\" title=\"네티즌 평점\"><em>네티즌 평점</em></a></li>\n",
              "<li><a class=\"sub7_2\" href=\"/movie/board/review/list.naver\" onclick=\"clickcr(this, 'LNB.review', '', '', event);\" title=\"네티즌 리뷰\"><em>네티즌 리뷰</em></a></li>\n",
              "</ul>\n",
              "</li>\n",
              "<li>\n",
              "<a class=\"menu08\" href=\"http://serieson.naver.com/movie/home.nhn\" onclick=\"clickcr(this, 'LNB.download', '', '', event);\" target=\"_blank\" title=\"다운로드\"><strong>다운로드</strong></a>\n",
              "</li>\n",
              "<li class=\"nav_indi\">\n",
              "<a href=\"http://tv.naver.com/indiecinema\" target=\"_blank\" title=\"인디극장 UP\"><strong>인디극장 UP</strong></a><!-- N=a:LNB.indie -->\n",
              "</li>\n",
              "</ul>\n",
              "<!-- div class=\"view_mode\">\n",
              "\t\t\t\t\t\t\t<a href=\"#\" title=\"\" class=\"normal_on\"><em>1단 보기</em></a>\n",
              "\t\t\t\t\t\t\t<a href=\"#\" title=\"\" class=\"wide_off\"><em>2단 보기</em></a>\n",
              "\t\t\t\t\t\t</div -->\n",
              "</div>\n",
              "</div>\n",
              "</div>\n",
              "<div class=\"scrollbar-v\">\n",
              "<div class=\"scrollbar-button-up\"></div>\n",
              "<div class=\"scrollbar-track\">\n",
              "<div class=\"scrollbar-thumb\"></div>\n",
              "</div>\n",
              "<div class=\"scrollbar-button-down\"></div>\n",
              "</div>\n",
              "</div>\n",
              "</div>\n",
              "<!-- //header -->\n",
              "<!-- //LNB -->\n",
              "<div id=\"container\">\n",
              "<!-- content -->\n",
              "<div id=\"content\">\n",
              "<div class=\"article\">\n",
              "<div class=\"old_layout old_community\">\n",
              "<!-- Content Body -->\n",
              "<div class=\"type_1\" id=\"cbody\">\n",
              "<div id=\"old_content\">\n",
              "<form action=\"dpoint.naver\" method=\"post\" name=\"delete_point_form\">\n",
              "<input name=\"queryString\" type=\"hidden\" value=\"st=mcode&amp;sword=184517&amp;target=after&amp;page=10\"/>\n",
              "<input name=\"target\" type=\"hidden\" value=\"after\"/>\n",
              "<input name=\"nid\" type=\"hidden\"/>\n",
              "</form>\n",
              "<h4 class=\"tlt\"><img alt=\"네티즌 관람객 평점\" height=\"15\" src=\"https://ssl.pstatic.net/static/movie/2019/09/tlt_netizen_grad_2.png\" width=\"116\"/></h4>\n",
              "<div class=\"choice_movie_box\">\n",
              "<!--상단 선택된 영화 정보 -->\n",
              "<div class=\"choice_movie_info\">\n",
              "<h5>\n",
              "<a href=\"/movie/bi/mi/basic.naver?code=184517\" title=\"소울\">소울</a>\n",
              "</h5>\n",
              "<div class=\"fl\"><a href=\"/movie/bi/mi/basic.naver?code=184517\">\n",
              "<img alt=\"\" height=\"160\" src=\"https://movie-phinf.pstatic.net//20210107_160/1609984702837oNdmw_JPEG/movie_image.jpg?type=m210\" width=\"110\"/>\n",
              "</a></div>\n",
              "<table cellpadding=\"0\" cellspacing=\"0\" class=\"info_area\">\n",
              "<col width=\"62\"/><col width=\"*\"/>\n",
              "<tr>\n",
              "<th><img alt=\"기본정보\" height=\"11\" src=\"https://ssl.pstatic.net/imgmovie/2007/img/running/txt_default.gif\" width=\"38\"/></th>\n",
              "<td>\n",
              "<a href=\"/movie/sdb/browsing/bmovie.naver?genre=15\">애니메이션</a>\n",
              "\t\t\t\t\n",
              "\t\t\t\t\t|  107분\n",
              "\t\t\t\t\t\n",
              "\t\t\t\t \n",
              "\t\t\t\t\n",
              "\t\t\t\t\t|  개봉 <a href=\"/movie/sdb/browsing/bmovie.naver?open=2021\">2021</a>.<a href=\"/movie/sdb/browsing/bmovie.naver?open=20210120\">01.20</a>\n",
              "</td>\n",
              "</tr>\n",
              "<tr>\n",
              "<th><img alt=\"감독\" height=\"11\" src=\"https://ssl.pstatic.net/imgmovie/2007/img/running/txt_director.gif\" width=\"19\"/></th>\n",
              "<td><a href=\"/movie/bi/pi/basic.naver?code=35407\">피트 닥터</a></td>\n",
              "</tr>\n",
              "<tr>\n",
              "<th><img alt=\"출연\" height=\"11\" src=\"https://ssl.pstatic.net/imgmovie/2007/img/running/txt_actor.gif\" width=\"19\"/></th>\n",
              "<td><a href=\"/movie/bi/pi/basic.naver?code=641\">제이미 폭스</a>, <a href=\"/movie/bi/pi/basic.naver?code=45584\">티나 페이</a>, <a href=\"/movie/bi/pi/basic.naver?code=390060\">다비드 딕스</a></td>\n",
              "</tr>\n",
              "<tr><td colspan=\"2\" style=\"height:11px; padding:0;\"></td></tr><tr><td colspan=\"2\" style=\"height:1px; padding:0; background:#ededed;\"></td></tr><tr><td colspan=\"2\" style=\"height:15px; padding:0;\"></td></tr>\n",
              "<tr>\n",
              "<th>\n",
              "<img alt=\"개봉 후 평점\" height=\"12\" src=\"https://ssl.pstatic.net/imgmovie/2007/img/community/title_grade_netizen_a.png\" width=\"52\"/>\n",
              "</th>\n",
              "<td>\n",
              "<div class=\"fl point_type_b\"><div class=\"mask\" style=\"width:93.10000000000001%\"></div></div>\n",
              "<strong>9.31\n",
              " / 10</strong><span>( 참여인원 <em>9914</em>명 )</span>\n",
              "</td>\n",
              "</tr>\n",
              "</table>\n",
              "<div class=\"btn_area\">\n",
              "<!-- 100415 버튼 수정 -->\n",
              "<!-- //100415 버튼 수정 -->\n",
              "<!-- 시사 이벤트 -->\n",
              "</div>\n",
              "</div>\n",
              "<!-- //선택된 영화 정보 -->\n",
              "<!-- 영화선택 -->\n",
              "<div class=\"choice_movie\">\n",
              "<span class=\"fl\">\n",
              "<label for=\"current_movie\"><img alt=\"현재 상영작 평점보기\" height=\"14\" src=\"https://ssl.pstatic.net/static/movie/2019/09/txt_review_3.png\" width=\"105\"/></label><br/>\n",
              "<select class=\"select_type_1\" id=\"current_movie\" name=\"\" onchange=\"javascript:find_list('mcode',this.options[selectedIndex].value,'after');\" size=\"1\" style=\"width:250px;\">\n",
              "<option>현재 상영작</option>\n",
              "<option value=\"202673\">아임 유어 맨</option>\n",
              "<option value=\"201559\">토베 얀손</option>\n",
              "<option value=\"191907\">어시스턴트</option>\n",
              "<option value=\"201724\">영화의 거리</option>\n",
              "<option value=\"206177\">공작조: 현애지상</option>\n",
              "<option value=\"190320\">보이스</option>\n",
              "<option value=\"199860\">기적</option>\n",
              "<option value=\"200894\">극장판 포켓몬스터: 정글의 아이, 코코</option>\n",
              "<option value=\"205968\">극장판 짱구는 못말려: 격돌! 낙서왕국과 얼추 네 명의 용사들</option>\n",
              "<option value=\"207370\">말리그넌트</option>\n",
              "<option value=\"201798\">스피릿</option>\n",
              "<option value=\"30688\">해리 포터와 마법사의 돌</option>\n",
              "<option value=\"208074\">뱅드림! 로젤리아 에피소드 Ⅱ : 송 아이 엠</option>\n",
              "<option value=\"150198\">너의 이름은.</option>\n",
              "<option value=\"181114\">날씨의 아이</option>\n",
              "<option value=\"198623\">좋은 사람</option>\n",
              "<option value=\"203568\">사운드 오브 데스</option>\n",
              "<option value=\"206220\">쇼미더고스트</option>\n",
              "<option value=\"205129\">꿈꾸는 고양이</option>\n",
              "<option value=\"198399\">그대 너머에</option>\n",
              "<option value=\"201744\">내가 날 부를 때</option>\n",
              "<option value=\"180681\">슈퍼문</option>\n",
              "<option value=\"196375\">해변의 에트랑제</option>\n",
              "<option value=\"206581\">스네이크 아이즈: 지.아이.조</option>\n",
              "<option value=\"200574\">죽을 때까지</option>\n",
              "<option value=\"195970\">조제, 호랑이 그리고 물고기들</option>\n",
              "<option value=\"207182\">건파우더 밀크셰이크</option>\n",
              "<option value=\"209400\">상견니 대만판 13화</option>\n",
              "<option value=\"195599\">리스펙트</option>\n",
              "<option value=\"114330\">바쿠라우</option>\n",
              "<option value=\"64686\">소셜 네트워크</option>\n",
              "<option value=\"187348\">샹치와 텐 링즈의 전설</option>\n",
              "<option value=\"198497\">최선의 삶</option>\n",
              "<option value=\"204175\">습도 다소 높음</option>\n",
              "<option value=\"167403\">맨 인 더 다크 2 </option>\n",
              "<option value=\"201073\">코다</option>\n",
              "<option value=\"171476\">켈리 갱</option>\n",
              "<option value=\"201711\">극장판 페이트/그랜드 오더 신성원탁영역 카멜롯 팔라딘; 아가트람</option>\n",
              "<option value=\"167721\">자마</option>\n",
              "<option value=\"190748\">올리버 색스: 그의 생애</option>\n",
              "<option value=\"61450\">드림걸즈</option>\n",
              "<option value=\"207364\">여름날 우리</option>\n",
              "<option value=\"185410\">아담</option>\n",
              "<option value=\"201731\">캐논볼</option>\n",
              "<option value=\"193966\">레미니센스</option>\n",
              "<option value=\"206168\">귀문</option>\n",
              "<option value=\"188415\">박강아름 결혼하다</option>\n",
              "<option value=\"189569\">언더그라운드</option>\n",
              "<option value=\"207545\">사제로부터 온 편지</option>\n",
              "<option value=\"185614\">인질</option>\n",
              "<option value=\"37952\">남색대문</option>\n",
              "<option value=\"194082\">생각의 여름</option>\n",
              "<option value=\"191929\">암살자들</option>\n",
              "<option value=\"191431\">하이큐!! 땅 VS 하늘</option>\n",
              "<option value=\"188472\">싱크홀</option>\n",
              "<option value=\"190324\">프리 가이</option>\n",
              "<option value=\"31477\">릴리 슈슈의 모든 것</option>\n",
              "<option value=\"204768\">그린 나이트</option>\n",
              "<option value=\"167569\">더 수어사이드 스쿼드</option>\n",
              "<option value=\"192150\">모가디슈</option>\n",
              "<option value=\"194097\">갈매기</option>\n",
              "<option value=\"188466\">우리, 둘</option>\n",
              "<option value=\"129687\">피닉스</option>\n",
              "<option value=\"201272\">은혼 더 파이널</option>\n",
              "<option value=\"35360\">이도공간</option>\n",
              "<option value=\"198327\">나는 나대로 혼자서 간다</option>\n",
              "<option value=\"200896\">꽃다발 같은 사랑을 했다</option>\n",
              "<option value=\"193525\">트립 투 그리스</option>\n",
              "<option value=\"184318\">블랙 위도우</option>\n",
              "<option value=\"202541\">인트로덕션</option>\n",
              "<option value=\"197071\">학교 가는 길</option>\n",
              "<option value=\"196215\">노매드랜드</option>\n",
              "<option value=\"191920\">더 파더</option>\n",
              "<option value=\"17059\">중경삼림</option>\n",
              "<option value=\"19335\">해피 투게더</option>\n",
              "<option value=\"192102\">운디네</option>\n",
              "<option value=\"28876\">화양연화</option>\n",
              "<option value=\"127396\">캡틴 판타스틱</option>\n",
              "<option value=\"189463\">몽마르트 파파</option>\n",
              "<option value=\"189393\">교실 안의 야크</option>\n",
              "<option value=\"193330\">나를 구하지 마세요</option>\n",
              "<option value=\"173247\">트랜짓</option>\n",
              "<option value=\"191642\">킹 오브 프리즘 올 스타즈 -프리즘 쇼☆베스트10-</option>\n",
              "<option value=\"182387\">윤희에게</option>\n",
              "<option value=\"179398\">메기</option>\n",
              "<option value=\"183836\">천로역정: 천국을 찾아서</option>\n",
              "<option value=\"184912\">킹 오브 프리즘 -샤이니 세븐 스타즈- Ⅳ 루이x신x언노운</option>\n",
              "<option value=\"184998\">킹 오브 프리즘 -샤이니 세븐 스타즈- Ⅲ 레오x유우x알렉</option>\n",
              "<option value=\"183493\">킹 오브 프리즘-샤이니 세븐 스타즈-ⅱ카케루x조지x미나토</option>\n",
              "<option value=\"183104\">킹 오브 프리즘 -샤이니 세븐 스타즈-</option>\n",
              "<option value=\"173840\">레토</option>\n",
              "<option value=\"170456\">미스터 스마일</option>\n",
              "<option value=\"175318\">너의 췌장을 먹고 싶어</option>\n",
              "<option value=\"164290\">킹 오브 프리즘 프라이드 더 히어로</option>\n",
              "<option value=\"154449\">리틀 포레스트</option>\n",
              "<option value=\"152160\">킹 오브 프리즘</option>\n",
              "<option value=\"165030\">쏘아올린 불꽃, 밑에서 볼까? 옆에서 볼까?</option>\n",
              "<option value=\"158256\">고스트 스토리</option>\n",
              "<option value=\"159830\">너의 췌장을 먹고 싶어</option>\n",
              "<option value=\"143390\">우리의 20세기</option>\n",
              "<option value=\"142730\">분노</option>\n",
              "<option value=\"10546\">아비정전</option>\n",
              "<option value=\"155123\">미스 사이공: 25주년 특별 공연</option>\n",
              "<option value=\"10874\">베로니카의 이중 생활</option>\n",
              "<option value=\"26348\">부에나 비스타 소셜 클럽</option>\n",
              "<option value=\"124225\">마미</option>\n",
              "<option value=\"13251\">이조 여인 잔혹사</option>\n",
              "<option value=\"13793\">동경 이야기</option>\n",
              "<option value=\"38461\">하나와 앨리스</option>\n",
              "<option value=\"95203\">로렌스 애니웨이 </option>\n",
              "<option value=\"49085\">동사서독 리덕스</option>\n",
              "<option value=\"91945\">바바라</option>\n",
              "<option value=\"69952\">호우시절</option>\n",
              "<option value=\"40027\">에로스</option>\n",
              "<option value=\"26525\">안녕하세요</option>\n",
              "<option value=\"29729\">친구여 조용히 잠들라</option>\n",
              "<option value=\"28465\">링</option>\n",
              "<option value=\"16530\">세 가지 색 : 레드</option>\n",
              "<option value=\"11031\">열혈남아</option>\n",
              "<option value=\"14971\">25시</option>\n",
              "</select>\n",
              "</span>\n",
              "</div>\n",
              "<!-- //영화선택 -->\n",
              "</div>\n",
              "<!-- 리스트 제목> -->\n",
              "<h5 class=\"sub_tlt underline\"><span class=\"choice_txt\">소울</span> <img alt=\"평점 리스트\" height=\"14\" src=\"https://ssl.pstatic.net/imgmovie/2007/img/community/stlt_grade.gif\" width=\"59\"/>\n",
              "<div class=\"h5_right_txt\">총 <strong class=\"c_88 fs_11\">9837</strong>개의 평점이 있습니다.</div>\n",
              "</h5>\n",
              "<!--// 리스트 제목> -->\n",
              "<!-- list -->\n",
              "<table cellspacing=\"0\" class=\"list_netizen\">\n",
              "<caption class=\"blind\">개봉 후 평점 목록으로 번호, 평점, 내용, 글쓴이, 날짜 정보를 제공</caption>\n",
              "<colgroup><col width=\"44\"/><col width=\"*\"/><col width=\"68\"/>\n",
              "<thead>\n",
              "<tr>\n",
              "<th>번호</th>\n",
              "<th>감상평</th>\n",
              "<th class=\"al\"><span class=\"th_m1\">글쓴이·날짜</span></th>\n",
              "</tr>\n",
              "</thead>\n",
              "<tbody>\n",
              "<tr>\n",
              "<td class=\"ac num\">17579808</td>\n",
              "<td class=\"title\">\n",
              "<a class=\"movie color_b\" href=\"/movie/bi/mi/basic.naver?code=184517\">소울</a>\n",
              "<div class=\"list_netizen_score\">\n",
              "<span class=\"st_off\"><span class=\"st_on\" style=\"width:90%\">별점 - 총 10점 중</span></span><em>9</em>\n",
              "</div>\n",
              "<br/>\n",
              "<a class=\"report\" href=\"#\" onclick=\"report('misu****', 'I2NIj1vqJ0CFxT0K8nk9zm55H1uYXTnA/cAbbb4f61g=', '', '17579808', 'point_after');\" style=\"color:#8F8F8F\" title=\"새 창\">신고</a>\n",
              "</td>\n",
              "<td class=\"num\"><a class=\"author\" href=\"javascript:find_list('nickname','17579808', 'after');\">misu****</a><br/>21.07.04</td>\n",
              "</tr>\n",
              "<tr>\n",
              "<td class=\"ac num\">17576814</td>\n",
              "<td class=\"title\">\n",
              "<a class=\"movie color_b\" href=\"/movie/bi/mi/basic.naver?code=184517\">소울</a>\n",
              "<div class=\"list_netizen_score\">\n",
              "<span class=\"st_off\"><span class=\"st_on\" style=\"width:100%\">별점 - 총 10점 중</span></span><em>10</em>\n",
              "</div>\n",
              "<br/>가슴 뭉클해지는 영화 재밌었습니다. \n",
              "\t\t\t\n",
              "\t\t\t\n",
              "\t\t\t\n",
              "\t\t\t\t\n",
              "\t\t\t\t\n",
              "\t\t\t\t\n",
              "\t\t\t\t<a class=\"report\" href=\"#\" onclick=\"report('ehls****', '7xIXyafufD77KRub5lk3JtYTavh0ksPuxBUPvtOg9zs=', '가슴 뭉클해지는 영화 재밌었습니다. ', '17576814', 'point_after');\" style=\"color:#8F8F8F\" title=\"새 창\">신고</a>\n",
              "</td>\n",
              "<td class=\"num\"><a class=\"author\" href=\"javascript:find_list('nickname','17576814', 'after');\">ehls****</a><br/>21.07.03</td>\n",
              "</tr>\n",
              "<tr>\n",
              "<td class=\"ac num\">17575347</td>\n",
              "<td class=\"title\">\n",
              "<a class=\"movie color_b\" href=\"/movie/bi/mi/basic.naver?code=184517\">소울</a>\n",
              "<div class=\"list_netizen_score\">\n",
              "<span class=\"st_off\"><span class=\"st_on\" style=\"width:100%\">별점 - 총 10점 중</span></span><em>10</em>\n",
              "</div>\n",
              "<br/>삶은 매일 매일 같은 하루를 반복해도 무의미한 것이 아닌, 조금만 정해진 선에서 벗어나려고 해보면 의미있다는 것을 잘 보여준 것 같아요. 특히 조가 피아노를 칠 때, 많은 감동을 받고, 많은 생각을 하게 되었네요 :D 연출과 OST, 스토리 또한 잘 짜여있어 보는 내내 재미도 있었구요. 이 영화를 만들어주신 감독님과, 성우분들, 스태프분들 감사합니다! :) \n",
              "\t\t\t\n",
              "\t\t\t\n",
              "\t\t\t\n",
              "\t\t\t\t\n",
              "\t\t\t\t\n",
              "\t\t\t\t\n",
              "\t\t\t\t<a class=\"report\" href=\"#\" onclick=\"report('koji****', 'YX4NxOkRnvNh2eFo50FRGWr8dUe5Kq2xhD2YMfPkbmE=', '삶은 매일 매일 같은 하루를 반복해도 무의미한 것이 아닌, 조금만 정해진 선에서 벗어나려고 해보면 의미있다는 것을 잘 보여준 것 같아요. 특히 조가 피아노를 칠 때, 많은 감동을 받고, 많은 생각을 하게 되었네요 :D 연출과 OST, 스토리 또한 잘 짜여있어 보는 내내 재미도 있었구요. 이 영화를 만들어주신 감독님과, 성우분들, 스태프분들 감사합니다! :)', '17575347', 'point_after');\" style=\"color:#8F8F8F\" title=\"새 창\">신고</a>\n",
              "</td>\n",
              "<td class=\"num\"><a class=\"author\" href=\"javascript:find_list('nickname','17575347', 'after');\">koji****</a><br/>21.07.02</td>\n",
              "</tr>\n",
              "<tr>\n",
              "<td class=\"ac num\">17574289</td>\n",
              "<td class=\"title\">\n",
              "<a class=\"movie color_b\" href=\"/movie/bi/mi/basic.naver?code=184517\">소울</a>\n",
              "<div class=\"list_netizen_score\">\n",
              "<span class=\"st_off\"><span class=\"st_on\" style=\"width:100%\">별점 - 총 10점 중</span></span><em>10</em>\n",
              "</div>\n",
              "<br/>\n",
              "<a class=\"report\" href=\"#\" onclick=\"report('mhsp****', 'FgKlqlQH8JLvouV1a+cJjr8/uXvWRX+j0hB5P7xRB5Y=', '', '17574289', 'point_after');\" style=\"color:#8F8F8F\" title=\"새 창\">신고</a>\n",
              "</td>\n",
              "<td class=\"num\"><a class=\"author\" href=\"javascript:find_list('nickname','17574289', 'after');\">mhsp****</a><br/>21.07.02</td>\n",
              "</tr>\n",
              "<tr>\n",
              "<td class=\"ac num\">17574172</td>\n",
              "<td class=\"title\">\n",
              "<a class=\"movie color_b\" href=\"/movie/bi/mi/basic.naver?code=184517\">소울</a>\n",
              "<div class=\"list_netizen_score\">\n",
              "<span class=\"st_off\"><span class=\"st_on\" style=\"width:100%\">별점 - 총 10점 중</span></span><em>10</em>\n",
              "</div>\n",
              "<br/>A film that brought passion for the goal to my soul. \n",
              "\t\t\t\n",
              "\t\t\t\n",
              "\t\t\t\n",
              "\t\t\t\t\n",
              "\t\t\t\t\n",
              "\t\t\t\t\n",
              "\t\t\t\t<a class=\"report\" href=\"#\" onclick=\"report('kyum****', 'YG9DOBhTi5X6+d1WeIha7BYr0aTbEXFW5MHKUkR483o=', 'A film that brought passion for the goal to my soul.', '17574172', 'point_after');\" style=\"color:#8F8F8F\" title=\"새 창\">신고</a>\n",
              "</td>\n",
              "<td class=\"num\"><a class=\"author\" href=\"javascript:find_list('nickname','17574172', 'after');\">kyum****</a><br/>21.07.02</td>\n",
              "</tr>\n",
              "<tr>\n",
              "<td class=\"ac num\">17573608</td>\n",
              "<td class=\"title\">\n",
              "<a class=\"movie color_b\" href=\"/movie/bi/mi/basic.naver?code=184517\">소울</a>\n",
              "<div class=\"list_netizen_score\">\n",
              "<span class=\"st_off\"><span class=\"st_on\" style=\"width:100%\">별점 - 총 10점 중</span></span><em>10</em>\n",
              "</div>\n",
              "<br/>너무 갬덩감덩검덩겜덩걈덩김덩 \n",
              "\t\t\t\n",
              "\t\t\t\n",
              "\t\t\t\n",
              "\t\t\t\t\n",
              "\t\t\t\t\n",
              "\t\t\t\t\n",
              "\t\t\t\t<a class=\"report\" href=\"#\" onclick=\"report('nung****', '/taEiUPrcS2EVDlBPdNuL+d/i6URG3GlUGC6YnF6lcs=', '너무 갬덩감덩검덩겜덩걈덩김덩', '17573608', 'point_after');\" style=\"color:#8F8F8F\" title=\"새 창\">신고</a>\n",
              "</td>\n",
              "<td class=\"num\"><a class=\"author\" href=\"javascript:find_list('nickname','17573608', 'after');\">nung****</a><br/>21.07.01</td>\n",
              "</tr>\n",
              "<tr>\n",
              "<td class=\"ac num\">17572892</td>\n",
              "<td class=\"title\">\n",
              "<a class=\"movie color_b\" href=\"/movie/bi/mi/basic.naver?code=184517\">소울</a>\n",
              "<div class=\"list_netizen_score\">\n",
              "<span class=\"st_off\"><span class=\"st_on\" style=\"width:80%\">별점 - 총 10점 중</span></span><em>8</em>\n",
              "</div>\n",
              "<br/>It was also a beautiful Disney movie.Most of all, I was impressed with the fact that the soul learns various things to be reborn and that celebrities are the mentor of souls. However, I felt that the main character should pay more attention to his life. \n",
              "\t\t\t\n",
              "\t\t\t\n",
              "\t\t\t\n",
              "\t\t\t\t\n",
              "\t\t\t\t\n",
              "\t\t\t\t\n",
              "\t\t\t\t<a class=\"report\" href=\"#\" onclick=\"report('fack****', 'hVoN+4q/5WDLhvjL2uzPrlpQ7Qw06sVzLJBtSMP1xCk=', 'It was also a beautiful Disney movie.Most of all, I was impressed with the fact that the soul learns various things to be reborn and that celebrities are the mentor of souls. However, I felt that the main character should pay more attention to his life.', '17572892', 'point_after');\" style=\"color:#8F8F8F\" title=\"새 창\">신고</a>\n",
              "</td>\n",
              "<td class=\"num\"><a class=\"author\" href=\"javascript:find_list('nickname','17572892', 'after');\">fack****</a><br/>21.07.01</td>\n",
              "</tr>\n",
              "<tr>\n",
              "<td class=\"ac num\">17572801</td>\n",
              "<td class=\"title\">\n",
              "<a class=\"movie color_b\" href=\"/movie/bi/mi/basic.naver?code=184517\">소울</a>\n",
              "<div class=\"list_netizen_score\">\n",
              "<span class=\"st_off\"><span class=\"st_on\" style=\"width:90%\">별점 - 총 10점 중</span></span><em>9</em>\n",
              "</div>\n",
              "<br/>꿈과 인생 그리고 음악. 라라랜드의 애니메이션화. \n",
              "\t\t\t\n",
              "\t\t\t\n",
              "\t\t\t\n",
              "\t\t\t\t\n",
              "\t\t\t\t\n",
              "\t\t\t\t\n",
              "\t\t\t\t<a class=\"report\" href=\"#\" onclick=\"report('ossi****', 'QUCkqheagBJA08WCVnJZTFgH7/GavmbzsXnreARypgc=', '꿈과 인생 그리고 음악. 라라랜드의 애니메이션화.', '17572801', 'point_after');\" style=\"color:#8F8F8F\" title=\"새 창\">신고</a>\n",
              "</td>\n",
              "<td class=\"num\"><a class=\"author\" href=\"javascript:find_list('nickname','17572801', 'after');\">ossi****</a><br/>21.07.01</td>\n",
              "</tr>\n",
              "<tr>\n",
              "<td class=\"ac num\">17571594</td>\n",
              "<td class=\"title\">\n",
              "<a class=\"movie color_b\" href=\"/movie/bi/mi/basic.naver?code=184517\">소울</a>\n",
              "<div class=\"list_netizen_score\">\n",
              "<span class=\"st_off\"><span class=\"st_on\" style=\"width:100%\">별점 - 총 10점 중</span></span><em>10</em>\n",
              "</div>\n",
              "<br/>\n",
              "<a class=\"report\" href=\"#\" onclick=\"report('pthw****', '0qThjdtbJRHLdlFF5bWH+w38Hc14x1kJNuA9i/e+7bk=', '', '17571594', 'point_after');\" style=\"color:#8F8F8F\" title=\"새 창\">신고</a>\n",
              "</td>\n",
              "<td class=\"num\"><a class=\"author\" href=\"javascript:find_list('nickname','17571594', 'after');\">pthw****</a><br/>21.06.30</td>\n",
              "</tr>\n",
              "<tr>\n",
              "<td class=\"ac num\">17571551</td>\n",
              "<td class=\"title\">\n",
              "<a class=\"movie color_b\" href=\"/movie/bi/mi/basic.naver?code=184517\">소울</a>\n",
              "<div class=\"list_netizen_score\">\n",
              "<span class=\"st_off\"><span class=\"st_on\" style=\"width:100%\">별점 - 총 10점 중</span></span><em>10</em>\n",
              "</div>\n",
              "<br/>이런거 보면서 이렇게 행복할 수 있다는거 자체가 삶의 목적이 되어버렸네요.. \n",
              "\t\t\t\n",
              "\t\t\t\n",
              "\t\t\t\n",
              "\t\t\t\t\n",
              "\t\t\t\t\n",
              "\t\t\t\t\n",
              "\t\t\t\t<a class=\"report\" href=\"#\" onclick=\"report('love****', 'HkWzoholXfJ1ldn5n8cnPNBYVRGGq8/xaWw2/jHMqYY=', '이런거 보면서 이렇게 행복할 수 있다는거 자체가 삶의 목적이 되어버렸네요..', '17571551', 'point_after');\" style=\"color:#8F8F8F\" title=\"새 창\">신고</a>\n",
              "</td>\n",
              "<td class=\"num\"><a class=\"author\" href=\"javascript:find_list('nickname','17571551', 'after');\">love****</a><br/>21.06.30</td>\n",
              "</tr>\n",
              "</tbody>\n",
              "</colgroup></table>\n",
              "<form id=\"reportForm\" name=\"reportForm1\"></form>\n",
              "<script type=\"text/javascript\">\n",
              "\tfunction report(writerId, encryptedId, title, nid, boardId){\n",
              "\t\tif( 'Y' == 'N' || 'Y' == 'G' ) {\n",
              "\t\t\topenNotify('Y', '');\n",
              "\t\t\treturn;\n",
              "\t\t}\n",
              "\t\tif(login_check()== false) {\n",
              "\t\t\treturn;\n",
              "\t\t}\n",
              "\t\t\t\n",
              "\t\t\turl = location.protocol+ \"//\" + location.host + \"/movie/board/common/report.naver\";\n",
              "\t\t\tif(\"\" == \"\"){\n",
              "\t\t\t\tgoLogin();\n",
              "\t\t\t}else{\n",
              "\t\t\t\tvar reportForm = document.getElementById(\"reportForm\");\n",
              "\t\t\t\tvar formInput1 = createReportHiddenParameter(\"writerId\", writerId);\n",
              "\t\t\t\tvar formInput2 = createReportHiddenParameter(\"nid\", nid);\n",
              "\t\t\t\tvar formInput3 = createReportHiddenParameter(\"boardId\", boardId);\n",
              "\t\t\t\tvar formInput4 = createReportHiddenParameter(\"title\", title);\n",
              "\t\t\t\tvar formInput5 = createReportHiddenParameter(\"encryptedId\", encryptedId);\n",
              "\n",
              "\t\t\t\treportForm.appendChild(formInput1);\n",
              "\t\t\t\treportForm.appendChild(formInput2);\n",
              "\t\t\t\treportForm.appendChild(formInput3);\n",
              "\t\t\t\treportForm.appendChild(formInput4);\n",
              "\t\t\t\treportForm.appendChild(formInput5);\n",
              "\t\t\t\t\n",
              "\t\t\t\twindow.open(\"\", \"report\", \"status=yes, width=575, height=800, scrollbars=yes, menubar=no, toolbar=no, location=no\");\n",
              "\t\t\t\treportForm.action = url;\n",
              "\t\t\t\treportForm.target=\"report\";\n",
              "\t\t\t\treportForm.submit();\n",
              "\n",
              "\t\t\t\treportForm.removeChild(formInput1);\n",
              "\t\t\t\treportForm.removeChild(formInput2);\n",
              "\t\t\t\treportForm.removeChild(formInput3);\n",
              "\t\t\t\treportForm.removeChild(formInput4);\t\n",
              "\t\t\t\treportForm.removeChild(formInput5);\t\n",
              "\t\t\t}\n",
              "\t}\n",
              "\tfunction createReportHiddenParameter(name, value){\n",
              "\t\tvar input = document.createElement(\"input\");\n",
              "\t\tinput.type=\"hidden\";\n",
              "\t\tinput.name = name;\n",
              "\t\tinput.value = value;\n",
              "\t\treturn input;\n",
              "\t}\n",
              "\t</script>\n",
              "<!-- //list -->\n",
              "<!-- 페이징 -->\n",
              "<div class=\"paging\">\n",
              "<div>\n",
              "<a class=\"pg_prev\" href=\"/movie/point/af/list.naver?st=mcode&amp;sword=184517&amp;target=after&amp;page=9\" title=\"이전\"><em>이전</em></a>\n",
              "<a href=\"/movie/point/af/list.naver?st=mcode&amp;sword=184517&amp;target=after&amp;page=5\"><span>5</span></a>\n",
              "<a href=\"/movie/point/af/list.naver?st=mcode&amp;sword=184517&amp;target=after&amp;page=6\"><span>6</span></a>\n",
              "<a href=\"/movie/point/af/list.naver?st=mcode&amp;sword=184517&amp;target=after&amp;page=7\"><span>7</span></a>\n",
              "<a href=\"/movie/point/af/list.naver?st=mcode&amp;sword=184517&amp;target=after&amp;page=8\"><span>8</span></a>\n",
              "<a href=\"/movie/point/af/list.naver?st=mcode&amp;sword=184517&amp;target=after&amp;page=9\"><span>9</span></a>\n",
              "<a href=\"/movie/point/af/list.naver?st=mcode&amp;sword=184517&amp;target=after&amp;page=10\"><span class=\"on\">10</span></a>\n",
              "<a href=\"/movie/point/af/list.naver?st=mcode&amp;sword=184517&amp;target=after&amp;page=11\"><span>11</span></a>\n",
              "<a href=\"/movie/point/af/list.naver?st=mcode&amp;sword=184517&amp;target=after&amp;page=12\"><span>12</span></a>\n",
              "<a href=\"/movie/point/af/list.naver?st=mcode&amp;sword=184517&amp;target=after&amp;page=13\"><span>13</span></a>\n",
              "<a href=\"/movie/point/af/list.naver?st=mcode&amp;sword=184517&amp;target=after&amp;page=14\"><span>14</span></a>\n",
              "<a class=\"pg_next\" href=\"/movie/point/af/list.naver?st=mcode&amp;sword=184517&amp;target=after&amp;page=11\" title=\"다음\"><em>다음</em></a>\n",
              "</div>\n",
              "</div>\n",
              "<!-- //페이징 -->\n",
              "<!-- 검색 -->\n",
              "<fieldset class=\"form_board_search pt_18\">\n",
              "<legend>게시물 검색</legend>\n",
              "<form action=\"list.naver\" method=\"get\" name=\"searchListForm\" onsubmit=\"doSearchList(); return false;\">\n",
              "<select class=\"select_type_1\" name=\"st\" onchange=\"checkSearchType(); return false;\" size=\"1\" style=\"width:75px;\" title=\"게시물 검색\">\n",
              "<option value=\"userid\">글쓴이</option>\n",
              "<option value=\"movie\">관련영화</option>\n",
              "</select>\n",
              "<input name=\"target\" type=\"hidden\" value=\"after\"/>\n",
              "<input name=\"mcode\" type=\"hidden\" value=\"\"/>\n",
              "<input class=\"input_type_text_4\" name=\"sword\" onfocus=\"openMovieSearchPopupOrNot(); return false;\" style=\"width:145px\" title=\"검색어입력\" type=\"text\"/>\n",
              "<input alt=\"검색\" src=\"https://ssl.pstatic.net/imgmovie/2007/img/common/btn_search.gif\" type=\"image\"/>\n",
              "</form>\n",
              "</fieldset>\n",
              "<!-- //검색 -->\n",
              "<script type=\"text/javascript\">\n",
              "\t\n",
              "\t\tvar oForm = document.searchListForm;\n",
              "\t\t\n",
              "\t\tfunction checkSearchType() {\n",
              "\t\t\tvar searchType = oForm.st.value;\n",
              "\t\t\t\n",
              "\t\t\tif (searchType == \"movie\") {\n",
              "\t\t\t\toForm.sword.readOnly = true;\n",
              "\t\t\t} else {\n",
              "\t\t\t\toForm.sword.readOnly = false;\n",
              "\t\t\t}\n",
              "\t\t}\n",
              "\t\t\n",
              "\t\tfunction openMovieSearchPopupOrNot() {\n",
              "\t\t\tvar searchType = oForm.st.value;\n",
              "\t\t\t\n",
              "\t\t\tif (searchType == \"movie\") {\n",
              "\t\t\t\toForm.st.focus();\n",
              "\t\t\t\twindow.open(\"/movie/bi/pop/movie_sel.naver\", \"select_movie\", \"scrollbars=yes, status=no, toolbar=no, width=530, height=470\");\n",
              "\t\t\t}\n",
              "\t\t\t\n",
              "\t\t\treturn false;\n",
              "\t\t}\n",
              "\t\t\n",
              "\t\tfunction doSearchList() {\n",
              "\t\t\tvar searchType = oForm.st.value;\n",
              "\t\t\t\n",
              "\t\t\tif(oForm.sword.value.length < 1) {\n",
              "\t\t\t\talert(\"검색어를 입력해 주세요.\");\n",
              "\t\t\t\treturn false;\n",
              "\t\t\t}\n",
              "\t\t\t\n",
              "\t\t\tif (searchType == \"movie\") {\n",
              "\t\t\t\tvar st = \"mcode\";\n",
              "\t\t\t\tvar sword = oForm.mcode.value;\n",
              "\t\t\t\t\n",
              "\t\t\t\toForm.st.value = st;\n",
              "\t\t\t\toForm.sword.value = sword;\n",
              "\t\t\t\tfind_list(st, sword, \"\");\n",
              "\t\t\t\t\n",
              "\t\t\t\treturn false;\n",
              "\t\t\t}\n",
              "\t\t\t\n",
              "\t\t\toForm.sword.value = oForm.sword.value.replace(/\\'/g,\"\\\\'\");\n",
              "\t\t\toForm.submit();\n",
              "\t\t\treturn true;\n",
              "\t\t}\n",
              "\t\t\n",
              "\t\t// 영화 검색 팝업 창에서 콜백 하는, 영화 정보 세팅 함수\n",
              "\t\tfunction setMovieInfo (mcode, mtitle) {\n",
              "\t\t\toForm.mcode.value = mcode;\n",
              "\t\t\toForm.sword.value = mtitle;\n",
              "\t\t}\n",
              "\t\t\n",
              "\t</script>\n",
              "<!-- 안내박스 -->\n",
              "<ul class=\"box_guide mt_35\">\n",
              "<li>\n",
              "<dl class=\"info_guide\">\n",
              "<dt class=\"blind\">유의사항</dt>\n",
              "<dd>평점은 영화별로 1개의 아이디당 한 번만 등록이 가능하며 하루에 최대 3개의 영화까지만 등록이 가능합니다.\n",
              "\t\t\t\t\t게시판 용도에 맞지 않는 글은 운영자에 의해 삭제될 수 있습니다. <span class=\"rule\"><a href=\"javascript:openRulePopup();\"></a></span></dd>\n",
              "</dl>\n",
              "</li>\n",
              "</ul>\n",
              "<!-- //안내박스 -->\n",
              "<!-- 탑버튼 -->\n",
              "<div class=\"go_top\">\n",
              "<a href=\"#gnb_top\"><img alt=\"TOP\" height=\"11\" src=\"https://ssl.pstatic.net/imgmovie/2007/img/common/btn_top.gif\" width=\"30\"/></a>\n",
              "</div>\n",
              "<!-- //탑버튼 -->\n",
              "</div>\n",
              "<div id=\"assistant\">\n",
              "<!-- 우측 메뉴 -->\n",
              "<!-- 영화 인기검색어 -->\n",
              "<div class=\"box_type_1 mb_8\">\n",
              "<h3><img alt=\"영화 인기검색어\" height=\"11\" src=\"https://ssl.pstatic.net/imgmovie/2007/img/super_db/tlt_r_best_movie.gif\" width=\"75\"/></h3>\n",
              "<ul class=\"r_ranking\">\n",
              "<li class=\"ranking01\">\n",
              "<a class=\"b\" href=\"/movie/bi/mi/basic.naver?code=190320\" onclick=\"clickcr(this,'pop.list','190320','1',event);\" title=\"보이스\"><span class=\"blind\">1위</span>보이스</a>\n",
              "<span class=\"rank\">\n",
              "<img alt=\"순위 변동 없음\" height=\"10\" src=\"https://ssl.pstatic.net/imgmovie/2007/img/common/icon_na_1.gif\" width=\"7\"/>0</span>\n",
              "<li class=\"ranking02\">\n",
              "<a href=\"/movie/bi/mi/basic.naver?code=187348\" onclick=\"clickcr(this,'pop.list','187348','2',event);\" title=\"샹치와 텐 링즈의 전설\"><span class=\"blind\">2위</span>샹치와 텐 링즈의 ..</a>\n",
              "<span class=\"rank\">\n",
              "<img alt=\"순위 변동 없음\" height=\"10\" src=\"https://ssl.pstatic.net/imgmovie/2007/img/common/icon_na_1.gif\" width=\"7\"/>0</span>\n",
              "<li class=\"ranking03\">\n",
              "<a href=\"/movie/bi/mi/basic.naver?code=199860\" onclick=\"clickcr(this,'pop.list','199860','3',event);\" title=\"기적\"><span class=\"blind\">3위</span>기적</a>\n",
              "<span class=\"rank\">\n",
              "<img alt=\"순위 변동 없음\" height=\"10\" src=\"https://ssl.pstatic.net/imgmovie/2007/img/common/icon_na_1.gif\" width=\"7\"/>0</span>\n",
              "<li class=\"ranking04\">\n",
              "<a href=\"/movie/bi/mi/basic.naver?code=207370\" onclick=\"clickcr(this,'pop.list','207370','4',event);\" title=\"말리그넌트\"><span class=\"blind\">4위</span>말리그넌트</a>\n",
              "<span class=\"rank\">\n",
              "<img alt=\"순위 변동 없음\" height=\"10\" src=\"https://ssl.pstatic.net/imgmovie/2007/img/common/icon_na_1.gif\" width=\"7\"/>0</span>\n",
              "<li class=\"ranking05\">\n",
              "<a href=\"/movie/bi/mi/basic.naver?code=200894\" onclick=\"clickcr(this,'pop.list','200894','5',event);\" title=\"극장판 포켓몬스터: 정글의 아이, 코코\"><span class=\"blind\">5위</span>극장판 포켓몬스터:..</a>\n",
              "<span class=\"rank\">\n",
              "<img alt=\"순위 상승\" height=\"10\" src=\"https://ssl.pstatic.net/imgmovie/2007/img/common/icon_up_1.gif\" width=\"7\"/>1</span>\n",
              "</li></li></li></li></li></ul>\n",
              "<!--[D] 더보기 위치 이동 -->\n",
              "<a class=\"more\" href=\"/movie/sdb/rank/rmovie.naver\" onclick=\"clickcr(this,'pop.more','','',event);\">더보기</a>\n",
              "<p class=\"term\">2021.09.19</p>\n",
              "</div>\n",
              "<script type=\"text/javascript\">\n",
              "\t\t//탭 토글해주는 스크립트\n",
              "\t\tfunction showTopPoint(param){\t\t\t\n",
              "\t\t\tif(param ==\"running\"){\n",
              "\t\t\t\tdocument.getElementById(\"topRunning\").style.display=\"\";\n",
              "\t\t\t\tdocument.getElementById(\"topAll\").style.display=\"none\";\n",
              "                document.getElementById(\"running_tab\").focus();\n",
              "\t\t\t\t\n",
              "\t\t\t}else{\n",
              "\t\t\t\tdocument.getElementById(\"topRunning\").style.display=\"none\";\n",
              "\t\t\t\tdocument.getElementById(\"topAll\").style.display=\"\";\n",
              "                document.getElementById(\"all_tab_in_all\").focus();\n",
              "\t\t\t}\n",
              "\t\t}\n",
              "\t</script>\n",
              "<!-- 네티즌 최고 평점 -->\n",
              "<div class=\"box_type_1 mb_8\" id=\"topRunning\">\n",
              "<h3><img alt=\"네티즌 최고 평점\" height=\"12\" src=\"https://ssl.pstatic.net/imgmovie/2007/img/community/tlt_r_netizen_good.gif\" width=\"77\"/></h3>\n",
              "<div style=\"_margin-top:-1px;\"><a href=\"javascript:showTopPoint('running');\" id=\"running_tab\" onclick=\"clickcr(this,'npt.now','','',event);\"><img alt=\"현재 상영영화\" height=\"33\" src=\"https://ssl.pstatic.net/imgmovie/2007/img/community/tab_r_01_on.gif\" width=\"99\"/></a><a href=\"javascript:showTopPoint('all');\" id=\"all_tab\" onclick=\"clickcr(this,'npt.all','','',event);\"><img alt=\"모든영화\" height=\"33\" src=\"https://ssl.pstatic.net/imgmovie/2007/img/community/tab_r_02_off.gif\" width=\"99\"/></a></div>\n",
              "<!--[D] 선택 된 탭 대체 텍스트 제공 -->\n",
              "<strong class=\"blind\">현재 상영영화</strong>\n",
              "<ul class=\"grade\">\n",
              "<li class=\"1st ranking01\">\n",
              "<span class=\"blind\">1위</span>\n",
              "<a class=\"ls b\" href=\"/movie/point/af/list.naver?st=mcode&amp;sword=201073\" onclick=\"clickcr(this,'npt*n.list','201073','1',event);\" title=\"코다\">\n",
              "\t\t\t\t\t\t코다</a><span class=\"num b check\">9.39</span>\n",
              "<p class=\"img_movie\"><a href=\"/movie/point/af/list.naver?st=mcode&amp;sword=201073\" onclick=\"clickcr(this,'npt*n.img','201073','',event);\">\n",
              "<img alt=\"코다\" height=\"80\" src=\"https://ssl.pstatic.net/imgmovie/2007/img/common/empty_img/176x81.jpg\" width=\"176\"/>\n",
              "</a>\n",
              "</p>\n",
              "</li>\n",
              "<li class=\"1st ranking02\">\n",
              "<span class=\"blind\">2위</span>\n",
              "<a class=\"ls\" href=\"/movie/point/af/list.naver?st=mcode&amp;sword=30688\" onclick=\"clickcr(this,'npt*n.list','30688','2',event);\" title=\"해리 포터와 마법사의 돌\">\n",
              "\t\t\t\t\t\t해리 포터와 마법사..</a><span class=\"num b\">9.35</span>\n",
              "</li>\n",
              "<li class=\"1st ranking03\">\n",
              "<span class=\"blind\">3위</span>\n",
              "<a class=\"ls\" href=\"/movie/point/af/list.naver?st=mcode&amp;sword=10249\" onclick=\"clickcr(this,'npt*n.list','10249','3',event);\" title=\"모던 타임즈\">\n",
              "\t\t\t\t\t\t모던 타임즈</a><span class=\"num b\">9.32</span>\n",
              "</li>\n",
              "<li class=\"1st ranking04\">\n",
              "<span class=\"blind\">4위</span>\n",
              "<a class=\"ls\" href=\"/movie/point/af/list.naver?st=mcode&amp;sword=199860\" onclick=\"clickcr(this,'npt*n.list','199860','4',event);\" title=\"기적\">\n",
              "\t\t\t\t\t\t기적</a><span class=\"num b\">9.28</span>\n",
              "</li>\n",
              "<li class=\"1st ranking05\">\n",
              "<span class=\"blind\">5위</span>\n",
              "<a class=\"ls\" href=\"/movie/point/af/list.naver?st=mcode&amp;sword=10341\" onclick=\"clickcr(this,'npt*n.list','10341','5',event);\" title=\"위대한 독재자\">\n",
              "\t\t\t\t\t\t위대한 독재자</a><span class=\"num b\">9.23</span>\n",
              "</li>\n",
              "</ul>\n",
              "<a class=\"more\" href=\"/movie/sdb/rank/rmovie.naver?sel=cur\" onclick=\"clickcr(this,'npt.more','','',event);\">더보기</a><!-- 현재 상영영화의 더보기 -->\n",
              "<p class=\"term\" style=\"padding:0 13px 7px 0;\">2021.09.19<img alt=\"까지의 관람후 누적 평점\" height=\"9\" src=\"https://ssl.pstatic.net/imgmovie/2007/img/community/txt_righ_point.gif\" width=\"88\"/></p>\n",
              "</div>\n",
              "<div class=\"box_type_1 mb_8\" id=\"topAll\" style=\"display:none;\">\n",
              "<h3><img alt=\"네티즌 최고 평점\" height=\"12\" src=\"https://ssl.pstatic.net/imgmovie/2007/img/community/tlt_r_netizen_good.gif\" width=\"77\"/></h3>\n",
              "<strong class=\"blind\">모든 영화</strong>\n",
              "<div style=\"_margin-top:-1px;\"><a href=\"javascript:showTopPoint('running');\" onclick=\"clickcr(this,'npt.now','','',event);\"><img alt=\"현재 상영영화\" height=\"33\" src=\"https://ssl.pstatic.net/imgmovie/2007/img/community/tab_r_01_off.gif\" width=\"99\"/></a><a href=\"javascript:showTopPoint('all');\" id=\"all_tab_in_all\" onclick=\"clickcr(this,'npt.all','','',event);\"><img alt=\"모든영화\" height=\"33\" src=\"https://ssl.pstatic.net/imgmovie/2007/img/community/tab_r_02_on.gif\" width=\"99\"/></a></div>\n",
              "<ul class=\"grade\">\n",
              "<li class=\"1st ranking01\">\n",
              "<span class=\"blind\">1위</span>\n",
              "<a class=\"ls b\" href=\"/movie/point/af/list.naver?st=mcode&amp;sword=186114\" onclick=\"clickcr(this,'npt*a.list','186114','1',event);\" title=\"밥정\">\n",
              "\t\t\t\t\t\t밥정\n",
              "\t\t\t\t\t\t</a><span class=\"num b check\">9.61</span>\n",
              "<p class=\"img_movie\"><a href=\"/movie/point/af/list.naver?st=mcode&amp;sword=186114\" onclick=\"clickcr(this,'npt*a.img','186114','',event);\">\n",
              "<img alt=\"밥정\" height=\"80\" src=\"https://ssl.pstatic.net/imgmovie/2007/img/common/empty_img/176x81.jpg\" width=\"176\"/>\n",
              "</a></p>\n",
              "</li>\n",
              "<li class=\"1st ranking02\">\n",
              "<span class=\"blind\">2위</span>\n",
              "<a class=\"ls\" href=\"/movie/point/af/list.naver?st=mcode&amp;sword=171539\" onclick=\"clickcr(this,'npt*a.list','171539','2',event);\" title=\"그린 북\">\n",
              "\t\t\t\t\t\t그린 북</a><span class=\"num b\">9.59</span>\n",
              "</li>\n",
              "<li class=\"1st ranking03\">\n",
              "<span class=\"blind\">3위</span>\n",
              "<a class=\"ls\" href=\"/movie/point/af/list.naver?st=mcode&amp;sword=174830\" onclick=\"clickcr(this,'npt*a.list','174830','3',event);\" title=\"가버나움\">\n",
              "\t\t\t\t\t\t가버나움</a><span class=\"num b\">9.59</span>\n",
              "</li>\n",
              "<li class=\"1st ranking04\">\n",
              "<span class=\"blind\">4위</span>\n",
              "<a class=\"ls\" href=\"/movie/point/af/list.naver?st=mcode&amp;sword=192613\" onclick=\"clickcr(this,'npt*a.list','192613','4',event);\" title=\"디지몬 어드벤처 라스트 에볼루션 : 인연\">\n",
              "\t\t\t\t\t\t디지몬 어드벤처 라..</a><span class=\"num b\">9.53</span>\n",
              "</li>\n",
              "<li class=\"1st ranking05\">\n",
              "<span class=\"blind\">5위</span>\n",
              "<a class=\"ls\" href=\"/movie/point/af/list.naver?st=mcode&amp;sword=151196\" onclick=\"clickcr(this,'npt*a.list','151196','5',event);\" title=\"원더\">\n",
              "\t\t\t\t\t\t원더</a><span class=\"num b\">9.53</span>\n",
              "</li>\n",
              "</ul>\n",
              "<a class=\"more\" href=\"/movie/sdb/rank/rmovie.naver?sel=pnt\" onclick=\"clickcr(this,'npt.more','','',event);\">더보기</a><!-- 모든영화의 더보기 -->\n",
              "<p class=\"term\" style=\"padding:0 13px 7px 0;\">2021.09.19<img alt=\"까지의 관람후 누적 평점\" height=\"9\" src=\"https://ssl.pstatic.net/imgmovie/2007/img/community/txt_righ_point.gif\" width=\"88\"/></p>\n",
              "</div>\n",
              "<!-- //네티즌 최고 평점 -->\n",
              "<!-- 가장 많이 추천된 리뷰 -->\n",
              "<div class=\"box_type_1 mb_8\">\n",
              "<h3><img alt=\"가장 많이 추천된 리뷰\" height=\"12\" src=\"https://ssl.pstatic.net/imgmovie/2007/img/community/tlt_r_best_review_reco.gif\" width=\"103\"/></h3>\n",
              "<dl class=\"ranking_data\">\n",
              "<dt class=\"ranking01\">\n",
              "<span class=\"blind\">1위</span>\n",
              "<a class=\"b\" href=\"/movie/board/review/read.naver?nid=4791936\" onclick=\"clickcr(this,'rcr.title','4791936','1',event);\" title=\"&lt;맨 인 더 다크 2&gt; 응원하지 않고는 못 베기겠다 \">&lt;맨 인 더 다크 2&gt; 응..</a>\n",
              "</dt>\n",
              "<dd>\n",
              "<a class=\"check\" href=\"/movie/bi/mi/basic.naver?code=167403\" onclick=\"clickcr(this,'rcr.movie','167403','1',event);\" title=\"맨 인 더 다크 2 \">맨 인 더 다크..</a><a class=\"nick check\" href=\"/movie/board/review/list.naver?st=nickname&amp;sword=4791936\" onclick=\"clickcr(this,'rcr.id','jimesking','1',event);\">jime****</a>\n",
              "</dd>\n",
              "<dt class=\"ranking02\">\n",
              "<span class=\"blind\">2위</span>\n",
              "<a href=\"/movie/board/review/read.naver?nid=4791939\" onclick=\"clickcr(this,'rcr.title','4791939','2',event);\" title=\"[넷플릭스 영화] 케이트 (Kate, 2021) 후기\">[넷플릭스 영화] 케이트 (Ka..</a>\n",
              "</dt>\n",
              "<dd>\n",
              "<a href=\"/movie/bi/mi/basic.naver?code=209286\" onclick=\"clickcr(this,'rcr.movie','209286','2',event);\" title=\"케이트\">케이트</a> <a class=\"nick\" href=\"/movie/board/review/list.naver?st=nickname&amp;sword=4791939\" onclick=\"clickcr(this,'rcr.id','allboysarebeautiful','2',event);\">allb****</a>\n",
              "</dd>\n",
              "<dt class=\"ranking03\">\n",
              "<span class=\"blind\">3위</span>\n",
              "<a href=\"/movie/board/review/read.naver?nid=4792042\" onclick=\"clickcr(this,'rcr.title','4792042','3',event);\" title=\"[샹치] 샹치와 텐 링즈의 전설 2차 관람 후기\">[샹치] 샹치와 텐 링즈의 전..</a>\n",
              "</dt>\n",
              "<dd>\n",
              "<a href=\"/movie/bi/mi/basic.naver?code=187348\" onclick=\"clickcr(this,'rcr.movie','187348','3',event);\" title=\"샹치와 텐 링즈의 전설\">샹치와 텐 링..</a> <a class=\"nick\" href=\"/movie/board/review/list.naver?st=nickname&amp;sword=4792042\" onclick=\"clickcr(this,'rcr.id','winniesphere','3',event);\">winn****</a>\n",
              "</dd>\n",
              "<dt class=\"ranking04\">\n",
              "<span class=\"blind\">4위</span>\n",
              "<a href=\"/movie/board/review/read.naver?nid=4791556\" onclick=\"clickcr(this,'rcr.title','4791556','4',event);\" title=\"최선의 삶 - '최선은 최상의 결과를 보장하지 않는다.' [영화 후기,리뷰/신작, 한국, 독립 영화 추천/결말 해석]\">최선의 삶 - '최선은 최상의..</a>\n",
              "</dt>\n",
              "<dd>\n",
              "<a href=\"/movie/bi/mi/basic.naver?code=198497\" onclick=\"clickcr(this,'rcr.movie','198497','4',event);\" title=\"최선의 삶\">최선의 삶</a> <a class=\"nick\" href=\"/movie/board/review/list.naver?st=nickname&amp;sword=4791556\" onclick=\"clickcr(this,'rcr.id','hkyung769','4',event);\">hkyu****</a>\n",
              "</dd>\n",
              "<dt class=\"ranking05\">\n",
              "<span class=\"blind\">5위</span>\n",
              "<a href=\"/movie/board/review/read.naver?nid=4792047\" onclick=\"clickcr(this,'rcr.title','4792047','5',event);\" title=\"그 옛날 영화 '니키타'의 파워풀한 액션을 보는듯한 그녀 [캐이트]\">그 옛날 영화 '니키타'의 파..</a>\n",
              "</dt>\n",
              "<dd>\n",
              "<a href=\"/movie/bi/mi/basic.naver?code=209286\" onclick=\"clickcr(this,'rcr.movie','209286','5',event);\" title=\"케이트\">케이트</a> <a class=\"nick\" href=\"/movie/board/review/list.naver?st=nickname&amp;sword=4792047\" onclick=\"clickcr(this,'rcr.id','bundo63','5',event);\">bund****</a>\n",
              "</dd>\n",
              "</dl>\n",
              "<p class=\"term\" style=\"padding:0 13px 7px 0;\">2021.09.12-2021.09.19</p>\n",
              "</div>\n",
              "<!-- //가장 많이 추천된 리뷰 -->\n",
              "</div>\n",
              "<img alt=\"\" class=\"clear\" src=\"https://ssl.pstatic.net/imgmovie/2007/img/common/blank.gif\"/>\n",
              "</div>\n",
              "<!-- //Content Body -->\n",
              "</div>\n",
              "</div>\n",
              "</div>\n",
              "<!-- //content -->\n",
              "</div>\n",
              "<!-- //container -->\n",
              "<!-- Footer -->\n",
              "<script src=\"/common/js/jindo/component/1.0.2/jindo.Component.js\" type=\"text/javascript\"></script>\n",
              "<script src=\"/common/js/jindo/component/1.0.2/jindo.UIComponent.js\" type=\"text/javascript\"></script>\n",
              "<!-- footer -->\n",
              "<div id=\"footer\">\n",
              "<div class=\"in_footer\">\n",
              "<div class=\"foot_con\">\n",
              "<ul>\n",
              "<li class=\"first\"><a href=\"http://www.naver.com/rules/service.html\" onclick=\"clickcr(this, 'fot.agreement', '', '', event);\" target=\"_blank\">이용약관</a></li>\n",
              "<li><a href=\"http://www.naver.com/rules/privacy.html\" onclick=\"clickcr(this, 'fot.privacy', '', '', event);\" target=\"_blank\"><strong>개인정보처리방침</strong></a></li>\n",
              "<li><a href=\"http://www.naver.com/rules/disclaimer.html\" onclick=\"clickcr(this, 'fot.disclaimer', '', '', event);\" target=\"_blank\">책임의 한계와 법적고지</a></li>\n",
              "<li><a href=\"https://help.naver.com/support/service/main.nhn?serviceNo=800\" onclick=\"clickcr(this, 'fot.help', '', '', event);\" target=\"_blank\">영화 고객센터</a></li>\n",
              "</ul>\n",
              "<p class=\"info\">본 콘텐츠의 저작권은 저작권자 또는 제공처에 있으며, 이를 무단 이용하는 경우 저작권법 등에 따라 법적 책임을 질 수 있습니다.</p>\n",
              "<p class=\"info\">\n",
              "\t\t\t\t사업자등록번호 : 220-81-62517<span>통신판매업 신고번호</span> : 경기성남 제 2006 - 692호<span>대표이사 : 한성숙</span><span><a href=\"http://www.ftc.go.kr/info/bizinfo/communicationList.jsp\" onclick=\"clickcr(this, 'fot.bizinfo', '', '', event);\">사업자등록정보 확인</a></span><br/>\n",
              "\t\t\t\t주소 : 경기도 성남시 분당구 불정로 6 네이버 그린팩토리 <span>대표전화 : 1588-3820</span>\n",
              "</p>\n",
              "<address>\n",
              "<a class=\"logo\" href=\"https://www.navercorp.com\" onclick=\"clickcr(this, 'fot.nhn', '', '', event);\" target=\"_blank\"><img alt=\"NAVER\" height=\"11\" src=\"https://ssl.pstatic.net/static/movie/2013/07/logo_naver.png\" width=\"63\"/></a>\n",
              "<em>Copyright ©</em>\n",
              "<a href=\"https://www.navercorp.com\" onclick=\"clickcr(this, 'fot.corp', '', '', event);\" target=\"_blank\">NAVER Corp.</a>\n",
              "<span>All Rights Reserved.</span>\n",
              "</address>\n",
              "</div>\n",
              "</div>\n",
              "</div>\n",
              "<!-- //footer -->\n",
              "<script type=\"text/javascript\">\n",
              "\n",
              "if (false) {\n",
              "\tvar alertType = \"NONE\";\n",
              "\tvar koreanTitle = \"\";\n",
              "\tvar movieCode = \"0\";\n",
              "\tvar userReserveCount = \"0\";\n",
              "\tvar todayDatetime = \"20210921014226\";\n",
              "\tvar endDatetimeAfterTwoDays = \"00000000000000\";\n",
              "\t\n",
              "\t\n",
              "\tif (movieCode > 0) {\n",
              "\t\topenWriteActualPointAlert (alertType, koreanTitle, movieCode, userReserveCount, todayDatetime, endDatetimeAfterTwoDays);\n",
              "\t}\n",
              "}\n",
              "\n",
              "function openWriteActualPointAlert (alertType, koreanTitle, movieCode, count, today, endDate) {\n",
              "\tif (alertType == \"ONE\") {\n",
              "\t\tsetCookieLastUserReserveDate(today, endDate);\n",
              "\t\tif (confirm(\"관람하신 \" + koreanTitle + \"에\\n평점 등록 시 네이버페이 마일리지 500원 적립!\\n지금 평점쓰기 메뉴로 이동하시겠습니까?\")) {\n",
              "\t\t\ttop.location.href = \"http://movie.naver.com/movie/bi/mi/point.naver?code=\" + movieCode;\n",
              "\t\t}\n",
              "\t} else if (alertType == \"MORE\") {\n",
              "\t\tsetCookieLastUserReserveDate(today, endDate);\n",
              "\t\tif (confirm(\"관람하신 작품에 평점을 등록해주세요\\n작품당 네이버페이 마일리지 500원씩 적립!\\n평점 미등록작 리스트를 확인하시겠습니까?\")) {\n",
              "\t\t\ttop.location.href = \"http://ticket.movie.naver.com/Order/OverdueList.aspx\";\n",
              "\t\t}\n",
              "\t}\n",
              "}\n",
              "\n",
              "function setCookieLastUserReserveDate(today, endDate) {\n",
              "\tvar cookieForNotOpenActualPointPopup = jindo.$Cookie();\n",
              "\t\n",
              "\t\n",
              "\tcookieForNotOpenActualPointPopup.remove(\"lastUserReserveDatetime\");\n",
              "\tcookieForNotOpenActualPointPopup.remove(\"lastUserReserveCheckDatetime\");\n",
              "\t\n",
              "\tcookieForNotOpenActualPointPopup.set(\"lastUserReserveDatetime\", endDate, 9999, \"movie.naver.com\");\n",
              "\tcookieForNotOpenActualPointPopup.set(\"lastUserReserveCheckDatetime\", today, 9999, \"movie.naver.com\");\n",
              "}\n",
              "\n",
              "</script>\n",
              "<script type=\"text/javascript\">\n",
              "\t\n",
              "\t\t\n",
              "\t\t\n",
              "\t\t\n",
              "\t\t\n",
              "\t\t\tvar alertMessage = \"지원되지 않는 브라우저로 서비스 이용에 제한이 있습니다.\";\n",
              "\t\t\n",
              "\t\n",
              "\n",
              "\tfunction getBrowser() {\n",
              "\t\tvar ua = navigator.userAgent;\n",
              "\t\tif (/NAVER/.test(ua)) {\n",
              "\t\t\treturn \"NAVER_APP\";\n",
              "\t\t} else if (/IEMobile/.test(ua)) {\n",
              "\t\t\treturn \"INTERNET_EXPLORER_MOBILE\";\n",
              "\t\t} else if (/MSIE/.test(ua) || /Trident/.test(ua)) {\n",
              "\t\t\treturn \"INTERNET_EXPLORER\";\n",
              "\t\t} else if (/Firefox/.test(ua)) {\n",
              "\t\t\treturn \"FIREFOX\";\n",
              "\t\t} else if (/Opera\\//.test(ua) || /OPR\\//.test(ua)) {\n",
              "\t\t\treturn \"OPERA\";\n",
              "\t\t}  else if (/Swing\\//.test(ua)) {\n",
              "\t\t\treturn \"SWING\";\n",
              "\t\t} else if (/Chrome\\//.test(ua) || /CriOS\\//.test(ua)) {\n",
              "\t\t\treturn \"CHROME\";\n",
              "\t\t} else if (/BAND\\//.test(ua)) {\n",
              "\t\t\treturn \"BAND_APP\";\n",
              "\t\t} else if (/FBAN\\/FBIOS/.test(ua)) {\n",
              "\t\t\treturn \"FACEBOOK_APP\";\n",
              "\t\t} else if (/Twitter/.test(ua)) {\n",
              "\t\t\treturn \"TWITTER_APP\";\n",
              "\t\t} else if (/KAKAOTALK/.test(ua)) {\n",
              "\t\t\treturn \"KAKAOTALK_APP\";\n",
              "\t\t} else if (/Android/.test(ua) && /Safari/.test(ua)) {\n",
              "\t\t\treturn \"ANDROID_INTERNET_APP\";\n",
              "\t\t} else if (/Safari/.test(ua)) {\n",
              "\t\t\treturn \"SAFARI\";\n",
              "\t\t}\n",
              "\n",
              "\t\treturn \"\";\n",
              "\t}\n",
              "\t\n",
              "\tif (getBrowser() === \"UNKNOWN\" && jindo.$Cookie().get(\"notSupportBrowserAlert\") != 'true') {\n",
              "\t\talert(alertMessage);\n",
              "\t\tjindo.$Cookie().set(\"notSupportBrowserAlert\", \"true\", \"9999\", \"movie.naver.com\");\n",
              "\t}\n",
              "</script>\n",
              "<script src=\"/common/js/lcslog.js\" type=\"text/javascript\"></script>\n",
              "<script src=\"/common/js/jindo/component/1.0.2/jindo.Component.min.js\" type=\"text/javascript\"></script>\n",
              "<script charset=\"UTF-8\" src=\"/common/js/vendor/jindo.WatchInput.js\" type=\"text/javascript\"></script>\n",
              "<script charset=\"UTF-8\" src=\"/common/js/lib/Core.js?20210910175425\" type=\"text/javascript\"></script>\n",
              "<script charset=\"UTF-8\" src=\"/common/js/lib/LNB.js?20210910175425\" type=\"text/javascript\"></script>\n",
              "<script charset=\"UTF-8\" src=\"/common/js/lib/Search.js?20210910175425\" type=\"text/javascript\"></script>\n",
              "<script type=\"text/javascript\">\n",
              "\n",
              "    // nhn.movie.Search가 jindo 기반이어서 javascript로 전환함\n",
              "    if (document.addEventListener) {\n",
              "        document.addEventListener(\"DOMContentLoaded\", function () {\n",
              "            document.removeEventListener(\"DOMContentLoaded\", arguments.callee, false);\n",
              "            loadFooter();\n",
              "        }, false);\n",
              "    }\n",
              "// Internet Explorer\n",
              "    else if (document.attachEvent) {\n",
              "        // onreadystatechange 는 모든 브라우저가 반환\n",
              "        document.attachEvent(\"onreadystatechange\", function () {\n",
              "            if (document.readyState == \"complete\" || document.readyState == 'loaded') {\n",
              "                document.detachEvent(\"onreadystatechange\", arguments.callee);\n",
              "                loadFooter();\n",
              "            }\n",
              "        });\n",
              "    }\n",
              "\n",
              "    function loadFooter() {\n",
              "        var goNaver = document.getElementById(\"lnb_gonaver\");\n",
              "        goNaver.addEventListener(\"focus\", focusonNaverIcon, false);\n",
              "\n",
              "        // LNB - 사용처를 못 찾음\n",
              "//   \tvar oLNB = new nhn.movie.LNB();\n",
              "\n",
              "        // 상단 검색영역\n",
              "        var oSearch = new nhn.movie.Search({\n",
              "            area : \"jSearchArea\",\n",
              "            autosearch : \"https://auto-movie.naver.com/ac?q_enc=UTF-8&st=1&r_lt=1&n_ext=1&t_koreng=1&r_format=json&r_enc=utf-8&r_unicode=0&r_escape=1&q=\",\n",
              "            movelink : \"/movie/bi/mi/basic.naver?code=\",\n",
              "            peoplelink : \"/movie/bi/pi/basic.naver?code=\"\n",
              "        });\n",
              "\n",
              "        getGNB();\n",
              "    }\n",
              "\n",
              "    function focusonNaverIcon(event) {\n",
              "        event.preventDefault();\t// jindo.$Event.CANCEL_DEFAULT 와 동일한 기능으로 추측됨\n",
              "        document.getElementById('ipt_tx_srch').value= \"\";\n",
              "        document.getElementById('search_placeholder').style = \"display:inline;\";\n",
              "        if (document.getElementById('jAutoComplate') != undefined && document.getElementById('jAutoComplate') !== null) {\n",
              "            document.getElementById('jAutoComplate').style = \"display:none;\"\n",
              "        }\n",
              "    }\n",
              "\n",
              "    \n",
              "    window.addEventListener('pageshow', function(event) { lcs_do(); });\n",
              "\n",
              "    document.addEventListener('click', function (event) {\n",
              "        var welSource = event.srcElement;\t// jindo.$Element(oEvent.element);\n",
              "        if (!document.getElementById(\"gnb\").contains(welSource)) {\n",
              "            gnbAllLayerClose();\n",
              "        }\n",
              "    });\n",
              "</script>\n",
              "<!-- //Footer -->\n",
              "</div>\n",
              "</body>\n",
              "</html> "
            ]
          },
          "metadata": {},
          "execution_count": 86
        }
      ]
    },
    {
      "cell_type": "code",
      "metadata": {
        "id": "djd-znQ8FdKT"
      },
      "source": [
        ""
      ],
      "execution_count": null,
      "outputs": []
    }
  ]
}