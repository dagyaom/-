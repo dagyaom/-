{
  "nbformat": 4,
  "nbformat_minor": 0,
  "metadata": {
    "colab": {
      "name": "확률분포.ipynb",
      "private_outputs": true,
      "provenance": [],
      "authorship_tag": "ABX9TyP5lUWK6xCwPht/UkGau1xA",
      "include_colab_link": true
    },
    "kernelspec": {
      "name": "python3",
      "display_name": "Python 3"
    },
    "language_info": {
      "name": "python"
    }
  },
  "cells": [
    {
      "cell_type": "markdown",
      "metadata": {
        "id": "view-in-github",
        "colab_type": "text"
      },
      "source": [
        "<a href=\"https://colab.research.google.com/github/dagyaom/Python_Practice/blob/main/%ED%99%95%EB%A5%A0%EB%B6%84%ED%8F%AC.ipynb\" target=\"_parent\"><img src=\"https://colab.research.google.com/assets/colab-badge.svg\" alt=\"Open In Colab\"/></a>"
      ]
    },
    {
      "cell_type": "markdown",
      "metadata": {
        "id": "z7OyLMsPr7JK"
      },
      "source": [
        "# 무작위 표본 추출\n",
        "출처: https://rfriend.tistory.com/548 [R, Python 분석과 프로그래밍의 친구 (by R Friend)]"
      ]
    },
    {
      "cell_type": "code",
      "metadata": {
        "id": "d29XOUm6sd0I"
      },
      "source": [
        "# 난수생성 초기값 부여\n",
        "np.random.seed(seed=100)\n",
        "\n",
        "#난수 생성 할 때 마다 값이 달라지는 것이 아니라, 누가, 언제 하든지 간에 똑같은 난수 생성을 원한다면 (즉, 재현가능성, reproducibility) seed 번호를 지정해주면 됩니다."
      ],
      "execution_count": null,
      "outputs": []
    },
    {
      "cell_type": "code",
      "metadata": {
        "id": "7MrG0GMSuwp-"
      },
      "source": [
        "# 1부터 5까지의 정수 모집단에서 3개의 균등확률표본을 복원추출 하기\n",
        "\n",
        "np.random.choice(5, 3)\n",
        "np.random.randint(0,5,3)\n",
        "\n",
        "# 표본이 뽑힐 확률 p를 명시적으로 지정해주지 않으면 모든 원소가 뽑힐 확률이 동일한 (즉, p=1/N) 균등확률분포를 가정하고 표본이 추출됩니다. \n",
        "# 그리고, 복원추출(replacement)이 기본 설정값이므로 똑같은 값이 2번 이상 표본으로 뽑힐 수도 있습니다. "
      ],
      "execution_count": null,
      "outputs": []
    },
    {
      "cell_type": "code",
      "metadata": {
        "id": "c2FOv-JLvv_3"
      },
      "source": [
        "# 1부터 5까지의 정수 모집단에서 3개의 균등확률표본을 비복원추출(without replacement)하기. \n",
        "#(모집단에서 표본을 추출할 때 각 원소를 딱 한번만 추출하기 때문에 동일한 원소가 2번 이상 뽑히는 일은 없음 (default 옵션은 replace=True 임))\n",
        "\n",
        "np.random.choice(5, 3, replace=False)"
      ],
      "execution_count": null,
      "outputs": []
    },
    {
      "cell_type": "code",
      "metadata": {
        "id": "I7F3Fxb5wR3c"
      },
      "source": [
        "# 정수 대신에 임의의 배열처럼 생긴 객체의 원소를 확률추출하기\n",
        "fruits = ['apple', 'banana', 'cherries', 'durian', 'grapes', 'lemon', 'mango']\n",
        "np.random.choice(fruits, 3, p=p, replace=False)\n"
      ],
      "execution_count": null,
      "outputs": []
    },
    {
      "cell_type": "markdown",
      "metadata": {
        "id": "VH81bndMsdcO"
      },
      "source": [
        "## 정수를 뽑는 이산형 확률 분포(discrete probability distribution)인 이항분포, 초기하분포, 포아송분포로 부터 무작위 추출\n",
        "\n",
        "출처: https://rfriend.tistory.com/284 [R, Python 분석과 프로그래밍의 친구 (by R Friend)]"
      ]
    },
    {
      "cell_type": "code",
      "metadata": {
        "id": "Rjp0cvnUtAOk"
      },
      "source": [
        "np.random.binomial(n=1, p=0.5, size=20)\n",
        "#앞(head) 또는 뒤(tail) (n=1) 가 나올 확률이 각 50%(p=0.5)인 동전 던지기를 20번(size=20)"
      ],
      "execution_count": null,
      "outputs": []
    },
    {
      "cell_type": "code",
      "metadata": {
        "id": "DeBAWCJDtO-9"
      },
      "source": [
        "#good 이 5개, bad 가 20개인 모집단에서 5개의 샘플을 무작위로 비복원추출(random sampling without replacement) 하는 것을 100번\n",
        "np.random.seed(seed=100)\n",
        "np.random.hypergeometric(ngood=5, nbad=20, nsample=5, size=100)"
      ],
      "execution_count": null,
      "outputs": []
    },
    {
      "cell_type": "code",
      "metadata": {
        "id": "6aCMsQvDtdto"
      },
      "source": [
        "# 일정한 단위 시간, 혹은 공간에서 무작위로 발생하는 사건의 평균 회수인 λ(lambda)가 20인 포아송 분포로 부터 100개의 난수\n",
        "np.random.poisson(lam=20, size=100)"
      ],
      "execution_count": null,
      "outputs": []
    },
    {
      "cell_type": "markdown",
      "metadata": {
        "id": "tOur3dYAtw1l"
      },
      "source": [
        "## 연속형 확률분포(continuous probability distribution)인 정규분포,  t-분포, 균등분포, F 분포, 카이제곱분포로부터 난수를 생성하는 방법\n",
        "\n",
        "출처: https://rfriend.tistory.com/284 [R, Python 분석과 프로그래밍의 친구 (by R Friend)]"
      ]
    },
    {
      "cell_type": "code",
      "metadata": {
        "id": "_Z4iCYnbsoBI"
      },
      "source": [
        "# 샘플 생성(추출) 개수 및 array shape 설정\n",
        "\n",
        "np.random.normal(size=2)\n",
        "np.random.normal(size=(2, 3))  # 행, 열 순\n",
        "np.random.normal(size=(2, 3, 4))  # 깊이, 행, 열 순"
      ],
      "execution_count": null,
      "outputs": []
    },
    {
      "cell_type": "code",
      "metadata": {
        "id": "bnIvbv6Wr5zJ"
      },
      "source": [
        "#  정규분포로부터 무작위 표본 추출\n",
        "np.random.normal(50, 10, 1000)  # 평균이 50, 표준편차 10 인 정규분포로부터 난수 1000개 생성\n",
        "\n",
        "np.random.normal(0, 3, size=100) #평균이 '0', 표준편차가 '3'인 정규분포로 부터 난수 100개를 생성 \n",
        "\n"
      ],
      "execution_count": null,
      "outputs": []
    }
  ]
}