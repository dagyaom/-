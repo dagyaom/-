{
  "nbformat": 4,
  "nbformat_minor": 0,
  "metadata": {
    "colab": {
      "name": "통계학.ipynb",
      "private_outputs": true,
      "provenance": [],
      "toc_visible": true,
      "include_colab_link": true
    },
    "kernelspec": {
      "name": "python3",
      "display_name": "Python 3"
    },
    "language_info": {
      "name": "python"
    }
  },
  "cells": [
    {
      "cell_type": "markdown",
      "metadata": {
        "id": "view-in-github",
        "colab_type": "text"
      },
      "source": [
        "<a href=\"https://colab.research.google.com/github/dagyaom/Python_Practice/blob/main/%ED%86%B5%EA%B3%84%ED%95%99.ipynb\" target=\"_parent\"><img src=\"https://colab.research.google.com/assets/colab-badge.svg\" alt=\"Open In Colab\"/></a>"
      ]
    },
    {
      "cell_type": "markdown",
      "metadata": {
        "id": "FLtyJnVPLDYC"
      },
      "source": [
        "# Linear Regression(선형회귀)\n"
      ]
    },
    {
      "cell_type": "markdown",
      "metadata": {
        "id": "fvREmJyDVqI3"
      },
      "source": [
        "< data preprocessing>\n",
        "\n",
        "- 깨끗한 데이터\n",
        "\n",
        "- outlier 제거\n",
        "\n",
        "- data imbalance\n",
        "\n",
        "- 피쳐고르기, 결측치제거, 학습 평가 세트분리 등\n",
        "\n",
        "- 스케일링 : fit_transform, transform\n",
        "\n",
        "<model 'deveolopment'> \n",
        "\n",
        "- ridge regression, \n",
        "\n",
        "- logistic regression, \n",
        "\n",
        "- random forest(분류)(data imbalance 잘 못잡는다), \n",
        "\n",
        "- xgboost(data imbalance해결에 너무 좋은 모델)"
      ]
    },
    {
      "cell_type": "code",
      "metadata": {
        "id": "eqC4F9OOy-y8"
      },
      "source": [
        "# pip install -U pandas-profiling"
      ],
      "execution_count": null,
      "outputs": []
    },
    {
      "cell_type": "code",
      "metadata": {
        "id": "48jeNf-kzACr"
      },
      "source": [
        "pip install --upgrade category_encoders   #원핫인코더에 필요"
      ],
      "execution_count": null,
      "outputs": []
    },
    {
      "cell_type": "code",
      "metadata": {
        "id": "97_KYd3tzBw_"
      },
      "source": [
        "import sklearn\n",
        "sklearn.__version__\n",
        "\n",
        "# sklearn 재설치\n",
        "!pip uninstall scikit-learn -y\n",
        "!pip install -U scikit-learn\n",
        "\n",
        "# sklearn 버전 재확인 -> 0.23 이상으로 설치되었는지 확인\n",
        "import sklearn\n",
        "sklearn.__version__\n",
        "\n",
        "\n",
        "# 사이킷런 새로 설치해줘야, "
      ],
      "execution_count": null,
      "outputs": []
    },
    {
      "cell_type": "markdown",
      "metadata": {
        "id": "GrQYIMBNU4eI"
      },
      "source": [
        "세연님 : 1. 기준모델과 MAE의 의미와 그것을 구하는 과정의 예시(211)\n",
        "\n",
        "민석님 : 2. scikit-learn을 이용하여 단순 선형회귀를 진행하는 과정과 그 예시(211 212)\n",
        "\n",
        "효섭님 : 3. 선형회귀모델의 계수의 의미와 그것을 구하는 과정의 예시(선형회귀 식 포함)(211)\n",
        "\n",
        "용우님 : 4. 범주형 자료를 다루기 위한 원핫인코딩을 설명하고 그 예시를 들어주세요(213)\n",
        "\n",
        "소향님 : 5. 특성공학에 사용되는 SelectKBest를 사용하는 이유와 그 방법의 예시(213)\n",
        "\n",
        "민찬님: 6. ridge regression을 하는 이유와 그 예시(213)\n",
        "\n",
        "인중님 : 7. logistic regression을 하는 이유와 그 예시(214)"
      ]
    },
    {
      "cell_type": "markdown",
      "metadata": {
        "id": "Ag4DXn1pL_n1"
      },
      "source": [
        "## 1.데이터셋 나누기(train/validate/tast)\n",
        "\n",
        "- 데이터 전처리의 마지막 단계로, 데이터셋을 다음 세 가지 데이터셋으로 나눈다.\n",
        "\n",
        "• 훈련 데이터셋(training set): 신경망을 훈련시키는 데 사용한다.\n",
        "\n",
        "• 검증 데이터셋(validation set): Hyper-parameters(초매개변수)를 튜닝하는 데 사용한다. 즉, 예측의 오류를 측정할 때 사용.\n",
        "\n",
        "• 테스트 데이터셋(testing set): 일반화 검증을 위해 마지막에 딱 한번 사용한다. 신경망의 성능을 최종 평가하는 데 사용한다.(data leakage 데이터 유출 방지)\n",
        "(data leakage를 막기 위해 pipeline을 쓴다.; 전처리 과정의 자동화)\n",
        "\n",
        "- 데이터 수가 적을 때는 K-fold 교차검증(cross-validation)을 진행할 수 있음.\n",
        "\n",
        "\n",
        "\n",
        "\n",
        "https://thebook.io/080232/ch02/06/03/\n",
        "\n",
        "https://3months.tistory.com/118\n",
        "\n"
      ]
    },
    {
      "cell_type": "markdown",
      "metadata": {
        "id": "mkCWjyVF6kCl"
      },
      "source": [
        "### 1)데이터셋을 나누는 여러가지 방법\n",
        "https://wdprogrammer.tistory.com/29\n",
        "\n",
        "<img src=\"https://sebastianraschka.com/images/blog/2018/model-evaluation-selection-part4/model-eval-conclusions.jpg\" width=\"600\">"
      ]
    },
    {
      "cell_type": "markdown",
      "metadata": {
        "id": "YhtUhVQn2Vm8"
      },
      "source": [
        "### 2)데이터셋을 나누는 이유 \n",
        "\n",
        ": 머신러닝을 통해서 예측이나 분류를 할 수 있는데, 이 예측이나 분류가 얼마나 정확한지 자문하는 과정이 필요하기 때문. \n",
        "\n",
        "- 일반적으로 훈련 데이터셋과 검증 데이터셋은 모델을 튜닝하고 개선하는 데 사용한다. \n",
        "- 검증 데이터셋 : 훈련을 조기 종료할지 결정하는 데 사용하기도 한다.(모델의 검증 데이터셋 예측 성능이 더 이상 좋아지지 않는 시점에 훈련을 종료) 이 방식은 신경망의 과적합을 방지하는 효과가 있다.\n",
        "\n",
        "- 테스트 데이터셋은 홀드아웃(holdout) 데이터셋이라고도 하는데, 신경망을 훈련시키는 데 절대 사용하지 않기 때문이다. 이 데이터셋은 모델 성능을 최종 평가하는 데 사용한다. 이 방식은 모델의 실세계 성능을 비교적 정확하게 반영할 수 있다.\n",
        "\n",
        "- 데이터셋을 나누는 비율도 중요하다. 훈련 데이터셋을 많이 할당하면 모델 성능은 향상시킬 수 있지만 과적합에 대처할 수 없게 된다. 반대로 검증 데이터셋과 테스트 데이터셋을 많이 할당하면 훈련 데이터셋이 부족해 모델 성능이 감소할 수 있다.\n"
      ]
    },
    {
      "cell_type": "markdown",
      "metadata": {
        "id": "xCTrSy7Beol0"
      },
      "source": [
        "- 여기서 굳이 검증세트를 두는 이유는 뭘까?(훈련 데이터와 테스트 데이터만으로도 훈련의 척도를 판단할 수 있는데? )\n",
        "\n",
        " 1) 훈련 데이터에 대한 학습만을 바탕으로 모델의 설정(Hyperparameter)를 튜닝하게 되면 과대적합(overfitting)이 일어날 가능성이 매우 크다. ==> 훈련세트로 모델을 한번에 완전하게 학습시키기가 어렵기 때문.\n",
        "\n",
        " 2) 테스트 데이터는 학습에서 모델에 간접적으로라도 영향을 미치면 안 되기 때문에 테스트 데이터로 검증해서는 안된다. \n",
        "\n",
        "즉, 과적합을 피하고 편향을 제거한 데이터로 모델 성능을 평가하기 위해서이다. = 모델의 일반화 성능을 올바르게 측정하기 위함이다. \n",
        "\n",
        "이러한 이유로 검증(validation) 데이터셋을 따로 두어 매 훈련마다 검증 데이터셋에 대해 평가하여 모델을 튜닝해야 한다. "
      ]
    },
    {
      "cell_type": "markdown",
      "metadata": {
        "id": "5x9dvdh6kbg1"
      },
      "source": [
        "#### 여기서 잠깐, HyperParameter(초매개 변수)란??\n",
        "\n",
        "- Parameter : 모델 내부에서 확인이 가능한 변수. 즉, 데이터를 통해서 산출이 가능한 값.(평균, 표준편차, 결정계수 등...)\n",
        "\n",
        "- HyperParameter : 모델에서 외적인 요소, 즉, 데이터 분석을 통해 얻어지는 값이 아니고 사용자에 의해 정해지는 값. \n",
        "\n",
        "가중치와 같이 모델이 스스로 설정 및 갱신하는 매개변수가 아닌, 사람이 직접 설정해주어야 하는 매개변수를 의미함. \n",
        "\n"
      ]
    },
    {
      "cell_type": "markdown",
      "metadata": {
        "id": "a6Iv7SXJ2o8-"
      },
      "source": [
        "#### stadard scaling(표준화)을 할 때에도 train/test를 나눠줘야 함. \n",
        "\n",
        "데이터의 패턴을 인식한다는 것 = 데이터의 분포를 인식한다는 것.\n",
        "\n",
        "나눠주지 않으면 test의 분포까지도 학습하게 된다. \n",
        "\n",
        "--> data leaklage 발생.\n",
        "\n",
        "- data leaklage : 객관성을 가지고 있는 데이터정보가 내 모델로 흘러들어오게 하는 모든 것.\n",
        "\n",
        "- 데이터 누수를 막기위해 : pipeline이용"
      ]
    },
    {
      "cell_type": "markdown",
      "metadata": {
        "id": "djTAI1EZ57Xt"
      },
      "source": [
        "### 3)데이터셋 나누기 코딩"
      ]
    },
    {
      "cell_type": "code",
      "metadata": {
        "id": "uZskTmLr6ALz"
      },
      "source": [
        "from sklearn.model_selection import train_test_split\n",
        "train, val = train_test_split(df, random_state=2)\n",
        "\n",
        "print(\"train shape: \", train.shape)\n",
        "print(\"val shape: \", val.shape)"
      ],
      "execution_count": null,
      "outputs": []
    },
    {
      "cell_type": "markdown",
      "metadata": {
        "id": "3QoZpjvaMo1H"
      },
      "source": [
        "## 2.기준모델 정하기(Baseline)\n",
        "\n",
        "- 왜 필요한가?"
      ]
    },
    {
      "cell_type": "markdown",
      "metadata": {
        "id": "YdSn4Of0MvPg"
      },
      "source": [
        "### 1)Regression(회귀)\n",
        "\n",
        "- baseline : 타겟 변수의 평균값"
      ]
    },
    {
      "cell_type": "markdown",
      "metadata": {
        "id": "WpLZrbh_M4yS"
      },
      "source": [
        "### 2)Classification(분류)\n",
        "\n",
        "- baseline : 타겟 변수의 최빈값. 최다 비율 클래스.\n",
        "- 시계열 데이터의 경우 : 어떤 시점을 기준으로 이전 시간의 데이터\n",
        "\n",
        "왜 최빈값이어야 하는가?\n",
        "--> 분류문제에서는 타겟변수가 편중된 범주비율을 가지는 경우가 많고, 이러한 데이터에서 최빈 범주를 기준으로 하지않을 경우 모델 성능을 착각할 수 있기 때문이다. \n",
        "\n",
        " 예를 들면, 클래스 1과 0의 비율이 9:1인 학습데이터로 모델만드니까 모델예측정확도가 90% -> 이 모델은 좋은 성능인가? \n",
        "\n",
        " -> 아니다. 이 데이터는 모델이 무조건 1만 찍도록 만들면 정확도 90%. 그러므로 클래스1에 대한 정확도가 90%인 기준모델을 설정하고 더 좋은 성능을 가지는 모델을 만들어야 함."
      ]
    },
    {
      "cell_type": "markdown",
      "metadata": {
        "id": "IzUvrrdlsN53"
      },
      "source": [
        "☆☆ 분류 문제 풀기전에는 항상 먼터 타겟 범주의 비율을 확인해 볼 것."
      ]
    },
    {
      "cell_type": "code",
      "metadata": {
        "id": "vb2fDPGkspur"
      },
      "source": [
        "# 타겟을 정한다\n",
        "target = 'Price'\n",
        "\n",
        "# 타겟 데이버 범주의 비율 확인\n",
        "y_train = train[target]\n",
        "y_train.value_counts(normalize=True)  # value_counts(): 유일값별 갯수세기 #normalize: 확률로 나타냄. # pd.Series 형태로 값 나온다. "
      ],
      "execution_count": null,
      "outputs": []
    },
    {
      "cell_type": "code",
      "metadata": {
        "id": "it9wFa5ImaFj"
      },
      "source": [
        "# 최빈값(majority class) 빼내기.\n",
        "major = y_train.mode()[0]  # mode() : 최빈값만 pd.Series형태로 반환함. [0]을 붙여줘서(slicing) 시리즈의 0번째 값만 출력해달라고 함.\n",
        "\n",
        "# 기준모델 만들기.(리스트 형태로 만든다.)\n",
        "y_pred = [major]*len(y_train)  #y_train의 갯수만큼 곱해줌."
      ],
      "execution_count": null,
      "outputs": []
    },
    {
      "cell_type": "code",
      "metadata": {
        "id": "wlEV9xKx-2S4"
      },
      "source": [
        "## 참고: 수치형 데이터에 대한 통계치 확인할 때(df중에서 수치형 데이터만 통계내 준다.\n",
        "df.describe()"
      ],
      "execution_count": null,
      "outputs": []
    },
    {
      "cell_type": "markdown",
      "metadata": {
        "id": "gMku2Bu_69an"
      },
      "source": [
        "## 3.결측치 처리하기 \n",
        "\n",
        " sklearn.impute.SimpleImputer\n",
        "\n",
        "- strategystring, default=’mean’/“median”/“most_frequent”/\"constant\"\n",
        "\n",
        "https://scikit-learn.org/stable/modules/generated/sklearn.impute.SimpleImputer.html\n",
        "\n",
        "\n",
        "- 결측치를 처리할 떄 평균값, 중앙값 뭘 넣어야 하나?\n",
        ": 데이터가 극단적이면 평균값의 의미가 없다. outliar가 심한경우 평균값의 의미가 없음.\n",
        "- 아웃라이어가 있을 때 전처리에 평균값을 내주는게 bias가 발생할 수 있음. 이럴땐 중앙값을 구하는게 정확하다.!\n",
        "- 즉 impute할 때에는 데이터의 정확한 분포를 보고 impute하라.\n",
        "\n",
        "\n",
        "아니 그럼, 아웃라이어가 어디서 얼마나 분포하는지 어떻게 확인하지? ★\n",
        "\n",
        "-> https://lsjsj92.tistory.com/556"
      ]
    },
    {
      "cell_type": "code",
      "metadata": {
        "id": "2K7ceoaODOXn"
      },
      "source": [
        "# 결측치 알아보기\n",
        "train.info()"
      ],
      "execution_count": null,
      "outputs": []
    },
    {
      "cell_type": "code",
      "metadata": {
        "id": "N39mjhhx8PeD"
      },
      "source": [
        "# 결측치를 심플하게 각 특성의 평균값으로 채우기.(사이킷런 선형회귀함수는 결측값이 존재하는 모델을 돌릴 수 없음)\n",
        "\n",
        "from sklearn.impute import SimpleImputer\n",
        "\n",
        "imputer = SimpleImputer()\n",
        "X_train_imputed = imputer.fit_transform(X_train)\n",
        "X_val_imputed = imputer.transform(X_val)\n"
      ],
      "execution_count": null,
      "outputs": []
    },
    {
      "cell_type": "code",
      "metadata": {
        "id": "CWOY11X1E1sN"
      },
      "source": [
        "# ★Train, test 로 나누기 전에 이렇게 하기도 하는데, 차이가 뭘까? \n",
        "passengers['Age'].fillna(value=passengers['Age'].mean(), inplace=True)"
      ],
      "execution_count": null,
      "outputs": []
    },
    {
      "cell_type": "markdown",
      "metadata": {
        "id": "f7b1N3AiLK5I"
      },
      "source": [
        "## Simple Linear Regression(단순 선형회귀)"
      ]
    },
    {
      "cell_type": "markdown",
      "metadata": {
        "id": "tyUstNqLLSAm"
      },
      "source": [
        "## Multiple Linear Regression(다중 선형회귀)"
      ]
    },
    {
      "cell_type": "code",
      "metadata": {
        "id": "eyHyt9x_TLVu"
      },
      "source": [
        ""
      ],
      "execution_count": null,
      "outputs": []
    },
    {
      "cell_type": "markdown",
      "metadata": {
        "id": "OnYWQOOOLlR3"
      },
      "source": [
        "## Ridge regression(Ridge 회귀) "
      ]
    },
    {
      "cell_type": "markdown",
      "metadata": {
        "id": "KQSFurviWtC3"
      },
      "source": [
        "## Logistic Regression(로지스틱 회귀) \n",
        "\n",
        "로지스트 회귀는 특성변수를 로지스틱 함수 형태로 표현함.\n",
        "\n",
        "그래서 관측치가 특정 클래스에 속할 확률값으로 계산된다. \n",
        "\n",
        "확률값이 정해진 기준값보다 크면 1, 아니면 0으로 예측을 하게 된다."
      ]
    },
    {
      "cell_type": "markdown",
      "metadata": {
        "id": "j26BjqnqLzKb"
      },
      "source": [
        "### 시그모이드(Sigmoid) 함수(로지스틱 함수)\n",
        "$$\\large P(X)={\\frac {1}{1+e^{-(\\beta _{0}+\\beta _{1}X_{1}+\\cdots +\\beta _{p}X_{p})}}}$$\n",
        "\n",
        "$$ 0 \\leq P(X) \\leq 1$$\n",
        "\n",
        "- 데이터가 가지고 있는 값(위치)를 확률(%)로 변환시켜줌.\n",
        "- 원래는 회귀인데, 0.5라는 기준을 두고 분류로 바꿔준다. \n",
        "- 만약 data Imbalance라면, 0.5디폴트값을 조절해줘야 한다. \n",
        "\n",
        "<img src=\"https://qph.fs.quoracdn.net/main-qimg-6c3393d3dd37f9fdac89e7971126c726\" width=\"500\"/>\n"
      ]
    },
    {
      "cell_type": "markdown",
      "metadata": {
        "id": "bkeqL8R9WNst"
      },
      "source": [
        "<임계값 조절하는 법>\n",
        "\n",
        "로지스틱 회귀의 0.5디폴트를 바꾸는 방법. : threshold(임계값) 모르겠다 너무 어렵다..!\n",
        "\n",
        "-https://stackoverflow.com/questions/31417487/sklearn-logisticregression-and-changing-the-default-threshold-for-classification\n",
        "\n",
        "https://stackoverflow.com/questions/28716241/controlling-the-threshold-in-logistic-regression-in-scikit-learn\n",
        "\n",
        "-모르겠지만 임계값 찾는 방법: https://machinelearningmastery.com/threshold-moving-for-imbalanced-classification/\n",
        "\n",
        "https://stackoverflow.com/questions/44609336/logistic-regression-in-python-probability-threshold 임계값대신 c값으로 과적합 해결.."
      ]
    },
    {
      "cell_type": "markdown",
      "metadata": {
        "id": "N37yrbb_UVlu"
      },
      "source": [
        "### Imbalanced Data\n",
        "\n",
        "- 문제가 되는 이유 : 불균형한 데이터를 그대로 예측하게 되면 과적합문제가 발생할 가능성이 높아짐. --> 모델의 일반화를 낮추게 된다. \n",
        "- 즉, 단순히 우세한 클래스를 택하는 모델의 정확도가 높아지므로 모형의 성능판별이 어려워진다. \n",
        "- 즉, 정확도(accuracy)가 높아도 데이터 객수가 적은 클래스의 재현율(recall-rate_이 급격히 작아지는 현상이 발생할 수 있다.\n",
        "\n",
        "1) https://shinminyong.tistory.com/34 \n",
        "\n",
        "2) https://techblog-history-younghunjo1.tistory.com/74 \n",
        "\n",
        "3) https://datascienceschool.net/03%20machine%20learning/14.02%20%EB%B9%84%EB%8C%80%EC%B9%AD%20%EB%8D%B0%EC%9D%B4%ED%84%B0%20%EB%AC%B8%EC%A0%9C.html"
      ]
    },
    {
      "cell_type": "code",
      "metadata": {
        "id": "MPLJP9J7UU71"
      },
      "source": [
        ""
      ],
      "execution_count": null,
      "outputs": []
    },
    {
      "cell_type": "code",
      "metadata": {
        "id": "Q0Nk8h6xtwZi"
      },
      "source": [
        ""
      ],
      "execution_count": null,
      "outputs": []
    },
    {
      "cell_type": "markdown",
      "metadata": {
        "id": "E05FaEaEtxKF"
      },
      "source": [
        "## 평가지표"
      ]
    },
    {
      "cell_type": "markdown",
      "metadata": {
        "id": "P-LrxooNuCqZ"
      },
      "source": [
        "### Regression(회귀)"
      ]
    },
    {
      "cell_type": "markdown",
      "metadata": {
        "id": "VPSzFbz8ziNX"
      },
      "source": [
        "#### 평가지표의 종류\n",
        "- "
      ]
    },
    {
      "cell_type": "code",
      "metadata": {
        "id": "rjAn3L_9uOB7"
      },
      "source": [
        ""
      ],
      "execution_count": null,
      "outputs": []
    },
    {
      "cell_type": "markdown",
      "metadata": {
        "id": "IsaRCDdTuIUg"
      },
      "source": [
        "### Classification(분류)"
      ]
    },
    {
      "cell_type": "markdown",
      "metadata": {
        "id": "seekqupozsnk"
      },
      "source": [
        "#### 평가지표의 종류\n",
        "- Accuracy(정확도)\n",
        "- Precision(정밀도)\n",
        "- Recall(재현도)\n",
        "- F1 Score\n",
        "\n",
        "어떤 상황에서 어떤 평가지표를 사용해야 할까? : https://shinminyong.tistory.com/28"
      ]
    },
    {
      "cell_type": "markdown",
      "metadata": {
        "id": "WsxKiF-m0M7u"
      },
      "source": [
        "Confusion Matrix\n",
        "\n",
        "![다운로드.png](data:image/png;base64,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)\n",
        "\n",
        "- TP(True Positive) : 긍정예측을 성공함. 즉, 환자라고 예측하고 실제환자임을 맞춤\n",
        "- TN(True Negative) : 부정예측을 성공. 즉, 환자가 아니라 예측하고, 환자아님을 맞춤\n",
        "- FP(False Positive) : 긍정예측을 실패. 즉, 환자라고 예측했지만 비환자임.\n",
        "- FN(False Negative) : 부정예측을 실패, 즉, 비환자라고 예측했지만 실제환자임. 환장;;"
      ]
    },
    {
      "cell_type": "markdown",
      "metadata": {
        "id": "YABzsICL3lRE"
      },
      "source": [
        "Accuracy : 전체 예측한 것 중에 올바른 예측을 얼마나 했는지.\n",
        "\n",
        "Accuracy = $\\frac{올바르게 예측한 수} {전체 예측 수}$ = $\\frac{TP + TN} {P + N}$"
      ]
    },
    {
      "cell_type": "markdown",
      "metadata": {
        "id": "B0SSOGjYzezK"
      },
      "source": [
        "https://leedakyeong.tistory.com/entry/%EB%B6%84%EB%A5%98-%EB%AA%A8%EB%8D%B8-%EC%84%B1%EB%8A%A5-%ED%8F%89%EA%B0%80-%EC%A7%80%ED%91%9C-Confusion-Matrix%EB%9E%80-%EC%A0%95%ED%99%95%EB%8F%84Accuracy-%EC%A0%95%EB%B0%80%EB%8F%84Precision-%EC%9E%AC%ED%98%84%EB%8F%84Recall-F1-Score"
      ]
    },
    {
      "cell_type": "code",
      "metadata": {
        "id": "W_AqAYSnuQMw"
      },
      "source": [
        "from sklearn.metrics import accuracy_score\n",
        "accuracy_score(y_train, y_pred)"
      ],
      "execution_count": null,
      "outputs": []
    },
    {
      "cell_type": "markdown",
      "metadata": {
        "id": "2EBro6atoYCZ"
      },
      "source": [
        "## 시각화"
      ]
    },
    {
      "cell_type": "code",
      "metadata": {
        "id": "s0LfgbWCLRG-"
      },
      "source": [
        "# countplot 명령을 사용하면 각 카테고리 값별로 데이터가 얼마나 있는지 표시할 수 있다.\n",
        "# countplot: http://seaborn.pydata.org/generated/seaborn.countplot.html\n",
        "# countplot 명령은 데이터프레임에만 사용할 수 있다. 사용 방법은 다음과 같다.\n",
        "sns.countplot(x=\"column_name\", data=dataframe)\n",
        "data 인수에는 대상이 되는 데이터프레임을, x 인수에는 데이터프레임의 열 이름 문자열을 넣는다."
      ],
      "execution_count": null,
      "outputs": []
    }
  ]
}