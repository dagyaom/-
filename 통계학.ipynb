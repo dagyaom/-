{
  "nbformat": 4,
  "nbformat_minor": 0,
  "metadata": {
    "colab": {
      "name": "통계학.ipynb",
      "private_outputs": true,
      "provenance": [],
      "authorship_tag": "ABX9TyNvBfOFB4ywcDLCTQu/cD45",
      "include_colab_link": true
    },
    "kernelspec": {
      "name": "python3",
      "display_name": "Python 3"
    },
    "language_info": {
      "name": "python"
    }
  },
  "cells": [
    {
      "cell_type": "markdown",
      "metadata": {
        "id": "view-in-github",
        "colab_type": "text"
      },
      "source": [
        "<a href=\"https://colab.research.google.com/github/dagyaom/Python_Practice/blob/main/%ED%86%B5%EA%B3%84%ED%95%99.ipynb\" target=\"_parent\"><img src=\"https://colab.research.google.com/assets/colab-badge.svg\" alt=\"Open In Colab\"/></a>"
      ]
    },
    {
      "cell_type": "markdown",
      "metadata": {
        "id": "FLtyJnVPLDYC"
      },
      "source": [
        "# Linear Regression(선형회귀)\n"
      ]
    },
    {
      "cell_type": "markdown",
      "metadata": {
        "id": "rdRXq774MKYP"
      },
      "source": [
        "## Ready~~"
      ]
    },
    {
      "cell_type": "markdown",
      "metadata": {
        "id": "Ag4DXn1pL_n1"
      },
      "source": [
        "### 데이터셋 나누기(train/validate/tast)\n",
        "- 왜 중요한가."
      ]
    },
    {
      "cell_type": "markdown",
      "metadata": {
        "id": "f7b1N3AiLK5I"
      },
      "source": [
        "## Simple Linear Regression(단순 선형회귀)"
      ]
    },
    {
      "cell_type": "markdown",
      "metadata": {
        "id": "tyUstNqLLSAm"
      },
      "source": [
        "## Multiple Linear Regression(다중 선형회귀)"
      ]
    },
    {
      "cell_type": "markdown",
      "metadata": {
        "id": "OnYWQOOOLlR3"
      },
      "source": [
        "## Ridge regression(Ridge 회귀) "
      ]
    },
    {
      "cell_type": "markdown",
      "metadata": {
        "id": "j26BjqnqLzKb"
      },
      "source": [
        "## Logistic Regression(로지스틱 회귀)  --\n"
      ]
    },
    {
      "cell_type": "code",
      "metadata": {
        "id": "s0LfgbWCLRG-"
      },
      "source": [
        ""
      ],
      "execution_count": null,
      "outputs": []
    }
  ]
}