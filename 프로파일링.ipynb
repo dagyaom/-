{
  "nbformat": 4,
  "nbformat_minor": 0,
  "metadata": {
    "colab": {
      "name": "프로파일링.ipynb",
      "private_outputs": true,
      "provenance": [],
      "include_colab_link": true
    },
    "kernelspec": {
      "name": "python3",
      "display_name": "Python 3"
    },
    "language_info": {
      "name": "python"
    }
  },
  "cells": [
    {
      "cell_type": "markdown",
      "metadata": {
        "id": "view-in-github",
        "colab_type": "text"
      },
      "source": [
        "<a href=\"https://colab.research.google.com/github/dagyaom/Python_Practice/blob/main/%ED%94%84%EB%A1%9C%ED%8C%8C%EC%9D%BC%EB%A7%81.ipynb\" target=\"_parent\"><img src=\"https://colab.research.google.com/assets/colab-badge.svg\" alt=\"Open In Colab\"/></a>"
      ]
    },
    {
      "cell_type": "markdown",
      "metadata": {
        "id": "aEijoZgrUGf1"
      },
      "source": [
        "# 프로파일링을 이용한 EDA\n",
        "\n",
        "- 공식문서 : https://pandas-profiling.github.io/pandas-profiling/docs/master/rtd/\n",
        "- 깃허브 설명 : https://github.com/pandas-profiling/pandas-profiling"
      ]
    },
    {
      "cell_type": "markdown",
      "metadata": {
        "id": "ghofXvbnX8w8"
      },
      "source": [
        "- Type inference 유형 추론 : 데이터 프레임의 열 유형 을 감지합니다 .\n",
        "\n",
        "- Essentials 필수 사항 : 유형, 고유 값, 누락된 값\n",
        "\n",
        "- Quantile statistics 최소값, Q1, 중앙값, Q3, 최대값, 범위, 사분위수 범위와 같은 분위수 통계\n",
        "\n",
        "- Descriptive statistics 평균, 최빈값, 표준 편차, 합계, 중위수 절대 편차, 변동 계수, 첨도, 왜도와 같은 기술 통계\n",
        "\n",
        "- Most frequent values 가장 빈번한 값\n",
        "\n",
        "- Histogram\n",
        "\n",
        "- Correlations  상관 관계가 높은 변수, Spearman, Pearson 및 Kendall 행렬의 상관 관계 강조\n",
        "\n",
        "- Missing values 결 측값 행렬, 개수, 히트맵 및 결측값 덴드로그램\n",
        "\n",
        "- Text analysis 텍스트 분석 은 텍스트 데이터의 범주(대문자, 공백), 스크립트(라틴 문자, 키릴 자모) 및 블록(ASCII)에 대해 학습합니다.\n",
        "\n",
        "- File and Image analysis 파일 및 이미지 분석은 파일 크기, 생성 날짜 및 치수를 추출하고 잘린 이미지 또는 EXIF ​​정보가 포함된 이미지를 스캔합니다.\n"
      ]
    },
    {
      "cell_type": "markdown",
      "metadata": {
        "id": "KOU2DoP-Vy3n"
      },
      "source": [
        "## 데이터 불러오기"
      ]
    },
    {
      "cell_type": "code",
      "metadata": {
        "id": "5lBIhGBoUWgD"
      },
      "source": [
        "target = 'vacc_h1n1_f'\n",
        "train1 = pd.merge(pd.read_csv('https://ds-lecture-data.s3.ap-northeast-2.amazonaws.com/vacc_flu/train.csv'),\n",
        "                 pd.read_csv('https://ds-lecture-data.s3.ap-northeast-2.amazonaws.com/vacc_flu/train_labels.csv')[target], left_index=True, right_index=True)\n",
        "train1.head(3)"
      ],
      "execution_count": null,
      "outputs": []
    },
    {
      "cell_type": "code",
      "metadata": {
        "id": "yo0Zh2TcUZ_-"
      },
      "source": [
        "from sklearn.model_selection import train_test_split\n",
        "\n",
        "train, val = train_test_split(train1, train_size=0.80, test_size=0.20, \n",
        "                              stratify=train1[target], random_state=2)\n",
        "\n",
        "\n",
        "train.shape, val.shape, test.shape"
      ],
      "execution_count": null,
      "outputs": []
    },
    {
      "cell_type": "markdown",
      "metadata": {
        "id": "ZpF66tDpV09e"
      },
      "source": [
        "## 프로파일러 설치"
      ]
    },
    {
      "cell_type": "code",
      "metadata": {
        "id": "yYjoNjzLT0oS"
      },
      "source": [
        "pip install -U pandas-profiling"
      ],
      "execution_count": null,
      "outputs": []
    },
    {
      "cell_type": "code",
      "metadata": {
        "id": "QRqbYTKiT3eo"
      },
      "source": [
        "# 프로파일링을 사용해서 데이터리포트를 분석해보자\n",
        "# pip install pandas-profiling   #이 셀안에 글자적으면 실행안됨.\n",
        "\n",
        "\n",
        "# out : SyntaxError: invalid syntax\n",
        "\n",
        "#https://pandas-profiling.github.io/pandas-profiling/docs/master/index.html"
      ],
      "execution_count": null,
      "outputs": []
    },
    {
      "cell_type": "markdown",
      "metadata": {
        "id": "pHUXzxhmV4U-"
      },
      "source": [
        "## 프로파일링 불러오기"
      ]
    },
    {
      "cell_type": "code",
      "metadata": {
        "id": "kH3T7we2T34V"
      },
      "source": [
        "# html파일 형태로 불러오기 : .to_notebook_iframe()\n",
        "\n",
        "from pandas_profiling import ProfileReport\n",
        "profile = ProfileReport(train).to_notebook_iframe()\n",
        "\n",
        "#profile = df.profile_report() 이런 형태도 가능"
      ],
      "execution_count": null,
      "outputs": []
    },
    {
      "cell_type": "markdown",
      "metadata": {
        "id": "fb21tjhZVB3E"
      },
      "source": [
        "## Large datasets\n",
        "\n",
        "이것은 비용이 많이 드는 계산(예: 상관 관계 및 중복 행 감지)을 비활성화하는 기본 구성입니다. minimal=True"
      ]
    },
    {
      "cell_type": "code",
      "metadata": {
        "id": "NXC8KZTvUAN-"
      },
      "source": [
        "profile = ProfileReport(train,minimal=True).to_notebook_iframe() \n",
        "# --> overview와 Variables까지만 나옴."
      ],
      "execution_count": null,
      "outputs": []
    },
    {
      "cell_type": "markdown",
      "metadata": {
        "id": "K-qBfWdhWV2e"
      },
      "source": [
        "## 더 자세한 레포트\n",
        "\n",
        "explorative=True"
      ]
    },
    {
      "cell_type": "code",
      "metadata": {
        "id": "f3oBd87rT79j"
      },
      "source": [
        "# 더 자세하기 보기\n",
        "profile1 = ProfileReport(train, title=\"Pandas Profiling Report\", explorative=True).to_notebook_iframe()"
      ],
      "execution_count": null,
      "outputs": []
    },
    {
      "cell_type": "markdown",
      "metadata": {
        "id": "Sb-7X_LyWdMi"
      },
      "source": [
        "## 위젯으로 보기\n",
        "- 좀 더 깔끔하게 볼수있지만 너무 오래걸림"
      ]
    },
    {
      "cell_type": "code",
      "metadata": {
        "id": "PlB1X0T_UieB"
      },
      "source": [
        "profile2 = ProfileReport(train).to_widgets()"
      ],
      "execution_count": null,
      "outputs": []
    },
    {
      "cell_type": "markdown",
      "metadata": {
        "id": "t59-cWu3We6N"
      },
      "source": [
        "## 내보내서 따로보기"
      ]
    },
    {
      "cell_type": "code",
      "metadata": {
        "id": "ZAHdJydYUpTg"
      },
      "source": [
        "# html로 내보내기\n",
        "profile.to_file(\"your_report.html\")"
      ],
      "execution_count": null,
      "outputs": []
    },
    {
      "cell_type": "code",
      "metadata": {
        "id": "s1RN1aZNXWLO"
      },
      "source": [
        "# As a string\n",
        "json_data = profile.to_json()\n",
        "\n",
        "# As a file\n",
        "profile.to_file(\"your_report.json\")"
      ],
      "execution_count": null,
      "outputs": []
    },
    {
      "cell_type": "code",
      "metadata": {
        "id": "ZV3g_mT-cphF"
      },
      "source": [
        "# 상관분석 : https://ko.wikipedia.org/wiki/%EC%83%81%EA%B4%80_%EB%B6%84%EC%84%9D\n",
        "\n",
        "# 상관관계 높은 것 빼내기\n",
        "# https://youngwonhan-family.tistory.com/62\n",
        "\n",
        "#사실\n",
        "#내가\n",
        "#상관계수 때문에\n",
        "#프로파일링 공부했다."
      ],
      "execution_count": null,
      "outputs": []
    }
  ]
}