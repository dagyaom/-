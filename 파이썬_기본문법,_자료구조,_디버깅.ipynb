{
  "nbformat": 4,
  "nbformat_minor": 0,
  "metadata": {
    "colab": {
      "name": "파이썬 기본문법, 자료구조, 디버깅.ipynb",
      "provenance": [],
      "collapsed_sections": [],
      "toc_visible": true,
      "authorship_tag": "ABX9TyPDU1rLelHpxM4hCXcdQSvK",
      "include_colab_link": true
    },
    "kernelspec": {
      "name": "python3",
      "display_name": "Python 3"
    },
    "language_info": {
      "name": "python"
    }
  },
  "cells": [
    {
      "cell_type": "markdown",
      "metadata": {
        "id": "view-in-github",
        "colab_type": "text"
      },
      "source": [
        "<a href=\"https://colab.research.google.com/github/dagyaom/Python_Practice/blob/main/%ED%8C%8C%EC%9D%B4%EC%8D%AC_%EA%B8%B0%EB%B3%B8%EB%AC%B8%EB%B2%95%2C_%EC%9E%90%EB%A3%8C%EA%B5%AC%EC%A1%B0%2C_%EB%94%94%EB%B2%84%EA%B9%85.ipynb\" target=\"_parent\"><img src=\"https://colab.research.google.com/assets/colab-badge.svg\" alt=\"Open In Colab\"/></a>"
      ]
    },
    {
      "cell_type": "markdown",
      "metadata": {
        "id": "tKJoL4eHMYBV"
      },
      "source": [
        "일단 위험을 감수하더라도 실행해라. 파이썬이란 그런 것. \n",
        "\n",
        "파이썬의 개념과 작동방식도 함께 학습하기.\n",
        "\n",
        "\n",
        " Reference\n",
        "\n",
        "Lists and Tuples in Python : https://realpython.com/python-lists-tuples/\n",
        "\n",
        "Dictionaries in Python : https://realpython.com/python-dicts/\n",
        "\n",
        "파이썬 정규표현식 : https://docs.python.org/ko/3.9/howto/regex.html\n",
        "\n",
        "VScode Python Debug : https://www.youtube.com/watch?v=KoXstAR5pto&t=303s\n"
      ]
    },
    {
      "cell_type": "code",
      "metadata": {
        "id": "7guLmT4vMWKC"
      },
      "source": [
        "import antigravity\n",
        "import this\n"
      ],
      "execution_count": null,
      "outputs": []
    },
    {
      "cell_type": "markdown",
      "metadata": {
        "id": "xNAVCNZzWqKG"
      },
      "source": [
        "- 좋은 코드란??\n",
        "간결한 코드.\n",
        "- 파이쏘닉한 코드란??  ```import this```\n",
        "--> The Zen of Python 검색.\n",
        "\n",
        "\n",
        "- 리스트 : 'linked list'가 파이썬에 내장된 것. \n",
        "\n",
        "- 파이썬의 '디버깅'은 디버깅 보조도구지 디버깅 그 자체는 아니다. \n",
        "- 눈으로 봐서 어? 여기 에러가 있다 라고 보는것도 디버깅이다. 디버깅은 우리의 뇌에 있다. "
      ]
    },
    {
      "cell_type": "code",
      "metadata": {
        "id": "Gffd7PNTbRBQ"
      },
      "source": [
        "import pandas as pd\n",
        "# 판다스에 대한 설명\n",
        "pd?"
      ],
      "execution_count": null,
      "outputs": []
    },
    {
      "cell_type": "code",
      "metadata": {
        "id": "ca0T8NHzbhQk"
      },
      "source": [
        "# 코드 설명\n",
        "pd??"
      ],
      "execution_count": null,
      "outputs": []
    },
    {
      "cell_type": "code",
      "metadata": {
        "id": "QU5JvmqvbifD"
      },
      "source": [
        "pd.DataFrame?"
      ],
      "execution_count": null,
      "outputs": []
    },
    {
      "cell_type": "code",
      "metadata": {
        "id": "HU7HmZHtcLqt"
      },
      "source": [
        "pd.DataFrame??"
      ],
      "execution_count": null,
      "outputs": []
    },
    {
      "cell_type": "code",
      "metadata": {
        "id": "IhWblVHCZeG2"
      },
      "source": [
        "# 인트로 문제\n",
        "# 1부터 20까지 숫자 출력하기\n",
        "\n",
        "def first():\n",
        "  for i in range(1,20):\n",
        "    print(i)\n",
        "\n",
        "first()\n",
        "\n",
        "\n",
        "# 의문점 : 왜 1~20 이 아니라 1~19일까?? --> 구글 'range syntax'\n",
        "# 파이썬은 defualt가 있는건 옵션. 없는건 required(필수인자)"
      ],
      "execution_count": null,
      "outputs": []
    },
    {
      "cell_type": "code",
      "metadata": {
        "id": "1-VQVqoYatLB"
      },
      "source": [
        "# https://lovelydiary.tistory.com/297\n",
        "# 1부터 50까지 숫자 중, 3과 5의 공배수 구하기\n",
        "def second():\n",
        "\n",
        "  for i in range(1,51):\n",
        "    if i%3==0 and i%5==0:\n",
        "      print(i)\n",
        "\n",
        "if __name__ == \"__main__\":  # 이것의 의미는 뭘까??? : 프로그램의 시작점일 때만 아래코드 실행. 모듈로 가져오면 아무것도 출력되지 않는다. \n",
        "  second()\n",
        "# second()\n",
        "\n",
        "# https://lovelydiary.tistory.com/297\n",
        "# https://dojang.io/mod/page/view.php?id=2448"
      ],
      "execution_count": null,
      "outputs": []
    },
    {
      "cell_type": "code",
      "metadata": {
        "id": "wylWz4Z2yEe1"
      },
      "source": [
        "# 숫자를 입력받고 함수 자신을 계속해서 호출하여 0부터 입력된 숫자까지 출력해보기\n",
        "test_num = int(input())"
      ],
      "execution_count": null,
      "outputs": []
    },
    {
      "cell_type": "code",
      "metadata": {
        "id": "P9LZgbrkyGnQ"
      },
      "source": [
        "# case 1 - 조건문을 사용하고, 함수 자신을 호출하자.\n",
        "def third(test_num):\n",
        "    if test_num > 0:\n",
        "        third(test_num - 1)   ## --> 여기서 어떻게 되는거지???\n",
        "    print(test_num)  # 왜 똑바로 출력되는 걸까??? 31부터 나와야 할것같은데.\n",
        "\n",
        "third(test_num)"
      ],
      "execution_count": null,
      "outputs": []
    },
    {
      "cell_type": "code",
      "metadata": {
        "id": "xcpIrwRYwRLP"
      },
      "source": [
        "# def 함수이름() :\n",
        "#    return 0\n",
        "# 함수이름 법칙 :firstFunc 보다는  first_func\n",
        "\n",
        "# 괄초 안에는 파라미터 값이 들어간다. \n"
      ],
      "execution_count": null,
      "outputs": []
    },
    {
      "cell_type": "code",
      "metadata": {
        "id": "GSy6m3tK0myv"
      },
      "source": [
        "# case 2 - for 반복문만 사용하자.\n",
        "\n",
        "i=0\n",
        "for num in range(i, test_num+1):\n",
        "    print(num)"
      ],
      "execution_count": null,
      "outputs": []
    },
    {
      "cell_type": "code",
      "metadata": {
        "id": "gw9L06VM1cgr"
      },
      "source": [
        "# 생각해보기 case 3 - for 반복문을 사용하고 함수 자신을 호출하자.(이 방법은 비효율적이다. 왜 비효율적일까?)\n",
        "\n",
        "t = test_num\n",
        "def third(test_num) : \n",
        "    i = 0\n",
        "    for i in range(i, test_num+1) :\n",
        "        print(t-test_num)\n",
        "        test_num = test_num -1\n",
        "        third(test_num)   ## 여기도 마찬가지. 왜 0이 출력되는 거지???\n",
        "third(test_num)"
      ],
      "execution_count": null,
      "outputs": []
    },
    {
      "cell_type": "code",
      "metadata": {
        "id": "XNYMQ9_a3VSB"
      },
      "source": [
        "# Values and Types(값과 타입)\n",
        "# 파이썬의 모든 자료형은 클래스로 구현되었기 때문에, 클래스 이름이 자료형이다.\n",
        "print(type(6))\n",
        "\n",
        "print(type(36.0))\n",
        "\n",
        "print(type('Hello, World!'))\n",
        "\n",
        "print(type(list()))"
      ],
      "execution_count": null,
      "outputs": []
    },
    {
      "cell_type": "code",
      "metadata": {
        "id": "ynLwM01t35fk"
      },
      "source": [
        "# Variables, Expressions, and Statements(변수, 표현, 구문)\n",
        "greeting = 'Good afternoon, sir!'\n",
        "x = 23\n",
        "pi = 3.141592653589793\n",
        "\n",
        "# https://myksb1223.github.io/python/2018/07/22/Understand-Python-Statement-Expression-Indentation.html\n",
        "# The important difference is that an expression has a value; a statement does not.:https://www.greenteapress.com/thinkpython/html/thinkpython003.html"
      ],
      "execution_count": null,
      "outputs": []
    },
    {
      "cell_type": "code",
      "metadata": {
        "id": "Dl9jGPDY31Ee"
      },
      "source": [
        "# 케이스 1 - IndentationError: expected an indented block\n",
        "\n",
        "# 에러 정리 : https://docs.python.org/3/library/exceptions.html\n",
        "\n",
        "def print_list(list):\n",
        "for item in list: # 에러 확인 및 해결필요  \n",
        "print(item)"
      ],
      "execution_count": null,
      "outputs": []
    },
    {
      "cell_type": "code",
      "metadata": {
        "id": "Wvbuorst63cY"
      },
      "source": [
        "# 케이스 2 - SyntaxError: invalid syntax\n",
        "123ddf \n",
        "\n",
        "\n",
        "# invalid syntax  '파이썬(Python)에서는 쓰지 않는 문법'이라는 의미 \n",
        "# ○ 해결책 : 오류난 문법 위치를 찾아 수정해야 함.\n",
        "    #  - print(  ) 함수에서 작은 따옴표를 넣었는지 확인\n",
        "    #  - 연산시 등호를 사용했는지 확인 등"
      ],
      "execution_count": null,
      "outputs": []
    },
    {
      "cell_type": "code",
      "metadata": {
        "id": "ENAA05gX7LHH"
      },
      "source": [
        "# 케이스 3 - KeyboardInterrupt \n",
        "\n",
        "while True:\n",
        "  1\n",
        "\n",
        "# Raised when the user hits the interrupt key (normally Control-C or Delete). "
      ],
      "execution_count": null,
      "outputs": []
    },
    {
      "cell_type": "code",
      "metadata": {
        "id": "tghvneg_8WeA"
      },
      "source": [
        "# 케이스 4 - TypeError\n",
        "\n",
        "print(1) / 232  #TypeError: unsupported operand type(s) for /: 'NoneType' and 'int'\n",
        "\n",
        "a,b = 0   #TypeError: cannot unpack non-iterable int object\n",
        "print(a,b)"
      ],
      "execution_count": null,
      "outputs": []
    },
    {
      "cell_type": "code",
      "metadata": {
        "id": "6xO35U0W_PfT"
      },
      "source": [
        "# 케이스 5 - ZeroDivisionError\n",
        "\n",
        "value = 2/0"
      ],
      "execution_count": null,
      "outputs": []
    },
    {
      "cell_type": "code",
      "metadata": {
        "id": "8eqlvdaw_RbN"
      },
      "source": [
        "# 케이스 6 - 경고\n",
        "\n",
        "a = 0\n",
        "c =0\n",
        "a,c, # 에러는 보이지 않는 메모리 상에 안 좋은 영향을 준다. ### ??? 경고가 안나요..."
      ],
      "execution_count": null,
      "outputs": []
    },
    {
      "cell_type": "code",
      "metadata": {
        "id": "Y-CETfobxdQo"
      },
      "source": [
        "# 파이썬에서는 변수를 선언할 때 값에 대해 데이터타입을 사전에 정의해놓지 않는다.\n",
        "# 어떤 변수에 어떤 데이터타입을 넣을 건지 조심해야 함..! "
      ],
      "execution_count": null,
      "outputs": []
    },
    {
      "cell_type": "markdown",
      "metadata": {
        "id": "ix_rz0cBCn6d"
      },
      "source": [
        "# 기본문법"
      ]
    },
    {
      "cell_type": "markdown",
      "metadata": {
        "id": "jSI2IrPoCu0C"
      },
      "source": [
        "## 주석(Comments)\n",
        "- 목적 :협업, 재사용\n",
        "\n",
        "<작성하는 것은 주로> \n",
        "- 클래스, 함수의 기능\n",
        "- 변수에 대한 명명규칙\n",
        "- 소스코드 작성날짜 및 수정날짜\n",
        "\n",
        "\n",
        "-- 공식적인 주석(외부제출용)인 경우, 구어체가 아닌 형태로 핵심적인 부분만 주석을 작성한다.\n",
        "\n",
        "-- 내부공유용이거나 설명을 위한 소스코드인 경우, 재사용과 내용공유를 목적으로 하여 용어에 대한 풀이 및 이해 내용을 상세히 적는다."
      ]
    },
    {
      "cell_type": "code",
      "metadata": {
        "id": "QshYQBuqzH10",
        "outputId": "47f00d34-c4f9-459b-8ab4-ba12014e5183",
        "colab": {
          "base_uri": "https://localhost:8080/",
          "height": 35
        }
      },
      "source": [
        "# 멀티라인 주석 : 함수나 클래스에 대한 문서를 만들때 사용함. (함수에 대한 설명이 바로 나온다. )\n",
        "\"\"\"\n",
        "여러 줄을 주석으로 작성하고 싶을 때 사용\n",
        "\"\"\"\n",
        "\n",
        "# VS에서는 함수에 대한 설명이 함수 위로 나옴\n",
        "# 만약 #으로 주석처리하면 설명이 안나옴."
      ],
      "execution_count": 2,
      "outputs": [
        {
          "output_type": "execute_result",
          "data": {
            "application/vnd.google.colaboratory.intrinsic+json": {
              "type": "string"
            },
            "text/plain": [
              "'\\n여러 줄을 주석으로 작성하고 싶을 때 사용\\n'"
            ]
          },
          "metadata": {},
          "execution_count": 2
        }
      ]
    },
    {
      "cell_type": "code",
      "metadata": {
        "id": "M_PIIqh4Dc5L"
      },
      "source": [
        "### 주석 케이스1. 원통의 표면 계산\n",
        "surface_area = (2 * pi * radius) * (height + radius)\n",
        "\n",
        "surface_area = (2 * pi * radius) * (height + radius) # 주석 케이스2. compute the surface area of a cylinder"
      ],
      "execution_count": null,
      "outputs": []
    },
    {
      "cell_type": "code",
      "metadata": {
        "id": "IGsxlZEKDdqF"
      },
      "source": [
        "# 실제 예시(외부에서 사용된 소스코드)\n",
        "\n",
        "import matplotlib.pyplot as plt # pyplot : interactive plots and simple cases\n",
        "\n",
        "# Look at index 4 and 6, which demonstrate overlapping cases.\n",
        "x1 = [1, 3, 4, 5, 6, 7, 9]\n",
        "y1 = [4, 7, 2, 4, 7, 8, 3]\n",
        "\n",
        "x2 = [2, 4, 6, 8, 10]\n",
        "y2 = [5, 6, 2, 6, 2]\n",
        "\n",
        "# Colors: https://matplotlib.org/api/colors_api.html, 외부 url 참조시\n",
        "\n",
        "plt.bar(x1, y1, label=\"Blue Bar\", color='b')\n",
        "plt.bar(x2, y2, label=\"Green Bar\", color='g')\n",
        "plt.plot()  # 시각화 1단계\n",
        "\n",
        "plt.xlabel(\"bar number\")\n",
        "plt.ylabel(\"bar height\")\n",
        "plt.title(\"Bar Chart Example\")\n",
        "plt.legend() # 시각화 2단계 - 범례 추가\n",
        "plt.show()  # 시각화 3단계 - 그림형태로 표시"
      ],
      "execution_count": null,
      "outputs": []
    },
    {
      "cell_type": "markdown",
      "metadata": {
        "id": "AELxvwUmDh--"
      },
      "source": [
        "## 반복문(for, while)\n",
        "- 실무 측면에서 while문은 조건을 많이 둘 수 없기 때문에 for문을 선호한다."
      ]
    },
    {
      "cell_type": "code",
      "metadata": {
        "id": "ObeNj5TMEhUu"
      },
      "source": [
        "### 입력변수\n",
        "\n",
        "y = int(input())\n",
        "for i in range(y,5):\n",
        "    print(i)"
      ],
      "execution_count": null,
      "outputs": []
    },
    {
      "cell_type": "code",
      "metadata": {
        "id": "XNtKX5IKE03O"
      },
      "source": [
        "### set변수\n",
        "y = {1,3,3,5,10}\n",
        "for i in y: \n",
        "    print(i)"
      ],
      "execution_count": null,
      "outputs": []
    },
    {
      "cell_type": "code",
      "metadata": {
        "id": "QYYwGXHFE-IO"
      },
      "source": [
        "### 리스트변수\n",
        "y = [1,3,3,5,10]\n",
        "for i in y: \n",
        "    print(i)"
      ],
      "execution_count": null,
      "outputs": []
    },
    {
      "cell_type": "code",
      "metadata": {
        "id": "6aImcmRuEjWL"
      },
      "source": [
        "### 튜플변수\n",
        "y = (1,3,3,5,10)\n",
        "for i in y: \n",
        "    print(i)"
      ],
      "execution_count": null,
      "outputs": []
    },
    {
      "cell_type": "code",
      "metadata": {
        "id": "uB4gO2ClzzQT"
      },
      "source": [
        "# 반복문 :for move 돌릴 때 할수 있는 것? \n",
        "\n",
        "### 딕셔너리변수\n",
        "y = {'a':1,'b':3,'c':3}\n",
        "for i in y: \n",
        "    print(i)\n",
        "    \n",
        "# 키만 출력\n",
        "# items() : 둘다 출력ㄱ가능."
      ],
      "execution_count": null,
      "outputs": []
    },
    {
      "cell_type": "code",
      "metadata": {
        "id": "4hFyR8NS1AHJ"
      },
      "source": [
        "for i in y.items(): \n",
        "    print(i)"
      ],
      "execution_count": null,
      "outputs": []
    },
    {
      "cell_type": "code",
      "metadata": {
        "id": "R4Wxg_kz1QeE"
      },
      "source": [
        "for i, j in y.items(): \n",
        "    print('key: ',i)\n",
        "    print('value: ', j)"
      ],
      "execution_count": null,
      "outputs": []
    },
    {
      "cell_type": "code",
      "metadata": {
        "id": "heaDfWlj1FPr"
      },
      "source": [
        "for i in y.keys(): \n",
        "    print(i)"
      ],
      "execution_count": null,
      "outputs": []
    },
    {
      "cell_type": "code",
      "metadata": {
        "id": "_jYqui6-1JVj"
      },
      "source": [
        "for i in y.values(): \n",
        "    print(i)"
      ],
      "execution_count": null,
      "outputs": []
    },
    {
      "cell_type": "code",
      "metadata": {
        "id": "STvwHexO1LTi"
      },
      "source": [
        "# for 문 : 특정 범위가 주어지면 범위 끝날떄까지 반복\n",
        "# while 문 : 특정 조건에 따라 종료되거나 실행됨. # 조건이 True면 실행이 되고, False면 실행이 안됨.\n",
        "\n",
        "count = 0\n",
        "while count < 5:\n",
        "    print(count)\n",
        "    count += 1\n",
        "\n",
        "print('end file')"
      ],
      "execution_count": null,
      "outputs": []
    },
    {
      "cell_type": "code",
      "metadata": {
        "id": "UIDBlBMY2Ol7"
      },
      "source": [
        "count = 0\n",
        "while True:     #--> 무한대로 실행.\n",
        "    print(count)\n",
        "    count += 1\n",
        "\n",
        "print('end file')"
      ],
      "execution_count": null,
      "outputs": []
    },
    {
      "cell_type": "code",
      "metadata": {
        "id": "5lpeRTOj2efy"
      },
      "source": [
        "count = 0\n",
        "while False:    # --> False 면 실행을 안함.\n",
        "    print(count)\n",
        "    count += 1\n",
        "\n",
        "print('end file')"
      ],
      "execution_count": null,
      "outputs": []
    },
    {
      "cell_type": "code",
      "metadata": {
        "id": "t6mBOOAf2f4j"
      },
      "source": [
        "# break의 기능\n",
        "count = 0\n",
        "while True:   \n",
        "    print(count)\n",
        "    count += 1\n",
        "\n",
        "    if count > 8:\n",
        "        break  # while move를 종료한다.  # 조건에 맞는 경우 break을 통해 조건문과 반복문에서 탈출.\n",
        "\n",
        "print('end file')"
      ],
      "execution_count": null,
      "outputs": []
    },
    {
      "cell_type": "code",
      "metadata": {
        "id": "EkChI5WZHqu3"
      },
      "source": [
        "# 클래스, 함수 break test\n",
        "\n",
        "class break_test:\n",
        "    print('class')\n",
        "\n",
        "    def break_def_test():\n",
        "        print('func')\n",
        "\n",
        "        while 1:\n",
        "            print('while')\n",
        "            break\n",
        "\n",
        "# b = break_test\n",
        "# print('-----')\n",
        "# b.break_def_test()\n",
        "# print('-----')\n",
        "print(\"1\")"
      ],
      "execution_count": null,
      "outputs": []
    },
    {
      "cell_type": "code",
      "metadata": {
        "id": "gtwB2y6uI1jE"
      },
      "source": [
        "class break_test:\n",
        "    print('class')\n",
        "\n",
        "    def break_def_test():\n",
        "        print('func')\n",
        "\n",
        "        while 1:\n",
        "            print('while')\n",
        "            break\n",
        "\n",
        "print('-----')\n",
        "b = break_test\n",
        "b.break_def_test()\n",
        "print('-----')\n",
        "print(\"1\")\n",
        "\n",
        "# class 란???"
      ],
      "execution_count": null,
      "outputs": []
    },
    {
      "cell_type": "code",
      "metadata": {
        "id": "SrhywQ-JJ5sN"
      },
      "source": [
        "# 함수 break test\n",
        "def break_func_test():\n",
        "    print(\"func\")\n",
        "    \n",
        "    while 1:\n",
        "      print('while')\n",
        "      break\n",
        "\n",
        "break_func_test()\n",
        "print('1')"
      ],
      "execution_count": null,
      "outputs": []
    },
    {
      "cell_type": "code",
      "metadata": {
        "id": "qO3B8NUrKEj2"
      },
      "source": [
        "# continue 기능\n",
        "\n",
        "for x in range(8):\n",
        "    # x를 2로 나눴을 때 나머지가 0이면(조건문 == 참), x값은 그대로 (+)하면서 반복문부터 재시작.\n",
        "    if x % 2 == 0:\n",
        "        continue\n",
        "    print(x)"
      ],
      "execution_count": null,
      "outputs": []
    },
    {
      "cell_type": "code",
      "metadata": {
        "id": "HAjuqLRXKtsR"
      },
      "source": [
        "# Boolean Expressions(부울식)\n",
        "print(2 == 2) #\n",
        "\n",
        "print(4 == 8) #\n",
        "\n",
        "print(type(True)) #\n",
        "\n",
        "print(type(False)) #"
      ],
      "execution_count": null,
      "outputs": []
    },
    {
      "cell_type": "code",
      "metadata": {
        "id": "flvVnO3iKy5h"
      },
      "source": [
        "# Logical Operators(논리 연산자)\n",
        "print(True and True)  # True\n",
        "\n",
        "print(True and False) # False\n",
        "\n",
        "print(False and False) # False\n",
        "\n",
        "print(True or False) # True\n",
        "\n",
        "print(True or True) # True\n",
        "\n",
        "print(False or False) # False\n",
        "\n",
        "print(not True) # False\n",
        "\n",
        "print(not False) # True"
      ],
      "execution_count": null,
      "outputs": []
    },
    {
      "cell_type": "code",
      "metadata": {
        "id": "QL7jaxtY27T-"
      },
      "source": [
        "count = 0\n",
        "while True:   \n",
        "    print(count)\n",
        "    count += 1\n",
        "    # count = 12 --> 12>8 => 참. Ture. => 이런 값들을 Truthy 라고 한다. : [0], 1, True ... \n",
        "    if count > 8:  # 이게 동작하는 이유는 count가 8보다 크기때문.\n",
        "        break  \n",
        "\n",
        "print('end file')"
      ],
      "execution_count": null,
      "outputs": []
    },
    {
      "cell_type": "code",
      "metadata": {
        "id": "EOcD3Elx3xgl"
      },
      "source": [
        "if True:\n",
        "    print('if condition is truthy')\n",
        "\n",
        "print('end file')"
      ],
      "execution_count": null,
      "outputs": []
    },
    {
      "cell_type": "code",
      "metadata": {
        "id": "lKve_jBp4L9P"
      },
      "source": [
        "if False:  # -->Falsy값들은 실행안됨. 0, '', False, [], {}\n",
        "    print('if condition is truthy')  #동작하지 않는다. \n",
        "\n",
        "print('end file')"
      ],
      "execution_count": null,
      "outputs": []
    },
    {
      "cell_type": "code",
      "metadata": {
        "id": "Hb66kj3_4Oob"
      },
      "source": [
        "if 1:  #1을 넣으면 --> 실행됨.\n",
        "    print('if condition is truthy')  #동작하지 않는다. \n",
        "\n",
        "print('end file')"
      ],
      "execution_count": null,
      "outputs": []
    },
    {
      "cell_type": "code",
      "metadata": {
        "id": "86zqa3xk4SYi"
      },
      "source": [
        "if 'A':  # 문자열 넣어도, 실행됨.\n",
        "    print('if condition is truthy')  #동작하지 않는다. \n",
        "\n",
        "print('end file')"
      ],
      "execution_count": null,
      "outputs": []
    },
    {
      "cell_type": "code",
      "metadata": {
        "id": "yFQfzze94U97"
      },
      "source": [
        "if 0 :   #0을 넣으면 실행안됨.\n",
        "    print('if condition is truthy')  #동작하지 않는다. \n",
        "\n",
        "print('end file')"
      ],
      "execution_count": null,
      "outputs": []
    },
    {
      "cell_type": "code",
      "metadata": {
        "id": "NaNhz6aj5RNt"
      },
      "source": [
        "if not True:  # Truthy는 Falsy로, Falsy는 Truthy로 돌아간다. \n",
        "    print('if condition is truthy') \n",
        "\n",
        "print('end file')"
      ],
      "execution_count": null,
      "outputs": []
    },
    {
      "cell_type": "code",
      "metadata": {
        "id": "ml7J8PmW5uam"
      },
      "source": [
        "if 'string':  \n",
        "    print('if condition is truthy') \n",
        "\n",
        "print('end file')"
      ],
      "execution_count": null,
      "outputs": []
    },
    {
      "cell_type": "code",
      "metadata": {
        "id": "R2vWGV7w5gMF"
      },
      "source": [
        "if not 'string':  # Truthy는 Falsy로, Falsy는 Truthy로 돌아간다. \n",
        "    print('if condition is truthy') \n",
        "\n",
        "print('end file')"
      ],
      "execution_count": null,
      "outputs": []
    },
    {
      "cell_type": "code",
      "metadata": {
        "id": "EgwHkjPtHge0"
      },
      "source": [
        "x = -4\n",
        "\n",
        "if x < 0:\n",
        "    print('x is negative') #"
      ],
      "execution_count": null,
      "outputs": []
    },
    {
      "cell_type": "code",
      "metadata": {
        "id": "4FgXO_LdLg9G"
      },
      "source": [
        "# Chained Conditionals(다중 조건문)\n",
        "# 조건을 여러개 구분짓는 경우 : if, elif, else\n",
        "# Nested Conditionals(중첩조건)\n",
        "# 하나의 조건 안에 또 다른 조건을 거는 경우(조건 안에 조건) : 쓰는이유 http://ivis.kr/images/d/df/2017_CP_6%EC%9E%A5.pdf\n",
        "\n",
        "\n",
        "x, y = 3, 5\n",
        "\n",
        "if x == y:\n",
        "    print('x and y are equal')\n",
        "else:\n",
        "    if x < y:\n",
        "        print('x is less than y')\n",
        "    else: \n",
        "        print('x is greater than y')"
      ],
      "execution_count": null,
      "outputs": []
    },
    {
      "cell_type": "markdown",
      "metadata": {
        "id": "Z8_sFq8sMJcg"
      },
      "source": [
        "# 파이썬 기본 자료구조\n",
        "- 기본자료형 : 숫자, 문자열\n",
        "- 컬렉션 자료형 : 리스트, 튜플, 셋, 딕셔너리. 여러개의 데이터타입을 저장 가능."
      ]
    },
    {
      "cell_type": "markdown",
      "metadata": {
        "id": "FRUXTizgMw2S"
      },
      "source": [
        "## 리스트\n",
        "- 컬렉션 자료형에서 가장 많이 쓰이는 자료형이다.\n",
        "- 파이썬 리스트는 배열과 같이 배열의 특징인 핵심 연산(생성, 인덱스를 통한 접근, 인덱스를 통한 할당, 반복)을 지원하기 때문.\n",
        "\n",
        " - 인덱스와 메소드를 활용하기때문에 동적으로 값의 수정 및 정렬이 쉽다.\n",
        "- 기본적으로 리스트 만드는 법은 대괄호를 활용하는 것이다. ex) [ and ]\n",
        "\n",
        "- 리스트는 동적이다.\n",
        "\n",
        " - 동적이라 함은 메소드를 사용해 값을 추가하거나 제거가능\n",
        "\n",
        "  - 리스트를 활용하는 경우를 예를 들면, 비행기게임을 만드는데 리스트에 비행기를 저장하고, 적군에게 맞으면 리스트에서 비행기를 삭제하는 방법을 사용할 수 있다.\n",
        "- 튜플과의 차이점 : 리스트는 메소드를 활용하여 값 수정가능.\n",
        "\n",
        "- 딕셔너리와 차이점 : 인덱스를 기반으로 값을 저장하고 수정할 수 있다.\n",
        "\n",
        "- 파이썬 리스트는 탐색, 삽입, 삭제와 같은 연산에 대한 메소드를 갖고 있으므로 단순 자료형이 아닌 자료구조의 형태를 취한다.\n",
        "\n",
        "- 리스트는 프로그래밍에서 기본적으로 사용되는 값을 여러개 저장할 수 있는 기능인 배열의 기능 또한 갖고 있다."
      ]
    },
    {
      "cell_type": "markdown",
      "metadata": {
        "id": "vAyVXwpRNC3T"
      },
      "source": [
        "- 하나의 리스트에 문자열, 숫자 타입 모두 넣을 수 있다.\n",
        "``` \n",
        "[2, 'four', 6.0, '8', [5, 5]]\n",
        "```\n",
        "- 리스트안에 리스트를 넣을 수 있다.(다차원 리스트)\n",
        " - 다차원 리스트는 게임개발, 대규모 머신러닝 알고리즘에서 사용된다."
      ]
    },
    {
      "cell_type": "code",
      "metadata": {
        "id": "4dSm0P42NYj5"
      },
      "source": [
        "cheeses = ['Cheddar', 'Edam', 'Gouda']\n",
        "numbers = [123, 456]\n",
        "\n",
        "empty = []\n",
        "print(cheeses, numbers, empty)\n",
        "print('numbers[1] :',numbers[1])\n",
        "print('numbers[0] :',numbers[0])\n",
        "print('numbers :',numbers)"
      ],
      "execution_count": null,
      "outputs": []
    },
    {
      "cell_type": "markdown",
      "metadata": {
        "id": "CUFvZKdE4RTd"
      },
      "source": [
        "### 리스트, 정규표현식, 리스트를 문자열로."
      ]
    },
    {
      "cell_type": "code",
      "metadata": {
        "id": "ZHVeSPNkjbmc",
        "outputId": "4f68cbbc-7a0b-47bf-f0ce-a4cf998fbb43",
        "colab": {
          "base_uri": "https://localhost:8080/"
        }
      },
      "source": [
        "import math\n",
        "\n",
        "center = 10\n",
        "height = 20\n",
        "\n",
        "value = []\n",
        "\n",
        "# 문자열 값을 입력받음.\n",
        "items = [string for string in input().split(',')]\n",
        "\n",
        "## element = 1부터 시작한다.\n",
        "\n",
        "for element in items : \n",
        "    value.append(str(int(round(math.sqrt(2*center*float(element) / height)))))   # round, ceill, floor : https://webcooker.tistory.com/50  # 문자열로 받아서 float로 바꿔서 다시 int로 바꿨구나.\n",
        "\n",
        "print('------------')\n",
        "print('입력받은 문자열 값: ', items, ', for문의 마지막 element: ', element)\n",
        "print('------------')\n",
        "print(','.join(value))\n",
        "print(value)\n",
        "\n",
        "# join()함수 : https://blockdmask.tistory.com/468\n",
        "# '구분자'.join(리스트) : join 함수는 매개변수로 들어온 리스트에 있는 요소 하나하나를 합쳐서 하나의 문자열로 바꾸어 반환하는 함수입니다. \n",
        "# 매개변수로 들어온 ['a', 'b', 'c'] 이런 식의 리스트를 'abc'의 문자열로 합쳐서 반환"
      ],
      "execution_count": 13,
      "outputs": [
        {
          "output_type": "stream",
          "name": "stdout",
          "text": [
            "10,20,30\n",
            "------------\n",
            "입력받은 문자열 값:  ['10', '20', '30'] , for문의 마지막 element:  30\n",
            "------------\n",
            "3,4,5\n",
            "['3', '4', '5']\n"
          ]
        }
      ]
    },
    {
      "cell_type": "code",
      "metadata": {
        "id": "LOqGOWxFoqYM",
        "outputId": "2c51fb06-2869-4a29-a5fa-778ed73d0a86",
        "colab": {
          "base_uri": "https://localhost:8080/"
        }
      },
      "source": [
        "# append와 정규표현식 활용한 비밀번호 구성하기.\n",
        "\n",
        "# 정규표현식 : module :re\n",
        "\n",
        "import re  # Support for regular expressions (RE).\n",
        "\n",
        "value = []\n",
        "items = [index for index in input().split(',')]  # 비번이니까 예를들어 1234568,  jkjleijif03이런식이 되겠지. \n",
        "\n",
        "# 비밀번호 구성로직\n",
        "\n",
        "for pw in items:\n",
        "    if len(pw) < 6 or len(pw) >12:    # 패스워드길이가 12개보다 크거나 6보다 작을 경우\n",
        "        continue   # 다시 루프돌기\n",
        "    else:     # 그렇지 않을경우에는 \n",
        "        pass     # 실행할 코드 없고 다음구문으로 넘어간다.)  continue, pass 차이 :  https://wlstnans.tistory.com/101\n",
        "\n",
        "    if not re.search(\"[a-z]\", pw) :   # re.match, re.search는 정규식과 매치될 때는 match 객체를 돌려주고, 매치되지 않을 때는 None을 돌려준다. \n",
        "        continue               # pw에 a-z의 소문자가 없으면 다시 루프로.\n",
        "    elif not re.search(\"[0-9]\", pw) :\n",
        "        continue\n",
        "    elif not re.search(\"[A-Z]\", pw) :\n",
        "        continue\n",
        "    elif not re.search(\"[$#@]\",pw):   # [$#@] 이 특수문자 없을땐  루프 \n",
        "        continue\n",
        "    elif re.search(\"\\s\",pw):  #공백포함시 루프\n",
        "        continue\n",
        "    else:\n",
        "        pass\n",
        "    \n",
        "    value.append(pw)\n",
        "\n",
        "print(\",\".join(value)) # 리스트를 문자열로 반환."
      ],
      "execution_count": 27,
      "outputs": [
        {
          "output_type": "stream",
          "name": "stdout",
          "text": [
            "jdfJKL08$, djkl dkjl, sjkl08@K, fjkJJ#0\n",
            "jdfJKL08$\n"
          ]
        }
      ]
    },
    {
      "cell_type": "code",
      "metadata": {
        "id": "0j5ofFJZsRUz",
        "outputId": "4e461fa0-257a-493c-ef9f-5eb820e650e9",
        "colab": {
          "base_uri": "https://localhost:8080/"
        }
      },
      "source": [
        "# re 정규표현식은 아주 복잡하다 ; https://python.bakyeono.net/chapter-11-2.html\n",
        "# 파이썬 정규표현식 사용법 : https://greeksharifa.github.io/%EC%A0%95%EA%B7%9C%ED%91%9C%ED%98%84%EC%8B%9D(re)/2018/07/21/regex-usage-02-basic/\n",
        "# https://blog.naver.com/PostView.nhn?blogId=realuv&logNo=220699272999\n",
        "# https://highcode.tistory.com/6\n",
        "\n",
        "\n",
        "import re                             # 정규식 모듈 임포트\n",
        "pattern_string = r'파이썬'            # '파이썬' 패턴 문자열\n",
        "pattern = re.compile(pattern_string)  # 패턴 문자열을 패턴 객체로 컴파일\n",
        "\n",
        "print(re.search(pattern, '파이썬'))         # 매치한다: Match 객체 반환\n",
        "# <_sre.SRE_Match object; span=(0, 3), match='파이썬'>\n",
        "\n",
        "print(re.search(pattern, '즐거운 파이썬'))  # 일부 텍스트와 매치한다\n",
        "# <_sre.SRE_Match object; span=(4, 7), match='파이썬'>\n",
        "\n",
        "print(re.search(pattern, '파이프'))         # 매치하지 않는다: None 반환\n",
        "\n",
        "match = re.search('[$#@]', 'ddㅇ 프로그래밍')\n",
        "if match:\n",
        "    print('문자열에 패턴과 매치하는 텍스트가 존재함')\n",
        "else:\n",
        "    print('문자열에 패턴과 매치하는 텍스트가 존재하지 않음')"
      ],
      "execution_count": 26,
      "outputs": [
        {
          "output_type": "stream",
          "name": "stdout",
          "text": [
            "<re.Match object; span=(0, 3), match='파이썬'>\n",
            "<re.Match object; span=(4, 7), match='파이썬'>\n",
            "None\n",
            "문자열에 패턴과 매치하는 텍스트가 존재하지 않음\n"
          ]
        }
      ]
    },
    {
      "cell_type": "code",
      "metadata": {
        "id": "B3jSsDQmsV8k",
        "outputId": "37a38661-8556-4fe0-98a3-c04794f715db",
        "colab": {
          "base_uri": "https://localhost:8080/"
        }
      },
      "source": [
        "for string in input().split(','):\n",
        "    print(string)\n",
        "    print(list(string))"
      ],
      "execution_count": 28,
      "outputs": [
        {
          "output_type": "stream",
          "name": "stdout",
          "text": [
            "8902,아놔, 너랑, 같이\n",
            "8902\n",
            "['8', '9', '0', '2']\n",
            "아놔\n",
            "['아', '놔']\n",
            " 너랑\n",
            "[' ', '너', '랑']\n",
            " 같이\n",
            "[' ', '같', '이']\n"
          ]
        }
      ]
    },
    {
      "cell_type": "markdown",
      "metadata": {
        "id": "Wj3E1xR44ivl"
      },
      "source": [
        "### # insert()"
      ]
    },
    {
      "cell_type": "code",
      "metadata": {
        "id": "KJBm6dH43hgV",
        "outputId": "991e47cc-189e-4e94-ce8d-d3563feda492",
        "colab": {
          "base_uri": "https://localhost:8080/"
        }
      },
      "source": [
        "# insert() : 리스트 중간에 인덱스와 값을 지정하여 값 추가삽입\n",
        "\n",
        "arr_in = ['math', 'biology', 1989, 2019]\n",
        "arr_in.insert(1,2021)\n",
        "arr_in"
      ],
      "execution_count": 29,
      "outputs": [
        {
          "output_type": "execute_result",
          "data": {
            "text/plain": [
              "['math', 2021, 'biology', 1989, 2019]"
            ]
          },
          "metadata": {},
          "execution_count": 29
        }
      ]
    },
    {
      "cell_type": "markdown",
      "metadata": {
        "id": "B-fBtn764nZN"
      },
      "source": [
        "### # del[], remove()"
      ]
    },
    {
      "cell_type": "code",
      "metadata": {
        "id": "9xu1kiZz3w-R",
        "outputId": "6b4cc943-d402-4abe-bbae-1157a28aebc6",
        "colab": {
          "base_uri": "https://localhost:8080/"
        }
      },
      "source": [
        "# del : 제거할 항목의 인덱스에 따라 삭제한다. 삭제 시 확인불가.\n",
        "# 활용 : 웹사이트에서 특정 사용자가 탈퇴하는 경우, 인덱스를 활용하여 삭제\n",
        "\n",
        "arr_del = [1,2,3,4,5]\n",
        "del arr_del[0]\n",
        "arr_del"
      ],
      "execution_count": 30,
      "outputs": [
        {
          "output_type": "execute_result",
          "data": {
            "text/plain": [
              "[2, 3, 4, 5]"
            ]
          },
          "metadata": {},
          "execution_count": 30
        }
      ]
    },
    {
      "cell_type": "code",
      "metadata": {
        "id": "K2mwEsVO4Bv1",
        "outputId": "2520ffe1-5e85-4add-e4a9-cbc5c5f120e4",
        "colab": {
          "base_uri": "https://localhost:8080/"
        }
      },
      "source": [
        "# remove() : 제거할 항목의 '값'에 따라 삭제한다. 삭제할 항목의 인덱스가 아닌 '값'!!!\n",
        "# 중복될 경우 앞 순서에 있는 값만 삭제한다.  \n",
        "\n",
        "arr = [1,2,3,4,5]\n",
        "arr.remove(2)\n",
        "print(arr)\n",
        "\n",
        "arr_1 = [1,2,3,4,5,1,1,1]\n",
        "arr_1.remove(1)\n",
        "print(arr_1)"
      ],
      "execution_count": 31,
      "outputs": [
        {
          "output_type": "stream",
          "name": "stdout",
          "text": [
            "[1, 3, 4, 5]\n",
            "[2, 3, 4, 5, 1, 1, 1]\n"
          ]
        }
      ]
    },
    {
      "cell_type": "markdown",
      "metadata": {
        "id": "Oed6MsFo9X1j"
      },
      "source": [
        "### # pop()"
      ]
    },
    {
      "cell_type": "code",
      "metadata": {
        "id": "_EmzDJ-H9aO8",
        "outputId": "6efc4b71-f25e-4e9e-ec4c-51f2ef569760",
        "colab": {
          "base_uri": "https://localhost:8080/"
        }
      },
      "source": [
        "# pop() : 리스트에서 특정 위치의 값을 뺴낸다. \n",
        "# 활용 ) 웹에서 로그아웃한 특정 사용자를 빼놨다가, 재접속 및 로그인을 위해 사용자 목록에 다시 넣을 수 있다.\n",
        "\n",
        "arr_pop = [1,2,3,4,5,6,7,8,9,10]\n",
        "p_1 = arr_pop.pop()  # 아무것도 적지않으면 제일 마지막 요소를 뺸다.\n",
        "\n",
        "print(arr_pop)\n",
        "print(p_1)\n",
        "\n",
        "p_2 = arr_pop.pop(3)   #3번 인덱스를 빼낸다. \n",
        "print(p_2)\n",
        "\n",
        "arr_pop.insert(3,p_2)  # 다시 넣는다.\n",
        "arr_pop"
      ],
      "execution_count": 41,
      "outputs": [
        {
          "output_type": "stream",
          "name": "stdout",
          "text": [
            "[1, 2, 3, 4, 5, 6, 7, 8, 9]\n",
            "10\n",
            "4\n"
          ]
        },
        {
          "output_type": "execute_result",
          "data": {
            "text/plain": [
              "[1, 2, 3, 4, 5, 6, 7, 8, 9]"
            ]
          },
          "metadata": {},
          "execution_count": 41
        }
      ]
    },
    {
      "cell_type": "markdown",
      "metadata": {
        "id": "ptI8kgmi-dcK"
      },
      "source": [
        "### # extend()"
      ]
    },
    {
      "cell_type": "code",
      "metadata": {
        "id": "I5PoSz6u-gze",
        "outputId": "89668cde-4c07-4912-9689-b010ffff66ad",
        "colab": {
          "base_uri": "https://localhost:8080/"
        }
      },
      "source": [
        "# extend() : 리스트끼리 이어붙이기\n",
        "\n",
        "arr_one = [1,2,3,4,5]\n",
        "arr_two = [1,2,3]\n",
        "arr_one.extend(arr_two)\n",
        "arr_one"
      ],
      "execution_count": 42,
      "outputs": [
        {
          "output_type": "execute_result",
          "data": {
            "text/plain": [
              "[1, 2, 3, 4, 5, 1, 2, 3]"
            ]
          },
          "metadata": {},
          "execution_count": 42
        }
      ]
    },
    {
      "cell_type": "markdown",
      "metadata": {
        "id": "TfJ-YGIG-vyi"
      },
      "source": [
        "### sum(), count(), len()\n",
        "\n",
        "\n",
        "* 헷갈리는 size와 len\n",
        "\n",
        "1. size\n",
        "   : 전체 원소의 갯수!\n",
        "   : 2x3 배열의 경우, 원소 갯수인 6을 반환!\n",
        "2. len\n",
        "   : 첫 번째 차원의 원소(행) 수!\n",
        "   : 2x3 배열의 경우, 첫 번째 차원의 행수인 2를 반환!\n",
        "   : [1, 2, 3] 같은 1차원 배열의 경우, shape가 (3, )이므로 첫 번째 차원의 행수인 3을 반환한다고 봐도 될듯.\n",
        "\n",
        "출처: https://curryyou.tistory.com/128 [카레유]"
      ]
    },
    {
      "cell_type": "code",
      "metadata": {
        "id": "-E5IwLDS_HLh",
        "outputId": "62f1d4df-b130-4618-b6ce-236750b0743f",
        "colab": {
          "base_uri": "https://localhost:8080/"
        }
      },
      "source": [
        "arr = [1,1,2,2,2,2,3,4,5]\n",
        "print(sum(arr))\n",
        "print(arr.count(2))  # 숫자 2의 갯수 구하기. \n",
        "print(len(arr))"
      ],
      "execution_count": 45,
      "outputs": [
        {
          "output_type": "stream",
          "name": "stdout",
          "text": [
            "22\n",
            "4\n",
            "9\n"
          ]
        }
      ]
    },
    {
      "cell_type": "markdown",
      "metadata": {
        "id": "MaIIOFXkCU9d"
      },
      "source": [
        "### index() : \n",
        "\n",
        "https://ooyoung.tistory.com/78\n",
        "\n",
        "2-1) find( )\n",
        "\n",
        "찾는 문자가 없는 경우에 -1을 출력한다.\n",
        "\n",
        "문자열을 찾을 수 있는 변수는 문자열만 사용이 가능하다.  리스트, 튜플, 딕셔너리 자료형에서는 find 함수를 사용할 수 없다. 만일 사용하게 되면 AttributeError 에러가 발생한다.\n",
        "\n",
        " \n",
        "\n",
        "2-2) index( )\n",
        "\n",
        "찾는 문자가 없는 경우에 ValueError 에러가 발생한다.\n",
        "\n",
        "문자열, 리스트, 튜플 자료형에서 사용 가능하고 딕셔너리 자료형에는 사용할 수 없어 AttributeError 에러가 발생한다.\n",
        "\n",
        "\n",
        "\n",
        "3) 중복되는 원소들의 인덱스 모두 찾기 (numpy.where)\n",
        "https://m.blog.naver.com/sw4r/221976911807\n",
        "```\n",
        ">>> import numpy\n",
        ">>> b = numpy.array(b)\n",
        ">>> numpy.where(b == 'hello')[0]\n",
        "array([1, 3])\n",
        "```"
      ]
    },
    {
      "cell_type": "code",
      "metadata": {
        "id": "4-mdI4K6Aj6m",
        "outputId": "68882e7e-1dd8-4b3e-c941-86d79bce0d98",
        "colab": {
          "base_uri": "https://localhost:8080/"
        }
      },
      "source": [
        "# index(sub [, start [, end]]) \n",
        "\n",
        "arr_two = ['a', 'b', 'c', 'd', 'e', 'a', 'b']\n",
        "print(arr_two.index('a',1))\n",
        "# print(arr_two.index('a', 1, 5))\n",
        "print(arr_two.index('b', 1, 3))"
      ],
      "execution_count": 49,
      "outputs": [
        {
          "output_type": "stream",
          "name": "stdout",
          "text": [
            "5\n",
            "1\n"
          ]
        }
      ]
    },
    {
      "cell_type": "markdown",
      "metadata": {
        "id": "AjyeuobRC1r_"
      },
      "source": [
        "### min(), sort(), sorted()"
      ]
    },
    {
      "cell_type": "code",
      "metadata": {
        "id": "XBZO1mrYDW8I"
      },
      "source": [
        "arr = [4, 3, 2.5, 7, 0.7, 9]"
      ],
      "execution_count": 60,
      "outputs": []
    },
    {
      "cell_type": "code",
      "metadata": {
        "id": "YXkc15EMDd-d",
        "outputId": "8a5abc78-30ce-4c35-e5a4-057514ab97e9",
        "colab": {
          "base_uri": "https://localhost:8080/"
        }
      },
      "source": [
        "sorted(arr,reverse=True)   # 리스트 자체의 순서는 유지하고, 정렬된 순서로 출력만 함"
      ],
      "execution_count": 61,
      "outputs": [
        {
          "output_type": "execute_result",
          "data": {
            "text/plain": [
              "[9, 7, 4, 3, 2.5, 0.7]"
            ]
          },
          "metadata": {},
          "execution_count": 61
        }
      ]
    },
    {
      "cell_type": "code",
      "metadata": {
        "id": "evyt6-CEDf8m",
        "outputId": "c90df50a-7901-4e06-fcd5-deed18542fe8",
        "colab": {
          "base_uri": "https://localhost:8080/"
        }
      },
      "source": [
        "arr  # 주어진 arr은 그대로 유지되어 있음"
      ],
      "execution_count": 62,
      "outputs": [
        {
          "output_type": "execute_result",
          "data": {
            "text/plain": [
              "[4, 3, 2.5, 7, 0.7, 9]"
            ]
          },
          "metadata": {},
          "execution_count": 62
        }
      ]
    },
    {
      "cell_type": "code",
      "metadata": {
        "id": "94EuGyDVDC-4",
        "outputId": "9c08bdd3-8407-4348-c94b-6436267552fd",
        "colab": {
          "base_uri": "https://localhost:8080/"
        }
      },
      "source": [
        "min(arr)\n",
        "max(arr)\n",
        "arr.sort()\n",
        "arr.sort(reverse=True)   #리스트의 값 자체의 순서를 정렬\n",
        "arr"
      ],
      "execution_count": 59,
      "outputs": [
        {
          "output_type": "execute_result",
          "data": {
            "text/plain": [
              "[9, 7, 4, 3, 2.5, 0.7]"
            ]
          },
          "metadata": {},
          "execution_count": 59
        }
      ]
    },
    {
      "cell_type": "code",
      "metadata": {
        "id": "37j68GfhD21W",
        "outputId": "a922fd2e-67d5-4d27-d414-a85dec431fed",
        "colab": {
          "base_uri": "https://localhost:8080/"
        }
      },
      "source": [
        "### sort, sorted 비교\n",
        "\n",
        "items = [num for num in input().split(',')]\n",
        "items.sort()\n",
        "print(','.join(items))"
      ],
      "execution_count": 64,
      "outputs": [
        {
          "output_type": "stream",
          "name": "stdout",
          "text": [
            "10,30,22,55,1,0\n",
            "0,1,10,22,30,55\n"
          ]
        }
      ]
    },
    {
      "cell_type": "code",
      "metadata": {
        "id": "H52FmkJ6EGeR",
        "outputId": "77416b2e-939c-476e-bc27-068136d3cff8",
        "colab": {
          "base_uri": "https://localhost:8080/"
        }
      },
      "source": [
        "string = input()\n",
        "words = [word for word in string.split(\" \")]\n",
        "print(\" \".join(sorted(words)))\n",
        "print(\" \".join(words))"
      ],
      "execution_count": 67,
      "outputs": [
        {
          "output_type": "stream",
          "name": "stdout",
          "text": [
            "2 0 2 9 12 02 78\n",
            "0 02 12 2 2 78 9\n",
            "2 0 2 9 12 02 78\n"
          ]
        }
      ]
    },
    {
      "cell_type": "markdown",
      "metadata": {
        "id": "m2FH0vfNE1Cx"
      },
      "source": [
        "## 튜플\n",
        "\n",
        "- immutable : 변경 불가능\n",
        "- 리스트와의 차이점 : 튜플은 특정 값과 인덱스에 대한 값 변경은 불가능하다.\n",
        "- 리스트는 'a'에 대해서 append()와 같은 메소드를 통해 값변경 가능\n",
        "- 튜플은 값변경 메소드 없으므로 불가능\n",
        "- 메서드 : count(), index()"
      ]
    },
    {
      "cell_type": "code",
      "metadata": {
        "id": "_MBEk5wmINhB",
        "outputId": "fc776bf0-31c1-42d5-c9f7-7f69e85ef904",
        "colab": {
          "base_uri": "https://localhost:8080/"
        }
      },
      "source": [
        "my_tuple = 'a', 'b', 'c', 'd', 'e'\n",
        "my_tuple"
      ],
      "execution_count": 68,
      "outputs": [
        {
          "output_type": "execute_result",
          "data": {
            "text/plain": [
              "('a', 'b', 'c', 'd', 'e')"
            ]
          },
          "metadata": {},
          "execution_count": 68
        }
      ]
    },
    {
      "cell_type": "code",
      "metadata": {
        "id": "tMPRGAxlIPIE",
        "outputId": "838e1695-286a-41c7-ae52-008f1094b612",
        "colab": {
          "base_uri": "https://localhost:8080/"
        }
      },
      "source": [
        "my_other_tuple = ('f', 'g', 'h', 'i', 'j')\n",
        "my_other_tuple"
      ],
      "execution_count": 69,
      "outputs": [
        {
          "output_type": "execute_result",
          "data": {
            "text/plain": [
              "('f', 'g', 'h', 'i', 'j')"
            ]
          },
          "metadata": {},
          "execution_count": 69
        }
      ]
    },
    {
      "cell_type": "code",
      "metadata": {
        "id": "he7-4GdhIRvF",
        "outputId": "f2ba280a-0a67-4991-9497-a9bff24ccf98",
        "colab": {
          "base_uri": "https://localhost:8080/"
        }
      },
      "source": [
        "t = tuple('lambda')\n",
        "t"
      ],
      "execution_count": 70,
      "outputs": [
        {
          "output_type": "execute_result",
          "data": {
            "text/plain": [
              "('l', 'a', 'm', 'b', 'd', 'a')"
            ]
          },
          "metadata": {},
          "execution_count": 70
        }
      ]
    },
    {
      "cell_type": "code",
      "metadata": {
        "id": "ZSG-dlFoIYOd",
        "outputId": "ae6b66af-c841-47c2-9198-288f740be4b4",
        "colab": {
          "base_uri": "https://localhost:8080/",
          "height": 190
        }
      },
      "source": [
        "t[0] = 'L' # tuple - immutable\n",
        "print(t)"
      ],
      "execution_count": 71,
      "outputs": [
        {
          "output_type": "error",
          "ename": "TypeError",
          "evalue": "ignored",
          "traceback": [
            "\u001b[0;31m---------------------------------------------------------------------------\u001b[0m",
            "\u001b[0;31mTypeError\u001b[0m                                 Traceback (most recent call last)",
            "\u001b[0;32m<ipython-input-71-a8d0bc25cfe1>\u001b[0m in \u001b[0;36m<module>\u001b[0;34m()\u001b[0m\n\u001b[0;32m----> 1\u001b[0;31m \u001b[0mt\u001b[0m\u001b[0;34m[\u001b[0m\u001b[0;36m0\u001b[0m\u001b[0;34m]\u001b[0m \u001b[0;34m=\u001b[0m \u001b[0;34m'L'\u001b[0m \u001b[0;31m# tuple - immutable\u001b[0m\u001b[0;34m\u001b[0m\u001b[0;34m\u001b[0m\u001b[0m\n\u001b[0m\u001b[1;32m      2\u001b[0m \u001b[0mprint\u001b[0m\u001b[0;34m(\u001b[0m\u001b[0mt\u001b[0m\u001b[0;34m)\u001b[0m\u001b[0;34m\u001b[0m\u001b[0;34m\u001b[0m\u001b[0m\n",
            "\u001b[0;31mTypeError\u001b[0m: 'tuple' object does not support item assignment"
          ]
        }
      ]
    },
    {
      "cell_type": "markdown",
      "metadata": {
        "id": "LHM4mw6gIp5p"
      },
      "source": [
        "## 딕셔너리\n",
        "- 키를 기반으로 값을 저장\n",
        "- 파이썬 3.6 이하에서는 입력 순서를 고려하지 않는다. ( OrderedDict라는 별도의 object를 제공)\n",
        "\n",
        "- 데이터 순서를 동적으로 조절하려면, 리스트 사용을 권장.\n",
        "\n",
        "- 키와 값에 따른 데이터를 효율적으로 보려면, 딕셔너리 사용을 권장.\n"
      ]
    },
    {
      "cell_type": "code",
      "metadata": {
        "id": "3Ad90AjhJFZ_",
        "outputId": "46086665-a511-441c-d9d1-a25e5db2cdaf",
        "colab": {
          "base_uri": "https://localhost:8080/"
        }
      },
      "source": [
        "import sys\n",
        "print(sys.version)"
      ],
      "execution_count": 73,
      "outputs": [
        {
          "output_type": "stream",
          "name": "stdout",
          "text": [
            "3.7.12 (default, Sep 10 2021, 00:21:48) \n",
            "[GCC 7.5.0]\n"
          ]
        }
      ]
    },
    {
      "cell_type": "code",
      "metadata": {
        "id": "D5-cTdJNJMBR",
        "outputId": "b4e05c91-418a-416b-de75-1fe183e97f4f",
        "colab": {
          "base_uri": "https://localhost:8080/"
        }
      },
      "source": [
        "# 다음과 같이 입력값을 부여할 경우, OrderedDict는 입력 그대로 순서가 유지됨\n",
        "from collections import OrderedDict\n",
        "\n",
        "\n",
        "# dict_test # OrderedDict 활용하지 않는 경우, 키를 기준으로 정렬됨\n",
        "dict_test = {'test':1, 'test2':5, 'gui':4, 'black':2}\n",
        "dict_test"
      ],
      "execution_count": 74,
      "outputs": [
        {
          "output_type": "execute_result",
          "data": {
            "text/plain": [
              "{'black': 2, 'gui': 4, 'test': 1, 'test2': 5}"
            ]
          },
          "metadata": {},
          "execution_count": 74
        }
      ]
    },
    {
      "cell_type": "code",
      "metadata": {
        "id": "txsYwQ9hJTNM",
        "outputId": "d7e4eeff-4ec4-436b-e77f-5f134503f3a4",
        "colab": {
          "base_uri": "https://localhost:8080/"
        }
      },
      "source": [
        "OrderedDict(dict_test)  # OrderedDict 활용하는 경우, 입력된 딕셔너리 키와 값 순서 그대로 유지됨"
      ],
      "execution_count": 75,
      "outputs": [
        {
          "output_type": "execute_result",
          "data": {
            "text/plain": [
              "OrderedDict([('test', 1), ('test2', 5), ('gui', 4), ('black', 2)])"
            ]
          },
          "metadata": {},
          "execution_count": 75
        }
      ]
    },
    {
      "cell_type": "code",
      "metadata": {
        "id": "SKGK8gHPJ4I2",
        "outputId": "40f0eb56-e26d-47b8-e89d-e13eaf8d1f67",
        "colab": {
          "base_uri": "https://localhost:8080/"
        }
      },
      "source": [
        "## 딕셔너리 선언\n",
        "\n",
        "eng_sp = dict()\n",
        "print(eng_sp)   #빈 딕셔너리\n",
        "\n",
        "eng_sp['one'] = 'uno'\n",
        "print(eng_sp)\n",
        "\n",
        "eng_sp = {'two':'dos','three':'trees'}\n",
        "print(eng_sp)"
      ],
      "execution_count": 83,
      "outputs": [
        {
          "output_type": "stream",
          "name": "stdout",
          "text": [
            "{}\n",
            "{'one': 'uno'}\n",
            "{'two': 'dos', 'three': 'trees'}\n"
          ]
        }
      ]
    },
    {
      "cell_type": "markdown",
      "metadata": {
        "id": "4vMrkbptKdpA"
      },
      "source": [
        "### clear(), update()"
      ]
    },
    {
      "cell_type": "code",
      "metadata": {
        "id": "rgJa5Hz5Khrg",
        "outputId": "597f4bb6-98b1-48b9-acee-236701b9b0dd",
        "colab": {
          "base_uri": "https://localhost:8080/"
        }
      },
      "source": [
        "car = {\n",
        "    \"brand\": \"Honda\",\n",
        "    \"model\": \"CR-V\",\n",
        "    \"year\": 2002\n",
        "}\n",
        "print(car)\n",
        "\n",
        "car.clear()\n",
        "print(car)"
      ],
      "execution_count": 84,
      "outputs": [
        {
          "output_type": "stream",
          "name": "stdout",
          "text": [
            "{'brand': 'Honda', 'model': 'CR-V', 'year': 2002}\n",
            "{}\n"
          ]
        }
      ]
    },
    {
      "cell_type": "code",
      "metadata": {
        "id": "lgScO6VLKxT4",
        "outputId": "6bb9abf2-3c64-4003-9f32-dca2ced7ddf8",
        "colab": {
          "base_uri": "https://localhost:8080/"
        }
      },
      "source": [
        "car = {\n",
        "    \"brand\": \"Honda\",\n",
        "    \"model\": \"CR-V\",\n",
        "    \"year\": 2002\n",
        "}\n",
        "\n",
        "print(car)\n",
        "\n",
        "carbon_copy = car.copy()\n",
        "print(carbon_copy)\n",
        "print(car)\n",
        "\n",
        "car.update({\"color\":\"black\"})\n",
        "print(car)\n",
        "print(carbon_copy)"
      ],
      "execution_count": 88,
      "outputs": [
        {
          "output_type": "stream",
          "name": "stdout",
          "text": [
            "{'brand': 'Honda', 'model': 'CR-V', 'year': 2002}\n",
            "{'brand': 'Honda', 'model': 'CR-V', 'year': 2002}\n",
            "{'brand': 'Honda', 'model': 'CR-V', 'year': 2002}\n",
            "{'brand': 'Honda', 'model': 'CR-V', 'year': 2002, 'color': 'black'}\n",
            "{'brand': 'Honda', 'model': 'CR-V', 'year': 2002}\n"
          ]
        }
      ]
    },
    {
      "cell_type": "markdown",
      "metadata": {
        "id": "UKWGxCi0LThZ"
      },
      "source": [
        "## fromkeys()\n",
        "\n",
        "dict.fromkeys(seq, value)\n",
        "\n",
        "딕셔너리를 생성할 때 편리하게 사용할 수 있는 메서드. \n",
        "\n",
        "seq 옵션 값에 문자열을 입력할 수도 있다.\n",
        "\n",
        "seq: 생성하려는 dictionary의 키(key)의 목록\n",
        "\n",
        "value: 생성하려는 dictionary의 값(value) \n",
        "\n",
        "\n",
        "```\n",
        "seq = ('name', 'age', 'sex')\n",
        "\n",
        "dict_1 = dict.fromkeys(seq)\n",
        "print(dict_1)\n",
        "\n",
        "dict_2 = dict.fromkeys(seq, 10)\n",
        "print(dict_2)\n",
        "\n",
        "## result ##\n",
        "{'age':None, 'name':None, 'sex':None}\n",
        "{'age':10, 'name':10, 'sex':10}\n",
        "```"
      ]
    },
    {
      "cell_type": "code",
      "metadata": {
        "id": "CJZYeVilLSdZ",
        "outputId": "0e011daa-0f9a-429d-dfa2-9d584def5235",
        "colab": {
          "base_uri": "https://localhost:8080/"
        }
      },
      "source": [
        "x = ('key1', 'key2', 'key3')\n",
        "y = 1,2\n",
        "new_dict = dict.fromkeys(x, y)\n",
        "print(new_dict)"
      ],
      "execution_count": 93,
      "outputs": [
        {
          "output_type": "stream",
          "name": "stdout",
          "text": [
            "{'key1': (1, 2), 'key2': (1, 2), 'key3': (1, 2)}\n"
          ]
        }
      ]
    },
    {
      "cell_type": "markdown",
      "metadata": {
        "id": "NjSA11MkMRTf"
      },
      "source": [
        "## get(), keys(), values(), items()"
      ]
    },
    {
      "cell_type": "code",
      "metadata": {
        "id": "VFaS1EG-MUn7",
        "outputId": "99517a47-edfb-4608-ac14-7b8644bfaa64",
        "colab": {
          "base_uri": "https://localhost:8080/",
          "height": 35
        }
      },
      "source": [
        "car = {\n",
        "     \"brand\": \"Honda\",\n",
        "     \"model\": \"CR-V\",\n",
        "     \"year\": 2002\n",
        " }\n",
        "\n",
        "\n",
        "# 특정 key의 value값을 알기.\n",
        "car.get(\"model\")"
      ],
      "execution_count": 99,
      "outputs": [
        {
          "output_type": "execute_result",
          "data": {
            "application/vnd.google.colaboratory.intrinsic+json": {
              "type": "string"
            },
            "text/plain": [
              "'CR-V'"
            ]
          },
          "metadata": {},
          "execution_count": 99
        }
      ]
    },
    {
      "cell_type": "code",
      "metadata": {
        "id": "6XJgBAaSMyjZ",
        "outputId": "d7cfb68b-8961-4da7-d045-fb188ad48dfa",
        "colab": {
          "base_uri": "https://localhost:8080/"
        }
      },
      "source": [
        "# 키\n",
        "car.keys()"
      ],
      "execution_count": 97,
      "outputs": [
        {
          "output_type": "execute_result",
          "data": {
            "text/plain": [
              "dict_keys(['brand', 'model', 'year'])"
            ]
          },
          "metadata": {},
          "execution_count": 97
        }
      ]
    },
    {
      "cell_type": "code",
      "metadata": {
        "id": "rHuPQZ0HM-nH",
        "outputId": "7370d0b8-a925-4d11-97c2-becd83b14aa7",
        "colab": {
          "base_uri": "https://localhost:8080/"
        }
      },
      "source": [
        "# 값\n",
        "car.values()"
      ],
      "execution_count": 101,
      "outputs": [
        {
          "output_type": "execute_result",
          "data": {
            "text/plain": [
              "dict_values(['Honda', 'CR-V', 2002])"
            ]
          },
          "metadata": {},
          "execution_count": 101
        }
      ]
    },
    {
      "cell_type": "code",
      "metadata": {
        "id": "mzZBX7xjM0cu",
        "outputId": "09cc2d13-596d-41ee-8c92-a5f3a15e9c15",
        "colab": {
          "base_uri": "https://localhost:8080/"
        }
      },
      "source": [
        "# 쌍\n",
        "car.items()"
      ],
      "execution_count": 98,
      "outputs": [
        {
          "output_type": "execute_result",
          "data": {
            "text/plain": [
              "dict_items([('brand', 'Honda'), ('model', 'CR-V'), ('year', 2002)])"
            ]
          },
          "metadata": {},
          "execution_count": 98
        }
      ]
    },
    {
      "cell_type": "markdown",
      "metadata": {
        "id": "MKG48jY2NLgx"
      },
      "source": [
        "## pop(), popitem()\n",
        "- pop()  : key로 value를 뺴냄.\n",
        "- popitem() : 키-값 쌍으로 빼냄."
      ]
    },
    {
      "cell_type": "code",
      "metadata": {
        "id": "h5128RxTNOK_",
        "outputId": "5d76e551-04d9-442f-9282-6631a1d3f418",
        "colab": {
          "base_uri": "https://localhost:8080/"
        }
      },
      "source": [
        "car = {\n",
        "     \"brand\": \"Honda\",\n",
        "     \"model\": \"CR-V\",\n",
        "     \"year\": 2002\n",
        " }\n",
        "x = car.pop(\"model\")  #키값으로 빼내기\n",
        "print(x)\n",
        "print(car)"
      ],
      "execution_count": 106,
      "outputs": [
        {
          "output_type": "stream",
          "name": "stdout",
          "text": [
            "CR-V\n",
            "{'brand': 'Honda', 'year': 2002}\n"
          ]
        }
      ]
    },
    {
      "cell_type": "code",
      "metadata": {
        "id": "0OFKviXkMPZ-",
        "outputId": "53226d08-3178-45b5-b0c4-007746cbbaee",
        "colab": {
          "base_uri": "https://localhost:8080/"
        }
      },
      "source": [
        "car = {\n",
        "     \"brand\": \"Honda\",\n",
        "     \"model\": \"CR-V\",\n",
        "     \"year\": 2002\n",
        " }\n",
        "\n",
        "print(car.popitem())  # 튜플로 반환.\n",
        "print(car)\n",
        "\n",
        "car[\"price\"] = 4000  #update()와 똑같지 않나?\n",
        "print(car)\n",
        "\n",
        "print(car.popitem())  # 튜플로 반환.\n",
        "print(car)"
      ],
      "execution_count": 109,
      "outputs": [
        {
          "output_type": "stream",
          "name": "stdout",
          "text": [
            "('year', 2002)\n",
            "{'brand': 'Honda', 'model': 'CR-V'}\n",
            "{'brand': 'Honda', 'model': 'CR-V', 'price': 4000}\n",
            "('price', 4000)\n",
            "{'brand': 'Honda', 'model': 'CR-V'}\n"
          ]
        }
      ]
    },
    {
      "cell_type": "markdown",
      "metadata": {
        "id": "J3-jut6gXA13"
      },
      "source": [
        "## setdefault(), update()"
      ]
    },
    {
      "cell_type": "code",
      "metadata": {
        "id": "XzWxvNebW-uu",
        "outputId": "3ea8f3de-a3b1-4982-ce25-217d3437ecd4",
        "colab": {
          "base_uri": "https://localhost:8080/"
        }
      },
      "source": [
        "car = {\n",
        "     \"brand\": \"Honda\",\n",
        "     \"model\": \"CR-V\",\n",
        "     \"year\": 2002\n",
        " }\n",
        "\n",
        "x=car.setdefault(\"model\", \"Odyssey\")  # 만약 model 키가 있다면 디폴트값을 반환한다.\n",
        "print(x)\n",
        "\n",
        "y = car.setdefault(\"color\", \"black\")  # color키가 없기 때문에 color:black 을 저장하고 black을 반환한다. \n",
        "print(y)\n",
        "\n",
        "print(car)\n",
        "\n",
        "# 딕셔너리 메서드: https://sangwoo0727.github.io/python/Python-10_dictionary/"
      ],
      "execution_count": 112,
      "outputs": [
        {
          "output_type": "stream",
          "name": "stdout",
          "text": [
            "CR-V\n",
            "black\n",
            "{'brand': 'Honda', 'model': 'CR-V', 'year': 2002, 'color': 'black'}\n"
          ]
        }
      ]
    },
    {
      "cell_type": "code",
      "metadata": {
        "id": "CfCeZadZYp28",
        "outputId": "0cb07b71-4b2a-48ee-ebc8-70d6d6206ad1",
        "colab": {
          "base_uri": "https://localhost:8080/"
        }
      },
      "source": [
        "car = {\n",
        "     \"brand\": \"Honda\",\n",
        "     \"model\": \"CR-V\",\n",
        "     \"year\": 2002\n",
        " }\n",
        "car.update({\"color\": \"black\"})\n",
        "print(car)"
      ],
      "execution_count": 113,
      "outputs": [
        {
          "output_type": "stream",
          "name": "stdout",
          "text": [
            "{'brand': 'Honda', 'model': 'CR-V', 'year': 2002, 'color': 'black'}\n"
          ]
        }
      ]
    },
    {
      "cell_type": "code",
      "metadata": {
        "id": "cbkfQG-kZONi",
        "outputId": "dabbca64-b547-44c9-c94d-04dbfce016ca",
        "colab": {
          "base_uri": "https://localhost:8080/"
        }
      },
      "source": [
        "# 다른 경우를 보자.\n",
        "d = {'james':11, 'stef': 21, 'eden': 20}\n",
        "\n",
        "d['james'] = 12\n",
        "\n",
        "print(d)  # {'james': 12, 'stef': 21, 'eden': 20}"
      ],
      "execution_count": 114,
      "outputs": [
        {
          "output_type": "stream",
          "name": "stdout",
          "text": [
            "{'james': 12, 'stef': 21, 'eden': 20}\n"
          ]
        }
      ]
    },
    {
      "cell_type": "code",
      "metadata": {
        "id": "VTqYu-eVZgTu",
        "outputId": "1893dd8c-f697-47fb-9f3b-babd85d395a7",
        "colab": {
          "base_uri": "https://localhost:8080/"
        }
      },
      "source": [
        "# 알파벳이 몇번 나왔을까??\n",
        "s = 'Hello my name is james'\n",
        "d = {}\n",
        "\n",
        "for k in s:\n",
        "    if k in d:  # d안에 k가 존재하면\n",
        "        d[k]+=1\n",
        "    else:\n",
        "        d[k]=1\n",
        "\n",
        "print(d)"
      ],
      "execution_count": 117,
      "outputs": [
        {
          "output_type": "stream",
          "name": "stdout",
          "text": [
            "{'H': 1, 'e': 3, 'l': 2, 'o': 1, ' ': 4, 'm': 3, 'y': 1, 'n': 1, 'a': 2, 'i': 1, 's': 2, 'j': 1}\n"
          ]
        }
      ]
    },
    {
      "cell_type": "code",
      "metadata": {
        "id": "jkb_DPSLZJyp",
        "outputId": "f2583633-0502-40ba-f84e-4d05a3b1a068",
        "colab": {
          "base_uri": "https://localhost:8080/"
        }
      },
      "source": [
        "# 위의 구문은 아래와 같이 쓸 수 있다. \n",
        "s = 'Hello my name is james'\n",
        "d = {}\n",
        "\n",
        "for k in s:\n",
        "    d[k] = d.setdefault(k, 0) +1\n",
        "\n",
        "print(d)"
      ],
      "execution_count": 119,
      "outputs": [
        {
          "output_type": "stream",
          "name": "stdout",
          "text": [
            "{'H': 1, 'e': 3, 'l': 2, 'o': 1, ' ': 4, 'm': 3, 'y': 1, 'n': 1, 'a': 2, 'i': 1, 's': 2, 'j': 1}\n"
          ]
        }
      ]
    },
    {
      "cell_type": "code",
      "metadata": {
        "id": "shVqDEny5y_a"
      },
      "source": [
        "# 중첩 리스트(2차원 리스트), 3차원 리스트,,, \n",
        "\n",
        "# 리스트는 순서를 매긴다. 순서 = '인덱스'라고 함. 바뀌는 값을 저장.\n",
        "\n",
        "# 튜플 : 리스트와 같지만 한번 정하면 바꿀 수 없다. 바뀌지 않는 값을 저장"
      ],
      "execution_count": null,
      "outputs": []
    },
    {
      "cell_type": "code",
      "metadata": {
        "id": "iFjqfjpd95yt"
      },
      "source": [
        "l1 = ['hello', 'world', 2]\n",
        "\n",
        "print(l1[0])\n",
        "print(l1[1])\n",
        "print(l1[2])"
      ],
      "execution_count": null,
      "outputs": []
    },
    {
      "cell_type": "code",
      "metadata": {
        "id": "Pbo92c_a-JyP"
      },
      "source": [
        "l1 = ['hello', 'world', 2]\n",
        "l1[2] =4\n",
        "\n",
        "print(l1[0])\n",
        "print(l1[1])\n",
        "print(l1[2])\n",
        "# 리스트는 바꾸기 가능"
      ],
      "execution_count": null,
      "outputs": []
    },
    {
      "cell_type": "code",
      "metadata": {
        "id": "4sSX7h6J-D9M"
      },
      "source": [
        "t1 = ('hello', 'world', 2)\n",
        "# t1[2] =4\n",
        "\n",
        "print(t1[0])\n",
        "print(t1[1])\n",
        "print(t1[2])"
      ],
      "execution_count": null,
      "outputs": []
    },
    {
      "cell_type": "code",
      "metadata": {
        "id": "PkSLstBM-WR9"
      },
      "source": [
        "t1 = ('hello', 'world', 2)\n",
        "t1[2] =4\n",
        "\n",
        "print(t1[0])\n",
        "print(t1[1])\n",
        "print(t1[2])\n",
        "\n",
        "# 에러. 튜플은 바꿀 수 없다. \n",
        "# 따라서 튜플이 좀 더 가볍다.\n",
        "# 리스트는 많은 메서드가 동반된다. "
      ],
      "execution_count": null,
      "outputs": []
    },
    {
      "cell_type": "code",
      "metadata": {
        "id": "fv4REQv7-4eL"
      },
      "source": [
        "# 키:값 형태로 저장되는 딕셔너리. \n",
        "# 특정 키를 기준으로 찾을 떄 편하다\n",
        "# 리스트 :순서적인 것들이 있을 때 저장하기 편함. 키로 찾을 수는 없기때문에, 아무 자료나 막 넣을 때 편함. 여러개의 객체를 저장할 때.\n",
        "# 딕셔너리는 키로 구별을 해야할 떄 많이 쓴다. \n"
      ],
      "execution_count": null,
      "outputs": []
    },
    {
      "cell_type": "markdown",
      "metadata": {
        "id": "6rtNDb-CbmvO"
      },
      "source": [
        "# 디버깅\n",
        "\n",
        "ㅇㅏ ,, 양이 많..다 .. "
      ]
    },
    {
      "cell_type": "code",
      "metadata": {
        "id": "31L_uLqv_huJ"
      },
      "source": [
        "## 파이썬 디버깅.\n",
        "\n",
        "# 코드의 문제가 생긴다..? 어디에서 문제가 발생하는지 알 수 있어야 함. (Pdb) 가 나오면서 프로그램이 멈춘다. :but,#실질적으로 코드를 작성하진 못한다. \n",
        "# 실제로 코드가 제대로 동작하는지. 오류를 해결하기 위해, 특정 상황을 예방하기 위해 여러가지 상황을 시도하기 위해 사용.\n",
        "# exit로 나갈 수 있다.\n",
        "\n",
        "\n",
        "import pdb\n",
        "pdb.set_trace()\n",
        "\n",
        "= breakpoint() # --> pdb.set_trace()  명령어를 호출하는 것.\n",
        "\n",
        "step : 함수가 호출되거나 함수 다음중에서 멈추게 된다.\n",
        "nest :현재 함수 실행도중 리턴문구에 도달함. "
      ],
      "execution_count": null,
      "outputs": []
    },
    {
      "cell_type": "code",
      "metadata": {
        "id": "rqArMMd4S4gp"
      },
      "source": [
        "from unittest import TestCase\n",
        "\n",
        "class PythonBooleans(TestCase):\n",
        "    def truth_function(self, condition):\n",
        "        if condition:\n",
        "            return True\n",
        "        else:\n",
        "            return False\n",
        "\n",
        "class PythonBooleans():\n",
        "    def truth_function(self, condition):\n",
        "        if condition:\n",
        "            return True\n",
        "        else:\n",
        "            return False"
      ],
      "execution_count": null,
      "outputs": []
    },
    {
      "cell_type": "code",
      "metadata": {
        "id": "p6tDoqdkS7da"
      },
      "source": [
        "pb_ins = PythonBooleans()\n",
        "\n",
        "pb_ins.truth_function(True)"
      ],
      "execution_count": null,
      "outputs": []
    },
    {
      "cell_type": "code",
      "metadata": {
        "id": "-ZRTYTxGS71D"
      },
      "source": [
        ""
      ],
      "execution_count": null,
      "outputs": []
    }
  ]
}