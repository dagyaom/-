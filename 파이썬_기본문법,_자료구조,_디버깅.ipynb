{
  "nbformat": 4,
  "nbformat_minor": 0,
  "metadata": {
    "colab": {
      "name": "파이썬 기본문법, 자료구조, 디버깅.ipynb",
      "provenance": [],
      "collapsed_sections": [],
      "authorship_tag": "ABX9TyPBigGvl36K7EdE76QWBuvg",
      "include_colab_link": true
    },
    "kernelspec": {
      "name": "python3",
      "display_name": "Python 3"
    },
    "language_info": {
      "name": "python"
    }
  },
  "cells": [
    {
      "cell_type": "markdown",
      "metadata": {
        "id": "view-in-github",
        "colab_type": "text"
      },
      "source": [
        "<a href=\"https://colab.research.google.com/github/dagyaom/Python_Practice/blob/main/%ED%8C%8C%EC%9D%B4%EC%8D%AC_%EA%B8%B0%EB%B3%B8%EB%AC%B8%EB%B2%95%2C_%EC%9E%90%EB%A3%8C%EA%B5%AC%EC%A1%B0%2C_%EB%94%94%EB%B2%84%EA%B9%85.ipynb\" target=\"_parent\"><img src=\"https://colab.research.google.com/assets/colab-badge.svg\" alt=\"Open In Colab\"/></a>"
      ]
    },
    {
      "cell_type": "markdown",
      "metadata": {
        "id": "tKJoL4eHMYBV"
      },
      "source": [
        "일단 위험을 감수하더라도 실행해라. 파이썬이란 그런 것. \n",
        "\n",
        "파이썬의 개념과 작동방식도 함께 학습하기.\n",
        "\n",
        "\n",
        " Reference\n",
        "\n",
        "Lists and Tuples in Python : https://realpython.com/python-lists-tuples/\n",
        "\n",
        "Dictionaries in Python : https://realpython.com/python-dicts/\n",
        "\n",
        "파이썬 정규표현식 : https://docs.python.org/ko/3.9/howto/regex.html\n",
        "\n",
        "VScode Python Debug : https://www.youtube.com/watch?v=KoXstAR5pto&t=303s\n"
      ]
    },
    {
      "cell_type": "code",
      "metadata": {
        "id": "7guLmT4vMWKC"
      },
      "source": [
        "import antigravity\n",
        "import this\n"
      ],
      "execution_count": null,
      "outputs": []
    },
    {
      "cell_type": "markdown",
      "metadata": {
        "id": "xNAVCNZzWqKG"
      },
      "source": [
        "- 좋은 코드란??\n",
        "간결한 코드.\n",
        "- 파이쏘닉한 코드란??  ```import this```\n",
        "--> The Zen of Python 검색.\n",
        "\n",
        "\n",
        "- 리스트 : 'linked list'가 파이썬에 내장된 것. \n",
        "\n",
        "- 파이썬의 '디버깅'은 디버깅 보조도구지 디버깅 그 자체는 아니다. \n",
        "- 눈으로 봐서 어? 여기 에러가 있다 라고 보는것도 디버깅이다. 디버깅은 우리의 뇌에 있다. "
      ]
    },
    {
      "cell_type": "code",
      "metadata": {
        "id": "Gffd7PNTbRBQ"
      },
      "source": [
        "import pandas as pd\n",
        "# 판다스에 대한 설명\n",
        "pd?"
      ],
      "execution_count": 37,
      "outputs": []
    },
    {
      "cell_type": "code",
      "metadata": {
        "id": "ca0T8NHzbhQk"
      },
      "source": [
        "# 코드 설명\n",
        "pd??"
      ],
      "execution_count": 38,
      "outputs": []
    },
    {
      "cell_type": "code",
      "metadata": {
        "id": "QU5JvmqvbifD"
      },
      "source": [
        "pd.DataFrame?"
      ],
      "execution_count": null,
      "outputs": []
    },
    {
      "cell_type": "code",
      "metadata": {
        "id": "HU7HmZHtcLqt"
      },
      "source": [
        "pd.DataFrame??"
      ],
      "execution_count": null,
      "outputs": []
    },
    {
      "cell_type": "code",
      "metadata": {
        "colab": {
          "base_uri": "https://localhost:8080/"
        },
        "id": "IhWblVHCZeG2",
        "outputId": "4aa78562-aebb-4ea6-b6e0-687c65335268"
      },
      "source": [
        "# 인트로 문제\n",
        "# 1부터 20까지 숫자 출력하기\n",
        "\n",
        "def first():\n",
        "  for i in range(1,20):\n",
        "    print(i)\n",
        "\n",
        "first()\n",
        "\n",
        "\n",
        "# 의문점 : 왜 1~20 이 아니라 1~19일까?? --> 구글 'range syntax'\n",
        "# 파이썬은 defualt가 있는건 옵션. 없는건 required(필수인자)"
      ],
      "execution_count": 33,
      "outputs": [
        {
          "output_type": "stream",
          "name": "stdout",
          "text": [
            "1\n",
            "2\n",
            "3\n",
            "4\n",
            "5\n",
            "6\n",
            "7\n",
            "8\n",
            "9\n",
            "10\n",
            "11\n",
            "12\n",
            "13\n",
            "14\n",
            "15\n",
            "16\n",
            "17\n",
            "18\n",
            "19\n"
          ]
        }
      ]
    },
    {
      "cell_type": "code",
      "metadata": {
        "colab": {
          "base_uri": "https://localhost:8080/"
        },
        "id": "1-VQVqoYatLB",
        "outputId": "a6f51470-530c-42f8-bc7e-d0ae633fe38d"
      },
      "source": [
        "# https://lovelydiary.tistory.com/297\n",
        "# 1부터 50까지 숫자 중, 3과 5의 공배수 구하기\n",
        "def second():\n",
        "\n",
        "  for i in range(1,51):\n",
        "    if i%3==0 and i%5==0:\n",
        "      print(i)\n",
        "\n",
        "if __name__ == \"__main__\":  # 이것의 의미는 뭘까??? : 프로그램의 시작점일 때만 아래코드 실행. 모듈로 가져오면 아무것도 출력되지 않는다. \n",
        "  second()\n",
        "# second()\n",
        "\n",
        "# https://lovelydiary.tistory.com/297\n",
        "# https://dojang.io/mod/page/view.php?id=2448"
      ],
      "execution_count": 41,
      "outputs": [
        {
          "output_type": "stream",
          "name": "stdout",
          "text": [
            "15\n",
            "30\n",
            "45\n"
          ]
        }
      ]
    },
    {
      "cell_type": "code",
      "metadata": {
        "colab": {
          "base_uri": "https://localhost:8080/"
        },
        "id": "wylWz4Z2yEe1",
        "outputId": "17017e5b-cb9b-49dd-b732-683629123d53"
      },
      "source": [
        "# 숫자를 입력받고 함수 자신을 계속해서 호출하여 0부터 입력된 숫자까지 출력해보기\n",
        "test_num = int(input())"
      ],
      "execution_count": 45,
      "outputs": [
        {
          "name": "stdout",
          "output_type": "stream",
          "text": [
            "6\n"
          ]
        }
      ]
    },
    {
      "cell_type": "code",
      "metadata": {
        "colab": {
          "base_uri": "https://localhost:8080/"
        },
        "id": "P9LZgbrkyGnQ",
        "outputId": "cf32db4c-a591-4f4e-cc3b-8c4a85764d65"
      },
      "source": [
        "# case 1 - 조건문을 사용하고, 함수 자신을 호출하자.\n",
        "def third(test_num):\n",
        "    if test_num > 0:\n",
        "        third(test_num - 1)   ## --> 여기서 어떻게 되는거지???\n",
        "    print(test_num)  # 왜 똑바로 출력되는 걸까??? 31부터 나와야 할것같은데.\n",
        "\n",
        "third(test_num)"
      ],
      "execution_count": 46,
      "outputs": [
        {
          "output_type": "stream",
          "name": "stdout",
          "text": [
            "0\n",
            "1\n",
            "2\n",
            "3\n",
            "4\n",
            "5\n",
            "6\n"
          ]
        }
      ]
    },
    {
      "cell_type": "code",
      "metadata": {
        "id": "xcpIrwRYwRLP"
      },
      "source": [
        "# def 함수이름() :\n",
        "#    return 0\n",
        "# 함수이름 법칙 :firstFunc 보다는  first_func\n",
        "\n",
        "# 괄초 안에는 파라미터 값이 들어간다. \n"
      ],
      "execution_count": null,
      "outputs": []
    },
    {
      "cell_type": "code",
      "metadata": {
        "colab": {
          "base_uri": "https://localhost:8080/"
        },
        "id": "GSy6m3tK0myv",
        "outputId": "749a2ccc-0412-4e46-d969-45de8b04b154"
      },
      "source": [
        "# case 2 - for 반복문만 사용하자.\n",
        "\n",
        "i=0\n",
        "for num in range(i, test_num+1):\n",
        "    print(num)"
      ],
      "execution_count": 47,
      "outputs": [
        {
          "output_type": "stream",
          "name": "stdout",
          "text": [
            "0\n",
            "1\n",
            "2\n",
            "3\n",
            "4\n",
            "5\n",
            "6\n"
          ]
        }
      ]
    },
    {
      "cell_type": "code",
      "metadata": {
        "colab": {
          "base_uri": "https://localhost:8080/"
        },
        "id": "gw9L06VM1cgr",
        "outputId": "437d139b-a454-4944-fec7-6432273f041a"
      },
      "source": [
        "# 생각해보기 case 3 - for 반복문을 사용하고 함수 자신을 호출하자.(이 방법은 비효율적이다. 왜 비효율적일까?)\n",
        "\n",
        "t = test_num\n",
        "def third(test_num) : \n",
        "    i = 0\n",
        "    for i in range(i, test_num+1) :\n",
        "        print(t-test_num)\n",
        "        test_num = test_num -1\n",
        "        third(test_num)   ## 여기도 마찬가지. 왜 0이 출력되는 거지???\n",
        "third(test_num)"
      ],
      "execution_count": 50,
      "outputs": [
        {
          "output_type": "stream",
          "name": "stdout",
          "text": [
            "0\n",
            "1\n",
            "2\n",
            "3\n",
            "4\n",
            "5\n",
            "6\n",
            "6\n",
            "5\n",
            "6\n",
            "6\n",
            "4\n",
            "5\n",
            "6\n",
            "6\n",
            "5\n",
            "6\n",
            "6\n",
            "3\n",
            "4\n",
            "5\n",
            "6\n",
            "6\n",
            "5\n",
            "6\n",
            "6\n",
            "4\n",
            "5\n",
            "6\n",
            "6\n",
            "5\n",
            "6\n",
            "6\n",
            "2\n",
            "3\n",
            "4\n",
            "5\n",
            "6\n",
            "6\n",
            "5\n",
            "6\n",
            "6\n",
            "4\n",
            "5\n",
            "6\n",
            "6\n",
            "5\n",
            "6\n",
            "6\n",
            "3\n",
            "4\n",
            "5\n",
            "6\n",
            "6\n",
            "5\n",
            "6\n",
            "6\n",
            "4\n",
            "5\n",
            "6\n",
            "6\n",
            "5\n",
            "6\n",
            "6\n",
            "1\n",
            "2\n",
            "3\n",
            "4\n",
            "5\n",
            "6\n",
            "6\n",
            "5\n",
            "6\n",
            "6\n",
            "4\n",
            "5\n",
            "6\n",
            "6\n",
            "5\n",
            "6\n",
            "6\n",
            "3\n",
            "4\n",
            "5\n",
            "6\n",
            "6\n",
            "5\n",
            "6\n",
            "6\n",
            "4\n",
            "5\n",
            "6\n",
            "6\n",
            "5\n",
            "6\n",
            "6\n",
            "2\n",
            "3\n",
            "4\n",
            "5\n",
            "6\n",
            "6\n",
            "5\n",
            "6\n",
            "6\n",
            "4\n",
            "5\n",
            "6\n",
            "6\n",
            "5\n",
            "6\n",
            "6\n",
            "3\n",
            "4\n",
            "5\n",
            "6\n",
            "6\n",
            "5\n",
            "6\n",
            "6\n",
            "4\n",
            "5\n",
            "6\n",
            "6\n",
            "5\n",
            "6\n",
            "6\n"
          ]
        }
      ]
    },
    {
      "cell_type": "code",
      "metadata": {
        "colab": {
          "base_uri": "https://localhost:8080/"
        },
        "id": "XNYMQ9_a3VSB",
        "outputId": "c70f7c18-4576-4cd8-f4c2-9539f699c5cf"
      },
      "source": [
        "# Values and Types(값과 타입)\n",
        "# 파이썬의 모든 자료형은 클래스로 구현되었기 때문에, 클래스 이름이 자료형이다.\n",
        "print(type(6))\n",
        "\n",
        "print(type(36.0))\n",
        "\n",
        "print(type('Hello, World!'))\n",
        "\n",
        "print(type(list()))"
      ],
      "execution_count": 51,
      "outputs": [
        {
          "output_type": "stream",
          "name": "stdout",
          "text": [
            "<class 'int'>\n",
            "<class 'float'>\n",
            "<class 'str'>\n",
            "<class 'list'>\n"
          ]
        }
      ]
    },
    {
      "cell_type": "code",
      "metadata": {
        "id": "ynLwM01t35fk"
      },
      "source": [
        "# Variables, Expressions, and Statements(변수, 표현, 구문)\n",
        "greeting = 'Good afternoon, sir!'\n",
        "x = 23\n",
        "pi = 3.141592653589793\n",
        "\n",
        "# https://myksb1223.github.io/python/2018/07/22/Understand-Python-Statement-Expression-Indentation.html\n",
        "# The important difference is that an expression has a value; a statement does not.:https://www.greenteapress.com/thinkpython/html/thinkpython003.html"
      ],
      "execution_count": 52,
      "outputs": []
    },
    {
      "cell_type": "code",
      "metadata": {
        "colab": {
          "base_uri": "https://localhost:8080/",
          "height": 134
        },
        "id": "Dl9jGPDY31Ee",
        "outputId": "1a7f619a-ed33-4bce-b2ec-99bb8725f6fe"
      },
      "source": [
        "# 케이스 1 - IndentationError: expected an indented block\n",
        "\n",
        "# 에러 정리 : https://docs.python.org/3/library/exceptions.html\n",
        "\n",
        "def print_list(list):\n",
        "for item in list: # 에러 확인 및 해결필요  \n",
        "print(item)"
      ],
      "execution_count": 67,
      "outputs": [
        {
          "output_type": "error",
          "ename": "IndentationError",
          "evalue": "ignored",
          "traceback": [
            "\u001b[0;36m  File \u001b[0;32m\"<ipython-input-67-85edfdea9509>\"\u001b[0;36m, line \u001b[0;32m6\u001b[0m\n\u001b[0;31m    for item in list: # 에러 확인 및 해결필요   #IndentationError: expected an indented block\u001b[0m\n\u001b[0m      ^\u001b[0m\n\u001b[0;31mIndentationError\u001b[0m\u001b[0;31m:\u001b[0m expected an indented block\n"
          ]
        }
      ]
    },
    {
      "cell_type": "code",
      "metadata": {
        "colab": {
          "base_uri": "https://localhost:8080/",
          "height": 134
        },
        "id": "Wvbuorst63cY",
        "outputId": "e37db7c9-e251-415e-b8ce-3cc00518a452"
      },
      "source": [
        "# 케이스 2 - SyntaxError: invalid syntax\n",
        "123ddf \n",
        "\n",
        "\n",
        "# invalid syntax  '파이썬(Python)에서는 쓰지 않는 문법'이라는 의미 \n",
        "# ○ 해결책 : 오류난 문법 위치를 찾아 수정해야 함.\n",
        "    #  - print(  ) 함수에서 작은 따옴표를 넣었는지 확인\n",
        "    #  - 연산시 등호를 사용했는지 확인 등"
      ],
      "execution_count": 61,
      "outputs": [
        {
          "output_type": "error",
          "ename": "SyntaxError",
          "evalue": "ignored",
          "traceback": [
            "\u001b[0;36m  File \u001b[0;32m\"<ipython-input-61-4e3b401ad3b5>\"\u001b[0;36m, line \u001b[0;32m3\u001b[0m\n\u001b[0;31m    123ddf\u001b[0m\n\u001b[0m         ^\u001b[0m\n\u001b[0;31mSyntaxError\u001b[0m\u001b[0;31m:\u001b[0m invalid syntax\n"
          ]
        }
      ]
    },
    {
      "cell_type": "code",
      "metadata": {
        "colab": {
          "base_uri": "https://localhost:8080/",
          "height": 204
        },
        "id": "ENAA05gX7LHH",
        "outputId": "f0af0875-f216-4659-d261-901ccc11d60c"
      },
      "source": [
        "# 케이스 3 - KeyboardInterrupt \n",
        "\n",
        "while True:\n",
        "  1\n",
        "\n",
        "# Raised when the user hits the interrupt key (normally Control-C or Delete). "
      ],
      "execution_count": 62,
      "outputs": [
        {
          "output_type": "error",
          "ename": "KeyboardInterrupt",
          "evalue": "ignored",
          "traceback": [
            "\u001b[0;31m---------------------------------------------------------------------------\u001b[0m",
            "\u001b[0;31mKeyboardInterrupt\u001b[0m                         Traceback (most recent call last)",
            "\u001b[0;32m<ipython-input-62-f7b83bb4b941>\u001b[0m in \u001b[0;36m<module>\u001b[0;34m()\u001b[0m\n\u001b[1;32m      2\u001b[0m \u001b[0;34m\u001b[0m\u001b[0m\n\u001b[1;32m      3\u001b[0m \u001b[0;32mwhile\u001b[0m \u001b[0;32mTrue\u001b[0m\u001b[0;34m:\u001b[0m\u001b[0;34m\u001b[0m\u001b[0;34m\u001b[0m\u001b[0m\n\u001b[0;32m----> 4\u001b[0;31m   \u001b[0;36m1\u001b[0m\u001b[0;34m\u001b[0m\u001b[0;34m\u001b[0m\u001b[0m\n\u001b[0m",
            "\u001b[0;31mKeyboardInterrupt\u001b[0m: "
          ]
        }
      ]
    },
    {
      "cell_type": "code",
      "metadata": {
        "colab": {
          "base_uri": "https://localhost:8080/",
          "height": 222
        },
        "id": "tghvneg_8WeA",
        "outputId": "af85871c-8e43-4611-8b9d-bf34b4c8477c"
      },
      "source": [
        "# 케이스 4 - TypeError\n",
        "\n",
        "print(1) / 232  #TypeError: unsupported operand type(s) for /: 'NoneType' and 'int'\n",
        "\n",
        "a,b = 0   #TypeError: cannot unpack non-iterable int object\n",
        "print(a,b)"
      ],
      "execution_count": 69,
      "outputs": [
        {
          "output_type": "error",
          "ename": "TypeError",
          "evalue": "ignored",
          "traceback": [
            "\u001b[0;31m---------------------------------------------------------------------------\u001b[0m",
            "\u001b[0;31mTypeError\u001b[0m                                 Traceback (most recent call last)",
            "\u001b[0;32m<ipython-input-69-8259d563f54a>\u001b[0m in \u001b[0;36m<module>\u001b[0;34m()\u001b[0m\n\u001b[1;32m      3\u001b[0m \u001b[0;36m1\u001b[0m \u001b[0;34m/\u001b[0m \u001b[0;36m232\u001b[0m  \u001b[0;31m#TypeError: unsupported operand type(s) for /: 'NoneType' and 'int'\u001b[0m\u001b[0;34m\u001b[0m\u001b[0;34m\u001b[0m\u001b[0m\n\u001b[1;32m      4\u001b[0m \u001b[0;34m\u001b[0m\u001b[0m\n\u001b[0;32m----> 5\u001b[0;31m \u001b[0ma\u001b[0m\u001b[0;34m,\u001b[0m\u001b[0mb\u001b[0m \u001b[0;34m=\u001b[0m \u001b[0;36m0\u001b[0m\u001b[0;34m\u001b[0m\u001b[0;34m\u001b[0m\u001b[0m\n\u001b[0m\u001b[1;32m      6\u001b[0m \u001b[0mprint\u001b[0m\u001b[0;34m(\u001b[0m\u001b[0ma\u001b[0m\u001b[0;34m,\u001b[0m\u001b[0mb\u001b[0m\u001b[0;34m)\u001b[0m\u001b[0;34m\u001b[0m\u001b[0;34m\u001b[0m\u001b[0m\n",
            "\u001b[0;31mTypeError\u001b[0m: cannot unpack non-iterable int object"
          ]
        }
      ]
    },
    {
      "cell_type": "code",
      "metadata": {
        "colab": {
          "base_uri": "https://localhost:8080/",
          "height": 204
        },
        "id": "6xO35U0W_PfT",
        "outputId": "55e99d1d-9404-4a6a-d341-48a216f28ac5"
      },
      "source": [
        "# 케이스 5 - ZeroDivisionError\n",
        "\n",
        "value = 2/0"
      ],
      "execution_count": 70,
      "outputs": [
        {
          "output_type": "error",
          "ename": "ZeroDivisionError",
          "evalue": "ignored",
          "traceback": [
            "\u001b[0;31m---------------------------------------------------------------------------\u001b[0m",
            "\u001b[0;31mZeroDivisionError\u001b[0m                         Traceback (most recent call last)",
            "\u001b[0;32m<ipython-input-70-3213cee69b6c>\u001b[0m in \u001b[0;36m<module>\u001b[0;34m()\u001b[0m\n\u001b[1;32m      1\u001b[0m \u001b[0;31m# 케이스 5 - ZeroDivisionError\u001b[0m\u001b[0;34m\u001b[0m\u001b[0;34m\u001b[0m\u001b[0;34m\u001b[0m\u001b[0m\n\u001b[1;32m      2\u001b[0m \u001b[0;34m\u001b[0m\u001b[0m\n\u001b[0;32m----> 3\u001b[0;31m \u001b[0mvalue\u001b[0m \u001b[0;34m=\u001b[0m \u001b[0;36m2\u001b[0m\u001b[0;34m/\u001b[0m\u001b[0;36m0\u001b[0m\u001b[0;34m\u001b[0m\u001b[0;34m\u001b[0m\u001b[0m\n\u001b[0m",
            "\u001b[0;31mZeroDivisionError\u001b[0m: division by zero"
          ]
        }
      ]
    },
    {
      "cell_type": "code",
      "metadata": {
        "colab": {
          "base_uri": "https://localhost:8080/"
        },
        "id": "8eqlvdaw_RbN",
        "outputId": "39ef2840-9040-4fe0-8c63-ae2acec363cf"
      },
      "source": [
        "# 케이스 6 - 경고\n",
        "\n",
        "a = 0\n",
        "c =0\n",
        "a,c, # 에러는 보이지 않는 메모리 상에 안 좋은 영향을 준다. ### ??? 경고가 안나요..."
      ],
      "execution_count": 72,
      "outputs": [
        {
          "output_type": "execute_result",
          "data": {
            "text/plain": [
              "(0, 0)"
            ]
          },
          "metadata": {},
          "execution_count": 72
        }
      ]
    },
    {
      "cell_type": "code",
      "metadata": {
        "id": "Y-CETfobxdQo"
      },
      "source": [
        "# 파이썬에서는 변수를 선언할 때 값에 대해 데이터타입을 사전에 정의해놓지 않는다.\n",
        "# 어떤 변수에 어떤 데이터타입을 넣을 건지 조심해야 함..! "
      ],
      "execution_count": null,
      "outputs": []
    },
    {
      "cell_type": "markdown",
      "metadata": {
        "id": "ix_rz0cBCn6d"
      },
      "source": [
        "# 기본문법"
      ]
    },
    {
      "cell_type": "markdown",
      "metadata": {
        "id": "jSI2IrPoCu0C"
      },
      "source": [
        "## 주석(Comments)\n",
        "- 목적 :협업, 재사용\n",
        "\n",
        "<작성하는 것은 주로> \n",
        "- 클래스, 함수의 기능\n",
        "- 변수에 대한 명명규칙\n",
        "- 소스코드 작성날짜 및 수정날짜\n",
        "\n",
        "\n",
        "-- 공식적인 주석(외부제출용)인 경우, 구어체가 아닌 형태로 핵심적인 부분만 주석을 작성한다.\n",
        "\n",
        "-- 내부공유용이거나 설명을 위한 소스코드인 경우, 재사용과 내용공유를 목적으로 하여 용어에 대한 풀이 및 이해 내용을 상세히 적는다."
      ]
    },
    {
      "cell_type": "code",
      "metadata": {
        "id": "QshYQBuqzH10"
      },
      "source": [
        "# 멀티라인 주석 : 함수나 클래스에 대한 문서를 만들때 사용함. (함수에 대한 설명이 바로 나온다. )\n",
        "\"\"\"\n",
        "여러 줄을 주석으로 작성하고 싶을 때 사용\n",
        "\"\"\"\n",
        "\n",
        "# VS에서는 함수에 대한 설명이 함수 위로 나옴\n",
        "# 만약 #으로 주석처리하면 설명이 안나옴."
      ],
      "execution_count": null,
      "outputs": []
    },
    {
      "cell_type": "code",
      "metadata": {
        "id": "M_PIIqh4Dc5L"
      },
      "source": [
        "### 주석 케이스1. 원통의 표면 계산\n",
        "surface_area = (2 * pi * radius) * (height + radius)\n",
        "\n",
        "surface_area = (2 * pi * radius) * (height + radius) # 주석 케이스2. compute the surface area of a cylinder"
      ],
      "execution_count": null,
      "outputs": []
    },
    {
      "cell_type": "code",
      "metadata": {
        "id": "IGsxlZEKDdqF"
      },
      "source": [
        "# 실제 예시(외부에서 사용된 소스코드)\n",
        "\n",
        "import matplotlib.pyplot as plt # pyplot : interactive plots and simple cases\n",
        "\n",
        "# Look at index 4 and 6, which demonstrate overlapping cases.\n",
        "x1 = [1, 3, 4, 5, 6, 7, 9]\n",
        "y1 = [4, 7, 2, 4, 7, 8, 3]\n",
        "\n",
        "x2 = [2, 4, 6, 8, 10]\n",
        "y2 = [5, 6, 2, 6, 2]\n",
        "\n",
        "# Colors: https://matplotlib.org/api/colors_api.html, 외부 url 참조시\n",
        "\n",
        "plt.bar(x1, y1, label=\"Blue Bar\", color='b')\n",
        "plt.bar(x2, y2, label=\"Green Bar\", color='g')\n",
        "plt.plot()  # 시각화 1단계\n",
        "\n",
        "plt.xlabel(\"bar number\")\n",
        "plt.ylabel(\"bar height\")\n",
        "plt.title(\"Bar Chart Example\")\n",
        "plt.legend() # 시각화 2단계 - 범례 추가\n",
        "plt.show()  # 시각화 3단계 - 그림형태로 표시"
      ],
      "execution_count": null,
      "outputs": []
    },
    {
      "cell_type": "markdown",
      "metadata": {
        "id": "AELxvwUmDh--"
      },
      "source": [
        "## 반복문(for, while)\n",
        "- 실무 측면에서 while문은 조건을 많이 둘 수 없기 때문에 for문을 선호한다."
      ]
    },
    {
      "cell_type": "code",
      "metadata": {
        "colab": {
          "base_uri": "https://localhost:8080/"
        },
        "id": "ObeNj5TMEhUu",
        "outputId": "9bcfd028-fb99-471b-bd05-9c0157c5cfb3"
      },
      "source": [
        "### 입력변수\n",
        "\n",
        "y = int(input())\n",
        "for i in range(y,5):\n",
        "    print(i)"
      ],
      "execution_count": 76,
      "outputs": [
        {
          "name": "stdout",
          "output_type": "stream",
          "text": [
            "6\n"
          ]
        }
      ]
    },
    {
      "cell_type": "code",
      "metadata": {
        "colab": {
          "base_uri": "https://localhost:8080/"
        },
        "id": "XNtKX5IKE03O",
        "outputId": "a31b6f4b-e021-4b63-9070-22ab68bc8ecd"
      },
      "source": [
        "### set변수\n",
        "y = {1,3,3,5,10}\n",
        "for i in y: \n",
        "    print(i)"
      ],
      "execution_count": 80,
      "outputs": [
        {
          "output_type": "stream",
          "name": "stdout",
          "text": [
            "1\n",
            "10\n",
            "3\n",
            "5\n"
          ]
        }
      ]
    },
    {
      "cell_type": "code",
      "metadata": {
        "colab": {
          "base_uri": "https://localhost:8080/"
        },
        "id": "QYYwGXHFE-IO",
        "outputId": "659e1f35-5b60-4e2f-a8ed-d59e59fd885d"
      },
      "source": [
        "### 리스트변수\n",
        "y = [1,3,3,5,10]\n",
        "for i in y: \n",
        "    print(i)"
      ],
      "execution_count": 81,
      "outputs": [
        {
          "output_type": "stream",
          "name": "stdout",
          "text": [
            "1\n",
            "3\n",
            "3\n",
            "5\n",
            "10\n"
          ]
        }
      ]
    },
    {
      "cell_type": "code",
      "metadata": {
        "colab": {
          "base_uri": "https://localhost:8080/"
        },
        "id": "6aImcmRuEjWL",
        "outputId": "81176f94-ee21-4b19-92bc-8bf8d1d4057d"
      },
      "source": [
        "### 튜플변수\n",
        "y = (1,3,3,5,10)\n",
        "for i in y: \n",
        "    print(i)"
      ],
      "execution_count": 82,
      "outputs": [
        {
          "output_type": "stream",
          "name": "stdout",
          "text": [
            "1\n",
            "3\n",
            "3\n",
            "5\n",
            "10\n"
          ]
        }
      ]
    },
    {
      "cell_type": "code",
      "metadata": {
        "colab": {
          "base_uri": "https://localhost:8080/"
        },
        "id": "uB4gO2ClzzQT",
        "outputId": "caff91db-3f77-43da-ead2-ee40696bf911"
      },
      "source": [
        "# 반복문 :for move 돌릴 때 할수 있는 것? \n",
        "\n",
        "### 딕셔너리변수\n",
        "y = {'a':1,'b':3,'c':3}\n",
        "for i in y: \n",
        "    print(i)\n",
        "    \n",
        "# 키만 출력\n",
        "# items() : 둘다 출력ㄱ가능."
      ],
      "execution_count": 1,
      "outputs": [
        {
          "output_type": "stream",
          "name": "stdout",
          "text": [
            "a\n",
            "b\n",
            "c\n"
          ]
        }
      ]
    },
    {
      "cell_type": "code",
      "metadata": {
        "colab": {
          "base_uri": "https://localhost:8080/"
        },
        "id": "4hFyR8NS1AHJ",
        "outputId": "671e1494-55aa-4f2e-9f05-8a53f481ebf1"
      },
      "source": [
        "for i in y.items(): \n",
        "    print(i)"
      ],
      "execution_count": 2,
      "outputs": [
        {
          "output_type": "stream",
          "name": "stdout",
          "text": [
            "('a', 1)\n",
            "('b', 3)\n",
            "('c', 3)\n"
          ]
        }
      ]
    },
    {
      "cell_type": "code",
      "metadata": {
        "colab": {
          "base_uri": "https://localhost:8080/"
        },
        "id": "R4Wxg_kz1QeE",
        "outputId": "5f860ca2-1071-4561-c408-b53d35a13983"
      },
      "source": [
        "for i, j in y.items(): \n",
        "    print('key: ',i)\n",
        "    print('value: ', j)"
      ],
      "execution_count": 6,
      "outputs": [
        {
          "output_type": "stream",
          "name": "stdout",
          "text": [
            "key:  a\n",
            "value:  1\n",
            "key:  b\n",
            "value:  3\n",
            "key:  c\n",
            "value:  3\n"
          ]
        }
      ]
    },
    {
      "cell_type": "code",
      "metadata": {
        "colab": {
          "base_uri": "https://localhost:8080/"
        },
        "id": "heaDfWlj1FPr",
        "outputId": "d92c6447-245a-4886-81db-2b03c88269fd"
      },
      "source": [
        "for i in y.keys(): \n",
        "    print(i)"
      ],
      "execution_count": 3,
      "outputs": [
        {
          "output_type": "stream",
          "name": "stdout",
          "text": [
            "a\n",
            "b\n",
            "c\n"
          ]
        }
      ]
    },
    {
      "cell_type": "code",
      "metadata": {
        "colab": {
          "base_uri": "https://localhost:8080/"
        },
        "id": "_jYqui6-1JVj",
        "outputId": "d2b1b874-2254-4984-faad-15c6b7c43d33"
      },
      "source": [
        "for i in y.values(): \n",
        "    print(i)"
      ],
      "execution_count": 4,
      "outputs": [
        {
          "output_type": "stream",
          "name": "stdout",
          "text": [
            "1\n",
            "3\n",
            "3\n"
          ]
        }
      ]
    },
    {
      "cell_type": "code",
      "metadata": {
        "colab": {
          "base_uri": "https://localhost:8080/"
        },
        "id": "STvwHexO1LTi",
        "outputId": "e9b88260-6759-49cd-bad0-187db615671f"
      },
      "source": [
        "# for 문 : 특정 범위가 주어지면 범위 끝날떄까지 반복\n",
        "# while 문 : 특정 조건에 따라 종료되거나 실행됨. # 조건이 True면 실행이 되고, False면 실행이 안됨.\n",
        "\n",
        "count = 0\n",
        "while count < 5:\n",
        "    print(count)\n",
        "    count += 1\n",
        "\n",
        "print('end file')"
      ],
      "execution_count": 11,
      "outputs": [
        {
          "output_type": "stream",
          "name": "stdout",
          "text": [
            "0\n",
            "1\n",
            "2\n",
            "3\n",
            "4\n",
            "end file\n"
          ]
        }
      ]
    },
    {
      "cell_type": "code",
      "metadata": {
        "id": "UIDBlBMY2Ol7"
      },
      "source": [
        "count = 0\n",
        "while True:     #--> 무한대로 실행.\n",
        "    print(count)\n",
        "    count += 1\n",
        "\n",
        "print('end file')"
      ],
      "execution_count": null,
      "outputs": []
    },
    {
      "cell_type": "code",
      "metadata": {
        "colab": {
          "base_uri": "https://localhost:8080/"
        },
        "id": "5lpeRTOj2efy",
        "outputId": "86792fa0-79bc-4e37-8190-d772a372b465"
      },
      "source": [
        "count = 0\n",
        "while False:    # --> False 면 실행을 안함.\n",
        "    print(count)\n",
        "    count += 1\n",
        "\n",
        "print('end file')"
      ],
      "execution_count": 13,
      "outputs": [
        {
          "output_type": "stream",
          "name": "stdout",
          "text": [
            "end file\n"
          ]
        }
      ]
    },
    {
      "cell_type": "code",
      "metadata": {
        "colab": {
          "base_uri": "https://localhost:8080/"
        },
        "id": "t6mBOOAf2f4j",
        "outputId": "6e26348b-1674-4001-9c06-f8f42cdd85c3"
      },
      "source": [
        "# break의 기능\n",
        "count = 0\n",
        "while True:   \n",
        "    print(count)\n",
        "    count += 1\n",
        "\n",
        "    if count > 8:\n",
        "        break  # while move를 종료한다.  # 조건에 맞는 경우 break을 통해 조건문과 반복문에서 탈출.\n",
        "\n",
        "print('end file')"
      ],
      "execution_count": 14,
      "outputs": [
        {
          "output_type": "stream",
          "name": "stdout",
          "text": [
            "0\n",
            "1\n",
            "2\n",
            "3\n",
            "4\n",
            "5\n",
            "6\n",
            "7\n",
            "8\n",
            "end file\n"
          ]
        }
      ]
    },
    {
      "cell_type": "code",
      "metadata": {
        "colab": {
          "base_uri": "https://localhost:8080/"
        },
        "id": "EkChI5WZHqu3",
        "outputId": "2c884e33-9812-4d5a-cf4a-5c4fa7e977be"
      },
      "source": [
        "# 클래스, 함수 break test\n",
        "\n",
        "class break_test:\n",
        "    print('class')\n",
        "\n",
        "    def break_def_test():\n",
        "        print('func')\n",
        "\n",
        "        while 1:\n",
        "            print('while')\n",
        "            break\n",
        "\n",
        "# b = break_test\n",
        "# print('-----')\n",
        "# b.break_def_test()\n",
        "# print('-----')\n",
        "print(\"1\")"
      ],
      "execution_count": 1,
      "outputs": [
        {
          "output_type": "stream",
          "name": "stdout",
          "text": [
            "class\n",
            "1\n"
          ]
        }
      ]
    },
    {
      "cell_type": "code",
      "metadata": {
        "colab": {
          "base_uri": "https://localhost:8080/"
        },
        "id": "gtwB2y6uI1jE",
        "outputId": "2a79731d-aac3-4ed4-e260-4213b8e72420"
      },
      "source": [
        "class break_test:\n",
        "    print('class')\n",
        "\n",
        "    def break_def_test():\n",
        "        print('func')\n",
        "\n",
        "        while 1:\n",
        "            print('while')\n",
        "            break\n",
        "\n",
        "print('-----')\n",
        "b = break_test\n",
        "b.break_def_test()\n",
        "print('-----')\n",
        "print(\"1\")\n",
        "\n",
        "# class 란???"
      ],
      "execution_count": 4,
      "outputs": [
        {
          "output_type": "stream",
          "name": "stdout",
          "text": [
            "class\n",
            "-----\n",
            "func\n",
            "while\n",
            "-----\n",
            "1\n"
          ]
        }
      ]
    },
    {
      "cell_type": "code",
      "metadata": {
        "colab": {
          "base_uri": "https://localhost:8080/"
        },
        "id": "SrhywQ-JJ5sN",
        "outputId": "9ef09351-79ad-4e4f-abc5-d01b55e73c19"
      },
      "source": [
        "# 함수 break test\n",
        "def break_func_test():\n",
        "    print(\"func\")\n",
        "    \n",
        "    while 1:\n",
        "      print('while')\n",
        "      break\n",
        "\n",
        "break_func_test()\n",
        "print('1')"
      ],
      "execution_count": 7,
      "outputs": [
        {
          "output_type": "stream",
          "name": "stdout",
          "text": [
            "func\n",
            "while\n",
            "1\n"
          ]
        }
      ]
    },
    {
      "cell_type": "code",
      "metadata": {
        "colab": {
          "base_uri": "https://localhost:8080/"
        },
        "id": "qO3B8NUrKEj2",
        "outputId": "e7da5de1-9e44-4d4f-9e8d-c3c6f545795f"
      },
      "source": [
        "# continue 기능\n",
        "\n",
        "for x in range(8):\n",
        "    # x를 2로 나눴을 때 나머지가 0이면(조건문 == 참), x값은 그대로 (+)하면서 반복문부터 재시작.\n",
        "    if x % 2 == 0:\n",
        "        continue\n",
        "    print(x)"
      ],
      "execution_count": 8,
      "outputs": [
        {
          "output_type": "stream",
          "name": "stdout",
          "text": [
            "1\n",
            "3\n",
            "5\n",
            "7\n"
          ]
        }
      ]
    },
    {
      "cell_type": "code",
      "metadata": {
        "colab": {
          "base_uri": "https://localhost:8080/"
        },
        "id": "HAjuqLRXKtsR",
        "outputId": "2aa65e09-8136-433f-cce0-51253596ed13"
      },
      "source": [
        "# Boolean Expressions(부울식)\n",
        "print(2 == 2) #\n",
        "\n",
        "print(4 == 8) #\n",
        "\n",
        "print(type(True)) #\n",
        "\n",
        "print(type(False)) #"
      ],
      "execution_count": 9,
      "outputs": [
        {
          "output_type": "stream",
          "name": "stdout",
          "text": [
            "True\n",
            "False\n",
            "<class 'bool'>\n",
            "<class 'bool'>\n"
          ]
        }
      ]
    },
    {
      "cell_type": "code",
      "metadata": {
        "colab": {
          "base_uri": "https://localhost:8080/"
        },
        "id": "flvVnO3iKy5h",
        "outputId": "fd1ba601-04c0-4223-a18d-e2caf8a72c73"
      },
      "source": [
        "# Logical Operators(논리 연산자)\n",
        "print(True and True)  # True\n",
        "\n",
        "print(True and False) # False\n",
        "\n",
        "print(False and False) # False\n",
        "\n",
        "print(True or False) # True\n",
        "\n",
        "print(True or True) # True\n",
        "\n",
        "print(False or False) # False\n",
        "\n",
        "print(not True) # False\n",
        "\n",
        "print(not False) # True"
      ],
      "execution_count": 10,
      "outputs": [
        {
          "output_type": "stream",
          "name": "stdout",
          "text": [
            "True\n",
            "False\n",
            "False\n",
            "True\n",
            "True\n",
            "False\n",
            "False\n",
            "True\n"
          ]
        }
      ]
    },
    {
      "cell_type": "code",
      "metadata": {
        "colab": {
          "base_uri": "https://localhost:8080/"
        },
        "id": "QL7jaxtY27T-",
        "outputId": "c9cf974a-7933-4681-be79-2a1aef45652f"
      },
      "source": [
        "count = 0\n",
        "while True:   \n",
        "    print(count)\n",
        "    count += 1\n",
        "    # count = 12 --> 12>8 => 참. Ture. => 이런 값들을 Truthy 라고 한다. : [0], 1, True ... \n",
        "    if count > 8:  # 이게 동작하는 이유는 count가 8보다 크기때문.\n",
        "        break  \n",
        "\n",
        "print('end file')"
      ],
      "execution_count": 83,
      "outputs": [
        {
          "output_type": "stream",
          "name": "stdout",
          "text": [
            "0\n",
            "1\n",
            "2\n",
            "3\n",
            "4\n",
            "5\n",
            "6\n",
            "7\n",
            "8\n",
            "end file\n"
          ]
        }
      ]
    },
    {
      "cell_type": "code",
      "metadata": {
        "colab": {
          "base_uri": "https://localhost:8080/"
        },
        "id": "EOcD3Elx3xgl",
        "outputId": "0005b793-0dfb-4cd3-976f-ca19782cf50b"
      },
      "source": [
        "if True:\n",
        "    print('if condition is truthy')\n",
        "\n",
        "print('end file')"
      ],
      "execution_count": 15,
      "outputs": [
        {
          "output_type": "stream",
          "name": "stdout",
          "text": [
            "if condition is truthy\n",
            "end file\n"
          ]
        }
      ]
    },
    {
      "cell_type": "code",
      "metadata": {
        "colab": {
          "base_uri": "https://localhost:8080/"
        },
        "id": "lKve_jBp4L9P",
        "outputId": "873351b9-083b-43d9-e63a-dc96f919d773"
      },
      "source": [
        "if False:  # -->Falsy값들은 실행안됨. 0, '', False, [], {}\n",
        "    print('if condition is truthy')  #동작하지 않는다. \n",
        "\n",
        "print('end file')"
      ],
      "execution_count": 16,
      "outputs": [
        {
          "output_type": "stream",
          "name": "stdout",
          "text": [
            "end file\n"
          ]
        }
      ]
    },
    {
      "cell_type": "code",
      "metadata": {
        "colab": {
          "base_uri": "https://localhost:8080/"
        },
        "id": "Hb66kj3_4Oob",
        "outputId": "27e2fa92-9572-40f8-f8c2-e0620355a5dc"
      },
      "source": [
        "if 1:  #1을 넣으면 --> 실행됨.\n",
        "    print('if condition is truthy')  #동작하지 않는다. \n",
        "\n",
        "print('end file')"
      ],
      "execution_count": 17,
      "outputs": [
        {
          "output_type": "stream",
          "name": "stdout",
          "text": [
            "if condition is truthy\n",
            "end file\n"
          ]
        }
      ]
    },
    {
      "cell_type": "code",
      "metadata": {
        "colab": {
          "base_uri": "https://localhost:8080/"
        },
        "id": "86zqa3xk4SYi",
        "outputId": "180c4840-7339-4b20-b88d-bd12fef3ece8"
      },
      "source": [
        "if 'A':  # 문자열 넣어도, 실행됨.\n",
        "    print('if condition is truthy')  #동작하지 않는다. \n",
        "\n",
        "print('end file')"
      ],
      "execution_count": 19,
      "outputs": [
        {
          "output_type": "stream",
          "name": "stdout",
          "text": [
            "if condition is truthy\n",
            "end file\n"
          ]
        }
      ]
    },
    {
      "cell_type": "code",
      "metadata": {
        "id": "yFQfzze94U97"
      },
      "source": [
        "if 0 :   #0을 넣으면 실행안됨.\n",
        "    print('if condition is truthy')  #동작하지 않는다. \n",
        "\n",
        "print('end file')"
      ],
      "execution_count": null,
      "outputs": []
    },
    {
      "cell_type": "code",
      "metadata": {
        "colab": {
          "base_uri": "https://localhost:8080/"
        },
        "id": "NaNhz6aj5RNt",
        "outputId": "3c22b067-65ab-4e50-fbc6-020cb931feda"
      },
      "source": [
        "if not True:  # Truthy는 Falsy로, Falsy는 Truthy로 돌아간다. \n",
        "    print('if condition is truthy') \n",
        "\n",
        "print('end file')"
      ],
      "execution_count": 20,
      "outputs": [
        {
          "output_type": "stream",
          "name": "stdout",
          "text": [
            "end file\n"
          ]
        }
      ]
    },
    {
      "cell_type": "code",
      "metadata": {
        "colab": {
          "base_uri": "https://localhost:8080/"
        },
        "id": "ml7J8PmW5uam",
        "outputId": "d5232fa1-c790-409d-de46-e99d63875eb3"
      },
      "source": [
        "if 'string':  \n",
        "    print('if condition is truthy') \n",
        "\n",
        "print('end file')"
      ],
      "execution_count": 21,
      "outputs": [
        {
          "output_type": "stream",
          "name": "stdout",
          "text": [
            "if condition is truthy\n",
            "end file\n"
          ]
        }
      ]
    },
    {
      "cell_type": "code",
      "metadata": {
        "colab": {
          "base_uri": "https://localhost:8080/"
        },
        "id": "R2vWGV7w5gMF",
        "outputId": "b9b196af-0e5c-4027-ee8e-518987ed18cd"
      },
      "source": [
        "if not 'string':  # Truthy는 Falsy로, Falsy는 Truthy로 돌아간다. \n",
        "    print('if condition is truthy') \n",
        "\n",
        "print('end file')"
      ],
      "execution_count": 22,
      "outputs": [
        {
          "output_type": "stream",
          "name": "stdout",
          "text": [
            "end file\n"
          ]
        }
      ]
    },
    {
      "cell_type": "code",
      "metadata": {
        "colab": {
          "base_uri": "https://localhost:8080/"
        },
        "id": "EgwHkjPtHge0",
        "outputId": "e17c36d6-6ca7-4ba7-a386-4de1c706c409"
      },
      "source": [
        "x = -4\n",
        "\n",
        "if x < 0:\n",
        "    print('x is negative') #"
      ],
      "execution_count": 11,
      "outputs": [
        {
          "output_type": "stream",
          "name": "stdout",
          "text": [
            "x is negative\n"
          ]
        }
      ]
    },
    {
      "cell_type": "code",
      "metadata": {
        "id": "4FgXO_LdLg9G"
      },
      "source": [
        "# Chained Conditionals(다중 조건문)\n",
        "# 조건을 여러개 구분짓는 경우 : if, elif, else\n",
        "# Nested Conditionals(중첩조건)\n",
        "# 하나의 조건 안에 또 다른 조건을 거는 경우(조건 안에 조건) : 쓰는이유 http://ivis.kr/images/d/df/2017_CP_6%EC%9E%A5.pdf\n",
        "\n",
        "\n",
        "x, y = 3, 5\n",
        "\n",
        "if x == y:\n",
        "    print('x and y are equal')\n",
        "else:\n",
        "    if x < y:\n",
        "        print('x is less than y')\n",
        "    else: \n",
        "        print('x is greater than y')"
      ],
      "execution_count": null,
      "outputs": []
    },
    {
      "cell_type": "markdown",
      "metadata": {
        "id": "Z8_sFq8sMJcg"
      },
      "source": [
        "# 파이썬 기본 자료구조\n",
        "- 기본자료형 : 숫자, 문자열\n",
        "- 컬렉션 자료형 : 리스트, 튜플, 셋, 딕셔너리. 여러개의 데이터타입을 저장 가능."
      ]
    },
    {
      "cell_type": "markdown",
      "metadata": {
        "id": "FRUXTizgMw2S"
      },
      "source": [
        "## 리스트\n",
        "- 컬렉션 자료형에서 가장 많이 쓰이는 자료형이다.\n",
        "\n",
        " - 인덱스와 메소드를 활용하기때문에 동적으로 값의 수정 및 정렬이 쉽다.\n",
        "- 기본적으로 리스트 만드는 법은 대괄호를 활용하는 것이다. ex) [ and ]\n",
        "\n",
        "- 리스트는 동적이다.\n",
        "\n",
        " - 동적이라 함은 메소드를 사용해 값을 추가하거나 제거가능\n",
        "\n",
        "  - 리스트를 활용하는 경우를 예를 들면, 비행기게임을 만드는데 리스트에 비행기를 저장하고, 적군에게 맞으면 리스트에서 비행기를 삭제하는 방법을 사용할 수 있다.\n",
        "- 튜플과의 차이점 : 리스트는 메소드를 활용하여 값 수정가능.\n",
        "\n",
        "- 딕셔너리와 차이점 : 인덱스를 기반으로 값을 저장하고 수정할 수 있다.\n",
        "\n",
        "- 파이썬 리스트는 탐색, 삽입, 삭제와 같은 연산에 대한 메소드를 갖고 있으므로 단순 자료형이 아닌 자료구조의 형태를 취한다.\n",
        "\n",
        "- 리스트는 프로그래밍에서 기본적으로 사용되는 값을 여러개 저장할 수 있는 기능인 배열의 기능 또한 갖고 있다."
      ]
    },
    {
      "cell_type": "markdown",
      "metadata": {
        "id": "vAyVXwpRNC3T"
      },
      "source": [
        "- 하나의 리스트에 문자열, 숫자 타입 모두 넣을 수 있다.\n",
        "``` \n",
        "[2, 'four', 6.0, '8', [5, 5]]\n",
        "```\n",
        "- 리스트안에 리스트를 넣을 수 있다.(다차원 리스트)\n",
        " - 다차원 리스트는 게임개발, 대규모 머신러닝 알고리즘에서 사용된다."
      ]
    },
    {
      "cell_type": "code",
      "metadata": {
        "colab": {
          "base_uri": "https://localhost:8080/"
        },
        "id": "4dSm0P42NYj5",
        "outputId": "33f37b7d-6149-44e0-8bf6-f67b145cb9f3"
      },
      "source": [
        "cheeses = ['Cheddar', 'Edam', 'Gouda']\n",
        "numbers = [123, 456]\n",
        "\n",
        "empty = []\n",
        "print(cheeses, numbers, empty)\n",
        "print('numbers[1] :',numbers[1])\n",
        "print('numbers[0] :',numbers[0])\n",
        "print('numbers :',numbers)"
      ],
      "execution_count": 12,
      "outputs": [
        {
          "output_type": "stream",
          "name": "stdout",
          "text": [
            "['Cheddar', 'Edam', 'Gouda'] [123, 456] []\n",
            "numbers[1] : 456\n",
            "numbers[0] : 123\n",
            "numbers : [123, 456]\n"
          ]
        }
      ]
    },
    {
      "cell_type": "code",
      "metadata": {
        "id": "shVqDEny5y_a"
      },
      "source": [
        "# 중첩 리스트(2차원 리스트), 3차원 리스트,,, \n",
        "\n",
        "# 리스트는 순서를 매긴다. 순서 = '인덱스'라고 함. 바뀌는 값을 저장.\n",
        "\n",
        "# 튜플 : 리스트와 같지만 한번 정하면 바꿀 수 없다. 바뀌지 않는 값을 저장"
      ],
      "execution_count": null,
      "outputs": []
    },
    {
      "cell_type": "code",
      "metadata": {
        "colab": {
          "base_uri": "https://localhost:8080/"
        },
        "id": "iFjqfjpd95yt",
        "outputId": "021e075c-6245-47a7-e0df-8f3802679e3a"
      },
      "source": [
        "l1 = ['hello', 'world', 2]\n",
        "\n",
        "print(l1[0])\n",
        "print(l1[1])\n",
        "print(l1[2])"
      ],
      "execution_count": 25,
      "outputs": [
        {
          "output_type": "stream",
          "name": "stdout",
          "text": [
            "hello\n",
            "world\n",
            "2\n"
          ]
        }
      ]
    },
    {
      "cell_type": "code",
      "metadata": {
        "colab": {
          "base_uri": "https://localhost:8080/"
        },
        "id": "Pbo92c_a-JyP",
        "outputId": "aaebb8f5-8e07-4520-8432-fcd234f39e43"
      },
      "source": [
        "l1 = ['hello', 'world', 2]\n",
        "l1[2] =4\n",
        "\n",
        "print(l1[0])\n",
        "print(l1[1])\n",
        "print(l1[2])\n",
        "# 리스트는 바꾸기 가능"
      ],
      "execution_count": 27,
      "outputs": [
        {
          "output_type": "stream",
          "name": "stdout",
          "text": [
            "hello\n",
            "world\n",
            "4\n"
          ]
        }
      ]
    },
    {
      "cell_type": "code",
      "metadata": {
        "colab": {
          "base_uri": "https://localhost:8080/"
        },
        "id": "4sSX7h6J-D9M",
        "outputId": "9fa59cc0-7d9e-46e5-d0c7-90cdb000914a"
      },
      "source": [
        "t1 = ('hello', 'world', 2)\n",
        "# t1[2] =4\n",
        "\n",
        "print(t1[0])\n",
        "print(t1[1])\n",
        "print(t1[2])"
      ],
      "execution_count": 29,
      "outputs": [
        {
          "output_type": "stream",
          "name": "stdout",
          "text": [
            "hello\n",
            "world\n",
            "2\n"
          ]
        }
      ]
    },
    {
      "cell_type": "code",
      "metadata": {
        "colab": {
          "base_uri": "https://localhost:8080/",
          "height": 244
        },
        "id": "PkSLstBM-WR9",
        "outputId": "715410f3-1304-4d16-a405-59e0a75f561c"
      },
      "source": [
        "t1 = ('hello', 'world', 2)\n",
        "t1[2] =4\n",
        "\n",
        "print(t1[0])\n",
        "print(t1[1])\n",
        "print(t1[2])\n",
        "\n",
        "# 에러. 튜플은 바꿀 수 없다. \n",
        "# 따라서 튜플이 좀 더 가볍다.\n",
        "# 리스트는 많은 메서드가 동반된다. "
      ],
      "execution_count": 30,
      "outputs": [
        {
          "output_type": "error",
          "ename": "TypeError",
          "evalue": "ignored",
          "traceback": [
            "\u001b[0;31m---------------------------------------------------------------------------\u001b[0m",
            "\u001b[0;31mTypeError\u001b[0m                                 Traceback (most recent call last)",
            "\u001b[0;32m<ipython-input-30-d222c8a9efe1>\u001b[0m in \u001b[0;36m<module>\u001b[0;34m()\u001b[0m\n\u001b[1;32m      1\u001b[0m \u001b[0mt1\u001b[0m \u001b[0;34m=\u001b[0m \u001b[0;34m(\u001b[0m\u001b[0;34m'hello'\u001b[0m\u001b[0;34m,\u001b[0m \u001b[0;34m'world'\u001b[0m\u001b[0;34m,\u001b[0m \u001b[0;36m2\u001b[0m\u001b[0;34m)\u001b[0m\u001b[0;34m\u001b[0m\u001b[0;34m\u001b[0m\u001b[0m\n\u001b[0;32m----> 2\u001b[0;31m \u001b[0mt1\u001b[0m\u001b[0;34m[\u001b[0m\u001b[0;36m2\u001b[0m\u001b[0;34m]\u001b[0m \u001b[0;34m=\u001b[0m\u001b[0;36m4\u001b[0m\u001b[0;34m\u001b[0m\u001b[0;34m\u001b[0m\u001b[0m\n\u001b[0m\u001b[1;32m      3\u001b[0m \u001b[0;34m\u001b[0m\u001b[0m\n\u001b[1;32m      4\u001b[0m \u001b[0mprint\u001b[0m\u001b[0;34m(\u001b[0m\u001b[0mt1\u001b[0m\u001b[0;34m[\u001b[0m\u001b[0;36m0\u001b[0m\u001b[0;34m]\u001b[0m\u001b[0;34m)\u001b[0m\u001b[0;34m\u001b[0m\u001b[0;34m\u001b[0m\u001b[0m\n\u001b[1;32m      5\u001b[0m \u001b[0mprint\u001b[0m\u001b[0;34m(\u001b[0m\u001b[0mt1\u001b[0m\u001b[0;34m[\u001b[0m\u001b[0;36m1\u001b[0m\u001b[0;34m]\u001b[0m\u001b[0;34m)\u001b[0m\u001b[0;34m\u001b[0m\u001b[0;34m\u001b[0m\u001b[0m\n",
            "\u001b[0;31mTypeError\u001b[0m: 'tuple' object does not support item assignment"
          ]
        }
      ]
    },
    {
      "cell_type": "code",
      "metadata": {
        "id": "fv4REQv7-4eL"
      },
      "source": [
        "# 키:값 형태로 저장되는 딕셔너리. \n",
        "# 특정 키를 기준으로 찾을 떄 편하다\n",
        "# 리스트 :순서적인 것들이 있을 때 저장하기 편함. 키로 찾을 수는 없기때문에, 아무 자료나 막 넣을 때 편함. 여러개의 객체를 저장할 때.\n",
        "# 딕셔너리는 키로 구별을 해야할 떄 많이 쓴다. \n"
      ],
      "execution_count": null,
      "outputs": []
    },
    {
      "cell_type": "code",
      "metadata": {
        "id": "31L_uLqv_huJ"
      },
      "source": [
        "## 파이썬 디버깅.\n",
        "\n",
        "# 코드의 문제가 생긴다..? 어디에서 문제가 발생하는지 알 수 있어야 함. (Pdb) 가 나오면서 프로그램이 멈춘다. :but,#실질적으로 코드를 작성하진 못한다. \n",
        "# 실제로 코드가 제대로 동작하는지. 오류를 해결하기 위해, 특정 상황을 예방하기 위해 여러가지 상황을 시도하기 위해 사용.\n",
        "# exit로 나갈 수 있다.\n",
        "\n",
        "\n",
        "import pdb\n",
        "pdb.set_trace()\n",
        "\n",
        "= breakpoint() # --> pdb.set_trace()  명령어를 호출하는 것.\n",
        "\n",
        "step : 함수가 호출되거나 함수 다음중에서 멈추게 된다.\n",
        "nest :현재 함수 실행도중 리턴문구에 도달함. "
      ],
      "execution_count": null,
      "outputs": []
    },
    {
      "cell_type": "code",
      "metadata": {
        "id": "rqArMMd4S4gp"
      },
      "source": [
        "from unittest import TestCase\n",
        "\n",
        "class PythonBooleans(TestCase):\n",
        "    def truth_function(self, condition):\n",
        "        if condition:\n",
        "            return True\n",
        "        else:\n",
        "            return False\n",
        "\n",
        "class PythonBooleans():\n",
        "    def truth_function(self, condition):\n",
        "        if condition:\n",
        "            return True\n",
        "        else:\n",
        "            return False"
      ],
      "execution_count": 31,
      "outputs": []
    },
    {
      "cell_type": "code",
      "metadata": {
        "colab": {
          "base_uri": "https://localhost:8080/"
        },
        "id": "p6tDoqdkS7da",
        "outputId": "bbcaaa97-366d-44a6-ad5b-457c0a032b66"
      },
      "source": [
        "pb_ins = PythonBooleans()\n",
        "\n",
        "pb_ins.truth_function(True)"
      ],
      "execution_count": 32,
      "outputs": [
        {
          "output_type": "execute_result",
          "data": {
            "text/plain": [
              "True"
            ]
          },
          "metadata": {},
          "execution_count": 32
        }
      ]
    },
    {
      "cell_type": "code",
      "metadata": {
        "id": "-ZRTYTxGS71D"
      },
      "source": [
        ""
      ],
      "execution_count": null,
      "outputs": []
    }
  ]
}