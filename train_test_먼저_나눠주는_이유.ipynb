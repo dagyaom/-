{
  "nbformat": 4,
  "nbformat_minor": 0,
  "metadata": {
    "colab": {
      "name": "train/test 먼저 나눠주는 이유.ipynb",
      "private_outputs": true,
      "provenance": [],
      "authorship_tag": "ABX9TyN0dBdJ8jz3LBclcF/YtaOD",
      "include_colab_link": true
    },
    "kernelspec": {
      "name": "python3",
      "display_name": "Python 3"
    },
    "language_info": {
      "name": "python"
    }
  },
  "cells": [
    {
      "cell_type": "markdown",
      "metadata": {
        "id": "view-in-github",
        "colab_type": "text"
      },
      "source": [
        "<a href=\"https://colab.research.google.com/github/dagyaom/Python_Practice/blob/main/train_test_%EB%A8%BC%EC%A0%80_%EB%82%98%EB%88%A0%EC%A3%BC%EB%8A%94_%EC%9D%B4%EC%9C%A0.ipynb\" target=\"_parent\"><img src=\"https://colab.research.google.com/assets/colab-badge.svg\" alt=\"Open In Colab\"/></a>"
      ]
    },
    {
      "cell_type": "markdown",
      "metadata": {
        "id": "YPCNWQpyOOat"
      },
      "source": [
        "https://stackoverflow.com/questions/55525195/do-i-have-to-do-one-hot-encoding-separately-for-train-and-test-dataset\n",
        "\n",
        "https://stackoverflow.com/questions/31506987/scikit-learn-one-hot-encode-before-or-after-train-test-split"
      ]
    },
    {
      "cell_type": "code",
      "metadata": {
        "id": "X06dawVjLwiR"
      },
      "source": [
        "import pandas as pd\n",
        "from sklearn.preprocessing import OneHotEncoder\n",
        "\n",
        "### Correct\n",
        "train = pd.DataFrame(['A', 'B', 'A', 'C'])\n",
        "test = pd.DataFrame(['B', 'A', 'D'])"
      ],
      "execution_count": null,
      "outputs": []
    },
    {
      "cell_type": "code",
      "metadata": {
        "id": "NQzvgf2bLy6Z"
      },
      "source": [
        "train"
      ],
      "execution_count": null,
      "outputs": []
    },
    {
      "cell_type": "code",
      "metadata": {
        "id": "EiO2PvsoL21-"
      },
      "source": [
        "test"
      ],
      "execution_count": null,
      "outputs": []
    },
    {
      "cell_type": "code",
      "metadata": {
        "id": "95aQZy40L3SA"
      },
      "source": [
        "enc = OneHotEncoder(handle_unknown = 'ignore')\n",
        "enc.fit(train)\n",
        "\n",
        "enc.transform(train).toarray()\n",
        "#array([[1., 0., 0.],\n",
        "#       [0., 1., 0.],\n",
        "#       [1., 0., 0.],\n",
        "#       [0., 0., 1.]])\n",
        "\n"
      ],
      "execution_count": null,
      "outputs": []
    },
    {
      "cell_type": "code",
      "metadata": {
        "id": "9T9j8ZVCL__0"
      },
      "source": [
        "enc.transform(test).toarray()\n",
        "#array([[0., 1., 0.],\n",
        "#       [1., 0., 0.],\n",
        "#       [0., 0., 0.]])\n"
      ],
      "execution_count": null,
      "outputs": []
    },
    {
      "cell_type": "code",
      "metadata": {
        "id": "oQZ21cj7NaLf"
      },
      "source": [
        "full = pd.concat((train, test))\n",
        "full"
      ],
      "execution_count": null,
      "outputs": []
    },
    {
      "cell_type": "code",
      "metadata": {
        "id": "3jiQbuepL8Ya"
      },
      "source": [
        "### Incorrect\n",
        "\n",
        "\n",
        "enc = OneHotEncoder(handle_unknown = 'ignore')\n",
        "enc.fit(full)\n",
        "\n",
        "enc.transform(train).toarray()\n",
        "#array([[1., 0., 0., 0.],\n",
        "#       [0., 1., 0., 0.],\n",
        "#       [1., 0., 0., 0.],\n",
        "#       [0., 0., 1., 0.]])\n"
      ],
      "execution_count": null,
      "outputs": []
    },
    {
      "cell_type": "code",
      "metadata": {
        "id": "XtgX-LVTNPDQ"
      },
      "source": [
        "enc.transform(test).toarray()\n",
        "#array([[0., 1., 0., 0.],\n",
        "#       [1., 0., 0., 0.],\n",
        "#       [0., 0., 0., 1.]])"
      ],
      "execution_count": null,
      "outputs": []
    },
    {
      "cell_type": "code",
      "metadata": {
        "id": "rjj0_bbGNQhg"
      },
      "source": [
        ""
      ],
      "execution_count": null,
      "outputs": []
    }
  ]
}