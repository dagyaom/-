{
  "nbformat": 4,
  "nbformat_minor": 0,
  "metadata": {
    "colab": {
      "name": "웹크롤링 연습.ipynb",
      "provenance": [],
      "collapsed_sections": [],
      "toc_visible": true,
      "authorship_tag": "ABX9TyODrm6f3/ZRUFOkbnBGolgq",
      "include_colab_link": true
    },
    "kernelspec": {
      "name": "python3",
      "display_name": "Python 3"
    },
    "language_info": {
      "name": "python"
    }
  },
  "cells": [
    {
      "cell_type": "markdown",
      "metadata": {
        "id": "view-in-github",
        "colab_type": "text"
      },
      "source": [
        "<a href=\"https://colab.research.google.com/github/dagyaom/Python_Practice/blob/main/%EC%9B%B9%ED%81%AC%EB%A1%A4%EB%A7%81_%EC%97%B0%EC%8A%B5.ipynb\" target=\"_parent\"><img src=\"https://colab.research.google.com/assets/colab-badge.svg\" alt=\"Open In Colab\"/></a>"
      ]
    },
    {
      "cell_type": "markdown",
      "metadata": {
        "id": "HHmlaB-hgS_q"
      },
      "source": [
        "# HTML\n",
        "\n",
        "\n",
        "- 웹 페이지에서 보여지는 것들이 어떻게 어떤 방식으로 보여져야 하는지 알려주는 마크업 언어\n",
        "\n",
        "## HTML Element\n",
        "-head\n",
        "-body\n",
        "-div\n",
        "-li\n",
        "....\n",
        "\n",
        "각 엘레먼트들은 태그를 통해 표현된다. \n",
        "- opening tag와 closing tag\n",
        "\n",
        "opening tag만 있는 것도 있다. \n",
        "- 빈 줄을 추가하는 \\<br>\n",
        "- 수평으로 줄긋은 \\<hr>\n",
        "\n",
        "## HTML Children\n",
        "하나의 html요소 안에 다른 요소를 추가할 수 있다. "
      ]
    },
    {
      "cell_type": "markdown",
      "metadata": {
        "id": "-L3TjuYShQU7"
      },
      "source": [
        "# CSS \n",
        "\n",
        "HTML 이 표현한 문서가 어떻게 표현이 되는지 알려주는 스타일시트 언어\n",
        "\n",
        "\n",
        "## CSS Selector\n",
        "- Type selector : p, div ...\n",
        "- Class selector : class\n",
        "- Id selector : id\n",
        "\n",
        "### 1) CSS는 요소의 위치에 따라 상위 요소의 스타일을 상속받는다. \n",
        "```\n",
        "<div style=\"color:red\">\n",
        "    <p>I have no style</p>\n",
        "</div>\n",
        "```\n",
        "\n",
        "- p 태그는 아무런 스타일이 적용이 되어 있지 않지만 상위 요소인 div 의 영향을 받게 된다.\n",
        "\n",
        "### 2) 동시에 여러 개의 요소들에 대한 스타일을 정할 때에는 보통 클래스를 지정해서 상속을 받도록 정한다.\n",
        "```\n",
        "<p class=\"banana\">I have a banana class</p>\n",
        "```\n",
        "```\n",
        ".banana {\n",
        "    color:\"yellow\";\n",
        "}\n",
        "```\n",
        "- 한번에 3개의 클래스를 동시에 부여할 수 있다. 그리고 CSS 에서는 따로따로 클래스를 정의해 스타일을 지정할 수가 있다.\n",
        "```\n",
        "<p class=\"banana fruit orange\">I have many classes</p>\n",
        "```\n",
        "\n",
        "\n",
        "\n",
        "### 3)  ID 는 보통 특정 HTML 요소를 가리킬 때에만 사용된다. https://bangu4.tistory.com/26\n",
        "\n",
        "\n",
        "\n"
      ]
    },
    {
      "cell_type": "markdown",
      "metadata": {
        "id": "OgFh885BoRNV"
      },
      "source": [
        "# DOM(Document Object Model)\n",
        "\n",
        "\n"
      ]
    },
    {
      "cell_type": "markdown",
      "metadata": {
        "id": "N-54O2VwLBgM"
      },
      "source": [
        "크롤링 읽어보기\n",
        "\n",
        "https://hogni.tistory.com/21\n",
        "https://victorydntmd.tistory.com/245\n",
        "https://doubly12f.tistory.com/64\n"
      ]
    },
    {
      "cell_type": "markdown",
      "metadata": {
        "id": "ZJnql4zYmWGc"
      },
      "source": [
        "# get_movie_code"
      ]
    },
    {
      "cell_type": "code",
      "metadata": {
        "colab": {
          "base_uri": "https://localhost:8080/"
        },
        "id": "LOaI0Nnryi7g",
        "outputId": "2220289c-7895-461a-b7ab-8b53bb6059ba"
      },
      "source": [
        "reviews = [{'review_text': 'Wow...!', 'review_star': 7},\n",
        "           {'review_text': 'Okay movie', 'review_star': 6}]\n",
        "\n",
        "a = []\n",
        "for review in reviews:\n",
        "    a.append(review['review_star'])\n",
        "sum(a)\n",
        "len(reviews)"
      ],
      "execution_count": 1,
      "outputs": [
        {
          "output_type": "execute_result",
          "data": {
            "text/plain": [
              "2"
            ]
          },
          "metadata": {},
          "execution_count": 1
        }
      ]
    },
    {
      "cell_type": "code",
      "metadata": {
        "id": "ak8yG0IR3OKj"
      },
      "source": [
        "BASE_URL = \"https://movie.naver.com/movie\""
      ],
      "execution_count": 2,
      "outputs": []
    },
    {
      "cell_type": "code",
      "metadata": {
        "id": "6E8QQJmBdwty"
      },
      "source": [
        "def get_movie_code(movie_title):\n",
        "    \"\"\"\n",
        "    get_movie_code 함수는 영화 제목을 받으면 해당 영화 제목으로 검색했을 때\n",
        "    가장 먼저 나오는 영화의 아이디를 리턴합니다.\n",
        "\n",
        "    해당 영화의 아이디는 네이버에서 지정한대로 사용합니다. \n",
        "    여기에서 네이버에서 지정한 아이디란 예를 들어 다음과 같습니다:\n",
        "        - `https://movie.naver.com/` 에 접속\n",
        "        - 검색란에 영화 제목 (예: Soul) 입력 뒤 검색\n",
        "        - 해당 영화 페이지의 URL (예: `https://movie.naver.com/movie/bi/mi/basic.nhn?code=184517`) 의 'code=' 뒤에 나오는 숫자\n",
        "\n",
        "    파라미터:\n",
        "        - movie_title: 리뷰를 스크레이핑할 영화 제목이 담긴 문자열(str) 입니다.\n",
        "\n",
        "    리턴:\n",
        "        - 영화 아이디 번호: 네이버에서 지정한 영화의 아이디 번호가 담긴\n",
        "        숫자(int) 입니다.\n",
        "    \"\"\"\n",
        "    search_url = f\"{BASE_URL}/search/result.naver?query={movie_title}&section=all&ie=utf8\"   #f의 의미는?\n",
        "    elements = soup.find(class_='result_thumb').find(\"a\")[\"href\"]\n",
        "    numbers = re.findall(\"\\d+\", tmp_string)\n",
        "    movie_code = int(numbers[0])\n",
        "\n",
        "    return movie_code\n"
      ],
      "execution_count": null,
      "outputs": []
    },
    {
      "cell_type": "markdown",
      "metadata": {
        "id": "xEkXiYZeGlp5"
      },
      "source": [
        "![20210920_114753.png](data:image/png;base64,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)"
      ]
    },
    {
      "cell_type": "code",
      "metadata": {
        "id": "Zjtt8qlK3zpO"
      },
      "source": [
        "movie_title = 'Soul'\n",
        "search_url = f\"{BASE_URL}/search/result.naver?query={movie_title}&section=all&ie=utf8\"  # 이걸 통해서 code를 받아온다. "
      ],
      "execution_count": 3,
      "outputs": []
    },
    {
      "cell_type": "code",
      "metadata": {
        "colab": {
          "base_uri": "https://localhost:8080/"
        },
        "id": "Nj-_Tt2w3z1m",
        "outputId": "5adce196-96cc-48b0-f75e-cd68fd5d1e8d"
      },
      "source": [
        "import requests\n",
        "from bs4 import BeautifulSoup\n",
        "import re\n",
        "page = requests.get(search_url)  # 일단은 주소를 받아서.\n",
        "soup = BeautifulSoup(page.content, 'html.parser')  #뷰티풀숲으로 파싱을 하고,\n",
        "movie_elements = soup.find('p', class_ = 'result_thumb').find('a')['href']\n",
        "numbers = re.findall(\"\\d+\", movie_elements)\n",
        "int(numbers[0])"
      ],
      "execution_count": 4,
      "outputs": [
        {
          "output_type": "execute_result",
          "data": {
            "text/plain": [
              "184517"
            ]
          },
          "metadata": {},
          "execution_count": 4
        }
      ]
    },
    {
      "cell_type": "markdown",
      "metadata": {
        "id": "5bkzoqOomPs-"
      },
      "source": [
        "# get_reviews "
      ]
    },
    {
      "cell_type": "code",
      "metadata": {
        "id": "6ZTt28HE7ICy"
      },
      "source": [
        "def get_reviews(movie_code, page_num=1):\n",
        "    \"\"\"\n",
        "    get_reviews 함수는 리뷰들이 담긴 리뷰 리스트를 리턴해주는 함수입니다.\n",
        "\n",
        "    각 리뷰는 다음과 같은 파이썬 딕셔너리 형태입니다:\n",
        "        {\n",
        "            'review_text': 리뷰 글이 담긴 문자열(str) 입니다,\n",
        "            'review_star': 리뷰 별점이 담긴 숫자(int) 입니다\n",
        "        }\n",
        "\n",
        "    파라미터:\n",
        "        - movie_code: 네이버에서 지정한 영화 아이디 번호가 담긴 숫자(int)\n",
        "        입니다.\n",
        "        - page_num: 리뷰를 몇 번째 리뷰 페이지에서 가져와야 하는지 담긴\n",
        "        숫자(int) 입니다. 아무것도 주어지지 않은 경우 기본값은 1 입니다.\n",
        "\n",
        "    리턴:\n",
        "        - 리뷰 리스트: 스크레이핑한 리뷰들이 각각 파이썬 딕셔너리로 위에 명시된\n",
        "        형태로 저장된 리스트입니다.\n",
        "    \"\"\"\n",
        "    review_url = f\"{BASE_URL}/point/af/list.naver?st=mcode&sword={movie_code}&target=after&page={page_num}\"\n",
        "    review_list = []\n",
        "    \n",
        "\n",
        "    return review_list"
      ],
      "execution_count": null,
      "outputs": []
    },
    {
      "cell_type": "code",
      "metadata": {
        "id": "vHTx06Ao8zog"
      },
      "source": [
        "BASE_URL = \"https://movie.naver.com/movie\"\n",
        "review_url = f\"{BASE_URL}/point/af/list.naver?st=mcode&sword=184517&target=after&page=1\"\n",
        "# review_url = https://movie.naver.com/movie/point/af/list.naver?st=mcode&sword=184517&target=after&page=1"
      ],
      "execution_count": 2,
      "outputs": []
    },
    {
      "cell_type": "code",
      "metadata": {
        "colab": {
          "base_uri": "https://localhost:8080/"
        },
        "id": "Y8e7Mpgc4Av2",
        "outputId": "5515a0dc-633c-4741-ba8a-1e7585e5ee6d"
      },
      "source": [
        "import requests\n",
        "from bs4 import BeautifulSoup\n",
        "import re\n",
        "page = requests.get(review_url)  # 일단은 주소를 받아서.\n",
        "soup = BeautifulSoup(page.content, 'html.parser')  #뷰티풀숲으로 파싱을 하고,\n",
        "\n",
        "movie_elements = soup.find_all('div', class_ = 'list_netizen_score')\n",
        "\n",
        "# type(movie_elements)  ## 리턴된 타입은 bs4.element.ResultSet 객체 입니다 --> find 나 select 는 단일 객체만 사용가능. \n",
        "# type(movie_elements[1])  ## 리턴된 타입은 bs4.element.Tag 객체 입니다\n",
        "\n",
        "movie=movie_elements[0].contents[2]  # movie_elements의 0번째 Tag를 꺼낸다. 그리고 2번째 내용물(별점)을 꺼낸다.    https://victorydntmd.tistory.com/245\n",
        "movie_str = str(movie)  # bs4.element.Tag로 반환되는데 문자열로 변경 후 re정규표현식에 넣어서 숫자만 꺼내준다.\n",
        "numbers = re.findall(\"\\d+\", movie_str)\n",
        "int(numbers[0])\n",
        "# numbers\n",
        "# movie_elements.string('em')\n",
        "# movie_element = movie_elements.select('em')\n",
        "# numbers = re.findall(\"\\d+\", movie_elements)\n",
        "# int(numbers[0])\n"
      ],
      "execution_count": 3,
      "outputs": [
        {
          "output_type": "execute_result",
          "data": {
            "text/plain": [
              "1"
            ]
          },
          "metadata": {},
          "execution_count": 3
        }
      ]
    },
    {
      "cell_type": "code",
      "metadata": {
        "colab": {
          "base_uri": "https://localhost:8080/"
        },
        "id": "qjFWu0KrF0i0",
        "outputId": "2896152f-24d6-48a1-c89a-6c1886dcdccc"
      },
      "source": [
        "len(movie_elements)"
      ],
      "execution_count": 73,
      "outputs": [
        {
          "output_type": "execute_result",
          "data": {
            "text/plain": [
              "10"
            ]
          },
          "metadata": {},
          "execution_count": 73
        }
      ]
    },
    {
      "cell_type": "code",
      "metadata": {
        "colab": {
          "base_uri": "https://localhost:8080/"
        },
        "id": "5Q5ZvXPEG4dD",
        "outputId": "6754a73b-e57a-40c5-ee15-d0643e6a39c9"
      },
      "source": [
        "movie_elements[0].contents[2]"
      ],
      "execution_count": 78,
      "outputs": [
        {
          "output_type": "execute_result",
          "data": {
            "text/plain": [
              "<em>1</em>"
            ]
          },
          "metadata": {},
          "execution_count": 78
        }
      ]
    },
    {
      "cell_type": "code",
      "metadata": {
        "colab": {
          "base_uri": "https://localhost:8080/"
        },
        "id": "82horsz2HwnR",
        "outputId": "a779d095-d42b-4a08-9756-d9dc3b6cf6ee"
      },
      "source": [
        "type(movie_elements[0].contents[2])"
      ],
      "execution_count": 82,
      "outputs": [
        {
          "output_type": "execute_result",
          "data": {
            "text/plain": [
              "bs4.element.Tag"
            ]
          },
          "metadata": {},
          "execution_count": 82
        }
      ]
    },
    {
      "cell_type": "code",
      "metadata": {
        "colab": {
          "base_uri": "https://localhost:8080/",
          "height": 35
        },
        "id": "tTrV0cdyHteU",
        "outputId": "299e3ba3-2eec-444b-cd26-9ac4e324818a"
      },
      "source": [
        "movie_str"
      ],
      "execution_count": 202,
      "outputs": [
        {
          "output_type": "execute_result",
          "data": {
            "application/vnd.google.colaboratory.intrinsic+json": {
              "type": "string"
            },
            "text/plain": [
              "'<em>10</em>'"
            ]
          },
          "metadata": {},
          "execution_count": 202
        }
      ]
    },
    {
      "cell_type": "code",
      "metadata": {
        "colab": {
          "base_uri": "https://localhost:8080/"
        },
        "id": "nbq-xnpLD-Dj",
        "outputId": "92e9fc99-b2c2-4329-e552-c053d88c8f32"
      },
      "source": [
        "# 일단 별점은 완성.\n",
        "import requests\n",
        "from bs4 import BeautifulSoup\n",
        "import re\n",
        "page = requests.get(review_url)  # 일단은 주소를 받아서.\n",
        "soup = BeautifulSoup(page.content, 'html.parser')  #뷰티풀숲으로 파싱을 하고,\n",
        "\n",
        "movie_elements = soup.find_all('div', class_ = 'list_netizen_score')   #bs4.element.ResultSet 객체로 리턴된다. \n",
        "\n",
        "for i in range(len(movie_elements)) :   # 갯수만큼 for문을 돌려서, \n",
        "    movie_star=movie_elements[i].contents[2]  # 2번째에 위치한 컨텐츠를 꺼낸다. \n",
        "    movie_str = str(movie_star)  # bs4.element.Tag로 반환되는데 문자열로 변경 후 re정규표현식에 넣어서 숫자만 꺼내준다. \n",
        "    numbers = re.findall(\"\\d+\", movie_str)  #re 정규표현식은 문자 or 바이트류 객체만 받는다. \n",
        "    review_star = int(numbers[0])\n",
        "    print(review_star)"
      ],
      "execution_count": 4,
      "outputs": [
        {
          "output_type": "stream",
          "name": "stdout",
          "text": [
            "1\n",
            "10\n",
            "10\n",
            "10\n",
            "10\n",
            "8\n",
            "10\n",
            "9\n",
            "10\n",
            "10\n"
          ]
        }
      ]
    },
    {
      "cell_type": "markdown",
      "metadata": {
        "id": "BsoM8G-SGJio"
      },
      "source": [
        "![20210920_114551.png](data:image/png;base64,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)"
      ]
    },
    {
      "cell_type": "code",
      "metadata": {
        "colab": {
          "base_uri": "https://localhost:8080/"
        },
        "id": "g-3EUnI09tpW",
        "outputId": "2f8c2af9-d9e7-4f40-fc85-d9c36dc89c6d"
      },
      "source": [
        "# 이제 리뷰를 빼내보자. title class에서 contents만 빼내도 되고, a herf에서 onclick속성값만 빼낸 후 re정규식으로 문자열만 빼낼수도 있다. \n",
        "\n",
        "import requests\n",
        "from bs4 import BeautifulSoup\n",
        "import re\n",
        "page = requests.get(review_url)  # 일단은 주소를 받아서.\n",
        "soup = BeautifulSoup(page.content, 'html.parser')  #뷰티풀숲으로 파싱을 하고,\n",
        "\n",
        "movie_elements = soup.find_all('td', class_ = 'title')\n",
        "for i in range(len(movie_elements)):\n",
        "    sentence = movie_elements[i].contents[6]\n",
        "    review_text = ' '.join(sentence.split())\n",
        "    print(review_text)"
      ],
      "execution_count": 5,
      "outputs": [
        {
          "output_type": "stream",
          "name": "stdout",
          "text": [
            "인생을 매 순간을 즐기며 감사하며 산다는 것을 말하기 위해온갖 잡다한 생각과 도무지 이해 할 수 없는 내용을 집어 넣어멋진 그림 영상으로 설득하려 하는 것이 너무 안타까운 영화였습니다.우리 영혼에 대해서 너무 가치 없게 만든 영화라고 생각합니다.\n",
            "진짜 완전 대박 짱\n",
            "수단이 목적이 되려고 할 때 기억할 영화.\n",
            "\n",
            "\n",
            "\"소울\" 그 자체는 자유롭지만 결국 자리는 정해져있어\n",
            "너무 귀여워요 인생영화\n",
            "영상미가 돋보이고 귀엽다 애니에서 철학이라니.. 대단\n",
            "요약 : 개똥 밭에 굴러도 이승이 낫다. 그러니 즐겁게 살자.\n",
            "\n"
          ]
        }
      ]
    },
    {
      "cell_type": "code",
      "metadata": {
        "colab": {
          "base_uri": "https://localhost:8080/",
          "height": 53
        },
        "id": "yOROhmxBWkUN",
        "outputId": "f7137af4-8f0e-46aa-8fa2-6634ea48f189"
      },
      "source": [
        "sentence = movie_elements[5].contents[6]     #  bs4.element.NavigableString. 쓸데없는 띄워쓰기가 너무 많다.\n",
        "print(sentence.split())  #이렇게 하면 스페이스 기준으로 문장을 나눠서 리스트에 담아준다. \n",
        "sentence1 = ' '.join(sentence.split())  # 모든 공백을 제거하고 싶다면 이렇게..!\n",
        "sentence1"
      ],
      "execution_count": 192,
      "outputs": [
        {
          "output_type": "stream",
          "name": "stdout",
          "text": [
            "['\"소울\"', '그', '자체는', '자유롭지만', '결국', '자리는', '정해져있어']\n"
          ]
        },
        {
          "output_type": "execute_result",
          "data": {
            "application/vnd.google.colaboratory.intrinsic+json": {
              "type": "string"
            },
            "text/plain": [
              "'\"소울\" 그 자체는 자유롭지만 결국 자리는 정해져있어'"
            ]
          },
          "metadata": {},
          "execution_count": 192
        }
      ]
    },
    {
      "cell_type": "code",
      "metadata": {
        "id": "AH9rEH59NA2l"
      },
      "source": [
        "movie_elements[0].string #태그 내 자식 태그가 둘이상이라서 무엇을 반환해야 하는지 명확하지 않아 None을 반환함. "
      ],
      "execution_count": 128,
      "outputs": []
    },
    {
      "cell_type": "code",
      "metadata": {
        "colab": {
          "base_uri": "https://localhost:8080/"
        },
        "id": "WyMcVLW9ORgP",
        "outputId": "3e032ecc-3bcd-45aa-9ccd-cb4345107f23"
      },
      "source": [
        "# class title안에 a class가 또 하나 있는데, 여기서도 뺴내올 수 있다. \n",
        "movie_elements[0].contents[7]  "
      ],
      "execution_count": 137,
      "outputs": [
        {
          "output_type": "execute_result",
          "data": {
            "text/plain": [
              "<a class=\"report\" href=\"#\" onclick=\"report('iyw1****', 'y9rtHjqXmbaqGv+vNnSG9MpzHc5+6U95LMUlW8ISb7Q=', '인생을 매 순간을 즐기며 감사하며 산다는 것을 말하기 위해온갖 잡다한 생각과 도무지 이해 할 수 없는 내용을 집어 넣어멋진 그림 영상으로 설득하려 하는 것이 너무 안타까운 영화였습니다.우리 영혼에 대해서 너무 가치 없게 만든 영화라고 생각합니다.', '17707808', 'point_after');\" style=\"color:#8F8F8F\" title=\"새 창\">신고</a>"
            ]
          },
          "metadata": {},
          "execution_count": 137
        }
      ]
    },
    {
      "cell_type": "code",
      "metadata": {
        "colab": {
          "base_uri": "https://localhost:8080/"
        },
        "id": "cBeU8fCiRffT",
        "outputId": "7dcd7319-cd3a-4a6b-db92-e65420cfe689"
      },
      "source": [
        "# 아래와 같은 방법도 있다. \n",
        "\n",
        "movie_elements = soup.find_all('a', class_ = 'report')\n",
        "for i in range(len(movie_elements)):\n",
        "    # print(movie_elements[i]['onclick'])  # onclick 속성값 빼내기.\n",
        "    string = movie_elements[i]['onclick']  # 문자열로 반환된다. \n",
        "    recompile = re.compile('[가-힣]+').findall(string)   # 한글만 추출. 하지만 이 경우 영어리뷰는 안담긴다는 단점이 있네.\n",
        "    print(\" \".join(recompile))    # 리스트를 구분자를 줘서 문자열로 반환."
      ],
      "execution_count": 174,
      "outputs": [
        {
          "output_type": "stream",
          "name": "stdout",
          "text": [
            "인생을 매 순간을 즐기며 감사하며 산다는 것을 말하기 위해온갖 잡다한 생각과 도무지 이해 할 수 없는 내용을 집어 넣어멋진 그림 영상으로 설득하려 하는 것이 너무 안타까운 영화였습니다 우리 영혼에 대해서 너무 가치 없게 만든 영화라고 생각합니다\n",
            "진짜 완전 대박 짱\n",
            "수단이 목적이 되려고 할 때 기억할 영화\n",
            "\n",
            "\n",
            "소울 그 자체는 자유롭지만 결국 자리는 정해져있어\n",
            "너무 귀여워요 인생영화\n",
            "영상미가 돋보이고 귀엽다 애니에서 철학이라니 대단\n",
            "요약 개똥 밭에 굴러도 이승이 낫다 그러니 즐겁게 살자\n",
            "\n"
          ]
        }
      ]
    },
    {
      "cell_type": "code",
      "metadata": {
        "colab": {
          "base_uri": "https://localhost:8080/"
        },
        "id": "pCjbkRf0SR1T",
        "outputId": "f3fb8dd8-082f-4174-97b6-537ab3e9026d"
      },
      "source": [
        "# 연습\n",
        "str=movie_elements[1]['onclick']\n",
        "recompile = re.compile('[가-힣]+').findall(str)  # 한글만 추출. 하지만 이 경우 영어리뷰는 안담긴다는 단점이 있네.\n",
        "print(\" \".join(recompile))  # 리스트를 구분자를 줘서 문자열로 반환."
      ],
      "execution_count": 172,
      "outputs": [
        {
          "output_type": "stream",
          "name": "stdout",
          "text": [
            "진짜 완전 대박 짱\n"
          ]
        }
      ]
    },
    {
      "cell_type": "code",
      "metadata": {
        "colab": {
          "base_uri": "https://localhost:8080/"
        },
        "id": "h1_-WgyTPT03",
        "outputId": "85d73fcb-f896-485e-8606-e84b2352dd98"
      },
      "source": [
        "# 별점빼기.\n",
        "import requests\n",
        "from bs4 import BeautifulSoup\n",
        "import re\n",
        "page = requests.get(review_url)  # 일단은 주소를 받아서.\n",
        "soup = BeautifulSoup(page.content, 'html.parser')  #뷰티풀숲으로 파싱을 하고,\n",
        "\n",
        "movie_elements = soup.find_all('div', class_ = 'list_netizen_score')   #bs4.element.ResultSet 객체로 리턴된다. \n",
        "list_review_star = []\n",
        "for i in range(len(movie_elements)) :   # 갯수만큼 for문을 돌려서, \n",
        "    movie_star=movie_elements[i].contents[2]  # 2번째에 위치한 컨텐츠를 꺼낸다. \n",
        "    movie_str = str(movie_star)  # bs4.element.Tag로 반환되는데 문자열로 변경 후 re정규표현식에 넣어서 숫자만 꺼내준다. \n",
        "    numbers = re.findall(\"\\d+\", movie_str)  #re 정규표현식은 문자 or 바이트류 객체만 받는다. \n",
        "    review_star = int(numbers[0])\n",
        "    list_review_star.append(review_star)\n",
        "\n",
        "list_review_star"
      ],
      "execution_count": 9,
      "outputs": [
        {
          "output_type": "execute_result",
          "data": {
            "text/plain": [
              "[1, 10, 10, 10, 10, 8, 10, 9, 10, 10]"
            ]
          },
          "metadata": {},
          "execution_count": 9
        }
      ]
    },
    {
      "cell_type": "code",
      "metadata": {
        "colab": {
          "base_uri": "https://localhost:8080/"
        },
        "id": "Ar7_JQitazW9",
        "outputId": "8dfdfe9c-5ffb-40ad-fef8-425da379b5fa"
      },
      "source": [
        "# 리뷰빼기.\n",
        "\n",
        "movie_elements = soup.find_all('td', class_ = 'title')\n",
        "\n",
        "list_review_text = []\n",
        "for i in range(len(movie_elements)):\n",
        "    sentence = movie_elements[i].contents[6]\n",
        "    review_text = ' '.join(sentence.split())\n",
        "    list_review_text.append(review_text)\n",
        "\n",
        "list_review_text\n",
        "# 이걸 어떻게 딕셔너리로 묶을까?\n",
        "# 일단 키값을 넣고... \n",
        "\n",
        "    # 각 리뷰는 다음과 같은 파이썬 딕셔너리 형태입니다:\n",
        "\n",
        "            # 'review_text': 리뷰 글이 담긴 문자열(str) 입니다,\n",
        "            # 'review_star': 리뷰 별점이 담긴 숫자(int) 입니다\n",
        "\n"
      ],
      "execution_count": 11,
      "outputs": [
        {
          "output_type": "execute_result",
          "data": {
            "text/plain": [
              "['인생을 매 순간을 즐기며 감사하며 산다는 것을 말하기 위해온갖 잡다한 생각과 도무지 이해 할 수 없는 내용을 집어 넣어멋진 그림 영상으로 설득하려 하는 것이 너무 안타까운 영화였습니다.우리 영혼에 대해서 너무 가치 없게 만든 영화라고 생각합니다.',\n",
              " '진짜 완전 대박 짱',\n",
              " '수단이 목적이 되려고 할 때 기억할 영화.',\n",
              " '',\n",
              " '',\n",
              " '\"소울\" 그 자체는 자유롭지만 결국 자리는 정해져있어',\n",
              " '너무 귀여워요 인생영화',\n",
              " '영상미가 돋보이고 귀엽다 애니에서 철학이라니.. 대단',\n",
              " '요약 : 개똥 밭에 굴러도 이승이 낫다. 그러니 즐겁게 살자.',\n",
              " '']"
            ]
          },
          "metadata": {},
          "execution_count": 11
        }
      ]
    },
    {
      "cell_type": "code",
      "metadata": {
        "colab": {
          "base_uri": "https://localhost:8080/"
        },
        "id": "IcjInLQJgyAo",
        "outputId": "8fa7076d-42b1-4acb-e9bc-fc03e2199ead"
      },
      "source": [
        "review_list = []  #빈 리스트\n",
        "\n",
        "\n",
        "for i in range(len(list_review_text)):  #for문을 갯수만큼 돌려서\n",
        "    # print(i)\n",
        "    dt_movie = dict()    #빈 딕셔너리\n",
        "    dt_movie['review_text'] = list_review_text[i]   #딕셔너리에 텍스트 넣고\n",
        "    dt_movie['review_star'] = list_review_star[i]    #star도 넣고\n",
        "    # print(dt_movie)\n",
        "    review_list.append(dt_movie)  #빈 리스트에 딕셔너리를 추가한다. \n",
        "\n",
        "print(review_list)\n",
        "\n",
        "\n",
        "### 해냈어!!!!!!!!!!!!!!!!!!!!! "
      ],
      "execution_count": 66,
      "outputs": [
        {
          "output_type": "stream",
          "name": "stdout",
          "text": [
            "[{'review_text': '인생을 매 순간을 즐기며 감사하며 산다는 것을 말하기 위해온갖 잡다한 생각과 도무지 이해 할 수 없는 내용을 집어 넣어멋진 그림 영상으로 설득하려 하는 것이 너무 안타까운 영화였습니다.우리 영혼에 대해서 너무 가치 없게 만든 영화라고 생각합니다.', 'review_star': 1}, {'review_text': '진짜 완전 대박 짱', 'review_star': 10}, {'review_text': '수단이 목적이 되려고 할 때 기억할 영화.', 'review_star': 10}, {'review_text': '', 'review_star': 10}, {'review_text': '', 'review_star': 10}, {'review_text': '\"소울\" 그 자체는 자유롭지만 결국 자리는 정해져있어', 'review_star': 8}, {'review_text': '너무 귀여워요 인생영화', 'review_star': 10}, {'review_text': '영상미가 돋보이고 귀엽다 애니에서 철학이라니.. 대단', 'review_star': 9}, {'review_text': '요약 : 개똥 밭에 굴러도 이승이 낫다. 그러니 즐겁게 살자.', 'review_star': 10}, {'review_text': '', 'review_star': 10}]\n"
          ]
        }
      ]
    },
    {
      "cell_type": "code",
      "metadata": {
        "colab": {
          "base_uri": "https://localhost:8080/"
        },
        "id": "6_EsJRfihxD_",
        "outputId": "c6320c6d-50d9-49dd-f958-a73238e6c71a"
      },
      "source": [
        "len(list_review_star)"
      ],
      "execution_count": 45,
      "outputs": [
        {
          "output_type": "execute_result",
          "data": {
            "text/plain": [
              "10"
            ]
          },
          "metadata": {},
          "execution_count": 45
        }
      ]
    },
    {
      "cell_type": "code",
      "metadata": {
        "colab": {
          "base_uri": "https://localhost:8080/"
        },
        "id": "wXNKlHGbhAYC",
        "outputId": "db403bf0-ef8e-4957-92e4-82ba8552d7b8"
      },
      "source": [
        "print(list_review_text)"
      ],
      "execution_count": 31,
      "outputs": [
        {
          "output_type": "stream",
          "name": "stdout",
          "text": [
            "[]\n"
          ]
        }
      ]
    },
    {
      "cell_type": "code",
      "metadata": {
        "id": "LQUEn4_EbLJU"
      },
      "source": [
        "lists = []\n",
        "dt_movie = dict() #빈 딕셔너리\n",
        "\n",
        "for i in range(len(review_text)):\n",
        "    dt_movie['review_text'] = list_review_text[i]\n",
        "    dt_movie['review_star'] = list_review_star[i]\n"
      ],
      "execution_count": 32,
      "outputs": []
    },
    {
      "cell_type": "code",
      "metadata": {
        "colab": {
          "base_uri": "https://localhost:8080/"
        },
        "id": "ED-_1V7ifAt2",
        "outputId": "2af4b24f-0a83-4b6a-88a1-06967293c85b"
      },
      "source": [
        "print(dt_movie)\n",
        "dt_movie['review_text'] = list_review_text[0]\n",
        "dt_movie['review_star'] = list_review_star[0]\n",
        "\n",
        "\n",
        "lists.append(dt_movie)\n",
        "lists"
      ],
      "execution_count": 35,
      "outputs": [
        {
          "output_type": "stream",
          "name": "stdout",
          "text": [
            "{}\n"
          ]
        },
        {
          "output_type": "execute_result",
          "data": {
            "text/plain": [
              "[{'review_star': 1,\n",
              "  'review_text': '인생을 매 순간을 즐기며 감사하며 산다는 것을 말하기 위해온갖 잡다한 생각과 도무지 이해 할 수 없는 내용을 집어 넣어멋진 그림 영상으로 설득하려 하는 것이 너무 안타까운 영화였습니다.우리 영혼에 대해서 너무 가치 없게 만든 영화라고 생각합니다.'},\n",
              " {'review_star': 1,\n",
              "  'review_text': '인생을 매 순간을 즐기며 감사하며 산다는 것을 말하기 위해온갖 잡다한 생각과 도무지 이해 할 수 없는 내용을 집어 넣어멋진 그림 영상으로 설득하려 하는 것이 너무 안타까운 영화였습니다.우리 영혼에 대해서 너무 가치 없게 만든 영화라고 생각합니다.'}]"
            ]
          },
          "metadata": {},
          "execution_count": 35
        }
      ]
    },
    {
      "cell_type": "code",
      "metadata": {
        "colab": {
          "base_uri": "https://localhost:8080/",
          "height": 35
        },
        "id": "oZVGmE3wfKqf",
        "outputId": "1a7063c5-1a45-41e5-bb04-8ac0a9c12ccc"
      },
      "source": [
        "review_text"
      ],
      "execution_count": 19,
      "outputs": [
        {
          "output_type": "execute_result",
          "data": {
            "application/vnd.google.colaboratory.intrinsic+json": {
              "type": "string"
            },
            "text/plain": [
              "''"
            ]
          },
          "metadata": {},
          "execution_count": 19
        }
      ]
    },
    {
      "cell_type": "markdown",
      "metadata": {
        "id": "9ai8lw3smLTc"
      },
      "source": [
        "# scrape_by_review_num\n",
        "\n",
        "\n",
        "https://ai-creator.tistory.com/201"
      ]
    },
    {
      "cell_type": "code",
      "metadata": {
        "id": "xTbnhkR-gDvf"
      },
      "source": [
        "def scrape_by_review_num(movie_title, review_num):\n",
        "    \"\"\"\n",
        "    scrape_by_review_num 함수는 총 스크레이핑할 리뷰 개수를 받아 해당 개수만큼\n",
        "    리뷰 항목이 담긴 리뷰 리스트를 리턴합니다.\n",
        "\n",
        "    파라미터:\n",
        "        - movie_title: 리뷰를 스크레이핑할 영화 제목이 담긴 문자열(str) 입니다.\n",
        "        - review_num: 총 몇 개의 리뷰를 가져올지 정해주는 숫자(int) 입니다.\n",
        "\n",
        "    리턴:\n",
        "        - 리뷰 리스트: 주어진 review_num 만큼의 리뷰 항목을 담은 파이썬\n",
        "        리스트입니다. (각 리뷰 항목은 get_reviews 에서 명시된 파이썬 딕셔너리\n",
        "        형태여야 합니다.)\n",
        "    \"\"\"\n",
        "    reviews = []\n",
        "    \n",
        "\n",
        "\n",
        "    return reviews\n"
      ],
      "execution_count": null,
      "outputs": []
    },
    {
      "cell_type": "code",
      "metadata": {
        "id": "UmSuKtfKI1Be"
      },
      "source": [
        "review_url = f\"{BASE_URL}/point/af/list.naver?st=mcode&sword={movie_code}&target=after&page={page_num}\""
      ],
      "execution_count": null,
      "outputs": []
    },
    {
      "cell_type": "code",
      "metadata": {
        "id": "E_A1SboGHOAX"
      },
      "source": [
        "movie_title 을 쳐서 리뷰를 얻기 위해서는...\n",
        "일단 타이틀을 통해 code번호를 알아내야 하고... --> 위에서 함수를 통해 구현함.\n",
        "\n",
        "\n",
        "import requests\n",
        "from bs4 import BeautifulSoup\n",
        "import re\n",
        "\n",
        "search_url = f\"{BASE_URL}/search/result.naver?query={movie_title}&section=all&ie=utf8\"   #f의 의미는?\n",
        "elements = soup.find(class_='result_thumb').find(\"a\")[\"href\"]\n",
        "numbers = re.findall(\"\\d+\", tmp_string)\n",
        "movie_code = int(numbers[0])\n",
        "\n",
        "page_num = \n",
        "review_url = f\"{BASE_URL}/point/af/list.naver?st=mcode&sword={movie_code}&target=after&page={page_num}\"\n",
        "\n",
        "\n",
        "return movie_code\n",
        "\n",
        "page = requests.get(review_url)  # 일단은 주소를 받아서.\n",
        "soup = BeautifulSoup(page.content, 'html.parser')  #뷰티풀숲으로 파싱을 하고,\n",
        "\n",
        "\n",
        "\n",
        "movie_elements = soup.find_all('div', class_ = 'list_netizen_score') "
      ],
      "execution_count": null,
      "outputs": []
    },
    {
      "cell_type": "markdown",
      "metadata": {
        "id": "BIP3vLyhDt7I"
      },
      "source": [
        "# scrape_by_page_num"
      ]
    },
    {
      "cell_type": "code",
      "metadata": {
        "id": "npNn1u5jDtKd"
      },
      "source": [
        "\n",
        "def scrape_by_page_num(movie_title, page_num=10):\n",
        "    \"\"\"\n",
        "    scrape_by_page_num 함수는 페이지 수를 기준으로 리뷰를 스크레이핑하는\n",
        "    함수입니다.\n",
        "\n",
        "    파라미터:\n",
        "        - movie_title: 리뷰를 스크레이핑할 영화 제목이 담긴 문자열(str) 입니다.\n",
        "        - page_num: 첫 번째 페이지에서부터 스크레이핑할 페이지 개수가 담긴\n",
        "        숫자(int) 입니다.\n",
        "\n",
        "    리턴:\n",
        "        - 리뷰 리스트: 주어진 page_num 만큼의 페이지에서부터 스크레이핑한\n",
        "        리뷰를 담은 파이썬 리스트입니다. (각 리뷰 항목은 get_reviews 에서\n",
        "        명시된 파이썬 딕셔너리 형태여야 합니다.)\n",
        "    \"\"\"\n",
        "    reviews = []\n",
        "\n",
        "    return reviews"
      ],
      "execution_count": null,
      "outputs": []
    }
  ]
}