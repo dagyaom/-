{
  "nbformat": 4,
  "nbformat_minor": 5,
  "metadata": {
    "hide_input": false,
    "kernelspec": {
      "display_name": "Python 3",
      "language": "python",
      "name": "python3"
    },
    "language_info": {
      "codemirror_mode": {
        "name": "ipython",
        "version": 3
      },
      "file_extension": ".py",
      "mimetype": "text/x-python",
      "name": "python",
      "nbconvert_exporter": "python",
      "pygments_lexer": "ipython3",
      "version": "3.8.8"
    },
    "toc": {
      "base_numbering": 1,
      "nav_menu": {},
      "number_sections": true,
      "sideBar": true,
      "skip_h1_title": false,
      "title_cell": "Table of Contents",
      "title_sidebar": "Contents",
      "toc_cell": false,
      "toc_position": {},
      "toc_section_display": true,
      "toc_window_display": true
    },
    "varInspector": {
      "cols": {
        "lenName": 16,
        "lenType": 16,
        "lenVar": 40
      },
      "kernels_config": {
        "python": {
          "delete_cmd_postfix": "",
          "delete_cmd_prefix": "del ",
          "library": "var_list.py",
          "varRefreshCmd": "print(var_dic_list())"
        },
        "r": {
          "delete_cmd_postfix": ") ",
          "delete_cmd_prefix": "rm(",
          "library": "var_list.r",
          "varRefreshCmd": "cat(var_dic_list()) "
        }
      },
      "position": {
        "height": "628px",
        "left": "1559px",
        "right": "20px",
        "top": "125px",
        "width": "350px"
      },
      "types_to_exclude": [
        "module",
        "function",
        "builtin_function_or_method",
        "instance",
        "_Feature"
      ],
      "window_display": true
    },
    "colab": {
      "name": "앙상블 모델 연습.ipynb",
      "provenance": [],
      "include_colab_link": true
    }
  },
  "cells": [
    {
      "cell_type": "markdown",
      "metadata": {
        "id": "view-in-github",
        "colab_type": "text"
      },
      "source": [
        "<a href=\"https://colab.research.google.com/github/dagyaom/Python_Practice/blob/main/%EC%95%99%EC%83%81%EB%B8%94_%EB%AA%A8%EB%8D%B8_%EC%97%B0%EC%8A%B5.ipynb\" target=\"_parent\"><img src=\"https://colab.research.google.com/assets/colab-badge.svg\" alt=\"Open In Colab\"/></a>"
      ]
    },
    {
      "cell_type": "markdown",
      "metadata": {
        "id": "bcabb7a1"
      },
      "source": [
        "# Boosting 사용하기\n",
        "- 한 트리를 깊게 학습시키면 과적합이 발생하기 때문에 배깅, 부스팅 앙상블 모델을 사용해서 과적합을 피한다. \n",
        "- 트리모델 : non-linear(비선형), non-monotonic(비단조), 특성간 상호작용이 존재하는 데이터 학습에 적용하기 좋음\n",
        "- 랜덤포레스트는 하이퍼 파라미터에 상대적으로 덜 민감한게 특징적. \n",
        "- 그래디언트 부스팅은 하이퍼파라미터 셋팅에 따라 랜덤포레스트보다 더 좋은 예측성능을 보여준다. "
      ],
      "id": "bcabb7a1"
    },
    {
      "cell_type": "markdown",
      "metadata": {
        "id": "d6cdf445"
      },
      "source": [
        "# 부스팅, 배깅 차이점\n",
        "- 둘다 트리 앙상블 모델이지만, 트리를 만드는 방법에 차이가 있음.\n",
        "- 랜덤포레스트 : 각 트리를 독립적으로 만든다. , 부스팅 : 이전에 만들어진 트리에 영향을 받는 다음 트리\n",
        "- Adaboost : weak learners가 만들어질 때 잘못 분류되는 관측치에 가중치를 줌. 그리고 다음 트리에서 이전에 잘못 분류된 관측치가 더 많이 샘플링되게 하여 그 관측치를 분류함.\n",
        "- Gradient : 회귀, 분류 둘다 사용가능한 모델. Adaboost와 유사하지만 비용함수(loss function)을 최적화한다.(샘플의 가중치를 조정하는 대신 잔차(residual)을 학습하도록 함. --> 잔차가 더 큰 데이터를 더 학습하도록 한다. 경사하강법)"
      ],
      "id": "d6cdf445"
    },
    {
      "cell_type": "code",
      "metadata": {
        "ExecuteTime": {
          "end_time": "2021-08-30T12:20:39.051435Z",
          "start_time": "2021-08-30T12:20:32.919485Z"
        },
        "collapsed": true,
        "id": "ec17a25e"
      },
      "source": [
        "import numpy as np\n",
        "import pandas as pd\n",
        "from sklearn.model_selection import train_test_split\n",
        "\n",
        "# 타겟을 정합니다.\n",
        "target = 'vacc_seas_f'\n",
        "# 학습데이터 features, labels 를 병합합니다.\n",
        "train = pd.merge(pd.read_csv('https://ds-lecture-data.s3.ap-northeast-2.amazonaws.com/vacc_flu/train.csv'), \n",
        "                 pd.read_csv('https://ds-lecture-data.s3.ap-northeast-2.amazonaws.com/vacc_flu/train_labels.csv')[target], left_index=True, right_index=True)\n",
        "test = pd.read_csv('https://ds-lecture-data.s3.ap-northeast-2.amazonaws.com/vacc_flu/test.csv')\n",
        "\n",
        "# 80/20 비율로 학습/테스트 데이터를 분리합니다.\n",
        "train, val = train_test_split(train, train_size=0.80, test_size=0.20, \n",
        "                              stratify=train[target], random_state=2)\n",
        "\n",
        "def engineer(df):\n",
        "    \"\"\"특성을 엔지니어링 하는 함수입니다.\"\"\"\n",
        "    \n",
        "    # 새로운 특성을 생성합니다.\n",
        "    behaviorals = [col for col in df.columns if 'behavioral' in col] \n",
        "    df['behaviorals'] = df[behaviorals].sum(axis=1)\n",
        "    \n",
        "    dels = [col for col in df.columns if ('employment' in col or 'h1n1' in col)]\n",
        "    df.drop(columns=dels, inplace=True)\n",
        "        \n",
        "    return df\n",
        "\n",
        "train = engineer(train)\n",
        "val = engineer(val)\n",
        "test = engineer(test)"
      ],
      "id": "ec17a25e",
      "execution_count": 1,
      "outputs": []
    },
    {
      "cell_type": "code",
      "metadata": {
        "ExecuteTime": {
          "end_time": "2021-08-30T12:20:39.346663Z",
          "start_time": "2021-08-30T12:20:39.318733Z"
        },
        "id": "0e2b72ea"
      },
      "source": [
        "X_train = train.drop(columns=target)\n",
        "y_train = train[target]\n",
        "X_val = val.drop(columns=target)\n",
        "y_val = val[target]\n",
        "X_test = test"
      ],
      "id": "0e2b72ea",
      "execution_count": 2,
      "outputs": []
    },
    {
      "cell_type": "code",
      "metadata": {
        "ExecuteTime": {
          "end_time": "2021-08-30T12:20:45.204877Z",
          "start_time": "2021-08-30T12:20:39.886299Z"
        },
        "colab": {
          "base_uri": "https://localhost:8080/"
        },
        "id": "a396cf75",
        "outputId": "79176ac2-3484-4e27-e732-de9355888ef5"
      },
      "source": [
        "pip install category-encoders"
      ],
      "id": "a396cf75",
      "execution_count": 3,
      "outputs": [
        {
          "output_type": "stream",
          "name": "stdout",
          "text": [
            "Collecting category-encoders\n",
            "  Downloading category_encoders-2.2.2-py2.py3-none-any.whl (80 kB)\n",
            "\u001b[?25l\r\u001b[K     |████                            | 10 kB 25.9 MB/s eta 0:00:01\r\u001b[K     |████████▏                       | 20 kB 33.3 MB/s eta 0:00:01\r\u001b[K     |████████████▏                   | 30 kB 37.0 MB/s eta 0:00:01\r\u001b[K     |████████████████▎               | 40 kB 23.4 MB/s eta 0:00:01\r\u001b[K     |████████████████████▎           | 51 kB 19.1 MB/s eta 0:00:01\r\u001b[K     |████████████████████████▍       | 61 kB 14.9 MB/s eta 0:00:01\r\u001b[K     |████████████████████████████▍   | 71 kB 15.4 MB/s eta 0:00:01\r\u001b[K     |████████████████████████████████| 80 kB 6.1 MB/s \n",
            "\u001b[?25hRequirement already satisfied: numpy>=1.14.0 in /usr/local/lib/python3.7/dist-packages (from category-encoders) (1.19.5)\n",
            "Requirement already satisfied: pandas>=0.21.1 in /usr/local/lib/python3.7/dist-packages (from category-encoders) (1.1.5)\n",
            "Requirement already satisfied: statsmodels>=0.9.0 in /usr/local/lib/python3.7/dist-packages (from category-encoders) (0.10.2)\n",
            "Requirement already satisfied: scipy>=1.0.0 in /usr/local/lib/python3.7/dist-packages (from category-encoders) (1.4.1)\n",
            "Requirement already satisfied: patsy>=0.5.1 in /usr/local/lib/python3.7/dist-packages (from category-encoders) (0.5.1)\n",
            "Requirement already satisfied: scikit-learn>=0.20.0 in /usr/local/lib/python3.7/dist-packages (from category-encoders) (0.22.2.post1)\n",
            "Requirement already satisfied: python-dateutil>=2.7.3 in /usr/local/lib/python3.7/dist-packages (from pandas>=0.21.1->category-encoders) (2.8.2)\n",
            "Requirement already satisfied: pytz>=2017.2 in /usr/local/lib/python3.7/dist-packages (from pandas>=0.21.1->category-encoders) (2018.9)\n",
            "Requirement already satisfied: six in /usr/local/lib/python3.7/dist-packages (from patsy>=0.5.1->category-encoders) (1.15.0)\n",
            "Requirement already satisfied: joblib>=0.11 in /usr/local/lib/python3.7/dist-packages (from scikit-learn>=0.20.0->category-encoders) (1.0.1)\n",
            "Installing collected packages: category-encoders\n",
            "Successfully installed category-encoders-2.2.2\n"
          ]
        }
      ]
    },
    {
      "cell_type": "code",
      "metadata": {
        "ExecuteTime": {
          "end_time": "2021-08-30T12:20:59.412906Z",
          "start_time": "2021-08-30T12:20:59.402419Z"
        },
        "colab": {
          "base_uri": "https://localhost:8080/"
        },
        "id": "7727341c",
        "outputId": "0c445761-f360-4665-b3d5-6c1d5fbe0fb8"
      },
      "source": [
        "from category_encoders import OrdinalEncoder\n",
        "from sklearn.impute import SimpleImputer\n",
        "from sklearn.ensemble import RandomForestClassifier\n",
        "from sklearn.model_selection import train_test_split\n",
        "from sklearn.pipeline import make_pipeline\n",
        "\n",
        "pipe = make_pipeline(\n",
        "    OrdinalEncoder(),\n",
        "    SimpleImputer(), \n",
        "    RandomForestClassifier(n_estimators=100, random_state=2, n_jobs=-1)\n",
        ")"
      ],
      "id": "7727341c",
      "execution_count": 5,
      "outputs": [
        {
          "output_type": "stream",
          "name": "stderr",
          "text": [
            "/usr/local/lib/python3.7/dist-packages/statsmodels/tools/_testing.py:19: FutureWarning: pandas.util.testing is deprecated. Use the functions in the public API at pandas.testing instead.\n",
            "  import pandas.util.testing as tm\n"
          ]
        }
      ]
    },
    {
      "cell_type": "code",
      "metadata": {
        "ExecuteTime": {
          "end_time": "2021-08-30T12:21:15.368987Z",
          "start_time": "2021-08-30T12:21:11.085418Z"
        },
        "colab": {
          "base_uri": "https://localhost:8080/"
        },
        "id": "2b5fd293",
        "outputId": "4e545296-aa05-47da-d6d5-54819f45ff67"
      },
      "source": [
        "from sklearn.metrics import classification_report\n",
        "# train 학습, 검증셋 정확도\n",
        "pipe.fit(X_train, y_train)\n",
        "print('검증 정확도', pipe.score(X_val, y_val))\n",
        "\n",
        "print(classification_report(y_val, pipe.predict(X_val)))\n"
      ],
      "id": "2b5fd293",
      "execution_count": 6,
      "outputs": [
        {
          "output_type": "stream",
          "name": "stdout",
          "text": [
            "검증 정확도 0.7526983750444787\n",
            "              precision    recall  f1-score   support\n",
            "\n",
            "           0       0.76      0.80      0.78      4608\n",
            "           1       0.74      0.70      0.72      3823\n",
            "\n",
            "    accuracy                           0.75      8431\n",
            "   macro avg       0.75      0.75      0.75      8431\n",
            "weighted avg       0.75      0.75      0.75      8431\n",
            "\n"
          ]
        }
      ]
    },
    {
      "cell_type": "markdown",
      "metadata": {
        "id": "de5d2ed3"
      },
      "source": [
        "## XGBoost \n",
        "- XGBClassifier\n",
        "- 랜덤포레스트보다 하이퍼파라미터 튜닝에 민감하다. \n",
        "- Early Stopping을 사용해서 과적합을 피해보자. "
      ],
      "id": "de5d2ed3"
    },
    {
      "cell_type": "code",
      "metadata": {
        "ExecuteTime": {
          "end_time": "2021-08-30T12:36:55.764464Z",
          "start_time": "2021-08-30T12:36:47.146544Z"
        },
        "id": "8d48f2d5"
      },
      "source": [
        "from xgboost import XGBClassifier\n",
        "\n",
        "pipe2 = make_pipeline(\n",
        "OrdinalEncoder(),\n",
        "SimpleImputer(strategy='median'),\n",
        "XGBClassifier(n_estimators=200\n",
        "             , random_state=2\n",
        "             , n_jobs =-1\n",
        "             , max_depth=7\n",
        "             , learning_rate=0.2))\n",
        "\n",
        "pipe2.fit(X_train,y_train);"
      ],
      "id": "8d48f2d5",
      "execution_count": 7,
      "outputs": []
    },
    {
      "cell_type": "code",
      "metadata": {
        "ExecuteTime": {
          "end_time": "2021-08-30T12:36:57.051364Z",
          "start_time": "2021-08-30T12:36:56.936629Z"
        },
        "id": "450b1158"
      },
      "source": [
        "from sklearn.metrics import accuracy_score\n",
        "y_pred = pipe2.predict(X_val)"
      ],
      "id": "450b1158",
      "execution_count": 8,
      "outputs": []
    },
    {
      "cell_type": "code",
      "metadata": {
        "ExecuteTime": {
          "end_time": "2021-08-30T12:38:04.876356Z",
          "start_time": "2021-08-30T12:38:04.827487Z"
        },
        "colab": {
          "base_uri": "https://localhost:8080/"
        },
        "id": "22e9fb3c",
        "outputId": "40c32cb0-7211-4079-a19f-64f2c75cef34"
      },
      "source": [
        "print('검증정확도 : ', accuracy_score(y_val, y_pred))\n",
        "print(classification_report(y_val, y_pred))\n",
        "# 쬐끔 나아졌네."
      ],
      "id": "22e9fb3c",
      "execution_count": 9,
      "outputs": [
        {
          "output_type": "stream",
          "name": "stdout",
          "text": [
            "검증정확도 :  0.7601707982445736\n",
            "              precision    recall  f1-score   support\n",
            "\n",
            "           0       0.77      0.79      0.78      4608\n",
            "           1       0.74      0.72      0.73      3823\n",
            "\n",
            "    accuracy                           0.76      8431\n",
            "   macro avg       0.76      0.76      0.76      8431\n",
            "weighted avg       0.76      0.76      0.76      8431\n",
            "\n"
          ]
        }
      ]
    },
    {
      "cell_type": "markdown",
      "metadata": {
        "id": "41fda95f"
      },
      "source": [
        "## Early Stopping :  n_estimators의 최적화.\n",
        "- n_estimators의 최적화를 위해 GridsearchCV대신 early stopping를 사용함.\n"
      ],
      "id": "41fda95f"
    },
    {
      "cell_type": "code",
      "metadata": {
        "ExecuteTime": {
          "end_time": "2021-08-30T14:08:30.003389Z",
          "start_time": "2021-08-30T14:08:29.993356Z"
        },
        "id": "938b89ae"
      },
      "source": [
        "# vc = y_train.value_counts().tolist()\n",
        "# vc"
      ],
      "id": "938b89ae",
      "execution_count": 10,
      "outputs": []
    },
    {
      "cell_type": "code",
      "metadata": {
        "ExecuteTime": {
          "end_time": "2021-08-30T14:08:27.405034Z",
          "start_time": "2021-08-30T14:08:27.386091Z"
        },
        "id": "6aa5de38"
      },
      "source": [
        "# ratio = float(vc[0]/vc[1])\n",
        "# ratio\n",
        "\n",
        "# #sum(negative instances) / sum(positive instances)"
      ],
      "id": "6aa5de38",
      "execution_count": 11,
      "outputs": []
    },
    {
      "cell_type": "code",
      "metadata": {
        "ExecuteTime": {
          "end_time": "2021-08-30T23:54:28.682206Z",
          "start_time": "2021-08-30T23:54:24.103147Z"
        },
        "scrolled": true,
        "colab": {
          "base_uri": "https://localhost:8080/"
        },
        "id": "685f4183",
        "outputId": "2c750ecd-ebe6-4f69-b4d9-41c1f275bc8f"
      },
      "source": [
        "encoder = OrdinalEncoder()\n",
        "X_train_encoded = encoder.fit_transform(X_train)\n",
        "X_val_encoded = encoder.transform(X_val)\n",
        "\n",
        "model = XGBClassifier(\n",
        "    n_estimators = 1000,\n",
        "    max_depth=7,\n",
        "    learning_rate=0.2,\n",
        "    # scale_pos_weight=ratio,  #imbalance데이터의 경우 적용\n",
        "    n_jobs=-1\n",
        ")\n",
        "\n",
        "\n",
        "\n",
        "eval_set = [(X_train_encoded, y_train),\n",
        "           (X_val_encoded, y_val)]   #이것만 넣어도 작동이 되는데, 위애 train까지 같이 넣는건 무슨 의도지?(마지막 줄만 작동된다고 하던데?)\n",
        "# 아, 위에꺼 지우고 작동해 볼것.\n",
        "model.fit(X_train_encoded, y_train,\n",
        "         eval_set=eval_set,  # 메트릭이 계산할 검증세트로, 튜플 쌍 목록이어야 함. \n",
        "         eval_metric='error',   #모델의 평가지표\n",
        "         early_stopping_rounds=50 #최대한 몇개의 트리를 완성해볼까?\n",
        "         )\n",
        "\n",
        "\n",
        "# xgboost 파라미터 : https://xgboost.readthedocs.io/en/latest/parameter.html\n",
        "# xg부스트 하이퍼파라미터 : https://hwi-doc.tistory.com/entry/%EC%9D%B4%ED%95%B4%ED%95%98%EA%B3%A0-%EC%82%AC%EC%9A%A9%ED%95%98%EC%9E%90-XGBoost "
      ],
      "id": "685f4183",
      "execution_count": 12,
      "outputs": [
        {
          "output_type": "stream",
          "name": "stdout",
          "text": [
            "[0]\tvalidation_0-error:0.239777\tvalidation_1-error:0.248013\n",
            "Multiple eval metrics have been passed: 'validation_1-error' will be used for early stopping.\n",
            "\n",
            "Will train until validation_1-error hasn't improved in 50 rounds.\n",
            "[1]\tvalidation_0-error:0.235092\tvalidation_1-error:0.245641\n",
            "[2]\tvalidation_0-error:0.229398\tvalidation_1-error:0.242676\n",
            "[3]\tvalidation_0-error:0.228301\tvalidation_1-error:0.241727\n",
            "[4]\tvalidation_0-error:0.225751\tvalidation_1-error:0.238999\n",
            "[5]\tvalidation_0-error:0.22409\tvalidation_1-error:0.238169\n",
            "[6]\tvalidation_0-error:0.222578\tvalidation_1-error:0.236627\n",
            "[7]\tvalidation_0-error:0.220977\tvalidation_1-error:0.236271\n",
            "[8]\tvalidation_0-error:0.220888\tvalidation_1-error:0.237338\n",
            "[9]\tvalidation_0-error:0.218931\tvalidation_1-error:0.236271\n",
            "[10]\tvalidation_0-error:0.216914\tvalidation_1-error:0.234848\n",
            "[11]\tvalidation_0-error:0.216262\tvalidation_1-error:0.235085\n",
            "[12]\tvalidation_0-error:0.214186\tvalidation_1-error:0.234373\n",
            "[13]\tvalidation_0-error:0.212615\tvalidation_1-error:0.233306\n",
            "[14]\tvalidation_0-error:0.211013\tvalidation_1-error:0.233543\n",
            "[15]\tvalidation_0-error:0.210094\tvalidation_1-error:0.23212\n",
            "[16]\tvalidation_0-error:0.208878\tvalidation_1-error:0.232238\n",
            "[17]\tvalidation_0-error:0.207692\tvalidation_1-error:0.23295\n",
            "[18]\tvalidation_0-error:0.206269\tvalidation_1-error:0.232357\n",
            "[19]\tvalidation_0-error:0.204727\tvalidation_1-error:0.232713\n",
            "[20]\tvalidation_0-error:0.203926\tvalidation_1-error:0.232001\n",
            "[21]\tvalidation_0-error:0.202977\tvalidation_1-error:0.231882\n",
            "[22]\tvalidation_0-error:0.201791\tvalidation_1-error:0.231052\n",
            "[23]\tvalidation_0-error:0.200605\tvalidation_1-error:0.231289\n",
            "[24]\tvalidation_0-error:0.199537\tvalidation_1-error:0.231171\n",
            "[25]\tvalidation_0-error:0.198648\tvalidation_1-error:0.230459\n",
            "[26]\tvalidation_0-error:0.19758\tvalidation_1-error:0.231764\n",
            "[27]\tvalidation_0-error:0.196602\tvalidation_1-error:0.231882\n",
            "[28]\tvalidation_0-error:0.195238\tvalidation_1-error:0.231408\n",
            "[29]\tvalidation_0-error:0.19503\tvalidation_1-error:0.231289\n",
            "[30]\tvalidation_0-error:0.193696\tvalidation_1-error:0.232713\n",
            "[31]\tvalidation_0-error:0.192925\tvalidation_1-error:0.232357\n",
            "[32]\tvalidation_0-error:0.191798\tvalidation_1-error:0.232594\n",
            "[33]\tvalidation_0-error:0.190137\tvalidation_1-error:0.230696\n",
            "[34]\tvalidation_0-error:0.188922\tvalidation_1-error:0.23034\n",
            "[35]\tvalidation_0-error:0.188625\tvalidation_1-error:0.22951\n",
            "[36]\tvalidation_0-error:0.187528\tvalidation_1-error:0.23034\n",
            "[37]\tvalidation_0-error:0.186223\tvalidation_1-error:0.231527\n",
            "[38]\tvalidation_0-error:0.185244\tvalidation_1-error:0.23034\n",
            "[39]\tvalidation_0-error:0.184711\tvalidation_1-error:0.230459\n",
            "[40]\tvalidation_0-error:0.183791\tvalidation_1-error:0.229866\n",
            "[41]\tvalidation_0-error:0.183436\tvalidation_1-error:0.230222\n",
            "[42]\tvalidation_0-error:0.182665\tvalidation_1-error:0.232831\n",
            "[43]\tvalidation_0-error:0.18222\tvalidation_1-error:0.233543\n",
            "[44]\tvalidation_0-error:0.181152\tvalidation_1-error:0.233899\n",
            "[45]\tvalidation_0-error:0.179907\tvalidation_1-error:0.233661\n",
            "[46]\tvalidation_0-error:0.179551\tvalidation_1-error:0.234373\n",
            "[47]\tvalidation_0-error:0.178424\tvalidation_1-error:0.234017\n",
            "[48]\tvalidation_0-error:0.177772\tvalidation_1-error:0.233068\n",
            "[49]\tvalidation_0-error:0.177001\tvalidation_1-error:0.232831\n",
            "[50]\tvalidation_0-error:0.176289\tvalidation_1-error:0.234017\n",
            "[51]\tvalidation_0-error:0.175133\tvalidation_1-error:0.234492\n",
            "[52]\tvalidation_0-error:0.174421\tvalidation_1-error:0.234373\n",
            "[53]\tvalidation_0-error:0.174421\tvalidation_1-error:0.23461\n",
            "[54]\tvalidation_0-error:0.172938\tvalidation_1-error:0.233306\n",
            "[55]\tvalidation_0-error:0.172138\tvalidation_1-error:0.234136\n",
            "[56]\tvalidation_0-error:0.171841\tvalidation_1-error:0.234136\n",
            "[57]\tvalidation_0-error:0.171278\tvalidation_1-error:0.235085\n",
            "[58]\tvalidation_0-error:0.169825\tvalidation_1-error:0.23461\n",
            "[59]\tvalidation_0-error:0.168905\tvalidation_1-error:0.234017\n",
            "[60]\tvalidation_0-error:0.168194\tvalidation_1-error:0.23378\n",
            "[61]\tvalidation_0-error:0.167601\tvalidation_1-error:0.234255\n",
            "[62]\tvalidation_0-error:0.166859\tvalidation_1-error:0.235085\n",
            "[63]\tvalidation_0-error:0.16597\tvalidation_1-error:0.233661\n",
            "[64]\tvalidation_0-error:0.165258\tvalidation_1-error:0.233661\n",
            "[65]\tvalidation_0-error:0.164131\tvalidation_1-error:0.233661\n",
            "[66]\tvalidation_0-error:0.16336\tvalidation_1-error:0.233661\n",
            "[67]\tvalidation_0-error:0.162886\tvalidation_1-error:0.233543\n",
            "[68]\tvalidation_0-error:0.162589\tvalidation_1-error:0.233899\n",
            "[69]\tvalidation_0-error:0.162233\tvalidation_1-error:0.233424\n",
            "[70]\tvalidation_0-error:0.161937\tvalidation_1-error:0.232594\n",
            "[71]\tvalidation_0-error:0.161225\tvalidation_1-error:0.232831\n",
            "[72]\tvalidation_0-error:0.160603\tvalidation_1-error:0.234017\n",
            "[73]\tvalidation_0-error:0.159802\tvalidation_1-error:0.233424\n",
            "[74]\tvalidation_0-error:0.159387\tvalidation_1-error:0.232831\n",
            "[75]\tvalidation_0-error:0.159001\tvalidation_1-error:0.233424\n",
            "[76]\tvalidation_0-error:0.158201\tvalidation_1-error:0.23295\n",
            "[77]\tvalidation_0-error:0.157489\tvalidation_1-error:0.233543\n",
            "[78]\tvalidation_0-error:0.156718\tvalidation_1-error:0.233187\n",
            "[79]\tvalidation_0-error:0.155888\tvalidation_1-error:0.233068\n",
            "[80]\tvalidation_0-error:0.155591\tvalidation_1-error:0.232475\n",
            "[81]\tvalidation_0-error:0.154583\tvalidation_1-error:0.232831\n",
            "[82]\tvalidation_0-error:0.154079\tvalidation_1-error:0.233187\n",
            "[83]\tvalidation_0-error:0.153693\tvalidation_1-error:0.232713\n",
            "[84]\tvalidation_0-error:0.152833\tvalidation_1-error:0.23295\n",
            "[85]\tvalidation_0-error:0.152329\tvalidation_1-error:0.233543\n",
            "Stopping. Best iteration:\n",
            "[35]\tvalidation_0-error:0.188625\tvalidation_1-error:0.22951\n",
            "\n"
          ]
        },
        {
          "output_type": "execute_result",
          "data": {
            "text/plain": [
              "XGBClassifier(base_score=0.5, booster='gbtree', colsample_bylevel=1,\n",
              "              colsample_bynode=1, colsample_bytree=1, gamma=0,\n",
              "              learning_rate=0.2, max_delta_step=0, max_depth=7,\n",
              "              min_child_weight=1, missing=None, n_estimators=1000, n_jobs=-1,\n",
              "              nthread=None, objective='binary:logistic', random_state=0,\n",
              "              reg_alpha=0, reg_lambda=1, scale_pos_weight=1, seed=None,\n",
              "              silent=None, subsample=1, verbosity=1)"
            ]
          },
          "metadata": {},
          "execution_count": 12
        }
      ]
    },
    {
      "cell_type": "code",
      "metadata": {
        "ExecuteTime": {
          "end_time": "2021-08-31T00:02:00.590897Z",
          "start_time": "2021-08-31T00:02:00.352284Z"
        },
        "colab": {
          "base_uri": "https://localhost:8080/",
          "height": 280
        },
        "id": "a231fabf",
        "outputId": "478cdf4c-5c84-441c-d4db-6901f165d1d7"
      },
      "source": [
        "import matplotlib.pyplot as plt\n",
        "\n",
        "results = model.evals_result()  #각 평가 세트에 대한 모델의 성능 함수.\n",
        "train_error = results['validation_0']['error']  #evals_result() 에 접근할 때.\n",
        "val_error = results['validation_1']['error']\n",
        "\n",
        "epoch = range(1, len(train_error)+1)\n",
        "plt.plot(epoch, train_error, label='Train')\n",
        "plt.plot(epoch, val_error, label='Validation')\n",
        "plt.ylabel('Classification Error')\n",
        "plt.xlabel('Model Complexity(n_estimators)')\n",
        "plt.ylim((0.15,0.25))\n",
        "plt.legend(); # 그래프에 범례 추가하기"
      ],
      "id": "a231fabf",
      "execution_count": 14,
      "outputs": [
        {
          "output_type": "display_data",
          "data": {
            "image/png": "[encoded data removed]",
            "text/plain": [
              "<Figure size 432x288 with 1 Axes>"
            ]
          },
          "metadata": {
            "needs_background": "light"
          }
        }
      ]
    },
    {
      "cell_type": "markdown",
      "metadata": {
        "id": "d1cd1750"
      },
      "source": [
        "# 하이퍼파라미터 튜닝의 꿀팁\n",
        "\n",
        "http://machinelearningkorea.com/2019/09/29/lightgbm-%ED%8C%8C%EB%9D%BC%EB%AF%B8%ED%84%B0/\n",
        "\n",
        "1.2.1.1  Random Forest\n",
        "max_depth (높은값에서 감소시키며 튜닝, 너무 깊어지면 과적합)\n",
        "n_estimators (적을경우 과소적합, 높을경우 긴 학습시간)\n",
        "min_samples_leaf (과적합일경우 높임)\n",
        "max_features (줄일 수록 다양한 트리생성, 높이면 같은 특성을 사용하는 트리가 많아져 다양성이 감소)\n",
        "class_weight (imbalanced 클래스인 경우 시도)\n",
        "\n",
        "\n",
        "1.2.1.2  XGBoost\n",
        "learning_rate (높을경우 과적합 위험이 있습니다)\n",
        "max_depth (낮은값에서 증가시키며 튜닝, 너무 깊어지면 과적합위험, -1 설정시 제한 없이 분기, 특성이 많을 수록 깊게 설정)\n",
        "n_estimators (너무 크게 주면 긴 학습시간, early_stopping_rounds와 같이 사용)\n",
        "scale_pos_weight (imbalanced 문제인 경우 적용시도)\n"
      ],
      "id": "d1cd1750"
    }
  ]
}