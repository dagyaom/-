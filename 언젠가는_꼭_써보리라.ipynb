{
  "nbformat": 4,
  "nbformat_minor": 0,
  "metadata": {
    "colab": {
      "name": "이용가이드.ipynb",
      "private_outputs": true,
      "provenance": [],
      "authorship_tag": "ABX9TyNZqtNIrh8R3uDz674fKOas",
      "include_colab_link": true
    },
    "kernelspec": {
      "name": "python3",
      "display_name": "Python 3"
    },
    "language_info": {
      "name": "python"
    }
  },
  "cells": [
    {
      "cell_type": "markdown",
      "metadata": {
        "id": "view-in-github",
        "colab_type": "text"
      },
      "source": [
        "<a href=\"https://colab.research.google.com/github/dagyaom/Python_Practice/blob/main/%EC%96%B8%EC%A0%A0%EA%B0%80%EB%8A%94_%EA%BC%AD_%EC%8D%A8%EB%B3%B4%EB%A6%AC%EB%9D%BC.ipynb\" target=\"_parent\"><img src=\"https://colab.research.google.com/assets/colab-badge.svg\" alt=\"Open In Colab\"/></a>"
      ]
    },
    {
      "cell_type": "markdown",
      "metadata": {
        "id": "8lteYRzpsgz5"
      },
      "source": [
        "https://itstory1592.tistory.com/38"
      ]
    },
    {
      "cell_type": "code",
      "metadata": {
        "id": "-ArFj5aBsea4"
      },
      "source": [
        ""
      ],
      "execution_count": null,
      "outputs": []
    }
  ]
}
