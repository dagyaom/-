{
  "nbformat": 4,
  "nbformat_minor": 0,
  "metadata": {
    "colab": {
      "name": "섹션3 프로젝트 전처리 완료... .ipynb",
      "provenance": [],
      "authorship_tag": "ABX9TyMW+3LF9lWCeNkR+pndWBE+",
      "include_colab_link": true
    },
    "kernelspec": {
      "name": "python3",
      "display_name": "Python 3"
    },
    "language_info": {
      "name": "python"
    }
  },
  "cells": [
    {
      "cell_type": "markdown",
      "metadata": {
        "id": "view-in-github",
        "colab_type": "text"
      },
      "source": [
        "<a href=\"https://colab.research.google.com/github/dagyeom23658/Python_Practice/blob/main/%EC%84%B9%EC%85%983_%ED%94%84%EB%A1%9C%EC%A0%9D%ED%8A%B8_%EC%A0%84%EC%B2%98%EB%A6%AC_%EC%99%84%EB%A3%8C_.ipynb\" target=\"_parent\"><img src=\"https://colab.research.google.com/assets/colab-badge.svg\" alt=\"Open In Colab\"/></a>"
      ]
    },
    {
      "cell_type": "markdown",
      "metadata": {
        "id": "64M-d4lN-xz3"
      },
      "source": [
        "# 데이터\n",
        "https://www.kaggle.com/nithilaa/fitness-analysis?select=fitness+analysis.csv\n"
      ]
    },
    {
      "cell_type": "code",
      "metadata": {
        "colab": {
          "base_uri": "https://localhost:8080/"
        },
        "id": "qEa-eOyEvny-",
        "outputId": "5f856a70-070e-43db-a4e3-5985b14f682e"
      },
      "source": [
        "import csv\n",
        "pt = list()\n",
        "with open('/content/fitness analysis.csv', newline='') as csvfile:\n",
        "    reader = csv.reader(csvfile)\n",
        "    i=0\n",
        "    for row in reader:  # 여기서 틀렸구나.여기서 0부터 해서 컬럼을 넣은상태로 id값을 붙이니까\n",
        "        li = list(row)\n",
        "        li.insert(0,i-1)\n",
        "        tup = tuple(li)\n",
        "        pt.append(tup)\n",
        "        i += 1\n",
        "\n",
        "print(pt)"
      ],
      "execution_count": 10,
      "outputs": [
        {
          "output_type": "stream",
          "name": "stdout",
          "text": [
            "[(-1, 'Timestamp', 'Your name ', 'Your gender ', 'Your age ', 'How important is exercise to you ?', 'How do you describe your current level of fitness ?', 'How often do you exercise?', 'What barriers, if any, prevent you from exercising more regularly?           (Please select all that apply)', 'What form(s) of exercise do you currently participate in ?                        (Please select all that apply)', 'Do you exercise ___________ ?', 'What time if the day do you prefer to exercise?', 'How long do you spend exercising per day ?', 'Would you say you eat a healthy balanced diet ?', 'What prevents you from eating a healthy balanced diet, If any?                         (Please select all that apply)', 'How healthy do you consider yourself?', 'Have you ever recommended your friends to follow a fitness routine?', 'Have you ever purchased a fitness equipment?', 'What motivates you to exercise?         (Please select all that applies )'), (0, '2019/07/03 11:48:07 PM GMT+5:30', 'Parkavi', 'Female', '19 to 25', '2', 'Good', 'Never', \"I don't have enough time;I can't stay motivated\", \"I don't really exercise\", \"I don't really exercise\", 'Early morning', \"I don't really exercise\", 'Not always', 'Ease of access to fast food;Temptation and cravings', '3', 'Yes', 'No', \"I'm sorry ... I'm not really interested in exercising\"), (1, '2019/07/03 11:51:22 PM GMT+5:30', 'Nithilaa', 'Female', '19 to 25', '4', 'Very good', 'Never', \"I don't have enough time;I'll become too tired\", 'Walking or jogging;Swimming', 'With a group', 'Early morning', \"I don't really exercise\", 'Not always', 'Ease of access to fast food;Temptation and cravings', '4', 'Yes', 'No', \"I want to be fit;I want to be flexible;I want to relieve stress;I'm sorry ... I'm not really interested in exercising\"), (2, '2019/07/03 11:56:28 PM GMT+5:30', 'Karunya v', 'Female', '15 to 18', '3', 'Good', '1 to 2 times a week', \"I can't stay motivated\", 'Walking or jogging', 'Alone', 'Early morning', '30 minutes', 'Not always', 'Temptation and cravings', '4', 'Yes', 'Yes', 'I want to be fit'), (3, '2019/07/04 5:43:35 AM GMT+5:30', 'Anusha ', 'Female', '15 to 18', '4', 'Good', '3 to 4 times a week', \"I don't have enough time\", 'Walking or jogging;Gym;Lifting weights', 'Alone', 'Evening', '1 hour', 'Yes', 'Temptation and cravings', '4', 'Yes', 'No', 'I want to be fit;I want to lose weight'), (4, '2019/07/04 5:44:29 AM GMT+5:30', 'Nikkitha', 'Female', '19 to 25', '3', 'Unfit', 'Never', \"I can't stay motivated\", \"I don't really exercise\", \"I don't really exercise\", 'Evening', \"I don't really exercise\", 'Yes', 'Ease of access to fast food;Temptation and cravings', '4', 'Yes', 'No', 'I want to be fit'), (5, '2019/07/04 6:23:37 AM GMT+5:30', 'Girija', 'Female', '40 and above', '5', 'Average', '3 to 4 times a week', 'I exercise regularly with no barriers', 'Walking or jogging;Yoga', 'With a group', 'Evening', '1 hour', 'Not always', 'Temptation and cravings', '3', 'Yes', 'No', 'I want to be flexible'), (6, '2019/07/04 6:33:21 AM GMT+5:30', 'Srinivasan', 'Male', '40 and above', '3', 'Good', '1 to 2 times a week', \"I don't really enjoy exercising\", 'Walking or jogging', 'Alone', 'Early morning', '30 minutes', 'No', 'Temptation and cravings', '3', 'No', 'No', 'I want to be flexible'), (7, '2019/07/04 7:40:51 AM GMT+5:30', 'Ranjani', 'Female', '15 to 18', '3', 'Unfit', 'Never', \"I can't stay motivated;I don't really enjoy exercising\", 'Walking or jogging', 'Alone', 'Early morning', \"I don't really exercise\", 'Not always', 'Temptation and cravings', '2', 'Yes', 'Yes', \"I want to be fit;I'm sorry ... I'm not really interested in exercising\"), (8, '2019/07/04 8:06:17 AM GMT+5:30', 'Bupesh R', 'Male', '19 to 25', '5', 'Unfit', '3 to 4 times a week', \"I don't have enough time;I can't stay motivated;I'll become too tired;I don't really enjoy exercising\", 'Gym;Team sport', 'With a friend', 'Evening', '1 hour', 'No', 'Temptation and cravings', '2', 'Yes', 'No', 'I want to be fit;I want to increase muscle mass and strength;I want to lose weight'), (9, '2019/07/04 8:09:02 AM GMT+5:30', 'Sudhan', 'Male', '15 to 18', '5', 'Very good', 'Everyday', \"I don't have enough time;I exercise regularly with no barriers\", 'Gym', 'With a friend', 'Early morning', '1 hour', 'Not always', 'Ease of access to fast food', '3', 'Yes', 'Yes', 'I want to be fit;I want to lose weight;I want to relieve stress'), (10, '2019/07/04 8:10:44 AM GMT+5:30', 'Revanth', 'Male', '15 to 18', '4', 'Very good', '3 to 4 times a week', \"I don't have enough time\", 'Walking or jogging;Team sport', 'With a group', 'Early morning', '1 hour', 'Yes', 'Lack of time', '4', 'Yes', 'Yes', 'I want to be fit'), (11, '2019/07/04 8:11:42 AM GMT+5:30', 'Ashwin', 'Male', '19 to 25', '5', 'Unfit', '3 to 4 times a week', \"I don't have enough time\", 'Walking or jogging', 'Alone', 'Early morning', '2 hours', 'No', 'Temptation and cravings', '4', 'Yes', 'Yes', 'I want to be fit;I want to increase muscle mass and strength;I want to lose weight'), (12, '2019/07/04 8:12:40 AM GMT+5:30', 'Gurjyot Singh', 'Male', '15 to 18', '4', 'Unfit', 'Never', \"I can't stay motivated\", \"I don't really exercise\", \"I don't really exercise\", 'Evening', \"I don't really exercise\", 'No', 'Temptation and cravings', '1', 'No', 'No', 'I want to be fit;I want to increase muscle mass and strength;I want to lose weight'), (13, '2019/07/04 8:13:38 AM GMT+5:30', 'Harshita Jain ', 'Female', '15 to 18', '3', 'Average', '1 to 2 times a week', \"I don't have enough time;I can't stay motivated;I'll become too tired;Less stamina\", 'Walking or jogging', 'Alone', 'Evening', '30 minutes', 'Not always', 'Temptation and cravings', '3', 'No', 'Yes', 'I want to be fit;I want to lose weight'), (14, '2019/07/04 8:19:03 AM GMT+5:30', 'Hari Vishwa', 'Male', '19 to 25', '5', 'Average', '1 to 2 times a week', \"I don't have enough time;I'll become too tired;I have an injury\", 'Walking or jogging', 'Alone', 'Evening', '30 minutes', 'No', 'Ease of access to fast food;Temptation and cravings', '3', 'Yes', 'Yes', 'I want to be fit;I want to increase muscle mass and strength;I want to lose weight;I want to be flexible;I want to relieve stress;I want to achieve a sporting goal;Doing exercises prevents many diseases.So yeah saves a lot of money .'), (15, '2019/07/04 8:19:11 AM GMT+5:30', 'Harini sri', 'Female', '15 to 18', '3', 'Average', 'Everyday', \"I can't stay motivated\", 'Walking or jogging;Yoga', 'Alone', 'Early morning', '30 minutes', 'Not always', 'Cost;Ease of access to fast food', '3', 'No', 'No', 'I want to relieve stress'), (16, '2019/07/04 8:24:57 AM GMT+5:30', 'Raghul Prashath.K.A', 'Male', '15 to 18', '3', 'Unfit', 'Never', \"I don't have enough time;I'll become too tired;I don't really enjoy exercising\", \"Walking or jogging;I don't really exercise\", \"I don't really exercise\", 'Evening', \"I don't really exercise\", 'Not always', 'Lack of time;Ease of access to fast food', '2', 'No', 'No', \"I want to relieve stress;I'm sorry ... I'm not really interested in exercising\"), (17, '2019/07/04 8:27:53 AM GMT+5:30', 'RJ', 'Male', '15 to 18', '5', 'Good', '1 to 2 times a week', \"I'll become too tired\", 'Walking or jogging;Team sport', 'Alone', 'Early morning', '1 hour', 'Not always', 'Temptation and cravings', '3', 'No', 'No', 'I want to increase muscle mass and strength'), (18, '2019/07/04 8:28:19 AM GMT+5:30', 'Pranesh s', 'Male', '19 to 25', '3', 'Unfit', 'Never', \"I don't have enough time;I can't stay motivated;I'll become too tired;I have an injury\", 'Walking or jogging', 'Alone', 'Early morning', '1 hour', 'Not always', 'Temptation and cravings', '1', 'No', 'Yes', 'I want to be fit;I want to increase muscle mass and strength;I want to lose weight;I want to be flexible;I want to relieve stress'), (19, '2019/07/04 8:29:31 AM GMT+5:30', 'Prasath M', 'Male', '15 to 18', '3', 'Good', 'Everyday', \"I'll become too tired;I don't really enjoy exercising\", 'Walking or jogging', 'With a group', 'Early morning', '30 minutes', 'Not always', 'Temptation and cravings', '3', 'No', 'Yes', 'I want to increase muscle mass and strength;I want to lose weight;I want to be flexible'), (20, '2019/07/04 8:30:14 AM GMT+5:30', 'Mukund', 'Male', '19 to 25', '4', 'Average', '2 to 3 times a week', \"I don't have enough time;I'll become too tired\", 'Walking or jogging;Gym', 'Alone', 'Early morning', '30 minutes', 'Not always', 'Cost;Ease of access to fast food', '2', 'No', 'No', 'I want to be fit;I want to lose weight'), (21, '2019/07/04 8:30:50 AM GMT+5:30', 'Baalavignesh', 'Male', '19 to 25', '4', 'Good', 'Never', \"I don't have enough time;I'll become too tired\", \"Walking or jogging;I don't really exercise\", 'Alone', 'Evening', \"I don't really exercise\", 'No', 'Lack of time', '3', 'Yes', 'No', 'I want to be fit'), (22, '2019/07/04 8:31:06 AM GMT+5:30', 'Venu', 'Male', '40 and above', '3', 'Unfit', 'Never', \"I don't have enough time;I can't stay motivated\", \"I don't really exercise\", 'Alone', 'Early morning', \"I don't really exercise\", 'Yes', 'Lack of time', '2', 'Yes', 'Yes', 'I want to be fit;I want to be flexible;I want to relieve stress'), (23, '2019/07/04 8:32:01 AM GMT+5:30', 'Bhavesh V', 'Male', '15 to 18', '4', 'Average', '1 to 2 times a week', \"I can't stay motivated\", 'Walking or jogging;Team sport', 'Alone', 'Evening', '30 minutes', 'Not always', 'Ease of access to fast food', '3', 'No', 'No', 'I want to achieve a sporting goal'), (24, '2019/07/04 8:32:19 AM GMT+5:30', 'Aadhith', 'Male', '19 to 25', '3', 'Average', '3 to 4 times a week', \"I don't really enjoy exercising\", 'Team sport', 'With a group', 'Evening', '2 hours', 'Not always', 'Lack of time', '2', 'No', 'Yes', 'I want to relieve stress;I want to achieve a sporting goal'), (25, '2019/07/04 8:34:46 AM GMT+5:30', 'Yuktha', 'Female', '15 to 18', '2', 'Unfit', '2 to 3 times a week', \"I can't stay motivated\", 'Zumba dance', 'Alone', 'Evening', '30 minutes', 'Yes', 'Lack of time;Temptation and cravings', '3', 'No', 'Yes', 'I want to lose weight'), (26, '2019/07/04 8:35:27 AM GMT+5:30', 'Vignesh', 'Male', '19 to 25', '3', 'Good', '1 to 2 times a week', \"I can't stay motivated\", \"Walking or jogging;I don't really exercise\", 'Alone', 'Early morning', '30 minutes', 'Yes', 'Lack of time', '4', 'No', 'No', 'I want to be fit;I want to be flexible;I want to relieve stress'), (27, '2019/07/04 8:36:13 AM GMT+5:30', 'Lhavanya', 'Female', '19 to 25', '3', 'Average', '1 to 2 times a week', \"I don't have enough time\", 'Yoga', 'Alone', 'Early morning', '1 hour', 'Not always', 'Temptation and cravings', '4', 'No', 'No', 'I want to relieve stress'), (28, '2019/07/04 8:38:45 AM GMT+5:30', 'Karthikessh', 'Male', '15 to 18', '4', 'Good', 'Everyday', \"I'll become too tired\", 'Walking or jogging;Gym;Lifting weights;Team sport', 'With a group', 'Evening', '2 hours', 'No', 'Cost;Ease of access to fast food', '3', 'Yes', 'Yes', 'I want to be fit;I want to increase muscle mass and strength;I want to relieve stress'), (29, '2019/07/04 8:39:24 AM GMT+5:30', 'Aakash.V', 'Male', '15 to 18', '5', 'Very good', 'Everyday', \"I don't have enough time\", 'Walking or jogging;Gym;Lifting weights', 'With a friend', 'Evening', '1 hour', 'Not always', 'Cost', '4', 'Yes', 'Yes', 'I want to be fit;I want to increase muscle mass and strength'), (30, '2019/07/04 8:39:48 AM GMT+5:30', 'Vandana', 'Female', '19 to 25', '4', 'Good', '3 to 4 times a week', \"I don't have enough time\", 'Yoga', 'Alone', 'Early morning', '30 minutes', 'Yes', 'Temptation and cravings', '4', 'Yes', 'No', 'I want to be flexible'), (31, '2019/07/04 8:40:11 AM GMT+5:30', 'Ananya H', 'Female', '19 to 25', '3', 'Average', '1 to 2 times a week', \"I don't have enough time;I can't stay motivated\", 'Walking or jogging;Yoga', 'Alone', 'Early morning', '30 minutes', 'Not always', 'Temptation and cravings', '3', 'Yes', 'No', 'I want to be fit;I want to lose weight'), (32, '2019/07/04 8:40:51 AM GMT+5:30', 'Sagayamary', 'Female', '19 to 25', '3', 'Average', '3 to 4 times a week', \"I can't stay motivated;I'll become too tired\", 'Gym', 'Alone', 'Early morning', '30 minutes', 'No', 'Ease of access to fast food', '3', 'Yes', 'No', 'I want to be fit;I want to lose weight'), (33, '2019/07/04 8:41:01 AM GMT+5:30', 'Navin', 'Male', '15 to 18', '4', 'Average', '3 to 4 times a week', \"I don't have enough time;I can't stay motivated;I'll become too tired\", 'Walking or jogging;Gym;Yoga;Lifting weights', 'With a friend', 'Evening', '2 hours', 'Not always', 'Ease of access to fast food;Temptation and cravings', '3', 'No', 'No', 'I want to be fit;I want to increase muscle mass and strength;I want to lose weight'), (34, '2019/07/04 8:42:06 AM GMT+5:30', 'Ajay wk', 'Male', '19 to 25', '4', 'Unfit', '1 to 2 times a week', \"I don't have enough time;I can't stay motivated\", 'Yoga', 'Alone', 'Early morning', '30 minutes', 'Not always', 'Ease of access to fast food', '3', 'Yes', 'Yes', 'I want to be fit;I want to increase muscle mass and strength'), (35, '2019/07/04 8:42:22 AM GMT+5:30', 'Pushkaran.P', 'Male', '15 to 18', '5', 'Good', 'Everyday', 'I exercise regularly with no barriers', 'Gym;Swimming', 'With a friend', 'Early morning', '1 hour', 'Not always', 'Cost', '3', 'Yes', 'No', 'I want to be fit;Exercising gives you discipline and focus and removed bad thoughts from your mind.'), (36, '2019/07/04 8:42:29 AM GMT+5:30', 'Swaathi Reddy', 'Female', '19 to 25', '3', 'Average', 'Everyday', \"I don't have enough time\", 'Gym;Swimming', 'With a friend', 'Evening', '1 hour', 'Not always', 'Temptation and cravings', '3', 'Yes', 'No', 'I want to lose weight'), (37, '2019/07/04 8:42:45 AM GMT+5:30', 'Ashwath P', 'Male', '19 to 25', '4', 'Good', '2 to 3 times a week', \"I don't have enough time;I can't stay motivated\", 'Gym', 'Alone', 'Early morning', '1 hour', 'Not always', 'Ease of access to fast food;Temptation and cravings', '3', 'Yes', 'No', 'I want to be fit;I want to lose weight;I want to be flexible'), (38, '2019/07/04 8:43:01 AM GMT+5:30', 'Hashini.S.S', 'Female', '15 to 18', '4', 'Good', 'Everyday', \"I don't have enough time;I can't stay motivated;I am not regular in anything\", 'Gym;Team sport', 'With a group', 'Early morning', '1 hour', 'No', 'Ease of access to fast food', '2', 'Yes', 'No', 'I want to be fit'), (39, '2019/07/04 8:43:29 AM GMT+5:30', 'Yoganand', 'Male', '19 to 25', '5', 'Very good', '5 to 6 times a week', \"I don't have enough time;I exercise regularly with no barriers\", 'Gym;Lifting weights;Team sport', 'Alone', 'Early morning', '1 hour', 'Yes', 'Temptation and cravings', '4', 'Yes', 'Yes', 'I want to be fit;I want to increase muscle mass and strength;I want to be flexible;I want to relieve stress;I want to achieve a sporting goal'), (40, '2019/07/04 8:44:14 AM GMT+5:30', 'Mrudhula ', 'Female', '15 to 18', '4', 'Average', '1 to 2 times a week', \"I can't stay motivated\", 'Walking or jogging', 'With a group', 'Afternoon', '30 minutes', 'Not always', 'Ease of access to fast food;Temptation and cravings', '4', 'No', 'No', 'I want to be fit;I want to be flexible'), (41, '2019/07/04 8:45:39 AM GMT+5:30', 'Gowtham Prabhu ', 'Male', '19 to 25', '5', 'Average', 'Everyday', \"I don't have enough time\", 'Gym', 'With a friend', 'Evening', '2 hours', 'Not always', 'Temptation and cravings', '3', 'Yes', 'Yes', 'I want to be fit'), (42, '2019/07/04 8:46:11 AM GMT+5:30', 'Ishwaria', 'Female', '19 to 25', '4', 'Unfit', '1 to 2 times a week', \"I don't have enough time\", 'Walking or jogging', 'Alone', 'Evening', '30 minutes', 'No', 'Temptation and cravings', '2', 'Yes', 'Yes', 'I want to be fit'), (43, '2019/07/04 8:47:48 AM GMT+5:30', 'Deepthi', 'Female', '19 to 25', '4', 'Average', '1 to 2 times a week', \"I don't really enjoy exercising\", 'Walking or jogging', 'Alone', 'Evening', '30 minutes', 'Not always', 'Ease of access to fast food', '3', 'Yes', 'No', 'I want to be fit;I want to relieve stress'), (44, '2019/07/04 8:49:20 AM GMT+5:30', 'Vaishnavi', 'Female', '19 to 25', '2', 'Good', 'Never', \"I don't have enough time;I don't really enjoy exercising\", \"I don't really exercise\", 'Alone', 'Early morning', \"I don't really exercise\", 'Not always', 'Ease of access to fast food;Temptation and cravings', '3', 'Yes', 'Yes', 'I want to be fit;I want to lose weight'), (45, '2019/07/04 8:50:41 AM GMT+5:30', 'Sibi s', 'Male', '19 to 25', '3', 'Perfect', '2 to 3 times a week', \"I don't have enough time\", 'Walking or jogging;Swimming;Lifting weights', 'Alone', 'Early morning', '30 minutes', 'Yes', 'Lack of time', '4', 'No', 'No', 'I want to be fit'), (46, '2019/07/04 8:51:17 AM GMT+5:30', 'Mounica', 'Female', '19 to 25', '5', 'Average', '2 to 3 times a week', \"I can't stay motivated;I'll become too tired\", 'Walking or jogging;Gym;Yoga', 'Alone', 'Early morning', '1 hour', 'Not always', 'Lack of time', '3', 'Yes', 'Yes', 'I want to be fit;I want to lose weight;I want to be flexible;I want to relieve stress'), (47, '2019/07/04 8:51:34 AM GMT+5:30', 'Mothil', 'Male', '15 to 18', '3', 'Average', 'Never', \"I don't have enough time;I can't stay motivated;I'll become too tired\", 'Walking or jogging;Gym;Lifting weights', 'With a friend', 'Early morning', \"I don't really exercise\", 'Not always', 'Lack of time;Cost', '3', 'Yes', 'No', 'I want to be fit;I want to increase muscle mass and strength;I want to relieve stress'), (48, '2019/07/04 8:51:55 AM GMT+5:30', 'Sreeja', 'Female', '30 to 40', '4', 'Average', '1 to 2 times a week', \"I can't stay motivated\", \"Walking or jogging;I don't really exercise\", \"I don't really exercise\", 'Evening', '30 minutes', 'Not always', 'Lack of time', '3', 'Yes', 'No', 'I want to lose weight'), (49, '2019/07/04 8:52:30 AM GMT+5:30', 'Snehaa', 'Female', '19 to 25', '4', 'Good', '2 to 3 times a week', \"I don't have enough time;I can't stay motivated\", 'Walking or jogging;Yoga', 'Alone', 'Early morning', '30 minutes', 'Not always', 'Ease of access to fast food;Temptation and cravings', '3', 'No', 'Yes', 'I want to be fit;I want to lose weight;I want to be flexible'), (50, '2019/07/04 8:54:05 AM GMT+5:30', 'Rubiha', 'Female', '19 to 25', '4', 'Good', '1 to 2 times a week', \"I can't stay motivated\", 'Walking or jogging;Zumba dance;Team sport', 'With a friend', 'Evening', '30 minutes', 'Not always', 'Ease of access to fast food', '3', 'Yes', 'No', 'I want to be fit'), (51, '2019/07/04 8:56:12 AM GMT+5:30', 'Prasanna S', 'Male', '19 to 25', '4', 'Average', '5 to 6 times a week', \"I don't have enough time;I can't stay motivated\", 'Walking or jogging;Gym', 'With a friend', 'Evening', '1 hour', 'Yes', 'Ease of access to fast food;Temptation and cravings', '2', 'Yes', 'No', 'I want to be fit;I want to increase muscle mass and strength;I want to lose weight;I want to relieve stress'), (52, '2019/07/04 9:00:44 AM GMT+5:30', 'Vinithasri.S', 'Female', '19 to 25', '4', 'Average', '1 to 2 times a week', \"I don't have enough time\", 'Yoga', 'Alone', 'Evening', '30 minutes', 'Not always', 'Temptation and cravings', '4', 'Yes', 'Yes', 'I want to be fit;I want to lose weight;I want to be flexible'), (53, '2019/07/04 9:01:55 AM GMT+5:30', 'Nandhana shri', 'Female', '15 to 18', '4', 'Good', '2 to 3 times a week', \"I'll become too tired\", 'Walking or jogging;Zumba dance', 'With a group', 'Evening', '30 minutes', 'Yes', 'Temptation and cravings', '4', 'No', 'Yes', 'I want to be fit'), (54, '2019/07/04 9:02:55 AM GMT+5:30', 'Ray Elizabeth Dominic', 'Female', '15 to 18', '2', 'Unfit', 'Never', \"I don't have enough time;I can't stay motivated;I don't really enjoy exercising\", \"I don't really exercise\", \"I don't really exercise\", 'Early morning', \"I don't really exercise\", 'Not always', 'Ease of access to fast food;Temptation and cravings', '2', 'No', 'No', \"I'm sorry ... I'm not really interested in exercising\"), (55, '2019/07/04 9:11:18 AM GMT+5:30', 'Srinivasan Ravindran', 'Male', '40 and above', '5', 'Good', '3 to 4 times a week', 'I exercise regularly with no barriers', 'Walking or jogging', 'Alone', 'Evening', '30 minutes', 'Not always', 'Temptation and cravings', '3', 'Yes', 'Yes', 'I want to be fit;I want to lose weight;Control Diabetes '), (56, '2019/07/04 9:12:34 AM GMT+5:30', 'Sudarshan', 'Male', '19 to 25', '3', 'Good', '3 to 4 times a week', \"I'll become too tired\", 'Gym;Swimming;Lifting weights', 'With a friend', 'Early morning', '1 hour', 'Not always', 'Lack of time;Ease of access to fast food', '3', 'Yes', 'No', 'I want to be fit;I want to lose weight;I want to relieve stress'), (57, '2019/07/04 9:12:52 AM GMT+5:30', 'Varsha', 'Female', '19 to 25', '4', 'Good', '5 to 6 times a week', 'I am lazy', 'Team sport', 'With a group', 'Early morning', '1 hour', 'Yes', 'Temptation and cravings', '4', 'Yes', 'No', 'I want to be fit;I want to lose weight;I want to be flexible;I want to achieve a sporting goal'), (58, '2019/07/04 9:14:12 AM GMT+5:30', 'Depika B', 'Female', '19 to 25', '3', 'Good', '1 to 2 times a week', \"I can't stay motivated\", 'Walking or jogging', 'Alone', 'Evening', '30 minutes', 'Not always', 'Lack of time;Ease of access to fast food;Temptation and cravings', '3', 'Yes', 'No', 'I want to be fit;I want to be flexible'), (59, '2019/07/04 9:15:18 AM GMT+5:30', 'Abinandha', 'Female', '19 to 25', '4', 'Average', '2 to 3 times a week', \"I can't stay motivated\", 'Walking or jogging', 'Alone', 'Early morning', '30 minutes', 'Not always', 'Temptation and cravings', '4', 'Yes', 'No', 'I want to be fit;I want to lose weight;I want to be flexible'), (60, '2019/07/04 9:15:41 AM GMT+5:30', 'Dharani', 'Male', '15 to 18', '4', 'Good', '3 to 4 times a week', \"I don't have enough time\", 'Walking or jogging;Team sport', 'With a group', 'Evening', '2 hours', 'Not always', 'Temptation and cravings', '4', 'Yes', 'No', 'I want to be fit'), (61, '2019/07/04 9:16:17 AM GMT+5:30', 'Sebastin', 'Male', '19 to 25', '2', 'Unfit', 'Never', \"I don't have enough time;I can't stay motivated;I don't really enjoy exercising\", \"Team sport;I don't really exercise\", \"I don't really exercise\", 'Evening', \"I don't really exercise\", 'Yes', 'Ease of access to fast food;Temptation and cravings', '4', 'No', 'No', \"I want to increase muscle mass and strength;I'm sorry ... I'm not really interested in exercising\"), (62, '2019/07/04 9:16:38 AM GMT+5:30', 'Veerakumar', 'Male', '26 to 30', '5', 'Average', 'Never', \"I don't have enough time;I can't stay motivated\", \"I don't really exercise\", \"I don't really exercise\", 'Early morning', \"I don't really exercise\", 'No', 'Ease of access to fast food;Temptation and cravings', '4', 'No', 'No', 'I want to be fit;I want to increase muscle mass and strength;I want to lose weight'), (63, '2019/07/04 9:17:09 AM GMT+5:30', 'Raghul Prasanth', 'Male', '19 to 25', '5', 'Good', 'Everyday', 'I have an injury', 'Team sport', 'Alone', 'Early morning', '2 hours', 'Yes', 'Temptation and cravings', '4', 'Yes', 'No', 'I want to be fit;I want to lose weight;I want to relieve stress'), (64, '2019/07/04 9:17:17 AM GMT+5:30', 'Subash', 'Male', '19 to 25', '5', 'Average', 'Never', \"I don't have enough time\", 'Walking or jogging', 'With a friend', 'Early morning', '1 hour', 'No', 'Temptation and cravings', '4', 'Yes', 'No', 'I want to lose weight'), (65, '2019/07/04 9:18:14 AM GMT+5:30', 'Shiva', 'Female', '19 to 25', '3', 'Average', 'Never', \"I don't have enough time;I can't stay motivated\", \"I don't really exercise\", \"I don't really exercise\", 'Early morning', \"I don't really exercise\", 'No', 'Ease of access to fast food', '3', 'Yes', 'No', 'I want to relieve stress'), (66, '2019/07/04 9:20:11 AM GMT+5:30', 'Pavithra ', 'Female', '26 to 30', '4', 'Good', 'Never', \"I'll become too tired\", 'Walking or jogging', 'With a friend', 'Evening', \"I don't really exercise\", 'Not always', 'Temptation and cravings', '3', 'No', 'No', 'I want to be flexible'), (67, '2019/07/04 9:21:28 AM GMT+5:30', 'Pavithra', 'Female', '15 to 18', '4', 'Good', '1 to 2 times a week', \"I don't have enough time;I'll become too tired;I have an injury\", 'Walking or jogging;Gym', 'Alone', 'Evening', '1 hour', 'Not always', 'Temptation and cravings', '3', 'Yes', 'No', 'I want to be fit;I want to increase muscle mass and strength;I want to relieve stress'), (68, '2019/07/04 9:21:37 AM GMT+5:30', 'Mahalakshmi ', 'Female', '40 and above', '5', 'Good', '2 to 3 times a week', \"I can't stay motivated\", 'Yoga', 'Alone', 'Early morning', '30 minutes', 'Not always', 'Ease of access to fast food', '3', 'Yes', 'No', 'I want to be fit'), (69, '2019/07/04 9:23:26 AM GMT+5:30', 'Suraj', 'Male', '19 to 25', '5', 'Good', 'Everyday', 'I exercise regularly with no barriers', 'Team sport', 'Alone', 'Early morning', '30 minutes', 'Not always', 'Ease of access to fast food', '4', 'Yes', 'No', 'I want to lose weight'), (70, '2019/07/04 9:25:09 AM GMT+5:30', 'Manjari', 'Female', '19 to 25', '3', 'Good', 'Never', \"I can't stay motivated;Laziness \", \"Walking or jogging;I don't really exercise\", \"I don't really exercise\", 'Early morning', \"I don't really exercise\", 'Not always', 'Ease of access to fast food;Temptation and cravings', '4', 'No', 'No', 'I want to be fit;I want to be flexible;To maintain healthy body and mind'), (71, '2019/07/04 9:25:32 AM GMT+5:30', 'Mahalakshmi', 'Female', '19 to 25', '3', 'Good', '1 to 2 times a week', \"I can't stay motivated;I'll become too tired\", 'Yoga', 'Alone', 'Early morning', '30 minutes', 'Not always', 'Ease of access to fast food;Temptation and cravings', '3', 'Yes', 'Yes', 'I want to be flexible;I want to relieve stress'), (72, '2019/07/04 9:25:45 AM GMT+5:30', 'Navaneethakrishnan ', 'Male', '40 and above', '4', 'Good', '2 to 3 times a week', \"I don't have enough time\", 'Team sport', 'With a group', 'Evening', '1 hour', 'Yes', 'Cost', '4', 'Yes', 'Yes', 'I want to be flexible;I want to relieve stress'), (73, '2019/07/04 9:26:26 AM GMT+5:30', 'Mrs. Jagadeeswari Ravi', 'Female', '40 and above', '3', 'Average', '1 to 2 times a week', \"I'll become too tired;I have an injury\", 'Walking or jogging', 'Alone', 'Early morning', '30 minutes', 'Not always', 'Temptation and cravings', '3', 'Yes', 'Yes', 'I want to lose weight;I want to be flexible'), (74, '2019/07/04 9:26:41 AM GMT+5:30', 'Joy', 'Female', '40 and above', '5', 'Average', 'Never', \"I don't really enjoy exercising\", \"I don't really exercise\", \"I don't really exercise\", 'Early morning', \"I don't really exercise\", 'Not always', 'Lack of time', '3', 'No', 'Yes', \"I'm sorry ... I'm not really interested in exercising\"), (75, '2019/07/04 9:27:10 AM GMT+5:30', 'Suriya', 'Male', '19 to 25', '5', 'Average', '1 to 2 times a week', \"I don't have enough time;I can't stay motivated\", 'Walking or jogging;Lifting weights', 'Alone', 'Evening', '30 minutes', 'No', 'Ease of access to fast food;Temptation and cravings', '3', 'No', 'Yes', 'I want to be fit;I want to increase muscle mass and strength'), (76, '2019/07/04 9:27:50 AM GMT+5:30', 'Somana Venkatesh ', 'Female', '30 to 40', '5', 'Average', '2 to 3 times a week', \"I don't have enough time;I'll become too tired\", 'Walking or jogging;Yoga', 'Within a class environment', 'Early morning', '1 hour', 'Not always', 'Temptation and cravings', '3', 'Yes', 'No', 'I want to be fit;I want to lose weight;I want to be flexible;I want to relieve stress'), (77, '2019/07/04 9:28:40 AM GMT+5:30', 'Akila', 'Female', '19 to 25', '3', 'Average', '5 to 6 times a week', \"I can't stay motivated\", 'Yoga', 'With a friend', 'Early morning', \"I don't really exercise\", 'No', 'Ease of access to fast food;Temptation and cravings', '5', 'Yes', 'No', 'I want to be flexible'), (78, '2019/07/04 9:29:06 AM GMT+5:30', 'S.Varsha', 'Female', '19 to 25', '4', 'Good', 'Everyday', 'I exercise regularly with no barriers', 'Walking or jogging;Team sport', 'Alone', 'Evening', '2 hours', 'Yes', 'Temptation and cravings', '4', 'Yes', 'Yes', 'I want to be fit'), (79, '2019/07/04 9:29:28 AM GMT+5:30', 'Madhavan', 'Male', '40 and above', '4', 'Average', '3 to 4 times a week', \"I don't have enough time;I can't stay motivated;I don't really enjoy exercising\", 'Walking or jogging;Gym', 'Alone', 'Early morning', '30 minutes', 'Yes', 'Temptation and cravings', '3', 'Yes', 'Yes', 'I want to lose weight'), (80, '2019/07/04 9:29:38 AM GMT+5:30', 'Ragu', 'Male', '26 to 30', '2', 'Average', '1 to 2 times a week', \"I don't have enough time;I can't stay motivated\", 'Walking or jogging;Lifting weights', 'With a friend', 'Early morning', '30 minutes', 'Not always', 'Temptation and cravings', '3', 'No', 'Yes', 'I want to increase muscle mass and strength;I want to lose weight'), (81, '2019/07/04 9:29:50 AM GMT+5:30', 'Keerthi P', 'Female', '19 to 25', '5', 'Unfit', '1 to 2 times a week', \"I can't stay motivated\", 'Gym', 'Alone', 'Early morning', '1 hour', 'Not always', 'Temptation and cravings', '3', 'Yes', 'Yes', 'I want to lose weight'), (82, '2019/07/04 9:30:44 AM GMT+5:30', 'Rajesh C', 'Male', '40 and above', '5', 'Very good', '3 to 4 times a week', 'I exercise regularly with no barriers', 'Walking or jogging;Gym;Lifting weights', 'Within a class environment', 'Evening', '2 hours', 'Yes', 'Temptation and cravings', '4', 'Yes', 'Yes', 'I want to be fit;I want to increase muscle mass and strength;I want to lose weight;I want to be flexible;I want to relieve stress'), (83, '2019/07/04 9:31:00 AM GMT+5:30', 'Praveen Krishnan', 'Male', '40 and above', '5', 'Good', '3 to 4 times a week', \"I don't have enough time;I can't stay motivated\", 'Walking or jogging;Gym', 'With a friend', 'Evening', '1 hour', 'Yes', 'Temptation and cravings', '4', 'No', 'No', 'I want to be fit;I want to lose weight'), (84, '2019/07/04 9:31:32 AM GMT+5:30', 'Suganya Prabhu', 'Female', '30 to 40', '3', 'Average', '3 to 4 times a week', \"I don't have enough time\", 'Walking or jogging', 'Alone', 'Early morning', '30 minutes', 'Not always', 'Temptation and cravings', '3', 'Yes', 'No', 'I want to lose weight'), (85, '2019/07/04 9:33:00 AM GMT+5:30', 'vaishnavj', 'Female', '19 to 25', '3', 'Average', 'Never', \"I can't stay motivated;I don't really enjoy exercising\", \"I don't really exercise\", \"I don't really exercise\", 'Early morning', \"I don't really exercise\", 'Not always', 'Temptation and cravings', '3', 'No', 'No', \"I want to be fit;I want to increase muscle mass and strength;I want to lose weight;I'm sorry ... I'm not really interested in exercising\"), (86, '2019/07/04 9:34:55 AM GMT+5:30', 'Vasundara ', 'Female', '30 to 40', '4', 'Average', '2 to 3 times a week', \"I don't have enough time\", 'Walking or jogging', 'Alone', 'Early morning', '30 minutes', 'Not always', 'Lack of time', '3', 'No', 'No', 'I want to be fit;I want to lose weight'), (87, '2019/07/04 9:35:22 AM GMT+5:30', 'Vidya ', 'Female', '40 and above', '5', 'Very good', '1 to 2 times a week', \"I'll become too tired\", 'Walking or jogging', 'Alone', 'Evening', '30 minutes', 'Not always', 'Temptation and cravings', '3', 'Yes', 'Yes', 'I want to lose weight'), (88, '2019/07/04 9:36:05 AM GMT+5:30', 'Sunderesan', 'Male', '40 and above', '5', 'Good', '3 to 4 times a week', 'I exercise regularly with no barriers', 'Walking or jogging;Gym;Lifting weights', 'With a group', 'Early morning', '1 hour', 'Not always', 'Lack of time', '4', 'Yes', 'Yes', 'I want to be fit;I want to be flexible;I want to achieve a sporting goal'), (89, '2019/07/04 9:39:37 AM GMT+5:30', 'Anand', 'Male', '40 and above', '5', 'Good', '2 to 3 times a week', \"I don't have enough time\", 'Walking or jogging;Gym', 'Alone', 'Early morning', '1 hour', 'Yes', 'Lack of time', '4', 'Yes', 'Yes', 'I want to be fit;I want to be flexible;I want to relieve stress'), (90, '2019/07/04 9:39:57 AM GMT+5:30', 'Vaishnavi', 'Female', '40 and above', '5', 'Average', '3 to 4 times a week', 'I have an injury', 'Walking or jogging', 'Alone', 'Early morning', '30 minutes', 'Not always', 'Temptation and cravings', '3', 'No', 'No', 'I want to relieve stress'), (91, '2019/07/04 9:42:49 AM GMT+5:30', 'S Vijayakumar ', 'Male', '40 and above', '4', 'Good', '2 to 3 times a week', \"I'll become too tired\", 'Walking or jogging;Yoga;Team sport', 'Alone', 'Early morning', '30 minutes', 'No', 'Temptation and cravings', '4', 'Yes', 'Yes', 'I want to be fit;I want to increase muscle mass and strength;I want to be flexible'), (92, '2019/07/04 9:43:23 AM GMT+5:30', 'Atul', 'Male', '19 to 25', '4', 'Average', '2 to 3 times a week', \"I don't have enough time\", 'Walking or jogging;Gym', 'Alone', 'Evening', '1 hour', 'Not always', 'Lack of time;Cost', '2', 'No', 'Yes', 'I want to be fit;I want to lose weight'), (93, '2019/07/04 9:43:56 AM GMT+5:30', 'Bhargavi', 'Female', '19 to 25', '4', 'Unfit', '1 to 2 times a week', \"I don't have enough time\", 'Swimming', 'Alone', 'Evening', \"I don't really exercise\", 'Not always', 'Lack of time', '3', 'No', 'Yes', 'I want to be fit;I want to lose weight;I want to relieve stress'), (94, '2019/07/04 9:45:10 AM GMT+5:30', 'Thenmozhi', 'Female', '19 to 25', '5', 'Average', 'Everyday', \"I don't have enough time;I'll become too tired\", 'Gym', 'Alone', 'Evening', '2 hours', 'No', 'Lack of time;Ease of access to fast food', '3', 'Yes', 'Yes', 'I want to increase muscle mass and strength;I want to lose weight;I want to relieve stress'), (95, '2019/07/04 9:45:24 AM GMT+5:30', 'Sujini Venugopalan', 'Female', '40 and above', '5', 'Good', 'Never', \"I don't have enough time\", \"I don't really exercise\", \"I don't really exercise\", 'Evening', \"I don't really exercise\", 'Yes', 'Temptation and cravings', '3', 'Yes', 'Yes', 'I want to lose weight;I want to relieve stress'), (96, '2019/07/04 9:49:05 AM GMT+5:30', 'Anil Z Antony', 'Male', '40 and above', '4', 'Very good', '5 to 6 times a week', 'I exercise regularly with no barriers', 'Walking or jogging', 'Alone', 'Early morning', '1 hour', 'Not always', 'Ease of access to fast food', '3', 'No', 'Yes', 'I want to be fit'), (97, '2019/07/04 9:52:32 AM GMT+5:30', 'Kavipriya', 'Female', '19 to 25', '5', 'Good', '3 to 4 times a week', \"I can't stay motivated\", 'Walking or jogging;Yoga', 'Alone', 'Early morning', '30 minutes', 'Not always', 'Temptation and cravings', '4', 'Yes', 'No', 'I want to be fit;I want to be flexible'), (98, '2019/07/04 9:53:28 AM GMT+5:30', 'Elango', 'Male', '26 to 30', '5', 'Good', '2 to 3 times a week', \"I don't have enough time;I can't stay motivated\", 'Gym;Lifting weights', 'Within a class environment', 'Early morning', '1 hour', 'Not always', 'Cost', '4', 'Yes', 'No', 'I want to be fit;I want to lose weight'), (99, '2019/07/04 9:54:14 AM GMT+5:30', 'Deepan ', 'Male', '15 to 18', '5', 'Average', '1 to 2 times a week', \"I don't have enough time;I can't stay motivated\", 'Walking or jogging;Gym;Swimming', 'With a group', 'Early morning', '1 hour', 'Not always', 'Temptation and cravings', '2', 'Yes', 'No', 'I want to be fit;I want to lose weight'), (100, '2019/07/04 9:55:39 AM GMT+5:30', 'Sabari Raaj', 'Male', '19 to 25', '3', 'Average', '5 to 6 times a week', \"I don't have enough time\", 'Gym', 'Alone', 'Evening', '1 hour', 'No', 'Lack of time', '4', 'Yes', 'Yes', 'I want to be fit;I want to increase muscle mass and strength'), (101, '2019/07/04 9:57:28 AM GMT+5:30', 'Geetha', 'Female', '40 and above', '4', 'Good', 'Everyday', 'I exercise regularly with no barriers', 'Yoga', 'Alone', 'Early morning', '30 minutes', 'Not always', 'Lack of time', '4', 'Yes', 'No', 'I want to be flexible'), (102, '2019/07/04 9:57:50 AM GMT+5:30', 'A Harish Kumar', 'Male', '19 to 25', '5', 'Very good', '2 to 3 times a week', \"I don't have enough time;I can't stay motivated\", 'Walking or jogging;Gym;Team sport', 'Alone', 'Evening', '1 hour', 'Not always', 'Temptation and cravings', '4', 'Yes', 'Yes', 'I want to be fit;I want to increase muscle mass and strength'), (103, '2019/07/04 9:58:31 AM GMT+5:30', 'Venkatraman', 'Male', '15 to 18', '5', 'Very good', 'Everyday', 'I exercise regularly with no barriers', 'Team sport', 'With a group', 'Early morning', '2 hours', 'Not always', 'Temptation and cravings', '4', 'Yes', 'No', 'I want to achieve a sporting goal'), (104, '2019/07/04 10:02:54 AM GMT+5:30', 'Surya Subburam', 'Male', '19 to 25', '4', 'Good', '3 to 4 times a week', \"I'll become too tired\", 'Walking or jogging', 'With a group', 'Evening', '1 hour', 'Yes', 'Temptation and cravings', '4', 'No', 'No', 'I want to be fit'), (105, '2019/07/04 10:03:13 AM GMT+5:30', 'Mystic', 'Female', '15 to 18', '4', 'Average', 'Everyday', \"I can't stay motivated\", 'Yoga', 'Alone', 'Early morning', '30 minutes', 'No', 'Temptation and cravings', '3', 'Yes', 'No', 'I want to be fit;I want to be flexible;I want to relieve stress'), (106, '2019/07/04 10:11:34 AM GMT+5:30', 'Saroja K K', 'Female', '19 to 25', '3', 'Good', '1 to 2 times a week', \"I don't have enough time;I don't really enjoy exercising\", 'Walking or jogging;Yoga', 'Alone', 'Early morning', '30 minutes', 'Not always', 'Ease of access to fast food', '3', 'No', 'Yes', 'I want to be fit;I want to lose weight'), (107, '2019/07/04 10:15:19 AM GMT+5:30', 'S muruganandam ', 'Male', '40 and above', '5', 'Good', 'Everyday', 'I exercise regularly with no barriers', 'Walking or jogging', 'Alone', 'Early morning', '30 minutes', 'Not always', 'Lack of time', '3', 'Yes', 'Yes', 'I want to be fit'), (108, '2019/07/04 10:21:50 AM GMT+5:30', 'Raghul S', 'Male', '15 to 18', '3', 'Good', '1 to 2 times a week', \"I don't have enough time;I can't stay motivated\", 'Walking or jogging', 'Alone', 'Early morning', '1 hour', 'Not always', 'Temptation and cravings', '4', 'Yes', 'No', 'I want to be fit;I want to increase muscle mass and strength;I want to be flexible'), (109, '2019/07/04 10:22:22 AM GMT+5:30', 'B NAMRATHA SHREE', 'Female', '15 to 18', '4', 'Average', '1 to 2 times a week', \"I'll become too tired\", 'Walking or jogging;Gym', 'Alone', 'Early morning', '1 hour', 'Not always', 'Temptation and cravings', '4', 'Yes', 'Yes', 'I want to lose weight'), (110, '2019/07/04 10:25:23 AM GMT+5:30', 'AR. Subbharaaman', 'Male', '40 and above', '5', 'Good', '1 to 2 times a week', \"I don't have enough time\", 'Walking or jogging', 'Alone', 'Early morning', '1 hour', 'Not always', 'Temptation and cravings', '3', 'No', 'No', 'I want to be fit'), (111, '2019/07/04 10:27:25 AM GMT+5:30', 'Kannan', 'Male', '19 to 25', '3', 'Average', '1 to 2 times a week', \"I can't stay motivated;I'll become too tired\", 'Walking or jogging;Gym', 'Alone', 'Early morning', '1 hour', 'Not always', 'Lack of time', '3', 'No', 'No', 'I want to be fit;I want to think clearly and I want to play cricket with my grandkids'), (112, '2019/07/04 10:29:38 AM GMT+5:30', 'RM.Sivanandham', 'Male', '15 to 18', '2', 'Average', 'Never', \"I don't really enjoy exercising\", 'Gym', 'Alone', 'Evening', '30 minutes', 'Not always', 'Ease of access to fast food', '2', 'No', 'No', 'I want to increase muscle mass and strength'), (113, '2019/07/04 10:30:00 AM GMT+5:30', 'Sivaram', 'Male', '15 to 18', '3', 'Average', 'Never', \"I don't really enjoy exercising\", \"Team sport;I don't really exercise\", \"I don't really exercise\", 'Evening', \"I don't really exercise\", 'Not always', 'Lack of time;Ease of access to fast food;Temptation and cravings', '3', 'Yes', 'No', \"I'm sorry ... I'm not really interested in exercising\"), (114, '2019/07/04 10:30:50 AM GMT+5:30', 'Abhirami sotta', 'Female', '15 to 18', '4', 'Average', 'Never', \"I can't stay motivated\", \"I don't really exercise\", 'Alone', 'Evening', \"I don't really exercise\", 'Yes', 'Temptation and cravings', '3', 'No', 'Yes', \"I'm sorry ... I'm not really interested in exercising\"), (115, '2019/07/04 10:31:17 AM GMT+5:30', 'Rethik Nirmal.V', 'Male', '15 to 18', '4', 'Good', 'Everyday', 'I exercise regularly with no barriers', 'Gym;Swimming;Lifting weights', 'Alone', 'Evening', '2 hours', 'Not always', 'Temptation and cravings', '5', 'No', 'Yes', 'I want to be fit;I want to achieve a sporting goal'), (116, '2019/07/04 10:31:35 AM GMT+5:30', 'Sai Karthik R', 'Male', '15 to 18', '4', 'Good', '1 to 2 times a week', \"I don't have enough time\", 'Team sport', 'With a friend', 'Afternoon', '2 hours', 'Not always', 'Temptation and cravings', '4', 'Yes', 'No', 'I want to be fit'), (117, '2019/07/04 10:32:53 AM GMT+5:30', 'Kiran G', 'Male', '19 to 25', '3', 'Average', 'Never', \"I don't have enough time;I can't stay motivated;I have an injury\", \"I don't really exercise\", \"I don't really exercise\", 'Early morning', \"I don't really exercise\", 'Not always', 'Temptation and cravings', '3', 'No', 'No', 'I want to be fit;I want to relieve stress'), (118, '2019/07/04 10:32:56 AM GMT+5:30', 'premeetha', 'Female', '15 to 18', '4', 'Average', '1 to 2 times a week', \"I can't stay motivated\", 'Walking or jogging', 'With a friend', 'Evening', '30 minutes', 'No', 'Temptation and cravings', '3', 'Yes', 'Yes', 'I want to be fit'), (119, '2019/07/04 10:34:10 AM GMT+5:30', 'Jaswanth Krishna', 'Male', '19 to 25', '4', 'Perfect', 'Everyday', \"I don't have enough time\", 'Walking or jogging;Lifting weights', 'Alone', 'Evening', '30 minutes', 'Not always', 'Ease of access to fast food', '4', 'Yes', 'Yes', 'I want to be fit'), (120, '2019/07/04 10:35:05 AM GMT+5:30', 'Dinakar', 'Male', '19 to 25', '4', 'Perfect', '5 to 6 times a week', \"I don't have enough time;I can't stay motivated\", 'Gym;Team sport', 'With a group', 'Early morning', '2 hours', 'No', 'Ease of access to fast food;Temptation and cravings', '3', 'Yes', 'Yes', 'I want to increase muscle mass and strength;I want to achieve a sporting goal'), (121, '2019/07/04 10:39:07 AM GMT+5:30', 'Sobia', 'Female', '19 to 25', '3', 'Average', '1 to 2 times a week', \"I'll become too tired\", 'Walking or jogging;Swimming', 'With a friend', 'Evening', '30 minutes', 'Yes', 'Ease of access to fast food', '3', 'Yes', 'Yes', 'I want to be fit'), (122, '2019/07/04 10:39:09 AM GMT+5:30', 'Bhargavi', 'Female', '19 to 25', '3', 'Average', '5 to 6 times a week', \"I don't have enough time;I can't stay motivated\", 'Walking or jogging', 'Alone', 'Early morning', '30 minutes', 'Not always', 'Temptation and cravings', '3', 'No', 'No', 'I want to lose weight'), (123, '2019/07/04 10:39:58 AM GMT+5:30', 'Shubh', 'Male', '15 to 18', '1', 'Average', '1 to 2 times a week', \"I don't have enough time\", 'Walking or jogging', 'Alone', 'Early morning', '30 minutes', 'No', 'Temptation and cravings', '3', 'No', 'No', 'I want to be fit'), (124, '2019/07/04 10:41:00 AM GMT+5:30', 'Malavika V Deepak', 'Female', '15 to 18', '5', 'Good', '1 to 2 times a week', \"I don't have enough time;I can't stay motivated\", 'Walking or jogging', 'With a friend', 'Evening', '2 hours', 'No', 'Temptation and cravings', '3', 'Yes', 'No', 'I want to be fit;I want to be flexible;I want to relieve stress'), (125, '2019/07/04 10:42:57 AM GMT+5:30', 'Janani', 'Female', '15 to 18', '5', 'Unfit', 'Never', \"I can't stay motivated\", \"I don't really exercise\", \"I don't really exercise\", 'Early morning', \"I don't really exercise\", 'No', 'Temptation and cravings', '1', 'Yes', 'Yes', 'I want to lose weight'), (126, '2019/07/04 10:43:51 AM GMT+5:30', 'J ALAGESWARAN', 'Male', '19 to 25', '5', 'Average', 'Everyday', \"I don't have enough time;I can't stay motivated\", 'Walking or jogging', 'Alone', 'Evening', '30 minutes', 'Not always', 'Lack of time', '3', 'Yes', 'No', 'I want to increase muscle mass and strength;I want to relieve stress'), (127, '2019/07/04 10:44:33 AM GMT+5:30', 'Karthik', 'Male', '19 to 25', '5', 'Perfect', 'Everyday', 'I exercise regularly with no barriers', 'Swimming;Team sport', 'With a group', 'Evening', '3 hours and above', 'Yes', 'Lack of time', '5', 'Yes', 'Yes', 'I want to be fit;I want to be flexible;I want to achieve a sporting goal'), (128, '2019/07/04 10:46:02 AM GMT+5:30', 'Deeptha N B', 'Female', '15 to 18', '5', 'Good', 'Everyday', \"I don't have enough time;I exercise regularly with no barriers\", 'Gym', 'With a friend', 'Evening', '2 hours', 'Yes', 'Ease of access to fast food;Temptation and cravings', '3', 'Yes', 'Yes', 'I want to be fit;I want to lose weight;I want to be flexible'), (129, '2019/07/04 10:51:53 AM GMT+5:30', 'Shama', 'Female', '19 to 25', '3', 'Good', 'Everyday', \"I don't have enough time\", 'Zumba dance', 'With a group', 'Early morning', '2 hours', 'Not always', 'Lack of time', '3', 'Yes', 'No', 'I want to increase muscle mass and strength'), (130, '2019/07/04 10:52:36 AM GMT+5:30', 'Bhavadharani Balaji', 'Female', '15 to 18', '4', 'Good', 'Everyday', \"I don't have enough time;I can't stay motivated;I'll become too tired\", 'Walking or jogging', 'With a group', 'Evening', '30 minutes', 'Not always', 'Lack of time;Temptation and cravings', '5', 'No', 'No', 'I want to lose weight'), (131, '2019/07/04 10:54:49 AM GMT+5:30', 'Afshiyaa Ameen', 'Female', '15 to 18', '3', 'Good', 'Everyday', \"I'm too lazy\", 'Walking or jogging', 'With a friend', 'Evening', '30 minutes', 'No', 'Ease of access to fast food', '3', 'No', 'No', 'I dont wanna gain weight😉'), (132, '2019/07/04 10:59:14 AM GMT+5:30', 'Balaganesh S', 'Male', '19 to 25', '5', 'Good', 'Everyday', 'I exercise regularly with no barriers', 'Walking or jogging;Yoga', 'Alone', 'Early morning', '30 minutes', 'No', 'Temptation and cravings', '3', 'No', 'No', 'I want to be fit;I want to increase muscle mass and strength;I want to lose weight'), (133, '2019/07/04 11:04:51 AM GMT+5:30', 'Reeja', 'Female', '30 to 40', '5', 'Average', 'Everyday', 'I exercise regularly with no barriers', 'Yoga', 'Alone', 'Early morning', '30 minutes', 'Yes', 'Temptation and cravings', '3', 'No', 'No', 'I want to be fit'), (134, '2019/07/04 11:07:40 AM GMT+5:30', 'Kalavathi', 'Female', '15 to 18', '2', 'Unfit', 'Never', \"I don't really enjoy exercising\", \"I don't really exercise\", \"I don't really exercise\", 'Early morning', \"I don't really exercise\", 'No', 'Temptation and cravings', '1', 'Yes', 'No', \"I'm sorry ... I'm not really interested in exercising\"), (135, '2019/07/04 11:07:53 AM GMT+5:30', 'Rajapriya', 'Female', '40 and above', '2', 'Unfit', '1 to 2 times a week', \"I don't really enjoy exercising\", \"Walking or jogging;I don't really exercise\", \"I don't really exercise\", 'Evening', \"I don't really exercise\", 'Not always', 'Temptation and cravings', '1', 'No', 'No', \"I'm sorry ... I'm not really interested in exercising\"), (136, '2019/07/04 11:09:49 AM GMT+5:30', 'Shwetha', 'Female', '15 to 18', '4', 'Average', '1 to 2 times a week', \"I don't have enough time;I can't stay motivated\", 'Walking or jogging;Yoga', 'Within a class environment', 'Evening', '30 minutes', 'Not always', 'Temptation and cravings', '3', 'Yes', 'No', 'I want to increase muscle mass and strength;I want to relieve stress'), (137, '2019/07/04 11:10:41 AM GMT+5:30', 'Naazneen', 'Female', '19 to 25', '3', 'Average', 'Never', \"I can't stay motivated\", \"I don't really exercise\", \"I don't really exercise\", 'Evening', \"I don't really exercise\", 'Yes', 'Temptation and cravings', '3', 'No', 'Yes', 'I want to be fit'), (138, '2019/07/04 11:14:59 AM GMT+5:30', 'Janet', 'Female', '15 to 18', '2', 'Good', '1 to 2 times a week', \"I don't have enough time\", 'Walking or jogging', 'Alone', 'Evening', '30 minutes', 'Not always', 'Temptation and cravings', '4', 'No', 'No', 'I want to be fit'), (139, '2019/07/04 11:19:33 AM GMT+5:30', 'Sreelatha R', 'Female', '30 to 40', '3', 'Good', '2 to 3 times a week', \"I don't really enjoy exercising\", 'Walking or jogging', 'Alone', 'Early morning', '30 minutes', 'Not always', 'Lack of time;Cost', '3', 'Yes', 'No', 'I want to be fit;I want to lose weight;I want to be flexible;I want to relieve stress'), (140, '2019/07/04 11:22:46 AM GMT+5:30', 'Rajesh ', 'Male', '40 and above', '5', 'Good', '1 to 2 times a week', \"I can't stay motivated\", 'Walking or jogging', 'Alone', 'Evening', '30 minutes', 'Yes', 'Temptation and cravings', '4', 'Yes', 'Yes', 'I want to be flexible'), (141, '2019/07/04 11:28:32 AM GMT+5:30', 'GOWTHAM', 'Male', '19 to 25', '3', 'Average', '1 to 2 times a week', \"I don't have enough time;I'll become too tired\", 'Walking or jogging;Team sport', 'Alone', 'Early morning', '30 minutes', 'Not always', 'Lack of time;Temptation and cravings', '3', 'Yes', 'No', 'I want to be fit;I want to be flexible'), (142, '2019/07/04 11:31:09 AM GMT+5:30', 'G Saravana Perumal', 'Male', '40 and above', '5', 'Average', '1 to 2 times a week', 'I have an injury', 'Walking or jogging', 'Alone', 'Early morning', '30 minutes', 'Yes', 'Temptation and cravings', '3', 'Yes', 'Yes', 'I want to be fit;I want to increase muscle mass and strength;I want to be flexible;I want to relieve stress'), (143, '2019/07/04 11:32:31 AM GMT+5:30', 'Geetha Saravanan', 'Female', '40 and above', '2', 'Good', 'Never', \"I don't have enough time;I can't stay motivated\", \"I don't really exercise\", \"I don't really exercise\", 'Evening', \"I don't really exercise\", 'Not always', 'Temptation and cravings', '3', 'No', 'Yes', 'I want to lose weight;I want to relieve stress'), (144, '2019/07/04 11:34:24 AM GMT+5:30', 'Sindhupriya', 'Female', '19 to 25', '4', 'Good', '1 to 2 times a week', \"I don't have enough time;I can't stay motivated\", 'Gym', 'With a friend', 'Evening', '30 minutes', 'Not always', 'Lack of time;Temptation and cravings', '3', 'No', 'No', 'I want to be fit;I want to be flexible'), (145, '2019/07/04 11:34:55 AM GMT+5:30', 'Ravi V', 'Male', '40 and above', '5', 'Very good', '5 to 6 times a week', 'I exercise regularly with no barriers', 'Yoga;Team sport', 'With a group', 'Early morning', '2 hours', 'Yes', 'Lack of time', '5', 'Yes', 'No', 'I want to be fit'), (146, '2019/07/04 11:39:33 AM GMT+5:30', 'R. B. Ranjith ', 'Male', '30 to 40', '5', 'Good', '5 to 6 times a week', 'I exercise regularly with no barriers', 'Walking or jogging;Gym', 'Alone', 'Early morning', '1 hour', 'Yes', 'Temptation and cravings', '5', 'Yes', 'Yes', 'I want to be fit'), (147, '2019/07/04 11:41:07 AM GMT+5:30', 'Arjun', 'Male', '26 to 30', '3', 'Average', '1 to 2 times a week', \"I can't stay motivated\", 'Walking or jogging;Gym;Swimming', 'Alone', 'Early morning', '30 minutes', 'Not always', 'Ease of access to fast food', '3', 'No', 'No', 'I want to be fit;I want to lose weight'), (148, '2019/07/04 11:42:26 AM GMT+5:30', 'Mahesh ', 'Male', '40 and above', '4', 'Average', '2 to 3 times a week', \"I can't stay motivated\", 'Walking or jogging', 'Alone', 'Evening', '1 hour', 'Not always', 'Ease of access to fast food;Temptation and cravings', '3', 'No', 'No', 'I want to be fit'), (149, '2019/07/04 11:42:59 AM GMT+5:30', 'Bharathi ', 'Female', '15 to 18', '5', 'Average', 'Never', 'Laziness', \"I don't really exercise\", \"I don't really exercise\", 'Evening', \"I don't really exercise\", 'Not always', 'Temptation and cravings', '3', 'Yes', 'Yes', 'I want to increase muscle mass and strength'), (150, '2019/07/04 11:46:22 AM GMT+5:30', 'Shreenidhi', 'Female', '19 to 25', '4', 'Good', 'Never', 'Lazy', 'Walking or jogging', \"I don't really exercise\", 'Early morning', \"I don't really exercise\", 'Not always', 'Temptation and cravings', '4', 'Yes', 'No', 'I want to be flexible'), (151, '2019/07/04 11:48:34 AM GMT+5:30', 'Udhayageetha ', 'Female', '40 and above', '5', 'Average', '1 to 2 times a week', \"I can't stay motivated\", 'Gym', 'Alone', 'Evening', '1 hour', 'No', 'Ease of access to fast food', '2', 'Yes', 'Yes', 'I want to lose weight;I want to be flexible'), (152, '2019/07/04 11:49:44 AM GMT+5:30', 'Saravanan.S', 'Male', '40 and above', '5', 'Good', '1 to 2 times a week', \"I don't have enough time\", 'Walking or jogging', 'Alone', 'Early morning', '30 minutes', 'Not always', 'Lack of time', '3', 'Yes', 'Yes', 'I want to be fit;I want to relieve stress'), (153, '2019/07/04 11:55:04 AM GMT+5:30', 'Vivek', 'Male', '40 and above', '4', 'Average', '1 to 2 times a week', \"I'll become too tired\", 'Walking or jogging;Swimming', 'Alone', 'Evening', '1 hour', 'Not always', 'Temptation and cravings', '3', 'Yes', 'No', 'I want to be flexible'), (154, '2019/07/04 11:57:27 AM GMT+5:30', 'P.PANDIARAJAN', 'Male', '30 to 40', '3', 'Average', 'Never', 'I exercise regularly with no barriers', 'Walking or jogging', 'Alone', 'Early morning', '1 hour', 'No', 'Lack of time', '5', 'Yes', 'No', 'I want to lose weight'), (155, '2019/07/04 12:01:22 PM GMT+5:30', 'Pranika ', 'Female', '15 to 18', '4', 'Very good', '2 to 3 times a week', \"I can't stay motivated\", 'Swimming;Yoga', 'Alone', 'Evening', '30 minutes', 'Yes', 'Ease of access to fast food', '3', 'Yes', 'No', 'I want to be flexible'), (156, '2019/07/04 12:06:54 PM GMT+5:30', 'Praghadeesh', 'Male', '19 to 25', '5', 'Very good', '1 to 2 times a week', \"I don't have enough time\", 'Walking or jogging;Gym;Yoga;Lifting weights', 'Alone', 'Evening', '30 minutes', 'Not always', 'Lack of time;Ease of access to fast food', '4', 'No', 'No', 'I want to be fit;I want to increase muscle mass and strength'), (157, '2019/07/04 12:18:12 PM GMT+5:30', 'Karthik R', 'Male', '19 to 25', '5', 'Good', '1 to 2 times a week', \"I don't have enough time;I can't stay motivated;I'll become too tired;I exercise regularly with no barriers\", 'Walking or jogging;Gym;Lifting weights', 'Alone', 'Early morning', '30 minutes', 'Not always', 'Lack of time;Temptation and cravings', '5', 'Yes', 'No', 'I want to be fit;I want to increase muscle mass and strength;I want to lose weight;I want to be flexible;I want to relieve stress;I want to achieve a sporting goal'), (158, '2019/07/04 12:18:47 PM GMT+5:30', 'Gowtham', 'Male', '15 to 18', '5', 'Very good', 'Everyday', \"I don't have enough time;I exercise regularly with no barriers\", 'Walking or jogging;Team sport', 'With a group', 'Evening', '2 hours', 'Not always', 'Temptation and cravings', '4', 'Yes', 'Yes', 'I want to be fit;I want to be flexible;I want to achieve a sporting goal'), (159, '2019/07/04 12:19:37 PM GMT+5:30', 'Nidheekshaa', 'Female', '15 to 18', '5', 'Very good', '3 to 4 times a week', \"I can't stay motivated\", 'Walking or jogging', 'Alone', 'Afternoon', '30 minutes', 'Not always', 'Temptation and cravings', '3', 'Yes', 'Yes', 'I want to achieve a sporting goal'), (160, '2019/07/04 12:19:47 PM GMT+5:30', 'Naman', 'Male', '19 to 25', '4', 'Average', '3 to 4 times a week', \"I don't have enough time\", 'Gym;Lifting weights', 'With a group', 'Evening', '1 hour', 'Not always', 'Temptation and cravings', '3', 'Yes', 'Yes', 'I want to be fit'), (161, '2019/07/04 12:29:33 PM GMT+5:30', 'Dharanidharan M', 'Male', '19 to 25', '5', 'Very good', '5 to 6 times a week', 'I exercise regularly with no barriers', 'Walking or jogging;Swimming;Team sport', 'With a friend', 'Early morning', '2 hours', 'Yes', 'Lack of time', '4', 'Yes', 'No', 'I want to be fit;I want to be flexible;I want to relieve stress'), (162, '2019/07/04 12:31:01 PM GMT+5:30', 'Sandeep', 'Male', '19 to 25', '5', 'Good', '2 to 3 times a week', \"I don't have enough time;I can't stay motivated\", 'Walking or jogging', 'Alone', 'Early morning', '30 minutes', 'No', 'Lack of time;Ease of access to fast food;Temptation and cravings', '4', 'No', 'Yes', 'I want to be fit;I want to increase muscle mass and strength;I want to be flexible;I want to relieve stress'), (163, '2019/07/04 12:33:48 PM GMT+5:30', 'Krishnasamy', 'Male', '19 to 25', '5', 'Very good', '1 to 2 times a week', \"I don't have enough time\", 'Gym;Swimming;Team sport', 'With a friend', 'Evening', '1 hour', 'Not always', 'Lack of time', '4', 'Yes', 'No', 'I want to be fit;I want to relieve stress;I want to achieve a sporting goal'), (164, '2019/07/04 12:41:45 PM GMT+5:30', 'Madhi', 'Male', '15 to 18', '4', 'Good', '1 to 2 times a week', \"I'll become too tired\", 'Walking or jogging;Yoga;Zumba dance', 'Alone', 'Evening', '30 minutes', 'Yes', 'Ease of access to fast food;Temptation and cravings', '4', 'No', 'No', 'I want to be fit;I want to increase muscle mass and strength;I want to be flexible'), (165, '2019/07/04 12:45:56 PM GMT+5:30', 'Parthasarathy Kannan', 'Male', '40 and above', '5', 'Good', '5 to 6 times a week', 'I exercise regularly with no barriers', 'Walking or jogging;Yoga', 'With a group', 'Early morning', '1 hour', 'Not always', 'Ease of access to fast food;Temptation and cravings', '4', 'Yes', 'Yes', 'I want to be fit;I want to lose weight;I want to be flexible;I want to relieve stress'), (166, '2019/07/04 12:47:47 PM GMT+5:30', 'Siddharth', 'Male', '19 to 25', '4', 'Very good', '3 to 4 times a week', \"I don't have enough time;I have an injury\", 'Gym;Lifting weights;Team sport', 'With a friend', 'Evening', '1 hour', 'Yes', 'Temptation and cravings', '4', 'Yes', 'Yes', 'I want to be fit;I want to increase muscle mass and strength;I want to lose weight'), (167, '2019/07/04 12:48:51 PM GMT+5:30', 'Aswin Chander ', 'Male', '19 to 25', '4', 'Good', '3 to 4 times a week', \"I don't have enough time;I have an injury\", 'Walking or jogging;Team sport', 'With a group', 'Early morning', '1 hour', 'Not always', 'Ease of access to fast food;Temptation and cravings', '3', 'No', 'No', 'I want to be fit;I want to be flexible;I want to relieve stress'), (168, '2019/07/04 12:51:17 PM GMT+5:30', 'Mrs.Sreedaya Sukumar', 'Female', '40 and above', '4', 'Average', '1 to 2 times a week', \"I don't have enough time\", 'Walking or jogging', 'Alone', 'Evening', '1 hour', 'Not always', 'Temptation and cravings', '3', 'No', 'No', 'I want to increase muscle mass and strength'), (169, '2019/07/04 12:53:33 PM GMT+5:30', 'Samyuktha.S', 'Female', '15 to 18', '2', 'Unfit', 'Never', \"I don't have enough time\", \"I don't really exercise\", \"I don't really exercise\", 'Early morning', \"I don't really exercise\", 'Not always', 'Lack of time', '3', 'No', 'No', \"I'm sorry ... I'm not really interested in exercising\"), (170, '2019/07/04 12:54:14 PM GMT+5:30', 'Rhea', 'Female', '19 to 25', '4', 'Good', '3 to 4 times a week', \"I don't have enough time\", 'Walking or jogging;Gym', 'Alone', 'Evening', '30 minutes', 'Not always', 'Temptation and cravings', '3', 'Yes', 'No', 'I want to be fit;I want to increase muscle mass and strength;I want to be flexible'), (171, '2019/07/04 12:54:52 PM GMT+5:30', 'Cutie', 'Female', '15 to 18', '2', 'Average', 'Never', \"I don't have enough time\", \"I don't really exercise\", \"I don't really exercise\", 'Evening', \"I don't really exercise\", 'Yes', 'Temptation and cravings', '3', 'No', 'No', 'I want to be fit;I want to be flexible'), (172, '2019/07/04 12:55:12 PM GMT+5:30', 'Sanjita', 'Female', '15 to 18', '5', 'Average', 'Never', \"I don't have enough time\", \"Walking or jogging;I don't really exercise\", \"I don't really exercise\", 'Early morning', \"I don't really exercise\", 'Not always', 'Lack of time;Ease of access to fast food;Temptation and cravings', '3', 'Yes', 'No', 'I want to be fit;I want to increase muscle mass and strength;I want to relieve stress'), (173, '2019/07/04 12:56:01 PM GMT+5:30', 'Manoji K', 'Female', '30 to 40', '5', 'Unfit', 'Never', \"I don't have enough time;I can't stay motivated\", \"I don't really exercise\", \"I don't really exercise\", 'Early morning', \"I don't really exercise\", 'No', 'Lack of time;Ease of access to fast food;Temptation and cravings', '1', 'Yes', 'Yes', 'I want to be fit;I want to lose weight;I want to be flexible;I want to relieve stress'), (174, '2019/07/04 12:59:20 PM GMT+5:30', 'Shreya ', 'Female', '15 to 18', '4', 'Very good', '2 to 3 times a week', \"I don't have enough time;I'll become too tired\", 'Gym', 'With a friend', 'Evening', '30 minutes', 'Not always', 'Temptation and cravings', '4', 'Yes', 'Yes', 'I want to be fit'), (175, '2019/07/04 12:59:24 PM GMT+5:30', 'Nikila', 'Female', '15 to 18', '4', 'Good', '1 to 2 times a week', \"I don't really enjoy exercising\", 'Zumba dance', 'With a group', 'Evening', '1 hour', 'No', 'Temptation and cravings', '4', 'Yes', 'Yes', 'I want to lose weight'), (176, '2019/07/04 12:59:58 PM GMT+5:30', 'Raja MLK', 'Male', '40 and above', '5', 'Perfect', 'Everyday', \"I don't have enough time\", 'Walking or jogging;Yoga', 'Alone', 'Early morning', '1 hour', 'Yes', 'Temptation and cravings', '5', 'Yes', 'Yes', 'I want to be fit;I want to increase muscle mass and strength;I want to be flexible;I want to relieve stress'), (177, '2019/07/04 1:03:59 PM GMT+5:30', 'Niveditha', 'Female', '19 to 25', '4', 'Average', '1 to 2 times a week', \"I don't have enough time\", 'Yoga', 'Alone', 'Early morning', '1 hour', 'Not always', 'Temptation and cravings', '3', 'Yes', 'No', 'I want to be fit;I want to be flexible;I want to relieve stress'), (178, '2019/07/04 1:04:26 PM GMT+5:30', 'Srinath.S', 'Male', '19 to 25', '5', 'Perfect', 'Everyday', 'I exercise regularly with no barriers', 'Walking or jogging;Gym;Lifting weights;Team sport', 'Alone', 'Evening', '1 hour', 'Yes', 'Ease of access to fast food', '5', 'Yes', 'No', 'I want to be fit;I want to increase muscle mass and strength;I want to be flexible;I want to relieve stress'), (179, '2019/07/04 1:05:20 PM GMT+5:30', 'Dushyanth', 'Male', '40 and above', '5', 'Very good', '5 to 6 times a week', \"I don't have enough time\", 'Gym', 'Alone', 'Early morning', '1 hour', 'Not always', 'Lack of time;Temptation and cravings', '4', 'Yes', 'No', 'I want to be fit;I want to increase muscle mass and strength;I want to be flexible'), (180, '2019/07/04 1:05:29 PM GMT+5:30', 'Thayagaraja Bagvadhar', 'Male', '40 and above', '5', 'Perfect', 'Everyday', 'I exercise regularly with no barriers', 'Walking or jogging;Gym;Swimming;Yoga;Zumba dance;Lifting weights;Team sport', 'Alone', 'Early morning', '3 hours and above', 'Yes', 'Lack of time', '5', 'Yes', 'Yes', 'I want to be fit'), (181, '2019/07/04 1:06:13 PM GMT+5:30', 'RIYAZ', 'Male', '15 to 18', '2', 'Unfit', 'Never', \"I can't stay motivated;I don't really enjoy exercising\", \"I don't really exercise\", \"I don't really exercise\", 'Early morning', \"I don't really exercise\", 'Not always', 'Ease of access to fast food;Temptation and cravings', '3', 'No', 'No', \"I'm sorry ... I'm not really interested in exercising\"), (182, '2019/07/04 1:07:40 PM GMT+5:30', 'Mega', 'Female', '19 to 25', '1', 'Unfit', 'Never', 'Laziness ', \"I don't really exercise\", \"I don't really exercise\", 'Early morning', \"I don't really exercise\", 'No', 'Ease of access to fast food;Temptation and cravings', '2', 'No', 'No', \"I'm sorry ... I'm not really interested in exercising\"), (183, '2019/07/04 1:11:17 PM GMT+5:30', 'Sharvatha', 'Female', '15 to 18', '3', 'Good', '2 to 3 times a week', \"I can't stay motivated\", 'Walking or jogging', 'With a friend', 'Evening', '1 hour', 'Not always', 'Lack of time', '3', 'No', 'No', 'I want to lose weight'), (184, '2019/07/04 1:11:36 PM GMT+5:30', 'Manjusha jitesh Kumar', 'Female', '30 to 40', '4', 'Average', 'Never', \"I don't have enough time\", 'Walking or jogging', \"I don't really exercise\", 'Early morning', \"I don't really exercise\", 'No', 'Lack of time', '2', 'Yes', 'No', 'I want to relieve stress'), (185, '2019/07/04 1:12:24 PM GMT+5:30', 'Ramya Rangan ', 'Female', '40 and above', '5', 'Very good', '5 to 6 times a week', \"I'll become too tired\", 'Team sport', 'With a friend', 'Evening', '1 hour', 'Not always', 'Lack of time', '4', 'Yes', 'Yes', 'I want to be fit'), (186, '2019/07/04 1:12:32 PM GMT+5:30', 'Krishna', 'Male', '19 to 25', '5', 'Good', '5 to 6 times a week', \"I don't have enough time\", 'Walking or jogging;Gym;Lifting weights', 'Alone', 'Evening', '1 hour', 'Not always', 'Lack of time;Temptation and cravings', '3', 'No', 'Yes', 'I want to be fit;I want to increase muscle mass and strength;I want to relieve stress'), (187, '2019/07/04 1:12:40 PM GMT+5:30', 'sangeetha', 'Female', '15 to 18', '4', 'Average', 'Everyday', \"I don't have enough time;I can't stay motivated\", 'Gym', 'Alone', 'Early morning', '1 hour', 'Not always', 'Ease of access to fast food', '3', 'No', 'Yes', 'I want to lose weight'), (188, '2019/07/04 1:13:17 PM GMT+5:30', 'Subhasri Manigandan ', 'Female', '15 to 18', '3', 'Good', '1 to 2 times a week', \"I don't have enough time;I have an injury;No gym near me\", 'Walking or jogging', \"I don't really exercise\", 'Early morning', '30 minutes', 'Not always', 'Lack of time;Cost', '3', 'Yes', 'No', 'I want to be fit;I want to lose weight;I want to be flexible;I want to relieve stress'), (189, '2019/07/04 1:15:51 PM GMT+5:30', 'Sudarsan ', 'Male', '19 to 25', '5', 'Average', 'Never', \"I can't stay motivated\", 'Gym', 'With a friend', 'Early morning', '2 hours', 'No', 'Temptation and cravings', '3', 'Yes', 'Yes', 'I want to be fit'), (190, '2019/07/04 1:17:26 PM GMT+5:30', 'Wazza', 'Male', '19 to 25', '5', 'Good', '3 to 4 times a week', 'I have an injury', 'Team sport', 'With a group', 'Early morning', '2 hours', 'Not always', 'Cost;Ease of access to fast food', '3', 'Yes', 'No', 'I want to relieve stress;I want to achieve a sporting goal'), (191, '2019/07/04 1:24:12 PM GMT+5:30', 'Divya', 'Female', '19 to 25', '4', 'Good', '2 to 3 times a week', \"I don't have enough time;I can't stay motivated;I'll become too tired\", 'Gym', 'With a friend', 'Evening', '1 hour', 'Not always', 'Temptation and cravings', '4', 'No', 'Yes', 'I want to be flexible'), (192, '2019/07/04 1:24:54 PM GMT+5:30', 'Boojithkrishna ', 'Male', '15 to 18', '4', 'Good', '1 to 2 times a week', \"I can't stay motivated\", 'Walking or jogging', 'Alone', 'Early morning', '30 minutes', 'Not always', 'Temptation and cravings', '4', 'No', 'No', 'I want to be fit'), (193, '2019/07/04 1:27:57 PM GMT+5:30', 'Ganga', 'Female', '19 to 25', '4', 'Good', '1 to 2 times a week', \"I don't have enough time;I'll become too tired\", 'Walking or jogging;Team sport', 'With a friend', 'Early morning', '30 minutes', 'Not always', 'Ease of access to fast food;Temptation and cravings', '3', 'Yes', 'No', 'I want to be flexible;I want to relieve stress;I want to achieve a sporting goal'), (194, '2019/07/04 1:30:06 PM GMT+5:30', 'Arun', 'Male', '30 to 40', '3', 'Average', '1 to 2 times a week', \"I don't really enjoy exercising\", 'Team sport', 'With a group', 'Evening', '2 hours', 'No', 'Cost', '3', 'No', 'No', \"I'm sorry ... I'm not really interested in exercising\"), (195, '2019/07/04 1:30:44 PM GMT+5:30', 'Diwakar Varatharajan', 'Male', '19 to 25', '5', 'Unfit', '2 to 3 times a week', \"I don't have enough time;I can't stay motivated\", 'Walking or jogging;Swimming;Lifting weights', 'Alone', 'Early morning', '1 hour', 'Not always', 'Lack of time;Ease of access to fast food', '1', 'Yes', 'No', 'I want to be fit;I want to lose weight;I want to be flexible;I want to achieve a sporting goal'), (196, '2019/07/04 1:31:39 PM GMT+5:30', 'Gautham', 'Male', '15 to 18', '3', 'Good', 'Never', \"I don't have enough time;I don't really enjoy exercising\", \"I don't really exercise\", 'With a group', 'Early morning', \"I don't really exercise\", 'No', 'Ease of access to fast food', '3', 'Yes', 'No', \"I'm sorry ... I'm not really interested in exercising\"), (197, '2019/07/04 1:32:04 PM GMT+5:30', 'Anand ', 'Male', '40 and above', '5', 'Good', '3 to 4 times a week', \"I don't have enough time;Travel\", 'Walking or jogging;Gym;Swimming;Lifting weights', 'Alone', 'Early morning', '1 hour', 'Not always', 'Lack of time', '3', 'Yes', 'Yes', 'I want to be fit;I want to relieve stress'), (198, '2019/07/04 1:36:53 PM GMT+5:30', 'V shankar', 'Male', '40 and above', '3', 'Average', 'Never', 'I have an injury;Allergies', \"Yoga;I don't really exercise\", 'Alone', 'Early morning', '30 minutes', 'Yes', 'Lack of time', '4', 'Yes', 'Yes', 'I want to be flexible'), (199, '2019/07/04 1:39:23 PM GMT+5:30', 'Vasu Thirumalai ', 'Male', '40 and above', '5', 'Good', '3 to 4 times a week', \"I don't have enough time\", 'Walking or jogging;Gym', 'Alone', 'Evening', '1 hour', 'Yes', 'Temptation and cravings', '4', 'Yes', 'Yes', 'I want to be fit'), (200, '2019/07/04 1:40:34 PM GMT+5:30', 'K V PRAGATHI ', 'Female', '15 to 18', '3', 'Average', 'Never', \"I don't have enough time;I don't really enjoy exercising\", 'Walking or jogging', 'Alone', 'Evening', \"I don't really exercise\", 'Not always', 'Temptation and cravings', '3', 'Yes', 'No', 'I want to lose weight'), (201, '2019/07/04 1:40:59 PM GMT+5:30', 'Vinodh.S', 'Male', '30 to 40', '4', 'Average', '1 to 2 times a week', \"I can't stay motivated\", 'Team sport', 'With a group', 'Early morning', '30 minutes', 'Not always', 'Temptation and cravings', '3', 'No', 'No', 'I want to relieve stress'), (202, '2019/07/04 1:42:57 PM GMT+5:30', 'Joshika S', 'Male', '15 to 18', '4', 'Very good', '2 to 3 times a week', \"I can't stay motivated\", 'Gym', 'With a friend', 'Evening', '30 minutes', 'Not always', 'Temptation and cravings', '3', 'No', 'No', 'I want to lose weight'), (203, '2019/07/04 1:43:51 PM GMT+5:30', 'Sanjay Rathinavel', 'Male', '15 to 18', '5', 'Good', '5 to 6 times a week', 'I have an injury', 'Gym;Team sport', 'With a friend', 'Evening', '2 hours', 'No', 'Ease of access to fast food', '3', 'Yes', 'No', 'I want to be fit;I want to increase muscle mass and strength;I want to be flexible;I want to achieve a sporting goal'), (204, '2019/07/04 1:44:16 PM GMT+5:30', 'Divya Rammohan', 'Female', '26 to 30', '5', 'Good', '5 to 6 times a week', \"I don't have enough time\", 'Gym;Lifting weights', 'Alone', 'Afternoon', '1 hour', 'Not always', 'Lack of time;Temptation and cravings', '3', 'Yes', 'No', 'I want to be fit;I want to lose weight;I want to relieve stress'), (205, '2019/07/04 1:44:41 PM GMT+5:30', 'Athira', 'Female', '19 to 25', '3', 'Very good', '1 to 2 times a week', \"I don't have enough time\", 'Walking or jogging', 'Alone', 'Early morning', '30 minutes', 'Yes', 'Lack of time;Temptation and cravings', '4', 'No', 'Yes', 'I want to be fit'), (206, '2019/07/04 1:45:43 PM GMT+5:30', 'Roopa Vinod', 'Female', '40 and above', '4', 'Average', '3 to 4 times a week', \"I'll become too tired\", 'Yoga', 'With a group', 'Early morning', '2 hours', 'Yes', 'Ease of access to fast food;Temptation and cravings', '3', 'Yes', 'No', 'I want to lose weight;I want to be flexible;I want to relieve stress'), (207, '2019/07/04 1:49:57 PM GMT+5:30', 'R. Soujanyaa', 'Female', '19 to 25', '4', 'Unfit', '2 to 3 times a week', \"I don't have enough time;I'll become too tired\", 'Walking or jogging', 'Alone', 'Early morning', '30 minutes', 'Not always', 'Temptation and cravings', '3', 'Yes', 'Yes', 'I want to be fit;I want to lose weight;I want to be flexible'), (208, '2019/07/04 1:59:44 PM GMT+5:30', 'Pooja', 'Female', '19 to 25', '3', 'Average', '2 to 3 times a week', \"I'll become too tired\", 'Walking or jogging;Gym;Zumba dance', 'Alone', 'Early morning', '30 minutes', 'Not always', 'Ease of access to fast food;Temptation and cravings', '3', 'No', 'No', 'I want to be fit;I want to lose weight'), (209, '2019/07/04 2:00:06 PM GMT+5:30', 'Koushi', 'Female', '15 to 18', '4', 'Good', '2 to 3 times a week', \"I don't have enough time;I can't stay motivated\", 'Gym;Yoga', 'Alone', 'Early morning', '30 minutes', 'No', 'Cost;Ease of access to fast food;Temptation and cravings', '4', 'No', 'No', 'I want to be fit;I want to be flexible'), (210, '2019/07/04 2:10:20 PM GMT+5:30', 'Shobana Natarajan', 'Female', '40 and above', '4', 'Average', '3 to 4 times a week', \"I can't stay motivated\", 'Walking or jogging;Yoga', 'Within a class environment', 'Early morning', '1 hour', 'Not always', 'Ease of access to fast food;Temptation and cravings', '2', 'Yes', 'Yes', 'I want to be fit;I want to lose weight;I want to be flexible;I want to relieve stress'), (211, '2019/07/04 2:16:10 PM GMT+5:30', 'Rajesh', 'Male', '30 to 40', '5', 'Good', '1 to 2 times a week', \"I can't stay motivated\", 'Walking or jogging', 'Alone', 'Early morning', '30 minutes', 'Not always', 'Lack of time', '4', 'Yes', 'No', 'I want to relieve stress'), (212, '2019/07/04 2:34:36 PM GMT+5:30', 'Elakya', 'Female', '19 to 25', '3', 'Average', 'Never', \"I can't stay motivated\", \"I don't really exercise\", \"I don't really exercise\", 'Early morning', \"I don't really exercise\", 'No', 'Temptation and cravings', '2', 'No', 'No', \"I'm sorry ... I'm not really interested in exercising\"), (213, '2019/07/04 2:36:53 PM GMT+5:30', 'Jothiraja.D', 'Male', '30 to 40', '3', 'Average', 'Never', \"I don't have enough time;I'll become too tired\", \"I don't really exercise\", \"I don't really exercise\", 'Early morning', \"I don't really exercise\", 'Not always', 'Lack of time', '3', 'Yes', 'No', 'I want to relieve stress'), (214, '2019/07/04 2:39:22 PM GMT+5:30', 'Umaiyal', 'Female', '19 to 25', '3', 'Average', '1 to 2 times a week', \"I don't have enough time;I can't stay motivated\", \"I don't really exercise\", 'Alone', 'Evening', \"I don't really exercise\", 'Not always', 'Lack of time;Ease of access to fast food', '2', 'No', 'Yes', 'I want to be fit;I want to lose weight'), (215, '2019/07/04 2:43:11 PM GMT+5:30', 'R. B. Ranjith ', 'Male', '30 to 40', '5', 'Good', '5 to 6 times a week', 'I exercise regularly with no barriers', 'Walking or jogging;Gym', 'Alone', 'Early morning', '1 hour', 'Yes', 'Temptation and cravings', '5', 'Yes', 'Yes', 'I want to be fit'), (216, '2019/07/04 2:44:13 PM GMT+5:30', 'Subha', 'Female', '15 to 18', '5', 'Good', '1 to 2 times a week', \"I don't have enough time\", 'Walking or jogging', 'Alone', 'Early morning', '30 minutes', 'Not always', 'Lack of time', '4', 'Yes', 'No', 'I want to be flexible'), (217, '2019/07/04 2:44:24 PM GMT+5:30', 'Kausiga', 'Female', '19 to 25', '2', 'Unfit', 'Never', \"I can't stay motivated\", \"I don't really exercise\", \"I don't really exercise\", 'Early morning', \"I don't really exercise\", 'No', 'Ease of access to fast food', '3', 'Yes', 'No', 'I want to lose weight;I want to be flexible'), (218, '2019/07/04 2:48:57 PM GMT+5:30', 'Karthika p', 'Female', '19 to 25', '5', 'Good', 'Never', \"I'll become too tired\", 'Zumba dance', \"I don't really exercise\", 'Evening', \"I don't really exercise\", 'Not always', 'Lack of time', '1', 'Yes', 'No', 'I want to relieve stress'), (219, '2019/07/04 2:50:03 PM GMT+5:30', 'Swarna', 'Female', '15 to 18', '3', 'Good', '1 to 2 times a week', \"I don't have enough time\", 'Walking or jogging', 'With a friend', 'Early morning', '30 minutes', 'Not always', 'Lack of time', '4', 'Yes', 'No', 'I want to lose weight'), (220, '2019/07/04 2:53:37 PM GMT+5:30', 'Chandrabose', 'Male', '19 to 25', '4', 'Average', 'Never', \"I don't have enough time\", 'Swimming', \"I don't really exercise\", 'Evening', '1 hour', 'Not always', 'Lack of time', '3', 'Yes', 'No', 'I want to be fit'), (221, '2019/07/04 2:53:43 PM GMT+5:30', 'Sona', 'Female', '15 to 18', '4', 'Good', '2 to 3 times a week', 'I exercise regularly with no barriers', 'Gym;Zumba dance', 'With a friend', 'Early morning', '1 hour', 'Not always', 'Temptation and cravings', '3', 'No', 'No', 'I want to be flexible;I want to relieve stress'), (222, '2019/07/04 2:53:47 PM GMT+5:30', 'Anisha', 'Female', '15 to 18', '5', 'Average', 'Never', \"I can't stay motivated\", \"I don't really exercise\", \"I don't really exercise\", 'Evening', \"I don't really exercise\", 'Not always', 'Ease of access to fast food', '3', 'Yes', 'No', 'I want to be fit;I want to be flexible;I want to relieve stress'), (223, '2019/07/04 3:07:31 PM GMT+5:30', 'Devika', 'Female', '19 to 25', '4', 'Average', 'Everyday', \"I can't stay motivated\", 'Gym', 'Alone', 'Early morning', '30 minutes', 'Not always', 'Ease of access to fast food;Temptation and cravings', '4', 'No', 'Yes', 'I want to be fit;I want to lose weight'), (224, '2019/07/04 3:11:17 PM GMT+5:30', 'Lokesh Karthikeyan', 'Male', '19 to 25', '4', 'Perfect', '3 to 4 times a week', \"I don't have enough time\", 'Walking or jogging;Gym', 'Alone', 'Evening', '1 hour', 'Not always', 'Lack of time', '5', 'Yes', 'Yes', 'I want to be fit;I want to increase muscle mass and strength;I want to relieve stress'), (225, '2019/07/04 3:13:42 PM GMT+5:30', 'Nitisha', 'Female', '19 to 25', '4', 'Average', '1 to 2 times a week', \"I can't stay motivated;I'll become too tired\", 'Walking or jogging', 'With a friend', 'Early morning', '1 hour', 'No', 'Ease of access to fast food;Temptation and cravings', '2', 'No', 'No', 'I want to relieve stress'), (226, '2019/07/04 3:16:28 PM GMT+5:30', 'Nandhini Rajkumar', 'Female', '15 to 18', '5', 'Good', 'Everyday', 'I exercise regularly with no barriers', 'Gym', 'Alone', 'Evening', '1 hour', 'Not always', 'Temptation and cravings', '3', 'Yes', 'No', 'I want to lose weight'), (227, '2019/07/04 3:21:13 PM GMT+5:30', 'Shiny ', 'Female', '19 to 25', '5', 'Good', 'Everyday', \"I don't have enough time;I'll become too tired\", 'Walking or jogging', 'Alone', 'Early morning', '1 hour', 'No', 'Lack of time', '3', 'No', 'Yes', 'I want to achieve a sporting goal'), (228, '2019/07/04 3:27:35 PM GMT+5:30', 'Madhu Nisha N', 'Female', '19 to 25', '4', 'Good', '2 to 3 times a week', \"I don't have enough time\", 'Gym', 'With a group', 'Evening', '2 hours', 'Not always', 'Lack of time;Temptation and cravings', '3', 'No', 'No', 'I want to be fit;I want to increase muscle mass and strength;I want to lose weight;I want to be flexible'), (229, '2019/07/04 3:28:40 PM GMT+5:30', 'Aishwarya vasukannakumar', 'Female', '15 to 18', '5', 'Perfect', 'Everyday', \"I don't have enough time\", 'Gym', 'Alone', 'Evening', '1 hour', 'Yes', 'Temptation and cravings', '4', 'Yes', 'Yes', 'I want to be fit'), (230, '2019/07/04 3:40:33 PM GMT+5:30', 'Pranav', 'Male', '19 to 25', '3', 'Very good', '2 to 3 times a week', \"I don't have enough time;I can't stay motivated\", 'Walking or jogging;Team sport', 'With a group', 'Evening', '1 hour', 'Yes', 'Temptation and cravings', '4', 'No', 'No', 'I want to be fit;I want to increase muscle mass and strength'), (231, '2019/07/04 3:53:34 PM GMT+5:30', 'Elakkiya', 'Female', '19 to 25', '3', 'Average', '1 to 2 times a week', \"I don't have enough time\", 'Walking or jogging', 'Alone', 'Early morning', \"I don't really exercise\", 'Not always', 'Lack of time', '3', 'Yes', 'No', 'I want to be fit'), (232, '2019/07/04 4:00:12 PM GMT+5:30', 'Prethi', 'Female', '15 to 18', '4', 'Good', '1 to 2 times a week', \"I don't have enough time\", 'Walking or jogging', 'With a friend', 'Evening', '30 minutes', 'No', 'Temptation and cravings', '4', 'Yes', 'Yes', 'I want to be fit'), (233, '2019/07/04 4:07:05 PM GMT+5:30', 'Gvv', 'Male', '15 to 18', '3', 'Perfect', 'Never', \"I don't have enough time\", 'Walking or jogging;Gym', 'Alone', 'Early morning', '1 hour', 'No', 'Temptation and cravings', '5', 'No', 'No', 'I want to be fit'), (234, '2019/07/04 4:15:40 PM GMT+5:30', 'SANGAMITHRA', 'Female', '15 to 18', '4', 'Good', '3 to 4 times a week', \"I don't have enough time;I can't stay motivated\", 'Walking or jogging;Gym;Yoga', 'Alone', 'Early morning', '1 hour', 'Not always', 'Ease of access to fast food;Temptation and cravings', '2', 'Yes', 'No', 'I want to be fit;I want to lose weight;I want to be flexible;I want to relieve stress'), (235, '2019/07/04 4:22:42 PM GMT+5:30', 'Sneha', 'Female', '15 to 18', '4', 'Good', '1 to 2 times a week', \"I don't have enough time\", 'Walking or jogging', 'Alone', 'Evening', '30 minutes', 'No', 'Ease of access to fast food', '4', 'Yes', 'Yes', 'I want to relieve stress'), (236, '2019/07/04 4:30:13 PM GMT+5:30', 'Pavan Preetham ', 'Male', '19 to 25', '3', 'Good', '1 to 2 times a week', \"I don't have enough time;I can't stay motivated\", 'Walking or jogging;Team sport', 'Alone', 'Evening', '1 hour', 'Not always', 'Lack of time;Ease of access to fast food;Temptation and cravings', '3', 'No', 'Yes', 'I want to relieve stress'), (237, '2019/07/04 4:33:31 PM GMT+5:30', 'Asmitaa UR', 'Female', '19 to 25', '4', 'Good', '1 to 2 times a week', \"I don't have enough time;I can't stay motivated\", 'Walking or jogging', 'With a friend', 'Evening', '1 hour', 'Yes', 'Temptation and cravings', '3', 'Yes', 'No', 'I want to be fit;I want to be flexible'), (238, '2019/07/04 4:41:23 PM GMT+5:30', 'Abilash Balan', 'Male', '30 to 40', '5', 'Average', '2 to 3 times a week', \"I can't stay motivated\", 'Gym', 'Alone', 'Early morning', '30 minutes', 'Not always', 'Ease of access to fast food', '3', 'Yes', 'No', 'I want to be fit'), (239, '2019/07/04 5:05:46 PM GMT+5:30', 'Shakthi abirami ', 'Female', '19 to 25', '4', 'Good', '2 to 3 times a week', \"I'll become too tired\", 'Walking or jogging', 'Alone', 'Early morning', '30 minutes', 'Not always', 'Temptation and cravings', '3', 'Yes', 'No', 'I want to be fit;I want to relieve stress'), (240, '2019/07/04 5:07:19 PM GMT+5:30', 'Nethraa', 'Female', '15 to 18', '3', 'Good', 'Never', \"I don't have enough time\", \"I don't really exercise\", \"I don't really exercise\", 'Evening', \"I don't really exercise\", 'No', 'Temptation and cravings', '3', 'No', 'Yes', 'I want to be fit;I want to be flexible'), (241, '2019/07/04 5:07:26 PM GMT+5:30', 'Samyuktaa Balaji', 'Female', '19 to 25', '5', 'Good', '3 to 4 times a week', \"I'll become too tired\", 'Walking or jogging', 'Alone', 'Evening', '30 minutes', 'No', 'Lack of time', '3', 'Yes', 'No', 'I want to be fit;I want to be flexible'), (242, '2019/07/04 5:09:30 PM GMT+5:30', 'Harshi', 'Female', '15 to 18', '3', 'Average', 'Never', \"I don't have enough time\", \"I don't really exercise\", \"I don't really exercise\", 'Early morning', '1 hour', 'Not always', 'Lack of time', '3', 'No', 'No', 'I want to be flexible;I want to relieve stress'), (243, '2019/07/04 5:17:56 PM GMT+5:30', 'Rahul S', 'Male', '19 to 25', '5', 'Average', '1 to 2 times a week', \"I don't have enough time\", 'Walking or jogging;Team sport', 'With a group', 'Early morning', '30 minutes', 'Not always', 'Temptation and cravings', '3', 'Yes', 'No', 'I want to be fit;I want to be flexible;I want to relieve stress'), (244, '2019/07/04 5:18:30 PM GMT+5:30', 'Asmi', 'Female', '15 to 18', '5', 'Good', 'Everyday', 'I exercise regularly with no barriers', 'Yoga', 'Alone', 'Early morning', '30 minutes', 'No', 'Temptation and cravings', '3', 'No', 'No', 'I want to lose weight'), (245, '2019/07/04 5:18:38 PM GMT+5:30', 'M.Shruthi', 'Female', '15 to 18', '2', 'Average', 'Never', \"I don't have enough time\", 'Walking or jogging', \"I don't really exercise\", 'Evening', \"I don't really exercise\", 'Yes', 'Temptation and cravings', '3', 'No', 'No', 'I want to be fit'), (246, '2019/07/04 5:28:05 PM GMT+5:30', 'Hemadharshini.S', 'Female', '19 to 25', '4', 'Average', 'Never', \"I don't really enjoy exercising\", \"I don't really exercise\", \"I don't really exercise\", 'Early morning', \"I don't really exercise\", 'No', 'Ease of access to fast food', '3', 'No', 'No', \"I'm sorry ... I'm not really interested in exercising\"), (247, '2019/07/04 5:28:15 PM GMT+5:30', 'Umarani', 'Female', '40 and above', '5', 'Good', 'Everyday', \"I don't have enough time\", 'Walking or jogging', 'Alone', 'Early morning', '30 minutes', 'Not always', 'Lack of time', '3', 'Yes', 'No', 'I want to be flexible;I want to relieve stress'), (248, '2019/07/04 5:29:19 PM GMT+5:30', 'Sreenila', 'Female', '19 to 25', '3', 'Average', '3 to 4 times a week', \"I don't have enough time\", 'Walking or jogging;Gym;Yoga;Lifting weights', 'Alone', 'Evening', '1 hour', 'Not always', 'Ease of access to fast food;Temptation and cravings', '3', 'Yes', 'No', 'I want to be fit;I want to lose weight;I want to be flexible;I want to relieve stress'), (249, '2019/07/04 5:36:11 PM GMT+5:30', 'Nikhita', 'Female', '15 to 18', '3', 'Average', '1 to 2 times a week', \"I don't have enough time\", 'Walking or jogging', 'With a group', 'Early morning', '30 minutes', 'Not always', 'Ease of access to fast food', '3', 'No', 'No', 'I want to lose weight'), (250, '2019/07/04 5:36:22 PM GMT+5:30', 'Moukthika', 'Female', '15 to 18', '5', 'Very good', '2 to 3 times a week', \"I don't have enough time\", 'Walking or jogging;Gym;Yoga', 'Alone', 'Early morning', '1 hour', 'Not always', 'Ease of access to fast food', '4', 'No', 'No', 'I want to be fit;I want to increase muscle mass and strength;I want to lose weight;I want to be flexible;I want to relieve stress'), (251, '2019/07/04 5:40:12 PM GMT+5:30', 'Sakthi', 'Male', '15 to 18', '3', 'Average', '1 to 2 times a week', \"I don't have enough time\", 'Walking or jogging', 'With a friend', 'Evening', '30 minutes', 'No', 'Ease of access to fast food', '3', 'No', 'No', 'I want to relieve stress'), (252, '2019/07/04 5:42:10 PM GMT+5:30', 'Prakash', 'Male', '19 to 25', '3', 'Good', 'Never', \"I don't really enjoy exercising\", \"I don't really exercise\", \"I don't really exercise\", 'Evening', \"I don't really exercise\", 'No', 'Ease of access to fast food;Temptation and cravings', '3', 'No', 'No', \"I'm sorry ... I'm not really interested in exercising\"), (253, '2019/07/04 5:43:01 PM GMT+5:30', 'Dev', 'Female', '19 to 25', '3', 'Average', 'Never', \"I can't stay motivated\", 'Zumba dance', 'Within a class environment', 'Early morning', \"I don't really exercise\", 'Yes', 'Temptation and cravings', '4', 'No', 'Yes', 'I want to be fit;I want to be flexible'), (254, '2019/07/04 5:54:15 PM GMT+5:30', 'Simi jithosh', 'Female', '30 to 40', '3', 'Average', '1 to 2 times a week', \"I don't have enough time\", 'Walking or jogging', 'With a group', 'Early morning', '1 hour', 'Yes', 'Lack of time', '3', 'Yes', 'No', 'I want to relieve stress'), (255, '2019/07/04 5:57:18 PM GMT+5:30', 'Savithri KP', 'Female', '40 and above', '5', 'Average', '1 to 2 times a week', \"I don't have enough time\", 'Gym;Yoga', 'Alone', 'Evening', '1 hour', 'Not always', 'Cost', '3', 'Yes', 'Yes', 'I want to be flexible;I want to relieve stress'), (256, '2019/07/04 5:57:32 PM GMT+5:30', 'Arjun A', 'Male', '15 to 18', '2', 'Average', 'Never', \"I don't have enough time;I can't stay motivated;I'll become too tired\", 'Walking or jogging;Swimming;Team sport', 'With a friend', 'Afternoon', '30 minutes', 'No', 'Ease of access to fast food;Temptation and cravings', '4', 'No', 'No', 'I want to be fit;I want to relieve stress;I want to achieve a sporting goal'), (257, '2019/07/04 5:57:35 PM GMT+5:30', 'Geethanjali', 'Female', '15 to 18', '4', 'Good', '3 to 4 times a week', \"I'll become too tired\", 'Walking or jogging;Gym;Yoga;Zumba dance', 'With a group', 'Early morning', '1 hour', 'Not always', 'Temptation and cravings', '3', 'Yes', 'No', 'I want to lose weight'), (258, '2019/07/04 6:03:16 PM GMT+5:30', 'Sri Balaji', 'Male', '19 to 25', '4', 'Unfit', '1 to 2 times a week', \"I don't have enough time\", 'Walking or jogging', 'Alone', 'Early morning', '30 minutes', 'Not always', 'Temptation and cravings', '3', 'Yes', 'No', 'I want to be fit;I want to lose weight'), (259, '2019/07/04 6:04:24 PM GMT+5:30', 'Harivignesh', 'Male', '19 to 25', '4', 'Average', 'Never', \"I don't have enough time\", 'Yoga', 'Alone', 'Early morning', '1 hour', 'No', 'Lack of time', '2', 'No', 'No', 'I want to be fit'), (260, '2019/07/04 6:08:17 PM GMT+5:30', 'Krsna', 'Male', '19 to 25', '2', 'Unfit', 'Never', \"I don't have enough time\", \"I don't really exercise\", \"I don't really exercise\", 'Evening', '30 minutes', 'No', 'Ease of access to fast food', '2', 'No', 'No', \"I'm sorry ... I'm not really interested in exercising\"), (261, '2019/07/04 6:10:47 PM GMT+5:30', 'Kailash', 'Male', '19 to 25', '3', 'Very good', 'Everyday', 'I exercise regularly with no barriers', 'Walking or jogging;Lifting weights', 'Alone', 'Evening', '1 hour', 'Yes', 'Ease of access to fast food', '3', 'Yes', 'No', 'I want to increase muscle mass and strength'), (262, '2019/07/04 6:12:32 PM GMT+5:30', 'Divya Sivaraman ', 'Female', '15 to 18', '4', 'Good', '2 to 3 times a week', \"I don't have enough time\", 'Walking or jogging', 'With a friend', 'Evening', '1 hour', 'Not always', 'Ease of access to fast food;Temptation and cravings', '3', 'No', 'Yes', 'I want to be fit;I want to relieve stress'), (263, '2019/07/04 6:15:42 PM GMT+5:30', 'Felix', 'Male', '19 to 25', '4', 'Very good', '3 to 4 times a week', 'I exercise regularly with no barriers', 'Team sport', 'With a friend', 'Evening', '1 hour', 'Yes', 'Lack of time', '4', 'Yes', 'No', 'I want to achieve a sporting goal'), (264, '2019/07/04 6:17:12 PM GMT+5:30', 'Saranyan', 'Male', '19 to 25', '2', 'Unfit', 'Never', 'I have an injury', 'Walking or jogging', 'Within a class environment', 'Evening', '30 minutes', 'No', 'Lack of time', '3', 'No', 'No', 'I want to be flexible'), (265, '2019/07/04 6:18:32 PM GMT+5:30', 'Sreenu', 'Female', '30 to 40', '2', 'Very good', 'Never', \"I don't have enough time\", 'Walking or jogging', 'With a friend', 'Evening', '30 minutes', 'Not always', 'Temptation and cravings', '4', 'No', 'No', 'I want to lose weight'), (266, '2019/07/04 6:20:02 PM GMT+5:30', 'Shrinidhi ', 'Female', '19 to 25', '3', 'Good', '5 to 6 times a week', \"I don't have enough time\", 'Walking or jogging', 'With a friend', 'Evening', '30 minutes', 'Not always', 'Ease of access to fast food', '3', 'No', 'No', 'Going to class on time 😉'), (267, '2019/07/04 6:21:05 PM GMT+5:30', 'Tejas E', 'Male', '15 to 18', '3', 'Average', '1 to 2 times a week', \"I don't have enough time;I can't stay motivated;I'll become too tired;I don't really enjoy exercising\", 'Walking or jogging;Lifting weights', 'With a friend', 'Early morning', '1 hour', 'Yes', 'Ease of access to fast food;Temptation and cravings', '3', 'No', 'No', 'I want to be fit;I want to lose weight'), (268, '2019/07/04 6:23:40 PM GMT+5:30', 'Swetha. S', 'Female', '15 to 18', '3', 'Good', '2 to 3 times a week', \"I'll become too tired\", 'Gym', 'With a friend', 'Evening', '30 minutes', 'Not always', 'Ease of access to fast food', '3', 'Yes', 'Yes', 'I want to be fit;I want to lose weight'), (269, '2019/07/04 6:33:16 PM GMT+5:30', 'Naveen', 'Male', '15 to 18', '1', 'Average', 'Never', \"I don't have enough time;I don't really enjoy exercising\", \"I don't really exercise\", \"I don't really exercise\", 'Evening', \"I don't really exercise\", 'Not always', 'Lack of time', '3', 'No', 'Yes', \"I'm sorry ... I'm not really interested in exercising\"), (270, '2019/07/04 6:37:34 PM GMT+5:30', 'Alagu Prakalya', 'Female', '15 to 18', '4', 'Average', '5 to 6 times a week', \"I can't stay motivated\", 'Walking or jogging;Gym;Team sport', 'With a group', 'Early morning', '2 hours', 'No', 'Temptation and cravings', '4', 'Yes', 'No', 'I want to be flexible;I want to achieve a sporting goal'), (271, '2019/07/04 6:45:25 PM GMT+5:30', 'Pradeepa', 'Female', '19 to 25', '5', 'Perfect', 'Everyday', 'I exercise regularly with no barriers', 'Walking or jogging;Team sport', 'Alone', 'Evening', '30 minutes', 'Not always', 'Temptation and cravings', '4', 'Yes', 'No', 'I want to be fit;I want to increase muscle mass and strength;I want to be flexible;I want to relieve stress;I want to achieve a sporting goal'), (272, '2019/07/04 6:47:33 PM GMT+5:30', 'Akshaya L', 'Female', '15 to 18', '3', 'Average', '1 to 2 times a week', \"I can't stay motivated\", 'Walking or jogging', 'With a friend', 'Evening', '1 hour', 'Not always', 'Lack of time', '3', 'No', 'Yes', 'I want to lose weight'), (273, '2019/07/04 6:55:15 PM GMT+5:30', 'shruti', 'Female', '15 to 18', '2', 'Average', 'Never', \"I don't have enough time;I'll become too tired\", \"Walking or jogging;I don't really exercise\", \"I don't really exercise\", 'Early morning', \"I don't really exercise\", 'Not always', 'Ease of access to fast food;Temptation and cravings', '3', 'No', 'No', 'I want to relieve stress'), (274, '2019/07/04 7:07:19 PM GMT+5:30', 'Siva', 'Male', '19 to 25', '3', 'Average', '2 to 3 times a week', \"I can't stay motivated\", 'Walking or jogging', 'Alone', 'Early morning', '30 minutes', 'Not always', 'Temptation and cravings', '4', 'No', 'No', 'I want to be fit;I want to increase muscle mass and strength'), (275, '2019/07/04 7:17:14 PM GMT+5:30', 'Sanjana', 'Female', '19 to 25', '1', 'Average', 'Never', \"I'll become too tired\", \"I don't really exercise\", \"I don't really exercise\", 'Evening', \"I don't really exercise\", 'Not always', 'Temptation and cravings', '3', 'No', 'No', \"I'm sorry ... I'm not really interested in exercising\"), (276, '2019/07/04 7:20:21 PM GMT+5:30', 'dwaraka', 'Female', '15 to 18', '2', 'Average', '3 to 4 times a week', \"I can't stay motivated\", 'Walking or jogging', 'With a friend', 'Early morning', '30 minutes', 'Not always', 'Temptation and cravings', '3', 'Yes', 'No', 'I want to be fit'), (277, '2019/07/04 7:24:47 PM GMT+5:30', 'D Lavanya ', 'Female', '15 to 18', '5', 'Good', 'Everyday', \"I'll become too tired\", 'Walking or jogging', 'With a group', 'Early morning', '30 minutes', 'No', 'Ease of access to fast food', '3', 'Yes', 'No', 'I want to be fit;I want to lose weight'), (278, '2019/07/04 7:35:39 PM GMT+5:30', 'Sreenidhi', 'Female', '15 to 18', '3', 'Average', '3 to 4 times a week', \"I don't have enough time\", 'Gym', 'Alone', 'Evening', '1 hour', 'Not always', 'Temptation and cravings', '2', 'Yes', 'No', 'I want to be fit'), (279, '2019/07/04 7:36:42 PM GMT+5:30', 'Kaushik Raj', 'Male', '19 to 25', '1', 'Perfect', '1 to 2 times a week', \"I can't stay motivated\", 'Gym;Team sport', 'Alone', 'Evening', '2 hours', 'No', 'Temptation and cravings', '5', 'No', 'Yes', 'I want to relieve stress'), (280, '2019/07/04 7:39:03 PM GMT+5:30', 'Valliammai C', 'Female', '19 to 25', '4', 'Good', '2 to 3 times a week', \"I don't have enough time\", 'Walking or jogging;Gym;Swimming', 'Alone', 'Evening', '30 minutes', 'Not always', 'Lack of time;Ease of access to fast food;Temptation and cravings', '4', 'Yes', 'No', 'I want to be fit;I want to lose weight;I want to be flexible;I want to relieve stress;I want to achieve a sporting goal'), (281, '2019/07/04 7:40:20 PM GMT+5:30', 'Murali', 'Male', '40 and above', '5', 'Average', '1 to 2 times a week', \"I don't have enough time\", 'Walking or jogging', 'Alone', 'Early morning', '1 hour', 'No', 'Lack of time', '3', 'Yes', 'No', 'I want to be fit;I want to lose weight;I want to relieve stress'), (282, '2019/07/04 7:41:06 PM GMT+5:30', 'Prabhodhini', 'Female', '15 to 18', '3', 'Average', '1 to 2 times a week', \"I don't have enough time;I'll become too tired\", 'Walking or jogging;Team sport', 'Alone', 'Evening', '30 minutes', 'Not always', 'Lack of time;Cost;Temptation and cravings', '3', 'Yes', 'Yes', 'I want to be fit;I want to be flexible;I want to relieve stress'), (283, '2019/07/04 7:51:15 PM GMT+5:30', 'Reena', 'Female', '15 to 18', '3', 'Good', 'Never', \"I don't have enough time\", 'Walking or jogging', \"I don't really exercise\", 'Early morning', \"I don't really exercise\", 'No', 'Temptation and cravings', '3', 'Yes', 'No', 'I want to be fit;I want to lose weight;I want to achieve a sporting goal'), (284, '2019/07/04 7:52:29 PM GMT+5:30', 'M Ponni', 'Female', '19 to 25', '3', 'Very good', 'Never', \"I can't stay motivated;I don't really enjoy exercising\", 'Walking or jogging', 'Alone', 'Early morning', '30 minutes', 'Not always', 'Ease of access to fast food;Temptation and cravings', '5', 'No', 'No', 'I want to be fit'), (285, '2019/07/04 8:19:34 PM GMT+5:30', 'Princy K', 'Female', '30 to 40', '5', 'Average', 'Never', \"I don't have enough time\", \"I don't really exercise\", \"I don't really exercise\", 'Early morning', \"I don't really exercise\", 'Yes', 'Ease of access to fast food', '3', 'No', 'No', 'I want to be fit'), (286, '2019/07/04 8:22:56 PM GMT+5:30', 'Naveenkumar.P', 'Male', '15 to 18', '5', 'Very good', 'Everyday', \"I don't have enough time\", 'Gym;Lifting weights;Team sport', 'With a group', 'Evening', '1 hour', 'Not always', 'Temptation and cravings', '3', 'Yes', 'No', 'I want to be fit'), (287, '2019/07/04 8:24:22 PM GMT+5:30', 'Ashvika', 'Female', '15 to 18', '4', 'Good', '5 to 6 times a week', \"I don't have enough time\", 'Yoga', 'Alone', 'Early morning', '30 minutes', 'Not always', 'Temptation and cravings', '3', 'No', 'Yes', 'I want to be fit'), (288, '2019/07/04 8:25:13 PM GMT+5:30', 'Prasanth', 'Male', '30 to 40', '3', 'Good', 'Never', \"I'll become too tired\", \"I don't really exercise\", \"I don't really exercise\", 'Early morning', \"I don't really exercise\", 'Not always', 'Temptation and cravings', '4', 'No', 'No', \"I'm sorry ... I'm not really interested in exercising\"), (289, '2019/07/04 8:40:29 PM GMT+5:30', 'Praveen S', 'Male', '15 to 18', '3', 'Average', 'Never', \"I'll become too tired;I don't really enjoy exercising\", \"I don't really exercise\", 'With a friend', 'Early morning', '30 minutes', 'No', 'Temptation and cravings', '3', 'Yes', 'Yes', \"I'm sorry ... I'm not really interested in exercising\"), (290, '2019/07/04 8:58:05 PM GMT+5:30', 'J prabhu', 'Male', '30 to 40', '3', 'Unfit', 'Never', \"I don't have enough time;I can't stay motivated;I don't really enjoy exercising\", \"I don't really exercise\", \"I don't really exercise\", 'Early morning', \"I don't really exercise\", 'Not always', 'Lack of time;Cost;Ease of access to fast food;Temptation and cravings', '2', 'Yes', 'No', 'See the answer to what barriers, if any, prevent you from exercising  regularly '), (291, '2019/07/04 9:13:14 PM GMT+5:30', 'Neethu', 'Female', '30 to 40', '5', 'Average', '1 to 2 times a week', \"I don't have enough time\", 'Walking or jogging', 'Alone', 'Early morning', '30 minutes', 'Not always', 'Lack of time', '3', 'Yes', 'Yes', 'I want to be fit'), (292, '2019/07/04 9:16:49 PM GMT+5:30', 'Sangamithra', 'Female', '19 to 25', '5', 'Good', '1 to 2 times a week', \"I can't stay motivated\", 'Yoga', 'Alone', 'Early morning', '30 minutes', 'Not always', 'Temptation and cravings', '3', 'Yes', 'Yes', 'I want to lose weight;I want to relieve stress'), (293, '2019/07/04 9:25:59 PM GMT+5:30', 'Suchitra Menon ', 'Female', '30 to 40', '2', 'Average', 'Never', \"I don't have enough time\", \"I don't really exercise\", \"I don't really exercise\", 'Evening', \"I don't really exercise\", 'Not always', 'Lack of time', '2', 'Yes', 'No', 'I want to be flexible'), (294, '2019/07/04 9:41:36 PM GMT+5:30', 'Nisha', 'Female', '30 to 40', '5', 'Average', 'Everyday', \"I'll become too tired\", 'Yoga', 'Alone', 'Early morning', '1 hour', 'Not always', 'Temptation and cravings', '3', 'Yes', 'No', 'I want to relieve stress'), (295, '2019/07/04 9:44:39 PM GMT+5:30', 'Vishnu', 'Male', '30 to 40', '3', 'Unfit', '2 to 3 times a week', \"I don't have enough time\", 'Walking or jogging', 'Alone', 'Early morning', '30 minutes', 'No', 'Lack of time', '3', 'Yes', 'No', 'I want to be flexible'), (296, '2019/07/04 9:50:46 PM GMT+5:30', 'Sonali Naresh', 'Female', '19 to 25', '4', 'Average', '2 to 3 times a week', \"I don't have enough time;I can't stay motivated\", 'Walking or jogging', 'Alone', 'Evening', '30 minutes', 'Not always', 'Ease of access to fast food;Temptation and cravings', '3', 'Yes', 'No', 'I want to be fit;I want to lose weight;I want to relieve stress'), (297, '2019/07/04 9:53:16 PM GMT+5:30', 'No name', 'Female', '15 to 18', '5', 'Very good', 'Everyday', \"I'll become too tired\", 'Walking or jogging', 'Alone', 'Early morning', '1 hour', 'Not always', 'Temptation and cravings', '4', 'Yes', 'No', 'I want to be fit;I want to lose weight;I want to be flexible'), (298, '2019/07/04 10:05:25 PM GMT+5:30', 'Babu', 'Male', '40 and above', '3', 'Unfit', 'Never', \"I don't have enough time;I can't stay motivated\", 'Walking or jogging', \"I don't really exercise\", 'Early morning', \"I don't really exercise\", 'Yes', 'Lack of time', '3', 'Yes', 'Yes', 'I want to be fit'), (299, '2019/07/04 10:13:01 PM GMT+5:30', 'Manoranjani. L. N', 'Female', '15 to 18', '5', 'Average', 'Never', \"I don't have enough time;I don't really enjoy exercising\", \"I don't really exercise\", 'Within a class environment', 'Early morning', \"I don't really exercise\", 'Not always', 'Temptation and cravings', '3', 'No', 'No', 'I want to be fit;I want to be flexible;I want to relieve stress'), (300, '2019/07/04 10:14:32 PM GMT+5:30', 'Saikrishnan ', 'Male', '15 to 18', '5', 'Perfect', 'Everyday', \"I don't have enough time\", 'Walking or jogging;Gym;Swimming;Yoga;Zumba dance;Lifting weights;Team sport', 'With a friend', 'Early morning', '3 hours and above', 'No', 'Temptation and cravings', '5', 'Yes', 'Yes', 'I want to be fit'), (301, '2019/07/04 10:29:02 PM GMT+5:30', 'Mridula J', 'Female', '26 to 30', '4', 'Very good', '5 to 6 times a week', \"I'll become too tired\", 'Walking or jogging', 'Alone', 'Evening', '30 minutes', 'Not always', 'Temptation and cravings', '4', 'Yes', 'No', 'I want to lose weight;I want to be flexible;I want to relieve stress'), (302, '2019/07/04 10:39:29 PM GMT+5:30', 'Brijitha', 'Female', '30 to 40', '5', 'Unfit', 'Never', \"I don't have enough time\", 'Yoga', \"I don't really exercise\", 'Early morning', \"I don't really exercise\", 'No', 'Lack of time', '1', 'No', 'No', 'I want to lose weight'), (303, '2019/07/04 10:50:50 PM GMT+5:30', 'Naheeda ', 'Female', '30 to 40', '3', 'Average', '2 to 3 times a week', \"I don't have enough time\", 'Walking or jogging', 'Alone', 'Evening', '2 hours', 'Not always', 'Cost', '3', 'Yes', 'No', 'I want to be fit;I want to lose weight;I want to relieve stress'), (304, '2019/07/05 3:12:24 AM GMT+5:30', 'Subhashini ', 'Female', '30 to 40', '5', 'Average', '1 to 2 times a week', \"I don't have enough time\", 'Walking or jogging', 'Alone', 'Evening', '30 minutes', 'Not always', 'Lack of time', '3', 'Yes', 'No', 'I want to be fit;I want to lose weight'), (305, '2019/07/05 5:34:32 AM GMT+5:30', 'Snehaa', 'Female', '15 to 18', '4', 'Good', '2 to 3 times a week', \"I don't have enough time;I'll become too tired\", 'Walking or jogging;Yoga', 'Alone', 'Evening', '30 minutes', 'Not always', 'Temptation and cravings', '3', 'Yes', 'No', 'I want to be fit;I want to be flexible'), (306, '2019/07/05 8:32:21 AM GMT+5:30', 'A. SIMAN RAAHEEL', 'Female', '15 to 18', '3', 'Good', 'Never', \"I don't have enough time;I'll become too tired\", \"I don't really exercise\", \"I don't really exercise\", 'Early morning', \"I don't really exercise\", 'Not always', 'Lack of time;Ease of access to fast food', '3', 'Yes', 'No', \"I'm sorry ... I'm not really interested in exercising\"), (307, '2019/07/05 8:42:17 AM GMT+5:30', 'Pushkala P', 'Female', '40 and above', '2', 'Very good', 'Never', \"I don't have enough time;I don't really enjoy exercising\", \"I don't really exercise\", \"I don't really exercise\", 'Early morning', \"I don't really exercise\", 'Yes', 'Temptation and cravings', '2', 'No', 'No', 'I want to lose weight;I want to relieve stress'), (308, '2019/07/05 9:32:21 AM GMT+5:30', 'Dhivya', 'Female', '15 to 18', '3', 'Good', 'Never', \"I don't really enjoy exercising\", \"I don't really exercise\", \"I don't really exercise\", 'Early morning', \"I don't really exercise\", 'Yes', 'Temptation and cravings', '4', 'No', 'No', \"I'm sorry ... I'm not really interested in exercising\"), (309, '2019/07/05 10:16:38 AM GMT+5:30', 'Thejas', 'Male', '15 to 18', '4', 'Unfit', '1 to 2 times a week', \"I can't stay motivated\", 'Gym', 'Alone', 'Evening', '1 hour', 'Not always', 'Temptation and cravings', '2', 'Yes', 'No', 'I want to lose weight;I want to be flexible'), (310, '2019/07/05 10:24:06 AM GMT+5:30', 'Neha', 'Female', '15 to 18', '3', 'Good', '1 to 2 times a week', \"I don't have enough time\", 'Yoga', 'With a group', 'Afternoon', '1 hour', 'Not always', 'Temptation and cravings', '3', 'Yes', 'Yes', 'I want to be flexible'), (311, '2019/07/05 10:24:27 AM GMT+5:30', 'Gowrishankar', 'Male', '19 to 25', '4', 'Average', '1 to 2 times a week', \"I don't have enough time;I can't stay motivated\", 'Team sport', 'With a group', 'Evening', '1 hour', 'No', 'Lack of time;Temptation and cravings', '3', 'No', 'No', 'I want to be fit;I want to be flexible;I want to relieve stress;I want to achieve a sporting goal'), (312, '2019/07/05 10:26:36 AM GMT+5:30', 'Jamal Syed', 'Male', '19 to 25', '4', 'Good', '3 to 4 times a week', \"I can't stay motivated\", 'Walking or jogging;Gym;Swimming;Lifting weights;Team sport', 'Alone', 'Early morning', '2 hours', 'Yes', 'Ease of access to fast food', '4', 'Yes', 'No', 'I want to be fit;I want to increase muscle mass and strength;I want to relieve stress'), (313, '2019/07/05 10:35:40 AM GMT+5:30', 'Mithra V ', 'Female', '15 to 18', '4', 'Average', 'Never', \"I don't have enough time\", \"I don't really exercise\", \"I don't really exercise\", 'Early morning', \"I don't really exercise\", 'Not always', 'Temptation and cravings', '3', 'Yes', 'No', 'I want to lose weight;I want to relieve stress'), (314, '2019/07/05 10:35:48 AM GMT+5:30', 'K.Abinaya', 'Female', '15 to 18', '4', 'Very good', '1 to 2 times a week', \"I don't have enough time\", 'Yoga', 'Alone', 'Evening', '30 minutes', 'Not always', 'Temptation and cravings', '3', 'No', 'No', 'I want to be fit'), (315, '2019/07/05 10:38:04 AM GMT+5:30', 'R. Haritha Raj', 'Female', '15 to 18', '4', 'Average', '1 to 2 times a week', \"I can't stay motivated\", 'Gym', 'Alone', 'Evening', '1 hour', 'No', 'Ease of access to fast food;Temptation and cravings', '2', 'Yes', 'No', 'I want to relieve stress'), (316, '2019/07/05 10:38:13 AM GMT+5:30', 'Rohit', 'Male', '19 to 25', '4', 'Good', '3 to 4 times a week', 'I have an injury', 'Walking or jogging;Gym', 'Alone', 'Evening', '1 hour', 'No', 'Temptation and cravings', '3', 'No', 'Yes', 'I want to be fit'), (317, '2019/07/05 10:38:21 AM GMT+5:30', 'Prajwal Singh Gautam', 'Male', '15 to 18', '5', 'Very good', '5 to 6 times a week', 'I exercise regularly with no barriers', 'Walking or jogging;Gym;Swimming;Lifting weights;Team sport', 'With a group', 'Evening', '1 hour', 'No', 'Lack of time', '4', 'Yes', 'No', 'I want to be fit;I want to achieve a sporting goal'), (318, '2019/07/05 10:41:48 AM GMT+5:30', 'Aswath Vinayak K', 'Male', '19 to 25', '5', 'Good', '5 to 6 times a week', \"I don't have enough time\", 'Gym;Team sport', 'Alone', 'Evening', '2 hours', 'Not always', 'Ease of access to fast food;Temptation and cravings', '3', 'No', 'No', 'I want to be fit'), (319, '2019/07/05 10:41:57 AM GMT+5:30', 'Shubh Madhavan', 'Male', '19 to 25', '4', 'Good', '3 to 4 times a week', \"I can't stay motivated;I'll become too tired\", 'Walking or jogging;Lifting weights;Team sport', 'Alone', 'Afternoon', '1 hour', 'Not always', 'Temptation and cravings', '3', 'Yes', 'Yes', 'I want to be fit;I want to increase muscle mass and strength;I want to lose weight;I want to be flexible;I want to relieve stress;I want to achieve a sporting goal'), (320, '2019/07/05 11:00:17 AM GMT+5:30', 'Ambiga', 'Female', '40 and above', '1', 'Perfect', 'Never', 'I always busy with my regular works', \"I don't really exercise\", 'Alone', 'Early morning', \"I don't really exercise\", 'Yes', 'Temptation and cravings', '5', 'Yes', 'No', 'I want to be fit'), (321, '2019/07/05 11:00:32 AM GMT+5:30', 'Subhabali', 'Female', '40 and above', '5', 'Good', '5 to 6 times a week', 'I exercise regularly with no barriers', 'Walking or jogging;Yoga', 'Alone', 'Evening', '1 hour', 'Not always', 'Temptation and cravings', '3', 'Yes', 'No', 'I want to lose weight;I want to be flexible'), (322, '2019/07/05 11:01:03 AM GMT+5:30', 'MANASA', 'Female', '19 to 25', '3', 'Very good', '1 to 2 times a week', \"I don't have enough time\", 'Walking or jogging', 'Alone', 'Early morning', '30 minutes', 'Yes', 'Temptation and cravings', '3', 'Yes', 'No', 'I want to be fit;I want to be flexible'), (323, '2019/07/05 11:07:38 AM GMT+5:30', 'Kandavel', 'Male', '19 to 25', '5', 'Perfect', '5 to 6 times a week', \"I don't have enough time\", 'Walking or jogging;Gym;Team sport', 'Alone', 'Afternoon', '1 hour', 'Not always', 'Temptation and cravings', '4', 'Yes', 'No', 'I want to be fit;I want to increase muscle mass and strength;I want to relieve stress'), (324, '2019/07/05 11:08:32 AM GMT+5:30', 'Sudharsan K', 'Male', '19 to 25', '5', 'Average', '3 to 4 times a week', 'Laziness', 'Gym', 'Alone', 'Early morning', '1 hour', 'Yes', 'Lack of time', '3', 'No', 'Yes', 'I want to be fit'), (325, '2019/07/05 11:08:46 AM GMT+5:30', 'Sanjana', 'Female', '19 to 25', '3', 'Good', '1 to 2 times a week', \"I don't have enough time;I can't stay motivated\", 'Walking or jogging', 'Alone', 'Early morning', '30 minutes', 'Not always', 'Temptation and cravings', '3', 'No', 'No', 'My dad motivates me '), (326, '2019/07/05 11:13:12 AM GMT+5:30', 'Aaron Abraham Mathew', 'Male', '15 to 18', '4', 'Good', '3 to 4 times a week', \"I don't have enough time;I'll become too tired\", 'Walking or jogging;Gym;Swimming;Team sport', 'With a group', 'Evening', '2 hours', 'Yes', 'Temptation and cravings', '3', 'Yes', 'Yes', 'I want to be fit;I want to increase muscle mass and strength;I want to be flexible;I want to relieve stress'), (327, '2019/07/05 11:13:29 AM GMT+5:30', 'V.M.Yashaswini ', 'Female', '15 to 18', '4', 'Good', '3 to 4 times a week', \"I'll become too tired\", 'Walking or jogging;Zumba dance', 'Alone', 'Evening', '30 minutes', 'Not always', 'Ease of access to fast food', '3', 'Yes', 'No', 'I want to be flexible'), (328, '2019/07/05 11:13:58 AM GMT+5:30', 'Nayana', 'Female', '19 to 25', '4', 'Average', '2 to 3 times a week', \"I don't have enough time\", 'Walking or jogging;Zumba dance', 'Alone', 'Early morning', '1 hour', 'Not always', 'Ease of access to fast food', '3', 'Yes', 'Yes', 'I want to be fit;I want to lose weight;I want to be flexible'), (329, '2019/07/05 11:14:01 AM GMT+5:30', 'Abhay Krishna', 'Male', '15 to 18', '3', 'Good', '2 to 3 times a week', \"I don't have enough time\", 'Team sport', 'Alone', 'Evening', '1 hour', 'Yes', 'Ease of access to fast food;Temptation and cravings', '3', 'No', 'No', 'I want to be fit;I want to increase muscle mass and strength;I want to achieve a sporting goal'), (330, '2019/07/05 11:15:11 AM GMT+5:30', 'Smrithi', 'Female', '15 to 18', '5', 'Good', '1 to 2 times a week', 'I exercise regularly with no barriers', 'Walking or jogging;Team sport', 'With a friend', 'Early morning', '2 hours', 'Not always', 'Temptation and cravings', '4', 'Yes', 'No', 'I want to relieve stress'), (331, '2019/07/05 11:15:18 AM GMT+5:30', 'Subodh', 'Male', '19 to 25', '4', 'Average', '3 to 4 times a week', \"I don't have enough time;I can't stay motivated;I'll become too tired\", 'Gym', 'Alone', 'Evening', '1 hour', 'Yes', 'Temptation and cravings', '3', 'No', 'No', 'I want to be fit;I want to increase muscle mass and strength;I want to lose weight;I want to be flexible;I want to relieve stress;I want to achieve a sporting goal'), (332, '2019/07/05 11:19:22 AM GMT+5:30', 'Amruth', 'Male', '15 to 18', '4', 'Very good', '3 to 4 times a week', \"I don't have enough time;I can't stay motivated\", 'Swimming;Team sport', 'With a friend', 'Early morning', '30 minutes', 'Not always', 'Lack of time', '4', 'No', 'No', 'I want to be fit;I want to achieve a sporting goal'), (333, '2019/07/05 11:19:40 AM GMT+5:30', 'Dhanushri', 'Female', '15 to 18', '4', 'Good', '5 to 6 times a week', \"I don't have enough time;I can't stay motivated;I'll become too tired\", 'Walking or jogging;Team sport', 'With a friend', 'Early morning', '30 minutes', 'Not always', 'Ease of access to fast food', '3', 'No', 'Yes', 'I want to be fit;I want to lose weight;I want to achieve a sporting goal'), (334, '2019/07/05 11:26:30 AM GMT+5:30', 'Varsha ', 'Female', '19 to 25', '3', 'Unfit', '1 to 2 times a week', \"I can't stay motivated\", 'Zumba dance', 'Alone', 'Evening', '1 hour', 'Not always', 'Ease of access to fast food;Temptation and cravings', '2', 'No', 'No', 'I want to be fit;I want to lose weight;I want to be flexible;I want to relieve stress'), (335, '2019/07/05 11:29:02 AM GMT+5:30', 'Samyuktha', 'Female', '19 to 25', '5', 'Very good', '5 to 6 times a week', \"I don't have enough time\", 'Lifting weights', 'With a group', 'Early morning', '2 hours', 'Yes', 'Cost;Temptation and cravings', '3', 'Yes', 'Yes', 'I want to relieve stress'), (336, '2019/07/05 11:29:18 AM GMT+5:30', 'Manju', 'Female', '19 to 25', '3', 'Average', '1 to 2 times a week', \"I'll become too tired\", 'Walking or jogging', 'Alone', 'Early morning', '30 minutes', 'Yes', 'Lack of time', '3', 'Yes', 'Yes', 'I want to lose weight'), (337, '2019/07/05 11:29:51 AM GMT+5:30', 'S Varsha ', 'Female', '15 to 18', '2', 'Average', 'Everyday', \"I'll become too tired;I have an injury\", 'Walking or jogging', 'Alone', 'Early morning', '30 minutes', 'Not always', 'Temptation and cravings', '3', 'No', 'No', \"I'm sorry ... I'm not really interested in exercising\"), (338, '2019/07/05 11:30:27 AM GMT+5:30', 'Khamaleswar C U', 'Male', '19 to 25', '5', 'Good', '5 to 6 times a week', 'I exercise regularly with no barriers', 'Gym;Yoga', 'Alone', 'Evening', '2 hours', 'Not always', 'Lack of time', '4', 'Yes', 'No', 'I want to be fit'), (339, '2019/07/05 11:33:39 AM GMT+5:30', 'Nehaa Pradeep', 'Female', '15 to 18', '5', 'Good', '5 to 6 times a week', \"I don't have enough time\", 'Walking or jogging;Gym;Team sport', 'Alone', 'Early morning', '2 hours', 'Not always', 'Temptation and cravings', '3', 'Yes', 'Yes', 'I want to be fit;I want to increase muscle mass and strength;I want to lose weight'), (340, '2019/07/05 11:38:03 AM GMT+5:30', 'Jaysharan', 'Male', '19 to 25', '5', 'Very good', '3 to 4 times a week', \"I don't have enough time\", 'Walking or jogging;Yoga;Lifting weights', 'Alone', 'Evening', '1 hour', 'Not always', 'Temptation and cravings', '4', 'Yes', 'Yes', 'I want to be fit;I want to increase muscle mass and strength;I want to lose weight;I want to be flexible;I want to relieve stress'), (341, '2019/07/05 11:39:57 AM GMT+5:30', 'Sandhya', 'Female', '19 to 25', '3', 'Good', '1 to 2 times a week', \"I can't stay motivated\", 'Walking or jogging', 'Alone', 'Evening', '30 minutes', 'Not always', 'Ease of access to fast food;Temptation and cravings', '3', 'No', 'Yes', 'I want to be fit;I want to be flexible;I want to relieve stress'), (342, '2019/07/05 11:46:21 AM GMT+5:30', 'Aishwarya Divaker', 'Female', '19 to 25', '4', 'Good', '3 to 4 times a week', 'I exercise regularly with no barriers', 'Walking or jogging', 'Alone', 'Evening', '1 hour', 'No', 'Ease of access to fast food;Temptation and cravings', '2', 'No', 'No', 'I want to lose weight;I want to be flexible'), (343, '2019/07/05 11:47:46 AM GMT+5:30', 'Dwaragesh', 'Male', '15 to 18', '5', 'Good', 'Everyday', \"I don't have enough time\", 'Gym', 'Alone', 'Evening', '2 hours', 'Yes', 'Lack of time', '4', 'Yes', 'Yes', 'I want to increase muscle mass and strength'), (344, '2019/07/05 11:54:05 AM GMT+5:30', 'Prarthana', 'Female', '15 to 18', '2', 'Unfit', 'Never', \"I can't stay motivated;I'll become too tired;I don't really enjoy exercising\", \"Walking or jogging;I don't really exercise\", \"I don't really exercise\", 'Evening', \"I don't really exercise\", 'Not always', 'Ease of access to fast food;Temptation and cravings', '3', 'No', 'Yes', \"I'm sorry ... I'm not really interested in exercising\"), (345, '2019/07/05 11:54:29 AM GMT+5:30', 'Kumaran', 'Male', '15 to 18', '5', 'Perfect', 'Everyday', 'I have an injury', 'Walking or jogging;Team sport', 'With a group', 'Evening', '3 hours and above', 'Yes', 'I have a balanced diet', '5', 'Yes', 'Yes', 'I want to be fit;I want to be flexible;I want to relieve stress;I want to achieve a sporting goal'), (346, '2019/07/05 11:55:50 AM GMT+5:30', 'Hemalikaa', 'Female', '19 to 25', '4', 'Good', 'Everyday', 'I have an injury', 'Gym', 'Alone', 'Evening', '1 hour', 'Yes', 'I have a balanced diet', '3', 'Yes', 'Yes', 'I want to be fit;I want to lose weight'), (347, '2019/07/05 11:56:34 AM GMT+5:30', 'Saagarika', 'Female', '19 to 25', '4', 'Good', '1 to 2 times a week', \"I don't have enough time\", 'Walking or jogging;Gym', 'Alone', 'Evening', '1 hour', 'Not always', 'Ease of access to fast food;Temptation and cravings', '3', 'Yes', 'Yes', 'I want to be fit;I want to relieve stress'), (348, '2019/07/05 11:56:39 AM GMT+5:30', 'Saagarika', 'Female', '19 to 25', '4', 'Good', '1 to 2 times a week', \"I don't have enough time\", 'Walking or jogging;Gym', 'Alone', 'Evening', '1 hour', 'Not always', 'Ease of access to fast food;Temptation and cravings', '3', 'Yes', 'Yes', 'I want to be fit;I want to relieve stress'), (349, '2019/07/05 11:58:38 AM GMT+5:30', 'Vijayalakshmi ', 'Female', '40 and above', '4', 'Average', '3 to 4 times a week', \"I can't stay motivated\", 'Walking or jogging;Lifting weights', 'Alone', 'Early morning', '1 hour', 'Not always', 'Ease of access to fast food', '3', 'Yes', 'Yes', 'I want to be fit;I want to lose weight;I want to relieve stress'), (350, '2019/07/05 12:07:38 PM GMT+5:30', 'Rahul', 'Male', '19 to 25', '3', 'Average', '2 to 3 times a week', \"My friends don't come \", 'Team sport', 'With a group', 'Early morning', '2 hours', 'Not always', 'Ease of access to fast food', '3', 'No', 'No', 'I want to lose weight'), (351, '2019/07/05 12:12:34 PM GMT+5:30', 'H SANTHOSH', 'Male', '19 to 25', '2', 'Average', '1 to 2 times a week', \"I don't have enough time;I'll become too tired;I don't really enjoy exercising\", 'Walking or jogging;Swimming;Yoga;Team sport', 'With a friend', 'Early morning', '30 minutes', 'No', 'Ease of access to fast food;Temptation and cravings', '4', 'No', 'Yes', 'I want to be fit;I want to lose weight'), (352, '2019/07/05 12:15:09 PM GMT+5:30', 'Abhimanyu Gulia', 'Male', '19 to 25', '5', 'Average', '3 to 4 times a week', 'I have an injury', 'Team sport', 'With a group', 'Evening', '2 hours', 'Not always', 'Temptation and cravings', '3', 'Yes', 'Yes', 'I want to achieve a sporting goal'), (353, '2019/07/05 12:20:57 PM GMT+5:30', 'Sathya', 'Male', '15 to 18', '3', 'Average', 'Never', \"I'll become too tired\", \"I don't really exercise\", \"I don't really exercise\", 'Early morning', \"I don't really exercise\", 'Yes', 'I have a balanced diet', '4', 'No', 'No', \"I'm sorry ... I'm not really interested in exercising\"), (354, '2019/07/05 12:22:38 PM GMT+5:30', 'Sushwanth ', 'Male', '19 to 25', '5', 'Average', '1 to 2 times a week', 'I have an injury', 'Walking or jogging', 'Alone', 'Early morning', '30 minutes', 'Not always', 'Lack of time', '3', 'No', 'No', 'I want to lose weight'), (355, '2019/07/05 12:23:30 PM GMT+5:30', 'Sindhu', 'Female', '19 to 25', '5', 'Very good', 'Everyday', \"I don't have enough time\", 'Gym', 'With a friend', 'Evening', '2 hours', 'No', 'Temptation and cravings', '3', 'Yes', 'No', 'I want to be fit;I want to lose weight;I want to be flexible;I want to relieve stress'), (356, '2019/07/05 12:24:52 PM GMT+5:30', 'Sudhansu', 'Male', '19 to 25', '5', 'Average', '3 to 4 times a week', \"I don't have enough time\", 'Gym', 'With a friend', 'Evening', '1 hour', 'Yes', 'Ease of access to fast food', '4', 'Yes', 'No', 'I want to be fit;I want to be flexible;I want to relieve stress'), (357, '2019/07/05 12:27:00 PM GMT+5:30', 'Prady', 'Male', '15 to 18', '3', 'Good', 'Everyday', \"I don't have enough time;I'll become too tired\", 'Walking or jogging;Gym;Lifting weights', 'Within a class environment', 'Early morning', '2 hours', 'Not always', 'Lack of time;Ease of access to fast food;Temptation and cravings', '3', 'No', 'No', 'I want to be fit;I want to lose weight'), (358, '2019/07/05 12:31:38 PM GMT+5:30', 'Mohit', 'Male', '19 to 25', '4', 'Good', '2 to 3 times a week', \"I can't stay motivated\", 'Team sport', 'With a group', 'Early morning', '1 hour', 'Not always', 'Temptation and cravings', '3', 'No', 'No', 'I want to be fit'), (359, '2019/07/05 12:35:07 PM GMT+5:30', 'Ankit Maini', 'Male', '19 to 25', '4', 'Good', '5 to 6 times a week', 'I exercise regularly with no barriers', 'Team sport', 'With a group', 'Evening', '1 hour', 'No', 'Temptation and cravings', '5', 'Yes', 'Yes', 'I want to be fit;I want to increase muscle mass and strength;I want to achieve a sporting goal'), (360, '2019/07/05 12:38:18 PM GMT+5:30', 'Shrinidhi ', 'Female', '19 to 25', '3', 'Average', '5 to 6 times a week', \"I don't have enough time\", 'Walking or jogging', 'With a group', 'Evening', '30 minutes', 'Not always', 'Ease of access to fast food', '4', 'No', 'No', 'Reaching class on time 😅'), (361, '2019/07/05 12:39:55 PM GMT+5:30', 'Haniya', 'Female', '15 to 18', '4', 'Good', '2 to 3 times a week', \"I don't have enough time;I can't stay motivated;I'll become too tired\", 'Walking or jogging;Yoga', 'Alone', 'Evening', '30 minutes', 'Yes', 'I have a balanced diet', '4', 'Yes', 'No', 'I want to be fit;I want to increase muscle mass and strength;I want to relieve stress'), (362, '2019/07/05 12:39:57 PM GMT+5:30', 'Shashank Kumar ', 'Male', '19 to 25', '4', 'Good', 'Everyday', \"I don't have enough time\", 'Walking or jogging;Gym;Lifting weights', 'With a friend', 'Evening', '2 hours', 'No', 'Ease of access to fast food', '3', 'No', 'Yes', 'I want to be fit;I want to increase muscle mass and strength;I want to lose weight;I want to be flexible;I want to relieve stress;I want to achieve a sporting goal'), (363, '2019/07/05 12:44:59 PM GMT+5:30', 'Meera', 'Female', '19 to 25', '2', 'Good', '3 to 4 times a week', \"I'll become too tired;I don't really enjoy exercising\", 'Walking or jogging;Yoga;Team sport', 'Alone', 'Evening', '1 hour', 'No', 'Temptation and cravings', '3', 'No', 'Yes', 'I want to be fit;I want to lose weight;I want to relieve stress'), (364, '2019/07/05 12:50:50 PM GMT+5:30', 'Neil', 'Male', '19 to 25', '5', 'Average', '2 to 3 times a week', \"I can't stay motivated\", 'Walking or jogging;Team sport', 'Alone', 'Evening', '30 minutes', 'No', 'Temptation and cravings', '3', 'Yes', 'Yes', 'Personal reasons'), (365, '2019/07/05 12:51:41 PM GMT+5:30', 'Chaitana', 'Female', '19 to 25', '4', 'Average', '2 to 3 times a week', \"I don't have enough time\", 'Walking or jogging', 'Alone', 'Early morning', '30 minutes', 'No', 'Temptation and cravings', '2', 'No', 'No', 'I want to lose weight'), (366, '2019/07/05 12:56:33 PM GMT+5:30', 'N. Umamaheswari', 'Female', '30 to 40', '5', 'Unfit', '3 to 4 times a week', \"I'll become too tired\", 'Yoga', 'Alone', 'Early morning', '30 minutes', 'Not always', 'Lack of time', '3', 'Yes', 'No', 'I want to relieve stress'), (367, '2019/07/05 12:58:46 PM GMT+5:30', 'Rijul Dhingra', 'Male', '19 to 25', '4', 'Good', '5 to 6 times a week', \"I don't have enough time\", 'Walking or jogging;Swimming;Team sport', 'Alone', 'Evening', '2 hours', 'No', 'Temptation and cravings', '5', 'Yes', 'No', 'I want to be fit;I want to lose weight;I want to achieve a sporting goal'), (368, '2019/07/05 1:14:04 PM GMT+5:30', 'Sanjana', 'Female', '19 to 25', '3', 'Good', 'Never', \"I don't have enough time\", 'Walking or jogging', \"I don't really exercise\", 'Evening', \"I don't really exercise\", 'Not always', 'Lack of time', '2', 'Yes', 'No', 'I want to relieve stress'), (369, '2019/07/05 1:15:09 PM GMT+5:30', 'Nithya', 'Female', '19 to 25', '3', 'Average', 'Never', \"I don't really enjoy exercising\", \"I don't really exercise\", \"I don't really exercise\", 'Early morning', \"I don't really exercise\", 'Not always', 'Temptation and cravings', '3', 'Yes', 'Yes', 'I want to lose weight'), (370, '2019/07/05 1:16:19 PM GMT+5:30', 'Sowndarya', 'Female', '15 to 18', '4', 'Good', '1 to 2 times a week', 'I have an injury', 'Walking or jogging', 'Alone', 'Early morning', '30 minutes', 'Not always', 'Temptation and cravings', '3', 'Yes', 'No', 'I want to be fit'), (371, '2019/07/05 1:16:31 PM GMT+5:30', 'Soundharya.', 'Female', '15 to 18', '3', 'Unfit', 'Never', \"I don't have enough time\", \"I don't really exercise\", \"I don't really exercise\", 'Early morning', \"I don't really exercise\", 'Not always', 'Lack of time', '1', 'No', 'No', \"I'm sorry ... I'm not really interested in exercising\"), (372, '2019/07/05 1:20:37 PM GMT+5:30', 'Sudarshan S', 'Male', '19 to 25', '4', 'Good', '3 to 4 times a week', \"I don't have enough time\", 'Walking or jogging;Team sport', 'With a group', 'Early morning', '30 minutes', 'Not always', 'Temptation and cravings', '3', 'Yes', 'Yes', 'I want to be fit'), (373, '2019/07/05 1:20:40 PM GMT+5:30', 'Depika', 'Female', '19 to 25', '3', 'Good', '1 to 2 times a week', \"I don't have enough time\", 'Walking or jogging', 'Alone', 'Evening', '1 hour', 'No', 'Temptation and cravings', '3', 'No', 'No', 'I want to lose weight;I want to be flexible'), (374, '2019/07/05 1:21:17 PM GMT+5:30', 'Ajay MP', 'Male', '30 to 40', '4', 'Average', '2 to 3 times a week', \"I don't have enough time\", 'Walking or jogging', 'Alone', 'Early morning', '30 minutes', 'Not always', 'Cost', '3', 'Yes', 'No', 'I want to be fit;I want to be flexible;I want to relieve stress'), (375, '2019/07/05 1:21:35 PM GMT+5:30', 'Nandakumar', 'Male', '40 and above', '5', 'Average', '2 to 3 times a week', \"I don't really enjoy exercising\", 'Walking or jogging;Yoga', 'Alone', 'Early morning', '1 hour', 'No', 'Temptation and cravings', '4', 'No', 'No', 'I want to be fit;I want to lose weight'), (376, '2019/07/05 1:22:15 PM GMT+5:30', 'Akhil Pisharody', 'Male', '19 to 25', '2', 'Average', 'Never', \"I don't really enjoy exercising\", \"I don't really exercise\", \"I don't really exercise\", 'Evening', \"I don't really exercise\", 'Not always', \"i don't have a proper diet\", '5', 'No', 'Yes', \"I want to be fit;I'm sorry ... I'm not really interested in exercising\"), (377, '2019/07/05 1:23:44 PM GMT+5:30', 'Gayathri', 'Female', '26 to 30', '3', 'Average', '1 to 2 times a week', \"I can't stay motivated\", 'Walking or jogging', 'Alone', 'Early morning', \"I don't really exercise\", 'Not always', 'Temptation and cravings', '3', 'No', 'No', 'I want to lose weight'), (378, '2019/07/05 1:27:22 PM GMT+5:30', 'AJJ', 'Male', '19 to 25', '4', 'Good', '3 to 4 times a week', \"I don't have enough time\", 'Walking or jogging;Lifting weights', 'Alone', 'Early morning', '30 minutes', 'No', 'Ease of access to fast food;Temptation and cravings', '4', 'Yes', 'Yes', 'I want to be fit;I want to increase muscle mass and strength;I want to relieve stress'), (379, '2019/07/05 1:28:04 PM GMT+5:30', 'Sayooj K Karun', 'Male', '19 to 25', '5', 'Average', 'Never', \"I don't have enough time\", 'Walking or jogging', \"I don't really exercise\", 'Early morning', \"I don't really exercise\", 'Not always', 'Lack of time', '3', 'No', 'No', 'I want to be fit'), (380, '2019/07/05 1:28:18 PM GMT+5:30', 'Arun', 'Male', '19 to 25', '3', 'Good', 'Never', \"I don't have enough time\", \"I don't really exercise\", \"I don't really exercise\", 'Early morning', \"I don't really exercise\", 'Yes', 'I have a balanced diet', '4', 'No', 'No', 'I want to increase muscle mass and strength'), (381, '2019/07/05 1:32:18 PM GMT+5:30', 'Swarna Yemparala ', 'Female', '15 to 18', '4', 'Average', '3 to 4 times a week', \"I don't have enough time;I can't stay motivated;I don't really enjoy exercising\", 'Walking or jogging;Gym', 'Alone', 'Early morning', '1 hour', 'No', 'Cost;Ease of access to fast food;Temptation and cravings', '3', 'No', 'No', 'I want to lose weight'), (382, '2019/07/05 1:32:34 PM GMT+5:30', 'Jagadeesh V', 'Male', '30 to 40', '4', 'Good', '5 to 6 times a week', 'I exercise regularly with no barriers', 'Walking or jogging', 'Alone', 'Early morning', '1 hour', 'Not always', 'Temptation and cravings', '4', 'Yes', 'Yes', 'I want to be fit;I want to lose weight;I want to be flexible'), (383, '2019/07/05 1:33:24 PM GMT+5:30', 'Monisha ', 'Female', '19 to 25', '3', 'Good', '2 to 3 times a week', \"I don't have enough time\", 'Walking or jogging', 'Alone', 'Early morning', \"I don't really exercise\", 'No', 'Lack of time', '3', 'No', 'No', 'I want to relieve stress'), (384, '2019/07/05 1:33:29 PM GMT+5:30', 'ARPUTHA TONY KING', 'Male', '19 to 25', '3', 'Good', '1 to 2 times a week', \"I don't have enough time\", 'Gym', 'With a friend', 'Evening', '2 hours', 'Not always', 'Lack of time;Ease of access to fast food', '3', 'Yes', 'No', 'I want to be fit'), (385, '2019/07/05 1:35:59 PM GMT+5:30', 'Minu Philip', 'Female', '19 to 25', '3', 'Good', '3 to 4 times a week', \"I don't have enough time\", 'Walking or jogging;Team sport', 'Alone', 'Evening', '1 hour', 'Yes', 'I have a balanced diet', '5', 'Yes', 'No', 'I want to be fit;I want to lose weight;I want to be flexible;I want to relieve stress'), (386, '2019/07/05 1:36:32 PM GMT+5:30', 'Ammu', 'Female', '26 to 30', '5', 'Unfit', 'Never', \"I don't have enough time\", \"I don't really exercise\", 'Alone', 'Early morning', \"I don't really exercise\", 'Not always', 'Lack of time', '2', 'No', 'No', 'I want to be fit'), (387, '2019/07/05 1:38:48 PM GMT+5:30', 'Thivagar', 'Male', '19 to 25', '3', 'Good', '1 to 2 times a week', \"I can't stay motivated\", 'Walking or jogging', 'Alone', 'Evening', '1 hour', 'No', 'Temptation and cravings', '4', 'Yes', 'No', 'I want to relieve stress'), (388, '2019/07/05 1:40:04 PM GMT+5:30', 'Suruthi AP', 'Female', '19 to 25', '5', 'Average', '1 to 2 times a week', \"I can't stay motivated;Laziness mostly \", 'Walking or jogging;Swimming;Yoga', 'Alone', 'Early morning', '2 hours', 'Not always', 'Temptation and cravings', '4', 'Yes', 'No', 'I want to be fit;I want to lose weight;I want to relieve stress;I want to achieve a sporting goal'), (389, '2019/07/05 1:40:30 PM GMT+5:30', 'Kiran raj', 'Male', '19 to 25', '5', 'Good', '1 to 2 times a week', \"I don't have enough time;I can't stay motivated\", 'Gym;Team sport', 'Alone', 'Early morning', '30 minutes', 'No', 'Cost;Ease of access to fast food', '4', 'Yes', 'Yes', 'I want to be fit;I want to be flexible;I want to relieve stress'), (390, '2019/07/05 1:41:49 PM GMT+5:30', 'Vivek', 'Male', '19 to 25', '5', 'Good', 'Everyday', \"I don't have enough time\", 'Walking or jogging;Gym;Lifting weights', 'Alone', 'Evening', '2 hours', 'Yes', 'Ease of access to fast food;Temptation and cravings', '5', 'Yes', 'Yes', 'I want to be fit;I want to increase muscle mass and strength'), (391, '2019/07/05 1:44:00 PM GMT+5:30', 'Gokul ', 'Male', '15 to 18', '5', 'Good', 'Everyday', 'I exercise regularly with no barriers', 'Walking or jogging;Gym;Lifting weights', 'Alone', 'Early morning', '2 hours', 'Not always', 'Temptation and cravings', '3', 'Yes', 'No', 'I want to be fit;I want to increase muscle mass and strength;I want to lose weight;I want to be flexible;I want to relieve stress;I want to achieve a sporting goal'), (392, '2019/07/05 1:44:05 PM GMT+5:30', 'Reshma Sara Alexander ', 'Female', '19 to 25', '4', 'Good', '2 to 3 times a week', \"I can't stay motivated;I'll become too tired;I don't really enjoy exercising\", 'Walking or jogging', 'Alone', 'Early morning', '30 minutes', 'Not always', 'Temptation and cravings', '4', 'Yes', 'No', 'I want to be fit;I want to lose weight;I want to be flexible'), (393, '2019/07/05 1:48:16 PM GMT+5:30', 'JITHU E V', 'Male', '19 to 25', '3', 'Unfit', 'Never', \"I can't stay motivated\", 'Walking or jogging', \"I don't really exercise\", 'Early morning', \"I don't really exercise\", 'No', 'Ease of access to fast food', '2', 'No', 'No', 'I want to be fit'), (394, '2019/07/05 1:49:22 PM GMT+5:30', 'Sreelakshmy ', 'Female', '19 to 25', '1', 'Good', 'Never', \"I don't really enjoy exercising\", \"I don't really exercise\", \"I don't really exercise\", 'Early morning', \"I don't really exercise\", 'Yes', 'I have a balanced diet', '3', 'No', 'No', 'I want to be fit'), (395, '2019/07/05 1:54:01 PM GMT+5:30', 'Murali', 'Male', '40 and above', '3', 'Good', '1 to 2 times a week', \"I don't have enough time\", 'Walking or jogging', 'Alone', 'Early morning', '1 hour', 'Not always', 'Lack of time', '3', 'Yes', 'No', 'I want to be fit;I want to lose weight'), (396, '2019/07/05 2:00:08 PM GMT+5:30', 'Anitha Harikrishnan', 'Female', '30 to 40', '4', 'Good', 'Never', \"I don't have enough time\", \"I don't really exercise\", \"I don't really exercise\", 'Evening', \"I don't really exercise\", 'Yes', 'I have a balanced diet', '3', 'No', 'No', 'Not doing exercise'), (397, '2019/07/05 2:00:55 PM GMT+5:30', 'Syed', 'Male', '19 to 25', '3', 'Average', '1 to 2 times a week', \"I don't have enough time;I can't stay motivated\", 'Walking or jogging', 'Alone', 'Early morning', '30 minutes', 'No', 'Ease of access to fast food', '3', 'No', 'No', 'I want to lose weight;I want to relieve stress'), (398, '2019/07/05 2:02:07 PM GMT+5:30', 'Femi George', 'Female', '19 to 25', '4', 'Good', 'Everyday', \"I don't have enough time\", 'Team sport', 'With a group', 'Evening', '1 hour', 'No', 'Lack of time', '3', 'No', 'No', 'I want to relieve stress'), (399, '2019/07/05 2:08:37 PM GMT+5:30', 'Vijay bhupathi', 'Male', '19 to 25', '4', 'Average', '1 to 2 times a week', \"I can't stay motivated;I'll become too tired;I have an injury\", 'Walking or jogging;Lifting weights', 'With a friend', 'Early morning', '1 hour', 'Not always', 'Ease of access to fast food', '3', 'No', 'No', 'I want to be fit;I want to increase muscle mass and strength;I want to be flexible;I want to relieve stress'), (400, '2019/07/05 2:08:51 PM GMT+5:30', 'Krishna Suresh ', 'Female', '19 to 25', '4', 'Good', '1 to 2 times a week', \"I don't have enough time\", 'Walking or jogging', 'Alone', 'Early morning', '30 minutes', 'Not always', 'Temptation and cravings', '3', 'No', 'No', 'I want to be fit;I want to lose weight;I want to be flexible'), (401, '2019/07/05 2:10:29 PM GMT+5:30', 'Lisha', 'Male', '19 to 25', '4', 'Good', '5 to 6 times a week', 'I exercise regularly with no barriers', 'Walking or jogging;Zumba dance', 'With a friend', 'Evening', '2 hours', 'Not always', 'Temptation and cravings', '4', 'Yes', 'No', 'I want to be fit;I want to increase muscle mass and strength;I want to lose weight;I want to be flexible;I want to relieve stress'), (402, '2019/07/05 2:17:00 PM GMT+5:30', 'Pavishna ', 'Female', '19 to 25', '4', 'Good', '1 to 2 times a week', \"I can't stay motivated\", 'Walking or jogging', 'With a group', 'Evening', '30 minutes', 'Yes', 'I have a balanced diet', '4', 'Yes', 'Yes', 'I want to be fit'), (403, '2019/07/05 2:27:36 PM GMT+5:30', 'Siddarth', 'Male', '19 to 25', '5', 'Good', 'Everyday', \"I don't have enough time\", 'Gym;Team sport', 'With a friend', 'Evening', '2 hours', 'Not always', 'Temptation and cravings', '4', 'Yes', 'Yes', 'I want to be fit'), (404, '2019/07/05 2:28:27 PM GMT+5:30', 'Rajesh ', 'Male', '19 to 25', '3', 'Good', '1 to 2 times a week', \"I don't have enough time\", \"I don't really exercise\", 'Alone', 'Early morning', '1 hour', 'Yes', 'Lack of time', '3', 'No', 'No', 'I want to increase muscle mass and strength;I want to lose weight;I want to be flexible'), (405, '2019/07/05 2:30:34 PM GMT+5:30', 'Kausallya. V', 'Female', '19 to 25', '5', 'Good', '2 to 3 times a week', \"I don't have enough time\", 'Walking or jogging;Yoga', 'Alone', 'Evening', '30 minutes', 'Not always', 'Ease of access to fast food', '4', 'Yes', 'No', 'I want to be fit;I want to be flexible'), (406, '2019/07/05 2:34:03 PM GMT+5:30', 'Sowmini P P', 'Female', '40 and above', '3', 'Average', '1 to 2 times a week', \"I don't have enough time\", 'Walking or jogging', 'Alone', 'Evening', '30 minutes', 'No', 'Cost', '3', 'No', 'No', 'I want to relieve stress'), (407, '2019/07/05 2:38:20 PM GMT+5:30', 'Chithiran', 'Male', '19 to 25', '4', 'Good', '5 to 6 times a week', 'I exercise regularly with no barriers', 'Walking or jogging', 'With a friend', 'Early morning', '1 hour', 'Not always', 'Cost', '3', 'No', 'Yes', 'I want to be fit;I want to lose weight'), (408, '2019/07/05 2:38:23 PM GMT+5:30', 'Allwin', 'Male', '19 to 25', '5', 'Average', 'Never', \"I don't have enough time;I can't stay motivated\", \"I don't really exercise\", 'With a friend', 'Early morning', '2 hours', 'Not always', 'Lack of time;Temptation and cravings', '3', 'Yes', 'Yes', 'I want to be fit'), (409, '2019/07/05 2:38:40 PM GMT+5:30', 'Tej', 'Male', '19 to 25', '4', 'Good', '2 to 3 times a week', \"I can't stay motivated;I have an injury\", 'Walking or jogging;Gym;Lifting weights;Team sport', 'With a group', 'Evening', '1 hour', 'Not always', 'Ease of access to fast food;Temptation and cravings', '3', 'Yes', 'No', 'I want to be fit;I want to increase muscle mass and strength'), (410, '2019/07/05 2:38:53 PM GMT+5:30', 'Haripriya', 'Female', '19 to 25', '3', 'Unfit', 'Never', \"I don't have enough time;I can't stay motivated;I'll become too tired\", 'Walking or jogging;Gym;Yoga;Zumba dance', 'Alone', 'Evening', '30 minutes', 'No', 'Lack of time;Cost;Ease of access to fast food;Temptation and cravings', '3', 'Yes', 'No', 'I want to be fit;I want to increase muscle mass and strength;I want to relieve stress;I want to achieve a sporting goal'), (411, '2019/07/05 2:40:08 PM GMT+5:30', 'Meril Jose', 'Male', '19 to 25', '5', 'Good', 'Everyday', 'I exercise regularly with no barriers', 'Walking or jogging', 'Alone', 'Early morning', '30 minutes', 'Yes', 'Temptation and cravings', '3', 'No', 'No', 'I want to be fit'), (412, '2019/07/05 2:46:19 PM GMT+5:30', 'Rahul ', 'Male', '19 to 25', '4', 'Average', 'Never', \"I don't have enough time\", \"Walking or jogging;I don't really exercise\", \"I don't really exercise\", 'Evening', \"I don't really exercise\", 'Not always', 'Lack of time;Cost', '3', 'Yes', 'Yes', 'I want to be fit;I want to be flexible;I want to relieve stress'), (413, '2019/07/05 2:47:55 PM GMT+5:30', 'Preethi T', 'Female', '15 to 18', '2', 'Good', 'Never', \"I don't really enjoy exercising\", \"I don't really exercise\", \"I don't really exercise\", 'Early morning', '30 minutes', 'No', 'Temptation and cravings', '3', 'No', 'No', \"I'm sorry ... I'm not really interested in exercising\"), (414, '2019/07/05 2:48:05 PM GMT+5:30', 'Lavanyaa', 'Female', '19 to 25', '4', 'Average', '2 to 3 times a week', \"I'll become too tired\", 'Walking or jogging', 'Alone', 'Evening', '30 minutes', 'Not always', 'Ease of access to fast food', '4', 'Yes', 'No', 'I want to be fit'), (415, '2019/07/05 3:00:36 PM GMT+5:30', 'GOBINATH', 'Male', '19 to 25', '3', 'Good', 'Never', \"I don't have enough time\", \"I don't really exercise\", 'With a friend', 'Evening', '1 hour', 'Not always', 'I have a balanced diet', '5', 'Yes', 'No', 'I want to be fit'), (416, '2019/07/05 3:12:04 PM GMT+5:30', 'Ayas', 'Male', '19 to 25', '5', 'Perfect', '3 to 4 times a week', 'I exercise regularly with no barriers', 'Gym', 'Alone', 'Evening', '2 hours', 'Yes', 'I have a balanced diet', '4', 'Yes', 'No', 'I want to be fit;I want to increase muscle mass and strength'), (417, '2019/07/05 3:16:04 PM GMT+5:30', 'A ANKIT Sai', 'Male', '19 to 25', '5', 'Very good', 'Everyday', 'I exercise regularly with no barriers', 'Team sport', 'Alone', 'Evening', '30 minutes', 'Not always', 'Lack of time', '3', 'Yes', 'Yes', 'I want to be fit'), (418, '2019/07/05 3:34:38 PM GMT+5:30', 'gokulpriya', 'Female', '19 to 25', '5', 'Unfit', 'Never', \"I can't stay motivated;I'll become too tired\", \"I don't really exercise\", \"I don't really exercise\", 'Early morning', \"I don't really exercise\", 'No', 'Ease of access to fast food;Temptation and cravings', '1', 'Yes', 'No', 'I want to be fit;I want to be flexible;I want to relieve stress'), (419, '2019/07/05 3:39:36 PM GMT+5:30', 'Inbaraj', 'Male', '19 to 25', '4', 'Unfit', '5 to 6 times a week', \"I don't have enough time;I'll become too tired\", 'Gym;Team sport', 'With a group', 'Evening', '1 hour', 'Yes', 'I have a balanced diet', '2', 'Yes', 'Yes', 'I want to be fit;I want to increase muscle mass and strength;I want to lose weight;I want to relieve stress;I want to achieve a sporting goal'), (420, '2019/07/05 3:40:17 PM GMT+5:30', 'Jenifer', 'Female', '26 to 30', '5', 'Unfit', 'Never', \"I don't have enough time;I'll become too tired\", 'Walking or jogging;Gym;Zumba dance', \"I don't really exercise\", 'Early morning', \"I don't really exercise\", 'Not always', 'Lack of time;Temptation and cravings', '2', 'Yes', 'No', 'I want to be fit;I want to lose weight'), (421, '2019/07/05 3:47:29 PM GMT+5:30', 'Murali', 'Male', '19 to 25', '4', 'Unfit', 'Never', \"I can't stay motivated\", 'Walking or jogging;Gym;Swimming', 'Alone', 'Early morning', '2 hours', 'Not always', 'Cost;Ease of access to fast food', '2', 'Yes', 'No', 'I want to be fit;I want to lose weight;I want to be flexible'), (422, '2019/07/05 3:48:32 PM GMT+5:30', 'SURIYA', 'Male', '19 to 25', '4', 'Average', '5 to 6 times a week', \"I can't stay motivated;I exercise regularly with no barriers\", 'Swimming;Team sport', 'With a friend', 'Early morning', '3 hours and above', 'No', 'Lack of time', '3', 'Yes', 'Yes', 'I want to be fit;I want to lose weight;I want to be flexible;I want to relieve stress'), (423, '2019/07/05 4:35:13 PM GMT+5:30', 'Fattoooo', 'Male', '15 to 18', '5', 'Good', 'Never', \"I don't have enough time\", 'Walking or jogging', 'Alone', 'Early morning', '30 minutes', 'Not always', 'I have a balanced diet', '5', 'No', 'Yes', 'I want to be fit;I want to lose weight;I want to be flexible;I want to relieve stress'), (424, '2019/07/05 4:38:53 PM GMT+5:30', 'Ammu', 'Female', '15 to 18', '3', 'Very good', '1 to 2 times a week', \"I don't really enjoy exercising\", 'Walking or jogging', 'With a friend', 'Early morning', '30 minutes', 'Yes', 'Cost', '3', 'Yes', 'No', 'I want to be fit'), (425, '2019/07/05 4:53:28 PM GMT+5:30', 'Dhanapal.P', 'Male', '19 to 25', '5', 'Unfit', 'Never', \"I don't have enough time;I can't stay motivated\", 'Walking or jogging;Gym', 'With a friend', 'Evening', '2 hours', 'Not always', 'Cost', '3', 'No', 'No', 'I want to be fit;I want to relieve stress'), (426, '2019/07/05 5:11:31 PM GMT+5:30', 'Subaharini', 'Female', '15 to 18', '3', 'Average', '1 to 2 times a week', \"I don't have enough time\", 'Walking or jogging', 'Alone', 'Early morning', '1 hour', 'Not always', 'Ease of access to fast food', '4', 'Yes', 'No', 'I want to be fit;I want to lose weight;I want to relieve stress;I want to achieve a sporting goal'), (427, '2019/07/05 5:17:10 PM GMT+5:30', 'Anirudh', 'Male', '15 to 18', '4', 'Average', 'Never', \"I don't have enough time;I'll become too tired;I have an injury\", 'Swimming;Yoga', 'Alone', 'Early morning', '1 hour', 'Yes', 'I have a balanced diet', '3', 'Yes', 'No', 'I want to be fit;I want to increase muscle mass and strength;I want to be flexible;I want to relieve stress;I want to achieve a sporting goal'), (428, '2019/07/05 5:23:14 PM GMT+5:30', 'Keertana', 'Female', '15 to 18', '4', 'Good', '1 to 2 times a week', \"I don't have enough time\", 'Walking or jogging', 'With a group', 'Evening', '1 hour', 'No', 'Ease of access to fast food;Temptation and cravings', '3', 'Yes', 'No', 'I want to be fit;I want to lose weight;I want to be flexible;I want to relieve stress'), (429, '2019/07/05 5:29:29 PM GMT+5:30', 'Savitha Sathish', 'Female', '30 to 40', '5', 'Good', '1 to 2 times a week', \"I don't have enough time\", 'Walking or jogging', 'Alone', 'Early morning', '1 hour', 'Yes', 'I have a balanced diet', '5', 'Yes', 'No', 'I want to be fit'), (430, '2019/07/05 5:32:15 PM GMT+5:30', 'Hinduja', 'Female', '19 to 25', '2', 'Average', 'Never', \"I don't really enjoy exercising\", \"I don't really exercise\", \"I don't really exercise\", 'Early morning', \"I don't really exercise\", 'Yes', 'I have a balanced diet', '4', 'No', 'No', \"I'm sorry ... I'm not really interested in exercising\"), (431, '2019/07/05 5:45:22 PM GMT+5:30', 'Abhishek Santhanam ', 'Male', '19 to 25', '5', 'Very good', '5 to 6 times a week', 'I exercise regularly with no barriers', 'Team sport', 'With a group', 'Evening', '1 hour', 'Not always', 'Ease of access to fast food;Temptation and cravings', '3', 'No', 'Yes', 'I want to be fit;I want to increase muscle mass and strength'), (432, '2019/07/05 6:01:48 PM GMT+5:30', 'Gayathri.M', 'Female', '15 to 18', '3', 'Good', 'Never', \"I can't stay motivated\", 'Walking or jogging', 'With a friend', 'Early morning', \"I don't really exercise\", 'Not always', 'Temptation and cravings', '3', 'No', 'Yes', 'I want to increase muscle mass and strength'), (433, '2019/07/05 6:13:38 PM GMT+5:30', 'Sathya ', 'Male', '15 to 18', '4', 'Good', '2 to 3 times a week', \"I don't have enough time;I can't stay motivated;I'll become too tired\", 'Gym', 'With a friend', 'Evening', '2 hours', 'No', 'Ease of access to fast food;Temptation and cravings', '3', 'Yes', 'Yes', 'I want to be fit;I want to increase muscle mass and strength'), (434, '2019/07/05 6:19:17 PM GMT+5:30', 'Nivetha R.', 'Female', '15 to 18', '3', 'Average', 'Never', \"I can't stay motivated\", 'Yoga', 'Alone', 'Early morning', \"I don't really exercise\", 'Not always', 'Temptation and cravings', '3', 'Yes', 'No', \"I'm sorry ... I'm not really interested in exercising\"), (435, '2019/07/05 6:20:51 PM GMT+5:30', 'Bala', 'Female', '19 to 25', '3', 'Average', 'Never', \"I don't have enough time;I can't stay motivated\", 'Zumba dance', 'Within a class environment', 'Evening', \"I don't really exercise\", 'Yes', 'I have a balanced diet', '3', 'No', 'Yes', 'I want to be fit;I want to be flexible'), (436, '2019/07/05 6:22:27 PM GMT+5:30', 'Abhay Krishna', 'Male', '15 to 18', '3', 'Good', '2 to 3 times a week', \"I don't have enough time\", 'Team sport', 'Alone', 'Evening', '1 hour', 'Yes', 'Ease of access to fast food;Temptation and cravings', '3', 'No', 'No', 'I want to be fit;I want to increase muscle mass and strength;I want to achieve a sporting goal'), (437, '2019/07/05 6:29:48 PM GMT+5:30', 'MP', 'Male', '40 and above', '4', 'Average', '2 to 3 times a week', \"I don't have enough time;I can't stay motivated;I'll become too tired\", 'Walking or jogging', 'Alone', 'Early morning', '30 minutes', 'Yes', 'Lack of time', '3', 'Yes', 'No', 'I want to be fit;I want to relieve stress'), (438, '2019/07/05 6:33:01 PM GMT+5:30', 'Dominic', 'Male', '40 and above', '2', 'Average', 'Never', \"I don't really enjoy exercising\", \"I don't really exercise\", \"I don't really exercise\", 'Evening', \"I don't really exercise\", 'Yes', 'I have a balanced diet', '3', 'No', 'Yes', 'I want to lose weight'), (439, '2019/07/05 6:34:44 PM GMT+5:30', 'Sundar', 'Male', '40 and above', '3', 'Average', '2 to 3 times a week', \"I can't stay motivated;I have an injury\", 'Walking or jogging;Swimming', 'Alone', 'Evening', '30 minutes', 'Yes', 'I have a balanced diet', '3', 'No', 'No', 'I want to lose weight'), (440, '2019/07/05 6:36:37 PM GMT+5:30', 'Ananya Prakash', 'Female', '15 to 18', '3', 'Average', '1 to 2 times a week', \"I can't stay motivated;I'll become too tired\", 'Walking or jogging;Yoga', 'With a friend', 'Evening', '30 minutes', 'Not always', 'Ease of access to fast food;Temptation and cravings', '3', 'Yes', 'Yes', 'I want to be fit;I want to lose weight;I want to be flexible'), (441, '2019/07/05 6:54:20 PM GMT+5:30', 'Ratchaka', 'Female', '26 to 30', '5', 'Average', '1 to 2 times a week', \"I'll become too tired\", 'Walking or jogging;Zumba dance', 'Within a class environment', 'Evening', '1 hour', 'No', 'Temptation and cravings', '3', 'Yes', 'No', 'I want to be fit;I want to lose weight'), (442, '2019/07/05 6:54:21 PM GMT+5:30', 'Gautham ', 'Male', '19 to 25', '4', 'Good', '2 to 3 times a week', \"I don't have enough time\", 'Walking or jogging', 'Alone', 'Early morning', '30 minutes', 'Not always', 'Temptation and cravings', '3', 'Yes', 'No', 'I want to lose weight'), (443, '2019/07/05 6:54:32 PM GMT+5:30', 'Bhargavi kumar', 'Female', '19 to 25', '4', 'Good', '1 to 2 times a week', \"I don't have enough time\", 'Gym;Swimming', 'With a friend', 'Evening', '1 hour', 'Not always', 'Temptation and cravings', '4', 'Yes', 'Yes', 'I want to be fit'), (444, '2019/07/05 6:58:58 PM GMT+5:30', 'Sandeep Haridas', 'Male', '30 to 40', '4', 'Average', '1 to 2 times a week', \"I don't have enough time;I can't stay motivated\", 'Walking or jogging;Gym;Lifting weights', 'Alone', 'Early morning', '1 hour', 'Not always', 'Ease of access to fast food;Temptation and cravings', '4', 'Yes', 'Yes', 'I want to lose weight;I want to relieve stress'), (445, '2019/07/05 7:03:53 PM GMT+5:30', 'George Cherian', 'Male', '40 and above', '5', 'Good', '3 to 4 times a week', 'I exercise regularly with no barriers', 'Walking or jogging;Yoga', 'Alone', 'Evening', '1 hour', 'Yes', 'I have a balanced diet', '4', 'Yes', 'Yes', 'I want to be fit;I want to look young and think young'), (446, '2019/07/05 7:07:23 PM GMT+5:30', 'Dhikshitha ', 'Female', '15 to 18', '5', 'Good', '1 to 2 times a week', \"I don't have enough time\", 'Walking or jogging;Gym', 'Alone', 'Evening', '1 hour', 'Not always', 'Temptation and cravings;I have a balanced diet', '3', 'Yes', 'Yes', 'I want to be fit;I want to lose weight'), (447, '2019/07/05 7:25:10 PM GMT+5:30', 'Hrutish', 'Male', '15 to 18', '5', 'Good', '5 to 6 times a week', \"I don't have enough time\", 'Walking or jogging;Team sport', 'Alone', 'Early morning', '1 hour', 'Not always', 'Temptation and cravings', '4', 'Yes', 'Yes', 'I want to be fit;I want to increase muscle mass and strength;I want to achieve a sporting goal'), (448, '2019/07/05 7:34:09 PM GMT+5:30', 'meenakshi', 'Female', '15 to 18', '4', 'Average', '1 to 2 times a week', \"I don't have enough time;I can't stay motivated\", 'Walking or jogging', 'Alone', 'Early morning', '30 minutes', 'Not always', 'Ease of access to fast food;Temptation and cravings', '3', 'Yes', 'No', 'I want to lose weight'), (449, '2019/07/05 7:42:14 PM GMT+5:30', 'Priya', 'Female', '15 to 18', '5', 'Very good', 'Everyday', \"I don't have enough time;I'll become too tired\", 'Walking or jogging;Gym;Yoga', 'Alone', 'Early morning', '30 minutes', 'Yes', 'Lack of time', '4', 'Yes', 'Yes', 'I want to be fit;I want to lose weight;I want to relieve stress'), (450, '2019/07/05 7:54:11 PM GMT+5:30', 'Prajeet', 'Male', '15 to 18', '4', 'Good', '2 to 3 times a week', \"I don't have enough time\", 'Walking or jogging', 'Alone', 'Evening', '1 hour', 'Not always', 'Temptation and cravings', '3', 'Yes', 'No', 'I want to be flexible'), (451, '2019/07/05 7:55:33 PM GMT+5:30', 'krissh', 'Male', '15 to 18', '5', 'Average', '5 to 6 times a week', \"I don't have enough time\", 'Walking or jogging;Team sport', 'With a group', 'Early morning', '30 minutes', 'Not always', 'Temptation and cravings', '4', 'No', 'Yes', 'I want to be fit;I want to increase muscle mass and strength;I want to lose weight'), (452, '2019/07/05 8:08:35 PM GMT+5:30', 'Sangeetha V D', 'Female', '15 to 18', '5', 'Good', 'Everyday', \"I can't stay motivated\", 'Walking or jogging;Gym', 'With a friend', 'Evening', '1 hour', 'Not always', 'Ease of access to fast food;Temptation and cravings', '3', 'Yes', 'Yes', 'I want to be fit;I want to lose weight;I want to be flexible;I want to relieve stress'), (453, '2019/07/05 8:18:34 PM GMT+5:30', 'Janani R', 'Female', '19 to 25', '3', 'Good', '1 to 2 times a week', \"I don't have enough time\", 'Gym', 'Alone', 'Evening', '1 hour', 'Not always', 'Ease of access to fast food', '3', 'Yes', 'No', 'I want to lose weight'), (454, '2019/07/05 8:21:02 PM GMT+5:30', 'Sweta Bharadwaj ', 'Female', '15 to 18', '3', 'Good', 'Never', \"I don't have enough time;I don't really enjoy exercising\", \"I don't really exercise\", \"I don't really exercise\", 'Early morning', \"I don't really exercise\", 'Yes', 'I have a balanced diet', '4', 'Yes', 'No', \"I'm sorry ... I'm not really interested in exercising\"), (455, '2019/07/05 8:38:49 PM GMT+5:30', 'Ishwarya', 'Female', '26 to 30', '4', 'Good', '2 to 3 times a week', \"I don't have enough time\", 'Walking or jogging;Gym;Yoga;Zumba dance', 'With a friend', 'Early morning', '1 hour', 'Not always', 'Lack of time', '3', 'Yes', 'No', 'I want to be fit;I want to lose weight;I want to relieve stress'), (456, '2019/07/05 9:04:26 PM GMT+5:30', 'Seema', 'Female', '40 and above', '5', 'Average', '3 to 4 times a week', \"I can't stay motivated\", 'Walking or jogging', 'Alone', 'Evening', '30 minutes', 'Not always', 'I have a balanced diet', '4', 'Yes', 'Yes', 'I want to be fit;I want to lose weight;I want to relieve stress'), (457, '2019/07/05 9:04:38 PM GMT+5:30', 'Geetha ', 'Female', '40 and above', '5', 'Good', '5 to 6 times a week', 'Travel time I skip', 'Gym', 'With a friend', 'Early morning', '1 hour', 'Not always', 'Rarely eat fast food', '4', 'Yes', 'No', 'I want to be fit;I want to be flexible'), (458, '2019/07/05 9:04:52 PM GMT+5:30', 'Sowmiya.K', 'Female', '15 to 18', '5', 'Very good', 'Everyday', 'I exercise regularly with no barriers', 'Yoga', 'Alone', 'Early morning', '1 hour', 'Not always', 'I have a balanced diet', '4', 'Yes', 'No', 'I want to be fit;I want to lose weight;I want to be flexible;I want to relieve stress'), (459, '2019/07/05 9:07:18 PM GMT+5:30', 'Venkataraman', 'Male', '40 and above', '5', 'Good', '2 to 3 times a week', \"I don't have enough time\", 'Walking or jogging;Gym;Lifting weights', 'Alone', 'Afternoon', '2 hours', 'Not always', \"I do not measure. I can't say for sure if my diet is balanced. \", '3', 'Yes', 'No', 'I want to be fit;I want to increase muscle mass and strength'), (460, '2019/07/05 9:12:23 PM GMT+5:30', 'Prabhalya', 'Female', '15 to 18', '3', 'Average', '1 to 2 times a week', \"I'll become too tired;I don't really enjoy exercising\", 'Walking or jogging', 'Alone', 'Evening', '30 minutes', 'Not always', 'Temptation and cravings', '2', 'Yes', 'No', 'I want to relieve stress'), (461, '2019/07/05 9:26:59 PM GMT+5:30', 'Arti', 'Female', '40 and above', '3', 'Average', '1 to 2 times a week', \"I can't stay motivated\", 'Walking or jogging', 'Alone', 'Evening', '30 minutes', 'Not always', 'Temptation and cravings', '3', 'No', 'Yes', 'I want to be fit'), (462, '2019/07/05 9:46:34 PM GMT+5:30', 'Srilakshmi ', 'Male', '40 and above', '4', 'Average', '2 to 3 times a week', \"I don't have enough time\", 'Walking or jogging', 'Alone', 'Early morning', '30 minutes', 'Yes', 'I have a balanced diet', '3', 'Yes', 'No', 'I want to be fit;I want to be flexible;I want to relieve stress'), (463, '2019/07/05 9:47:37 PM GMT+5:30', 'VISHALI.V', 'Female', '15 to 18', '5', 'Good', '3 to 4 times a week', \"I don't have enough time;I'll become too tired\", 'Walking or jogging', 'With a group', 'Early morning', '1 hour', 'Not always', 'Lack of time;Temptation and cravings', '4', 'Yes', 'Yes', 'I want to be fit;I want to lose weight;I want to be flexible;I want to achieve a sporting goal'), (464, '2019/07/05 10:04:31 PM GMT+5:30', 'Grace Duraisamy ', 'Female', '40 and above', '5', 'Perfect', '3 to 4 times a week', 'I exercise regularly with no barriers', 'Walking or jogging', 'Alone', 'Evening', '30 minutes', 'Yes', 'I have a balanced diet', '5', 'Yes', 'No', 'I want to be fit'), (465, '2019/07/05 10:17:45 PM GMT+5:30', 'Amrita', 'Female', '15 to 18', '4', 'Very good', '2 to 3 times a week', \"I'll become too tired\", 'Zumba dance', 'With a friend', 'Evening', '1 hour', 'Not always', 'Temptation and cravings', '3', 'Yes', 'Yes', 'I want to be flexible'), (466, '2019/07/05 11:00:22 PM GMT+5:30', 'Dharani ', 'Female', '40 and above', '4', 'Good', '1 to 2 times a week', \"I don't have enough time\", 'Walking or jogging', 'Alone', 'Early morning', '30 minutes', 'Yes', 'I have a balanced diet', '3', 'No', 'Yes', 'I want to be fit;I want to be flexible;I want to relieve stress'), (467, '2019/07/05 11:03:54 PM GMT+5:30', 'Srutanjay', 'Male', '19 to 25', '4', 'Unfit', 'Never', 'I exercise regularly with no barriers', 'Team sport', \"I don't really exercise\", 'Evening', \"I don't really exercise\", 'No', 'Alcohol does me a good diet', '3', 'Yes', 'No', 'Gotta get that alcohol and **** out of the system'), (468, '2019/07/05 11:42:02 PM GMT+5:30', 'Amruta', 'Female', '19 to 25', '5', 'Very good', '3 to 4 times a week', \"I'll become too tired\", 'Walking or jogging;Yoga', 'Alone', 'Evening', '30 minutes', 'Yes', 'I have a balanced diet', '4', 'Yes', 'Yes', 'I want to be fit;I want to be flexible;I want to relieve stress;I want to achieve a sporting goal'), (469, '2019/07/06 12:00:40 AM GMT+5:30', 'Sunil Manikandan P', 'Male', '40 and above', '5', 'Good', 'Never', \"I don't have enough time\", \"I don't really exercise\", \"I don't really exercise\", 'Early morning', \"I don't really exercise\", 'Not always', 'Ease of access to fast food;Temptation and cravings', '4', 'Yes', 'No', 'I want to be fit;I want to lose weight;I want to be flexible;I want to relieve stress'), (470, '2019/07/06 12:11:45 AM GMT+5:30', 'Sonya', 'Female', '19 to 25', '3', 'Unfit', 'Never', \"I don't have enough time;I can't stay motivated;I'll become too tired;I don't really enjoy exercising\", \"I don't really exercise\", \"I don't really exercise\", 'Evening', \"I don't really exercise\", 'No', 'Ease of access to fast food;Temptation and cravings', '1', 'No', 'No', \"I'm sorry ... I'm not really interested in exercising\"), (471, '2019/07/06 12:37:29 AM GMT+5:30', 'Abimanyu ', 'Male', '19 to 25', '5', 'Unfit', '2 to 3 times a week', \"I don't have enough time;I'll become too tired\", 'Gym', 'Alone', 'Early morning', '30 minutes', 'Not always', 'Lack of time', '2', 'Yes', 'No', 'I want to be fit;I want to be flexible;I want to relieve stress'), (472, '2019/07/06 12:37:39 AM GMT+5:30', 'Abimanyu ', 'Male', '19 to 25', '5', 'Unfit', '2 to 3 times a week', \"I don't have enough time;I'll become too tired\", 'Gym', 'Alone', 'Early morning', '30 minutes', 'Not always', 'Lack of time', '2', 'Yes', 'No', 'I want to be fit;I want to be flexible;I want to relieve stress'), (473, '2019/07/06 7:40:12 AM GMT+5:30', 'Aswini', 'Female', '15 to 18', '3', 'Average', '1 to 2 times a week', \"I'll become too tired\", 'Walking or jogging', 'Alone', 'Early morning', '30 minutes', 'Not always', 'Ease of access to fast food;Temptation and cravings', '3', 'Yes', 'No', 'I want to be fit;I want to lose weight'), (474, '2019/07/06 7:44:17 AM GMT+5:30', 'Rehman khan ', 'Male', '30 to 40', '5', 'Average', '3 to 4 times a week', \"I don't have enough time\", 'Gym', 'Alone', 'Early morning', '30 minutes', 'No', 'Lack of time', '3', 'Yes', 'No', 'I want to lose weight;I want to be flexible'), (475, '2019/07/06 7:53:56 AM GMT+5:30', 'Jagadish kumar', 'Male', '40 and above', '3', 'Good', '3 to 4 times a week', 'I exercise regularly with no barriers', 'Walking or jogging', 'Alone', 'Early morning', '1 hour', 'Not always', 'I have a balanced diet', '4', 'Yes', 'No', 'I want to be flexible'), (476, '2019/07/06 8:07:04 AM GMT+5:30', 'Chockalingam.K', 'Male', '19 to 25', '3', 'Average', 'Never', \"I can't stay motivated\", \"I don't really exercise\", \"I don't really exercise\", 'Early morning', \"I don't really exercise\", 'Not always', 'Ease of access to fast food;Temptation and cravings', '2', 'No', 'No', 'I want to relieve stress'), (477, '2019/07/06 8:44:32 AM GMT+5:30', 'Renuka Devi ', 'Female', '19 to 25', '5', 'Average', 'Never', \"I'll become too tired\", 'Walking or jogging', 'Alone', 'Early morning', '30 minutes', 'Not always', 'Cost', '3', 'No', 'No', 'I want to be fit;I want to lose weight'), (478, '2019/07/06 9:01:49 AM GMT+5:30', 'Ashwini M', 'Female', '19 to 25', '3', 'Average', '1 to 2 times a week', \"I don't have enough time;I can't stay motivated\", 'Walking or jogging', 'Alone', 'Evening', '30 minutes', 'Not always', 'Lack of time;Ease of access to fast food', '3', 'Yes', 'No', 'I want to be fit;I want to lose weight'), (479, '2019/07/06 9:09:27 AM GMT+5:30', 'Ashraya', 'Female', '15 to 18', '5', 'Very good', '5 to 6 times a week', \"I don't have enough time;I have an injury\", 'Walking or jogging;Gym;Swimming;Lifting weights', 'With a friend', 'Early morning', '2 hours', 'Yes', 'Temptation and cravings', '4', 'Yes', 'Yes', 'I want to be fit;I want to increase muscle mass and strength;I want to lose weight;I want to achieve a sporting goal'), (480, '2019/07/06 9:12:09 AM GMT+5:30', 'Rupali', 'Female', '30 to 40', '2', 'Average', '1 to 2 times a week', \"I don't have enough time;I can't stay motivated\", 'Walking or jogging', 'Alone', 'Evening', '30 minutes', 'Not always', 'Temptation and cravings', '2', 'No', 'Yes', 'I want to be fit;I want to lose weight'), (481, '2019/07/06 9:37:36 AM GMT+5:30', 'Shreeja', 'Female', '26 to 30', '3', 'Average', '1 to 2 times a week', \"I'll become too tired\", 'Walking or jogging;Yoga', 'With a friend', 'Early morning', '2 hours', 'Not always', 'Ease of access to fast food;I have a balanced diet', '3', 'Yes', 'Yes', 'I want to lose weight'), (482, '2019/07/06 10:14:07 AM GMT+5:30', 'Rasika. T', 'Female', '19 to 25', '5', 'Good', '1 to 2 times a week', \"I can't stay motivated;I exercise regularly with no barriers\", 'Walking or jogging;Yoga;Lifting weights;Team sport', 'Alone', 'Early morning', '1 hour', 'Yes', 'Ease of access to fast food;I have a balanced diet', '5', 'Yes', 'No', 'I want to be fit;I want to lose weight;I want to be flexible;I want to relieve stress'), (483, '2019/07/06 11:03:50 AM GMT+5:30', 'Alwarsamy', 'Male', '40 and above', '3', 'Good', 'Never', \"I don't have enough time\", \"I don't really exercise\", \"I don't really exercise\", 'Early morning', \"I don't really exercise\", 'Not always', 'Temptation and cravings', '3', 'No', 'No', \"I'm sorry ... I'm not really interested in exercising\"), (484, '2019/07/06 11:05:20 AM GMT+5:30', 'Suleka Aravind Kumar', 'Female', '30 to 40', '5', 'Good', '3 to 4 times a week', 'I exercise regularly with no barriers', 'Walking or jogging;Yoga', 'Alone', 'Early morning', '30 minutes', 'Not always', 'Temptation and cravings', '3', 'Yes', 'No', 'I want to increase muscle mass and strength;I want to lose weight;I want to be flexible'), (485, '2019/07/06 11:32:23 AM GMT+5:30', 'Alan', 'Female', '19 to 25', '4', 'Average', '1 to 2 times a week', \"I'll become too tired\", 'Gym', 'With a friend', 'Early morning', '30 minutes', 'Not always', 'Temptation and cravings', '3', 'Yes', 'Yes', 'I want to be fit'), (486, '2019/07/06 11:37:06 AM GMT+5:30', 'Kavitha ', 'Female', '40 and above', '3', 'Average', 'Everyday', \"I don't have enough time;I'll become too tired;I have an injury\", 'Walking or jogging;Yoga', 'Alone', 'Early morning', '30 minutes', 'Yes', 'Ease of access to fast food;Temptation and cravings', '3', 'Yes', 'No', 'I want to be fit;I want to be flexible;I want to relieve stress'), (487, '2019/07/06 12:43:16 PM GMT+5:30', 'Kavinila Annadurai', 'Female', '19 to 25', '4', 'Average', '2 to 3 times a week', \"I'll become too tired\", 'Walking or jogging;Gym', 'Alone', 'Evening', '30 minutes', 'No', 'Temptation and cravings', '4', 'No', 'Yes', 'I want to be fit;I want to lose weight'), (488, '2019/07/06 12:44:24 PM GMT+5:30', 'R SANJAYRAM', 'Male', '19 to 25', '4', 'Good', '5 to 6 times a week', \"I can't stay motivated\", 'Yoga', 'Alone', 'Early morning', '30 minutes', 'Not always', 'Ease of access to fast food', '3', 'No', 'Yes', 'I want to be fit'), (489, '2019/07/06 12:59:41 PM GMT+5:30', 'Suruthi AP', 'Female', '19 to 25', '5', 'Average', '1 to 2 times a week', \"I can't stay motivated;Laziness mostly \", 'Walking or jogging;Swimming;Yoga', 'Alone', 'Early morning', '2 hours', 'Not always', 'Temptation and cravings', '4', 'Yes', 'No', 'I want to be fit;I want to lose weight;I want to relieve stress;I want to achieve a sporting goal'), (490, '2019/07/06 12:59:54 PM GMT+5:30', 'M .Balan', 'Male', '40 and above', '5', 'Good', 'Everyday', 'I exercise regularly with no barriers', 'Walking or jogging', 'Alone', 'Early morning', '1 hour', 'Not always', 'I have a balanced diet', '5', 'Yes', 'No', 'I want to be fit'), (491, '2019/07/06 1:00:15 PM GMT+5:30', 'M .Balan', 'Male', '40 and above', '5', 'Good', 'Everyday', 'I exercise regularly with no barriers', 'Walking or jogging', 'Alone', 'Early morning', '1 hour', 'Not always', 'I have a balanced diet', '5', 'Yes', 'No', 'I want to be fit'), (492, '2019/07/06 1:46:33 PM GMT+5:30', 'Shivani', 'Female', '15 to 18', '3', 'Good', '2 to 3 times a week', \"I don't have enough time\", 'Swimming;Zumba dance', 'With a group', 'Evening', '2 hours', 'Yes', 'I have a balanced diet', '3', 'Yes', 'No', 'I want to be fit;I want to lose weight'), (493, '2019/07/06 1:46:47 PM GMT+5:30', 'Skumar', 'Male', '15 to 18', '4', 'Very good', '3 to 4 times a week', 'I exercise regularly with no barriers', 'Team sport', 'With a group', 'Early morning', '2 hours', 'Not always', 'Temptation and cravings', '4', 'No', 'Yes', 'I want to achieve a sporting goal'), (494, '2019/07/06 1:47:14 PM GMT+5:30', 'Prethika', 'Female', '15 to 18', '2', 'Average', 'Never', \"I don't have enough time\", \"I don't really exercise\", \"I don't really exercise\", 'Early morning', '30 minutes', 'Yes', 'I have a balanced diet', '4', 'No', 'No', 'I want to be fit'), (495, '2019/07/06 1:49:16 PM GMT+5:30', 'Priya', 'Female', '40 and above', '3', 'Average', '1 to 2 times a week', \"I don't have enough time\", \"I don't really exercise\", \"I don't really exercise\", 'Early morning', '30 minutes', 'Yes', 'I have a balanced diet', '4', 'No', 'No', \"I'm sorry ... I'm not really interested in exercising\"), (496, '2019/07/06 1:57:30 PM GMT+5:30', 'Ishwarya', 'Female', '15 to 18', '4', 'Good', '3 to 4 times a week', \"I can't stay motivated\", 'Zumba dance;Team sport', 'Within a class environment', 'Evening', '1 hour', 'Not always', 'Temptation and cravings', '3', 'Yes', 'No', 'I want to be fit;I want to lose weight;I want to be flexible;I want to relieve stress;I want to achieve a sporting goal'), (497, '2019/07/06 1:57:54 PM GMT+5:30', 'Ambaa', 'Female', '15 to 18', '4', 'Good', '3 to 4 times a week', \"I don't have enough time;I can't stay motivated\", 'Walking or jogging;Gym;Zumba dance', 'Alone', 'Evening', '30 minutes', 'Not always', 'Temptation and cravings', '4', 'Yes', 'No', 'I want to be fit;I want to lose weight;I want to achieve a sporting goal'), (498, '2019/07/06 2:03:29 PM GMT+5:30', 'Nikita', 'Female', '15 to 18', '5', 'Perfect', 'Everyday', \"I can't stay motivated\", 'Walking or jogging;Swimming;Yoga;Zumba dance', 'Within a class environment', 'Evening', '3 hours and above', 'Yes', 'I have a balanced diet', '5', 'Yes', 'No', 'I want to relieve stress'), (499, '2019/07/06 3:07:25 PM GMT+5:30', 'Kavin Nagarathinam', 'Male', '19 to 25', '3', 'Good', 'Never', \"I don't have enough time;I can't stay motivated;I'll become too tired;I don't really enjoy exercising\", 'Walking or jogging;Swimming;Team sport', 'With a group', 'Early morning', \"I don't really exercise\", 'Yes', 'Lack of time', '4', 'Yes', 'Yes', 'I want to be fit;I want to increase muscle mass and strength'), (500, '2019/07/06 4:18:47 PM GMT+5:30', 'Ananth eswar', 'Male', '15 to 18', '4', 'Good', '2 to 3 times a week', \"I don't have enough time;I can't stay motivated;I don't really enjoy exercising\", 'Walking or jogging;Team sport', 'With a group', 'Evening', '1 hour', 'Not always', 'Lack of time;Ease of access to fast food;Temptation and cravings', '4', 'Yes', 'Yes', 'I want to be fit;I want to be flexible;I want to achieve a sporting goal'), (501, '2019/07/06 4:25:36 PM GMT+5:30', 'Vasumathy', 'Female', '40 and above', '5', 'Good', '3 to 4 times a week', 'I exercise regularly with no barriers', 'Walking or jogging', 'Alone', 'Early morning', '30 minutes', 'Not always', 'Lack of time', '3', 'Yes', 'Yes', 'I want to be fit;I want to lose weight;I want to be flexible'), (502, '2019/07/06 5:04:33 PM GMT+5:30', 'Sridhar', 'Male', '40 and above', '5', 'Good', '5 to 6 times a week', \"I don't have enough time;I don't really enjoy exercising\", 'Walking or jogging;Team sport', 'With a friend', 'Early morning', '1 hour', 'Not always', 'Ease of access to fast food;Temptation and cravings', '3', 'Yes', 'Yes', 'I want to be fit;I want to be flexible;I want to relieve stress'), (503, '2019/07/06 5:26:39 PM GMT+5:30', 'Anjana Anand ', 'Female', '15 to 18', '4', 'Good', '5 to 6 times a week', \"I don't have enough time\", 'Team sport', 'With a group', 'Evening', '1 hour', 'Yes', 'Temptation and cravings', '4', 'No', 'Yes', 'I want to relieve stress'), (504, '2019/07/06 5:30:24 PM GMT+5:30', 'Sapna', 'Female', '19 to 25', '4', 'Average', '2 to 3 times a week', \"I don't have enough time;I can't stay motivated\", 'Walking or jogging', 'With a friend', 'Early morning', '30 minutes', 'Not always', 'Ease of access to fast food;Temptation and cravings', '4', 'Yes', 'Yes', 'I want to be fit;I want to lose weight;I want to be flexible'), (505, '2019/07/06 5:31:18 PM GMT+5:30', 'Sapna', 'Female', '19 to 25', '4', 'Average', '2 to 3 times a week', \"I don't have enough time;I can't stay motivated\", 'Walking or jogging', 'With a friend', 'Early morning', '30 minutes', 'Not always', 'Ease of access to fast food;Temptation and cravings', '4', 'Yes', 'Yes', 'I want to be fit;I want to lose weight;I want to be flexible'), (506, '2019/07/06 5:58:29 PM GMT+5:30', 'Priya', 'Male', '40 and above', '5', 'Average', '3 to 4 times a week', 'I exercise regularly with no barriers', 'Walking or jogging', 'Alone', 'Early morning', '1 hour', 'Yes', 'I have a balanced diet', '3', 'No', 'No', 'I want to be fit'), (507, '2019/07/06 6:26:09 PM GMT+5:30', 'M.C.B', 'Female', '15 to 18', '4', 'Good', '2 to 3 times a week', \"I don't have enough time\", 'Yoga;Zumba dance', 'Alone', 'Early morning', '30 minutes', 'Not always', 'Lack of time', '3', 'Yes', 'No', 'I want to be flexible'), (508, '2019/07/06 6:29:05 PM GMT+5:30', 'Arshad', 'Male', '19 to 25', '4', 'Unfit', 'Never', \"I don't have enough time\", \"I don't really exercise\", \"I don't really exercise\", 'Early morning', \"I don't really exercise\", 'Not always', 'Ease of access to fast food;Temptation and cravings', '1', 'No', 'No', \"I'm sorry ... I'm not really interested in exercising\"), (509, '2019/07/06 7:03:42 PM GMT+5:30', 'N. Rajeswari', 'Female', '40 and above', '5', 'Good', '3 to 4 times a week', \"I can't stay motivated\", 'Yoga', 'Alone', 'Early morning', '30 minutes', 'Yes', 'I have a balanced diet', '3', 'Yes', 'No', 'I want to lose weight'), (510, '2019/07/06 7:05:16 PM GMT+5:30', 'Rajeshwari', 'Female', '40 and above', '4', 'Good', 'Everyday', \"I don't have enough time;I have an injury\", 'Walking or jogging;Yoga;Zumba dance', 'Alone', 'Early morning', '30 minutes', 'Yes', 'I have a balanced diet', '4', 'Yes', 'Yes', 'I want to be fit;I want to lose weight;I want to be flexible'), (511, '2019/07/06 7:07:27 PM GMT+5:30', 'Roshni', 'Female', '15 to 18', '5', 'Good', '1 to 2 times a week', \"I'll become too tired\", 'Walking or jogging;Yoga', 'Alone', 'Evening', '1 hour', 'Not always', 'Temptation and cravings', '3', 'Yes', 'Yes', 'I want to be fit;I want to lose weight'), (512, '2019/07/06 7:25:24 PM GMT+5:30', 'Venugopalan', 'Male', '40 and above', '4', 'Good', 'Everyday', 'I exercise regularly with no barriers', 'Walking or jogging', 'Alone', 'Early morning', '30 minutes', 'Not always', 'Lack of time;Temptation and cravings', '3', 'Yes', 'No', 'I want to be flexible'), (513, '2019/07/06 9:33:20 PM GMT+5:30', 'Preethi', 'Female', '19 to 25', '4', 'Good', 'Never', \"I can't stay motivated\", \"I don't really exercise\", 'Alone', 'Early morning', \"I don't really exercise\", 'Not always', 'Temptation and cravings', '3', 'Yes', 'No', 'I want to be fit;I want to be flexible'), (514, '2019/07/06 9:33:56 PM GMT+5:30', 'R.Krish Srinivas', 'Male', '15 to 18', '4', 'Average', 'Never', \"I don't have enough time\", \"I don't really exercise\", \"I don't really exercise\", 'Early morning', '30 minutes', 'Not always', 'I have a balanced diet', '3', 'No', 'No', 'I want to be flexible'), (515, '2019/07/06 9:50:42 PM GMT+5:30', 'Sandhiya K', 'Female', '19 to 25', '4', 'Average', 'Never', \"I can't stay motivated\", \"I don't really exercise\", \"I don't really exercise\", 'Early morning', \"I don't really exercise\", 'Not always', 'Ease of access to fast food;Temptation and cravings', '3', 'No', 'Yes', 'I want to lose weight'), (516, '2019/07/06 9:52:27 PM GMT+5:30', 'Ramakrishna.V', 'Female', '19 to 25', '3', 'Average', 'Never', \"I'll become too tired\", 'Walking or jogging', 'With a friend', 'Early morning', '30 minutes', 'Yes', 'Temptation and cravings', '3', 'Yes', 'No', 'I want to be fit'), (517, '2019/07/06 10:26:05 PM GMT+5:30', 'Varna sureshbabu', 'Female', '15 to 18', '2', 'Good', '1 to 2 times a week', \"I don't really enjoy exercising\", 'Walking or jogging', 'Alone', 'Evening', '30 minutes', 'Not always', 'Temptation and cravings', '3', 'Yes', 'No', 'I want to relieve stress'), (518, '2019/07/07 11:49:04 AM GMT+5:30', 'Sharon', 'Female', '15 to 18', '5', 'Unfit', '1 to 2 times a week', \"I don't really enjoy exercising\", 'Walking or jogging', 'Alone', 'Early morning', '30 minutes', 'Not always', 'Ease of access to fast food;Temptation and cravings', '3', 'Yes', 'Yes', 'I want to be fit;I want to lose weight'), (519, '2019/07/07 12:24:22 PM GMT+5:30', 'Sandeep  A K', 'Male', '26 to 30', '5', 'Good', 'Everyday', 'I exercise regularly with no barriers', 'Team sport', 'With a group', 'Early morning', '1 hour', 'Not always', 'Temptation and cravings', '4', 'Yes', 'No', 'I want to be flexible'), (520, '2019/07/07 1:11:05 PM GMT+5:30', 'Preetha Shelvam', 'Female', '19 to 25', '5', 'Very good', 'Everyday', \"I don't have enough time\", 'Zumba dance', 'Within a class environment', 'Evening', '1 hour', 'Not always', 'Lack of time', '4', 'Yes', 'Yes', 'I want to relieve stress'), (521, '2019/07/07 1:19:59 PM GMT+5:30', 'Dhikshitha', 'Female', '19 to 25', '3', 'Unfit', 'Never', \"I can't stay motivated;I don't really enjoy exercising\", \"I don't really exercise\", \"I don't really exercise\", 'Early morning', \"I don't really exercise\", 'Not always', 'Ease of access to fast food;Temptation and cravings', '3', 'No', 'Yes', \"I'm sorry ... I'm not really interested in exercising\"), (522, '2019/07/07 2:02:57 PM GMT+5:30', 'Rathna Subramanian', 'Male', '19 to 25', '2', 'Good', '1 to 2 times a week', \"I don't have enough time;I'll become too tired\", 'Walking or jogging', 'Alone', 'Early morning', '30 minutes', 'Yes', 'Lack of time', '3', 'Yes', 'No', 'I want to be fit;I want to relieve stress'), (523, '2019/07/07 3:12:57 PM GMT+5:30', 'S.Prakash', 'Male', '19 to 25', '5', 'Unfit', '1 to 2 times a week', \"I don't have enough time;I can't stay motivated\", \"I don't really exercise\", 'Alone', 'Early morning', \"I don't really exercise\", 'Not always', 'Ease of access to fast food;Temptation and cravings', '2', 'Yes', 'Yes', 'I want to be fit;I want to increase muscle mass and strength;I want to relieve stress;I want to achieve a sporting goal'), (524, '2019/07/07 3:17:57 PM GMT+5:30', 'Niveditha', 'Female', '26 to 30', '3', 'Average', '2 to 3 times a week', \"I'll become too tired;I have an injury;Laziness\", 'Walking or jogging;Zumba dance', 'Alone', 'Evening', '30 minutes', 'Not always', 'Social circle ', '3', 'Yes', 'No', 'I want to be fit;I want to lose weight'), (525, '2019/07/07 4:59:59 PM GMT+5:30', 'Shruthi', 'Female', '19 to 25', '5', 'Good', '5 to 6 times a week', 'I exercise regularly with no barriers', 'Gym', 'Alone', 'Early morning', '1 hour', 'Not always', 'Temptation and cravings', '3', 'Yes', 'Yes', 'I want to lose weight;I want to be flexible;I want to relieve stress'), (526, '2019/07/07 7:00:54 PM GMT+5:30', 'Dharani Priyanka', 'Female', '19 to 25', '4', 'Unfit', 'Never', \"I can't stay motivated\", \"I don't really exercise\", \"I don't really exercise\", 'Early morning', \"I don't really exercise\", 'Not always', 'Ease of access to fast food', '2', 'Yes', 'Yes', 'I want to be fit;I want to lose weight'), (527, '2019/07/07 7:05:33 PM GMT+5:30', 'Vishnu', 'Male', '26 to 30', '2', 'Average', '3 to 4 times a week', \"I can't stay motivated;I'll become too tired\", 'Walking or jogging;Team sport', \"I don't really exercise\", 'Early morning', \"I don't really exercise\", 'No', 'Temptation and cravings', '2', 'No', 'No', 'I want to be fit;I want to lose weight'), (528, '2019/07/07 10:16:47 PM GMT+5:30', 'Preethi ', 'Female', '19 to 25', '5', 'Good', '2 to 3 times a week', \"I can't stay motivated\", 'Gym', 'With a friend', 'Evening', '1 hour', 'Not always', 'Temptation and cravings', '3', 'Yes', 'No', 'I want to lose weight'), (529, '2019/07/08 12:57:50 AM GMT+5:30', 'Ratchaka', 'Female', '26 to 30', '5', 'Average', '1 to 2 times a week', \"I'll become too tired\", 'Walking or jogging;Zumba dance', 'Within a class environment', 'Evening', '1 hour', 'No', 'Temptation and cravings', '3', 'Yes', 'No', 'I want to be fit;I want to lose weight'), (530, '2019/07/08 5:42:12 AM GMT+5:30', 'Yashika Y', 'Female', '15 to 18', '5', 'Very good', '2 to 3 times a week', \"I don't have enough time;I'll become too tired\", 'Walking or jogging;Gym', 'With a friend', 'Evening', '30 minutes', 'Yes', 'Ease of access to fast food', '4', 'Yes', 'Yes', 'I want to be fit;I want to lose weight'), (531, '2019/07/08 8:00:34 PM GMT+5:30', 'Sanjay V', 'Male', '26 to 30', '5', 'Average', '1 to 2 times a week', \"I don't have enough time;I can't stay motivated;I'll become too tired\", 'Walking or jogging;Gym', 'Alone', 'Evening', '30 minutes', 'No', 'Lack of time;Ease of access to fast food;Temptation and cravings', '2', 'Yes', 'No', 'I want to be fit;I want to relieve stress'), (532, '2019/07/08 9:51:32 PM GMT+5:30', 'Madhusudan Rao', 'Male', '40 and above', '5', 'Average', '1 to 2 times a week', \"I'll become too tired;I have an injury;I don't really enjoy exercising\", 'Walking or jogging;Yoga', 'Alone', 'Evening', '2 hours', 'Not always', 'Temptation and cravings', '2', 'Yes', 'Yes', 'I want to be fit;I want to lose weight;I want to be flexible'), (533, '2019/07/09 10:16:53 AM GMT+5:30', 'Yalu ', 'Female', '26 to 30', '4', 'Good', '3 to 4 times a week', \"I don't have enough time;I can't stay motivated\", 'Walking or jogging;Zumba dance', 'Within a class environment', 'Evening', '1 hour', 'Not always', 'Temptation and cravings', '3', 'Yes', 'No', 'I want to be fit;I want to be flexible;I want to relieve stress'), (534, '2019/07/09 4:46:18 PM GMT+5:30', 'Chitra N R', 'Female', '40 and above', '5', 'Very good', '5 to 6 times a week', 'I exercise regularly with no barriers', 'Walking or jogging;Gym', 'Alone', 'Afternoon', '2 hours', 'Not always', 'Temptation and cravings', '4', 'Yes', 'Yes', 'I want to be fit;I want to be flexible;I want to relieve stress'), (535, '2019/07/09 4:51:35 PM GMT+5:30', 'K V Prakash ', 'Male', '40 and above', '5', 'Very good', '5 to 6 times a week', 'I exercise regularly with no barriers', 'Gym', 'Alone', 'Early morning', '2 hours', 'Not always', 'Temptation and cravings', '4', 'Yes', 'Yes', 'I want to be fit;I want to relieve stress'), (536, '2019/07/09 6:39:33 PM GMT+5:30', 'Abinesh', 'Male', '26 to 30', '3', 'Good', '3 to 4 times a week', \"I don't have enough time\", 'Walking or jogging;Swimming', 'Alone', 'Early morning', '30 minutes', 'Not always', 'Lack of time', '4', 'Yes', 'No', 'I want to be fit'), (537, '2019/07/09 7:46:11 PM GMT+5:30', 'Kousi', 'Female', '40 and above', '3', 'Perfect', '1 to 2 times a week', \"I don't have enough time\", 'Walking or jogging', 'Alone', 'Evening', '30 minutes', 'Not always', 'I have a balanced diet', '4', 'Yes', 'Yes', 'I want to be flexible'), (538, '2019/07/09 7:46:34 PM GMT+5:30', 'Kousi', 'Female', '40 and above', '3', 'Perfect', '1 to 2 times a week', \"I don't have enough time\", 'Walking or jogging', 'Alone', 'Evening', '30 minutes', 'Not always', 'I have a balanced diet', '4', 'Yes', 'Yes', 'I want to be flexible'), (539, '2019/07/09 7:46:40 PM GMT+5:30', 'Kousi', 'Female', '40 and above', '3', 'Perfect', '1 to 2 times a week', \"I don't have enough time\", 'Walking or jogging', 'Alone', 'Evening', '30 minutes', 'Not always', 'I have a balanced diet', '4', 'Yes', 'Yes', 'I want to be flexible'), (540, '2019/07/09 7:46:49 PM GMT+5:30', 'Kousi', 'Female', '40 and above', '3', 'Perfect', '1 to 2 times a week', \"I don't have enough time\", 'Walking or jogging', 'Alone', 'Evening', '30 minutes', 'Not always', 'I have a balanced diet', '4', 'Yes', 'Yes', 'I want to be flexible'), (541, '2019/07/09 8:20:48 PM GMT+5:30', 'Dhanuja', 'Female', '40 and above', '1', 'Average', '3 to 4 times a week', 'I exercise regularly with no barriers', 'Walking or jogging;Gym;Swimming', \"I don't really exercise\", 'Early morning', '2 hours', 'Yes', 'Lack of time', '3', 'Yes', 'Yes', 'I want to be fit;I want to relieve stress'), (542, '2019/07/12 11:22:18 AM GMT+5:30', 'Abhinaya V', 'Female', '19 to 25', '4', 'Average', '1 to 2 times a week', \"I can't stay motivated\", 'Walking or jogging;Yoga', 'Alone', 'Early morning', '30 minutes', 'Not always', 'Ease of access to fast food;Temptation and cravings', '4', 'Yes', 'No', 'I want to lose weight;I want to be flexible'), (543, '2019/07/15 1:48:25 PM GMT+5:30', 'Vishnu S', 'Male', '19 to 25', '3', 'Good', '3 to 4 times a week', \"I don't really enjoy exercising\", 'Walking or jogging', 'Alone', 'Evening', '30 minutes', 'Not always', 'Temptation and cravings', '3', 'Yes', 'No', 'I want to relieve stress'), (544, '2019/07/21 8:54:46 PM GMT+5:30', 'Mary Presley', 'Female', '40 and above', '2', 'Average', 'Never', \"I don't have enough time;I can't stay motivated;I don't really enjoy exercising\", \"I don't really exercise\", \"I don't really exercise\", 'Early morning', \"I don't really exercise\", 'Not always', 'Cost;Temptation and cravings', '3', 'No', 'Yes', \"I'm sorry ... I'm not really interested in exercising\")]\n"
          ]
        }
      ]
    },
    {
      "cell_type": "code",
      "metadata": {
        "colab": {
          "base_uri": "https://localhost:8080/",
          "height": 545
        },
        "id": "6YDkMgWa5QmR",
        "outputId": "e652af13-da2e-4cb8-82a5-6c1184ff5399"
      },
      "source": [
        "# pandas로 csv파일 읽어오기.\n",
        "\n",
        "import pandas as pd\n",
        "df = pd.read_csv(\"/content/fitness analysis.csv\")\n",
        "df.head(3)"
      ],
      "execution_count": 11,
      "outputs": [
        {
          "output_type": "execute_result",
          "data": {
            "text/html": [
              "<div>\n",
              "<style scoped>\n",
              "    .dataframe tbody tr th:only-of-type {\n",
              "        vertical-align: middle;\n",
              "    }\n",
              "\n",
              "    .dataframe tbody tr th {\n",
              "        vertical-align: top;\n",
              "    }\n",
              "\n",
              "    .dataframe thead th {\n",
              "        text-align: right;\n",
              "    }\n",
              "</style>\n",
              "<table border=\"1\" class=\"dataframe\">\n",
              "  <thead>\n",
              "    <tr style=\"text-align: right;\">\n",
              "      <th></th>\n",
              "      <th>Timestamp</th>\n",
              "      <th>Your name</th>\n",
              "      <th>Your gender</th>\n",
              "      <th>Your age</th>\n",
              "      <th>How important is exercise to you ?</th>\n",
              "      <th>How do you describe your current level of fitness ?</th>\n",
              "      <th>How often do you exercise?</th>\n",
              "      <th>What barriers, if any, prevent you from exercising more regularly?           (Please select all that apply)</th>\n",
              "      <th>What form(s) of exercise do you currently participate in ?                        (Please select all that apply)</th>\n",
              "      <th>Do you exercise ___________ ?</th>\n",
              "      <th>What time if the day do you prefer to exercise?</th>\n",
              "      <th>How long do you spend exercising per day ?</th>\n",
              "      <th>Would you say you eat a healthy balanced diet ?</th>\n",
              "      <th>What prevents you from eating a healthy balanced diet, If any?                         (Please select all that apply)</th>\n",
              "      <th>How healthy do you consider yourself?</th>\n",
              "      <th>Have you ever recommended your friends to follow a fitness routine?</th>\n",
              "      <th>Have you ever purchased a fitness equipment?</th>\n",
              "      <th>What motivates you to exercise?         (Please select all that applies )</th>\n",
              "    </tr>\n",
              "  </thead>\n",
              "  <tbody>\n",
              "    <tr>\n",
              "      <th>0</th>\n",
              "      <td>2019/07/03 11:48:07 PM GMT+5:30</td>\n",
              "      <td>Parkavi</td>\n",
              "      <td>Female</td>\n",
              "      <td>19 to 25</td>\n",
              "      <td>2</td>\n",
              "      <td>Good</td>\n",
              "      <td>Never</td>\n",
              "      <td>I don't have enough time;I can't stay motivated</td>\n",
              "      <td>I don't really exercise</td>\n",
              "      <td>I don't really exercise</td>\n",
              "      <td>Early morning</td>\n",
              "      <td>I don't really exercise</td>\n",
              "      <td>Not always</td>\n",
              "      <td>Ease of access to fast food;Temptation and cra...</td>\n",
              "      <td>3</td>\n",
              "      <td>Yes</td>\n",
              "      <td>No</td>\n",
              "      <td>I'm sorry ... I'm not really interested in exe...</td>\n",
              "    </tr>\n",
              "    <tr>\n",
              "      <th>1</th>\n",
              "      <td>2019/07/03 11:51:22 PM GMT+5:30</td>\n",
              "      <td>Nithilaa</td>\n",
              "      <td>Female</td>\n",
              "      <td>19 to 25</td>\n",
              "      <td>4</td>\n",
              "      <td>Very good</td>\n",
              "      <td>Never</td>\n",
              "      <td>I don't have enough time;I'll become too tired</td>\n",
              "      <td>Walking or jogging;Swimming</td>\n",
              "      <td>With a group</td>\n",
              "      <td>Early morning</td>\n",
              "      <td>I don't really exercise</td>\n",
              "      <td>Not always</td>\n",
              "      <td>Ease of access to fast food;Temptation and cra...</td>\n",
              "      <td>4</td>\n",
              "      <td>Yes</td>\n",
              "      <td>No</td>\n",
              "      <td>I want to be fit;I want to be flexible;I want ...</td>\n",
              "    </tr>\n",
              "    <tr>\n",
              "      <th>2</th>\n",
              "      <td>2019/07/03 11:56:28 PM GMT+5:30</td>\n",
              "      <td>Karunya v</td>\n",
              "      <td>Female</td>\n",
              "      <td>15 to 18</td>\n",
              "      <td>3</td>\n",
              "      <td>Good</td>\n",
              "      <td>1 to 2 times a week</td>\n",
              "      <td>I can't stay motivated</td>\n",
              "      <td>Walking or jogging</td>\n",
              "      <td>Alone</td>\n",
              "      <td>Early morning</td>\n",
              "      <td>30 minutes</td>\n",
              "      <td>Not always</td>\n",
              "      <td>Temptation and cravings</td>\n",
              "      <td>4</td>\n",
              "      <td>Yes</td>\n",
              "      <td>Yes</td>\n",
              "      <td>I want to be fit</td>\n",
              "    </tr>\n",
              "  </tbody>\n",
              "</table>\n",
              "</div>"
            ],
            "text/plain": [
              "                         Timestamp  ... What motivates you to exercise?         (Please select all that applies )\n",
              "0  2019/07/03 11:48:07 PM GMT+5:30  ...  I'm sorry ... I'm not really interested in exe...                       \n",
              "1  2019/07/03 11:51:22 PM GMT+5:30  ...  I want to be fit;I want to be flexible;I want ...                       \n",
              "2  2019/07/03 11:56:28 PM GMT+5:30  ...                                   I want to be fit                       \n",
              "\n",
              "[3 rows x 18 columns]"
            ]
          },
          "metadata": {},
          "execution_count": 11
        }
      ]
    },
    {
      "cell_type": "code",
      "metadata": {
        "colab": {
          "base_uri": "https://localhost:8080/",
          "height": 354
        },
        "id": "EDc8j7555Vd9",
        "outputId": "33ef5adc-c815-4579-bd61-5b3d4af3c6b5"
      },
      "source": [
        "# 컬럼이름 변경\n",
        "new_cols=['Timestamp','Name','0.Gender','1.Age','2.Exercise_importance','3.Fitness_level','4.Regularity','5.Barriers','6.Exercises','7.Do_you','8.Time','9.Time_spent','10.Balanced_diet','11.prevents_balanced','12.Health_level','13.Recommend_fitness','14.Equipment','15.Motivation']\n",
        "df.columns=new_cols\n",
        "df.head(3)"
      ],
      "execution_count": 12,
      "outputs": [
        {
          "output_type": "execute_result",
          "data": {
            "text/html": [
              "<div>\n",
              "<style scoped>\n",
              "    .dataframe tbody tr th:only-of-type {\n",
              "        vertical-align: middle;\n",
              "    }\n",
              "\n",
              "    .dataframe tbody tr th {\n",
              "        vertical-align: top;\n",
              "    }\n",
              "\n",
              "    .dataframe thead th {\n",
              "        text-align: right;\n",
              "    }\n",
              "</style>\n",
              "<table border=\"1\" class=\"dataframe\">\n",
              "  <thead>\n",
              "    <tr style=\"text-align: right;\">\n",
              "      <th></th>\n",
              "      <th>Timestamp</th>\n",
              "      <th>Name</th>\n",
              "      <th>0.Gender</th>\n",
              "      <th>1.Age</th>\n",
              "      <th>2.Exercise_importance</th>\n",
              "      <th>3.Fitness_level</th>\n",
              "      <th>4.Regularity</th>\n",
              "      <th>5.Barriers</th>\n",
              "      <th>6.Exercises</th>\n",
              "      <th>7.Do_you</th>\n",
              "      <th>8.Time</th>\n",
              "      <th>9.Time_spent</th>\n",
              "      <th>10.Balanced_diet</th>\n",
              "      <th>11.prevents_balanced</th>\n",
              "      <th>12.Health_level</th>\n",
              "      <th>13.Recommend_fitness</th>\n",
              "      <th>14.Equipment</th>\n",
              "      <th>15.Motivation</th>\n",
              "    </tr>\n",
              "  </thead>\n",
              "  <tbody>\n",
              "    <tr>\n",
              "      <th>0</th>\n",
              "      <td>2019/07/03 11:48:07 PM GMT+5:30</td>\n",
              "      <td>Parkavi</td>\n",
              "      <td>Female</td>\n",
              "      <td>19 to 25</td>\n",
              "      <td>2</td>\n",
              "      <td>Good</td>\n",
              "      <td>Never</td>\n",
              "      <td>I don't have enough time;I can't stay motivated</td>\n",
              "      <td>I don't really exercise</td>\n",
              "      <td>I don't really exercise</td>\n",
              "      <td>Early morning</td>\n",
              "      <td>I don't really exercise</td>\n",
              "      <td>Not always</td>\n",
              "      <td>Ease of access to fast food;Temptation and cra...</td>\n",
              "      <td>3</td>\n",
              "      <td>Yes</td>\n",
              "      <td>No</td>\n",
              "      <td>I'm sorry ... I'm not really interested in exe...</td>\n",
              "    </tr>\n",
              "    <tr>\n",
              "      <th>1</th>\n",
              "      <td>2019/07/03 11:51:22 PM GMT+5:30</td>\n",
              "      <td>Nithilaa</td>\n",
              "      <td>Female</td>\n",
              "      <td>19 to 25</td>\n",
              "      <td>4</td>\n",
              "      <td>Very good</td>\n",
              "      <td>Never</td>\n",
              "      <td>I don't have enough time;I'll become too tired</td>\n",
              "      <td>Walking or jogging;Swimming</td>\n",
              "      <td>With a group</td>\n",
              "      <td>Early morning</td>\n",
              "      <td>I don't really exercise</td>\n",
              "      <td>Not always</td>\n",
              "      <td>Ease of access to fast food;Temptation and cra...</td>\n",
              "      <td>4</td>\n",
              "      <td>Yes</td>\n",
              "      <td>No</td>\n",
              "      <td>I want to be fit;I want to be flexible;I want ...</td>\n",
              "    </tr>\n",
              "    <tr>\n",
              "      <th>2</th>\n",
              "      <td>2019/07/03 11:56:28 PM GMT+5:30</td>\n",
              "      <td>Karunya v</td>\n",
              "      <td>Female</td>\n",
              "      <td>15 to 18</td>\n",
              "      <td>3</td>\n",
              "      <td>Good</td>\n",
              "      <td>1 to 2 times a week</td>\n",
              "      <td>I can't stay motivated</td>\n",
              "      <td>Walking or jogging</td>\n",
              "      <td>Alone</td>\n",
              "      <td>Early morning</td>\n",
              "      <td>30 minutes</td>\n",
              "      <td>Not always</td>\n",
              "      <td>Temptation and cravings</td>\n",
              "      <td>4</td>\n",
              "      <td>Yes</td>\n",
              "      <td>Yes</td>\n",
              "      <td>I want to be fit</td>\n",
              "    </tr>\n",
              "  </tbody>\n",
              "</table>\n",
              "</div>"
            ],
            "text/plain": [
              "                         Timestamp  ...                                      15.Motivation\n",
              "0  2019/07/03 11:48:07 PM GMT+5:30  ...  I'm sorry ... I'm not really interested in exe...\n",
              "1  2019/07/03 11:51:22 PM GMT+5:30  ...  I want to be fit;I want to be flexible;I want ...\n",
              "2  2019/07/03 11:56:28 PM GMT+5:30  ...                                   I want to be fit\n",
              "\n",
              "[3 rows x 18 columns]"
            ]
          },
          "metadata": {},
          "execution_count": 12
        }
      ]
    },
    {
      "cell_type": "code",
      "metadata": {
        "colab": {
          "base_uri": "https://localhost:8080/"
        },
        "id": "IQ8tLs_SqnYB",
        "outputId": "07bdcecd-3013-4f93-fb51-b494d444f0da"
      },
      "source": [
        "df.dtypes"
      ],
      "execution_count": 13,
      "outputs": [
        {
          "output_type": "execute_result",
          "data": {
            "text/plain": [
              "Timestamp                object\n",
              "Name                     object\n",
              "0.Gender                 object\n",
              "1.Age                    object\n",
              "2.Exercise_importance     int64\n",
              "3.Fitness_level          object\n",
              "4.Regularity             object\n",
              "5.Barriers               object\n",
              "6.Exercises              object\n",
              "7.Do_you                 object\n",
              "8.Time                   object\n",
              "9.Time_spent             object\n",
              "10.Balanced_diet         object\n",
              "11.prevents_balanced     object\n",
              "12.Health_level           int64\n",
              "13.Recommend_fitness     object\n",
              "14.Equipment             object\n",
              "15.Motivation            object\n",
              "dtype: object"
            ]
          },
          "metadata": {},
          "execution_count": 13
        }
      ]
    },
    {
      "cell_type": "code",
      "metadata": {
        "colab": {
          "base_uri": "https://localhost:8080/"
        },
        "id": "bjKvHW6Vrrrb",
        "outputId": "f97a498f-eba4-4bff-fdfd-8ddf8356e1f3"
      },
      "source": [
        "df.shape"
      ],
      "execution_count": 14,
      "outputs": [
        {
          "output_type": "execute_result",
          "data": {
            "text/plain": [
              "(545, 18)"
            ]
          },
          "metadata": {},
          "execution_count": 14
        }
      ]
    },
    {
      "cell_type": "code",
      "metadata": {
        "colab": {
          "base_uri": "https://localhost:8080/",
          "height": 354
        },
        "id": "zts0E0GF5boF",
        "outputId": "9915cd62-0252-41f9-9c6d-86c230cbf038"
      },
      "source": [
        "import copy\n",
        "df_copy = copy.deepcopy(df)\n",
        "df_copy.head(3)"
      ],
      "execution_count": 15,
      "outputs": [
        {
          "output_type": "execute_result",
          "data": {
            "text/html": [
              "<div>\n",
              "<style scoped>\n",
              "    .dataframe tbody tr th:only-of-type {\n",
              "        vertical-align: middle;\n",
              "    }\n",
              "\n",
              "    .dataframe tbody tr th {\n",
              "        vertical-align: top;\n",
              "    }\n",
              "\n",
              "    .dataframe thead th {\n",
              "        text-align: right;\n",
              "    }\n",
              "</style>\n",
              "<table border=\"1\" class=\"dataframe\">\n",
              "  <thead>\n",
              "    <tr style=\"text-align: right;\">\n",
              "      <th></th>\n",
              "      <th>Timestamp</th>\n",
              "      <th>Name</th>\n",
              "      <th>0.Gender</th>\n",
              "      <th>1.Age</th>\n",
              "      <th>2.Exercise_importance</th>\n",
              "      <th>3.Fitness_level</th>\n",
              "      <th>4.Regularity</th>\n",
              "      <th>5.Barriers</th>\n",
              "      <th>6.Exercises</th>\n",
              "      <th>7.Do_you</th>\n",
              "      <th>8.Time</th>\n",
              "      <th>9.Time_spent</th>\n",
              "      <th>10.Balanced_diet</th>\n",
              "      <th>11.prevents_balanced</th>\n",
              "      <th>12.Health_level</th>\n",
              "      <th>13.Recommend_fitness</th>\n",
              "      <th>14.Equipment</th>\n",
              "      <th>15.Motivation</th>\n",
              "    </tr>\n",
              "  </thead>\n",
              "  <tbody>\n",
              "    <tr>\n",
              "      <th>0</th>\n",
              "      <td>2019/07/03 11:48:07 PM GMT+5:30</td>\n",
              "      <td>Parkavi</td>\n",
              "      <td>Female</td>\n",
              "      <td>19 to 25</td>\n",
              "      <td>2</td>\n",
              "      <td>Good</td>\n",
              "      <td>Never</td>\n",
              "      <td>I don't have enough time;I can't stay motivated</td>\n",
              "      <td>I don't really exercise</td>\n",
              "      <td>I don't really exercise</td>\n",
              "      <td>Early morning</td>\n",
              "      <td>I don't really exercise</td>\n",
              "      <td>Not always</td>\n",
              "      <td>Ease of access to fast food;Temptation and cra...</td>\n",
              "      <td>3</td>\n",
              "      <td>Yes</td>\n",
              "      <td>No</td>\n",
              "      <td>I'm sorry ... I'm not really interested in exe...</td>\n",
              "    </tr>\n",
              "    <tr>\n",
              "      <th>1</th>\n",
              "      <td>2019/07/03 11:51:22 PM GMT+5:30</td>\n",
              "      <td>Nithilaa</td>\n",
              "      <td>Female</td>\n",
              "      <td>19 to 25</td>\n",
              "      <td>4</td>\n",
              "      <td>Very good</td>\n",
              "      <td>Never</td>\n",
              "      <td>I don't have enough time;I'll become too tired</td>\n",
              "      <td>Walking or jogging;Swimming</td>\n",
              "      <td>With a group</td>\n",
              "      <td>Early morning</td>\n",
              "      <td>I don't really exercise</td>\n",
              "      <td>Not always</td>\n",
              "      <td>Ease of access to fast food;Temptation and cra...</td>\n",
              "      <td>4</td>\n",
              "      <td>Yes</td>\n",
              "      <td>No</td>\n",
              "      <td>I want to be fit;I want to be flexible;I want ...</td>\n",
              "    </tr>\n",
              "    <tr>\n",
              "      <th>2</th>\n",
              "      <td>2019/07/03 11:56:28 PM GMT+5:30</td>\n",
              "      <td>Karunya v</td>\n",
              "      <td>Female</td>\n",
              "      <td>15 to 18</td>\n",
              "      <td>3</td>\n",
              "      <td>Good</td>\n",
              "      <td>1 to 2 times a week</td>\n",
              "      <td>I can't stay motivated</td>\n",
              "      <td>Walking or jogging</td>\n",
              "      <td>Alone</td>\n",
              "      <td>Early morning</td>\n",
              "      <td>30 minutes</td>\n",
              "      <td>Not always</td>\n",
              "      <td>Temptation and cravings</td>\n",
              "      <td>4</td>\n",
              "      <td>Yes</td>\n",
              "      <td>Yes</td>\n",
              "      <td>I want to be fit</td>\n",
              "    </tr>\n",
              "  </tbody>\n",
              "</table>\n",
              "</div>"
            ],
            "text/plain": [
              "                         Timestamp  ...                                      15.Motivation\n",
              "0  2019/07/03 11:48:07 PM GMT+5:30  ...  I'm sorry ... I'm not really interested in exe...\n",
              "1  2019/07/03 11:51:22 PM GMT+5:30  ...  I want to be fit;I want to be flexible;I want ...\n",
              "2  2019/07/03 11:56:28 PM GMT+5:30  ...                                   I want to be fit\n",
              "\n",
              "[3 rows x 18 columns]"
            ]
          },
          "metadata": {},
          "execution_count": 15
        }
      ]
    },
    {
      "cell_type": "code",
      "metadata": {
        "colab": {
          "base_uri": "https://localhost:8080/",
          "height": 320
        },
        "id": "uhC8Fc7S5djV",
        "outputId": "41f36283-6b0c-4cf1-b0cf-3db542a75cd7"
      },
      "source": [
        "# 머신러닝 데이터를 만들기 위한 전처리. 필요없는 컬럼 drop\n",
        "\n",
        "dropped = ['Timestamp', 'Name']\n",
        "df_copy.drop(dropped,axis=1,inplace=True)\n",
        "df_copy.head(3)"
      ],
      "execution_count": 16,
      "outputs": [
        {
          "output_type": "execute_result",
          "data": {
            "text/html": [
              "<div>\n",
              "<style scoped>\n",
              "    .dataframe tbody tr th:only-of-type {\n",
              "        vertical-align: middle;\n",
              "    }\n",
              "\n",
              "    .dataframe tbody tr th {\n",
              "        vertical-align: top;\n",
              "    }\n",
              "\n",
              "    .dataframe thead th {\n",
              "        text-align: right;\n",
              "    }\n",
              "</style>\n",
              "<table border=\"1\" class=\"dataframe\">\n",
              "  <thead>\n",
              "    <tr style=\"text-align: right;\">\n",
              "      <th></th>\n",
              "      <th>0.Gender</th>\n",
              "      <th>1.Age</th>\n",
              "      <th>2.Exercise_importance</th>\n",
              "      <th>3.Fitness_level</th>\n",
              "      <th>4.Regularity</th>\n",
              "      <th>5.Barriers</th>\n",
              "      <th>6.Exercises</th>\n",
              "      <th>7.Do_you</th>\n",
              "      <th>8.Time</th>\n",
              "      <th>9.Time_spent</th>\n",
              "      <th>10.Balanced_diet</th>\n",
              "      <th>11.prevents_balanced</th>\n",
              "      <th>12.Health_level</th>\n",
              "      <th>13.Recommend_fitness</th>\n",
              "      <th>14.Equipment</th>\n",
              "      <th>15.Motivation</th>\n",
              "    </tr>\n",
              "  </thead>\n",
              "  <tbody>\n",
              "    <tr>\n",
              "      <th>0</th>\n",
              "      <td>Female</td>\n",
              "      <td>19 to 25</td>\n",
              "      <td>2</td>\n",
              "      <td>Good</td>\n",
              "      <td>Never</td>\n",
              "      <td>I don't have enough time;I can't stay motivated</td>\n",
              "      <td>I don't really exercise</td>\n",
              "      <td>I don't really exercise</td>\n",
              "      <td>Early morning</td>\n",
              "      <td>I don't really exercise</td>\n",
              "      <td>Not always</td>\n",
              "      <td>Ease of access to fast food;Temptation and cra...</td>\n",
              "      <td>3</td>\n",
              "      <td>Yes</td>\n",
              "      <td>No</td>\n",
              "      <td>I'm sorry ... I'm not really interested in exe...</td>\n",
              "    </tr>\n",
              "    <tr>\n",
              "      <th>1</th>\n",
              "      <td>Female</td>\n",
              "      <td>19 to 25</td>\n",
              "      <td>4</td>\n",
              "      <td>Very good</td>\n",
              "      <td>Never</td>\n",
              "      <td>I don't have enough time;I'll become too tired</td>\n",
              "      <td>Walking or jogging;Swimming</td>\n",
              "      <td>With a group</td>\n",
              "      <td>Early morning</td>\n",
              "      <td>I don't really exercise</td>\n",
              "      <td>Not always</td>\n",
              "      <td>Ease of access to fast food;Temptation and cra...</td>\n",
              "      <td>4</td>\n",
              "      <td>Yes</td>\n",
              "      <td>No</td>\n",
              "      <td>I want to be fit;I want to be flexible;I want ...</td>\n",
              "    </tr>\n",
              "    <tr>\n",
              "      <th>2</th>\n",
              "      <td>Female</td>\n",
              "      <td>15 to 18</td>\n",
              "      <td>3</td>\n",
              "      <td>Good</td>\n",
              "      <td>1 to 2 times a week</td>\n",
              "      <td>I can't stay motivated</td>\n",
              "      <td>Walking or jogging</td>\n",
              "      <td>Alone</td>\n",
              "      <td>Early morning</td>\n",
              "      <td>30 minutes</td>\n",
              "      <td>Not always</td>\n",
              "      <td>Temptation and cravings</td>\n",
              "      <td>4</td>\n",
              "      <td>Yes</td>\n",
              "      <td>Yes</td>\n",
              "      <td>I want to be fit</td>\n",
              "    </tr>\n",
              "  </tbody>\n",
              "</table>\n",
              "</div>"
            ],
            "text/plain": [
              "  0.Gender  ...                                      15.Motivation\n",
              "0   Female  ...  I'm sorry ... I'm not really interested in exe...\n",
              "1   Female  ...  I want to be fit;I want to be flexible;I want ...\n",
              "2   Female  ...                                   I want to be fit\n",
              "\n",
              "[3 rows x 16 columns]"
            ]
          },
          "metadata": {},
          "execution_count": 16
        }
      ]
    },
    {
      "cell_type": "code",
      "metadata": {
        "colab": {
          "base_uri": "https://localhost:8080/",
          "height": 321
        },
        "id": "WyD1htW_5hcA",
        "outputId": "42082e5b-8107-4bfd-888b-c6449738c64b"
      },
      "source": [
        "# 중복행 처리\n",
        "df_copy.drop_duplicates(inplace=True, ignore_index = True) # ignore_index = True 사라진 행의 빈 인덱스 재설정\n",
        "\n",
        "print(df_copy.shape)\n",
        "df_copy.tail(3)"
      ],
      "execution_count": 17,
      "outputs": [
        {
          "output_type": "stream",
          "name": "stdout",
          "text": [
            "(534, 16)\n"
          ]
        },
        {
          "output_type": "execute_result",
          "data": {
            "text/html": [
              "<div>\n",
              "<style scoped>\n",
              "    .dataframe tbody tr th:only-of-type {\n",
              "        vertical-align: middle;\n",
              "    }\n",
              "\n",
              "    .dataframe tbody tr th {\n",
              "        vertical-align: top;\n",
              "    }\n",
              "\n",
              "    .dataframe thead th {\n",
              "        text-align: right;\n",
              "    }\n",
              "</style>\n",
              "<table border=\"1\" class=\"dataframe\">\n",
              "  <thead>\n",
              "    <tr style=\"text-align: right;\">\n",
              "      <th></th>\n",
              "      <th>0.Gender</th>\n",
              "      <th>1.Age</th>\n",
              "      <th>2.Exercise_importance</th>\n",
              "      <th>3.Fitness_level</th>\n",
              "      <th>4.Regularity</th>\n",
              "      <th>5.Barriers</th>\n",
              "      <th>6.Exercises</th>\n",
              "      <th>7.Do_you</th>\n",
              "      <th>8.Time</th>\n",
              "      <th>9.Time_spent</th>\n",
              "      <th>10.Balanced_diet</th>\n",
              "      <th>11.prevents_balanced</th>\n",
              "      <th>12.Health_level</th>\n",
              "      <th>13.Recommend_fitness</th>\n",
              "      <th>14.Equipment</th>\n",
              "      <th>15.Motivation</th>\n",
              "    </tr>\n",
              "  </thead>\n",
              "  <tbody>\n",
              "    <tr>\n",
              "      <th>531</th>\n",
              "      <td>Female</td>\n",
              "      <td>19 to 25</td>\n",
              "      <td>4</td>\n",
              "      <td>Average</td>\n",
              "      <td>1 to 2 times a week</td>\n",
              "      <td>I can't stay motivated</td>\n",
              "      <td>Walking or jogging;Yoga</td>\n",
              "      <td>Alone</td>\n",
              "      <td>Early morning</td>\n",
              "      <td>30 minutes</td>\n",
              "      <td>Not always</td>\n",
              "      <td>Ease of access to fast food;Temptation and cra...</td>\n",
              "      <td>4</td>\n",
              "      <td>Yes</td>\n",
              "      <td>No</td>\n",
              "      <td>I want to lose weight;I want to be flexible</td>\n",
              "    </tr>\n",
              "    <tr>\n",
              "      <th>532</th>\n",
              "      <td>Male</td>\n",
              "      <td>19 to 25</td>\n",
              "      <td>3</td>\n",
              "      <td>Good</td>\n",
              "      <td>3 to 4 times a week</td>\n",
              "      <td>I don't really enjoy exercising</td>\n",
              "      <td>Walking or jogging</td>\n",
              "      <td>Alone</td>\n",
              "      <td>Evening</td>\n",
              "      <td>30 minutes</td>\n",
              "      <td>Not always</td>\n",
              "      <td>Temptation and cravings</td>\n",
              "      <td>3</td>\n",
              "      <td>Yes</td>\n",
              "      <td>No</td>\n",
              "      <td>I want to relieve stress</td>\n",
              "    </tr>\n",
              "    <tr>\n",
              "      <th>533</th>\n",
              "      <td>Female</td>\n",
              "      <td>40 and above</td>\n",
              "      <td>2</td>\n",
              "      <td>Average</td>\n",
              "      <td>Never</td>\n",
              "      <td>I don't have enough time;I can't stay motivate...</td>\n",
              "      <td>I don't really exercise</td>\n",
              "      <td>I don't really exercise</td>\n",
              "      <td>Early morning</td>\n",
              "      <td>I don't really exercise</td>\n",
              "      <td>Not always</td>\n",
              "      <td>Cost;Temptation and cravings</td>\n",
              "      <td>3</td>\n",
              "      <td>No</td>\n",
              "      <td>Yes</td>\n",
              "      <td>I'm sorry ... I'm not really interested in exe...</td>\n",
              "    </tr>\n",
              "  </tbody>\n",
              "</table>\n",
              "</div>"
            ],
            "text/plain": [
              "    0.Gender  ...                                      15.Motivation\n",
              "531   Female  ...        I want to lose weight;I want to be flexible\n",
              "532     Male  ...                           I want to relieve stress\n",
              "533   Female  ...  I'm sorry ... I'm not really interested in exe...\n",
              "\n",
              "[3 rows x 16 columns]"
            ]
          },
          "metadata": {},
          "execution_count": 17
        }
      ]
    },
    {
      "cell_type": "code",
      "metadata": {
        "colab": {
          "base_uri": "https://localhost:8080/",
          "height": 143
        },
        "id": "s463TRNt5wLz",
        "outputId": "6cd3bc8d-e2f3-43c6-dcf2-a264913acfac"
      },
      "source": [
        "select = df_copy.iloc[:,[5,6,11,15]]\n",
        "select.head(3)"
      ],
      "execution_count": 18,
      "outputs": [
        {
          "output_type": "execute_result",
          "data": {
            "text/html": [
              "<div>\n",
              "<style scoped>\n",
              "    .dataframe tbody tr th:only-of-type {\n",
              "        vertical-align: middle;\n",
              "    }\n",
              "\n",
              "    .dataframe tbody tr th {\n",
              "        vertical-align: top;\n",
              "    }\n",
              "\n",
              "    .dataframe thead th {\n",
              "        text-align: right;\n",
              "    }\n",
              "</style>\n",
              "<table border=\"1\" class=\"dataframe\">\n",
              "  <thead>\n",
              "    <tr style=\"text-align: right;\">\n",
              "      <th></th>\n",
              "      <th>5.Barriers</th>\n",
              "      <th>6.Exercises</th>\n",
              "      <th>11.prevents_balanced</th>\n",
              "      <th>15.Motivation</th>\n",
              "    </tr>\n",
              "  </thead>\n",
              "  <tbody>\n",
              "    <tr>\n",
              "      <th>0</th>\n",
              "      <td>I don't have enough time;I can't stay motivated</td>\n",
              "      <td>I don't really exercise</td>\n",
              "      <td>Ease of access to fast food;Temptation and cra...</td>\n",
              "      <td>I'm sorry ... I'm not really interested in exe...</td>\n",
              "    </tr>\n",
              "    <tr>\n",
              "      <th>1</th>\n",
              "      <td>I don't have enough time;I'll become too tired</td>\n",
              "      <td>Walking or jogging;Swimming</td>\n",
              "      <td>Ease of access to fast food;Temptation and cra...</td>\n",
              "      <td>I want to be fit;I want to be flexible;I want ...</td>\n",
              "    </tr>\n",
              "    <tr>\n",
              "      <th>2</th>\n",
              "      <td>I can't stay motivated</td>\n",
              "      <td>Walking or jogging</td>\n",
              "      <td>Temptation and cravings</td>\n",
              "      <td>I want to be fit</td>\n",
              "    </tr>\n",
              "  </tbody>\n",
              "</table>\n",
              "</div>"
            ],
            "text/plain": [
              "                                        5.Barriers  ...                                      15.Motivation\n",
              "0  I don't have enough time;I can't stay motivated  ...  I'm sorry ... I'm not really interested in exe...\n",
              "1   I don't have enough time;I'll become too tired  ...  I want to be fit;I want to be flexible;I want ...\n",
              "2                           I can't stay motivated  ...                                   I want to be fit\n",
              "\n",
              "[3 rows x 4 columns]"
            ]
          },
          "metadata": {},
          "execution_count": 18
        }
      ]
    },
    {
      "cell_type": "code",
      "metadata": {
        "colab": {
          "base_uri": "https://localhost:8080/",
          "height": 196
        },
        "id": "K9TKTc1u5s3G",
        "outputId": "d060dc8a-2796-4831-8505-cbcba8a7748e"
      },
      "source": [
        "# index열을 기준으로 합할 것임. \n",
        "df_set=df_copy.drop(select, axis=1).reset_index()\n",
        "df_set.head(3)"
      ],
      "execution_count": 19,
      "outputs": [
        {
          "output_type": "execute_result",
          "data": {
            "text/html": [
              "<div>\n",
              "<style scoped>\n",
              "    .dataframe tbody tr th:only-of-type {\n",
              "        vertical-align: middle;\n",
              "    }\n",
              "\n",
              "    .dataframe tbody tr th {\n",
              "        vertical-align: top;\n",
              "    }\n",
              "\n",
              "    .dataframe thead th {\n",
              "        text-align: right;\n",
              "    }\n",
              "</style>\n",
              "<table border=\"1\" class=\"dataframe\">\n",
              "  <thead>\n",
              "    <tr style=\"text-align: right;\">\n",
              "      <th></th>\n",
              "      <th>index</th>\n",
              "      <th>0.Gender</th>\n",
              "      <th>1.Age</th>\n",
              "      <th>2.Exercise_importance</th>\n",
              "      <th>3.Fitness_level</th>\n",
              "      <th>4.Regularity</th>\n",
              "      <th>7.Do_you</th>\n",
              "      <th>8.Time</th>\n",
              "      <th>9.Time_spent</th>\n",
              "      <th>10.Balanced_diet</th>\n",
              "      <th>12.Health_level</th>\n",
              "      <th>13.Recommend_fitness</th>\n",
              "      <th>14.Equipment</th>\n",
              "    </tr>\n",
              "  </thead>\n",
              "  <tbody>\n",
              "    <tr>\n",
              "      <th>0</th>\n",
              "      <td>0</td>\n",
              "      <td>Female</td>\n",
              "      <td>19 to 25</td>\n",
              "      <td>2</td>\n",
              "      <td>Good</td>\n",
              "      <td>Never</td>\n",
              "      <td>I don't really exercise</td>\n",
              "      <td>Early morning</td>\n",
              "      <td>I don't really exercise</td>\n",
              "      <td>Not always</td>\n",
              "      <td>3</td>\n",
              "      <td>Yes</td>\n",
              "      <td>No</td>\n",
              "    </tr>\n",
              "    <tr>\n",
              "      <th>1</th>\n",
              "      <td>1</td>\n",
              "      <td>Female</td>\n",
              "      <td>19 to 25</td>\n",
              "      <td>4</td>\n",
              "      <td>Very good</td>\n",
              "      <td>Never</td>\n",
              "      <td>With a group</td>\n",
              "      <td>Early morning</td>\n",
              "      <td>I don't really exercise</td>\n",
              "      <td>Not always</td>\n",
              "      <td>4</td>\n",
              "      <td>Yes</td>\n",
              "      <td>No</td>\n",
              "    </tr>\n",
              "    <tr>\n",
              "      <th>2</th>\n",
              "      <td>2</td>\n",
              "      <td>Female</td>\n",
              "      <td>15 to 18</td>\n",
              "      <td>3</td>\n",
              "      <td>Good</td>\n",
              "      <td>1 to 2 times a week</td>\n",
              "      <td>Alone</td>\n",
              "      <td>Early morning</td>\n",
              "      <td>30 minutes</td>\n",
              "      <td>Not always</td>\n",
              "      <td>4</td>\n",
              "      <td>Yes</td>\n",
              "      <td>Yes</td>\n",
              "    </tr>\n",
              "  </tbody>\n",
              "</table>\n",
              "</div>"
            ],
            "text/plain": [
              "   index 0.Gender     1.Age  ...  12.Health_level 13.Recommend_fitness 14.Equipment\n",
              "0      0   Female  19 to 25  ...                3                  Yes           No\n",
              "1      1   Female  19 to 25  ...                4                  Yes           No\n",
              "2      2   Female  15 to 18  ...                4                  Yes          Yes\n",
              "\n",
              "[3 rows x 13 columns]"
            ]
          },
          "metadata": {},
          "execution_count": 19
        }
      ]
    },
    {
      "cell_type": "code",
      "metadata": {
        "colab": {
          "base_uri": "https://localhost:8080/",
          "height": 424
        },
        "id": "Jj0k3FBN5zqN",
        "outputId": "92cce1b1-adf6-4ced-ff2e-9f0084798e34"
      },
      "source": [
        "barriers=select['5.Barriers'].to_frame()\n",
        "\n",
        "a=[]\n",
        "b=[]\n",
        "dic = {'index':a,\n",
        "       '5.Barriers':b}\n",
        "\n",
        "i = 0\n",
        "for selected_options in barriers['5.Barriers']:\n",
        "    for barriers in selected_options.split(\";\"):\n",
        "        a.append(i)\n",
        "        b.append(barriers)\n",
        "    i+=1\n",
        "\n",
        "df_barriers = pd.DataFrame(dic)\n",
        "df_barriers"
      ],
      "execution_count": 20,
      "outputs": [
        {
          "output_type": "execute_result",
          "data": {
            "text/html": [
              "<div>\n",
              "<style scoped>\n",
              "    .dataframe tbody tr th:only-of-type {\n",
              "        vertical-align: middle;\n",
              "    }\n",
              "\n",
              "    .dataframe tbody tr th {\n",
              "        vertical-align: top;\n",
              "    }\n",
              "\n",
              "    .dataframe thead th {\n",
              "        text-align: right;\n",
              "    }\n",
              "</style>\n",
              "<table border=\"1\" class=\"dataframe\">\n",
              "  <thead>\n",
              "    <tr style=\"text-align: right;\">\n",
              "      <th></th>\n",
              "      <th>index</th>\n",
              "      <th>5.Barriers</th>\n",
              "    </tr>\n",
              "  </thead>\n",
              "  <tbody>\n",
              "    <tr>\n",
              "      <th>0</th>\n",
              "      <td>0</td>\n",
              "      <td>I don't have enough time</td>\n",
              "    </tr>\n",
              "    <tr>\n",
              "      <th>1</th>\n",
              "      <td>0</td>\n",
              "      <td>I can't stay motivated</td>\n",
              "    </tr>\n",
              "    <tr>\n",
              "      <th>2</th>\n",
              "      <td>1</td>\n",
              "      <td>I don't have enough time</td>\n",
              "    </tr>\n",
              "    <tr>\n",
              "      <th>3</th>\n",
              "      <td>1</td>\n",
              "      <td>I'll become too tired</td>\n",
              "    </tr>\n",
              "    <tr>\n",
              "      <th>4</th>\n",
              "      <td>2</td>\n",
              "      <td>I can't stay motivated</td>\n",
              "    </tr>\n",
              "    <tr>\n",
              "      <th>...</th>\n",
              "      <td>...</td>\n",
              "      <td>...</td>\n",
              "    </tr>\n",
              "    <tr>\n",
              "      <th>736</th>\n",
              "      <td>531</td>\n",
              "      <td>I can't stay motivated</td>\n",
              "    </tr>\n",
              "    <tr>\n",
              "      <th>737</th>\n",
              "      <td>532</td>\n",
              "      <td>I don't really enjoy exercising</td>\n",
              "    </tr>\n",
              "    <tr>\n",
              "      <th>738</th>\n",
              "      <td>533</td>\n",
              "      <td>I don't have enough time</td>\n",
              "    </tr>\n",
              "    <tr>\n",
              "      <th>739</th>\n",
              "      <td>533</td>\n",
              "      <td>I can't stay motivated</td>\n",
              "    </tr>\n",
              "    <tr>\n",
              "      <th>740</th>\n",
              "      <td>533</td>\n",
              "      <td>I don't really enjoy exercising</td>\n",
              "    </tr>\n",
              "  </tbody>\n",
              "</table>\n",
              "<p>741 rows × 2 columns</p>\n",
              "</div>"
            ],
            "text/plain": [
              "     index                       5.Barriers\n",
              "0        0         I don't have enough time\n",
              "1        0           I can't stay motivated\n",
              "2        1         I don't have enough time\n",
              "3        1            I'll become too tired\n",
              "4        2           I can't stay motivated\n",
              "..     ...                              ...\n",
              "736    531           I can't stay motivated\n",
              "737    532  I don't really enjoy exercising\n",
              "738    533         I don't have enough time\n",
              "739    533           I can't stay motivated\n",
              "740    533  I don't really enjoy exercising\n",
              "\n",
              "[741 rows x 2 columns]"
            ]
          },
          "metadata": {},
          "execution_count": 20
        }
      ]
    },
    {
      "cell_type": "code",
      "metadata": {
        "colab": {
          "base_uri": "https://localhost:8080/",
          "height": 424
        },
        "id": "4OIEehLb54pe",
        "outputId": "630210cf-7c01-497b-ac34-8e7a45f64006"
      },
      "source": [
        "exercises=select['6.Exercises'].to_frame()\n",
        "\n",
        "a=[]\n",
        "b=[]\n",
        "dic = {'index':a,\n",
        "       '6.Exercises':b}\n",
        "\n",
        "i = 0\n",
        "for selected_options in exercises['6.Exercises']:\n",
        "    for exercises in selected_options.split(\";\"):\n",
        "        a.append(i)\n",
        "        b.append(exercises)\n",
        "    i+=1\n",
        "\n",
        "df_exercises = pd.DataFrame(dic)\n",
        "df_exercises"
      ],
      "execution_count": 21,
      "outputs": [
        {
          "output_type": "execute_result",
          "data": {
            "text/html": [
              "<div>\n",
              "<style scoped>\n",
              "    .dataframe tbody tr th:only-of-type {\n",
              "        vertical-align: middle;\n",
              "    }\n",
              "\n",
              "    .dataframe tbody tr th {\n",
              "        vertical-align: top;\n",
              "    }\n",
              "\n",
              "    .dataframe thead th {\n",
              "        text-align: right;\n",
              "    }\n",
              "</style>\n",
              "<table border=\"1\" class=\"dataframe\">\n",
              "  <thead>\n",
              "    <tr style=\"text-align: right;\">\n",
              "      <th></th>\n",
              "      <th>index</th>\n",
              "      <th>6.Exercises</th>\n",
              "    </tr>\n",
              "  </thead>\n",
              "  <tbody>\n",
              "    <tr>\n",
              "      <th>0</th>\n",
              "      <td>0</td>\n",
              "      <td>I don't really exercise</td>\n",
              "    </tr>\n",
              "    <tr>\n",
              "      <th>1</th>\n",
              "      <td>1</td>\n",
              "      <td>Walking or jogging</td>\n",
              "    </tr>\n",
              "    <tr>\n",
              "      <th>2</th>\n",
              "      <td>1</td>\n",
              "      <td>Swimming</td>\n",
              "    </tr>\n",
              "    <tr>\n",
              "      <th>3</th>\n",
              "      <td>2</td>\n",
              "      <td>Walking or jogging</td>\n",
              "    </tr>\n",
              "    <tr>\n",
              "      <th>4</th>\n",
              "      <td>3</td>\n",
              "      <td>Walking or jogging</td>\n",
              "    </tr>\n",
              "    <tr>\n",
              "      <th>...</th>\n",
              "      <td>...</td>\n",
              "      <td>...</td>\n",
              "    </tr>\n",
              "    <tr>\n",
              "      <th>828</th>\n",
              "      <td>530</td>\n",
              "      <td>Swimming</td>\n",
              "    </tr>\n",
              "    <tr>\n",
              "      <th>829</th>\n",
              "      <td>531</td>\n",
              "      <td>Walking or jogging</td>\n",
              "    </tr>\n",
              "    <tr>\n",
              "      <th>830</th>\n",
              "      <td>531</td>\n",
              "      <td>Yoga</td>\n",
              "    </tr>\n",
              "    <tr>\n",
              "      <th>831</th>\n",
              "      <td>532</td>\n",
              "      <td>Walking or jogging</td>\n",
              "    </tr>\n",
              "    <tr>\n",
              "      <th>832</th>\n",
              "      <td>533</td>\n",
              "      <td>I don't really exercise</td>\n",
              "    </tr>\n",
              "  </tbody>\n",
              "</table>\n",
              "<p>833 rows × 2 columns</p>\n",
              "</div>"
            ],
            "text/plain": [
              "     index              6.Exercises\n",
              "0        0  I don't really exercise\n",
              "1        1       Walking or jogging\n",
              "2        1                 Swimming\n",
              "3        2       Walking or jogging\n",
              "4        3       Walking or jogging\n",
              "..     ...                      ...\n",
              "828    530                 Swimming\n",
              "829    531       Walking or jogging\n",
              "830    531                     Yoga\n",
              "831    532       Walking or jogging\n",
              "832    533  I don't really exercise\n",
              "\n",
              "[833 rows x 2 columns]"
            ]
          },
          "metadata": {},
          "execution_count": 21
        }
      ]
    },
    {
      "cell_type": "code",
      "metadata": {
        "colab": {
          "base_uri": "https://localhost:8080/",
          "height": 424
        },
        "id": "mzYatht356LX",
        "outputId": "1d0b4ccb-5cd2-487e-9ad4-a7aad6b9754e"
      },
      "source": [
        "balance=select['11.prevents_balanced'].to_frame()\n",
        "\n",
        "a=[]\n",
        "b=[]\n",
        "dic = {'index':a,\n",
        "       '11.prevents_balanced':b}\n",
        "\n",
        "i = 0\n",
        "for selected_options in balance['11.prevents_balanced']:\n",
        "    for balance in selected_options.split(\";\"):\n",
        "        a.append(i)\n",
        "        b.append(balance)\n",
        "    i+=1\n",
        "\n",
        "df_balance = pd.DataFrame(dic)\n",
        "df_balance"
      ],
      "execution_count": 22,
      "outputs": [
        {
          "output_type": "execute_result",
          "data": {
            "text/html": [
              "<div>\n",
              "<style scoped>\n",
              "    .dataframe tbody tr th:only-of-type {\n",
              "        vertical-align: middle;\n",
              "    }\n",
              "\n",
              "    .dataframe tbody tr th {\n",
              "        vertical-align: top;\n",
              "    }\n",
              "\n",
              "    .dataframe thead th {\n",
              "        text-align: right;\n",
              "    }\n",
              "</style>\n",
              "<table border=\"1\" class=\"dataframe\">\n",
              "  <thead>\n",
              "    <tr style=\"text-align: right;\">\n",
              "      <th></th>\n",
              "      <th>index</th>\n",
              "      <th>11.prevents_balanced</th>\n",
              "    </tr>\n",
              "  </thead>\n",
              "  <tbody>\n",
              "    <tr>\n",
              "      <th>0</th>\n",
              "      <td>0</td>\n",
              "      <td>Ease of access to fast food</td>\n",
              "    </tr>\n",
              "    <tr>\n",
              "      <th>1</th>\n",
              "      <td>0</td>\n",
              "      <td>Temptation and cravings</td>\n",
              "    </tr>\n",
              "    <tr>\n",
              "      <th>2</th>\n",
              "      <td>1</td>\n",
              "      <td>Ease of access to fast food</td>\n",
              "    </tr>\n",
              "    <tr>\n",
              "      <th>3</th>\n",
              "      <td>1</td>\n",
              "      <td>Temptation and cravings</td>\n",
              "    </tr>\n",
              "    <tr>\n",
              "      <th>4</th>\n",
              "      <td>2</td>\n",
              "      <td>Temptation and cravings</td>\n",
              "    </tr>\n",
              "    <tr>\n",
              "      <th>...</th>\n",
              "      <td>...</td>\n",
              "      <td>...</td>\n",
              "    </tr>\n",
              "    <tr>\n",
              "      <th>674</th>\n",
              "      <td>531</td>\n",
              "      <td>Ease of access to fast food</td>\n",
              "    </tr>\n",
              "    <tr>\n",
              "      <th>675</th>\n",
              "      <td>531</td>\n",
              "      <td>Temptation and cravings</td>\n",
              "    </tr>\n",
              "    <tr>\n",
              "      <th>676</th>\n",
              "      <td>532</td>\n",
              "      <td>Temptation and cravings</td>\n",
              "    </tr>\n",
              "    <tr>\n",
              "      <th>677</th>\n",
              "      <td>533</td>\n",
              "      <td>Cost</td>\n",
              "    </tr>\n",
              "    <tr>\n",
              "      <th>678</th>\n",
              "      <td>533</td>\n",
              "      <td>Temptation and cravings</td>\n",
              "    </tr>\n",
              "  </tbody>\n",
              "</table>\n",
              "<p>679 rows × 2 columns</p>\n",
              "</div>"
            ],
            "text/plain": [
              "     index         11.prevents_balanced\n",
              "0        0  Ease of access to fast food\n",
              "1        0      Temptation and cravings\n",
              "2        1  Ease of access to fast food\n",
              "3        1      Temptation and cravings\n",
              "4        2      Temptation and cravings\n",
              "..     ...                          ...\n",
              "674    531  Ease of access to fast food\n",
              "675    531      Temptation and cravings\n",
              "676    532      Temptation and cravings\n",
              "677    533                         Cost\n",
              "678    533      Temptation and cravings\n",
              "\n",
              "[679 rows x 2 columns]"
            ]
          },
          "metadata": {},
          "execution_count": 22
        }
      ]
    },
    {
      "cell_type": "code",
      "metadata": {
        "colab": {
          "base_uri": "https://localhost:8080/",
          "height": 424
        },
        "id": "wr4x9Sgb57xM",
        "outputId": "c5bfd36d-0f15-4c95-d14d-7b085007c928"
      },
      "source": [
        "motivation = select['15.Motivation'].to_frame()  #판다스를 데이터프레임으로.\n",
        "\n",
        "a=[]\n",
        "b=[]\n",
        "dic = {'index':a,\n",
        "       '15.Motivation':b}\n",
        "i = 0\n",
        "for selected_options in motivation['15.Motivation']:\n",
        "    for motivation in selected_options.split(\";\"):\n",
        "        a.append(i)\n",
        "        b.append(motivation)\n",
        "    i+=1\n",
        "    \n",
        "df_motivation = pd.DataFrame(dic)\n",
        "df_motivation"
      ],
      "execution_count": 23,
      "outputs": [
        {
          "output_type": "execute_result",
          "data": {
            "text/html": [
              "<div>\n",
              "<style scoped>\n",
              "    .dataframe tbody tr th:only-of-type {\n",
              "        vertical-align: middle;\n",
              "    }\n",
              "\n",
              "    .dataframe tbody tr th {\n",
              "        vertical-align: top;\n",
              "    }\n",
              "\n",
              "    .dataframe thead th {\n",
              "        text-align: right;\n",
              "    }\n",
              "</style>\n",
              "<table border=\"1\" class=\"dataframe\">\n",
              "  <thead>\n",
              "    <tr style=\"text-align: right;\">\n",
              "      <th></th>\n",
              "      <th>index</th>\n",
              "      <th>15.Motivation</th>\n",
              "    </tr>\n",
              "  </thead>\n",
              "  <tbody>\n",
              "    <tr>\n",
              "      <th>0</th>\n",
              "      <td>0</td>\n",
              "      <td>I'm sorry ... I'm not really interested in exe...</td>\n",
              "    </tr>\n",
              "    <tr>\n",
              "      <th>1</th>\n",
              "      <td>1</td>\n",
              "      <td>I want to be fit</td>\n",
              "    </tr>\n",
              "    <tr>\n",
              "      <th>2</th>\n",
              "      <td>1</td>\n",
              "      <td>I want to be flexible</td>\n",
              "    </tr>\n",
              "    <tr>\n",
              "      <th>3</th>\n",
              "      <td>1</td>\n",
              "      <td>I want to relieve stress</td>\n",
              "    </tr>\n",
              "    <tr>\n",
              "      <th>4</th>\n",
              "      <td>1</td>\n",
              "      <td>I'm sorry ... I'm not really interested in exe...</td>\n",
              "    </tr>\n",
              "    <tr>\n",
              "      <th>...</th>\n",
              "      <td>...</td>\n",
              "      <td>...</td>\n",
              "    </tr>\n",
              "    <tr>\n",
              "      <th>1057</th>\n",
              "      <td>530</td>\n",
              "      <td>I want to relieve stress</td>\n",
              "    </tr>\n",
              "    <tr>\n",
              "      <th>1058</th>\n",
              "      <td>531</td>\n",
              "      <td>I want to lose weight</td>\n",
              "    </tr>\n",
              "    <tr>\n",
              "      <th>1059</th>\n",
              "      <td>531</td>\n",
              "      <td>I want to be flexible</td>\n",
              "    </tr>\n",
              "    <tr>\n",
              "      <th>1060</th>\n",
              "      <td>532</td>\n",
              "      <td>I want to relieve stress</td>\n",
              "    </tr>\n",
              "    <tr>\n",
              "      <th>1061</th>\n",
              "      <td>533</td>\n",
              "      <td>I'm sorry ... I'm not really interested in exe...</td>\n",
              "    </tr>\n",
              "  </tbody>\n",
              "</table>\n",
              "<p>1062 rows × 2 columns</p>\n",
              "</div>"
            ],
            "text/plain": [
              "      index                                      15.Motivation\n",
              "0         0  I'm sorry ... I'm not really interested in exe...\n",
              "1         1                                   I want to be fit\n",
              "2         1                              I want to be flexible\n",
              "3         1                           I want to relieve stress\n",
              "4         1  I'm sorry ... I'm not really interested in exe...\n",
              "...     ...                                                ...\n",
              "1057    530                           I want to relieve stress\n",
              "1058    531                              I want to lose weight\n",
              "1059    531                              I want to be flexible\n",
              "1060    532                           I want to relieve stress\n",
              "1061    533  I'm sorry ... I'm not really interested in exe...\n",
              "\n",
              "[1062 rows x 2 columns]"
            ]
          },
          "metadata": {},
          "execution_count": 23
        }
      ]
    },
    {
      "cell_type": "code",
      "metadata": {
        "id": "3-omao2J5_C5"
      },
      "source": [
        "# index를 기준으로 merge\n",
        "# df_set.shape = (534, 13)\n",
        "\n",
        "# df_barriers(741, 2)\n",
        "df_1 = df_set.merge(df_barriers, how = 'left')\n",
        "\n",
        "# df_exercises(833, 2)\n",
        "df_2 = df_1.merge(df_exercises, how = 'left')\n",
        "\n",
        "# df_balance(679, 2)\n",
        "df_3 = df_2.merge(df_balance, how = 'left')\n",
        "\n",
        "# df_motivation(1062, 2)\n",
        "df_4 = df_3.merge(df_motivation, how = 'left')"
      ],
      "execution_count": 24,
      "outputs": []
    },
    {
      "cell_type": "code",
      "metadata": {
        "colab": {
          "base_uri": "https://localhost:8080/",
          "height": 320
        },
        "id": "_sa87zij6Eur",
        "outputId": "4266fdaf-86c3-455e-ff86-0209cd015832"
      },
      "source": [
        "fitt = df_4.drop(['index'], axis=1)\n",
        "fitt.head(3)"
      ],
      "execution_count": 25,
      "outputs": [
        {
          "output_type": "execute_result",
          "data": {
            "text/html": [
              "<div>\n",
              "<style scoped>\n",
              "    .dataframe tbody tr th:only-of-type {\n",
              "        vertical-align: middle;\n",
              "    }\n",
              "\n",
              "    .dataframe tbody tr th {\n",
              "        vertical-align: top;\n",
              "    }\n",
              "\n",
              "    .dataframe thead th {\n",
              "        text-align: right;\n",
              "    }\n",
              "</style>\n",
              "<table border=\"1\" class=\"dataframe\">\n",
              "  <thead>\n",
              "    <tr style=\"text-align: right;\">\n",
              "      <th></th>\n",
              "      <th>0.Gender</th>\n",
              "      <th>1.Age</th>\n",
              "      <th>2.Exercise_importance</th>\n",
              "      <th>3.Fitness_level</th>\n",
              "      <th>4.Regularity</th>\n",
              "      <th>7.Do_you</th>\n",
              "      <th>8.Time</th>\n",
              "      <th>9.Time_spent</th>\n",
              "      <th>10.Balanced_diet</th>\n",
              "      <th>12.Health_level</th>\n",
              "      <th>13.Recommend_fitness</th>\n",
              "      <th>14.Equipment</th>\n",
              "      <th>5.Barriers</th>\n",
              "      <th>6.Exercises</th>\n",
              "      <th>11.prevents_balanced</th>\n",
              "      <th>15.Motivation</th>\n",
              "    </tr>\n",
              "  </thead>\n",
              "  <tbody>\n",
              "    <tr>\n",
              "      <th>0</th>\n",
              "      <td>Female</td>\n",
              "      <td>19 to 25</td>\n",
              "      <td>2</td>\n",
              "      <td>Good</td>\n",
              "      <td>Never</td>\n",
              "      <td>I don't really exercise</td>\n",
              "      <td>Early morning</td>\n",
              "      <td>I don't really exercise</td>\n",
              "      <td>Not always</td>\n",
              "      <td>3</td>\n",
              "      <td>Yes</td>\n",
              "      <td>No</td>\n",
              "      <td>I don't have enough time</td>\n",
              "      <td>I don't really exercise</td>\n",
              "      <td>Ease of access to fast food</td>\n",
              "      <td>I'm sorry ... I'm not really interested in exe...</td>\n",
              "    </tr>\n",
              "    <tr>\n",
              "      <th>1</th>\n",
              "      <td>Female</td>\n",
              "      <td>19 to 25</td>\n",
              "      <td>2</td>\n",
              "      <td>Good</td>\n",
              "      <td>Never</td>\n",
              "      <td>I don't really exercise</td>\n",
              "      <td>Early morning</td>\n",
              "      <td>I don't really exercise</td>\n",
              "      <td>Not always</td>\n",
              "      <td>3</td>\n",
              "      <td>Yes</td>\n",
              "      <td>No</td>\n",
              "      <td>I don't have enough time</td>\n",
              "      <td>I don't really exercise</td>\n",
              "      <td>Temptation and cravings</td>\n",
              "      <td>I'm sorry ... I'm not really interested in exe...</td>\n",
              "    </tr>\n",
              "    <tr>\n",
              "      <th>2</th>\n",
              "      <td>Female</td>\n",
              "      <td>19 to 25</td>\n",
              "      <td>2</td>\n",
              "      <td>Good</td>\n",
              "      <td>Never</td>\n",
              "      <td>I don't really exercise</td>\n",
              "      <td>Early morning</td>\n",
              "      <td>I don't really exercise</td>\n",
              "      <td>Not always</td>\n",
              "      <td>3</td>\n",
              "      <td>Yes</td>\n",
              "      <td>No</td>\n",
              "      <td>I can't stay motivated</td>\n",
              "      <td>I don't really exercise</td>\n",
              "      <td>Ease of access to fast food</td>\n",
              "      <td>I'm sorry ... I'm not really interested in exe...</td>\n",
              "    </tr>\n",
              "  </tbody>\n",
              "</table>\n",
              "</div>"
            ],
            "text/plain": [
              "  0.Gender  ...                                      15.Motivation\n",
              "0   Female  ...  I'm sorry ... I'm not really interested in exe...\n",
              "1   Female  ...  I'm sorry ... I'm not really interested in exe...\n",
              "2   Female  ...  I'm sorry ... I'm not really interested in exe...\n",
              "\n",
              "[3 rows x 16 columns]"
            ]
          },
          "metadata": {},
          "execution_count": 25
        }
      ]
    },
    {
      "cell_type": "code",
      "metadata": {
        "colab": {
          "base_uri": "https://localhost:8080/"
        },
        "id": "3nBlqiGv59ST",
        "outputId": "3210a616-aa8a-4d32-9e73-e8db8002e9ec"
      },
      "source": [
        "len('Early morning')"
      ],
      "execution_count": 67,
      "outputs": [
        {
          "output_type": "execute_result",
          "data": {
            "text/plain": [
              "13"
            ]
          },
          "metadata": {},
          "execution_count": 67
        }
      ]
    },
    {
      "cell_type": "code",
      "metadata": {
        "colab": {
          "base_uri": "https://localhost:8080/"
        },
        "id": "0gto_5Q16Tfz",
        "outputId": "b2f8d1bd-b436-4bc3-d2fe-a994f40823a5"
      },
      "source": [
        "for i in fitt['0.Gender'].unique():\n",
        "    print(len(i))"
      ],
      "execution_count": 86,
      "outputs": [
        {
          "output_type": "stream",
          "name": "stdout",
          "text": [
            "6\n",
            "4\n"
          ]
        }
      ]
    },
    {
      "cell_type": "code",
      "metadata": {
        "id": "nbQQ9HAj3fbW"
      },
      "source": [
        "fitt.to_csv('fitness(1).csv', index=False)"
      ],
      "execution_count": 26,
      "outputs": []
    },
    {
      "cell_type": "code",
      "metadata": {
        "colab": {
          "base_uri": "https://localhost:8080/"
        },
        "id": "Uk5oPZGC5JlK",
        "outputId": "b874cb9a-e738-41c7-e723-8d6cacc0f22a"
      },
      "source": [
        "fitt.columns"
      ],
      "execution_count": 64,
      "outputs": [
        {
          "output_type": "execute_result",
          "data": {
            "text/plain": [
              "Index(['0.Gender', '1.Age', '2.Exercise_importance', '3.Fitness_level',\n",
              "       '4.Regularity', '7.Do_you', '8.Time', '9.Time_spent',\n",
              "       '10.Balanced_diet', '12.Health_level', '13.Recommend_fitness',\n",
              "       '14.Equipment', '5.Barriers', '6.Exercises', '11.prevents_balanced',\n",
              "       '15.Motivation'],\n",
              "      dtype='object')"
            ]
          },
          "metadata": {},
          "execution_count": 64
        }
      ]
    },
    {
      "cell_type": "code",
      "metadata": {
        "colab": {
          "base_uri": "https://localhost:8080/"
        },
        "id": "CuYKly6m6VmU",
        "outputId": "900f033b-7de2-48be-b736-e7860e9c0f5f"
      },
      "source": [
        "fitt.nunique()"
      ],
      "execution_count": 27,
      "outputs": [
        {
          "output_type": "execute_result",
          "data": {
            "text/plain": [
              "0.Gender                  2\n",
              "1.Age                     5\n",
              "2.Exercise_importance     5\n",
              "3.Fitness_level           5\n",
              "4.Regularity              6\n",
              "7.Do_you                  5\n",
              "8.Time                    3\n",
              "9.Time_spent              5\n",
              "10.Balanced_diet          3\n",
              "12.Health_level           5\n",
              "13.Recommend_fitness      2\n",
              "14.Equipment              2\n",
              "5.Barriers               20\n",
              "6.Exercises               8\n",
              "11.prevents_balanced     10\n",
              "15.Motivation            21\n",
              "dtype: int64"
            ]
          },
          "metadata": {},
          "execution_count": 27
        }
      ]
    },
    {
      "cell_type": "code",
      "metadata": {
        "colab": {
          "base_uri": "https://localhost:8080/"
        },
        "id": "7BKRHhYn9Qp5",
        "outputId": "1886a25c-397d-4dab-9f94-a7fef67047d5"
      },
      "source": [
        "# 타겟의 비율 보기.\n",
        "target = '6.Exercises'\n",
        "fitt[target].value_counts(normalize=True) "
      ],
      "execution_count": 28,
      "outputs": [
        {
          "output_type": "execute_result",
          "data": {
            "text/plain": [
              "Walking or jogging         0.367272\n",
              "Gym                        0.180324\n",
              "Team sport                 0.108930\n",
              "Yoga                       0.098871\n",
              "I don't really exercise    0.080716\n",
              "Lifting weights            0.080471\n",
              "Swimming                   0.048822\n",
              "Zumba dance                0.034593\n",
              "Name: 6.Exercises, dtype: float64"
            ]
          },
          "metadata": {},
          "execution_count": 28
        }
      ]
    },
    {
      "cell_type": "code",
      "metadata": {
        "colab": {
          "base_uri": "https://localhost:8080/",
          "height": 388
        },
        "id": "njQMZBeh9VFI",
        "outputId": "8a86fefe-9eef-492f-f169-a617468b8f35"
      },
      "source": [
        "# 각각 클래스의 데이터수는 다음과 같다. \n",
        "\n",
        "import seaborn as sns\n",
        "import matplotlib.pyplot as plt\n",
        "%matplotlib inline\n",
        "\n",
        "ax = plt.subplots(figsize=(18, 6))\n",
        "ax = sns.countplot(x=fitt[target]);\n",
        "# 타겟비율 불균형, 다중분류"
      ],
      "execution_count": 29,
      "outputs": [
        {
          "output_type": "display_data",
          "data": {
            "image/png": "[encoded data removed]",
            "text/plain": [
              "<Figure size 1296x432 with 1 Axes>"
            ]
          },
          "metadata": {
            "needs_background": "light"
          }
        }
      ]
    },
    {
      "cell_type": "code",
      "metadata": {
        "colab": {
          "base_uri": "https://localhost:8080/"
        },
        "id": "U6rFwHTs8PTs",
        "outputId": "80a502e1-e0a2-4918-fd8f-452988ecaab7"
      },
      "source": [
        "# 데이터 갯수가 적어서 교차검증으로 하기로 함.\n",
        "from sklearn.model_selection import train_test_split\n",
        "\n",
        "train, test = train_test_split(fitt,\n",
        "                                train_size=0.80,\n",
        "                                test_size=0.20,\n",
        "                                stratify=fitt[target],\n",
        "                                random_state=2)\n",
        "\n",
        "train.shape, test.shape"
      ],
      "execution_count": 30,
      "outputs": [
        {
          "output_type": "execute_result",
          "data": {
            "text/plain": [
              "((3260, 16), (816, 16))"
            ]
          },
          "metadata": {},
          "execution_count": 30
        }
      ]
    },
    {
      "cell_type": "code",
      "metadata": {
        "id": "9ooJhbHM-EdH"
      },
      "source": [
        "X_train = train.drop(columns=['5.Barriers','15.Motivation','6.Exercises'])\n",
        "y_train = train[target]\n",
        " \n",
        "X_test = test.drop(columns=['5.Barriers','15.Motivation','6.Exercises'])\n",
        "y_test = test[target]"
      ],
      "execution_count": 31,
      "outputs": []
    },
    {
      "cell_type": "code",
      "metadata": {
        "colab": {
          "base_uri": "https://localhost:8080/"
        },
        "id": "gBIoT70d8R4x",
        "outputId": "b3471873-e6a7-402d-8787-a83a98ec1bd0"
      },
      "source": [
        "pip install category_encoders"
      ],
      "execution_count": 32,
      "outputs": [
        {
          "output_type": "stream",
          "name": "stdout",
          "text": [
            "Collecting category_encoders\n",
            "  Downloading category_encoders-2.2.2-py2.py3-none-any.whl (80 kB)\n",
            "\u001b[?25l\r\u001b[K     |████                            | 10 kB 18.9 MB/s eta 0:00:01\r\u001b[K     |████████▏                       | 20 kB 24.0 MB/s eta 0:00:01\r\u001b[K     |████████████▏                   | 30 kB 19.8 MB/s eta 0:00:01\r\u001b[K     |████████████████▎               | 40 kB 16.1 MB/s eta 0:00:01\r\u001b[K     |████████████████████▎           | 51 kB 5.6 MB/s eta 0:00:01\r\u001b[K     |████████████████████████▍       | 61 kB 6.1 MB/s eta 0:00:01\r\u001b[K     |████████████████████████████▍   | 71 kB 5.5 MB/s eta 0:00:01\r\u001b[K     |████████████████████████████████| 80 kB 3.7 MB/s \n",
            "\u001b[?25hRequirement already satisfied: numpy>=1.14.0 in /usr/local/lib/python3.7/dist-packages (from category_encoders) (1.19.5)\n",
            "Requirement already satisfied: pandas>=0.21.1 in /usr/local/lib/python3.7/dist-packages (from category_encoders) (1.1.5)\n",
            "Requirement already satisfied: patsy>=0.5.1 in /usr/local/lib/python3.7/dist-packages (from category_encoders) (0.5.2)\n",
            "Requirement already satisfied: statsmodels>=0.9.0 in /usr/local/lib/python3.7/dist-packages (from category_encoders) (0.10.2)\n",
            "Requirement already satisfied: scipy>=1.0.0 in /usr/local/lib/python3.7/dist-packages (from category_encoders) (1.4.1)\n",
            "Requirement already satisfied: scikit-learn>=0.20.0 in /usr/local/lib/python3.7/dist-packages (from category_encoders) (0.22.2.post1)\n",
            "Requirement already satisfied: python-dateutil>=2.7.3 in /usr/local/lib/python3.7/dist-packages (from pandas>=0.21.1->category_encoders) (2.8.2)\n",
            "Requirement already satisfied: pytz>=2017.2 in /usr/local/lib/python3.7/dist-packages (from pandas>=0.21.1->category_encoders) (2018.9)\n",
            "Requirement already satisfied: six in /usr/local/lib/python3.7/dist-packages (from patsy>=0.5.1->category_encoders) (1.15.0)\n",
            "Requirement already satisfied: joblib>=0.11 in /usr/local/lib/python3.7/dist-packages (from scikit-learn>=0.20.0->category_encoders) (1.0.1)\n",
            "Installing collected packages: category-encoders\n",
            "Successfully installed category-encoders-2.2.2\n"
          ]
        }
      ]
    },
    {
      "cell_type": "code",
      "metadata": {
        "colab": {
          "base_uri": "https://localhost:8080/"
        },
        "id": "bM96D0j-8TkU",
        "outputId": "ee5d28df-fa04-47a8-f77f-03948bee5af6"
      },
      "source": [
        "from category_encoders import OrdinalEncoder\n",
        "\n",
        "import lightgbm as lgb\n",
        "\n",
        "from sklearn.model_selection import cross_val_score\n",
        "from sklearn.metrics import make_scorer, accuracy_score, precision_score, recall_score, f1_score, roc_auc_score  # 평가지표 5개"
      ],
      "execution_count": 33,
      "outputs": [
        {
          "output_type": "stream",
          "name": "stderr",
          "text": [
            "/usr/local/lib/python3.7/dist-packages/statsmodels/tools/_testing.py:19: FutureWarning: pandas.util.testing is deprecated. Use the functions in the public API at pandas.testing instead.\n",
            "  import pandas.util.testing as tm\n"
          ]
        }
      ]
    },
    {
      "cell_type": "code",
      "metadata": {
        "id": "so3PcaXK8mhE"
      },
      "source": [
        "# smote오버샘플링을 위한 전처리\n",
        "encoder = OrdinalEncoder()\n",
        "X_train_encoded = encoder.fit_transform(X_train)"
      ],
      "execution_count": 34,
      "outputs": []
    },
    {
      "cell_type": "code",
      "metadata": {
        "colab": {
          "base_uri": "https://localhost:8080/"
        },
        "id": "TfF7ZUot8oTr",
        "outputId": "794700dc-c667-4222-fb6e-2eb0fbe4e662"
      },
      "source": [
        "from sklearn.preprocessing import LabelEncoder\n",
        "\n",
        "le = LabelEncoder()\n",
        "le.fit(y_train)\n",
        "\n",
        "y_train_encoded= le.transform(y_train)\n",
        "y_train_encoded\n",
        "# # le.inverse_transform(a)"
      ],
      "execution_count": 35,
      "outputs": [
        {
          "output_type": "execute_result",
          "data": {
            "text/plain": [
              "array([0, 2, 5, ..., 5, 7, 5])"
            ]
          },
          "metadata": {},
          "execution_count": 35
        }
      ]
    },
    {
      "cell_type": "code",
      "metadata": {
        "colab": {
          "base_uri": "https://localhost:8080/"
        },
        "id": "-PSpXC1J8tbg",
        "outputId": "897dc8f6-b5bf-431a-da2c-5da15582fdce"
      },
      "source": [
        "# 오버샘플링\n",
        "\n",
        "from imblearn.over_sampling import SMOTE\n",
        "# smote는 정수값만 받는다. \n",
        "\n",
        "smote = SMOTE(random_state=0)\n",
        "X_train_over,y_train_over = smote.fit_sample(X_train_encoded,y_train_encoded)\n",
        "\n",
        "print('SMOTE 적용 전 학습용 피처/레이블 데이터 세트: ', X_train.shape, y_train.shape)\n",
        "print('SMOTE 적용 후 학습용 피처/레이블 데이터 세트: ', X_train_over.shape, y_train_over.shape)\n",
        "print('SMOTE 적용 후 레이블 값 분포: \\n', pd.Series(y_train_over).value_counts());"
      ],
      "execution_count": 36,
      "outputs": [
        {
          "output_type": "stream",
          "name": "stderr",
          "text": [
            "/usr/local/lib/python3.7/dist-packages/sklearn/externals/six.py:31: FutureWarning: The module is deprecated in version 0.21 and will be removed in version 0.23 since we've dropped support for Python 2.7. Please rely on the official version of six (https://pypi.org/project/six/).\n",
            "  \"(https://pypi.org/project/six/).\", FutureWarning)\n",
            "/usr/local/lib/python3.7/dist-packages/sklearn/utils/deprecation.py:144: FutureWarning: The sklearn.neighbors.base module is  deprecated in version 0.22 and will be removed in version 0.24. The corresponding classes / functions should instead be imported from sklearn.neighbors. Anything that cannot be imported from sklearn.neighbors is now part of the private API.\n",
            "  warnings.warn(message, FutureWarning)\n",
            "/usr/local/lib/python3.7/dist-packages/sklearn/utils/deprecation.py:87: FutureWarning: Function safe_indexing is deprecated; safe_indexing is deprecated in version 0.22 and will be removed in version 0.24.\n",
            "  warnings.warn(msg, category=FutureWarning)\n",
            "/usr/local/lib/python3.7/dist-packages/sklearn/utils/deprecation.py:87: FutureWarning: Function safe_indexing is deprecated; safe_indexing is deprecated in version 0.22 and will be removed in version 0.24.\n",
            "  warnings.warn(msg, category=FutureWarning)\n",
            "/usr/local/lib/python3.7/dist-packages/sklearn/utils/deprecation.py:87: FutureWarning: Function safe_indexing is deprecated; safe_indexing is deprecated in version 0.22 and will be removed in version 0.24.\n",
            "  warnings.warn(msg, category=FutureWarning)\n",
            "/usr/local/lib/python3.7/dist-packages/sklearn/utils/deprecation.py:87: FutureWarning: Function safe_indexing is deprecated; safe_indexing is deprecated in version 0.22 and will be removed in version 0.24.\n",
            "  warnings.warn(msg, category=FutureWarning)\n"
          ]
        },
        {
          "output_type": "stream",
          "name": "stdout",
          "text": [
            "SMOTE 적용 전 학습용 피처/레이블 데이터 세트:  (3260, 13) (3260,)\n",
            "SMOTE 적용 후 학습용 피처/레이블 데이터 세트:  (9576, 13) (9576,)\n",
            "SMOTE 적용 후 레이블 값 분포: \n",
            " 7    1197\n",
            "6    1197\n",
            "5    1197\n",
            "4    1197\n",
            "3    1197\n",
            "2    1197\n",
            "1    1197\n",
            "0    1197\n",
            "dtype: int64\n"
          ]
        },
        {
          "output_type": "stream",
          "name": "stderr",
          "text": [
            "/usr/local/lib/python3.7/dist-packages/sklearn/utils/deprecation.py:87: FutureWarning: Function safe_indexing is deprecated; safe_indexing is deprecated in version 0.22 and will be removed in version 0.24.\n",
            "  warnings.warn(msg, category=FutureWarning)\n",
            "/usr/local/lib/python3.7/dist-packages/sklearn/utils/deprecation.py:87: FutureWarning: Function safe_indexing is deprecated; safe_indexing is deprecated in version 0.22 and will be removed in version 0.24.\n",
            "  warnings.warn(msg, category=FutureWarning)\n",
            "/usr/local/lib/python3.7/dist-packages/sklearn/utils/deprecation.py:87: FutureWarning: Function safe_indexing is deprecated; safe_indexing is deprecated in version 0.22 and will be removed in version 0.24.\n",
            "  warnings.warn(msg, category=FutureWarning)\n"
          ]
        }
      ]
    },
    {
      "cell_type": "code",
      "metadata": {
        "id": "ATXFtcBj80gL"
      },
      "source": [
        "# 모델정의\n",
        "from lightgbm import LGBMClassifier\n",
        "\n",
        "\n",
        "lgbm= LGBMClassifier(random_state=2\n",
        "                  , n_jobs=-1\n",
        "                  , learning_rate=0.2\n",
        "                 )\n",
        "\n",
        "lgbm.fit(X_train_over, y_train_over);"
      ],
      "execution_count": 37,
      "outputs": []
    },
    {
      "cell_type": "code",
      "metadata": {
        "colab": {
          "base_uri": "https://localhost:8080/"
        },
        "id": "kX8zdXCH9GEo",
        "outputId": "33985622-d6b9-46bb-dab0-d257f0020f38"
      },
      "source": [
        "k=5\n",
        "scores = cross_val_score(lgbm, X_train_over, y_train_over, cv=k, \n",
        "                         scoring='accuracy')\n",
        "\n",
        "print(f'accuracy ({k} folds):', scores.mean())"
      ],
      "execution_count": 38,
      "outputs": [
        {
          "output_type": "stream",
          "name": "stdout",
          "text": [
            "accuracy (5 folds): 0.7237947311904152\n"
          ]
        }
      ]
    },
    {
      "cell_type": "code",
      "metadata": {
        "colab": {
          "base_uri": "https://localhost:8080/"
        },
        "id": "U092hJkqEXf8",
        "outputId": "9cbeeb18-0a05-459d-ce85-6106586e7df2"
      },
      "source": [
        "pip install eli5"
      ],
      "execution_count": 39,
      "outputs": [
        {
          "output_type": "stream",
          "name": "stdout",
          "text": [
            "Collecting eli5\n",
            "  Downloading eli5-0.11.0-py2.py3-none-any.whl (106 kB)\n",
            "\u001b[?25l\r\u001b[K     |███                             | 10 kB 24.3 MB/s eta 0:00:01\r\u001b[K     |██████▏                         | 20 kB 28.0 MB/s eta 0:00:01\r\u001b[K     |█████████▎                      | 30 kB 12.4 MB/s eta 0:00:01\r\u001b[K     |████████████▍                   | 40 kB 9.6 MB/s eta 0:00:01\r\u001b[K     |███████████████▌                | 51 kB 5.4 MB/s eta 0:00:01\r\u001b[K     |██████████████████▌             | 61 kB 5.9 MB/s eta 0:00:01\r\u001b[K     |█████████████████████▋          | 71 kB 5.6 MB/s eta 0:00:01\r\u001b[K     |████████████████████████▊       | 81 kB 6.3 MB/s eta 0:00:01\r\u001b[K     |███████████████████████████▉    | 92 kB 4.9 MB/s eta 0:00:01\r\u001b[K     |███████████████████████████████ | 102 kB 5.4 MB/s eta 0:00:01\r\u001b[K     |████████████████████████████████| 106 kB 5.4 MB/s \n",
            "\u001b[?25hRequirement already satisfied: six in /usr/local/lib/python3.7/dist-packages (from eli5) (1.15.0)\n",
            "Requirement already satisfied: scipy in /usr/local/lib/python3.7/dist-packages (from eli5) (1.4.1)\n",
            "Requirement already satisfied: jinja2 in /usr/local/lib/python3.7/dist-packages (from eli5) (2.11.3)\n",
            "Requirement already satisfied: scikit-learn>=0.20 in /usr/local/lib/python3.7/dist-packages (from eli5) (0.22.2.post1)\n",
            "Requirement already satisfied: attrs>16.0.0 in /usr/local/lib/python3.7/dist-packages (from eli5) (21.2.0)\n",
            "Requirement already satisfied: graphviz in /usr/local/lib/python3.7/dist-packages (from eli5) (0.10.1)\n",
            "Requirement already satisfied: numpy>=1.9.0 in /usr/local/lib/python3.7/dist-packages (from eli5) (1.19.5)\n",
            "Requirement already satisfied: tabulate>=0.7.7 in /usr/local/lib/python3.7/dist-packages (from eli5) (0.8.9)\n",
            "Requirement already satisfied: joblib>=0.11 in /usr/local/lib/python3.7/dist-packages (from scikit-learn>=0.20->eli5) (1.0.1)\n",
            "Requirement already satisfied: MarkupSafe>=0.23 in /usr/local/lib/python3.7/dist-packages (from jinja2->eli5) (2.0.1)\n",
            "Installing collected packages: eli5\n",
            "Successfully installed eli5-0.11.0\n"
          ]
        }
      ]
    },
    {
      "cell_type": "code",
      "metadata": {
        "id": "4--yjrbJ86Ls"
      },
      "source": [
        "X_test_encoded = encoder.transform(X_test)\n",
        "y_test_encoded = le.transform(y_test)"
      ],
      "execution_count": 40,
      "outputs": []
    },
    {
      "cell_type": "code",
      "metadata": {
        "id": "vudOKBIIEIxK"
      },
      "source": [
        "# 순열중요도\n",
        "\n",
        "import warnings\n",
        "\n",
        "warnings.simplefilter(action='ignore', category=FutureWarning)\n",
        "\n",
        "import eli5\n",
        "from eli5.sklearn import PermutationImportance\n",
        "\n",
        "#permuter정의\n",
        "permuter = PermutationImportance(\n",
        "    lgbm,  #model\n",
        "    scoring='accuracy',\n",
        "    n_iter=5,  #다른 랜덤시드 사용해서 5번 반복\n",
        "    random_state=2)\n",
        "\n",
        "\n",
        "permuter.fit(X_test_encoded, y_test_encoded);"
      ],
      "execution_count": 41,
      "outputs": []
    },
    {
      "cell_type": "code",
      "metadata": {
        "colab": {
          "base_uri": "https://localhost:8080/"
        },
        "id": "5YQGn5GkEzTM",
        "outputId": "53b79d31-1723-4b00-a617-371b880fb0d4"
      },
      "source": [
        "feature_names = X_test.columns.tolist()\n",
        "permutation_list = pd.Series(permuter.feature_importances_, feature_names).sort_values(ascending = False).index\n",
        "permutation_list"
      ],
      "execution_count": 42,
      "outputs": [
        {
          "output_type": "execute_result",
          "data": {
            "text/plain": [
              "Index(['7.Do_you', '4.Regularity', '1.Age', '9.Time_spent',\n",
              "       '13.Recommend_fitness', '0.Gender', '3.Fitness_level', '14.Equipment',\n",
              "       '2.Exercise_importance', '10.Balanced_diet', '12.Health_level',\n",
              "       '8.Time', '11.prevents_balanced'],\n",
              "      dtype='object')"
            ]
          },
          "metadata": {},
          "execution_count": 42
        }
      ]
    },
    {
      "cell_type": "code",
      "metadata": {
        "colab": {
          "base_uri": "https://localhost:8080/",
          "height": 260
        },
        "id": "chixRPdZEs03",
        "outputId": "39ac75a8-e73d-44d1-f6c5-7adbe5ac85b7"
      },
      "source": [
        "# 특성별 score 확인\n",
        "eli5.show_weights(\n",
        "    permuter, \n",
        "    top=None, # top n 지정 가능, None 일 경우 모든 특성 \n",
        "    feature_names=feature_names # list 형식\n",
        ")"
      ],
      "execution_count": 43,
      "outputs": [
        {
          "output_type": "execute_result",
          "data": {
            "text/html": [
              "\n",
              "    <style>\n",
              "    table.eli5-weights tr:hover {\n",
              "        filter: brightness(85%);\n",
              "    }\n",
              "</style>\n",
              "\n",
              "\n",
              "\n",
              "    \n",
              "\n",
              "    \n",
              "\n",
              "    \n",
              "\n",
              "    \n",
              "\n",
              "    \n",
              "\n",
              "    \n",
              "\n",
              "\n",
              "    \n",
              "\n",
              "    \n",
              "\n",
              "    \n",
              "\n",
              "    \n",
              "\n",
              "    \n",
              "\n",
              "    \n",
              "\n",
              "\n",
              "    \n",
              "\n",
              "    \n",
              "\n",
              "    \n",
              "\n",
              "    \n",
              "\n",
              "    \n",
              "        <table class=\"eli5-weights eli5-feature-importances\" style=\"border-collapse: collapse; border: none; margin-top: 0em; table-layout: auto;\">\n",
              "    <thead>\n",
              "    <tr style=\"border: none;\">\n",
              "        <th style=\"padding: 0 1em 0 0.5em; text-align: right; border: none;\">Weight</th>\n",
              "        <th style=\"padding: 0 0.5em 0 0.5em; text-align: left; border: none;\">Feature</th>\n",
              "    </tr>\n",
              "    </thead>\n",
              "    <tbody>\n",
              "    \n",
              "        <tr style=\"background-color: hsl(120, 100.00%, 80.00%); border: none;\">\n",
              "            <td style=\"padding: 0 1em 0 0.5em; text-align: right; border: none;\">\n",
              "                0.0549\n",
              "                \n",
              "                    &plusmn; 0.0091\n",
              "                \n",
              "            </td>\n",
              "            <td style=\"padding: 0 0.5em 0 0.5em; text-align: left; border: none;\">\n",
              "                7.Do_you\n",
              "            </td>\n",
              "        </tr>\n",
              "    \n",
              "        <tr style=\"background-color: hsl(120, 100.00%, 81.20%); border: none;\">\n",
              "            <td style=\"padding: 0 1em 0 0.5em; text-align: right; border: none;\">\n",
              "                0.0502\n",
              "                \n",
              "                    &plusmn; 0.0205\n",
              "                \n",
              "            </td>\n",
              "            <td style=\"padding: 0 0.5em 0 0.5em; text-align: left; border: none;\">\n",
              "                4.Regularity\n",
              "            </td>\n",
              "        </tr>\n",
              "    \n",
              "        <tr style=\"background-color: hsl(120, 100.00%, 90.10%); border: none;\">\n",
              "            <td style=\"padding: 0 1em 0 0.5em; text-align: right; border: none;\">\n",
              "                0.0201\n",
              "                \n",
              "                    &plusmn; 0.0235\n",
              "                \n",
              "            </td>\n",
              "            <td style=\"padding: 0 0.5em 0 0.5em; text-align: left; border: none;\">\n",
              "                1.Age\n",
              "            </td>\n",
              "        </tr>\n",
              "    \n",
              "        <tr style=\"background-color: hsl(120, 100.00%, 91.41%); border: none;\">\n",
              "            <td style=\"padding: 0 1em 0 0.5em; text-align: right; border: none;\">\n",
              "                0.0164\n",
              "                \n",
              "                    &plusmn; 0.0173\n",
              "                \n",
              "            </td>\n",
              "            <td style=\"padding: 0 0.5em 0 0.5em; text-align: left; border: none;\">\n",
              "                9.Time_spent\n",
              "            </td>\n",
              "        </tr>\n",
              "    \n",
              "        <tr style=\"background-color: hsl(120, 100.00%, 93.91%); border: none;\">\n",
              "            <td style=\"padding: 0 1em 0 0.5em; text-align: right; border: none;\">\n",
              "                0.0100\n",
              "                \n",
              "                    &plusmn; 0.0132\n",
              "                \n",
              "            </td>\n",
              "            <td style=\"padding: 0 0.5em 0 0.5em; text-align: left; border: none;\">\n",
              "                13.Recommend_fitness\n",
              "            </td>\n",
              "        </tr>\n",
              "    \n",
              "        <tr style=\"background-color: hsl(120, 100.00%, 97.42%); border: none;\">\n",
              "            <td style=\"padding: 0 1em 0 0.5em; text-align: right; border: none;\">\n",
              "                0.0029\n",
              "                \n",
              "                    &plusmn; 0.0083\n",
              "                \n",
              "            </td>\n",
              "            <td style=\"padding: 0 0.5em 0 0.5em; text-align: left; border: none;\">\n",
              "                0.Gender\n",
              "            </td>\n",
              "        </tr>\n",
              "    \n",
              "        <tr style=\"background-color: hsl(0, 100.00%, 98.06%); border: none;\">\n",
              "            <td style=\"padding: 0 1em 0 0.5em; text-align: right; border: none;\">\n",
              "                -0.0020\n",
              "                \n",
              "                    &plusmn; 0.0211\n",
              "                \n",
              "            </td>\n",
              "            <td style=\"padding: 0 0.5em 0 0.5em; text-align: left; border: none;\">\n",
              "                3.Fitness_level\n",
              "            </td>\n",
              "        </tr>\n",
              "    \n",
              "        <tr style=\"background-color: hsl(0, 100.00%, 97.42%); border: none;\">\n",
              "            <td style=\"padding: 0 1em 0 0.5em; text-align: right; border: none;\">\n",
              "                -0.0029\n",
              "                \n",
              "                    &plusmn; 0.0157\n",
              "                \n",
              "            </td>\n",
              "            <td style=\"padding: 0 0.5em 0 0.5em; text-align: left; border: none;\">\n",
              "                14.Equipment\n",
              "            </td>\n",
              "        </tr>\n",
              "    \n",
              "        <tr style=\"background-color: hsl(0, 100.00%, 95.33%); border: none;\">\n",
              "            <td style=\"padding: 0 1em 0 0.5em; text-align: right; border: none;\">\n",
              "                -0.0069\n",
              "                \n",
              "                    &plusmn; 0.0170\n",
              "                \n",
              "            </td>\n",
              "            <td style=\"padding: 0 0.5em 0 0.5em; text-align: left; border: none;\">\n",
              "                2.Exercise_importance\n",
              "            </td>\n",
              "        </tr>\n",
              "    \n",
              "        <tr style=\"background-color: hsl(0, 100.00%, 95.22%); border: none;\">\n",
              "            <td style=\"padding: 0 1em 0 0.5em; text-align: right; border: none;\">\n",
              "                -0.0071\n",
              "                \n",
              "                    &plusmn; 0.0162\n",
              "                \n",
              "            </td>\n",
              "            <td style=\"padding: 0 0.5em 0 0.5em; text-align: left; border: none;\">\n",
              "                10.Balanced_diet\n",
              "            </td>\n",
              "        </tr>\n",
              "    \n",
              "        <tr style=\"background-color: hsl(0, 100.00%, 93.80%); border: none;\">\n",
              "            <td style=\"padding: 0 1em 0 0.5em; text-align: right; border: none;\">\n",
              "                -0.0103\n",
              "                \n",
              "                    &plusmn; 0.0163\n",
              "                \n",
              "            </td>\n",
              "            <td style=\"padding: 0 0.5em 0 0.5em; text-align: left; border: none;\">\n",
              "                12.Health_level\n",
              "            </td>\n",
              "        </tr>\n",
              "    \n",
              "        <tr style=\"background-color: hsl(0, 100.00%, 92.71%); border: none;\">\n",
              "            <td style=\"padding: 0 1em 0 0.5em; text-align: right; border: none;\">\n",
              "                -0.0130\n",
              "                \n",
              "                    &plusmn; 0.0145\n",
              "                \n",
              "            </td>\n",
              "            <td style=\"padding: 0 0.5em 0 0.5em; text-align: left; border: none;\">\n",
              "                8.Time\n",
              "            </td>\n",
              "        </tr>\n",
              "    \n",
              "        <tr style=\"background-color: hsl(0, 100.00%, 85.97%); border: none;\">\n",
              "            <td style=\"padding: 0 1em 0 0.5em; text-align: right; border: none;\">\n",
              "                -0.0331\n",
              "                \n",
              "                    &plusmn; 0.0189\n",
              "                \n",
              "            </td>\n",
              "            <td style=\"padding: 0 0.5em 0 0.5em; text-align: left; border: none;\">\n",
              "                11.prevents_balanced\n",
              "            </td>\n",
              "        </tr>\n",
              "    \n",
              "    \n",
              "    </tbody>\n",
              "</table>\n",
              "    \n",
              "\n",
              "    \n",
              "\n",
              "\n",
              "    \n",
              "\n",
              "    \n",
              "\n",
              "    \n",
              "\n",
              "    \n",
              "\n",
              "    \n",
              "\n",
              "    \n",
              "\n",
              "\n",
              "\n"
            ],
            "text/plain": [
              "<IPython.core.display.HTML object>"
            ]
          },
          "metadata": {},
          "execution_count": 43
        }
      ]
    },
    {
      "cell_type": "code",
      "metadata": {
        "id": "nPlsnUENFjCP"
      },
      "source": [
        "minimum_importance = 0.0001\n",
        "mask = permuter.feature_importances_ > minimum_importance\n",
        "features = X_train.columns[mask]\n",
        "X_train_selected = X_train[features]\n",
        "X_test_selected = X_test[features]"
      ],
      "execution_count": 44,
      "outputs": []
    },
    {
      "cell_type": "code",
      "metadata": {
        "colab": {
          "base_uri": "https://localhost:8080/"
        },
        "id": "84qQr7PEGBRk",
        "outputId": "fd5e5035-744f-46f5-bc5d-eb3292c042b3"
      },
      "source": [
        "# smote오버샘플링을 위한 전처리\n",
        "encoder = OrdinalEncoder()\n",
        "X_train_encoded = encoder.fit_transform(X_train_selected)\n",
        "\n",
        "le = LabelEncoder()\n",
        "le.fit(y_train)\n",
        "\n",
        "y_train_encoded= le.transform(y_train)\n",
        "y_train_encoded\n",
        "# # le.inverse_transform(a)"
      ],
      "execution_count": 45,
      "outputs": [
        {
          "output_type": "execute_result",
          "data": {
            "text/plain": [
              "array([0, 2, 5, ..., 5, 7, 5])"
            ]
          },
          "metadata": {},
          "execution_count": 45
        }
      ]
    },
    {
      "cell_type": "code",
      "metadata": {
        "id": "Urau6tlTGjHJ"
      },
      "source": [
        "# 오버샘플링\n",
        "\n",
        "from imblearn.over_sampling import SMOTE\n",
        "# smote는 정수값만 받는다. \n",
        "\n",
        "smote = SMOTE(random_state=0)\n",
        "X_train_over,y_train_over = smote.fit_sample(X_train_encoded,y_train_encoded)"
      ],
      "execution_count": 46,
      "outputs": []
    },
    {
      "cell_type": "code",
      "metadata": {
        "id": "1DogjQFwFr7T"
      },
      "source": [
        "# 모델재정의\n",
        "\n",
        "from lightgbm import LGBMClassifier\n",
        "\n",
        "model= LGBMClassifier(random_state=2\n",
        "                  , n_jobs=-1\n",
        "                  , learning_rate=0.2\n",
        "                 )\n",
        "\n",
        "model.fit(X_train_over, y_train_over);"
      ],
      "execution_count": 47,
      "outputs": []
    },
    {
      "cell_type": "code",
      "metadata": {
        "colab": {
          "base_uri": "https://localhost:8080/"
        },
        "id": "-LT6HEkAGQnD",
        "outputId": "d939c9b5-9c28-4735-f42a-32548ff60c0e"
      },
      "source": [
        "k=5\n",
        "scores = cross_val_score(lgbm, X_train_over, y_train_over, cv=k, \n",
        "                         scoring='accuracy')\n",
        "\n",
        "print(f'accuracy ({k} folds):', scores.mean())"
      ],
      "execution_count": 48,
      "outputs": [
        {
          "output_type": "stream",
          "name": "stdout",
          "text": [
            "accuracy (5 folds): 0.6464110390990805\n"
          ]
        }
      ]
    },
    {
      "cell_type": "code",
      "metadata": {
        "id": "zhK40uRHHnVz"
      },
      "source": [
        "X_test_encoded = encoder.transform(X_test_selected)\n",
        "y_test_encoded = le.transform(y_test)"
      ],
      "execution_count": 49,
      "outputs": []
    },
    {
      "cell_type": "code",
      "metadata": {
        "colab": {
          "base_uri": "https://localhost:8080/",
          "height": 143
        },
        "id": "DieFGqK587xO",
        "outputId": "ae26e7e4-c5f0-4ee2-a576-c3457117cc4f"
      },
      "source": [
        "X_test_selected.head(3)"
      ],
      "execution_count": 50,
      "outputs": [
        {
          "output_type": "execute_result",
          "data": {
            "text/html": [
              "<div>\n",
              "<style scoped>\n",
              "    .dataframe tbody tr th:only-of-type {\n",
              "        vertical-align: middle;\n",
              "    }\n",
              "\n",
              "    .dataframe tbody tr th {\n",
              "        vertical-align: top;\n",
              "    }\n",
              "\n",
              "    .dataframe thead th {\n",
              "        text-align: right;\n",
              "    }\n",
              "</style>\n",
              "<table border=\"1\" class=\"dataframe\">\n",
              "  <thead>\n",
              "    <tr style=\"text-align: right;\">\n",
              "      <th></th>\n",
              "      <th>0.Gender</th>\n",
              "      <th>1.Age</th>\n",
              "      <th>4.Regularity</th>\n",
              "      <th>7.Do_you</th>\n",
              "      <th>9.Time_spent</th>\n",
              "      <th>13.Recommend_fitness</th>\n",
              "    </tr>\n",
              "  </thead>\n",
              "  <tbody>\n",
              "    <tr>\n",
              "      <th>316</th>\n",
              "      <td>Male</td>\n",
              "      <td>15 to 18</td>\n",
              "      <td>3 to 4 times a week</td>\n",
              "      <td>With a friend</td>\n",
              "      <td>2 hours</td>\n",
              "      <td>No</td>\n",
              "    </tr>\n",
              "    <tr>\n",
              "      <th>1448</th>\n",
              "      <td>Male</td>\n",
              "      <td>19 to 25</td>\n",
              "      <td>Everyday</td>\n",
              "      <td>Alone</td>\n",
              "      <td>1 hour</td>\n",
              "      <td>Yes</td>\n",
              "    </tr>\n",
              "    <tr>\n",
              "      <th>429</th>\n",
              "      <td>Female</td>\n",
              "      <td>19 to 25</td>\n",
              "      <td>2 to 3 times a week</td>\n",
              "      <td>Alone</td>\n",
              "      <td>1 hour</td>\n",
              "      <td>Yes</td>\n",
              "    </tr>\n",
              "  </tbody>\n",
              "</table>\n",
              "</div>"
            ],
            "text/plain": [
              "     0.Gender     1.Age  ... 9.Time_spent 13.Recommend_fitness\n",
              "316      Male  15 to 18  ...      2 hours                   No\n",
              "1448     Male  19 to 25  ...       1 hour                  Yes\n",
              "429    Female  19 to 25  ...       1 hour                  Yes\n",
              "\n",
              "[3 rows x 6 columns]"
            ]
          },
          "metadata": {},
          "execution_count": 50
        }
      ]
    },
    {
      "cell_type": "code",
      "metadata": {
        "colab": {
          "base_uri": "https://localhost:8080/"
        },
        "id": "PigLYznWJgf1",
        "outputId": "b61a0e4a-ec6c-48ca-a0a1-6efe04c32ce2"
      },
      "source": [
        "X_test_selected['1.Age'].unique()"
      ],
      "execution_count": 51,
      "outputs": [
        {
          "output_type": "execute_result",
          "data": {
            "text/plain": [
              "array(['15 to 18', '19 to 25', '30 to 40', '40 and above', '26 to 30'],\n",
              "      dtype=object)"
            ]
          },
          "metadata": {},
          "execution_count": 51
        }
      ]
    },
    {
      "cell_type": "code",
      "metadata": {
        "colab": {
          "base_uri": "https://localhost:8080/"
        },
        "id": "LCQ3jLTZJrGb",
        "outputId": "b2b0d769-c55d-4f43-8f9f-813b1dbb1f66"
      },
      "source": [
        "X_test_selected['0.Gender'].unique()"
      ],
      "execution_count": 52,
      "outputs": [
        {
          "output_type": "execute_result",
          "data": {
            "text/plain": [
              "array(['Male', 'Female'], dtype=object)"
            ]
          },
          "metadata": {},
          "execution_count": 52
        }
      ]
    },
    {
      "cell_type": "code",
      "metadata": {
        "colab": {
          "base_uri": "https://localhost:8080/"
        },
        "id": "N-Nbkui8Ju-j",
        "outputId": "fba118fe-25af-4e76-fea9-4b6675cc2fb4"
      },
      "source": [
        "X_test_selected['4.Regularity'].unique()"
      ],
      "execution_count": 53,
      "outputs": [
        {
          "output_type": "execute_result",
          "data": {
            "text/plain": [
              "array(['3 to 4 times a week', 'Everyday', '2 to 3 times a week',\n",
              "       '1 to 2 times a week', '5 to 6 times a week', 'Never'],\n",
              "      dtype=object)"
            ]
          },
          "metadata": {},
          "execution_count": 53
        }
      ]
    },
    {
      "cell_type": "code",
      "metadata": {
        "colab": {
          "base_uri": "https://localhost:8080/"
        },
        "id": "gW3vA-OYJ2XZ",
        "outputId": "a3dc8e32-8727-451c-99ae-5783160c3918"
      },
      "source": [
        "\n",
        "X_test_selected['7.Do_you'].unique()"
      ],
      "execution_count": 54,
      "outputs": [
        {
          "output_type": "execute_result",
          "data": {
            "text/plain": [
              "array(['With a friend', 'Alone', 'With a group',\n",
              "       'Within a class environment', \"I don't really exercise\"],\n",
              "      dtype=object)"
            ]
          },
          "metadata": {},
          "execution_count": 54
        }
      ]
    },
    {
      "cell_type": "code",
      "metadata": {
        "colab": {
          "base_uri": "https://localhost:8080/"
        },
        "id": "Kcr2uWAqKAKf",
        "outputId": "e5eac441-ba0c-4c0e-828c-ba9600bb0eba"
      },
      "source": [
        "X_test_selected['9.Time_spent'].unique()"
      ],
      "execution_count": 55,
      "outputs": [
        {
          "output_type": "execute_result",
          "data": {
            "text/plain": [
              "array(['2 hours', '1 hour', '30 minutes', \"I don't really exercise\",\n",
              "       '3 hours and above'], dtype=object)"
            ]
          },
          "metadata": {},
          "execution_count": 55
        }
      ]
    },
    {
      "cell_type": "code",
      "metadata": {
        "colab": {
          "base_uri": "https://localhost:8080/"
        },
        "id": "a6FBbkXeKFAB",
        "outputId": "ca79a6fe-2e1c-40e9-80ce-ffff147bad01"
      },
      "source": [
        "X_test_selected['13.Recommend_fitness'].unique()"
      ],
      "execution_count": 56,
      "outputs": [
        {
          "output_type": "execute_result",
          "data": {
            "text/plain": [
              "array(['No', 'Yes'], dtype=object)"
            ]
          },
          "metadata": {},
          "execution_count": 56
        }
      ]
    },
    {
      "cell_type": "code",
      "metadata": {
        "colab": {
          "base_uri": "https://localhost:8080/",
          "height": 424
        },
        "id": "9xnUNmw-89gj",
        "outputId": "fa105793-49f2-4f77-8a84-1f5a56dfa6fe"
      },
      "source": [
        "X_test_encoded #인코딩이 잘 되어 있다. "
      ],
      "execution_count": 57,
      "outputs": [
        {
          "output_type": "execute_result",
          "data": {
            "text/html": [
              "<div>\n",
              "<style scoped>\n",
              "    .dataframe tbody tr th:only-of-type {\n",
              "        vertical-align: middle;\n",
              "    }\n",
              "\n",
              "    .dataframe tbody tr th {\n",
              "        vertical-align: top;\n",
              "    }\n",
              "\n",
              "    .dataframe thead th {\n",
              "        text-align: right;\n",
              "    }\n",
              "</style>\n",
              "<table border=\"1\" class=\"dataframe\">\n",
              "  <thead>\n",
              "    <tr style=\"text-align: right;\">\n",
              "      <th></th>\n",
              "      <th>0.Gender</th>\n",
              "      <th>1.Age</th>\n",
              "      <th>4.Regularity</th>\n",
              "      <th>7.Do_you</th>\n",
              "      <th>9.Time_spent</th>\n",
              "      <th>13.Recommend_fitness</th>\n",
              "    </tr>\n",
              "  </thead>\n",
              "  <tbody>\n",
              "    <tr>\n",
              "      <th>316</th>\n",
              "      <td>2</td>\n",
              "      <td>1</td>\n",
              "      <td>5</td>\n",
              "      <td>1</td>\n",
              "      <td>2</td>\n",
              "      <td>2</td>\n",
              "    </tr>\n",
              "    <tr>\n",
              "      <th>1448</th>\n",
              "      <td>2</td>\n",
              "      <td>3</td>\n",
              "      <td>2</td>\n",
              "      <td>3</td>\n",
              "      <td>3</td>\n",
              "      <td>1</td>\n",
              "    </tr>\n",
              "    <tr>\n",
              "      <th>429</th>\n",
              "      <td>1</td>\n",
              "      <td>3</td>\n",
              "      <td>1</td>\n",
              "      <td>3</td>\n",
              "      <td>3</td>\n",
              "      <td>1</td>\n",
              "    </tr>\n",
              "    <tr>\n",
              "      <th>3599</th>\n",
              "      <td>1</td>\n",
              "      <td>5</td>\n",
              "      <td>3</td>\n",
              "      <td>3</td>\n",
              "      <td>1</td>\n",
              "      <td>2</td>\n",
              "    </tr>\n",
              "    <tr>\n",
              "      <th>1315</th>\n",
              "      <td>2</td>\n",
              "      <td>1</td>\n",
              "      <td>3</td>\n",
              "      <td>3</td>\n",
              "      <td>1</td>\n",
              "      <td>2</td>\n",
              "    </tr>\n",
              "    <tr>\n",
              "      <th>...</th>\n",
              "      <td>...</td>\n",
              "      <td>...</td>\n",
              "      <td>...</td>\n",
              "      <td>...</td>\n",
              "      <td>...</td>\n",
              "      <td>...</td>\n",
              "    </tr>\n",
              "    <tr>\n",
              "      <th>3597</th>\n",
              "      <td>1</td>\n",
              "      <td>1</td>\n",
              "      <td>6</td>\n",
              "      <td>1</td>\n",
              "      <td>2</td>\n",
              "      <td>1</td>\n",
              "    </tr>\n",
              "    <tr>\n",
              "      <th>3952</th>\n",
              "      <td>1</td>\n",
              "      <td>2</td>\n",
              "      <td>1</td>\n",
              "      <td>3</td>\n",
              "      <td>1</td>\n",
              "      <td>1</td>\n",
              "    </tr>\n",
              "    <tr>\n",
              "      <th>838</th>\n",
              "      <td>1</td>\n",
              "      <td>3</td>\n",
              "      <td>2</td>\n",
              "      <td>3</td>\n",
              "      <td>2</td>\n",
              "      <td>1</td>\n",
              "    </tr>\n",
              "    <tr>\n",
              "      <th>1526</th>\n",
              "      <td>1</td>\n",
              "      <td>1</td>\n",
              "      <td>3</td>\n",
              "      <td>5</td>\n",
              "      <td>1</td>\n",
              "      <td>1</td>\n",
              "    </tr>\n",
              "    <tr>\n",
              "      <th>3162</th>\n",
              "      <td>1</td>\n",
              "      <td>3</td>\n",
              "      <td>4</td>\n",
              "      <td>5</td>\n",
              "      <td>4</td>\n",
              "      <td>1</td>\n",
              "    </tr>\n",
              "  </tbody>\n",
              "</table>\n",
              "<p>816 rows × 6 columns</p>\n",
              "</div>"
            ],
            "text/plain": [
              "      0.Gender  1.Age  ...  9.Time_spent  13.Recommend_fitness\n",
              "316          2      1  ...             2                     2\n",
              "1448         2      3  ...             3                     1\n",
              "429          1      3  ...             3                     1\n",
              "3599         1      5  ...             1                     2\n",
              "1315         2      1  ...             1                     2\n",
              "...        ...    ...  ...           ...                   ...\n",
              "3597         1      1  ...             2                     1\n",
              "3952         1      2  ...             1                     1\n",
              "838          1      3  ...             2                     1\n",
              "1526         1      1  ...             1                     1\n",
              "3162         1      3  ...             4                     1\n",
              "\n",
              "[816 rows x 6 columns]"
            ]
          },
          "metadata": {},
          "execution_count": 57
        }
      ]
    },
    {
      "cell_type": "code",
      "metadata": {
        "colab": {
          "base_uri": "https://localhost:8080/"
        },
        "id": "LNTXtzDT9ApU",
        "outputId": "f18e622e-e47b-4d18-de8c-3cedc38d0885"
      },
      "source": [
        "X_test_selected.columns"
      ],
      "execution_count": 58,
      "outputs": [
        {
          "output_type": "execute_result",
          "data": {
            "text/plain": [
              "Index(['0.Gender', '1.Age', '4.Regularity', '7.Do_you', '9.Time_spent',\n",
              "       '13.Recommend_fitness'],\n",
              "      dtype='object')"
            ]
          },
          "metadata": {},
          "execution_count": 58
        }
      ]
    },
    {
      "cell_type": "code",
      "metadata": {
        "colab": {
          "base_uri": "https://localhost:8080/"
        },
        "id": "A-obLHNX9FAk",
        "outputId": "5552de25-faa2-47e1-cde6-264effbaf72e"
      },
      "source": [
        "print('테스트셋 정확도', model.score(X_test_encoded, y_test_encoded))\n",
        "# 몹쓸 모델이 나왔다. "
      ],
      "execution_count": 59,
      "outputs": [
        {
          "output_type": "stream",
          "name": "stdout",
          "text": [
            "테스트셋 정확도 0.4117647058823529\n"
          ]
        }
      ]
    },
    {
      "cell_type": "code",
      "metadata": {
        "colab": {
          "base_uri": "https://localhost:8080/",
          "height": 81
        },
        "id": "faxjp-Fk9bgr",
        "outputId": "1530c257-e890-4dda-e30c-cb1d885bdf61"
      },
      "source": [
        "# 데이터를 넣어서 예측해보기\n",
        "\n",
        "Gender = 'Female'\n",
        "Age =  \"19 to 25\"\n",
        "Regularity = \"Never\" \n",
        "Do_you = 'With a friend'\n",
        "Time_spent = \"I don't really exercise\"\n",
        "Recommend_fitness = \"No\"\n",
        "\n",
        "set = pd.DataFrame({\"0.Gender\":[Gender], \"1.Age\":[Age], \"4.Regularity\":[Regularity], \"7.Do_you\":[Do_you], \"9.Time_spent\":[Time_spent],\"13.Recommend_fitness\" : [Recommend_fitness]})\n",
        "set"
      ],
      "execution_count": 60,
      "outputs": [
        {
          "output_type": "execute_result",
          "data": {
            "text/html": [
              "<div>\n",
              "<style scoped>\n",
              "    .dataframe tbody tr th:only-of-type {\n",
              "        vertical-align: middle;\n",
              "    }\n",
              "\n",
              "    .dataframe tbody tr th {\n",
              "        vertical-align: top;\n",
              "    }\n",
              "\n",
              "    .dataframe thead th {\n",
              "        text-align: right;\n",
              "    }\n",
              "</style>\n",
              "<table border=\"1\" class=\"dataframe\">\n",
              "  <thead>\n",
              "    <tr style=\"text-align: right;\">\n",
              "      <th></th>\n",
              "      <th>0.Gender</th>\n",
              "      <th>1.Age</th>\n",
              "      <th>4.Regularity</th>\n",
              "      <th>7.Do_you</th>\n",
              "      <th>9.Time_spent</th>\n",
              "      <th>13.Recommend_fitness</th>\n",
              "    </tr>\n",
              "  </thead>\n",
              "  <tbody>\n",
              "    <tr>\n",
              "      <th>0</th>\n",
              "      <td>Female</td>\n",
              "      <td>19 to 25</td>\n",
              "      <td>Never</td>\n",
              "      <td>With a friend</td>\n",
              "      <td>I don't really exercise</td>\n",
              "      <td>No</td>\n",
              "    </tr>\n",
              "  </tbody>\n",
              "</table>\n",
              "</div>"
            ],
            "text/plain": [
              "  0.Gender     1.Age  ...             9.Time_spent 13.Recommend_fitness\n",
              "0   Female  19 to 25  ...  I don't really exercise                   No\n",
              "\n",
              "[1 rows x 6 columns]"
            ]
          },
          "metadata": {},
          "execution_count": 60
        }
      ]
    },
    {
      "cell_type": "code",
      "metadata": {
        "colab": {
          "base_uri": "https://localhost:8080/",
          "height": 81
        },
        "id": "tUCv1tWn9lRk",
        "outputId": "dec46005-0df0-4a93-a7f9-e9fe44865cb9"
      },
      "source": [
        "X_pred = encoder.transform(set)  # -1값도 있고, 12.Health_level은 인코딩되지 않는다. 왜?\n",
        "X_pred"
      ],
      "execution_count": 61,
      "outputs": [
        {
          "output_type": "execute_result",
          "data": {
            "text/html": [
              "<div>\n",
              "<style scoped>\n",
              "    .dataframe tbody tr th:only-of-type {\n",
              "        vertical-align: middle;\n",
              "    }\n",
              "\n",
              "    .dataframe tbody tr th {\n",
              "        vertical-align: top;\n",
              "    }\n",
              "\n",
              "    .dataframe thead th {\n",
              "        text-align: right;\n",
              "    }\n",
              "</style>\n",
              "<table border=\"1\" class=\"dataframe\">\n",
              "  <thead>\n",
              "    <tr style=\"text-align: right;\">\n",
              "      <th></th>\n",
              "      <th>0.Gender</th>\n",
              "      <th>1.Age</th>\n",
              "      <th>4.Regularity</th>\n",
              "      <th>7.Do_you</th>\n",
              "      <th>9.Time_spent</th>\n",
              "      <th>13.Recommend_fitness</th>\n",
              "    </tr>\n",
              "  </thead>\n",
              "  <tbody>\n",
              "    <tr>\n",
              "      <th>0</th>\n",
              "      <td>1</td>\n",
              "      <td>3</td>\n",
              "      <td>4</td>\n",
              "      <td>1</td>\n",
              "      <td>4</td>\n",
              "      <td>2</td>\n",
              "    </tr>\n",
              "  </tbody>\n",
              "</table>\n",
              "</div>"
            ],
            "text/plain": [
              "   0.Gender  1.Age  4.Regularity  7.Do_you  9.Time_spent  13.Recommend_fitness\n",
              "0         1      3             4         1             4                     2"
            ]
          },
          "metadata": {},
          "execution_count": 61
        }
      ]
    },
    {
      "cell_type": "code",
      "metadata": {
        "colab": {
          "base_uri": "https://localhost:8080/"
        },
        "id": "iRUuyJe4MkVz",
        "outputId": "6025e041-7e99-4749-91b8-eab413da065e"
      },
      "source": [
        "le.inverse_transform(model.predict(X_pred))"
      ],
      "execution_count": 62,
      "outputs": [
        {
          "output_type": "execute_result",
          "data": {
            "text/plain": [
              "array(['Walking or jogging'], dtype=object)"
            ]
          },
          "metadata": {},
          "execution_count": 62
        }
      ]
    },
    {
      "cell_type": "code",
      "metadata": {
        "colab": {
          "base_uri": "https://localhost:8080/",
          "height": 137
        },
        "id": "u4WrEEY-Mm6m",
        "outputId": "532224e0-93fe-4d3d-c6a3-6827bea31695"
      },
      "source": [
        "하 ㅠ "
      ],
      "execution_count": 63,
      "outputs": [
        {
          "output_type": "error",
          "ename": "SyntaxError",
          "evalue": "ignored",
          "traceback": [
            "\u001b[0;36m  File \u001b[0;32m\"<ipython-input-63-3ba4059e4dd5>\"\u001b[0;36m, line \u001b[0;32m1\u001b[0m\n\u001b[0;31m    하 ㅠ\u001b[0m\n\u001b[0m      ^\u001b[0m\n\u001b[0;31mSyntaxError\u001b[0m\u001b[0;31m:\u001b[0m invalid syntax\n"
          ]
        }
      ]
    }
  ]
}