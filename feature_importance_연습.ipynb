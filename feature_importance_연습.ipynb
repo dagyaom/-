{
  "nbformat": 4,
  "nbformat_minor": 5,
  "metadata": {
    "hide_input": false,
    "kernelspec": {
      "display_name": "Python 3",
      "language": "python",
      "name": "python3"
    },
    "language_info": {
      "codemirror_mode": {
        "name": "ipython",
        "version": 3
      },
      "file_extension": ".py",
      "mimetype": "text/x-python",
      "name": "python",
      "nbconvert_exporter": "python",
      "pygments_lexer": "ipython3",
      "version": "3.8.8"
    },
    "toc": {
      "base_numbering": 1,
      "nav_menu": {},
      "number_sections": true,
      "sideBar": true,
      "skip_h1_title": false,
      "title_cell": "Table of Contents",
      "title_sidebar": "Contents",
      "toc_cell": false,
      "toc_position": {},
      "toc_section_display": true,
      "toc_window_display": true
    },
    "varInspector": {
      "cols": {
        "lenName": 16,
        "lenType": 16,
        "lenVar": 40
      },
      "kernels_config": {
        "python": {
          "delete_cmd_postfix": "",
          "delete_cmd_prefix": "del ",
          "library": "var_list.py",
          "varRefreshCmd": "print(var_dic_list())"
        },
        "r": {
          "delete_cmd_postfix": ") ",
          "delete_cmd_prefix": "rm(",
          "library": "var_list.r",
          "varRefreshCmd": "cat(var_dic_list()) "
        }
      },
      "position": {
        "height": "650px",
        "left": "1557px",
        "right": "20px",
        "top": "113px",
        "width": "350px"
      },
      "types_to_exclude": [
        "module",
        "function",
        "builtin_function_or_method",
        "instance",
        "_Feature"
      ],
      "window_display": true
    },
    "colab": {
      "name": "feature importance 연습.ipynb",
      "provenance": [],
      "include_colab_link": true
    }
  },
  "cells": [
    {
      "cell_type": "markdown",
      "metadata": {
        "id": "view-in-github",
        "colab_type": "text"
      },
      "source": [
        "<a href=\"https://colab.research.google.com/github/dagyaom/Python_Practice/blob/main/feature_importance_%EC%97%B0%EC%8A%B5.ipynb\" target=\"_parent\"><img src=\"https://colab.research.google.com/assets/colab-badge.svg\" alt=\"Open In Colab\"/></a>"
      ]
    },
    {
      "cell_type": "markdown",
      "metadata": {
        "id": "47582699"
      },
      "source": [
        "- adaboost vs RandomForeset 핵심차이점 3가지.\n",
        "- 배깅이란? 부스팅이란?\n",
        "- 특성중요도 계산방법 : perputation importances, feature importance\n",
        "- gradient boosting 과 xgboost"
      ],
      "id": "47582699"
    },
    {
      "cell_type": "markdown",
      "metadata": {
        "id": "d688e0f3"
      },
      "source": [
        "# 1. 특성공학&전처리&모델학습"
      ],
      "id": "d688e0f3"
    },
    {
      "cell_type": "code",
      "metadata": {
        "ExecuteTime": {
          "end_time": "2021-08-30T10:39:18.050668Z",
          "start_time": "2021-08-30T10:39:16.056370Z"
        },
        "id": "c9ab9f53"
      },
      "source": [
        "import numpy as np\n",
        "import pandas as pd\n",
        "from sklearn.model_selection import train_test_split"
      ],
      "id": "c9ab9f53",
      "execution_count": null,
      "outputs": []
    },
    {
      "cell_type": "code",
      "metadata": {
        "ExecuteTime": {
          "end_time": "2021-08-30T10:39:18.066351Z",
          "start_time": "2021-08-30T10:39:18.053385Z"
        },
        "id": "55bdd1bd"
      },
      "source": [
        "# 타겟설정\n",
        "target = 'vacc_seas_f'"
      ],
      "id": "55bdd1bd",
      "execution_count": null,
      "outputs": []
    },
    {
      "cell_type": "code",
      "metadata": {
        "ExecuteTime": {
          "end_time": "2021-08-30T10:39:23.248013Z",
          "start_time": "2021-08-30T10:39:18.073335Z"
        },
        "id": "4b065248"
      },
      "source": [
        "train = pd.merge(pd.read_csv('https://ds-lecture-data.s3.ap-northeast-2.amazonaws.com/vacc_flu/train.csv'), \n",
        "                 pd.read_csv('https://ds-lecture-data.s3.ap-northeast-2.amazonaws.com/vacc_flu/train_labels.csv')[target], left_index=True, right_index=True)\n",
        "test = pd.read_csv('https://ds-lecture-data.s3.ap-northeast-2.amazonaws.com/vacc_flu/test.csv')\n",
        "\n",
        "# left_index=True, right_index=True join키로 인덱스를 사용함. Key와 index를 혼합해서 합할수도 있다. \n",
        "# https://rfriend.tistory.com/259\n",
        "\n",
        "\n",
        "# 데이터 분리\n",
        "train, val = train_test_split(train, train_size=0.80, test_size=0.20, \n",
        "                              stratify=train[target], random_state=2)"
      ],
      "id": "4b065248",
      "execution_count": null,
      "outputs": []
    },
    {
      "cell_type": "code",
      "metadata": {
        "ExecuteTime": {
          "end_time": "2021-08-30T10:39:23.263681Z",
          "start_time": "2021-08-30T10:39:23.250714Z"
        },
        "id": "ae050b3e"
      },
      "source": [
        "# # 특성 엔지니어링\n",
        "# behaviorals = []\n",
        "# for col in train.columns :\n",
        "#     if 'behavioral' in col:\n",
        "#         behaviorals.append(col)\n",
        "        \n",
        "# behaviorals "
      ],
      "id": "ae050b3e",
      "execution_count": null,
      "outputs": []
    },
    {
      "cell_type": "code",
      "metadata": {
        "ExecuteTime": {
          "end_time": "2021-08-30T10:39:23.279906Z",
          "start_time": "2021-08-30T10:39:23.266671Z"
        },
        "id": "96c826df"
      },
      "source": [
        "# behaviorals = [col for col in train.columns if 'behavioral' in col]\n",
        "# train['behaviorals'] = train[behaviorals].sum(axis=1)# sum() : 열대로 합계내기.,sum(axis=1) : 한 행 합계내기\n",
        "# train.head()"
      ],
      "id": "96c826df",
      "execution_count": null,
      "outputs": []
    },
    {
      "cell_type": "code",
      "metadata": {
        "ExecuteTime": {
          "end_time": "2021-08-30T10:39:23.342537Z",
          "start_time": "2021-08-30T10:39:23.282629Z"
        },
        "id": "49ba468c"
      },
      "source": [
        "# 특성 엔지니얼이 함수만들기.\n",
        "\n",
        "def engineer(df) : \n",
        "    behaviorals = [col for col in df.columns if 'behavioral' in col]\n",
        "    df['behaviorals'] = df[behaviorals].sum(axis=1)\n",
        "    \n",
        "    dels = [col for col in df.columns if ('employment' in col or 'h1n1' in col)]\n",
        "    df.drop(columns=dels, inplace=True)\n",
        "    \n",
        "    return df\n",
        "\n",
        "train = engineer(train)\n",
        "val = engineer(val)\n",
        "test = engineer(test)"
      ],
      "id": "49ba468c",
      "execution_count": null,
      "outputs": []
    },
    {
      "cell_type": "code",
      "metadata": {
        "ExecuteTime": {
          "end_time": "2021-08-30T10:39:23.373387Z",
          "start_time": "2021-08-30T10:39:23.347458Z"
        },
        "id": "f5ecf3bb"
      },
      "source": [
        "X_train = train.drop(columns=target)\n",
        "y_train = train[target]\n",
        "X_val = val.drop(columns=target)\n",
        "y_val = val[target]\n",
        "X_test = test"
      ],
      "id": "f5ecf3bb",
      "execution_count": null,
      "outputs": []
    },
    {
      "cell_type": "code",
      "metadata": {
        "ExecuteTime": {
          "end_time": "2021-08-30T10:39:23.825150Z",
          "start_time": "2021-08-30T10:39:23.377376Z"
        },
        "id": "95784f3c"
      },
      "source": [
        "from category_encoders import OrdinalEncoder\n",
        "from sklearn.impute import SimpleImputer\n",
        "from sklearn.ensemble import RandomForestClassifier\n",
        "from sklearn.pipeline import make_pipeline"
      ],
      "id": "95784f3c",
      "execution_count": null,
      "outputs": []
    },
    {
      "cell_type": "code",
      "metadata": {
        "ExecuteTime": {
          "end_time": "2021-08-30T10:39:23.891443Z",
          "start_time": "2021-08-30T10:39:23.829124Z"
        },
        "id": "95b1bda6"
      },
      "source": [
        "# 파이프라인 만들기\n",
        "pipe = make_pipeline(\n",
        "    OrdinalEncoder(),\n",
        "    SimpleImputer(),\n",
        "    RandomForestClassifier(n_estimators=100, random_state=2, n_jobs=-1)\n",
        ")"
      ],
      "id": "95b1bda6",
      "execution_count": null,
      "outputs": []
    },
    {
      "cell_type": "code",
      "metadata": {
        "ExecuteTime": {
          "end_time": "2021-08-30T10:39:23.935321Z",
          "start_time": "2021-08-30T10:39:23.900421Z"
        },
        "id": "31b86f7d",
        "outputId": "2d497116-0488-498e-f9aa-6421999ea542"
      },
      "source": [
        "pipe"
      ],
      "id": "31b86f7d",
      "execution_count": null,
      "outputs": [
        {
          "data": {
            "text/plain": [
              "Pipeline(steps=[('ordinalencoder', OrdinalEncoder()),\n",
              "                ('simpleimputer', SimpleImputer()),\n",
              "                ('randomforestclassifier',\n",
              "                 RandomForestClassifier(n_jobs=-1, random_state=2))])"
            ]
          },
          "execution_count": 10,
          "metadata": {},
          "output_type": "execute_result"
        }
      ]
    },
    {
      "cell_type": "code",
      "metadata": {
        "ExecuteTime": {
          "end_time": "2021-08-30T10:39:27.387334Z",
          "start_time": "2021-08-30T10:39:23.939313Z"
        },
        "id": "d105d9da",
        "outputId": "4b28b7da-7b34-4476-f6b6-1573ff8a21a0"
      },
      "source": [
        "import warnings\n",
        "warnings.simplefilter(action='ignore', category=FutureWarning)\n",
        "# 경고문구 억제 https://www.python2.net/questions-1295170.html, 공식문서https://python.flowdas.com/library/warnings.html\n",
        "\n",
        "from sklearn.metrics import classification_report\n",
        "\n",
        "pipe.fit(X_train, y_train)\n",
        "print(classification_report(y_val, pipe.predict(X_val)))"
      ],
      "id": "d105d9da",
      "execution_count": null,
      "outputs": [
        {
          "name": "stdout",
          "output_type": "stream",
          "text": [
            "              precision    recall  f1-score   support\n",
            "\n",
            "           0       0.76      0.80      0.78      4608\n",
            "           1       0.74      0.70      0.72      3823\n",
            "\n",
            "    accuracy                           0.75      8431\n",
            "   macro avg       0.75      0.75      0.75      8431\n",
            "weighted avg       0.75      0.75      0.75      8431\n",
            "\n"
          ]
        }
      ]
    },
    {
      "cell_type": "markdown",
      "metadata": {
        "id": "3eb11906"
      },
      "source": [
        "# 2. 특성중요도 계산법 3가지"
      ],
      "id": "3eb11906"
    },
    {
      "cell_type": "markdown",
      "metadata": {
        "id": "446da6b9"
      },
      "source": [
        "## 1) Feature Importances(특성중요도)\n",
        "- sklearn 트리기반 분류기의 default\n",
        "- 속도가 빠르다. \n",
        "- 각각 특성을 모든 트리에 대해 평균불순도 감소(Mean decrease impurity)를 계산함.\n",
        "- feature importance는 노드가 분기 할때의 정보 이득 혹은 지니 상수만을 고려하여 중요도를 부여하기 때문에 과적합에 대해 고려하지 못한다."
      ],
      "id": "446da6b9"
    },
    {
      "cell_type": "code",
      "metadata": {
        "ExecuteTime": {
          "end_time": "2021-08-30T10:39:28.365660Z",
          "start_time": "2021-08-30T10:39:27.393061Z"
        },
        "id": "d3116413",
        "outputId": "24890710-6c6b-407e-a356-4722982a92dc"
      },
      "source": [
        "rf = pipe.named_steps['randomforestclassifier']\n",
        "rf.feature_importances_\n",
        "importances = pd.Series(rf.feature_importances_, X_train.columns)\n",
        "importances\n",
        "\n",
        "%matplotlib inline  \n",
        "import matplotlib.pyplot as plt\n",
        "\n",
        "n=20\n",
        "plt.figure(figsize = (10,n/2))\n",
        "plt.title(f'Top {n} features')\n",
        "\n",
        "importances.sort_values()[-n:].plot.barh();\n",
        "\n",
        "# %matplotlib inline  : notebook을 실행한 브라우저에서 바로 그림을 볼 수 있게 해주는 기능 https://korbillgates.tistory.com/85"
      ],
      "id": "d3116413",
      "execution_count": null,
      "outputs": [
        {
          "data": {
            "image/png": "[encoded data removed]",
            "text/plain": [
              "<Figure size 720x720 with 1 Axes>"
            ]
          },
          "metadata": {
            "needs_background": "light"
          },
          "output_type": "display_data"
        }
      ]
    },
    {
      "cell_type": "code",
      "metadata": {
        "ExecuteTime": {
          "end_time": "2021-08-30T10:39:28.395575Z",
          "start_time": "2021-08-30T10:39:28.367650Z"
        },
        "id": "2da73257",
        "outputId": "98533102-85d6-4eed-aca8-4309d6ac904e"
      },
      "source": [
        "len(X_train['state'].value_counts())"
      ],
      "id": "2da73257",
      "execution_count": null,
      "outputs": [
        {
          "data": {
            "text/plain": [
              "51"
            ]
          },
          "execution_count": 13,
          "metadata": {},
          "output_type": "execute_result"
        }
      ]
    },
    {
      "cell_type": "markdown",
      "metadata": {
        "id": "78e37451"
      },
      "source": [
        "## 2) Drop-column Importance\n",
        "- 이론적으로는 좋아보이지만, 매 특성을 drop한 후 다시 fit해야 하기 때문에 매우 느리다."
      ],
      "id": "78e37451"
    },
    {
      "cell_type": "code",
      "metadata": {
        "ExecuteTime": {
          "end_time": "2021-08-30T10:39:35.881004Z",
          "start_time": "2021-08-30T10:39:28.398566Z"
        },
        "id": "981ebe23",
        "outputId": "558ce086-39af-43e3-c019-691228587d85"
      },
      "source": [
        "column = 'opinion_seas_risk'\n",
        "\n",
        "# 특성없이 fit\n",
        "pipe = make_pipeline(\n",
        "    OrdinalEncoder(),\n",
        "    SimpleImputer(),\n",
        "    RandomForestClassifier(n_estimators=100, random_state=2, n_jobs=-1)\n",
        ")\n",
        "pipe.fit(X_train.drop(columns=column), y_train)\n",
        "score_without = pipe.score(X_val.drop(columns=column), y_val)\n",
        "print(f'검증정확도 ({column} 제외 : {score_without})')\n",
        "\n",
        "# 특성포함 fit\n",
        "pipe = make_pipeline(\n",
        "    OrdinalEncoder(),\n",
        "    SimpleImputer(),\n",
        "    RandomForestClassifier(n_estimators=100, random_state=2, n_jobs=-1)\n",
        ")\n",
        "\n",
        "pipe.fit(X_train, y_train)\n",
        "score_with = pipe.score(X_val, y_val)\n",
        "print(f'검증정확도 ({column}포함) : {score_with}')\n",
        "    \n",
        "# 특성 포함 전후 정확도 차이 계산.\n",
        "print(f'{column}의 Drop-column중요도 : {score_with - score_without}')"
      ],
      "id": "981ebe23",
      "execution_count": null,
      "outputs": [
        {
          "name": "stdout",
          "output_type": "stream",
          "text": [
            "검증정확도 (opinion_seas_risk 제외 : 0.733127742853754)\n",
            "검증정확도 (opinion_seas_risk포함) : 0.7526983750444787\n",
            "opinion_seas_risk의 Drop-column중요도 : 0.019570632190724635\n"
          ]
        }
      ]
    },
    {
      "cell_type": "markdown",
      "metadata": {
        "id": "9431c4c3"
      },
      "source": [
        "## 3) Permutation Importance(순열 중요도)\n",
        "- Mean decrease Accuracy, MDA\n",
        "- 관심있는 특성에만 무작위로 노이즈를 주고 예측했을 때, 성능평가지표(accuracy, f1, r2 등)가 얼마나 감소하는지를 측정함.\n",
        "- drop-column 중요도를 계산하기 위해 재학습을 해야했다면, \n",
        "- 순열중요도는 검증데이터에서 각 특성을 제거하지 않고 특성값에 무작위로 노이즈를 주어 기존 정보를 제거,\n",
        "- 특성이 기존에 하던 역할을 하지 못하게 하고 성능을 측정한다. \n",
        "- 노이즈를 주는 가장 간단한 방법 : shuffle, permutation. 특성값들을 샘플들 내에서 섞는 것."
      ],
      "id": "9431c4c3"
    },
    {
      "cell_type": "markdown",
      "metadata": {
        "id": "6fca9add"
      },
      "source": [
        "### eli5 라이브러리 활용"
      ],
      "id": "6fca9add"
    },
    {
      "cell_type": "code",
      "metadata": {
        "ExecuteTime": {
          "end_time": "2021-08-30T11:09:40.499858Z",
          "start_time": "2021-08-30T11:09:40.466953Z"
        },
        "id": "416eadeb"
      },
      "source": [
        "from sklearn.pipeline import Pipeline\n",
        "# Pipeline vs make_pipeline : https://stackoverflow.com/questions/40708077/what-is-the-difference-between-pipeline-and-make-pipeline-in-scikit\n",
        "\n",
        "# encoder, imputer를 preprocessing으로 묶었습니다. 후에 eli5 permutation 계산에 사용합니다.\n",
        "\n",
        "pipe = Pipeline([('preprocessing', make_pipeline(OrdinalEncoder(),SimpleImputer())),\n",
        "                ('rf', RandomForestClassifier(n_estimators=100, random_state=2, n_jobs=-1))\n",
        "                ])\n"
      ],
      "id": "416eadeb",
      "execution_count": null,
      "outputs": []
    },
    {
      "cell_type": "code",
      "metadata": {
        "ExecuteTime": {
          "end_time": "2021-08-30T11:09:54.381380Z",
          "start_time": "2021-08-30T11:09:54.368417Z"
        },
        "id": "282f8ef5",
        "outputId": "e9899500-7a26-4b64-b518-38055ef8c9de"
      },
      "source": [
        "pipe.named_steps"
      ],
      "id": "282f8ef5",
      "execution_count": null,
      "outputs": [
        {
          "data": {
            "text/plain": [
              "{'preprocessing': Pipeline(steps=[('ordinalencoder', OrdinalEncoder()),\n",
              "                 ('simpleimputer', SimpleImputer())]),\n",
              " 'rf': RandomForestClassifier(n_jobs=-1, random_state=2)}"
            ]
          },
          "execution_count": 18,
          "metadata": {},
          "output_type": "execute_result"
        }
      ]
    },
    {
      "cell_type": "code",
      "metadata": {
        "ExecuteTime": {
          "end_time": "2021-08-30T11:11:01.836543Z",
          "start_time": "2021-08-30T11:10:58.816712Z"
        },
        "id": "1c1105d7",
        "outputId": "b7d5fcfb-4b02-4cba-a99b-f9d325c3a168"
      },
      "source": [
        "# 모델을 훈련시킨다. \n",
        "\n",
        "pipe.fit(X_train, y_train)\n",
        "print('검증 정확도 : ', pipe.score(X_val, y_val))"
      ],
      "id": "1c1105d7",
      "execution_count": null,
      "outputs": [
        {
          "name": "stdout",
          "output_type": "stream",
          "text": [
            "검증 정확도 :  0.7526983750444787\n"
          ]
        }
      ]
    },
    {
      "cell_type": "code",
      "metadata": {
        "ExecuteTime": {
          "end_time": "2021-08-30T11:35:07.671210Z",
          "start_time": "2021-08-30T11:34:49.652724Z"
        },
        "id": "0354bb64"
      },
      "source": [
        "import warnings\n",
        "warnings.simplefilter(action='ignore', category=FutureWarning)\n",
        "\n",
        "# eli5로 순열중요도를 따져보자. \n",
        "\n",
        "import eli5\n",
        "from eli5.sklearn import PermutationImportance\n",
        "\n",
        "permuter = PermutationImportance(\n",
        "    pipe.named_steps['rf'],  #model\n",
        "    scoring='accuracy',  #metric\n",
        "    n_iter=5,   # 다른 random seed를 사용하여 5번 반복\n",
        "    random_state=2)\n",
        "\n",
        "# 전처리만 끝내기\n",
        "X_val_transformed = pipe.named_steps['preprocessing'].transform(X_val)\n",
        "\n",
        "# 스코어 계산하기\n",
        "permuter.fit(X_val_transformed, y_val);\n"
      ],
      "id": "0354bb64",
      "execution_count": null,
      "outputs": []
    },
    {
      "cell_type": "code",
      "metadata": {
        "ExecuteTime": {
          "end_time": "2021-08-30T11:36:17.680776Z",
          "start_time": "2021-08-30T11:36:17.663268Z"
        },
        "id": "9c6c7196",
        "outputId": "8648b361-e217-4ac5-936d-b964c60457fd"
      },
      "source": [
        "# 특성별 score 확인\n",
        "feature_names = X_val.columns.tolist()\n",
        "pd.Series(permuter.feature_importances_, feature_names).sort_values()"
      ],
      "id": "9c6c7196",
      "execution_count": null,
      "outputs": [
        {
          "data": {
            "text/plain": [
              "n_adult_r                     -0.003511\n",
              "hhs_region                    -0.003108\n",
              "census_region                 -0.003084\n",
              "behavioral_face_mask          -0.003060\n",
              "sex_i                         -0.002942\n",
              "state                         -0.002918\n",
              "behavioral_wash_hands         -0.002657\n",
              "n_people_r                    -0.002562\n",
              "behavioral_large_gatherings   -0.002538\n",
              "behavioral_antiviral_meds     -0.002420\n",
              "behavioral_avoidance          -0.002159\n",
              "behavioral_outside_home       -0.002064\n",
              "behavioral_touch_face         -0.001755\n",
              "chronic_med_condition         -0.001613\n",
              "census_msa                    -0.001542\n",
              "behaviorals                   -0.001471\n",
              "child_under_6_months          -0.001400\n",
              "marital                       -0.001328\n",
              "rent_own_r                    -0.000712\n",
              "inc_pov                       -0.000474\n",
              "raceeth4_i                    -0.000213\n",
              "household_children            -0.000119\n",
              "education_comp                 0.001234\n",
              "health_insurance               0.002775\n",
              "health_worker                  0.003060\n",
              "opinion_seas_sick_from_vacc    0.004792\n",
              "agegrp                         0.007733\n",
              "opinion_seas_risk              0.041039\n",
              "opinion_seas_vacc_effective    0.043814\n",
              "doctor_recc_seasonal           0.071427\n",
              "dtype: float64"
            ]
          },
          "execution_count": 26,
          "metadata": {},
          "output_type": "execute_result"
        }
      ]
    },
    {
      "cell_type": "code",
      "metadata": {
        "ExecuteTime": {
          "end_time": "2021-08-30T11:41:26.849790Z",
          "start_time": "2021-08-30T11:41:26.776426Z"
        },
        "id": "e6d055aa",
        "outputId": "01231581-3fe2-40c4-99aa-f40b995ef07b"
      },
      "source": [
        "# 시각화\n",
        "\n",
        "eli5.show_weights(\n",
        "    permuter,\n",
        "    top=None,    # top n 지정가능\n",
        "    feature_names=feature_names\n",
        ")\n",
        "\n",
        "# weight(성능 감소량)가 양수의 값을 가지는 변수들은 모델에 큰 영향을 끼친다는 의미이기 때문에 중요한 feature라고 판단할 수 있습니다.\n",
        "# 반면 성능의 변화가 없거나(0), 음수의 값을 가지는 변수들은 모델에 큰 영향을 끼치지 못하는 \n",
        "# 즉 중요하지 않은 feature라고 판단할 수 있습니다."
      ],
      "id": "e6d055aa",
      "execution_count": null,
      "outputs": [
        {
          "data": {
            "text/html": [
              "\n",
              "    <style>\n",
              "    table.eli5-weights tr:hover {\n",
              "        filter: brightness(85%);\n",
              "    }\n",
              "</style>\n",
              "\n",
              "\n",
              "\n",
              "    \n",
              "\n",
              "    \n",
              "\n",
              "    \n",
              "\n",
              "    \n",
              "\n",
              "    \n",
              "\n",
              "    \n",
              "\n",
              "\n",
              "    \n",
              "\n",
              "    \n",
              "\n",
              "    \n",
              "\n",
              "    \n",
              "\n",
              "    \n",
              "\n",
              "    \n",
              "\n",
              "\n",
              "    \n",
              "\n",
              "    \n",
              "\n",
              "    \n",
              "\n",
              "    \n",
              "\n",
              "    \n",
              "        <table class=\"eli5-weights eli5-feature-importances\" style=\"border-collapse: collapse; border: none; margin-top: 0em; table-layout: auto;\">\n",
              "    <thead>\n",
              "    <tr style=\"border: none;\">\n",
              "        <th style=\"padding: 0 1em 0 0.5em; text-align: right; border: none;\">Weight</th>\n",
              "        <th style=\"padding: 0 0.5em 0 0.5em; text-align: left; border: none;\">Feature</th>\n",
              "    </tr>\n",
              "    </thead>\n",
              "    <tbody>\n",
              "    \n",
              "        <tr style=\"background-color: hsl(120, 100.00%, 80.00%); border: none;\">\n",
              "            <td style=\"padding: 0 1em 0 0.5em; text-align: right; border: none;\">\n",
              "                0.0714\n",
              "                \n",
              "                    &plusmn; 0.0047\n",
              "                \n",
              "            </td>\n",
              "            <td style=\"padding: 0 0.5em 0 0.5em; text-align: left; border: none;\">\n",
              "                doctor_recc_seasonal\n",
              "            </td>\n",
              "        </tr>\n",
              "    \n",
              "        <tr style=\"background-color: hsl(120, 100.00%, 85.79%); border: none;\">\n",
              "            <td style=\"padding: 0 1em 0 0.5em; text-align: right; border: none;\">\n",
              "                0.0438\n",
              "                \n",
              "                    &plusmn; 0.0034\n",
              "                \n",
              "            </td>\n",
              "            <td style=\"padding: 0 0.5em 0 0.5em; text-align: left; border: none;\">\n",
              "                opinion_seas_vacc_effective\n",
              "            </td>\n",
              "        </tr>\n",
              "    \n",
              "        <tr style=\"background-color: hsl(120, 100.00%, 86.43%); border: none;\">\n",
              "            <td style=\"padding: 0 1em 0 0.5em; text-align: right; border: none;\">\n",
              "                0.0410\n",
              "                \n",
              "                    &plusmn; 0.0032\n",
              "                \n",
              "            </td>\n",
              "            <td style=\"padding: 0 0.5em 0 0.5em; text-align: left; border: none;\">\n",
              "                opinion_seas_risk\n",
              "            </td>\n",
              "        </tr>\n",
              "    \n",
              "        <tr style=\"background-color: hsl(120, 100.00%, 95.78%); border: none;\">\n",
              "            <td style=\"padding: 0 1em 0 0.5em; text-align: right; border: none;\">\n",
              "                0.0077\n",
              "                \n",
              "                    &plusmn; 0.0028\n",
              "                \n",
              "            </td>\n",
              "            <td style=\"padding: 0 0.5em 0 0.5em; text-align: left; border: none;\">\n",
              "                agegrp\n",
              "            </td>\n",
              "        </tr>\n",
              "    \n",
              "        <tr style=\"background-color: hsl(120, 100.00%, 96.98%); border: none;\">\n",
              "            <td style=\"padding: 0 1em 0 0.5em; text-align: right; border: none;\">\n",
              "                0.0048\n",
              "                \n",
              "                    &plusmn; 0.0019\n",
              "                \n",
              "            </td>\n",
              "            <td style=\"padding: 0 0.5em 0 0.5em; text-align: left; border: none;\">\n",
              "                opinion_seas_sick_from_vacc\n",
              "            </td>\n",
              "        </tr>\n",
              "    \n",
              "        <tr style=\"background-color: hsl(120, 100.00%, 97.80%); border: none;\">\n",
              "            <td style=\"padding: 0 1em 0 0.5em; text-align: right; border: none;\">\n",
              "                0.0031\n",
              "                \n",
              "                    &plusmn; 0.0026\n",
              "                \n",
              "            </td>\n",
              "            <td style=\"padding: 0 0.5em 0 0.5em; text-align: left; border: none;\">\n",
              "                health_worker\n",
              "            </td>\n",
              "        </tr>\n",
              "    \n",
              "        <tr style=\"background-color: hsl(120, 100.00%, 97.94%); border: none;\">\n",
              "            <td style=\"padding: 0 1em 0 0.5em; text-align: right; border: none;\">\n",
              "                0.0028\n",
              "                \n",
              "                    &plusmn; 0.0020\n",
              "                \n",
              "            </td>\n",
              "            <td style=\"padding: 0 0.5em 0 0.5em; text-align: left; border: none;\">\n",
              "                health_insurance\n",
              "            </td>\n",
              "        </tr>\n",
              "    \n",
              "        <tr style=\"background-color: hsl(120, 100.00%, 98.83%); border: none;\">\n",
              "            <td style=\"padding: 0 1em 0 0.5em; text-align: right; border: none;\">\n",
              "                0.0012\n",
              "                \n",
              "                    &plusmn; 0.0043\n",
              "                \n",
              "            </td>\n",
              "            <td style=\"padding: 0 0.5em 0 0.5em; text-align: left; border: none;\">\n",
              "                education_comp\n",
              "            </td>\n",
              "        </tr>\n",
              "    \n",
              "        <tr style=\"background-color: hsl(0, 100.00%, 99.77%); border: none;\">\n",
              "            <td style=\"padding: 0 1em 0 0.5em; text-align: right; border: none;\">\n",
              "                -0.0001\n",
              "                \n",
              "                    &plusmn; 0.0025\n",
              "                \n",
              "            </td>\n",
              "            <td style=\"padding: 0 0.5em 0 0.5em; text-align: left; border: none;\">\n",
              "                household_children\n",
              "            </td>\n",
              "        </tr>\n",
              "    \n",
              "        <tr style=\"background-color: hsl(0, 100.00%, 99.66%); border: none;\">\n",
              "            <td style=\"padding: 0 1em 0 0.5em; text-align: right; border: none;\">\n",
              "                -0.0002\n",
              "                \n",
              "                    &plusmn; 0.0028\n",
              "                \n",
              "            </td>\n",
              "            <td style=\"padding: 0 0.5em 0 0.5em; text-align: left; border: none;\">\n",
              "                raceeth4_i\n",
              "            </td>\n",
              "        </tr>\n",
              "    \n",
              "        <tr style=\"background-color: hsl(0, 100.00%, 99.40%); border: none;\">\n",
              "            <td style=\"padding: 0 1em 0 0.5em; text-align: right; border: none;\">\n",
              "                -0.0005\n",
              "                \n",
              "                    &plusmn; 0.0025\n",
              "                \n",
              "            </td>\n",
              "            <td style=\"padding: 0 0.5em 0 0.5em; text-align: left; border: none;\">\n",
              "                inc_pov\n",
              "            </td>\n",
              "        </tr>\n",
              "    \n",
              "        <tr style=\"background-color: hsl(0, 100.00%, 99.21%); border: none;\">\n",
              "            <td style=\"padding: 0 1em 0 0.5em; text-align: right; border: none;\">\n",
              "                -0.0007\n",
              "                \n",
              "                    &plusmn; 0.0016\n",
              "                \n",
              "            </td>\n",
              "            <td style=\"padding: 0 0.5em 0 0.5em; text-align: left; border: none;\">\n",
              "                rent_own_r\n",
              "            </td>\n",
              "        </tr>\n",
              "    \n",
              "        <tr style=\"background-color: hsl(0, 100.00%, 98.77%); border: none;\">\n",
              "            <td style=\"padding: 0 1em 0 0.5em; text-align: right; border: none;\">\n",
              "                -0.0013\n",
              "                \n",
              "                    &plusmn; 0.0026\n",
              "                \n",
              "            </td>\n",
              "            <td style=\"padding: 0 0.5em 0 0.5em; text-align: left; border: none;\">\n",
              "                marital\n",
              "            </td>\n",
              "        </tr>\n",
              "    \n",
              "        <tr style=\"background-color: hsl(0, 100.00%, 98.72%); border: none;\">\n",
              "            <td style=\"padding: 0 1em 0 0.5em; text-align: right; border: none;\">\n",
              "                -0.0014\n",
              "                \n",
              "                    &plusmn; 0.0008\n",
              "                \n",
              "            </td>\n",
              "            <td style=\"padding: 0 0.5em 0 0.5em; text-align: left; border: none;\">\n",
              "                child_under_6_months\n",
              "            </td>\n",
              "        </tr>\n",
              "    \n",
              "        <tr style=\"background-color: hsl(0, 100.00%, 98.68%); border: none;\">\n",
              "            <td style=\"padding: 0 1em 0 0.5em; text-align: right; border: none;\">\n",
              "                -0.0015\n",
              "                \n",
              "                    &plusmn; 0.0029\n",
              "                \n",
              "            </td>\n",
              "            <td style=\"padding: 0 0.5em 0 0.5em; text-align: left; border: none;\">\n",
              "                behaviorals\n",
              "            </td>\n",
              "        </tr>\n",
              "    \n",
              "        <tr style=\"background-color: hsl(0, 100.00%, 98.64%); border: none;\">\n",
              "            <td style=\"padding: 0 1em 0 0.5em; text-align: right; border: none;\">\n",
              "                -0.0015\n",
              "                \n",
              "                    &plusmn; 0.0028\n",
              "                \n",
              "            </td>\n",
              "            <td style=\"padding: 0 0.5em 0 0.5em; text-align: left; border: none;\">\n",
              "                census_msa\n",
              "            </td>\n",
              "        </tr>\n",
              "    \n",
              "        <tr style=\"background-color: hsl(0, 100.00%, 98.59%); border: none;\">\n",
              "            <td style=\"padding: 0 1em 0 0.5em; text-align: right; border: none;\">\n",
              "                -0.0016\n",
              "                \n",
              "                    &plusmn; 0.0011\n",
              "                \n",
              "            </td>\n",
              "            <td style=\"padding: 0 0.5em 0 0.5em; text-align: left; border: none;\">\n",
              "                chronic_med_condition\n",
              "            </td>\n",
              "        </tr>\n",
              "    \n",
              "        <tr style=\"background-color: hsl(0, 100.00%, 98.51%); border: none;\">\n",
              "            <td style=\"padding: 0 1em 0 0.5em; text-align: right; border: none;\">\n",
              "                -0.0018\n",
              "                \n",
              "                    &plusmn; 0.0021\n",
              "                \n",
              "            </td>\n",
              "            <td style=\"padding: 0 0.5em 0 0.5em; text-align: left; border: none;\">\n",
              "                behavioral_touch_face\n",
              "            </td>\n",
              "        </tr>\n",
              "    \n",
              "        <tr style=\"background-color: hsl(0, 100.00%, 98.33%); border: none;\">\n",
              "            <td style=\"padding: 0 1em 0 0.5em; text-align: right; border: none;\">\n",
              "                -0.0021\n",
              "                \n",
              "                    &plusmn; 0.0016\n",
              "                \n",
              "            </td>\n",
              "            <td style=\"padding: 0 0.5em 0 0.5em; text-align: left; border: none;\">\n",
              "                behavioral_outside_home\n",
              "            </td>\n",
              "        </tr>\n",
              "    \n",
              "        <tr style=\"background-color: hsl(0, 100.00%, 98.27%); border: none;\">\n",
              "            <td style=\"padding: 0 1em 0 0.5em; text-align: right; border: none;\">\n",
              "                -0.0022\n",
              "                \n",
              "                    &plusmn; 0.0009\n",
              "                \n",
              "            </td>\n",
              "            <td style=\"padding: 0 0.5em 0 0.5em; text-align: left; border: none;\">\n",
              "                behavioral_avoidance\n",
              "            </td>\n",
              "        </tr>\n",
              "    \n",
              "        <tr style=\"background-color: hsl(0, 100.00%, 98.13%); border: none;\">\n",
              "            <td style=\"padding: 0 1em 0 0.5em; text-align: right; border: none;\">\n",
              "                -0.0024\n",
              "                \n",
              "                    &plusmn; 0.0010\n",
              "                \n",
              "            </td>\n",
              "            <td style=\"padding: 0 0.5em 0 0.5em; text-align: left; border: none;\">\n",
              "                behavioral_antiviral_meds\n",
              "            </td>\n",
              "        </tr>\n",
              "    \n",
              "        <tr style=\"background-color: hsl(0, 100.00%, 98.07%); border: none;\">\n",
              "            <td style=\"padding: 0 1em 0 0.5em; text-align: right; border: none;\">\n",
              "                -0.0025\n",
              "                \n",
              "                    &plusmn; 0.0022\n",
              "                \n",
              "            </td>\n",
              "            <td style=\"padding: 0 0.5em 0 0.5em; text-align: left; border: none;\">\n",
              "                behavioral_large_gatherings\n",
              "            </td>\n",
              "        </tr>\n",
              "    \n",
              "        <tr style=\"background-color: hsl(0, 100.00%, 98.05%); border: none;\">\n",
              "            <td style=\"padding: 0 1em 0 0.5em; text-align: right; border: none;\">\n",
              "                -0.0026\n",
              "                \n",
              "                    &plusmn; 0.0036\n",
              "                \n",
              "            </td>\n",
              "            <td style=\"padding: 0 0.5em 0 0.5em; text-align: left; border: none;\">\n",
              "                n_people_r\n",
              "            </td>\n",
              "        </tr>\n",
              "    \n",
              "        <tr style=\"background-color: hsl(0, 100.00%, 98.00%); border: none;\">\n",
              "            <td style=\"padding: 0 1em 0 0.5em; text-align: right; border: none;\">\n",
              "                -0.0027\n",
              "                \n",
              "                    &plusmn; 0.0021\n",
              "                \n",
              "            </td>\n",
              "            <td style=\"padding: 0 0.5em 0 0.5em; text-align: left; border: none;\">\n",
              "                behavioral_wash_hands\n",
              "            </td>\n",
              "        </tr>\n",
              "    \n",
              "        <tr style=\"background-color: hsl(0, 100.00%, 97.87%); border: none;\">\n",
              "            <td style=\"padding: 0 1em 0 0.5em; text-align: right; border: none;\">\n",
              "                -0.0029\n",
              "                \n",
              "                    &plusmn; 0.0018\n",
              "                \n",
              "            </td>\n",
              "            <td style=\"padding: 0 0.5em 0 0.5em; text-align: left; border: none;\">\n",
              "                state\n",
              "            </td>\n",
              "        </tr>\n",
              "    \n",
              "        <tr style=\"background-color: hsl(0, 100.00%, 97.86%); border: none;\">\n",
              "            <td style=\"padding: 0 1em 0 0.5em; text-align: right; border: none;\">\n",
              "                -0.0029\n",
              "                \n",
              "                    &plusmn; 0.0028\n",
              "                \n",
              "            </td>\n",
              "            <td style=\"padding: 0 0.5em 0 0.5em; text-align: left; border: none;\">\n",
              "                sex_i\n",
              "            </td>\n",
              "        </tr>\n",
              "    \n",
              "        <tr style=\"background-color: hsl(0, 100.00%, 97.80%); border: none;\">\n",
              "            <td style=\"padding: 0 1em 0 0.5em; text-align: right; border: none;\">\n",
              "                -0.0031\n",
              "                \n",
              "                    &plusmn; 0.0015\n",
              "                \n",
              "            </td>\n",
              "            <td style=\"padding: 0 0.5em 0 0.5em; text-align: left; border: none;\">\n",
              "                behavioral_face_mask\n",
              "            </td>\n",
              "        </tr>\n",
              "    \n",
              "        <tr style=\"background-color: hsl(0, 100.00%, 97.78%); border: none;\">\n",
              "            <td style=\"padding: 0 1em 0 0.5em; text-align: right; border: none;\">\n",
              "                -0.0031\n",
              "                \n",
              "                    &plusmn; 0.0025\n",
              "                \n",
              "            </td>\n",
              "            <td style=\"padding: 0 0.5em 0 0.5em; text-align: left; border: none;\">\n",
              "                census_region\n",
              "            </td>\n",
              "        </tr>\n",
              "    \n",
              "        <tr style=\"background-color: hsl(0, 100.00%, 97.77%); border: none;\">\n",
              "            <td style=\"padding: 0 1em 0 0.5em; text-align: right; border: none;\">\n",
              "                -0.0031\n",
              "                \n",
              "                    &plusmn; 0.0031\n",
              "                \n",
              "            </td>\n",
              "            <td style=\"padding: 0 0.5em 0 0.5em; text-align: left; border: none;\">\n",
              "                hhs_region\n",
              "            </td>\n",
              "        </tr>\n",
              "    \n",
              "        <tr style=\"background-color: hsl(0, 100.00%, 97.57%); border: none;\">\n",
              "            <td style=\"padding: 0 1em 0 0.5em; text-align: right; border: none;\">\n",
              "                -0.0035\n",
              "                \n",
              "                    &plusmn; 0.0022\n",
              "                \n",
              "            </td>\n",
              "            <td style=\"padding: 0 0.5em 0 0.5em; text-align: left; border: none;\">\n",
              "                n_adult_r\n",
              "            </td>\n",
              "        </tr>\n",
              "    \n",
              "    \n",
              "    </tbody>\n",
              "</table>\n",
              "    \n",
              "\n",
              "    \n",
              "\n",
              "\n",
              "    \n",
              "\n",
              "    \n",
              "\n",
              "    \n",
              "\n",
              "    \n",
              "\n",
              "    \n",
              "\n",
              "    \n",
              "\n",
              "\n",
              "\n"
            ],
            "text/plain": [
              "<IPython.core.display.HTML object>"
            ]
          },
          "execution_count": 27,
          "metadata": {},
          "output_type": "execute_result"
        }
      ]
    },
    {
      "cell_type": "markdown",
      "metadata": {
        "id": "afcb3d52"
      },
      "source": [
        "### 직접 계산하기"
      ],
      "id": "afcb3d52"
    },
    {
      "cell_type": "code",
      "metadata": {
        "ExecuteTime": {
          "end_time": "2021-08-30T10:39:35.918903Z",
          "start_time": "2021-08-30T10:39:16.604Z"
        },
        "id": "0227be52"
      },
      "source": [
        "# 변경할 특성 선택\n",
        "feature = 'opinion_seas_risk'\n",
        "X_val[feature].reset_index()"
      ],
      "id": "0227be52",
      "execution_count": null,
      "outputs": []
    },
    {
      "cell_type": "code",
      "metadata": {
        "ExecuteTime": {
          "end_time": "2021-08-30T10:39:35.923889Z",
          "start_time": "2021-08-30T10:39:16.607Z"
        },
        "id": "45240779"
      },
      "source": [
        "# 특성분포 확인\n",
        "X_val[feature].value_counts()"
      ],
      "id": "45240779",
      "execution_count": null,
      "outputs": []
    },
    {
      "cell_type": "code",
      "metadata": {
        "ExecuteTime": {
          "end_time": "2021-08-30T10:39:35.925884Z",
          "start_time": "2021-08-30T10:39:16.610Z"
        },
        "id": "bd4b4d5c"
      },
      "source": [
        "# 특성 값 무작위로 섞기.\n",
        "X_val_permuted = X_val.copy()\n",
        "X_val_permuted[feature] = np.random.RandomState(seed=10).permutation(X_val_permuted[feature])\n",
        "\n",
        "# numpy.random.permutation() : 무작위로 섞인 배열을 만든다. https://numpy.org/doc/1.16/reference/generated/numpy.random.RandomState.html\n",
        "# https://mongxmongx2.tistory.com/11\n",
        "# 삼성 trio500 키보드 타건감이 별로양"
      ],
      "id": "bd4b4d5c",
      "execution_count": null,
      "outputs": []
    },
    {
      "cell_type": "code",
      "metadata": {
        "ExecuteTime": {
          "end_time": "2021-08-30T10:39:35.928878Z",
          "start_time": "2021-08-30T10:39:16.614Z"
        },
        "id": "bd1562e1"
      },
      "source": [
        "# 특성값 순서 확인 : 뒤죽박죽\n",
        "X_val_permuted[feature].reset_index()"
      ],
      "id": "bd1562e1",
      "execution_count": null,
      "outputs": []
    },
    {
      "cell_type": "code",
      "metadata": {
        "ExecuteTime": {
          "end_time": "2021-08-30T10:39:35.930871Z",
          "start_time": "2021-08-30T10:39:16.617Z"
        },
        "id": "6bb83cd5"
      },
      "source": [
        "# 카테고리 분포는 바뀌지 않았음 확인\n",
        "X_val_permuted[feature].value_counts()"
      ],
      "id": "6bb83cd5",
      "execution_count": null,
      "outputs": []
    },
    {
      "cell_type": "code",
      "metadata": {
        "ExecuteTime": {
          "end_time": "2021-08-30T10:39:35.932864Z",
          "start_time": "2021-08-30T10:39:16.620Z"
        },
        "id": "b2dd18fc"
      },
      "source": [
        "# 순열중요도 확인\n",
        "score_permuted = pipe.score(X_val_permuted, y_val)\n",
        "\n",
        "print(f'검증정확도 ({feature}): {score_with}')\n",
        "print(f'검증정확도 (permuted \"{feature}\"):{score_permuted}')\n",
        "print(f'순열중요도: {score_with - score_permuted}')"
      ],
      "id": "b2dd18fc",
      "execution_count": null,
      "outputs": []
    },
    {
      "cell_type": "markdown",
      "metadata": {
        "id": "6d8835e1"
      },
      "source": [
        "### feature selection"
      ],
      "id": "6d8835e1"
    },
    {
      "cell_type": "code",
      "metadata": {
        "ExecuteTime": {
          "end_time": "2021-08-30T11:43:14.244288Z",
          "start_time": "2021-08-30T11:43:14.223246Z"
        },
        "id": "8eabf71f",
        "outputId": "7f102a92-eaca-4fd4-9f47-f4d87232c282"
      },
      "source": [
        "# 특성삭제 전\n",
        "X_train.shape, X_val.shape"
      ],
      "id": "8eabf71f",
      "execution_count": null,
      "outputs": [
        {
          "data": {
            "text/plain": [
              "((33723, 30), (8431, 30))"
            ]
          },
          "execution_count": 29,
          "metadata": {},
          "output_type": "execute_result"
        }
      ]
    },
    {
      "cell_type": "code",
      "metadata": {
        "ExecuteTime": {
          "end_time": "2021-08-30T11:56:00.283784Z",
          "start_time": "2021-08-30T11:56:00.265744Z"
        },
        "id": "59bea0e4"
      },
      "source": [
        "# 정확도 0.001을 기준으로 하여\n",
        "minimum_importance = 0.001\n",
        "mask = permuter.feature_importances_>minimum_importance\n",
        "features = X_train.columns[mask]\n",
        "X_train_selected = X_train[features]\n",
        "X_val_selected = X_val[features]"
      ],
      "id": "59bea0e4",
      "execution_count": null,
      "outputs": []
    },
    {
      "cell_type": "code",
      "metadata": {
        "ExecuteTime": {
          "end_time": "2021-08-30T12:07:10.380980Z",
          "start_time": "2021-08-30T12:07:10.358479Z"
        },
        "id": "dd7602a7",
        "outputId": "54b5560f-f325-482d-b6fd-751d106c3cdd"
      },
      "source": [
        "permuter.feature_importances_"
      ],
      "id": "dd7602a7",
      "execution_count": null,
      "outputs": [
        {
          "data": {
            "text/plain": [
              "array([-0.00241964, -0.0021587 , -0.00306014, -0.00265686, -0.00253825,\n",
              "       -0.00206381, -0.00175543,  0.07142688, -0.00161309, -0.0013996 ,\n",
              "        0.00277547,  0.00306014,  0.04381449,  0.04103902,  0.00479184,\n",
              "        0.00773336,  0.00123354, -0.0002135 , -0.00294153, -0.00047444,\n",
              "       -0.00132843, -0.00071166, -0.00308386, -0.00154193, -0.00351085,\n",
              "       -0.00011861, -0.00256197, -0.00310758, -0.0029178 , -0.00147076])"
            ]
          },
          "execution_count": 43,
          "metadata": {},
          "output_type": "execute_result"
        }
      ]
    },
    {
      "cell_type": "code",
      "metadata": {
        "ExecuteTime": {
          "end_time": "2021-08-30T11:56:50.629115Z",
          "start_time": "2021-08-30T11:56:50.614621Z"
        },
        "id": "15b5ba07",
        "outputId": "f84846aa-86d0-4dd2-9e2e-dee8b6791b3e"
      },
      "source": [
        "# 특성삭제 후\n",
        "X_train_selected.shape, X_val_selected.shape"
      ],
      "id": "15b5ba07",
      "execution_count": null,
      "outputs": [
        {
          "data": {
            "text/plain": [
              "((33723, 8), (8431, 8))"
            ]
          },
          "execution_count": 34,
          "metadata": {},
          "output_type": "execute_result"
        }
      ]
    },
    {
      "cell_type": "code",
      "metadata": {
        "ExecuteTime": {
          "end_time": "2021-08-30T12:03:21.814604Z",
          "start_time": "2021-08-30T12:03:20.542421Z"
        },
        "id": "da3b829f",
        "outputId": "00e7ec09-d5e2-4789-934d-9d77376f12d6"
      },
      "source": [
        "# 이제 pipeline 다시 정의\n",
        "\n",
        "pipe1 = Pipeline([\n",
        "    ('preprocessing', make_pipeline(OrdinalEncoder(), SimpleImputer())),\n",
        "    ('rf', RandomForestClassifier(n_estimators=100, random_state=2, n_jobs=-1))\n",
        "], verbose=1) #verbose : True이면 각 단계를 맞추는 동안 경과된 시간이 완료되는 대로 인쇄됩니다\n",
        "\n",
        "pipe1.fit(X_train_selected, y_train);"
      ],
      "id": "da3b829f",
      "execution_count": null,
      "outputs": [
        {
          "name": "stdout",
          "output_type": "stream",
          "text": [
            "[Pipeline] ..... (step 1 of 2) Processing preprocessing, total=   0.1s\n",
            "[Pipeline] ................ (step 2 of 2) Processing rf, total=   1.1s\n"
          ]
        }
      ]
    },
    {
      "cell_type": "code",
      "metadata": {
        "ExecuteTime": {
          "end_time": "2021-08-30T12:04:26.719092Z",
          "start_time": "2021-08-30T12:04:26.566502Z"
        },
        "id": "ab8be149",
        "outputId": "d51a94ba-9531-4e3e-96e4-f46022bc3e9f"
      },
      "source": [
        "print('검증 정확도 :' , pipe1.score(X_val_selected,y_val))"
      ],
      "id": "ab8be149",
      "execution_count": null,
      "outputs": [
        {
          "name": "stdout",
          "output_type": "stream",
          "text": [
            "검증 정확도 : 0.7513936662317637\n"
          ]
        }
      ]
    },
    {
      "cell_type": "code",
      "metadata": {
        "ExecuteTime": {
          "end_time": "2021-08-30T12:05:51.209437Z",
          "start_time": "2021-08-30T12:05:51.201458Z"
        },
        "id": "734746b4",
        "outputId": "fa1ce32c-1308-42e1-a2ff-0e88de84ce86"
      },
      "source": [
        "# 순열 중요도의 평균 감소값과 그 표준편차의 차가 양수인 특징 확인하기\n",
        "\n",
        "permuter.feature_importances_ - permuter.feature_importances_std_ >0"
      ],
      "id": "734746b4",
      "execution_count": null,
      "outputs": [
        {
          "data": {
            "text/plain": [
              "array([False, False, False, False, False, False, False,  True, False,\n",
              "       False,  True,  True,  True,  True,  True,  True, False, False,\n",
              "       False, False, False, False, False, False, False, False, False,\n",
              "       False, False, False])"
            ]
          },
          "execution_count": 42,
          "metadata": {},
          "output_type": "execute_result"
        }
      ]
    }
  ]
}