{
  "nbformat": 4,
  "nbformat_minor": 0,
  "metadata": {
    "colab": {
      "name": "ADT(추상자료형)과 자료구조.ipynb",
      "provenance": [],
      "toc_visible": true,
      "authorship_tag": "ABX9TyNsHFJ0zNn5F5yF68ZR/QCl",
      "include_colab_link": true
    },
    "kernelspec": {
      "name": "python3",
      "display_name": "Python 3"
    },
    "language_info": {
      "name": "python"
    }
  },
  "cells": [
    {
      "cell_type": "markdown",
      "metadata": {
        "id": "view-in-github",
        "colab_type": "text"
      },
      "source": [
        "<a href=\"https://colab.research.google.com/github/dagyeom23658/Python_Practice/blob/main/ADT(%EC%B6%94%EC%83%81%EC%9E%90%EB%A3%8C%ED%98%95)%EA%B3%BC_%EC%9E%90%EB%A3%8C%EA%B5%AC%EC%A1%B0.ipynb\" target=\"_parent\"><img src=\"https://colab.research.google.com/assets/colab-badge.svg\" alt=\"Open In Colab\"/></a>"
      ]
    },
    {
      "cell_type": "markdown",
      "metadata": {
        "id": "gnkdWWvR0Dpy"
      },
      "source": [
        "배열 : 값이 고정되어 있고,\n",
        "데이터를 추가, 제거하려면 새로 하나를 만들고 기존의 데이터를 복사해ㅗㅇㄴ다. \n",
        "\n",
        "\n",
        "크기를 미리 지정하고, 메모리에 값을 연속적으로 저장을 시ㅕ준다. \n",
        "(정적배열)\n",
        "\n",
        "메모리 효율이 더 안좋다. \n",
        "\n",
        "40:00\n",
        "\n",
        "\n"
      ]
    },
    {
      "cell_type": "markdown",
      "metadata": {
        "id": "OWlpzOI81Twg"
      },
      "source": [
        "기술면접 : 큐와 스택의 차이점에 대해서 잘 나옴. 구체적으로 길게 얘기할 수 있게. "
      ]
    },
    {
      "cell_type": "markdown",
      "metadata": {
        "id": "Y3XC8SlssRm1"
      },
      "source": [
        "# 자료구조\n",
        "\n",
        "- 자료(데이터)를 쉽게 관리하기 위해 다양한 구조로 묶는 것.\n",
        "- 데이터 특성을 파악하여 미리 정해놓은 일정한 규칙에 따라서 체계적으로 데이터를 구조화시키고 표현하는 것.\n",
        "- 자료구조는 추상자료형에서 시작되었다. \n",
        "\n",
        "# 추상화란\n",
        "- 추상화란 미리 정해놓은 일정한 규칙 이라고 할수 있음.\n",
        "- 핵심 개념이나 기능을 간추려내는 것 => 일반화\n",
        "\n",
        "\n",
        "# 추상자료형이란(Abstract Data Type) ADT\n",
        "- 핵심기능, 자료형을 간추려낸 것. 구조의 행동양식만 정의한 것. \n",
        "- 사용설명서, 설계도랑 비슷..\n",
        "- 기능의 구체적인 구현은 언급하지 않고, 순수하게 어떤 기능들이 있는지 나열하는 것.\n",
        "- 추상화(개념의 일반화)를 통해 정의된다. \n",
        "- 무엇인지는 정의하지만 어떻게 구현하는지는 얘기하지 않는다. \n",
        "\n",
        "- 추상자료형은 왜 사용하나?(필요성) : 구현자와 사용자를 분리해준다. \n",
        "- 왜 분리하나? 사용자들이 이미 구현된 것을 가져다쓸때 구현방법이나 내부코드를 신경쓰지 않아도 되고 쉽게 구현할 수 있게 해준다. (자료구조의 이름만 읽고 내부구조를 생각하지 않아도 된다.)\n"
      ]
    },
    {
      "cell_type": "code",
      "metadata": {
        "id": "oxF6HBtvsk6v"
      },
      "source": [
        "AI_05_황찬희님이 모두에게 11:04 AM\n",
        "다보긴했습니다.\n",
        "효율적인 접근 및 수정\n",
        "AI_05_김희영님이 모두에게 11:04 AM\n",
        "자료 구조는 데이터 값의 모임, 또 데이터 간의 관계, 그리고 데이터에 적용할 수 있는 함수나 명령을 의미한다.\n",
        "AI_05_박민석님이 모두에게 11:04 AM\n",
        "대량의 데이터를 효율적으로 관리하기 위한 다양한 자료의 형태\n",
        "내가 모두에게 11:04 AM\n",
        "자료를 쉽게 관리하기 위해 다양한 구조로 묶는 것\n",
        "AI_05_김형진님이 모두에게 11:05 AM\n",
        "컴퓨터 내부적으로 데이터를 효율적으로 잘 다루기 위한 하나의 틀. 데이터의 특성을 파악하고 미리 정해놓은 일정한 규칙에 따라 체계적으로 데이터를 구조화, 표현하는 것\n",
        "AI_05_박예은님이 모두에게 11:05 AM\n",
        "현실 세계에서 반복되어 나타나는 어떤 현상 / 데이터를 컴퓨터가 잘 이해할 수 있는 방식으로 가공하는 다양한 방법들.\n",
        "AI_05_허성호님이 모두에게 11:05 AM\n",
        "자료구조란 적은데이터에서 사용이 되기보다는 많은 데이터를 효율적으로 유지보수하기위한 형태.\n",
        "AI_05 _윤혜림님이 모두에게 11:05 AM\n",
        "자료구조는 자료를 효과적으로 분류할수있는 특정 형태이다\n",
        "AI_05_이상아님이 모두에게 11:06 AM\n",
        "데이터를 구조적(효율적)으로 관리하기 필요한 알고리즘을 사용하는 것\n",
        "AI_05_김권찬님이 모두에게 11:06 AM\n",
        "메모리에 자료를 옮겨서 사용하는데 이를 효율적으로 관리하기 위한 구조\n",
        "AI_05_노지훈님이 모두에게 11:06 AM\n",
        "자료 구조란 자료에 대한 접근과 관리를 쉽게 하기위한 자료의 조직,관리 등을 의미한다. 보다 효율적인 알고리즘을 사용할 수 있게 해준다.\n",
        "AI_05_이영민님이 모두에게 11:06 AM\n",
        "데이터를 효율적으로 관리하기위해 사용하는 방법\n"
      ],
      "execution_count": null,
      "outputs": []
    },
    {
      "cell_type": "markdown",
      "metadata": {
        "id": "fqEM6_pUmZvh"
      },
      "source": [
        "# ADT(Abstract Data Type) 추상자료형\n",
        "\n",
        "* 컴퓨터 과학에서 추상화(abstraction)는 복잡한 자료, 모듈, 시스템 등으로부터 핵심적인 개념 또는 기능을 간추려 내는 것을 말한다.\n",
        "\n",
        "* 추상적 자료형(Abstract Data Type, 줄여서 ADT)은 컴퓨터 과학에서 자료들과 그 자료들에 대한 연산들을 명기한 것이다. 추상적 자료형은 구현 방법을 명시하고 있지 않다는 점에서 자료 구조와 다르다. \n",
        "\n",
        "- 기능의 구현 부분을 나타내지 않고 순수한 기능이 무엇인지 나열한 것을 추상 자료형이라고 한다.\n",
        "\n",
        "- 예를 들면, 사용 설명서와 같다. 선풍기의 사용 설명서를 본다고 가정하자. 사용 설명서에는 정지, 미풍, 약풍, 강풍, 회전, 타이머등의 기능 설명과 사용 방법이 나와있다. 하지만 버튼을 눌렀을 때 선풍기 내부회로에서 어떤 일이 발생하는지에 대해서는 전혀 나와있지 않다. 추상 자료형은 선풍기의 사용 설명서와 같이 기능과 사용 방법을 정의한 것이다.\n",
        "\n",
        "- 추상 자료형은 구현자와 사용자를 분리해 준다. 라이브러리를 가져다 쓰거나 내장 함수를 사용하는 것도 추상 자료형이 정의되어 있기 때문이다. 또한 추상 자료형에 대한 구현은 외부로 부터 숨겨져 정보 은닉(Information Hiding)이 이루어지게 된다.\n",
        "\n",
        "출처: https://ledgku.tistory.com/41 [블로그]\n",
        "\n",
        "- ADT는 추상적으로 필요한 기능을 나열한 일종의 명세서(로직)이다.\n",
        "\n",
        "- ADT는 기본자료형(대표적으로 리스트, 숫자, 문자열)을 활용하여 사용자에 의해 구현된다."
      ]
    },
    {
      "cell_type": "code",
      "metadata": {
        "id": "KuXuXSRIs_Xr"
      },
      "source": [
        "# oop --> 추상화라는 용어가 나왔다.\n",
        "추상화 : 핵심기능이나 개념을 간추려내는 것.\n",
        "개념을 만들어내는 과정 또는 개념을 일반화하는 것."
      ],
      "execution_count": null,
      "outputs": []
    },
    {
      "cell_type": "markdown",
      "metadata": {
        "id": "_ucq-ICxt3LL"
      },
      "source": [
        "기본자료형, 자료구조, 추상자료형 관계???"
      ]
    },
    {
      "cell_type": "markdown",
      "metadata": {
        "id": "CVVYxR-dLH32"
      },
      "source": [
        "자료구조를 배우는 목적 : 현실을 프로그래밍적으로 표현하는 것.\n",
        "큰 데이터를 효과적으로 관리하는 것.\n",
        "\n",
        "https://ko.wikipedia.org/wiki/%EC%9E%90%EB%A3%8C_%EA%B5%AC%EC%A1%B0\n",
        "\n",
        "# 자료구조 & 추상자료형의 관계  \n",
        "https://questionet.tistory.com/36\n",
        "\n",
        "https://namu.wiki/w/%EC%9E%90%EB%A3%8C%EA%B5%AC%EC%A1%B0\n",
        "\n",
        "추상적 자료형은 알고리즘이 문제를 해결하는데 필요한 자료의 형태와 자료를 사용한 연산들을 수학적으로 정의한 모델이다. 그리고 자료구조는 추상적 자료형이 정의한 연산들을 구현한 구현체를 가리키는 말이다. 스택의 예를 들면, 함수 호출을 관리하기 위해 후입선출의 성질을 가진 추상적 자료형이 필요하니 pop과 push를 가지도록 스택이라는 추상적 자료형을 정의하고, 그것을 구현해서 함수 호출을 관리하는데 사용하는 구현체, 즉 자료구조를 콜 스택이라고 부르는 것이다.\n",
        "\n",
        "자신이 프로그래머가 되고 싶다면 최소한 연결 리스트와 이진 트리는 평생 머릿속에 담아두고 있어야 한다. 이 두 자료구조를 이해하지 못하면 스스로 알고리즘을 설계하는 데 엄청난 애로사항이 꽃핀다.\n",
        "\n",
        "https://gbsb.tistory.com/306\n",
        "\n",
        "자료구조 : \n",
        "https://dodeon.gitbook.io/study/interview/algorithm\n",
        "\n",
        "https://wikidocs.net/33825\n",
        "\n",
        "https://baileyworld.tistory.com/16\n",
        "\n",
        "https://movefast.tistory.com/14\n",
        "\n",
        "ADT는 기본자료형(대표적으로 리스트, 숫자, 문자열)을 활용하여 사용자에 의해 구현된다.\n",
        "\n",
        "https://velog.io/@jha0402/Data-structure-%EA%B0%9C%EB%B0%9C%EC%9E%90%EB%9D%BC%EB%A9%B4-%EA%BC%AD-%EC%95%8C%EC%95%84%EC%95%BC-%ED%95%A0-7%EA%B0%80%EC%A7%80-%EC%9E%90%EB%A3%8C%EA%B5%AC%EC%A1%B0\n",
        "\n",
        "https://helloworld-88.tistory.com/82"
      ]
    },
    {
      "cell_type": "markdown",
      "metadata": {
        "id": "buohKuE1sQkN"
      },
      "source": [
        ""
      ]
    },
    {
      "cell_type": "markdown",
      "metadata": {
        "id": "zchRRMpXuA4p"
      },
      "source": [
        "## linked-list(연결리스트)\n",
        "\n",
        "영상 안보면 절대 이해못함.\n",
        "\n",
        "- 개념 : https://www.youtube.com/watch?v=79OmVgeNoUY\n",
        "- 코드구현 : \n",
        "https://www.youtube.com/watch?v=dA8F4SPMnb0\n",
        "\n",
        "https://www.youtube.com/watch?v=ttkVpae9Xz8\n",
        "\n",
        "https://www.youtube.com/watch?v=wd3utYBTdMk\n",
        "\n",
        "https://www.youtube.com/watch?v=3h7jQlxTeiU\n",
        "\n",
        "\n",
        "///\n",
        "\n",
        "https://daimhada.tistory.com/72\n",
        "\n",
        "https://velog.io/@jha0402/Data-structure-%EA%B0%9C%EB%B0%9C%EC%9E%90%EB%9D%BC%EB%A9%B4-%EA%BC%AD-%EC%95%8C%EC%95%84%EC%95%BC-%ED%95%A0-7%EA%B0%80%EC%A7%80-%EC%9E%90%EB%A3%8C%EA%B5%AC%EC%A1%B0\n",
        "\n",
        "연결리스트는 말 그대로 리스트들을 '연결'해준다.\n",
        "\n",
        "연결은 프로그래밍에서 참조의 기능으로 구현되고, 연결리스트는 리스트의 길이를 별도로 지정해줄 필요없다.\n",
        "\n",
        "위에서 보는 것처럼 연결리스트는 별도의 인덱스를 지정할 필요없이 연결되는 구조이다.\n",
        "\n",
        "\n",
        "배열은 요소를 직접 접근하여 저장하고 인덱스를 활용한다.\n",
        "\n",
        "연결리스트의 각 요소는 참조하는 노드에 저장된다.\n",
        "\n",
        "각 노드는 연결리스트의 다음 노드에 대해 참조(또는 '포인터')를 한다.\n",
        "\n",
        "참조기호 : .으로 지칭한다.\n",
        "\n",
        "삽입, 할당기호 : = 로 표현한다.\n",
        "\n",
        "\n",
        "- 호옥시 파이썬 함수에 인수값넣을 때 이런식으로 node:ListNode 가 되는건 node=ListNode랑 같은건가요?? (ListNode는 클래스에요..) : 파이썬 타입힌트"
      ]
    },
    {
      "cell_type": "markdown",
      "metadata": {
        "id": "Qvg24G3ewB-r"
      },
      "source": [
        "세 가지 종류가 있음.\n",
        "- singlY(단방향 연결리스트)\n",
        "- doubly(양방향 연결리스트)\n",
        "- 원형 연결리스트 : tail의 next에 head 정보가 들어간다. (singly, doubly)\n",
        "\n",
        "+ 값을 추가, 제거할 때 연결리스트는 O(n)\n",
        "+ 값을 검색할 때 최선 O(1), 최악O(n)\n"
      ]
    },
    {
      "cell_type": "code",
      "metadata": {
        "id": "09sTpF_ZCL0_"
      },
      "source": [
        "# 연결리스트 구현하기 위해서는? 의사코드를 작성\n",
        "1. 노드\n",
        "    1-1. 값(value) = value\n",
        "    1-2. 포인터(next) = None (head에서는 다음노드 정보가 없다.)\n",
        "2. 연결리스트\n",
        "    2-1. 헤드 정의 => 노드(값) 으로 생성자를 만든다.\n",
        "3. 추가기능:\n",
        "    3-1. 헤드가 존재하는지 안하는지\n",
        "    3-1-1.헤드가 존재하지 않는다면?\n",
        "        헤드 = 노드(값) 으로 값 추가\n",
        "    3-1-2.헤드가 존재한다면\n",
        "        현재노드 => 헤드\n",
        "        반복문(다음 노드가 없을때까지 --> value가 None값이 나올때까지.)(검색하는 과정이 필요하므로)\n",
        "            현재 노드를 포인터를 통해 다음 노트로 지정해준다. (node=node.next)\n",
        "        None값을 찾으면 포인터에 다음 노드의 위치 정보를 추가한다. (node.next = Node(value))\n",
        "        \n",
        "4. 삭제기능:\n",
        "    4-1. 헤드가 존재하는지 안하는지 확인\n",
        "        만약 헤드가 존재하지 않는다면... => '큐에 값이 존재하지 않습니다.' 출력 or None 반환\n",
        "        헤드가 삭제 대상일 때\n",
        "            헤드를 삭제 => 다음 노드가 헤드가 된다.\n",
        "            헤드를 삭제한다.\n",
        "        헤드가 삭제 대상이 아닐 때\n",
        "            현재 노드 => 헤드\n",
        "            반복문(다음 노드가 없을 때까지)\n",
        "                다음 노드 정보를 확인함\n",
        "                    (조건문) 이것이 삭제 대상인지\n",
        "                        다음 노드를 다다음 노드로 지정\n",
        "                        다음 노드 삭제\n",
        "                    (조건문) 삭제 대상 아닌지\n",
        "                        다음 노드로 넘어가기"
      ],
      "execution_count": null,
      "outputs": []
    },
    {
      "cell_type": "code",
      "metadata": {
        "id": "yCgD9ojhmzeE"
      },
      "source": [
        "class Node:\n",
        "    def __init__(self, value=None):\n",
        "        self.value = value\n",
        "        self.next = None\n",
        "\n",
        "class linked_list:\n",
        "    def __init__(self, value=None):\n",
        "        self.head = Node(value)   # ★ 여기서 이미 head를 생성했는데, 아래에 head가 None일 수가 있나?\n",
        "    \n",
        "    def add_node(self, value):\n",
        "        if self.head == None:\n",
        "            self.head = Node(value)  # 여기서 아무리 할당을 해줘도, __init__에서 부여한 head값이 변하진 않을텐데... 위에서 head가 None이였다면 여기서 할당을 해도 head는 None 아닌가?\n",
        "        else:\n",
        "            node = self.head    # ★ 변수에 클래스 인스턴스를 할당을 했는데, 변수의 값이 변하니까 인스턴스값까지 같이 변해버리네..?\n",
        "            while node.next:\n",
        "                node = node.next\n",
        "            node.next = Node(value)\n",
        "\n",
        "    # 연결리스트의 삭제구현\n",
        "    def del_node(self, value):\n",
        "        if self.head == None:\n",
        "            return None\n",
        "        elif self.head.value == value:\n",
        "            self.head = self.head.next   # 만약에 next값이 없다면 어떻게 되는거지??  # 변경된 노드를 삭제하는 게 맞는건가?\n",
        "        \n",
        "        else:\n",
        "            node = self.head\n",
        "            while node:\n",
        "                if node.next.value == value:\n",
        "                    node.next = node.next.next\n",
        "                else:\n",
        "                    node = node.next\n"
      ],
      "execution_count": 46,
      "outputs": []
    },
    {
      "cell_type": "code",
      "metadata": {
        "id": "G_WNnYs1uUSh"
      },
      "source": [
        "class A:\n",
        "    def __init__(self, value=None):\n",
        "        self.value = value\n",
        "        self.next = None\n",
        "class B:\n",
        "    def __init__(self):\n",
        "        self.head = 2   # ★ 여기서 이미 head를 생성했는데, 아래에 head가 None일 수가 있나?\n",
        "    \n",
        "    def add_node(self):\n",
        "        self.head = 1"
      ],
      "execution_count": 53,
      "outputs": []
    },
    {
      "cell_type": "code",
      "metadata": {
        "colab": {
          "base_uri": "https://localhost:8080/"
        },
        "id": "z0hZNo7tuwyV",
        "outputId": "4d993778-ebf0-4a55-8f14-500498fb5992"
      },
      "source": [
        "b = B()\n",
        "b.head"
      ],
      "execution_count": 54,
      "outputs": [
        {
          "output_type": "execute_result",
          "data": {
            "text/plain": [
              "2"
            ]
          },
          "metadata": {},
          "execution_count": 54
        }
      ]
    },
    {
      "cell_type": "code",
      "metadata": {
        "id": "RwZ-HdmPov0F"
      },
      "source": [
        "no =Node()\n",
        "li =linked_list()\n",
        "li.add_node(10)\n",
        "li.add_node(11)\n",
        "li.head.value"
      ],
      "execution_count": 52,
      "outputs": []
    },
    {
      "cell_type": "markdown",
      "metadata": {
        "id": "aHM6bQKGmzqB"
      },
      "source": [
        "### 연습"
      ]
    },
    {
      "cell_type": "code",
      "metadata": {
        "id": "c7gnkotAwKMZ"
      },
      "source": [
        "# 연결리스트의 노드를 저장하는 첫 단계\n",
        "\n",
        "class Node:\n",
        "    def __init__(self, value, next=None):\n",
        "        self.value = value  # 노드의 값을 나타내는 value\n",
        "        self.next = next    # 노드의 다음위치를 가리키는 next의 초기값은 None\n",
        "\n",
        "class linked_list:\n",
        "    def __init__(self, valu):\n",
        "        self.head = Node(valu)  # 초기 클래스에 head 노드 선언. 인스턴스에 클래스를 할당한다. 이제 class linked_list내의 인스턴스다. \n",
        "\n",
        "    def add_node(value):   # self가 없는건, 클래스 자체의 속성을 의미함. 클래스 속성은 클래스에 속해 있으며 모든 인스턴스에서 공유합니다. 클래스속성&인스턴스속성 https://dojang.io/mod/page/view.php?id=2378\n",
        "        print('head.value:', head.value)   # head 인스턴스에 대한 속성값 value 출력\n",
        "        print('head.next:', head.next)    # head 인스턴스에 대한 속성값 next 출력\n",
        "        node = head   # 현재 노드에 head를 할당한다. \n",
        "        while node.next:  # head 다음 노드가 None이 나올때까지 반복한다. None이면 아래 코드 건너뛰어서 node.next로 간다.\n",
        "            node = node.next  #  None이 아니라면 노드에 다음노드 할당하고 뒤로 쭉쭉쭉!\n",
        "            print('print in while:', node.next) \n",
        "        # None이 나오면 while문을 마치고\n",
        "        node.next = Node(value)  # node.next의 디폴트값은 None이였지만, 새로운 노드를 할당한다.    "
      ],
      "execution_count": 32,
      "outputs": []
    },
    {
      "cell_type": "code",
      "metadata": {
        "colab": {
          "base_uri": "https://localhost:8080/",
          "height": 334
        },
        "id": "9huPPc0SbgMY",
        "outputId": "079fcda1-9296-4999-eb48-946a788bc871"
      },
      "source": [
        "# 노드값들을 한번 살펴보자\n",
        "# head = Node(5)  # head노드에 값5를 저장한다. next는 디폴트  # linked_list클래스에서 생성자로 Node클래스의 인스턴스를 할당했기 때문에, Node클래스를 먼저 지정하지않으면 에러가 난다. \n",
        "linked_list.add_node(11)"
      ],
      "execution_count": 2,
      "outputs": [
        {
          "output_type": "error",
          "ename": "NameError",
          "evalue": "ignored",
          "traceback": [
            "\u001b[0;31m---------------------------------------------------------------------------\u001b[0m",
            "\u001b[0;31mNameError\u001b[0m                                 Traceback (most recent call last)",
            "\u001b[0;32m<ipython-input-2-efc3fab2be76>\u001b[0m in \u001b[0;36m<module>\u001b[0;34m()\u001b[0m\n\u001b[1;32m      1\u001b[0m \u001b[0;31m# 노드값들을 한번 살펴보자\u001b[0m\u001b[0;34m\u001b[0m\u001b[0;34m\u001b[0m\u001b[0;34m\u001b[0m\u001b[0m\n\u001b[1;32m      2\u001b[0m \u001b[0;31m# head = Node(5)  # head노드에 값5를 저장한다. next는 디폴트  # linked_list클래스에서 생성자로 Node클래스의 인스턴스를 할당했기 때문에, Node클래스를 먼저 지정하지않으면 에러가 난다.\u001b[0m\u001b[0;34m\u001b[0m\u001b[0;34m\u001b[0m\u001b[0;34m\u001b[0m\u001b[0m\n\u001b[0;32m----> 3\u001b[0;31m \u001b[0mlinked_list\u001b[0m\u001b[0;34m.\u001b[0m\u001b[0madd_node\u001b[0m\u001b[0;34m(\u001b[0m\u001b[0;36m11\u001b[0m\u001b[0;34m)\u001b[0m\u001b[0;34m\u001b[0m\u001b[0;34m\u001b[0m\u001b[0m\n\u001b[0m",
            "\u001b[0;32m<ipython-input-1-2fba2686692b>\u001b[0m in \u001b[0;36madd_node\u001b[0;34m(value)\u001b[0m\n\u001b[1;32m     11\u001b[0m \u001b[0;34m\u001b[0m\u001b[0m\n\u001b[1;32m     12\u001b[0m     \u001b[0;32mdef\u001b[0m \u001b[0madd_node\u001b[0m\u001b[0;34m(\u001b[0m\u001b[0mvalue\u001b[0m\u001b[0;34m)\u001b[0m\u001b[0;34m:\u001b[0m   \u001b[0;31m# self가 없는건, 클래스 자체의 속성을 의미함. 클래스 속성은 클래스에 속해 있으며 모든 인스턴스에서 공유합니다. 클래스속성&인스턴스속성 https://dojang.io/mod/page/view.php?id=2378\u001b[0m\u001b[0;34m\u001b[0m\u001b[0;34m\u001b[0m\u001b[0m\n\u001b[0;32m---> 13\u001b[0;31m         \u001b[0mprint\u001b[0m\u001b[0;34m(\u001b[0m\u001b[0;34m'head.value:'\u001b[0m\u001b[0;34m,\u001b[0m \u001b[0mhead\u001b[0m\u001b[0;34m.\u001b[0m\u001b[0mvalue\u001b[0m\u001b[0;34m)\u001b[0m   \u001b[0;31m# head 인스턴스에 대한 속성값 value 출력\u001b[0m\u001b[0;34m\u001b[0m\u001b[0;34m\u001b[0m\u001b[0m\n\u001b[0m\u001b[1;32m     14\u001b[0m         \u001b[0mprint\u001b[0m\u001b[0;34m(\u001b[0m\u001b[0;34m'head.next:'\u001b[0m\u001b[0;34m,\u001b[0m \u001b[0mhead\u001b[0m\u001b[0;34m.\u001b[0m\u001b[0mnext\u001b[0m\u001b[0;34m)\u001b[0m    \u001b[0;31m# head 인스턴스에 대한 속성값 next 출력\u001b[0m\u001b[0;34m\u001b[0m\u001b[0;34m\u001b[0m\u001b[0m\n\u001b[1;32m     15\u001b[0m         \u001b[0mnode\u001b[0m \u001b[0;34m=\u001b[0m \u001b[0mhead\u001b[0m   \u001b[0;31m# 현재 노드에 head를 할당한다.\u001b[0m\u001b[0;34m\u001b[0m\u001b[0;34m\u001b[0m\u001b[0m\n",
            "\u001b[0;31mNameError\u001b[0m: name 'head' is not defined"
          ]
        }
      ]
    },
    {
      "cell_type": "code",
      "metadata": {
        "id": "4QkiNm1Yd8fo"
      },
      "source": [
        "# 노드값들을 한번 살펴보자\n",
        "head = Node(5)"
      ],
      "execution_count": 33,
      "outputs": []
    },
    {
      "cell_type": "code",
      "metadata": {
        "colab": {
          "base_uri": "https://localhost:8080/"
        },
        "id": "STCkoJDphURo",
        "outputId": "a80d0333-1269-45fd-badc-bacea0660866"
      },
      "source": [
        ""
      ],
      "execution_count": 12,
      "outputs": [
        {
          "output_type": "execute_result",
          "data": {
            "text/plain": [
              "10"
            ]
          },
          "metadata": {},
          "execution_count": 12
        }
      ]
    },
    {
      "cell_type": "code",
      "metadata": {
        "colab": {
          "base_uri": "https://localhost:8080/"
        },
        "id": "9fAa2sB5c6Lh",
        "outputId": "63ef8dc6-377d-48b9-f63e-32235cf659d0"
      },
      "source": [
        "linked_list.add_node(11)"
      ],
      "execution_count": 34,
      "outputs": [
        {
          "output_type": "stream",
          "name": "stdout",
          "text": [
            "head.value: 5\n",
            "head.next: None\n"
          ]
        }
      ]
    },
    {
      "cell_type": "code",
      "metadata": {
        "colab": {
          "base_uri": "https://localhost:8080/"
        },
        "id": "yhVosTd9c-i9",
        "outputId": "aa8c3eb7-e500-4867-8ae9-fb129080724f"
      },
      "source": [
        "head.value"
      ],
      "execution_count": 25,
      "outputs": [
        {
          "output_type": "execute_result",
          "data": {
            "text/plain": [
              "5"
            ]
          },
          "metadata": {},
          "execution_count": 25
        }
      ]
    },
    {
      "cell_type": "code",
      "metadata": {
        "colab": {
          "base_uri": "https://localhost:8080/"
        },
        "id": "j_VVoCjedGht",
        "outputId": "a3f50fd1-bda0-4adf-f829-a1c6f1770cec"
      },
      "source": [
        "head.next.value"
      ],
      "execution_count": 6,
      "outputs": [
        {
          "output_type": "execute_result",
          "data": {
            "text/plain": [
              "11"
            ]
          },
          "metadata": {},
          "execution_count": 6
        }
      ]
    },
    {
      "cell_type": "code",
      "metadata": {
        "id": "PdJ5sAS-ezcB"
      },
      "source": [
        "head.next"
      ],
      "execution_count": 8,
      "outputs": []
    },
    {
      "cell_type": "code",
      "metadata": {
        "colab": {
          "base_uri": "https://localhost:8080/",
          "height": 172
        },
        "id": "DJEWHFHzjFzy",
        "outputId": "2145e2bb-b8a0-436a-c8a1-6c1fe653bd79"
      },
      "source": [
        "linked_list.head.value"
      ],
      "execution_count": 35,
      "outputs": [
        {
          "output_type": "error",
          "ename": "AttributeError",
          "evalue": "ignored",
          "traceback": [
            "\u001b[0;31m---------------------------------------------------------------------------\u001b[0m",
            "\u001b[0;31mAttributeError\u001b[0m                            Traceback (most recent call last)",
            "\u001b[0;32m<ipython-input-35-b426635acd63>\u001b[0m in \u001b[0;36m<module>\u001b[0;34m()\u001b[0m\n\u001b[0;32m----> 1\u001b[0;31m \u001b[0mlinked_list\u001b[0m\u001b[0;34m.\u001b[0m\u001b[0mhead\u001b[0m\u001b[0;34m\u001b[0m\u001b[0;34m\u001b[0m\u001b[0m\n\u001b[0m",
            "\u001b[0;31mAttributeError\u001b[0m: type object 'linked_list' has no attribute 'head'"
          ]
        }
      ]
    },
    {
      "cell_type": "code",
      "metadata": {
        "colab": {
          "base_uri": "https://localhost:8080/"
        },
        "id": "RWIvhgG9jeCG",
        "outputId": "5bbc5234-42c4-4648-929d-eca0eb2731c8"
      },
      "source": [
        "link=linked_list(10)\n",
        "link.head.value"
      ],
      "execution_count": 36,
      "outputs": [
        {
          "output_type": "execute_result",
          "data": {
            "text/plain": [
              "10"
            ]
          },
          "metadata": {},
          "execution_count": 36
        }
      ]
    },
    {
      "cell_type": "code",
      "metadata": {
        "colab": {
          "base_uri": "https://localhost:8080/"
        },
        "id": "KbV8ljKIlYx_",
        "outputId": "40805a63-84ab-40ac-f7bf-0e440b31acd9"
      },
      "source": [
        "# 리스트를 연결해보자.\n",
        "\n",
        "node1 = Node(3)\n",
        "node2 = Node(4)\n",
        "\n",
        "node3 = Node(5)\n",
        "node4 = Node(6)\n",
        "\n",
        "node1.next = node2\n",
        "node2.next = node3\n",
        "node3.next = node4\n",
        "\n",
        "node = node1\n",
        "while node:\n",
        "    print(node.value)\n",
        "    node = node.next  # 위치바꾸기\n"
      ],
      "execution_count": 37,
      "outputs": [
        {
          "output_type": "stream",
          "name": "stdout",
          "text": [
            "3\n",
            "4\n",
            "5\n",
            "6\n"
          ]
        }
      ]
    },
    {
      "cell_type": "markdown",
      "metadata": {
        "id": "yx36afrGuD5L"
      },
      "source": [
        "## Queue(큐)"
      ]
    },
    {
      "cell_type": "markdown",
      "metadata": {
        "id": "gZwF0Q6DyNhl"
      },
      "source": [
        "--> 대기열이라는 뜻.\n",
        "입구가 두개인 형태\n",
        "\n",
        "- 선입, 선출의 개념(FIFO) first in first out\n",
        "먼저 들어온 값이 먼저 나간다. \n",
        "\n",
        "- 빠져나가는게 dequeue\n",
        "- 들어오는게 enqueue\n",
        "- 쇼핑몰 주문처리방식, 콜센터 전화처리\n",
        "\n",
        "- 값을 넣어주고 빼주는 거 자체는 O(1)\n",
        "- 검색은 처음부터 검색을 해야하니까 O(n)"
      ]
    },
    {
      "cell_type": "code",
      "metadata": {
        "id": "DJQzmsag119l"
      },
      "source": [
        "quere = [1,2,3,4]\n",
        "\n",
        "# 입력 Enqueue\n",
        "queue[0] = 1\n",
        "\n",
        "# 출력 Dequeue  -->큐같은 경우는 맨 처음에 넣은 값이 먼저 나와야 하기 때문에.\n",
        "queue.pop()\n"
      ],
      "execution_count": null,
      "outputs": []
    },
    {
      "cell_type": "markdown",
      "metadata": {
        "id": "30OvA2tfuIC6"
      },
      "source": [
        "## Stack(스택)"
      ]
    },
    {
      "cell_type": "markdown",
      "metadata": {
        "id": "4kZF-ngdy36z"
      },
      "source": [
        ""
      ]
    },
    {
      "cell_type": "markdown",
      "metadata": {
        "id": "WprXfvZry4qX"
      },
      "source": [
        "세로로 되어있거나, 입구가 하나인 형태.\n",
        "밑에서 하나씩 쌓이는 형태의 자료구조.\n",
        "\n",
        "Last in First out (후입선출) LIFO\n",
        "\n",
        "\n",
        "들어올 땐 push\n",
        "- 나갈땐 pop\n",
        "\n",
        "- stackoverflow 사이트 : stack 이 꽉차서 더이상 추가할 수 없는 상태인데 더 넣으려면 stackoverflow라고 함... 그냥 재밌는 얘기."
      ]
    }
  ]
}