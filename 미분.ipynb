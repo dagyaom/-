{
  "nbformat": 4,
  "nbformat_minor": 0,
  "metadata": {
    "colab": {
      "name": "미분.ipynb",
      "private_outputs": true,
      "provenance": [],
      "authorship_tag": "ABX9TyO25+06WGDkpdtXGctj/z3l",
      "include_colab_link": true
    },
    "kernelspec": {
      "name": "python3",
      "display_name": "Python 3"
    },
    "language_info": {
      "name": "python"
    }
  },
  "cells": [
    {
      "cell_type": "markdown",
      "metadata": {
        "id": "view-in-github",
        "colab_type": "text"
      },
      "source": [
        "<a href=\"https://colab.research.google.com/github/dagyaom/Python_Practice/blob/main/%EB%AF%B8%EB%B6%84.ipynb\" target=\"_parent\"><img src=\"https://colab.research.google.com/assets/colab-badge.svg\" alt=\"Open In Colab\"/></a>"
      ]
    },
    {
      "cell_type": "markdown",
      "metadata": {
        "id": "BD7KTDTO_c99"
      },
      "source": [
        "# 미분(Derivative)"
      ]
    },
    {
      "cell_type": "markdown",
      "metadata": {
        "id": "QYCH0IiHMTCh"
      },
      "source": [
        "## 최적화와 미분의 관계"
      ]
    },
    {
      "cell_type": "markdown",
      "metadata": {
        "id": "gUO8UZ2D_up5"
      },
      "source": [
        "\n",
        "\n",
        "- 함수가 뭐야? : 독립변수와 종속변수가 어떠한 관계를 갖고있는지 나타낸 식.\n",
        "\n",
        " - x : 독립변수 - 독립적으로 x값이 결정되기 때문.\n",
        "\n",
        " - y : 종속변수 - 독립변수x가 주어지면 종속적으로 y값이 결정되기 때문.\n",
        "\n",
        "   - ex) y = 2x+4 : 독립변수 x에 2배를 하고 4를 더하면 y가 되는 관계. 설명이 너무 장황하다!\n",
        "\n",
        " - 그러한 관계에 이름을 지어주자 : f\n",
        "\n",
        " - y = f(x) : 독립변수 x와 종속변수 y 사이에 f라는 관계가 있어. "
      ]
    },
    {
      "cell_type": "markdown",
      "metadata": {
        "id": "foM8krYKMT9s"
      },
      "source": [
        "무한대 : 끝도없이 커지고 있는 상태 그 자체. 특정한 숫자값이 아님.\n",
        "\n",
        "무한소 0 : 끝없이 작아지는 상태 그 자체. 끝없이 작아지면 0에 근접하지만, <0은 아님.>\n",
        "\n",
        "미분의 '0'은 '거의 영'이라는 뜻. 정수의 0이 아님.\n",
        "\n",
        "\n",
        " - 두 점(a,b) 사이의 기울기 = 즉, 두 점을 지나는 직선의 기울기(두 점을 연결한 직선) = △Y(delta Y)/△X(delta X)\n",
        "  - 델타 X는 두 점에 대해 독립변수가 얼만큼 변하느냐 하는 것. \n",
        "  - 델타 Y는 두 점에 대해 독립변수가 (  )만큼 변할 때 종속변수가 얼만큼 변하느냐 하는 것. \n",
        "  - delta : 독립변수가 큰 단위로 변화할 때\n",
        "  - 독립변수가 종속변수에 미치는 영향력의 크기\n",
        "\n",
        "\n",
        " - '미분'의 개념 = dY/dX.  접선의 기울기(한 점에서 접하는 직선)를 구한다. \n",
        "  - 두 점(a,b) 사이가 점점 가까워지면, --> 결국 접선의 기울기가 됨.\n",
        "  - 독립변수인 x값이 무한소만큼 변화할 때 y값이 얼마나 변하는가, 그 순간적인 변화율을 구하는 것. 그것이 미분이다. \n",
        "  - d : 무한소(0)로 변화할 때. \n",
        "  - 순간적인 변화율\n",
        "\n",
        "- 접선의 기울기를 구하는 공식 = 미분공식.\n",
        " - 도함수란 ? : 원함수에서 접선의 기울기를 알려주는 함수식.\n",
        "\n",
        " https://www.youtube.com/watch?v=kMZ3RJEaLE4&list=PL11iCOlE6aYLdjwPGKoV5fpepr4mPNgbc&index=3"
      ]
    },
    {
      "cell_type": "markdown",
      "metadata": {
        "id": "ev2__CiDqfjm"
      },
      "source": [
        "- 지수법칙과 그 예제 --> 삼성노트 참고"
      ]
    },
    {
      "cell_type": "markdown",
      "metadata": {
        "id": "FPiciTlc_xhS"
      },
      "source": [
        "## 미분, 편미분, Chain Rule\n",
        "\n",
        "(1) 미분이란\n",
        "작을 미, 나눌 분. 즉, '작게 나눈다'라는 뜻. --> 무엇을? : 함수를.\n",
        "- 즉, 함수를 작게 나눠서 순간의 변화량을 측정하는 것이 목표."
      ]
    },
    {
      "cell_type": "markdown",
      "metadata": {
        "id": "P4SwFGeWyFB9"
      },
      "source": [
        "## 다변수 함수와 편미분\n",
        "\n",
        "독립변수가 2개 이상인 함수 = 다변수함수.\n",
        "\n",
        "변수 : 변하는 값\n",
        "\n",
        "상수 : 고정된 값\n",
        "\n",
        "- 편미분이란 ? : 다변수 함수에서 여러개의 독립변수가 있을 때, 특정 독립변수의 변화가 종속변수에 얼만큼의 영향을 미치는지를 알고싶을 때 다른 독립변수는 상수취급을 하면서 미분하는 것. \n"
      ]
    }
  ]
}