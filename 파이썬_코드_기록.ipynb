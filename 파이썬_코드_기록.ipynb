{
  "nbformat": 4,
  "nbformat_minor": 0,
  "metadata": {
    "colab": {
      "name": "파이썬 코드 기록.ipynb",
      "private_outputs": true,
      "provenance": [],
      "toc_visible": true,
      "include_colab_link": true
    },
    "kernelspec": {
      "name": "python3",
      "display_name": "Python 3"
    },
    "language_info": {
      "name": "python"
    }
  },
  "cells": [
    {
      "cell_type": "markdown",
      "metadata": {
        "id": "view-in-github",
        "colab_type": "text"
      },
      "source": [
        "<a href=\"https://colab.research.google.com/github/dagyaom/Python_Practice/blob/main/%ED%8C%8C%EC%9D%B4%EC%8D%AC_%EC%BD%94%EB%93%9C_%EA%B8%B0%EB%A1%9D.ipynb\" target=\"_parent\"><img src=\"https://colab.research.google.com/assets/colab-badge.svg\" alt=\"Open In Colab\"/></a>"
      ]
    },
    {
      "cell_type": "markdown",
      "metadata": {
        "id": "GzDmqMgv1Ui7"
      },
      "source": [
        "# matplotlib에서 한글로 된 데이터를 다룰 경우 폰트 문제로 깨지는 것에 대한 문제 해결"
      ]
    },
    {
      "cell_type": "code",
      "metadata": {
        "id": "Hz-lrGNH1O74"
      },
      "source": [
        "!sudo apt-get install -y fonts-nanum\n",
        "!sudo fc-cache -fv\n",
        "!rm ~/.cache/matplotlib -rf\n",
        "\n",
        "# matplotlib에서 한글로 된 데이터를 다룰 경우 폰트 문제로 깨지는 것에 대한 문제 해결1"
      ],
      "execution_count": null,
      "outputs": []
    },
    {
      "cell_type": "code",
      "metadata": {
        "id": "Fe2lJFF-1T0X"
      },
      "source": [
        "import matplotlib.pyplot as plt\n",
        "import pandas as pd\n",
        "import warnings\n",
        "\n",
        "warnings.filterwarnings(\"ignore\")\n",
        "%matplotlib inline\n",
        "%config InlineBackend.figure_format='retina'\n",
        "\n",
        "# matplotlib에서 한글로 된 데이터를 다룰 경우 폰트 문제로 깨지는 것에 대한 문제 해결2"
      ],
      "execution_count": null,
      "outputs": []
    },
    {
      "cell_type": "code",
      "metadata": {
        "id": "lAduefem1b7N"
      },
      "source": [
        "import matplotlib.pyplot as plt\n",
        "\n",
        "plt.rc('font', family='NanumBarunGothic')  #한글 깨지는거 해결\n",
        "plt.rc('axes', unicode_minus=False)  # 숫자 옆 -(마이너스) 표시 불가 해결\n",
        "\n",
        "# matplotlib에서 한글로 된 데이터를 다룰 경우 폰트 문제로 깨지는 것에 대한 문제 해결3"
      ],
      "execution_count": null,
      "outputs": []
    },
    {
      "cell_type": "markdown",
      "metadata": {
        "id": "IjG6QOcH3ZHw"
      },
      "source": [
        "# 데이터셋 불러오기 연습"
      ]
    },
    {
      "cell_type": "code",
      "metadata": {
        "id": "egVRuLBjh5NI"
      },
      "source": [
        "pd.read_csv('경로', sep = '\\t', index_col = 0(위치) or '(변수이름)', \n",
        "\n",
        "# sep\t’,’\t자료의 구분 기준을 설정\n",
        "# header\t‘infer’\t첫행을 열이름으로 쓸 것인지. 몇번째 행을 열이름으로 쓸건지\n",
        "# names\t-\t열이름을 리스트로 입력해 줄 수있다. (header=None으로 자동 설정)\n",
        "# index_col\tNone\t특정 행이름으로 한 행을 인덱스를 지정\n",
        "# prefix\t-\theader가 없는 경우, ‘V’를 넣으면, V0,V1순으로 열이름 부여\n",
        "# dtype\t-\t개별 열 또는 모든 열의 타입을 지정(e.g ‘str’, {‘a’: np.float64, ‘c’: ‘Int64’})\n",
        "# na_values\t-\t결측값으로 인식할 문자열 지정\n",
        "# keep_default_na\tTrue\t결측값(NaN)을 포함할지 여부 결정\n",
        "# na_filter\tTrue\t결측값 탐지\n",
        "# skip_blank_lines\tTrue\t빈줄은 결측값으로 판단하지 않고 건너뜀\n",
        "# encoding\t-\t참고\n",
        "# nrow\t-\t읽을 파일 행(row)의 수\n",
        "# thousands=','  - 데이터에 쉼표 일괄적으로 지우기.\n",
        "\n",
        "# https://yganalyst.github.io/data_handling/Pd_4/"
      ],
      "execution_count": null,
      "outputs": []
    },
    {
      "cell_type": "code",
      "metadata": {
        "id": "aDYCV6n-3YF0"
      },
      "source": [
        "travel = 'https://ds-lecture-data.s3.ap-northeast-2.amazonaws.com/stocks/Travel.xlsx'\n",
        "\n",
        "import pandas as pd\n",
        "import xlrd\n",
        "df1 = pd.read_excel(travel, sheet_name = '008770 ')\n",
        "df2 = pd.read_excel(travel, sheet_name = '035250') #sheet_name=1 이렇게 쓸수도 있다.!"
      ],
      "execution_count": null,
      "outputs": []
    },
    {
      "cell_type": "code",
      "metadata": {
        "id": "vbDAxasy3kds"
      },
      "source": [
        "df1_transposed = df1.T\n",
        "df1=df1_transposed \n",
        "\n",
        "df1.columns = df1.iloc[0]\n",
        "df1= df1[1:]\n",
        "df1.head()\n",
        "\n",
        "# 트렌스포즈와 첫번째 row를 column name으로 설정"
      ],
      "execution_count": null,
      "outputs": []
    },
    {
      "cell_type": "markdown",
      "metadata": {
        "id": "BdPO974j3zh6"
      },
      "source": [
        "# 데이터의 dimension을 확인,결측치"
      ]
    },
    {
      "cell_type": "code",
      "metadata": {
        "id": "ebUF_uLg4c55"
      },
      "source": [
        "print(df1.shape)  # 데이터 dimension확인\n",
        "print(df2.shape)\n",
        "\n",
        "df1.isnull().sum()  # 결측치 확인\n",
        "\n",
        "df1.fillna(0, inplace=True) # 결측치 0으로 처리\n",
        "pd.DataFrame(df2.isnull().sum(), columns = ['결측치갯수'])   # 데이터프레임화"
      ],
      "execution_count": null,
      "outputs": []
    },
    {
      "cell_type": "markdown",
      "metadata": {
        "id": "ksK4z59W5ISV"
      },
      "source": [
        "# 시각화"
      ]
    },
    {
      "cell_type": "markdown",
      "metadata": {
        "id": "rKZ0R7bAXi9j"
      },
      "source": [
        "## 선그래프"
      ]
    },
    {
      "cell_type": "code",
      "metadata": {
        "id": "BAfWpr40XlEj"
      },
      "source": [
        "plt.plot(data_for_graph['biden_cable_multiple'])\n",
        "plt.plot(data_for_graph['biden_online_multiple'])\n",
        "plt.title(\"Biden's Ukraine-related media bump is fading\")"
      ],
      "execution_count": null,
      "outputs": []
    },
    {
      "cell_type": "code",
      "metadata": {
        "id": "8D_LsZp2XpYB"
      },
      "source": [
        "df_g1 = data_for_graph['biden_cable_multiple'].plot(color='red');\n",
        "df_g2 = data_for_graph['biden_online_multiple'].plot(color='blue');"
      ],
      "execution_count": null,
      "outputs": []
    },
    {
      "cell_type": "markdown",
      "metadata": {
        "id": "aEjvHMGO4WPg"
      },
      "source": [
        "## 산점도"
      ]
    },
    {
      "cell_type": "code",
      "metadata": {
        "id": "t3uJSzHA4U8G"
      },
      "source": [
        "import matplotlib.pyplot as plt\n",
        "\n",
        "df1.plot.scatter('time', 'cell_phones_total');"
      ],
      "execution_count": null,
      "outputs": []
    },
    {
      "cell_type": "code",
      "metadata": {
        "id": "QJLGVla54cR0"
      },
      "source": [
        "import matplotlib.pyplot as plt\n",
        "%config InlineBackend.figure_format='retina'  #%matplotlib 뒤에 넣어주면 그래프를 더 높은 해상도로 출력한다.\n",
        "\n",
        "plt.scatter(df1['time'],df1['cell_phones_total'])"
      ],
      "execution_count": null,
      "outputs": []
    },
    {
      "cell_type": "code",
      "metadata": {
        "id": "StpTpLTD5dZO"
      },
      "source": [
        "import seaborn as sns\n",
        "ax = sns.scatterplot(x='time', \n",
        "                     y= 'cell_phones_total', \n",
        "                     data=df1)"
      ],
      "execution_count": null,
      "outputs": []
    },
    {
      "cell_type": "code",
      "metadata": {
        "id": "JxPuopDEzgjc"
      },
      "source": [
        "import seaborn as sns\n",
        "\n",
        "sns.scatterplot(x='time', \n",
        "                y='cell_phones_total', \n",
        "                hue='geo', # different colors by group\n",
        "                style='geo', # different shapes by group\n",
        "                s=100, # marker size\n",
        "                data=df1_1)\n",
        "plt.show()"
      ],
      "execution_count": null,
      "outputs": []
    },
    {
      "cell_type": "code",
      "metadata": {
        "id": "ElJ25EbJzjOd"
      },
      "source": [
        "sns.scatterplot(us_china['time'],us_china['cell_phones_total'],hue=us_china['geo'])"
      ],
      "execution_count": null,
      "outputs": []
    },
    {
      "cell_type": "markdown",
      "metadata": {
        "id": "qHsrZ1lR5P6k"
      },
      "source": [
        "##  bar.plot"
      ]
    },
    {
      "cell_type": "code",
      "metadata": {
        "id": "CIcDLNgz5HwC"
      },
      "source": [
        "df1['FCF'].plot.bar();"
      ],
      "execution_count": null,
      "outputs": []
    },
    {
      "cell_type": "code",
      "metadata": {
        "id": "gRyV-trD5vpw"
      },
      "source": [
        "# FCF 값을 Barplot으로 표현 - df2, horizon\n",
        "\n",
        "df2['FCF'].plot.barh();"
      ],
      "execution_count": null,
      "outputs": []
    },
    {
      "cell_type": "code",
      "metadata": {
        "id": "VPoDihO68ucE"
      },
      "source": [
        "# value_counts() : 어떤 컬럼/Series의 unique value들을 count해주는 함수 \n",
        "df1.FCF[df1['FCF'] > 0].value_counts()  # df1의 FCF행에서, FCF값이 0보다 큰 것을 추출"
      ],
      "execution_count": null,
      "outputs": []
    },
    {
      "cell_type": "code",
      "metadata": {
        "id": "0EE27IZY9H54"
      },
      "source": [
        "df1['FCF'] > 0\n",
        "# bull값으로 도출됨"
      ],
      "execution_count": null,
      "outputs": []
    },
    {
      "cell_type": "code",
      "metadata": {
        "id": "j5tENx129IdQ"
      },
      "source": [
        "df1[df1['FCF'] > 0]  #df1 전체에서 FCF값이 0보다 큰 것을 골라서 추출(FCF값 외에도 다른 행도 함께 나옴.)"
      ],
      "execution_count": null,
      "outputs": []
    },
    {
      "cell_type": "markdown",
      "metadata": {
        "id": "SKZIzpj7ISrP"
      },
      "source": [
        "## QQ플롯\n",
        "- 정규성 검정\n",
        ": 빨간선에 가까울 수록 정규성을 만족한다. \n",
        "- 우리가 가진 데이터와 정규분포를 비교합니다. 따라서 '정규성 검정'의 한 방법이라고 이야기할 수도 있습니다. \n",
        "- 넓은 의미의 Q-Q plot : 임의의 두 데이터 분포를 비교함\n",
        "- 좁은 의미의 Q-Q plot : 정규성 검정의 한 방법"
      ]
    },
    {
      "cell_type": "code",
      "metadata": {
        "id": "HUcjhnBlIRzY"
      },
      "source": [
        "import scipy.stats as stats\n",
        "\n",
        "stats.probplot(pp['bill_length_mm'], plot=plt);"
      ],
      "execution_count": null,
      "outputs": []
    },
    {
      "cell_type": "markdown",
      "metadata": {
        "id": "i8pkYIDVLcGB"
      },
      "source": [
        "## boxplot\n",
        "- 기술 통계학에서 '상자 수염 그림'(box-and-whisker plot, box-and-whisker diagram) 또는 '상자 그림'(box plot, boxplot)은 수치적 자료를 표현하는 그래프이다. 이 그래프는 가공하지 않은 자료 그대로를 이용하여 그린 것이 아니라, 자료로부터 얻어낸 통계량인 5가지 요약 수치(다섯 숫자 요약, five-number summary)를 가지고 그린다. 이 때 5가지 요약 수치란 최솟값, 제 1사분위, 제 2사분위, 제 3사분위, 최댓값을 일컫는 말이다. 히스토그램과는 다르게 집단이 여러개인 경우에도 한 공간에 수월하게 나타낼수 있다.\n",
        "\n",
        "\n",
        "- 중위수 : 데이터의 정 가운데 순위에 해당하는 값.(관측치의 절반은 크거나 같고 나머지 절반은 작거나 같다.\n",
        "- 제 3사분위 수 (Q3) : 중앙값 기준으로 상위 50% 중의 중앙값, 전체 데이터 중 상위 25%에 해당하는 값\n",
        "- 제 1사분위 수 (Q1) : 중앙값 기준으로 하위 50% 중의 중앙값, 전체 데이터 중 하위 25%에 해당하는 값\n",
        "\n",
        ">https://rfriend.tistory.com/410"
      ]
    },
    {
      "cell_type": "code",
      "metadata": {
        "id": "Ni3LKTQ5Mgn4"
      },
      "source": [
        ""
      ],
      "execution_count": null,
      "outputs": []
    },
    {
      "cell_type": "markdown",
      "metadata": {
        "id": "a-MpeHWF-Udl"
      },
      "source": [
        "# 작업파일 내보내기. 읽어오기."
      ]
    },
    {
      "cell_type": "code",
      "metadata": {
        "id": "d1EGxmNv-UTM"
      },
      "source": [
        "df1.to_csv('df1.csv') ## csv 파일로 저장\n",
        "pd.read_csv('df1.csv')  ## csv 파일 읽어오기"
      ],
      "execution_count": null,
      "outputs": []
    },
    {
      "cell_type": "code",
      "metadata": {
        "id": "MEgVHLOm_VJ6"
      },
      "source": [
        "df1.to_csv('./df1.csv', index=True)   #index의 불값이 무슨 의미일까?\n",
        "pd.read_csv('df1.csv')\n",
        "# index = True (행의 이름 index 도 같이 내보냄. index 내보내기 싫으면 False 명기)"
      ],
      "execution_count": null,
      "outputs": []
    },
    {
      "cell_type": "markdown",
      "metadata": {
        "id": "AVIrpjXb_nlJ"
      },
      "source": [
        "# 시본의 파머펭귄 불러오기\n",
        "- # seaborn은 matplotlib 기반의 파이썬 시각화 라이브러리\n",
        "\n"
      ]
    },
    {
      "cell_type": "code",
      "metadata": {
        "id": "0CCbGbSZ_qo0"
      },
      "source": [
        "import pandas as pd\n",
        "import seaborn as sns #라이브러리 불러온다.\n",
        "pp = sns.load_dataset('penguins') #데이터준비.\n",
        "pp"
      ],
      "execution_count": null,
      "outputs": []
    },
    {
      "cell_type": "markdown",
      "metadata": {
        "id": "UZJ_DoclGGsv"
      },
      "source": [
        "# 크로스탭(교차도표)"
      ]
    },
    {
      "cell_type": "code",
      "metadata": {
        "id": "TZWA8_Y7GFf8"
      },
      "source": [
        "pp_crosstab = pd.crosstab(index=pp[\"species\"], columns=pp[\"sex\"])\n",
        "pp_crosstab"
      ],
      "execution_count": null,
      "outputs": []
    },
    {
      "cell_type": "code",
      "metadata": {
        "id": "TLbrSOLZGff5"
      },
      "source": [
        "tmp = pd.crosstab(pp['species'],pp['sex']) ## 두개의 변수에 대해서 크로스탭 시행. tmp 변수에 저장\n",
        "#tmp\n",
        "# type(tmp)\n",
        "print(tmp) ## 크로스탭 보기\n",
        "num3 = max(tmp.max())   ## 최댓값 찾기\n",
        "num4 = min(tmp.min())   ## 최솟값 찾기"
      ],
      "execution_count": null,
      "outputs": []
    },
    {
      "cell_type": "code",
      "metadata": {
        "id": "hAH0Ms6adAFf"
      },
      "source": [
        ""
      ],
      "execution_count": null,
      "outputs": []
    },
    {
      "cell_type": "code",
      "metadata": {
        "id": "vIXKROKodAiX"
      },
      "source": [
        ""
      ],
      "execution_count": null,
      "outputs": []
    },
    {
      "cell_type": "markdown",
      "metadata": {
        "id": "8ZZHSnCndBRM"
      },
      "source": [
        "파이썬의 os.listdir() 메써드는 지정한 디렉토리 내의 모든 파일과 디렉토리의 리스트(list)를 리턴한다. 디렉토리를 지정하지 않으면 현재의 working directory를 사용한다."
      ]
    },
    {
      "cell_type": "code",
      "metadata": {
        "id": "jiGhIsWGnXre"
      },
      "source": [
        "df['영업이익'].str.replace(',','')  # 데이터프레임 한 행에서 쉼표 없애기.\n",
        "pd.to_numeric(df['영업이익'])  # 데이터프레임 형변환 : 문자열에서 숫자로"
      ],
      "execution_count": null,
      "outputs": []
    },
    {
      "cell_type": "code",
      "metadata": {
        "id": "ikXkPjFaoiyV"
      },
      "source": [
        "round((df['영업이익']/df['매출액'])*100, 2)\n",
        "\n",
        " # ★round 함수를 사용하여 소수점 2자리까지 잘라보기."
      ],
      "execution_count": null,
      "outputs": []
    },
    {
      "cell_type": "markdown",
      "metadata": {
        "id": "RiTgP_51sxhZ"
      },
      "source": [
        "# 자료형 확인"
      ]
    },
    {
      "cell_type": "code",
      "metadata": {
        "id": "X0ZqctlPs0VN"
      },
      "source": [
        "df.info()  #전체적인 자료형 확인\n",
        "\n",
        "# 컬럼 별 결측치 확인\n",
        "df.isnull().sum()\n",
        "\n",
        "# 데이터프레임 데이터 형태 확인 int? float?\n",
        "df.dtypes\n",
        "\n",
        "\n",
        "# 수치형 자료 정보알기.\n",
        "df.describe()"
      ],
      "execution_count": null,
      "outputs": []
    },
    {
      "cell_type": "markdown",
      "metadata": {
        "id": "xSP12S7pTdHN"
      },
      "source": [
        "# python - Pandas의 이중 중괄호`[[…]]`와 단일 중괄호`[..]`인덱싱의 차이점\n",
        "https://pythonq.com/so/python/347084\n",
        "\n",
        "- 하나의 열을 선택하면 Pandas.Series가 생성 : df['Brains']\n",
        "- DataFrame의 하위 집합을 선택하면 DataFrame이 생성 : df[['Brains']]"
      ]
    }
  ]
}