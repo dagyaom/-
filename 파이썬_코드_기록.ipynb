{
  "nbformat": 4,
  "nbformat_minor": 0,
  "metadata": {
    "colab": {
      "name": "파이썬 코드 기록.ipynb",
      "private_outputs": true,
      "provenance": [],
      "authorship_tag": "ABX9TyMwD9o0IJ6UftV+dYsDRZIh",
      "include_colab_link": true
    },
    "kernelspec": {
      "name": "python3",
      "display_name": "Python 3"
    },
    "language_info": {
      "name": "python"
    }
  },
  "cells": [
    {
      "cell_type": "markdown",
      "metadata": {
        "id": "view-in-github",
        "colab_type": "text"
      },
      "source": [
        "<a href=\"https://colab.research.google.com/github/dagyaom/Python_Practice/blob/main/%ED%8C%8C%EC%9D%B4%EC%8D%AC_%EC%BD%94%EB%93%9C_%EA%B8%B0%EB%A1%9D.ipynb\" target=\"_parent\"><img src=\"https://colab.research.google.com/assets/colab-badge.svg\" alt=\"Open In Colab\"/></a>"
      ]
    },
    {
      "cell_type": "markdown",
      "metadata": {
        "id": "GzDmqMgv1Ui7"
      },
      "source": [
        "# matplotlib에서 한글로 된 데이터를 다룰 경우 폰트 문제로 깨지는 것에 대한 문제 해결"
      ]
    },
    {
      "cell_type": "code",
      "metadata": {
        "id": "Hz-lrGNH1O74"
      },
      "source": [
        "!sudo apt-get install -y fonts-nanum\n",
        "!sudo fc-cache -fv\n",
        "!rm ~/.cache/matplotlib -rf\n",
        "\n",
        "# matplotlib에서 한글로 된 데이터를 다룰 경우 폰트 문제로 깨지는 것에 대한 문제 해결1"
      ],
      "execution_count": null,
      "outputs": []
    },
    {
      "cell_type": "code",
      "metadata": {
        "id": "Fe2lJFF-1T0X"
      },
      "source": [
        "import matplotlib.pyplot as plt\n",
        "import pandas as pd\n",
        "import warnings\n",
        "\n",
        "warnings.filterwarnings(\"ignore\")\n",
        "%matplotlib inline\n",
        "%config InlineBackend.figure_format='retina'\n",
        "\n",
        "# matplotlib에서 한글로 된 데이터를 다룰 경우 폰트 문제로 깨지는 것에 대한 문제 해결2"
      ],
      "execution_count": null,
      "outputs": []
    },
    {
      "cell_type": "code",
      "metadata": {
        "id": "lAduefem1b7N"
      },
      "source": [
        "import matplotlib.pyplot as plt\n",
        "\n",
        "plt.rc('font', family='NanumBarunGothic')  #한글 깨지는거 해결\n",
        "plt.rc('axes', unicode_minus=False)  # 숫자 옆 -(마이너스) 표시 불가 해결\n",
        "\n",
        "# matplotlib에서 한글로 된 데이터를 다룰 경우 폰트 문제로 깨지는 것에 대한 문제 해결3"
      ],
      "execution_count": null,
      "outputs": []
    }
  ]
}