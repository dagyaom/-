{
  "nbformat": 4,
  "nbformat_minor": 0,
  "metadata": {
    "colab": {
      "name": "프로그래밍 사전.ipynb",
      "provenance": [],
      "collapsed_sections": [],
      "toc_visible": true,
      "authorship_tag": "ABX9TyPYfm8nqt9N8VaXetheQoDf",
      "include_colab_link": true
    },
    "kernelspec": {
      "name": "python3",
      "display_name": "Python 3"
    },
    "language_info": {
      "name": "python"
    }
  },
  "cells": [
    {
      "cell_type": "markdown",
      "metadata": {
        "id": "view-in-github",
        "colab_type": "text"
      },
      "source": [
        "<a href=\"https://colab.research.google.com/github/dagyeom23658/Python_Practice/blob/main/%ED%94%84%EB%A1%9C%EA%B7%B8%EB%9E%98%EB%B0%8D_%EC%82%AC%EC%A0%84.ipynb\" target=\"_parent\"><img src=\"https://colab.research.google.com/assets/colab-badge.svg\" alt=\"Open In Colab\"/></a>"
      ]
    },
    {
      "cell_type": "markdown",
      "metadata": {
        "id": "UDh9dbUHrJDN"
      },
      "source": [
        "컴퓨팅 환경이라든지 제한된 상황에서, 써야할 순간이 온다.\n",
        "\n",
        "수학보다 직접적인 ... \n",
        "\n",
        "데이터 엔지니어, 개발자와 커뮤니케이션 할떄 도움이 된다!!\n",
        "\n",
        "코테는 최소한의 지식이나, 코딩실력을 갖췄는지 보는 시험. 업무에 100% 연관된다곤 못하지만, 문제를 풀어가는 과정이나 논리구조를 보고 가산점을 주기도한다. 주석을 잘 다는 연습하기. 수학적 사고력, 논리력!을 충분한 사람이면 기술적 부분이 부족해도 충분히 보충 가능하다고,, 특히 대기업에서 그렇게 생각을 많이 한다. \n",
        "\n",
        "코딩테스트를 위한 암기도 필요하지만, 문제해결력과 논리적 사고력을 기르기.\n",
        "내장메서드.. 내부적으로 어떻게 돌아가는지 이해하면서 공부\n",
        "\n",
        "개념이 모호할때가 많고... 자신만의 언어로 작성해서 저장해두기...!!!\n",
        "\n",
        "정규표현식은 불용어때 사용 많이 하고,, 웹크롤링 데이터 가져올 때 쓰기도 하고..ㅡ\n",
        "각 메서드들이 어떠한 차이가 있는지 알아보기!!\n",
        "\n",
        "한줄 한줄 분석하면서 하는 연습!! 컴퓨팅 사고에 도움이 된다.\n",
        "\n",
        "프로그래머스 레벨3 통과하면 웬만한 기업 테스트는 다 통과할 수 있다. 백준도 있음."
      ]
    },
    {
      "cell_type": "code",
      "metadata": {
        "id": "8fZFDsTevURi"
      },
      "source": [
        "## 더 알아보기\n",
        "# iterator , iterable 의 차이는??\n",
        "# reduce"
      ],
      "execution_count": null,
      "outputs": []
    },
    {
      "cell_type": "markdown",
      "metadata": {
        "id": "OiJkFQYNtb-d"
      },
      "source": [
        "# 정규표현식\n",
        "- 특정한 규칙을 가진 문자열의 집합을 표현하는 사용하는 형식\n",
        "- 복잡한 문자열을 처리할 때 사용한다. \n",
        "- 파이썬 이외에도 모든 프로그래밍 언어에 공통적으로 사용이 된다. \n"
      ]
    },
    {
      "cell_type": "markdown",
      "metadata": {
        "id": "jruH4i1-vlsq"
      },
      "source": [
        "# 정규식 기호 = 메타 문자\n",
        "- 원래 그 문자가 가진 뜻이 아닌 특별한 용도로 사용하는 문자.\n",
        "\n",
        ".  => \\n을 제외한 모든 문자\n",
        "\n",
        "[ ] => [a-z] => 알파벳 소문자를 [1-9] => 1부터 9 중 가져온\n",
        "\n",
        "^  => 부정, 문자 클래스 안에 문자를 제외한 나머지 애들을 하는거.\n",
        "\n",
        "$ => 끝을 나타내는 메타 문제 => 문자열의 행이나 끝을 의미한다. \n",
        "\n",
        "* + => 둘의 차이는?  *는 0부터 반복, +는 최소 1번 이상 반복\n",
        "\n",
        "? => on/off => 있어도 되고, 없어도 된다. => ab? => a, ab\n",
        "\n",
        "{m,n} => m번 이상, n번 이하 => a{1,2} => a,aa\n",
        "\n",
        "m번 이상 => {m,}\n",
        "\n",
        "n번 이하 => {,n}\n",
        "\n",
        "m번 => {m}\n",
        "\n",
        "\\ : 용도>  => 메타문자/특수 기호를 문자로서 표현하고 싶을 떄  => .com => \\\\.com\n"
      ]
    },
    {
      "cell_type": "markdown",
      "metadata": {
        "id": "aqIbT01pOMhE"
      },
      "source": [
        "# 정규표현식 regular expression\n",
        "\n",
        "https://wikidocs.net/4308#_3\n",
        "\n",
        "현업에서도 많이 쓰이는 정규표현식. \n",
        "\n",
        "정규식 기호(메타문자)를 이용해서 ...\n",
        "\n",
        "어떤 상황에 어떤 메서드를 쓰는게 좋을지 생각해보기."
      ]
    },
    {
      "cell_type": "markdown",
      "metadata": {
        "id": "JxaxwSIJOoVj"
      },
      "source": [
        "## re.search, re.match\n",
        "- re.search : 문자열 전체를 검색하여 정규식과 매치되는지 조사한다.\n",
        "- re.match : \t문자열의 처음부터 정규식과 매치되는지 조사한다."
      ]
    },
    {
      "cell_type": "code",
      "metadata": {
        "colab": {
          "base_uri": "https://localhost:8080/"
        },
        "id": "dgKt7K4ZODEH",
        "outputId": "59ac017e-632e-4b30-cbf9-23d38d345598"
      },
      "source": [
        "# re.search\n",
        "import re\n",
        "\n",
        "wordlist = [\"acolor\",\"color\", \"colour\", \"work\", \"working\",\n",
        "            \"fox\", \"worker\", \"working\",\"acolor is not colir\"]\n",
        "\n",
        "# wordlist = \"color, is, not, colir\"\n",
        "for word in wordlist :\n",
        "    if re.search('col.r', word):  #정규 표현식의 Dot(.) 메타 문자는 줄바꿈 문자인 \\n을 제외한 모든 문자와 매치됨을 의미한다.\n",
        "        print('search:',word)\n",
        "    if re.match('col.r', word): \n",
        "        print('match:', word)\n",
        "    print('***')"
      ],
      "execution_count": null,
      "outputs": [
        {
          "output_type": "stream",
          "name": "stdout",
          "text": [
            "search: acolor\n",
            "***\n",
            "search: color\n",
            "match: color\n",
            "***\n",
            "***\n",
            "***\n",
            "***\n",
            "***\n",
            "***\n",
            "***\n",
            "search: acolor is not colir\n",
            "***\n"
          ]
        }
      ]
    },
    {
      "cell_type": "code",
      "metadata": {
        "colab": {
          "base_uri": "https://localhost:8080/"
        },
        "id": "LywrI1RgOaOx",
        "outputId": "9b7ce49d-a0ec-4ea1-b263-0bbeee6ef99d"
      },
      "source": [
        "# re.match\n",
        "regular_expressions = '<html><head><title>Title</title'\n",
        "print(len(regular_expressions))\n",
        "print(re.match('<.*>', regular_expressions).span())  # span(): 매치된 문자열의 (시작, 끝)에 해당하는 튜플을 돌려준다.\n",
        "print(re.match('<.*>', regular_expressions).group())  # group(): 매치된 문자열을 돌려준다.\n",
        "# 개행문자를 제외한 어떤 문자든지 가능(.), 바로 앞의 문자를 0번부터 반복가능(*)\n",
        "# re.match --> '<'과 문자열이 일치해야 함."
      ],
      "execution_count": null,
      "outputs": [
        {
          "output_type": "stream",
          "name": "stdout",
          "text": [
            "31\n",
            "(0, 19)\n",
            "<html><head><title>\n"
          ]
        }
      ]
    },
    {
      "cell_type": "markdown",
      "metadata": {
        "id": "hdYKhx8c0lws"
      },
      "source": [
        "## re.compile('패턴') => 패턴만들기."
      ]
    },
    {
      "cell_type": "code",
      "metadata": {
        "id": "ONpWbPACO1vN"
      },
      "source": [
        "# case 1_1\n",
        "phone = re.compile(r\"\"\"\n",
        "010-    # 핸드폰 앞자리 \n",
        "\\d{4}-  # 중간자리\n",
        "\\d{4}  # 뒷자리\n",
        "\"\"\", re.VERBOSE)  \n",
        "\n",
        "# 컴파일된 패턴 객체인 phone는 모두 동일한 역할을 한다. 하지만 정규식이 복잡할 경우 case 1_2보다 case 1_1처럼 주석을 적고 여러 줄로 표현하는 것이 훨씬 가독성이 좋다.\n",
        "# re.VERBOSE 옵션을 사용하면 문자열에 사용된 whitespace는 컴파일할 때 제거된다(단 [ ] 안에 사용한 whitespace는 제외). 그리고 줄 단위로 '#'기호를 사용하여 주석문을 작성할 수 있다."
      ],
      "execution_count": null,
      "outputs": []
    },
    {
      "cell_type": "markdown",
      "metadata": {
        "id": "xU8LEyXQYCbP"
      },
      "source": [
        "{ } 메타 문자를 사용하면 반복 횟수를 고정할 수 있다. {m, n} 정규식을 사용하면 반복 횟수가 m부터 n까지 매치할 수 있다. 또한 m 또는 n을 생략할 수도 있다. 만약 {3,}처럼 사용하면 반복 횟수가 3 이상인 경우이고 {,3}처럼 사용하면 반복 횟수가 3 이하를 의미한다. 생략된 m은 0과 동일하며, 생략된 n은 무한대(2억 개 미만)의 의미를 갖는다.\n",
        "\n",
        "\n",
        "\\d - 숫자와 매치, [0-9]와 동일한 표현식이다."
      ]
    },
    {
      "cell_type": "code",
      "metadata": {
        "id": "PJY0NLbZVsG2"
      },
      "source": [
        "# case 1_2\n",
        "phone = re.compile(r\"010-\\d{4}-\\d{4}\")  # \\d - 숫자와 매치, [0-9]와 동일한 표현식이다.--> 반드시 4번 반복되어야 한다. "
      ],
      "execution_count": null,
      "outputs": []
    },
    {
      "cell_type": "code",
      "metadata": {
        "colab": {
          "base_uri": "https://localhost:8080/"
        },
        "id": "NF4OkYmEVtmc",
        "outputId": "f618d51a-d803-42a5-e7d5-cb8ca085a5c8"
      },
      "source": [
        "# case 1_3\n",
        "info = ['홍길동 010-1234-1234', '고길동 010-5678-5679']\n",
        "\n",
        "for text in info:\n",
        "    match_object = phone.search(text)  # 문자열 전체를 검사해서 정규식과 일치되는지 조사\n",
        "    print(match_object.group()) #매치된 문자열을 돌려줌"
      ],
      "execution_count": null,
      "outputs": [
        {
          "output_type": "stream",
          "name": "stdout",
          "text": [
            "010-1234-1234\n",
            "010-5678-5679\n"
          ]
        }
      ]
    },
    {
      "cell_type": "markdown",
      "metadata": {
        "id": "uaFJbplPYq-v"
      },
      "source": [
        "# rjust(width, [fillchar]), zfill(width)\n",
        "원하는 문자를 따로 지정하고, 다른 문자열로 앞 부분을 채워줄 수 있다.\n",
        "\n",
        "0으로 앞부분 채워주기"
      ]
    },
    {
      "cell_type": "code",
      "metadata": {
        "colab": {
          "base_uri": "https://localhost:8080/"
        },
        "id": "QWQXG2yyVxmD",
        "outputId": "afdfa13f-9994-4c13-a875-28830ef38058"
      },
      "source": [
        "#\"002\"\n",
        "print(\"2\".rjust(3,\"0\"))\n",
        " \n",
        "#\"50000\"\n",
        "print(\"50000\".rjust(5,\"0\"))  # --> 채워줄 공간이 없으므로 그대로 출력\n",
        " \n",
        "#\"00123\"\n",
        "print(\"123\".rjust(5,\"0\"))\n",
        " \n",
        "#\"aa123\"\n",
        "print(\"123\".rjust(5,\"a\"))"
      ],
      "execution_count": null,
      "outputs": [
        {
          "output_type": "stream",
          "name": "stdout",
          "text": [
            "002\n",
            "50000\n",
            "00123\n",
            "aa123\n"
          ]
        }
      ]
    },
    {
      "cell_type": "code",
      "metadata": {
        "id": "Erk3X9y8Y0N0",
        "colab": {
          "base_uri": "https://localhost:8080/"
        },
        "outputId": "237f0e84-518b-4db6-83dc-1c988ec95c88"
      },
      "source": [
        "#\"002\"\n",
        "print(\"2\".zfill(3))\n",
        " \n",
        "#\"50000\"\n",
        "print(\"50000\".zfill(5))\n",
        " \n",
        "#\"00123\"\n",
        "print(\"123\".zfill(5))\n",
        "\n",
        "# zfill 메소드\n",
        "# 이 메소드는 문자열을 최소 몇 자리 이상을 가진 문자열로 변환시켜줍니다. 이때 만약 모자란 부분은 왼쪽에 “0”을 채워주는데요. 예를 들어 만약 \"1\".zfill(2)을 하면 \"01\"을 리턴합니다. 그리고 설정된 자릿수보다 이미 더 긴 문자열이라면 그 문자열을 그대로 출력합니다.\n",
        "#  그러니까 \"333\".zfill(2) 와 같이 하면 문자열 그대로 “333”을 리턴합니다."
      ],
      "execution_count": 1,
      "outputs": [
        {
          "output_type": "stream",
          "name": "stdout",
          "text": [
            "002\n",
            "50000\n",
            "00123\n"
          ]
        }
      ]
    },
    {
      "cell_type": "markdown",
      "metadata": {
        "id": "J7btk4byZKzu"
      },
      "source": [
        "# split(), startswith(), endswith(), replace()"
      ]
    },
    {
      "cell_type": "code",
      "metadata": {
        "colab": {
          "base_uri": "https://localhost:8080/"
        },
        "id": "CNoPIMD5ZN26",
        "outputId": "2159ba7e-0b54-47c8-c8b9-a570d96be53f"
      },
      "source": [
        "string_ = \"Hello, I am Jack and I am a data scientist\"\n",
        "print(string_)\n",
        "print(string_[1])"
      ],
      "execution_count": null,
      "outputs": [
        {
          "output_type": "stream",
          "name": "stdout",
          "text": [
            "Hello, I am Jack and I am a data scientist\n",
            "e\n"
          ]
        }
      ]
    },
    {
      "cell_type": "code",
      "metadata": {
        "colab": {
          "base_uri": "https://localhost:8080/"
        },
        "id": "TtsbNQsvZWY9",
        "outputId": "6d7431cc-f30c-45a6-9283-67e4277a6202"
      },
      "source": [
        "string_list = string_.split(\" \")  # 공백을 기준으로 나누다.\n",
        "string_list"
      ],
      "execution_count": null,
      "outputs": [
        {
          "output_type": "execute_result",
          "data": {
            "text/plain": [
              "['Hello,', 'I', 'am', 'Jack', 'and', 'I', 'am', 'a', 'data', 'scientist']"
            ]
          },
          "metadata": {},
          "execution_count": 36
        }
      ]
    },
    {
      "cell_type": "code",
      "metadata": {
        "colab": {
          "base_uri": "https://localhost:8080/"
        },
        "id": "nLWpkxqWZWjT",
        "outputId": "ba86afd8-483d-47c9-833c-153a8beea867"
      },
      "source": [
        "string_.startswith('hello')  # 불값으로 반환. 첫시작이 일치하는지 여부"
      ],
      "execution_count": null,
      "outputs": [
        {
          "output_type": "execute_result",
          "data": {
            "text/plain": [
              "False"
            ]
          },
          "metadata": {},
          "execution_count": 38
        }
      ]
    },
    {
      "cell_type": "code",
      "metadata": {
        "colab": {
          "base_uri": "https://localhost:8080/"
        },
        "id": "gJuqPBCBZbbr",
        "outputId": "0178452f-4b4b-4b55-c7e7-ed0bfe56cd7f"
      },
      "source": [
        "string_.endswith('scientist')  # 불값으로 반환. 끝부분이 일치하는지 여부"
      ],
      "execution_count": null,
      "outputs": [
        {
          "output_type": "execute_result",
          "data": {
            "text/plain": [
              "True"
            ]
          },
          "metadata": {},
          "execution_count": 39
        }
      ]
    },
    {
      "cell_type": "code",
      "metadata": {
        "colab": {
          "base_uri": "https://localhost:8080/"
        },
        "id": "4R1JQt1tZi0M",
        "outputId": "86994763-c293-457e-c329-be6f1c159df2"
      },
      "source": [
        "string_.endswith('tist')   #완전한 단어가 아니어도 됨. 끝이 t 이기만 하면 모두 true"
      ],
      "execution_count": null,
      "outputs": [
        {
          "output_type": "execute_result",
          "data": {
            "text/plain": [
              "True"
            ]
          },
          "metadata": {},
          "execution_count": 41
        }
      ]
    },
    {
      "cell_type": "code",
      "metadata": {
        "colab": {
          "base_uri": "https://localhost:8080/"
        },
        "id": "RzXCQ-McZ3Ag",
        "outputId": "6636d3e7-7c29-4ad3-f24f-5d540770e15a"
      },
      "source": [
        "print(string_.replace(\"Jack\", \"John\"))\n",
        "print(string_)"
      ],
      "execution_count": null,
      "outputs": [
        {
          "output_type": "stream",
          "name": "stdout",
          "text": [
            "Hello, I am John and I am a data scientist\n",
            "Hello, I am Jack and I am a data scientist\n"
          ]
        }
      ]
    },
    {
      "cell_type": "markdown",
      "metadata": {
        "id": "VccpgY76aCgU"
      },
      "source": [
        "# 얕은복사, 깊은복사.\n",
        "\n",
        "https://wikidocs.net/16038\n",
        "\n",
        "https://dojang.io/mod/page/view.php?id=2477"
      ]
    },
    {
      "cell_type": "code",
      "metadata": {
        "colab": {
          "base_uri": "https://localhost:8080/"
        },
        "id": "YjC9I0jsZsFr",
        "outputId": "490c4f02-6f6d-4f56-d87f-78bf5cb2fd86"
      },
      "source": [
        "fruits = {\"apple\", \"banana\", \"cherry\"}  #set --> 순서가 없음   https://wikidocs.net/1015\n",
        "fruits_copy = fruits.copy()\n",
        "print(fruits_copy)\n",
        "print(id(fruits))\n",
        "print(id(fruits_copy))"
      ],
      "execution_count": null,
      "outputs": [
        {
          "output_type": "stream",
          "name": "stdout",
          "text": [
            "{'apple', 'banana', 'cherry'}\n",
            "140392727653504\n",
            "140392586235488\n"
          ]
        }
      ]
    },
    {
      "cell_type": "code",
      "metadata": {
        "colab": {
          "base_uri": "https://localhost:8080/"
        },
        "id": "jOyOCaEOaNrs",
        "outputId": "77a22c01-05e0-4dc8-deb9-6364b4c352ec"
      },
      "source": [
        "a = {'a': 5, 'b': 4, 'c':  {'python': '2.7'}}\n",
        "b = a\n",
        "del b['a']\n",
        "b['c']['python'] = '2.7.15'\n",
        "print(b)\n",
        "print(a)\n",
        "print(id(b))\n",
        "print(id(a))"
      ],
      "execution_count": null,
      "outputs": [
        {
          "output_type": "stream",
          "name": "stdout",
          "text": [
            "{'b': 4, 'c': {'python': '2.7.15'}}\n",
            "{'b': 4, 'c': {'python': '2.7.15'}}\n",
            "140392585444320\n",
            "140392585444320\n"
          ]
        }
      ]
    },
    {
      "cell_type": "code",
      "metadata": {
        "colab": {
          "base_uri": "https://localhost:8080/"
        },
        "id": "c-lVD1IVcrvM",
        "outputId": "8b2d1a84-1967-4fc6-c335-c6120a4a9077"
      },
      "source": [
        "import copy\n",
        "a = {'a': 5, 'b': 4, 'c':  {'python': '2.7'}}\n",
        "b = copy.copy(a)\n",
        "del b['a']\n",
        "b['c']['python'] = '2.7.15'\n",
        "print(b)\n",
        "print(a)\n",
        "\n",
        "print(id(b))\n",
        "print(id(a))\n",
        "\n",
        "# 중첩딕셔너리를 다른 객체로 만드려면 deepcopy() 메서드를 써야한다. "
      ],
      "execution_count": null,
      "outputs": [
        {
          "output_type": "stream",
          "name": "stdout",
          "text": [
            "{'b': 4, 'c': {'python': '2.7.15'}}\n",
            "{'a': 5, 'b': 4, 'c': {'python': '2.7.15'}}\n",
            "140392585828864\n",
            "140392585829184\n"
          ]
        }
      ]
    },
    {
      "cell_type": "code",
      "metadata": {
        "colab": {
          "base_uri": "https://localhost:8080/"
        },
        "id": "257miZuScr7D",
        "outputId": "e3b917f4-040c-4941-d5b5-5143a88ec237"
      },
      "source": [
        "import copy\n",
        "list_var = [[1,2],[3,4]]\n",
        "list_var_deepcopy = copy.deepcopy(list_var)\n",
        "list_var_copy = list_var.copy()\n",
        "\n",
        "list_var[1].append(5)\n",
        "\n",
        "print(list_var)  # 원래 변수\n",
        "\n",
        "print(list_var_deepcopy)  # deepcopy : append와 같은 메소드를 써도 값이 변경되지 않음\n",
        "\n",
        "print(list_var_copy)  # copy : 원본이 변경되었으므로 함께 변경됨"
      ],
      "execution_count": null,
      "outputs": [
        {
          "output_type": "stream",
          "name": "stdout",
          "text": [
            "[[1, 2], [3, 4, 5]]\n",
            "[[1, 2], [3, 4]]\n",
            "[[1, 2], [3, 4, 5]]\n"
          ]
        }
      ]
    },
    {
      "cell_type": "markdown",
      "metadata": {
        "id": "19JvDil2f0CG"
      },
      "source": [
        "# 반복문, 조건문"
      ]
    },
    {
      "cell_type": "markdown",
      "metadata": {
        "id": "H4e--TWqixA9"
      },
      "source": [
        "## for문"
      ]
    },
    {
      "cell_type": "code",
      "metadata": {
        "colab": {
          "base_uri": "https://localhost:8080/",
          "height": 223
        },
        "id": "YUnEE7-sfdqz",
        "outputId": "aba0dc2c-0bbc-4285-bb92-cf35a0edd953"
      },
      "source": [
        "# case 1\n",
        "data = [90, 45, 32, 44]\n",
        "for i in range(data):\n",
        "   print(data[i]) # 90, 45, 32, 44"
      ],
      "execution_count": null,
      "outputs": [
        {
          "output_type": "error",
          "ename": "TypeError",
          "evalue": "ignored",
          "traceback": [
            "\u001b[0;31m---------------------------------------------------------------------------\u001b[0m",
            "\u001b[0;31mTypeError\u001b[0m                                 Traceback (most recent call last)",
            "\u001b[0;32m<ipython-input-65-217a4068f845>\u001b[0m in \u001b[0;36m<module>\u001b[0;34m()\u001b[0m\n\u001b[1;32m      1\u001b[0m \u001b[0;31m# case 1\u001b[0m\u001b[0;34m\u001b[0m\u001b[0;34m\u001b[0m\u001b[0;34m\u001b[0m\u001b[0m\n\u001b[1;32m      2\u001b[0m \u001b[0mdata\u001b[0m \u001b[0;34m=\u001b[0m \u001b[0;34m[\u001b[0m\u001b[0;36m90\u001b[0m\u001b[0;34m,\u001b[0m \u001b[0;36m45\u001b[0m\u001b[0;34m,\u001b[0m \u001b[0;36m32\u001b[0m\u001b[0;34m,\u001b[0m \u001b[0;36m44\u001b[0m\u001b[0;34m]\u001b[0m\u001b[0;34m\u001b[0m\u001b[0;34m\u001b[0m\u001b[0m\n\u001b[0;32m----> 3\u001b[0;31m \u001b[0;32mfor\u001b[0m \u001b[0mi\u001b[0m \u001b[0;32min\u001b[0m \u001b[0mrange\u001b[0m\u001b[0;34m(\u001b[0m\u001b[0mdata\u001b[0m\u001b[0;34m)\u001b[0m\u001b[0;34m:\u001b[0m\u001b[0;34m\u001b[0m\u001b[0;34m\u001b[0m\u001b[0m\n\u001b[0m\u001b[1;32m      4\u001b[0m    \u001b[0mprint\u001b[0m\u001b[0;34m(\u001b[0m\u001b[0mdata\u001b[0m\u001b[0;34m[\u001b[0m\u001b[0mi\u001b[0m\u001b[0;34m]\u001b[0m\u001b[0;34m)\u001b[0m \u001b[0;31m# 90, 45, 32, 44\u001b[0m\u001b[0;34m\u001b[0m\u001b[0;34m\u001b[0m\u001b[0m\n",
            "\u001b[0;31mTypeError\u001b[0m: 'list' object cannot be interpreted as an integer"
          ]
        }
      ]
    },
    {
      "cell_type": "code",
      "metadata": {
        "colab": {
          "base_uri": "https://localhost:8080/"
        },
        "id": "Fb2Fl3gQft5T",
        "outputId": "39e53699-418c-4e83-dfe9-72a21de489e9"
      },
      "source": [
        "# case 1\n",
        "data = [90, 45, 32, 44]\n",
        "for i in range(len(data)):\n",
        "   print(data[i]) # 90, 45, 32, 44"
      ],
      "execution_count": null,
      "outputs": [
        {
          "output_type": "stream",
          "name": "stdout",
          "text": [
            "90\n",
            "45\n",
            "32\n",
            "44\n"
          ]
        }
      ]
    },
    {
      "cell_type": "markdown",
      "metadata": {
        "id": "3xZodziYi0pi"
      },
      "source": [
        "## 딕셔너리 for문"
      ]
    },
    {
      "cell_type": "code",
      "metadata": {
        "id": "AoDbh9Kgf4xD"
      },
      "source": [
        "# case 2\n",
        "mock_data = {\n",
        "  \"id\": 1,\n",
        "  \"first_name\": \"states\",\n",
        "  \"last_name\": \"code\",\n",
        "  \"email\": \"code@states.com\",\n",
        "  \"gender\": \"Female\",\n",
        "  \"ip_address\": \"123.123.123.23\"\n",
        "}"
      ],
      "execution_count": null,
      "outputs": []
    },
    {
      "cell_type": "code",
      "metadata": {
        "colab": {
          "base_uri": "https://localhost:8080/"
        },
        "id": "UjkAFe_1f8Eb",
        "outputId": "2de900db-3754-4d6f-cb93-abd1a87f32a0"
      },
      "source": [
        "# 키만 나오는군\n",
        "for x in mock_data:\n",
        "    print(x)"
      ],
      "execution_count": null,
      "outputs": [
        {
          "output_type": "stream",
          "name": "stdout",
          "text": [
            "id\n",
            "first_name\n",
            "last_name\n",
            "email\n",
            "gender\n",
            "ip_address\n"
          ]
        }
      ]
    },
    {
      "cell_type": "code",
      "metadata": {
        "colab": {
          "base_uri": "https://localhost:8080/"
        },
        "id": "tqzTV_Fwf-ej",
        "outputId": "948a5a00-59de-4054-ae3e-226d7f58adc0"
      },
      "source": [
        "for x in mock_data.keys():\n",
        "    print(x)"
      ],
      "execution_count": null,
      "outputs": [
        {
          "output_type": "stream",
          "name": "stdout",
          "text": [
            "id\n",
            "first_name\n",
            "last_name\n",
            "email\n",
            "gender\n",
            "ip_address\n"
          ]
        }
      ]
    },
    {
      "cell_type": "code",
      "metadata": {
        "colab": {
          "base_uri": "https://localhost:8080/"
        },
        "id": "xtR1aAt8gEdF",
        "outputId": "0d448aea-44b0-4e74-e7ae-6420bfe58b26"
      },
      "source": [
        "for x in mock_data.values():\n",
        "    print(x)"
      ],
      "execution_count": null,
      "outputs": [
        {
          "output_type": "stream",
          "name": "stdout",
          "text": [
            "1\n",
            "states\n",
            "code\n",
            "code@states.com\n",
            "Female\n",
            "123.123.123.23\n"
          ]
        }
      ]
    },
    {
      "cell_type": "code",
      "metadata": {
        "colab": {
          "base_uri": "https://localhost:8080/"
        },
        "id": "nXJfVeVtgGpD",
        "outputId": "d7b160ae-1ede-4e2a-9636-d7a1201b3ded"
      },
      "source": [
        "for x in mock_data.items():\n",
        "    print(x)\n",
        "print(type(x))\n",
        "\n",
        "for k,v in mock_data.items():\n",
        "    print(k,v)\n",
        "print(type(k))"
      ],
      "execution_count": null,
      "outputs": [
        {
          "output_type": "stream",
          "name": "stdout",
          "text": [
            "('id', 1)\n",
            "('first_name', 'states')\n",
            "('last_name', 'code')\n",
            "('email', 'code@states.com')\n",
            "('gender', 'Female')\n",
            "('ip_address', '123.123.123.23')\n",
            "<class 'tuple'>\n",
            "id 1\n",
            "first_name states\n",
            "last_name code\n",
            "email code@states.com\n",
            "gender Female\n",
            "ip_address 123.123.123.23\n",
            "<class 'str'>\n"
          ]
        }
      ]
    },
    {
      "cell_type": "markdown",
      "metadata": {
        "id": "egqLFr1ii4u6"
      },
      "source": [
        "## zip() for문"
      ]
    },
    {
      "cell_type": "code",
      "metadata": {
        "colab": {
          "base_uri": "https://localhost:8080/"
        },
        "id": "janQQXpFgNE7",
        "outputId": "d7e4f35c-483a-43f1-b015-dd52f05ce67c"
      },
      "source": [
        "# 일반적인 반복문 활용\n",
        "a = [1,2,3,4,5]\n",
        "b = [10,20,30,40,50]\n",
        "for i in range(len(a)):\n",
        "   print(a[i],b[i])"
      ],
      "execution_count": null,
      "outputs": [
        {
          "output_type": "stream",
          "name": "stdout",
          "text": [
            "1 10\n",
            "2 20\n",
            "3 30\n",
            "4 40\n",
            "5 50\n"
          ]
        }
      ]
    },
    {
      "cell_type": "code",
      "metadata": {
        "colab": {
          "base_uri": "https://localhost:8080/"
        },
        "id": "ssEFbD6vil_D",
        "outputId": "4f75ea89-1d0c-43c9-c209-5f24a589cbc0"
      },
      "source": [
        "# zip 함수 활용\n",
        "a = [1,2,3,4,5]\n",
        "b = [10,20,30,40,50]\n",
        "c = zip(a,b)\n",
        "d = list(c)\n",
        "\n",
        "print(c)\n",
        "print(list(c))  # ★\n",
        "print(d)\n",
        "print(type(c))\n",
        "print(type(d))\n",
        "\n",
        "\n",
        "# 이거는 또 뭥... 한번 들어가버리면 활용이 안되는것?\n",
        " # iterator , iterable: https://locallab-seoul.tistory.com/8 , https://itholic.github.io/python-iterable-iterator/ , https://codechacha.com/ko/python-difference-between-iterator-and-iterable/\n",
        "\n",
        "# iterator, iterable 객체의 차이.\n",
        "# zip object\n",
        "# map 도 iterator의 하나이다. \n",
        "# generator"
      ],
      "execution_count": null,
      "outputs": [
        {
          "output_type": "stream",
          "name": "stdout",
          "text": [
            "<zip object at 0x7fafb654ddc0>\n",
            "[]\n",
            "[(1, 10), (2, 20), (3, 30), (4, 40), (5, 50)]\n",
            "<class 'zip'>\n",
            "<class 'list'>\n"
          ]
        }
      ]
    },
    {
      "cell_type": "code",
      "metadata": {
        "id": "BoN20qsUYswG",
        "colab": {
          "base_uri": "https://localhost:8080/"
        },
        "outputId": "926d3d1d-9aea-4dc8-86c2-3e3c00015e2a"
      },
      "source": [
        "li = [1, 2, 3, 4, 5]\n",
        "\n",
        "li_iter = iter(li)\n",
        "\n",
        "next(li_iter)  # 1\n",
        "next(li_iter)  # 2\n",
        "next(li_iter)  # 3\n",
        "next(li_iter)  # 4\n",
        "next(li_iter)  # 5\n",
        "# next(li_iter)  # StopIteration\n",
        "print(li)\n",
        "print(li_iter)\n",
        "\n",
        "# iterator 객체는 안에있는 반복가능한 개체가 쏙 빠져나온다. "
      ],
      "execution_count": null,
      "outputs": [
        {
          "output_type": "stream",
          "name": "stdout",
          "text": [
            "[1, 2, 3, 4, 5]\n",
            "<list_iterator object at 0x7f11652aca90>\n"
          ]
        }
      ]
    },
    {
      "cell_type": "code",
      "metadata": {
        "id": "lC4JualgZm4N",
        "colab": {
          "base_uri": "https://localhost:8080/"
        },
        "outputId": "f8b4cf69-3665-427b-9aaf-0a4f97ee4327"
      },
      "source": [
        "print(list(li_iter))"
      ],
      "execution_count": null,
      "outputs": [
        {
          "output_type": "stream",
          "name": "stdout",
          "text": [
            "[]\n"
          ]
        }
      ]
    },
    {
      "cell_type": "code",
      "metadata": {
        "colab": {
          "base_uri": "https://localhost:8080/"
        },
        "id": "DIt9hNe6_N_C",
        "outputId": "73681890-f3da-4b7d-b14e-6ea8306d8d59"
      },
      "source": [
        "help(zip)  # 소스코드가 나온다. "
      ],
      "execution_count": null,
      "outputs": [
        {
          "output_type": "stream",
          "name": "stdout",
          "text": [
            "Help on class zip in module builtins:\n",
            "\n",
            "class zip(object)\n",
            " |  zip(*iterables) --> zip object\n",
            " |  \n",
            " |  Return a zip object whose .__next__() method returns a tuple where\n",
            " |  the i-th element comes from the i-th iterable argument.  The .__next__()\n",
            " |  method continues until the shortest iterable in the argument sequence\n",
            " |  is exhausted and then it raises StopIteration.\n",
            " |  \n",
            " |  Methods defined here:\n",
            " |  \n",
            " |  __getattribute__(self, name, /)\n",
            " |      Return getattr(self, name).\n",
            " |  \n",
            " |  __iter__(self, /)\n",
            " |      Implement iter(self).\n",
            " |  \n",
            " |  __next__(self, /)\n",
            " |      Implement next(self).\n",
            " |  \n",
            " |  __reduce__(...)\n",
            " |      Return state information for pickling.\n",
            " |  \n",
            " |  ----------------------------------------------------------------------\n",
            " |  Static methods defined here:\n",
            " |  \n",
            " |  __new__(*args, **kwargs) from builtins.type\n",
            " |      Create and return a new object.  See help(type) for accurate signature.\n",
            "\n"
          ]
        }
      ]
    },
    {
      "cell_type": "code",
      "metadata": {
        "colab": {
          "base_uri": "https://localhost:8080/"
        },
        "id": "1rq1xxvnioZC",
        "outputId": "5768990f-fce6-446d-cb2b-f32fe946a93b"
      },
      "source": [
        "# 반복문과 zip 활용\n",
        "a = [1,2,3,4,5]\n",
        "b = [10,20,30,40,50]\n",
        "c = [100,200,300,400,500]\n",
        "print(zip(a,b,c))\n",
        "for x,y,z in zip(a,b,c) :\n",
        "    print(x,y,z)\n",
        "\n",
        "\n",
        "for x in zip(a,b,c) :\n",
        "    print(x)"
      ],
      "execution_count": null,
      "outputs": [
        {
          "output_type": "stream",
          "name": "stdout",
          "text": [
            "<zip object at 0x7fafb24268c0>\n",
            "1 10 100\n",
            "2 20 200\n",
            "3 30 300\n",
            "4 40 400\n",
            "5 50 500\n",
            "(1, 10, 100)\n",
            "(2, 20, 200)\n",
            "(3, 30, 300)\n",
            "(4, 40, 400)\n",
            "(5, 50, 500)\n"
          ]
        }
      ]
    },
    {
      "cell_type": "code",
      "metadata": {
        "colab": {
          "base_uri": "https://localhost:8080/"
        },
        "id": "U-9SREYAinaD",
        "outputId": "cbaf130d-761e-4cad-8d0e-9d527e549211"
      },
      "source": [
        "# break\n",
        "IntCollection=[0,1,2,3,4,5,6,7]\n",
        "for x in IntCollection:\n",
        "    if(x==3):\n",
        "        break\n",
        "    else:\n",
        "        print(x)"
      ],
      "execution_count": null,
      "outputs": [
        {
          "output_type": "stream",
          "name": "stdout",
          "text": [
            "0\n",
            "1\n",
            "2\n"
          ]
        }
      ]
    },
    {
      "cell_type": "code",
      "metadata": {
        "colab": {
          "base_uri": "https://localhost:8080/"
        },
        "id": "zw93DgssipZu",
        "outputId": "05c2a35e-38cf-443c-83ee-19bff6fcca69"
      },
      "source": [
        "# continue\n",
        "IntCollection=[0,1,2,3,4,5,6,7]\n",
        "for x in IntCollection:\n",
        "    if(x==3):\n",
        "        continue\n",
        "    else:\n",
        "        print(x)"
      ],
      "execution_count": null,
      "outputs": [
        {
          "output_type": "stream",
          "name": "stdout",
          "text": [
            "0\n",
            "1\n",
            "2\n",
            "4\n",
            "5\n",
            "6\n",
            "7\n"
          ]
        }
      ]
    },
    {
      "cell_type": "code",
      "metadata": {
        "colab": {
          "base_uri": "https://localhost:8080/"
        },
        "id": "iEHSy0S4ixFf",
        "outputId": "cfe792ba-0301-4267-a2c2-9d43dfb908e3"
      },
      "source": [
        "# 반복문의 다양한 활용\n",
        "list_ = [1,2,3,4,5]\n",
        "\n",
        "def foo(list_):\n",
        "  print(list_)\n",
        "\n",
        "print('foo(list_[i])')\n",
        "for i in range(len(list_)):\n",
        "    foo(list_[i])\n",
        "\n",
        "print('foo(element)')\n",
        "for element in list_:\n",
        "    foo(element)"
      ],
      "execution_count": null,
      "outputs": [
        {
          "output_type": "stream",
          "name": "stdout",
          "text": [
            "foo(list_[i])\n",
            "1\n",
            "2\n",
            "3\n",
            "4\n",
            "5\n",
            "foo(element)\n",
            "1\n",
            "2\n",
            "3\n",
            "4\n",
            "5\n"
          ]
        }
      ]
    },
    {
      "cell_type": "markdown",
      "metadata": {
        "id": "eDXxL_Pdi98e"
      },
      "source": [
        "## 에러\n",
        "\n",
        "- 띄어쓰기 에러\n",
        "- sintax 잘못된 문법 에러\n",
        "- while문에서 컨트롤씨 누르면 인터럽트 에러\n"
      ]
    },
    {
      "cell_type": "code",
      "metadata": {
        "colab": {
          "base_uri": "https://localhost:8080/",
          "height": 134
        },
        "id": "m5RwLx0di_Ux",
        "outputId": "7aba3f76-8402-4165-ce62-62e6a032f2a2"
      },
      "source": [
        "# 케이스 1 - IndentationError\n",
        "\n",
        "def print_list(list):\n",
        "for item in list: # 에러 확인 및 해결필요\n",
        "print(item)"
      ],
      "execution_count": null,
      "outputs": [
        {
          "output_type": "error",
          "ename": "IndentationError",
          "evalue": "ignored",
          "traceback": [
            "\u001b[0;36m  File \u001b[0;32m\"<ipython-input-4-9e5bcc334641>\"\u001b[0;36m, line \u001b[0;32m4\u001b[0m\n\u001b[0;31m    for item in list: # 에러 확인 및 해결필요\u001b[0m\n\u001b[0m      ^\u001b[0m\n\u001b[0;31mIndentationError\u001b[0m\u001b[0;31m:\u001b[0m expected an indented block\n"
          ]
        }
      ]
    },
    {
      "cell_type": "code",
      "metadata": {
        "colab": {
          "base_uri": "https://localhost:8080/",
          "height": 134
        },
        "id": "V8kuZDhejCzp",
        "outputId": "b9544895-1148-46f2-f099-69c15f85ab95"
      },
      "source": [
        "# 케이스 2 - SyntaxError\n",
        "\n",
        "123ddf"
      ],
      "execution_count": null,
      "outputs": [
        {
          "output_type": "error",
          "ename": "SyntaxError",
          "evalue": "ignored",
          "traceback": [
            "\u001b[0;36m  File \u001b[0;32m\"<ipython-input-5-4e3b401ad3b5>\"\u001b[0;36m, line \u001b[0;32m3\u001b[0m\n\u001b[0;31m    123ddf\u001b[0m\n\u001b[0m         ^\u001b[0m\n\u001b[0;31mSyntaxError\u001b[0m\u001b[0;31m:\u001b[0m invalid syntax\n"
          ]
        }
      ]
    },
    {
      "cell_type": "code",
      "metadata": {
        "colab": {
          "base_uri": "https://localhost:8080/",
          "height": 205
        },
        "id": "ZTi7d_jxjDnh",
        "outputId": "757641a7-70ff-4338-babb-dbbd919497b0"
      },
      "source": [
        "# 케이스 3 - KeyboardInterrupt\n",
        "\n",
        "while True:\n",
        "  pass"
      ],
      "execution_count": null,
      "outputs": [
        {
          "output_type": "error",
          "ename": "KeyboardInterrupt",
          "evalue": "ignored",
          "traceback": [
            "\u001b[0;31m---------------------------------------------------------------------------\u001b[0m",
            "\u001b[0;31mKeyboardInterrupt\u001b[0m                         Traceback (most recent call last)",
            "\u001b[0;32m<ipython-input-6-8b9c5ee2054e>\u001b[0m in \u001b[0;36m<module>\u001b[0;34m()\u001b[0m\n\u001b[1;32m      2\u001b[0m \u001b[0;34m\u001b[0m\u001b[0m\n\u001b[1;32m      3\u001b[0m \u001b[0;32mwhile\u001b[0m \u001b[0;32mTrue\u001b[0m\u001b[0;34m:\u001b[0m\u001b[0;34m\u001b[0m\u001b[0;34m\u001b[0m\u001b[0m\n\u001b[0;32m----> 4\u001b[0;31m   \u001b[0;32mpass\u001b[0m\u001b[0;34m\u001b[0m\u001b[0;34m\u001b[0m\u001b[0m\n\u001b[0m",
            "\u001b[0;31mKeyboardInterrupt\u001b[0m: "
          ]
        }
      ]
    },
    {
      "cell_type": "code",
      "metadata": {
        "colab": {
          "base_uri": "https://localhost:8080/",
          "height": 223
        },
        "id": "LMWPgIDljGo9",
        "outputId": "775e4f7f-98c1-4ca6-95c5-6e66f54ab70e"
      },
      "source": [
        "# 케이스 4 - TypeError\n",
        "\n",
        "# print(1) / 232\n",
        "\n",
        "a,b = 0\n",
        "print(a,b)"
      ],
      "execution_count": null,
      "outputs": [
        {
          "output_type": "error",
          "ename": "TypeError",
          "evalue": "ignored",
          "traceback": [
            "\u001b[0;31m---------------------------------------------------------------------------\u001b[0m",
            "\u001b[0;31mTypeError\u001b[0m                                 Traceback (most recent call last)",
            "\u001b[0;32m<ipython-input-8-6b4a80de8be5>\u001b[0m in \u001b[0;36m<module>\u001b[0;34m()\u001b[0m\n\u001b[1;32m      3\u001b[0m \u001b[0;31m# print(1) / 232\u001b[0m\u001b[0;34m\u001b[0m\u001b[0;34m\u001b[0m\u001b[0;34m\u001b[0m\u001b[0m\n\u001b[1;32m      4\u001b[0m \u001b[0;34m\u001b[0m\u001b[0m\n\u001b[0;32m----> 5\u001b[0;31m \u001b[0ma\u001b[0m\u001b[0;34m,\u001b[0m\u001b[0mb\u001b[0m \u001b[0;34m=\u001b[0m \u001b[0;36m0\u001b[0m\u001b[0;34m\u001b[0m\u001b[0;34m\u001b[0m\u001b[0m\n\u001b[0m\u001b[1;32m      6\u001b[0m \u001b[0mprint\u001b[0m\u001b[0;34m(\u001b[0m\u001b[0ma\u001b[0m\u001b[0;34m,\u001b[0m\u001b[0mb\u001b[0m\u001b[0;34m)\u001b[0m\u001b[0;34m\u001b[0m\u001b[0;34m\u001b[0m\u001b[0m\n",
            "\u001b[0;31mTypeError\u001b[0m: cannot unpack non-iterable int object"
          ]
        }
      ]
    },
    {
      "cell_type": "code",
      "metadata": {
        "colab": {
          "base_uri": "https://localhost:8080/",
          "height": 205
        },
        "id": "yCaa1kBUjWa9",
        "outputId": "cc275a48-7904-41c9-e6cd-5e2c4cafabdd"
      },
      "source": [
        "# 케이스 5 - ZeroDivisionError\n",
        "\n",
        "value = 2/0"
      ],
      "execution_count": null,
      "outputs": [
        {
          "output_type": "error",
          "ename": "ZeroDivisionError",
          "evalue": "ignored",
          "traceback": [
            "\u001b[0;31m---------------------------------------------------------------------------\u001b[0m",
            "\u001b[0;31mZeroDivisionError\u001b[0m                         Traceback (most recent call last)",
            "\u001b[0;32m<ipython-input-9-3213cee69b6c>\u001b[0m in \u001b[0;36m<module>\u001b[0;34m()\u001b[0m\n\u001b[1;32m      1\u001b[0m \u001b[0;31m# 케이스 5 - ZeroDivisionError\u001b[0m\u001b[0;34m\u001b[0m\u001b[0;34m\u001b[0m\u001b[0;34m\u001b[0m\u001b[0m\n\u001b[1;32m      2\u001b[0m \u001b[0;34m\u001b[0m\u001b[0m\n\u001b[0;32m----> 3\u001b[0;31m \u001b[0mvalue\u001b[0m \u001b[0;34m=\u001b[0m \u001b[0;36m2\u001b[0m\u001b[0;34m/\u001b[0m\u001b[0;36m0\u001b[0m\u001b[0;34m\u001b[0m\u001b[0;34m\u001b[0m\u001b[0m\n\u001b[0m",
            "\u001b[0;31mZeroDivisionError\u001b[0m: division by zero"
          ]
        }
      ]
    },
    {
      "cell_type": "code",
      "metadata": {
        "colab": {
          "base_uri": "https://localhost:8080/"
        },
        "id": "Su2QOgrzjYW4",
        "outputId": "da5bcb04-b825-4fe9-dbb6-0ce24fd3594f"
      },
      "source": [
        "# 특이 케이스 6 - 경고(warning) // ignore\n",
        "def A():\n",
        "  a = 0\n",
        "  c =0\n",
        "  print(a,c,) # 경고는 명시적으로 보이지 않지만, 메모리 비효율/휴먼 에러 등이 발생할 수 있다.\n",
        "\n",
        "A()"
      ],
      "execution_count": null,
      "outputs": [
        {
          "output_type": "stream",
          "name": "stdout",
          "text": [
            "0 0\n"
          ]
        }
      ]
    },
    {
      "cell_type": "markdown",
      "metadata": {
        "id": "WQsffu3RkIMf"
      },
      "source": [
        "# 컬렉션 자료형의 내장메소드"
      ]
    },
    {
      "cell_type": "markdown",
      "metadata": {
        "id": "nHpm_4sqkO9e"
      },
      "source": [
        "## append(), extend(), insert()\n",
        "\n",
        "extend ==> 리스트를 이어서 추가해주는 것.(확장의 개념)\n",
        "\n",
        "이외에는 삽입의 의미."
      ]
    },
    {
      "cell_type": "code",
      "metadata": {
        "colab": {
          "base_uri": "https://localhost:8080/"
        },
        "id": "cAdQ7GcXcuIP",
        "outputId": "e43c722f-1cc4-4b04-eba0-4019486e7b89"
      },
      "source": [
        "list_1 = ['bread', 'meat']\n",
        "list_2 = ['Lettuce',2 ,5]\n",
        "list_1.extend(list_2)  # extend는 단일항목은 받지 않는다.\n",
        "print('list1: {}, list2: {}'.format(list_1, list_2))"
      ],
      "execution_count": null,
      "outputs": [
        {
          "output_type": "stream",
          "name": "stdout",
          "text": [
            "list1: ['bread', 'meat', 'Lettuce', 2, 5], list2: ['Lettuce', 2, 5]\n"
          ]
        }
      ]
    },
    {
      "cell_type": "code",
      "metadata": {
        "colab": {
          "base_uri": "https://localhost:8080/",
          "height": 223
        },
        "id": "yvJE2eQzkKq3",
        "outputId": "ec5cc75e-e040-45d3-b306-73c4303d9db4"
      },
      "source": [
        "list_1 = ['bread', 'meat']\n",
        "list_2 = 2  # extend는 단일항목은 받지 않는다. 리스트의 형태여야 한다.\n",
        "print('list1: {}, list2: {}'.format(list_1, list_2))\n",
        "list_1.extend(list_2)  "
      ],
      "execution_count": 5,
      "outputs": [
        {
          "output_type": "error",
          "ename": "TypeError",
          "evalue": "ignored",
          "traceback": [
            "\u001b[0;31m---------------------------------------------------------------------------\u001b[0m",
            "\u001b[0;31mTypeError\u001b[0m                                 Traceback (most recent call last)",
            "\u001b[0;32m<ipython-input-5-78f0299063c7>\u001b[0m in \u001b[0;36m<module>\u001b[0;34m()\u001b[0m\n\u001b[1;32m      1\u001b[0m \u001b[0mlist_1\u001b[0m \u001b[0;34m=\u001b[0m \u001b[0;34m[\u001b[0m\u001b[0;34m'bread'\u001b[0m\u001b[0;34m,\u001b[0m \u001b[0;34m'meat'\u001b[0m\u001b[0;34m]\u001b[0m\u001b[0;34m\u001b[0m\u001b[0;34m\u001b[0m\u001b[0m\n\u001b[1;32m      2\u001b[0m \u001b[0mlist_2\u001b[0m \u001b[0;34m=\u001b[0m \u001b[0;36m2\u001b[0m\u001b[0;34m\u001b[0m\u001b[0;34m\u001b[0m\u001b[0m\n\u001b[0;32m----> 3\u001b[0;31m \u001b[0mlist_1\u001b[0m\u001b[0;34m.\u001b[0m\u001b[0mextend\u001b[0m\u001b[0;34m(\u001b[0m\u001b[0mlist_2\u001b[0m\u001b[0;34m)\u001b[0m  \u001b[0;31m# extend는 단일항목은 받지 않는다. 리스트의 형태여야 한다.\u001b[0m\u001b[0;34m\u001b[0m\u001b[0;34m\u001b[0m\u001b[0m\n\u001b[0m\u001b[1;32m      4\u001b[0m \u001b[0mprint\u001b[0m\u001b[0;34m(\u001b[0m\u001b[0;34m'list1: {}, list2: {}'\u001b[0m\u001b[0;34m.\u001b[0m\u001b[0mformat\u001b[0m\u001b[0;34m(\u001b[0m\u001b[0mlist_1\u001b[0m\u001b[0;34m,\u001b[0m \u001b[0mlist_2\u001b[0m\u001b[0;34m)\u001b[0m\u001b[0;34m)\u001b[0m\u001b[0;34m\u001b[0m\u001b[0;34m\u001b[0m\u001b[0m\n",
            "\u001b[0;31mTypeError\u001b[0m: 'int' object is not iterable"
          ]
        }
      ]
    },
    {
      "cell_type": "code",
      "metadata": {
        "colab": {
          "base_uri": "https://localhost:8080/"
        },
        "id": "TsqxOJbgkS5d",
        "outputId": "9c3b23a5-68b0-4c95-9cf4-846ce5f051a2"
      },
      "source": [
        "list_1 = ['bread', 'meat']\n",
        "list_2 = [2]\n",
        "list_1.extend(list_2)  # extend는 단일항목은 받지 않는다. 리스트의 형태여야 한다.\n",
        "print('list1: {}, list2: {}'.format(list_1, list_2))"
      ],
      "execution_count": 6,
      "outputs": [
        {
          "output_type": "stream",
          "name": "stdout",
          "text": [
            "list1: ['bread', 'meat', 2], list2: [2]\n"
          ]
        }
      ]
    },
    {
      "cell_type": "code",
      "metadata": {
        "colab": {
          "base_uri": "https://localhost:8080/"
        },
        "id": "wPtNGh4RkBYU",
        "outputId": "3550b653-dbaa-4b86-95ba-440c09bf7e56"
      },
      "source": [
        "list_1 = ['bread', 'meat']\n",
        "list_2 = ['Lettuce']\n",
        "list_1.extend(list_2)  \n",
        "print('list1: {}, list2: {}'.format(list_1, list_2))"
      ],
      "execution_count": 1,
      "outputs": [
        {
          "output_type": "stream",
          "name": "stdout",
          "text": [
            "list1: ['bread', 'meat', 'Lettuce'], list2: ['Lettuce']\n"
          ]
        }
      ]
    },
    {
      "cell_type": "code",
      "metadata": {
        "colab": {
          "base_uri": "https://localhost:8080/"
        },
        "id": "Uu13E6hwkHP3",
        "outputId": "78e3c0af-5cb0-4229-ad99-636443523928"
      },
      "source": [
        "list_1 = ['bread', 'meat']\n",
        "list_2 = 'Lettuce'  #문자열은 괜찮다.\n",
        "list_1.extend(list_2)  \n",
        "print('list1: {}, list2: {}'.format(list_1, list_2))"
      ],
      "execution_count": 2,
      "outputs": [
        {
          "output_type": "stream",
          "name": "stdout",
          "text": [
            "list1: ['bread', 'meat', 'L', 'e', 't', 't', 'u', 'c', 'e'], list2: Lettuce\n"
          ]
        }
      ]
    },
    {
      "cell_type": "code",
      "metadata": {
        "id": "KG4nGgmXkMXM"
      },
      "source": [
        "my_list=[]\n",
        "for i in range(1000, 2200):\n",
        "    if (i%7==0) and (i%5!=0):\n",
        "        my_list.append(str(i))\n",
        "\n",
        "print(','.join(my_list))"
      ],
      "execution_count": null,
      "outputs": []
    },
    {
      "cell_type": "code",
      "metadata": {
        "colab": {
          "base_uri": "https://localhost:8080/"
        },
        "id": "LlBtekW3j-ZW",
        "outputId": "e78faced-0d17-450c-f403-7fc72310018a"
      },
      "source": [
        "my_list=[]\n",
        "for i in range(1000, 2200):\n",
        "    if (i%7==0) and (i%5!=0):\n",
        "        my_list.insert(len(my_list), str(i))\n",
        "\n",
        "print(','.join(my_list))"
      ],
      "execution_count": null,
      "outputs": [
        {
          "output_type": "stream",
          "name": "stdout",
          "text": [
            "1001,1008,1022,1029,1036,1043,1057,1064,1071,1078,1092,1099,1106,1113,1127,1134,1141,1148,1162,1169,1176,1183,1197,1204,1211,1218,1232,1239,1246,1253,1267,1274,1281,1288,1302,1309,1316,1323,1337,1344,1351,1358,1372,1379,1386,1393,1407,1414,1421,1428,1442,1449,1456,1463,1477,1484,1491,1498,1512,1519,1526,1533,1547,1554,1561,1568,1582,1589,1596,1603,1617,1624,1631,1638,1652,1659,1666,1673,1687,1694,1701,1708,1722,1729,1736,1743,1757,1764,1771,1778,1792,1799,1806,1813,1827,1834,1841,1848,1862,1869,1876,1883,1897,1904,1911,1918,1932,1939,1946,1953,1967,1974,1981,1988,2002,2009,2016,2023,2037,2044,2051,2058,2072,2079,2086,2093,2107,2114,2121,2128,2142,2149,2156,2163,2177,2184,2191,2198\n"
          ]
        }
      ]
    },
    {
      "cell_type": "code",
      "metadata": {
        "colab": {
          "base_uri": "https://localhost:8080/"
        },
        "id": "EdR-L_62kcJI",
        "outputId": "095b055b-62f0-46ba-ab43-76425b8414ff"
      },
      "source": [
        "words = []\n",
        "while True:\n",
        "    char = input()\n",
        "    if char:\n",
        "        words.append(char.upper())\n",
        "        # while 문을 통해 char = input() 의 입력을 계속해서 받으므로,\n",
        "        # 입력할 데이터가 끝났으면 아무것도 입력하지 않고 엔터를 입력한다.\n",
        "    else:\n",
        "        break\n",
        "print(words)\n",
        "for word in words:\n",
        "    print(word)"
      ],
      "execution_count": null,
      "outputs": [
        {
          "output_type": "stream",
          "name": "stdout",
          "text": [
            "apple\n",
            "banana\n",
            "shit\n",
            "\n",
            "['APPLE', 'BANANA', 'SHIT']\n",
            "APPLE\n",
            "BANANA\n",
            "SHIT\n"
          ]
        }
      ]
    },
    {
      "cell_type": "code",
      "metadata": {
        "colab": {
          "base_uri": "https://localhost:8080/"
        },
        "id": "JO-rZzfgbcbK",
        "outputId": "60b903c9-6a3b-427f-f2f8-31cb16dcc84b"
      },
      "source": [
        "values = []\n",
        "for i in range(100,300):\n",
        "    char = str(i)\n",
        "\n",
        "    if (int(char[0])%2==0) and (int(char[2])%2==0):\n",
        "        values.append(char)\n",
        "print(values)\n",
        "print(\",\".join(values))"
      ],
      "execution_count": null,
      "outputs": [
        {
          "output_type": "stream",
          "name": "stdout",
          "text": [
            "['200', '202', '204', '206', '208', '210', '212', '214', '216', '218', '220', '222', '224', '226', '228', '230', '232', '234', '236', '238', '240', '242', '244', '246', '248', '250', '252', '254', '256', '258', '260', '262', '264', '266', '268', '270', '272', '274', '276', '278', '280', '282', '284', '286', '288', '290', '292', '294', '296', '298']\n",
            "200,202,204,206,208,210,212,214,216,218,220,222,224,226,228,230,232,234,236,238,240,242,244,246,248,250,252,254,256,258,260,262,264,266,268,270,272,274,276,278,280,282,284,286,288,290,292,294,296,298\n"
          ]
        }
      ]
    },
    {
      "cell_type": "markdown",
      "metadata": {
        "id": "PJF32gNMdVOA"
      },
      "source": [
        "## del, remove, pop\n",
        "- remove()는 지우고자 하는 인덱스가 아닌, 값을 입력하는 방식\n",
        "- pop()과 del은 지우고자 하는 리스트의 인덱스를 받아서 지우는 방식\n",
        "- pop()은 지워진 인덱스의 값을 반환하지만 del은 반환하지 않습니다. 이 차이 때문에 미세하게 del이 pop()보다 수행속도가 더 빠릅니다. 또한 remove()와 동일하게 pop()과 del은 특정 인덱스를 삭제한 다음, 리스트를 재조정합니다. \n",
        "\n",
        "https://brownbears.tistory.com/452"
      ]
    },
    {
      "cell_type": "code",
      "metadata": {
        "colab": {
          "base_uri": "https://localhost:8080/"
        },
        "id": "8BYCCba8eMNm",
        "outputId": "7f0f9e0c-001e-4439-85b0-fa458d2d898f"
      },
      "source": [
        "list1 = [11, 12, 43, 4, 6]\n",
        "for i in list1.copy():\n",
        "    if not i % 2 :\n",
        "        list1.remove(i)\n",
        "print(list1)"
      ],
      "execution_count": null,
      "outputs": [
        {
          "output_type": "stream",
          "name": "stdout",
          "text": [
            "[11, 43]\n"
          ]
        }
      ]
    },
    {
      "cell_type": "code",
      "metadata": {
        "colab": {
          "base_uri": "https://localhost:8080/"
        },
        "id": "S5lsEm88eeNC",
        "outputId": "de97872e-6b8f-45f6-9814-0efc053c4975"
      },
      "source": [
        "list2 = [11, 12, 43, 4, 6]\n",
        "for i in list2:\n",
        "    if not i % 2:\n",
        "        list2.remove(i)\n",
        "print(list2)"
      ],
      "execution_count": null,
      "outputs": [
        {
          "output_type": "stream",
          "name": "stdout",
          "text": [
            "[11, 43, 6]\n"
          ]
        }
      ]
    },
    {
      "cell_type": "markdown",
      "metadata": {
        "id": "VwjoqUi-7Hu0"
      },
      "source": [
        "AI_05_정세연 — 오늘 오후 7:59\n",
        "렉쳐노트 del,remove,pop부분말인데요,,\n",
        "```\n",
        "list1 = [11, 12, 43, 4, 6]\n",
        "for i in list1.copy():\n",
        "    if not i % 2 :\n",
        "        list1.remove(i)\n",
        "print(list1)\n",
        "이거는 결과가 [11,43]이고\n",
        "list2 = [11, 12, 43, 4, 6]\n",
        "for i in list2:\n",
        "    if not i % 2:\n",
        "        list2.remove(i)\n",
        "print(list2)\n",
        "이렇게 하면 결과가 [11, 43, 6] 나오거든요..??\n",
        "```\n",
        "왜 이럴까요..? 6이 둘다 안나와야 맞을 것 같은데\n",
        "copy를 안해준 부분에서는 그냥 6이 나오네요\n",
        "\n",
        "AI_05_이주연 — 오늘 오후 8:44\n",
        "이거 저도 궁금해서 직접 디버깅 해봤는데... copy를 안 하면 for문을 돌때마다 리스트에 있는 값이 직접 삭제돼서 모든 값이 for문에 적용되지 않는 것 같아요.\n",
        "for문에서 11->12->43->4->6이 모두 도는게 아니라\n",
        "첫번째 인덱스의 11 -> 삭제되지 않음 -> 두번째 인덱스의 12 -> 12는 짝수이므로 삭제됨 [11,43,4,6] -> 변경된 리스트에서 세번째 인덱스값(4) 으로 넘어감 -> 4가 짝수이므로 삭제됨[11,43,6] -> 변경된 리스트에서 네번째 인덱스값으로 넘어가야 하는데 값이 없어서 for문 종료\n",
        "이런식인 것 같아요... 혹시 이해가 가실까요?\n",
        "그래서 43이 있는 자리는 홀수 짝수 여부와 상관 없이 무조건 출력됩니다. 실제로 40을 넣어봐도 [11,40,6]이 나오는 걸 확인하실 수 있습니다!\n",
        "\n",
        "AI_05_박예은 — 오늘 오후 8:54\n",
        "인덱스 튕기는게 재밌네요 ㅎㅎ , 주연님이 이미 설명해주신 부분 요렇게 참고해보셔도 좋을 것 같아요 ! - print(i) / print(list2) 추가된 내용이에요!"
      ]
    },
    {
      "cell_type": "code",
      "metadata": {
        "colab": {
          "base_uri": "https://localhost:8080/"
        },
        "id": "eZVbNX3L1W8F",
        "outputId": "3247bc5c-d7c9-4fa4-e8f7-9e3825fda580"
      },
      "source": [
        "list4 = [11,12,43,4,6]\n",
        "for i in list4:\n",
        "    print(i)\n",
        "    if not i % 2:  # 짝수인 경우 참\n",
        "        list4.remove(i)\n",
        "    print(list4)\n",
        "print(list4)"
      ],
      "execution_count": null,
      "outputs": [
        {
          "output_type": "stream",
          "name": "stdout",
          "text": [
            "11\n",
            "[11, 12, 43, 4, 6]\n",
            "12\n",
            "[11, 43, 4, 6]\n",
            "4\n",
            "[11, 43, 6]\n",
            "[11, 43, 6]\n"
          ]
        }
      ]
    },
    {
      "cell_type": "markdown",
      "metadata": {
        "id": "50v801oK7ZJY"
      },
      "source": [
        "그런데 아까전엔 지나치듯 봐서 몰랐는데, \n",
        "if not i % 2\n",
        " 이 부분이 왜 짝수를 지정할까요? \n",
        "i%2는 만약 i가 짝수라면 0이고, i가 홀수라면 1이 되죠..?\n",
        "if not ==> ~~ 이 아니라면\n",
        "if not i%2 ==> 만약 i%2가 아니라면, list에서 i를 remove해라. \n",
        "<만약 i%2가 아니라면>  ==> 이 부분 잘 이해가 안되네요..  차라리 \n",
        "if not (i%2 == 1):\n",
        " 이렇게 되면,, 짝수일 때 remove해라 라고 이해될 텐데요 \n",
        "\n",
        "AI_05_정인중 — 오늘 오후 9:37\n",
        "정수에서 0은 bool값에서 False로 해석돼요. 따라서 i%2는 i를 2로나눴을때 나머지값이 나오기때문에 짝수일 경우에는 0이 나오므로 False인데 앞에 not이 있으니까 True가 됩니다\n",
        "\n",
        "아..  그러니까, 짝수면 if not False가 되어서, i를 지워라 가 되는거고, 홀수면 if not True가 되어서, False가 되니까 아래의 remove를 실행하지 않게 되네요! 감사합니다 🤩\n"
      ]
    },
    {
      "cell_type": "code",
      "metadata": {
        "colab": {
          "base_uri": "https://localhost:8080/"
        },
        "id": "PNhfFGOi07KW",
        "outputId": "b11190ab-3db0-40ea-a2a5-71144b662421"
      },
      "source": [
        "list2 = [11, 12, 43, 4, 6]\n",
        "for i in list2:\n",
        "    if not i % 2:\n",
        "        print(i)"
      ],
      "execution_count": null,
      "outputs": [
        {
          "output_type": "stream",
          "name": "stdout",
          "text": [
            "12\n",
            "4\n",
            "6\n"
          ]
        }
      ]
    },
    {
      "cell_type": "code",
      "metadata": {
        "colab": {
          "base_uri": "https://localhost:8080/"
        },
        "id": "1yg4XHXb5an4",
        "outputId": "a532ed0c-7839-4342-a0aa-7152bbee1d17"
      },
      "source": [
        "list4 = [11,12,43,4,6]\n",
        "for i in list4:\n",
        "    print(i)\n",
        "    if not (i % 2==1):  # 짝수인 경우 참\n",
        "        list4.remove(i)\n",
        "    print(list4)\n",
        "print(list4)"
      ],
      "execution_count": null,
      "outputs": [
        {
          "output_type": "stream",
          "name": "stdout",
          "text": [
            "11\n",
            "[11, 12, 43, 4, 6]\n",
            "12\n",
            "[11, 43, 4, 6]\n",
            "4\n",
            "[11, 43, 6]\n",
            "[11, 43, 6]\n"
          ]
        }
      ]
    },
    {
      "cell_type": "code",
      "metadata": {
        "colab": {
          "base_uri": "https://localhost:8080/"
        },
        "id": "tG_alaeOetOW",
        "outputId": "43f5635b-22c6-4cf8-e7b9-cb2faa10f574"
      },
      "source": [
        "list3 = [11, 12, 43, 4, 6]\n",
        "ll = list3.copy()\n",
        "print(id(ll), id(list3))\n",
        "print(list3, ll)\n",
        "del list3[3]\n",
        "print(list3,ll)"
      ],
      "execution_count": null,
      "outputs": [
        {
          "output_type": "stream",
          "name": "stdout",
          "text": [
            "140653974586304 140653974586384\n",
            "[11, 12, 43, 4, 6] [11, 12, 43, 4, 6]\n",
            "[11, 12, 43, 6] [11, 12, 43, 4, 6]\n"
          ]
        }
      ]
    },
    {
      "cell_type": "code",
      "metadata": {
        "colab": {
          "base_uri": "https://localhost:8080/"
        },
        "id": "TxcJLYl0jrMX",
        "outputId": "5f1b7f64-1f6c-4ef9-dd5c-d49387722b9e"
      },
      "source": [
        "my_list = [1, 2, 3, 4, 5]\n",
        "my_list[0] = 99\n",
        "print(my_list)\n",
        "\n",
        "del my_list[0]\n",
        "print(my_list)"
      ],
      "execution_count": null,
      "outputs": [
        {
          "output_type": "stream",
          "name": "stdout",
          "text": [
            "[99, 2, 3, 4, 5]\n",
            "[2, 3, 4, 5]\n"
          ]
        }
      ]
    },
    {
      "cell_type": "code",
      "metadata": {
        "colab": {
          "base_uri": "https://localhost:8080/"
        },
        "id": "pXi2ZE-BjxdR",
        "outputId": "86f320fb-e87f-42f7-fe35-e323a0e605a0"
      },
      "source": [
        "my_list = [1, 2, 3, 4, 5]\n",
        "my_list[0] = 99\n",
        "print(my_list)\n",
        "\n",
        "my_list.pop()\n",
        "print(my_list)"
      ],
      "execution_count": null,
      "outputs": [
        {
          "output_type": "stream",
          "name": "stdout",
          "text": [
            "[99, 2, 3, 4, 5]\n",
            "[99, 2, 3, 4]\n"
          ]
        }
      ]
    },
    {
      "cell_type": "markdown",
      "metadata": {
        "id": "wjb3kWpAkTfI"
      },
      "source": [
        "## count()와 index()\n",
        "- count() : 지정된 값의 출현 횟수\n",
        "- index() : 지정된 값의 첫 번째 인덱스를 내주는 메서드"
      ]
    },
    {
      "cell_type": "code",
      "metadata": {
        "colab": {
          "base_uri": "https://localhost:8080/"
        },
        "id": "wNV2Q-a2kVQ4",
        "outputId": "29087d3c-09f4-48d3-a015-63bda9b73039"
      },
      "source": [
        "my_list = ['xyz', 'XYZ' 'abc', 'ABC']\n",
        "print(\"Index for xyz : \",  my_list.index( 'xyz' ))\n",
        "print(\"Index for ABC : \",  my_list.index( 'ABC' ))"
      ],
      "execution_count": null,
      "outputs": [
        {
          "output_type": "stream",
          "name": "stdout",
          "text": [
            "Index for xyz :  0\n",
            "Index for ABC :  2\n"
          ]
        }
      ]
    },
    {
      "cell_type": "code",
      "metadata": {
        "colab": {
          "base_uri": "https://localhost:8080/"
        },
        "id": "FE7Y7Oo2kjQj",
        "outputId": "fd2bd6f7-6cae-4dcb-dd0d-15c2d0aa6038"
      },
      "source": [
        "my_list = ['xyz', 'XYZ' 'abc', 'ABC']\n",
        "print(\"Count for xyz : \",  my_list.count( 'xyz' ))\n",
        "print(\"Count for ABC : \",  my_list.count( 'ABC' ))"
      ],
      "execution_count": null,
      "outputs": [
        {
          "output_type": "stream",
          "name": "stdout",
          "text": [
            "Count for xyz :  1\n",
            "Count for ABC :  1\n"
          ]
        }
      ]
    },
    {
      "cell_type": "code",
      "metadata": {
        "colab": {
          "base_uri": "https://localhost:8080/"
        },
        "id": "wc2IvIB9mUcw",
        "outputId": "090f9e6c-984a-4da1-e5be-74faebb232fd"
      },
      "source": [
        "# 뭘 하려고 하는건지 모르겠음.\n",
        "import math\n",
        "def bin_search(li,element):\n",
        "    bottom = 0\n",
        "    top = len(li)-1  #6\n",
        "    index = -1\n",
        "    while top >= bottom and index == -1:\n",
        "        mid = int(math.floor((top+bottom) / 2.0))   # 실수를 입력하면내림하여 정수를 반환하는 함수\n",
        "        if li[mid] == element:\n",
        "            index = mid\n",
        "        elif li[mid] > element:\n",
        "            top = mid-1\n",
        "        else:\n",
        "            bottom = mid+1\n",
        "    return index\n",
        "\n",
        "li=[2,5,7,9,11,17,222]\n",
        "print(bin_search(li,11))\n",
        "print(bin_search(li,102))"
      ],
      "execution_count": null,
      "outputs": [
        {
          "output_type": "stream",
          "name": "stdout",
          "text": [
            "4\n",
            "-1\n"
          ]
        }
      ]
    },
    {
      "cell_type": "markdown",
      "metadata": {
        "id": "ulJC9vt5x6-T"
      },
      "source": [
        "## enumerate"
      ]
    },
    {
      "cell_type": "code",
      "metadata": {
        "colab": {
          "base_uri": "https://localhost:8080/"
        },
        "id": "St-G_dQwpBww",
        "outputId": "94a5a19b-4711-46c4-a627-5bed85f19990"
      },
      "source": [
        "li = [12,24,35,70,88,120]\n",
        "for (i,x) in enumerate(li):  # 순서가 있는 자료형(list, set, tuple, dictionary, string)을 입력으로 받아 인덱스 값을 포함하는 enumerate 객체를 리턴\n",
        "    print(i, x)\n",
        "    if i not in (0,3,5):\n",
        "       li = x\n",
        "print(li)"
      ],
      "execution_count": null,
      "outputs": [
        {
          "output_type": "stream",
          "name": "stdout",
          "text": [
            "0 12\n",
            "1 24\n",
            "2 35\n",
            "3 70\n",
            "4 88\n",
            "5 120\n",
            "88\n"
          ]
        }
      ]
    },
    {
      "cell_type": "markdown",
      "metadata": {
        "id": "B3kzZRcWyG8F"
      },
      "source": [
        "## set과 add()"
      ]
    },
    {
      "cell_type": "code",
      "metadata": {
        "colab": {
          "base_uri": "https://localhost:8080/"
        },
        "id": "rFmyIgNesnVV",
        "outputId": "b17ebfcd-dc25-426f-8edf-e7a3daaef267"
      },
      "source": [
        "def list_update(data):\n",
        "    new_li=[]\n",
        "    new_set = set()\n",
        "    for item in data:\n",
        "        if item not in new_set:\n",
        "            new_set.add(item)   # set에서는 요소를 추가할 때 add()함수를 쓴다. \n",
        "            new_li.append(item)\n",
        "\n",
        "    return new_li, new_set\n",
        "\n",
        "list_test=[120,120,10,20,30,20]\n",
        "print(list_update(list_test))"
      ],
      "execution_count": null,
      "outputs": [
        {
          "output_type": "stream",
          "name": "stdout",
          "text": [
            "([120, 10, 20, 30], {120, 10, 20, 30})\n"
          ]
        }
      ]
    },
    {
      "cell_type": "markdown",
      "metadata": {
        "id": "Js98vV1KwQB8"
      },
      "source": [
        "## sort, sorted, 다중정렬\n",
        "\n",
        "https://cigiko.cafe24.com/python-%EC%A0%95%EB%A0%AC%ED%95%98%EA%B8%B0-sort%EC%99%80-sorted/"
      ]
    },
    {
      "cell_type": "code",
      "metadata": {
        "colab": {
          "base_uri": "https://localhost:8080/"
        },
        "id": "EnwrkrbNtXT5",
        "outputId": "a1ad7f67-55c2-4ec4-fc86-88d0a9f060a5"
      },
      "source": [
        "from operator import itemgetter\n",
        "# operator.itemgetter 모듈은 주로 sorted와 같은 함수의 key 매개변수에 적용되어 다중 수준의 정렬을 가능하게 해주는 모듈\n",
        "\n",
        "l = []\n",
        "while True:\n",
        "    s = input()\n",
        "    if not s:\n",
        "        break\n",
        "    l.append(tuple(s.split(\",\")))  # 입력받는 s를 ,로 나눈다음 tuple로 만들어서 list에 추가해줘라.\n",
        "\n",
        "print(sorted(l, key=itemgetter(0,1,2)))  #리스트를 정렬한다. key를 기준으로 하여 순서대로\n",
        "\n"
      ],
      "execution_count": null,
      "outputs": [
        {
          "output_type": "stream",
          "name": "stdout",
          "text": [
            "adam, 10, Newyork\n",
            "John, 5, Afreeca\n",
            "miho, 35, juji\n",
            "AAdo, 22, age\n",
            "\n",
            "[('AAdo', ' 22', ' age'), ('John', ' 5', ' Afreeca'), ('adam', ' 10', ' Newyork'), ('miho', ' 35', ' juji')]\n"
          ]
        }
      ]
    },
    {
      "cell_type": "markdown",
      "metadata": {
        "id": "HaX4zc3mxwy7"
      },
      "source": [
        "## 딕셔너리 : get()"
      ]
    },
    {
      "cell_type": "code",
      "metadata": {
        "colab": {
          "base_uri": "https://localhost:8080/"
        },
        "id": "xYyfvlj0wTuq",
        "outputId": "3efdf9f0-fe3b-4e7b-a571-e4f32684b20c"
      },
      "source": [
        "dic = {}\n",
        "s=input()\n",
        "for s in s:\n",
        "    dic[s] = dic.get(s,0)+1  # get(찾고자하는 key, 찾는key가 없을 때 딕셔너리에 key와 함께 추가할 value)\\\n",
        "print(dic)\n",
        "print(['%s,%s' % (k, v) for k, v in dic.items()])\n",
        "print('\\n'.join(['%s,%s' % (k, v) for k, v in dic.items()]))"
      ],
      "execution_count": null,
      "outputs": [
        {
          "output_type": "stream",
          "name": "stdout",
          "text": [
            "hello, world\n",
            "{'h': 1, 'e': 1, 'l': 3, 'o': 2, ',': 1, ' ': 1, 'w': 1, 'r': 1, 'd': 1}\n",
            "['h,1', 'e,1', 'l,3', 'o,2', ',,1', ' ,1', 'w,1', 'r,1', 'd,1']\n",
            "h,1\n",
            "e,1\n",
            "l,3\n",
            "o,2\n",
            ",,1\n",
            " ,1\n",
            "w,1\n",
            "r,1\n",
            "d,1\n"
          ]
        }
      ]
    },
    {
      "cell_type": "markdown",
      "metadata": {
        "id": "pnf6NUF4qz2D"
      },
      "source": [
        "# lambda\n",
        "람다 함수의 장점은 함수 객체를 반환한다. 따라서 함수 객체를 인수로 필요로하는 map 또는 filter와 같은 함수와 함께 사용할 때 유용하다."
      ]
    },
    {
      "cell_type": "code",
      "metadata": {
        "colab": {
          "base_uri": "https://localhost:8080/"
        },
        "id": "wvRfzkIotPjb",
        "outputId": "b9867fbf-09ad-4ce9-a3ef-5ac1cf650103"
      },
      "source": [
        "# 함수정의\n",
        "define_word = (lambda word1,define :  word1 * define)\n",
        "\n",
        "# 함수호출\n",
        "result = define_word('call_result_',5)\n",
        "\n",
        "# 결과출력\n",
        "print(result)"
      ],
      "execution_count": null,
      "outputs": [
        {
          "output_type": "stream",
          "name": "stdout",
          "text": [
            "call_result_call_result_call_result_call_result_call_result_\n"
          ]
        }
      ]
    },
    {
      "cell_type": "markdown",
      "metadata": {
        "id": "x_ZC5iFNru6N"
      },
      "source": [
        "## map(function, iterable)\n",
        "- 첫 번째 매개변수로는 함수가 오고 두 번째 매개변수로는 반복 가능한 자료형(리스트, 튜플 등)이 옵니다.\n",
        "- map 함수의 반환 값은 map객체 이기 때문에 해당 자료형을 list 혹은 tuple로 형 변환시켜주어야 합니다.\n",
        "\n",
        "- 함수의 동작은 두 번째 인자로 들어온 반복 가능한 자료형 (리스트나 튜플)을 첫 번째 인자로 들어온 함수에 하나씩 집어넣어서 함수를 수행하는 함수입니다.\n",
        "\n",
        "- map(적용시킬 함수, 적용할 값들) 이런 식인 거죠.\n",
        "\n",
        "\n",
        "\n",
        "출처: https://blockdmask.tistory.com/531 [개발자 지망생]"
      ]
    },
    {
      "cell_type": "code",
      "metadata": {
        "colab": {
          "base_uri": "https://localhost:8080/"
        },
        "id": "-Uc1fGGmrHya",
        "outputId": "ee5689a6-b4f5-48c2-b7a7-89ad43002971"
      },
      "source": [
        "# 리스트 생성\n",
        "spelling = [\"test1\", \"test2\", \"test4 test5\", \"test3\"]\n",
        "\n",
        "# 람다함수적용\n",
        "shout_spells = map(lambda item: item + ('!!!'), spelling)  # map(function, iterable)\n",
        "\n",
        "\n",
        "\n",
        "# 리스트형태로 변환\n",
        "shout_spells_list = list(shout_spells)\n",
        "\n",
        "# 결과출력\n",
        "print(shout_spells)\n",
        "print(shout_spells_list)"
      ],
      "execution_count": null,
      "outputs": [
        {
          "output_type": "stream",
          "name": "stdout",
          "text": [
            "<map object at 0x7f89081bc310>\n",
            "['test1!!!', 'test2!!!', 'test4 test5!!!', 'test3!!!']\n"
          ]
        }
      ]
    },
    {
      "cell_type": "markdown",
      "metadata": {
        "id": "ehGpCyepsELO"
      },
      "source": [
        "## filter(조건 함수, 순회 가능한 데이터)\n",
        "\n",
        "filter() 함수는 두번째 인자로 넘어온 데이터 중에서 첫번째 인자로 넘어온 조건 함수를 만족하는 데이터만을 반환합니다."
      ]
    },
    {
      "cell_type": "code",
      "metadata": {
        "colab": {
          "base_uri": "https://localhost:8080/"
        },
        "id": "HmM2oAEzrYES",
        "outputId": "6fc09be1-4e52-4feb-e68f-0df79df3938f"
      },
      "source": [
        "# 리스트 생성\n",
        "fellowship = ['frodo', 'samwise', 'merry', 'pippin', 'aragorn', 'boromir', 'legolas', 'gimli', 'gandalf']\n",
        "\n",
        "# 람다함수적용\n",
        "result = filter(lambda member: len(member) > 6, fellowship)  # True 만 반환\n",
        "\n",
        "# 리스트형태로 변환\n",
        "result_list = list(result)\n",
        "\n",
        "# 결과출력\n",
        "print(result_list)"
      ],
      "execution_count": null,
      "outputs": [
        {
          "output_type": "stream",
          "name": "stdout",
          "text": [
            "['samwise', 'aragorn', 'boromir', 'legolas', 'gandalf']\n"
          ]
        }
      ]
    },
    {
      "cell_type": "markdown",
      "metadata": {
        "id": "0BjHwe9tsXiZ"
      },
      "source": [
        "## reduce(function, iterable, initializer=None)\n",
        "reduce(집계 함수, 순회 가능한 데이터[, 초기값])\n",
        "\n",
        "기본적으로 초기값을 기준으로 데이터를 루프 돌면서 집계 함수를 계속해서 적용하면서 데이터를 누적하는 방식으로 작동합니다.\n",
        "\n",
        " 첫번째 인자는 누적자(accumulator), 두번째 인자는 현재값(current value)가 넘어오게 됩니다. 누적자는 함수 실행의 시작부터 끝까지 계속해서 재사용되는 값이고, 현재값은 루프 돌면서 계속해서 바뀌는 값입니다.\n",
        "\n",
        " https://www.daleseo.com/python-functools-reduce/\n",
        "\n",
        " 단점 : # 람다 : 에러가 뜰 때 어느 부분에서 뜨는지 알수 없다. \n",
        "\n",
        "\n",
        "map-reduce-filter 차이 :  https://gonigoni.kr/posts/python-map-reduce-filter/"
      ]
    },
    {
      "cell_type": "code",
      "metadata": {
        "colab": {
          "base_uri": "https://localhost:8080/"
        },
        "id": "fsozWbjSsP6V",
        "outputId": "e7ba1dd1-72e5-4ac7-8a67-2d7eed95434f"
      },
      "source": [
        "# functools 모듈 사용\n",
        "from functools import reduce\n",
        "\n",
        "# 리스트 생성\n",
        "stark = ['robb', 'sansa', 'arya', 'brandon', 'rickon']\n",
        "\n",
        "# 람다함수적용\n",
        "result = reduce(lambda item1, item2:  item1+item2, stark)\n",
        "\n",
        "# 결과출력\n",
        "print(result)"
      ],
      "execution_count": null,
      "outputs": [
        {
          "output_type": "stream",
          "name": "stdout",
          "text": [
            "robbsansaaryabrandonrickon\n"
          ]
        }
      ]
    },
    {
      "cell_type": "code",
      "metadata": {
        "colab": {
          "base_uri": "https://localhost:8080/"
        },
        "id": "ppx7Otxls8Ra",
        "outputId": "9125ee30-09a2-4609-f92e-d30ca36bcb03"
      },
      "source": [
        "from functools import reduce\n",
        "\n",
        "\n",
        "func = lambda a, b: a if (a > b) else b  # 만약 a가 b보다 크면 func는 a이고, 아니면 b이다.\n",
        "result = reduce(func, [1, 100, 2, 55])  # reduce는 func에 1,100을 차례로 넣어줌.\n",
        "\n",
        "print(result)\n",
        "\n",
        "# 100"
      ],
      "execution_count": null,
      "outputs": [
        {
          "output_type": "stream",
          "name": "stdout",
          "text": [
            "100\n"
          ]
        }
      ]
    },
    {
      "cell_type": "markdown",
      "metadata": {
        "id": "_GTuifbteIYb"
      },
      "source": [
        "# 컴프리헨션(comprehension)\n",
        "\n",
        "변수명 = [수식 for 변수명 in 리스트/range() if 조건]\n"
      ]
    },
    {
      "cell_type": "code",
      "metadata": {
        "colab": {
          "base_uri": "https://localhost:8080/"
        },
        "id": "3x898-TWeLOW",
        "outputId": "eaf87cd7-15a9-46ae-c4f1-d62ad92430d0"
      },
      "source": [
        "list_a = [1, 2, 3, 4]\n",
        "list_b = [2, 3, 4, 5]\n",
        "\n",
        "common_num = [a for a in list_a for b in list_b if a == b]\n",
        "\n",
        "print(common_num)"
      ],
      "execution_count": null,
      "outputs": [
        {
          "output_type": "stream",
          "name": "stdout",
          "text": [
            "[2, 3, 4]\n"
          ]
        }
      ]
    },
    {
      "cell_type": "code",
      "metadata": {
        "colab": {
          "base_uri": "https://localhost:8080/"
        },
        "id": "w0_CKm9eeVY7",
        "outputId": "c4ac63a3-35c5-4a43-8498-36958204be2a"
      },
      "source": [
        "# 딕셔너리 컴프리헨션\n",
        "\n",
        "test = {'A': 5, 'B': 7, 'C': 9, 'D': 6, 'E': 10} \n",
        "\n",
        "test = {na:test for na,test in test.items() if na != 'E'}\n",
        "print(test)"
      ],
      "execution_count": null,
      "outputs": [
        {
          "output_type": "stream",
          "name": "stdout",
          "text": [
            "{'A': 5, 'B': 7, 'C': 9, 'D': 6}\n"
          ]
        }
      ]
    },
    {
      "cell_type": "code",
      "metadata": {
        "colab": {
          "base_uri": "https://localhost:8080/"
        },
        "id": "dPwtZk8Peev4",
        "outputId": "0260bd7c-fa8e-48e1-8364-695ca4001e57"
      },
      "source": [
        "# 아래와 같이 조건을 반복문 대신 조건을 먼저 쓸 수 있다.\n",
        "# 조건을 위해 if를 사용하는 경우 else를 작성해줘야된다.\n",
        "numbers = {'amy': 7, 'jane': 9, 'sophia': 5, 'jay': 10}\n",
        "pas = {name:'PASS' if number > 8 else 'NO PASS' for name, number in numbers.items()}\n",
        "print(pas)"
      ],
      "execution_count": null,
      "outputs": [
        {
          "output_type": "stream",
          "name": "stdout",
          "text": [
            "{'amy': 'NO PASS', 'jane': 'PASS', 'sophia': 'NO PASS', 'jay': 'PASS'}\n"
          ]
        }
      ]
    },
    {
      "cell_type": "code",
      "metadata": {
        "colab": {
          "base_uri": "https://localhost:8080/"
        },
        "id": "Hou-__rxfCO2",
        "outputId": "f91e3822-02c3-42b8-9336-b0fb4a2abae5"
      },
      "source": [
        "# 아래처럼 반복문을 연속으로 작성가능하다.\n",
        "# set은 특성상 중복값을 제외한다.\n",
        "\n",
        "print('list for loop : ',[n for n in range(1, 5+1) for n in range(1, 5+1)])\n",
        "\n",
        "print('set for loop : ',{n for n in range(1, 5+1) for n in range(1, 5+1)})"
      ],
      "execution_count": null,
      "outputs": [
        {
          "output_type": "stream",
          "name": "stdout",
          "text": [
            "list for loop :  [1, 2, 3, 4, 5, 1, 2, 3, 4, 5, 1, 2, 3, 4, 5, 1, 2, 3, 4, 5, 1, 2, 3, 4, 5]\n",
            "set for loop :  {1, 2, 3, 4, 5}\n"
          ]
        }
      ]
    },
    {
      "cell_type": "code",
      "metadata": {
        "colab": {
          "base_uri": "https://localhost:8080/"
        },
        "id": "sibMblM2e0-d",
        "outputId": "12fbdda7-9250-4169-cc0a-ddc0824b7fdd"
      },
      "source": [
        "# 두개의 리스트를 하나의 딕셔너리로 합침. \n",
        "# 하나는 key, 또 다른 하나는 value로 사용한다\n",
        "subjects = ['math', 'history', 'english', 'computer engineering']\n",
        "scores = [90, 80, 95, 100]\n",
        "\n",
        "score_dict = {key:value for key, value in zip(subjects, scores)}\n",
        "print(score_dict)\n",
        "\n",
        "# 튜플 리스트를 딕셔너리 형태로 변환\n",
        "score_tuples = [('math', 90), ('history', 80), ('english', 95), ('computer engineering', 100)]\n",
        "score_dict = {t[0]:t[1] for t in score_tuples}\n",
        "score_dict"
      ],
      "execution_count": null,
      "outputs": [
        {
          "output_type": "stream",
          "name": "stdout",
          "text": [
            "{'math': 90, 'history': 80, 'english': 95, 'computer engineering': 100}\n"
          ]
        },
        {
          "output_type": "execute_result",
          "data": {
            "text/plain": [
              "{'computer engineering': 100, 'english': 95, 'history': 80, 'math': 90}"
            ]
          },
          "metadata": {},
          "execution_count": 8
        }
      ]
    },
    {
      "cell_type": "markdown",
      "metadata": {
        "id": "cJdIvVHwh97j"
      },
      "source": [
        "# 지역변수, 전역변수\n",
        "\n",
        "코드가 복잡해지고, 변수가 많아질 때 사용할 수 있음.\n",
        "\n",
        "지역변수 : 변수명을 함수 안에서 할당하고 함수 안에서만 작동함. \n",
        "\n",
        "--> 만약 함수밖에서 쓰고싶다면? 전역변수화 해줘야함. global코드를 이용\n",
        "\n",
        "\n",
        "** \n",
        "\n",
        "파이썬 내부에는 '이름공간'이라고 해서, 변수명을 저장해주는 공간이 있다. \n",
        "\n",
        "그리고 함수 내부에 변수가 저장되는 공간을 '지역영역'이라고 하고\n",
        "\n",
        "함수 외부의 부분을 '전역영역'이라고 함.\n",
        "\n",
        "컴퓨터에서는 지역먼저 찾고, 전역을 확인하는 룰이 있음. 추가적으로 내장영역을 탐색한다. ((스코핑룰, lgb(local grobal built-in) rule)에 따라 변수를 가져온다. ))\n",
        "\n",
        "내장영역은 파이썬 자체에서 제공하는 함수, 메서드들이 저장된 공간을 내장영역이라고 함. \n",
        "\n",
        "**\n"
      ]
    },
    {
      "cell_type": "code",
      "metadata": {
        "id": "Q43pkhBmUSfa"
      },
      "source": [
        "# 아래 소스코드를 한 줄씩 실행하면서 지역변수와 전역변수에 대해 파악한다.\n",
        "\n",
        "g_var = 'g_var'   # 전역변수\n",
        "\n",
        "  \n",
        "# 값 수정후(수정값)\n",
        "def variables():\n",
        "  \n",
        "  global glo_var  # global 전역변수\n",
        "  glo_var = 'glo_var' # global 전역변수에 새로운 값 할당\n",
        "  lo_var = 'lo_var'   # 지역변수\n",
        "\n",
        "  print()\n",
        "  print('(값 수정후)함수 안에서 g_var(전역변수) : ', g_var)  # 수정되지 않고 초기값을 출력함\n",
        "  print('(값 수정후)함수 안에서 glo_var(global 전역변수) : ', glo_var)  # 함수에서 수정된 후 값을 출력함\n",
        "  print('함수 안에서 lo_var(지역변수) : ', lo_var)    # 특정 함수에서만 출력되는 지역변수\n",
        "\n",
        "# 전역변수를 파라미터로 담은 함수\n",
        "def second_variables(glo_var,g_var):\n",
        "  glo_var = 'glo_var in second_variables()'\n",
        "  g_var = 'g_var in second_variables()'\n",
        "  lo_var = 'second lo_var'\n",
        "  print('서로 다른 함수에서 지역변수이름이 같은 경우 :',lo_var)\n",
        "  \n",
        "  return glo_var,g_var"
      ],
      "execution_count": null,
      "outputs": []
    },
    {
      "cell_type": "code",
      "metadata": {
        "colab": {
          "base_uri": "https://localhost:8080/"
        },
        "id": "OxpphG1KXRI4",
        "outputId": "c55108a6-756c-47bb-948f-37fce403edeb"
      },
      "source": [
        "# 값 수정전(초기값)\n",
        "g_var = 'g_var_new_value'\n",
        "glo_var = 'glo_var_new_value'\n",
        "print('(값 수정전)함수 밖에서 g_var(전역변수) : ', g_var)  \n",
        "print('(값 수정전)함수 밖에서 glo_var(global 전역변수) : ', glo_var) # 새로 할당된 값으로 수정됨\n",
        "# print('함수 밖에서 lo_var(지역변수) : ', lo_var) # 특정 함수 안에서만 사용하는 지역변수이므로 출력안됨\n",
        "\n",
        "# 전역변수의 값 수정\n",
        "print('함수의 파라미터가 전역변수인 경우 :', second_variables(glo_var, g_var))\n",
        "\n",
        "# 지역변수를 갖고 오는 경우\n",
        "#print('함수의 파라미터가 지역변수인 경우 :', second_variables(glo_var, lo_var))\n",
        "\n",
        "# 함수에서 수정된 전역변수 재호출\n",
        "print('전역변수값 :',glo_var, g_var)\n",
        "\n",
        "variables()"
      ],
      "execution_count": null,
      "outputs": [
        {
          "output_type": "stream",
          "name": "stdout",
          "text": [
            "(값 수정전)함수 밖에서 g_var(전역변수) :  g_var_new_value\n",
            "(값 수정전)함수 밖에서 glo_var(global 전역변수) :  glo_var_new_value\n",
            "서로 다른 함수에서 지역변수이름이 같은 경우 : second lo_var\n",
            "함수의 파라미터가 전역변수인 경우 : ('glo_var in second_variables()', 'g_var in second_variables()')\n",
            "전역변수값 : glo_var_new_value g_var_new_value\n",
            "\n",
            "(값 수정후)함수 안에서 g_var(전역변수) :  g_var_new_value\n",
            "(값 수정후)함수 안에서 glo_var(global 전역변수) :  glo_var\n",
            "함수 안에서 lo_var(지역변수) :  lo_var\n"
          ]
        }
      ]
    },
    {
      "cell_type": "markdown",
      "metadata": {
        "id": "XLrDw8W-iIbu"
      },
      "source": [
        "# 예외처리\n",
        "\n",
        "- else --> 파이썬은 문법적 유연성이 뛰어나다. "
      ]
    },
    {
      "cell_type": "markdown",
      "metadata": {
        "id": "WVmz1FH0kAkf"
      },
      "source": [
        "## for~ else, while~else\n",
        "\n",
        "반복문 이후, else를 사용하는 경우 대부분의 else가 즉시 실행된다.\n",
        "\n",
        "루프에서 break를 활용해야지만 else 실행을 막을 수 있다.\n",
        "\n",
        "\n",
        "else가 반복문이후에 예외사항을 확인시켜줄 수 있다. "
      ]
    },
    {
      "cell_type": "code",
      "metadata": {
        "colab": {
          "base_uri": "https://localhost:8080/"
        },
        "id": "fBG_0Wr-jjD4",
        "outputId": "7403d196-5f4a-496f-fc62-7413b5adf217"
      },
      "source": [
        "for i in range(3):\n",
        "  print('loop : ', i) # 1) 루프반복수행\n",
        "else : \n",
        "  print('Else statement') # 2) else 구문 추가수행"
      ],
      "execution_count": null,
      "outputs": [
        {
          "output_type": "stream",
          "name": "stdout",
          "text": [
            "loop :  0\n",
            "loop :  1\n",
            "loop :  2\n",
            "Else statement\n"
          ]
        }
      ]
    },
    {
      "cell_type": "code",
      "metadata": {
        "colab": {
          "base_uri": "https://localhost:8080/"
        },
        "id": "p3uyDiRUjZ77",
        "outputId": "6fc9bddb-727b-471d-8fb5-bea04fa8fb9c"
      },
      "source": [
        "# 그렇다면 break문이 있다면?\n",
        "for i in range(3):\n",
        "  print('loop : ', i) # 1) 루프반복수행\n",
        "  if i == 1:\n",
        "    break     # break는 어떤 영향을 줄 것인가?\n",
        "else : \n",
        "  print('Else statement') # 2) else 구문 추가수행"
      ],
      "execution_count": null,
      "outputs": [
        {
          "output_type": "stream",
          "name": "stdout",
          "text": [
            "loop :  0\n",
            "loop :  1\n"
          ]
        }
      ]
    },
    {
      "cell_type": "code",
      "metadata": {
        "colab": {
          "base_uri": "https://localhost:8080/"
        },
        "id": "wKd0tA2Hjv5l",
        "outputId": "5c478604-5643-4e27-c4ce-965d211e2af0"
      },
      "source": [
        "# 그렇다면 break문이 있다면?\n",
        "for i in range(3):\n",
        "  print('loop : ', i) # 1) 루프반복수행\n",
        "  if i == 1:\n",
        "    break     # break는 어떤 영향을 줄 것인가?\n",
        "print('Else statement') # 2) else 구문 추가수행"
      ],
      "execution_count": null,
      "outputs": [
        {
          "output_type": "stream",
          "name": "stdout",
          "text": [
            "loop :  0\n",
            "loop :  1\n",
            "Else statement\n"
          ]
        }
      ]
    },
    {
      "cell_type": "code",
      "metadata": {
        "colab": {
          "base_uri": "https://localhost:8080/"
        },
        "id": "MYSAgIShk2NN",
        "outputId": "e55e3354-4bab-47a2-a7ed-7851f11fe3fa"
      },
      "source": [
        "# 반복문에 빈 리스트를 넣으면 어떻게 될까?\n",
        "for i in []:\n",
        "  print('loop : ', i) # 1) 루프반복수행\n",
        "else : \n",
        "  print('Else statement') # 2) else 구문 추가수행"
      ],
      "execution_count": null,
      "outputs": [
        {
          "output_type": "stream",
          "name": "stdout",
          "text": [
            "Else statement\n"
          ]
        }
      ]
    },
    {
      "cell_type": "code",
      "metadata": {
        "colab": {
          "base_uri": "https://localhost:8080/"
        },
        "id": "a-ClKmyzlDTk",
        "outputId": "8af19a9b-b204-44bc-ae82-59328b5cfdf8"
      },
      "source": [
        "# 반복문이 while 형태로 False인 경우에는 어떨까?\n",
        "while False:\n",
        "  print('loop : ', i) # 1) 루프반복수행\n",
        "else : \n",
        "  print('Else statement') # 2) else 구문 추가수행"
      ],
      "execution_count": null,
      "outputs": [
        {
          "output_type": "stream",
          "name": "stdout",
          "text": [
            "Else statement\n"
          ]
        }
      ]
    },
    {
      "cell_type": "code",
      "metadata": {
        "colab": {
          "base_uri": "https://localhost:8080/"
        },
        "id": "C_CyfEuPlFvm",
        "outputId": "10c4a34f-6bc4-4c23-89a7-365941add6c0"
      },
      "source": [
        "# 서로소 판별문제\n",
        "# 서로소(coprime): 공약수가 1뿐인 두 정수\n",
        "p_a = 5\n",
        "p_b = 3\n",
        "\n",
        "for i in range(2, min(p_a, p_b) +1):    \n",
        "  print('testing ....', i)\n",
        "\n",
        "  if p_a % i == 0 and p_b % i == 0:\n",
        "    print('서로소가 아닙니다.')\n",
        "    break\n",
        "\n",
        "else:\n",
        "  print('서로소입니다.')\n",
        "\n",
        "print('---------------------------------')\n",
        "# 아래 코드를 수행하여 위의 코드 결과를 비교해 보세요.\n",
        "p_a = 5\n",
        "p_b = 3\n",
        "\n",
        "for i in range(2, min(p_a, p_b) +1):    \n",
        "  print('testing ....', i)\n",
        "\n",
        "  if p_a % i == 0 and p_b % i == 0:\n",
        "    print('서로소가 아닙니다.')\n",
        "    break\n",
        "\n",
        "  else:\n",
        "    print('서로소입니다.')"
      ],
      "execution_count": null,
      "outputs": [
        {
          "output_type": "stream",
          "name": "stdout",
          "text": [
            "testing .... 2\n",
            "testing .... 3\n",
            "서로소입니다.\n",
            "---------------------------------\n",
            "testing .... 2\n",
            "서로소입니다.\n",
            "testing .... 3\n",
            "서로소입니다.\n"
          ]
        }
      ]
    },
    {
      "cell_type": "code",
      "metadata": {
        "colab": {
          "base_uri": "https://localhost:8080/"
        },
        "id": "5-kapcvKllyp",
        "outputId": "b07f4f84-a596-43e5-9696-204ccd50a6f7"
      },
      "source": [
        "# for~else 예시\n",
        "\n",
        "for i in []:\n",
        "  print('실행안됨')\n",
        "\n",
        "else:\n",
        "  print('실행되면 안됨')"
      ],
      "execution_count": null,
      "outputs": [
        {
          "output_type": "stream",
          "name": "stdout",
          "text": [
            "실행되면 안됨\n"
          ]
        }
      ]
    },
    {
      "cell_type": "code",
      "metadata": {
        "colab": {
          "base_uri": "https://localhost:8080/"
        },
        "id": "zO6FBEJllogL",
        "outputId": "c615c09c-81fb-4fa2-f68c-d87b444bb809"
      },
      "source": [
        "# while~else 예시\n",
        "\n",
        "while False:\n",
        "    print('실행안됨')\n",
        "  \n",
        "else:\n",
        "    print('실행되면 안됨')"
      ],
      "execution_count": null,
      "outputs": [
        {
          "output_type": "stream",
          "name": "stdout",
          "text": [
            "실행되면 안됨\n"
          ]
        }
      ]
    },
    {
      "cell_type": "markdown",
      "metadata": {
        "id": "EcTi1CeRfgqC"
      },
      "source": [
        "## try/except\n",
        "\n",
        "--> 특정 상황에서만 쓰인다. 앱개발이나 웹개발 등 측면에서, 완성된 코드를 보면서 어떤 상황에서 이러한 구문이 쓰이고 안쓰이냐를 판단하는 연습. flask에서 쓸수 있겠죠.\n",
        "\n",
        "if/else 구문에서 else는 '앞의 구문이 수행되지 않으면 else구문을 수행하시오' 라는 뜻이다.\n",
        "\n",
        "try/except 구문 또한 이 구문 앞의 try 구문을 수행하다가 예외발생 시, except 구문을 수행하시오' 라는 뜻이다."
      ]
    },
    {
      "cell_type": "markdown",
      "metadata": {
        "id": "EMhxaaeqmqVG"
      },
      "source": [
        "## assert \n",
        "\n",
        "위처럼 else의 활용이 되었던 이유는 else가 반복문이후에 예외사항을 확인시켜줄 수 있었기때문이다.\n",
        "\n",
        "그래서 아래와 같이 함수와 assert를 활용하여 else의 무분별한 활용을 줄일 수 있다.\n",
        "\n",
        "단순히 예외사항 확인이나 점검용도면 굳이 else를 쓸 필요가 없다.\n",
        "\n",
        "- assert 조건, '에러메시지'\n",
        "\n",
        "조건이 True인 경우 그대로 코드 진행, False인 경우 에러메시지(Assertion Error)를 띄워준다.\n",
        "\n",
        "에러메시지: 앞에 조건이 False인 경우 AssertionError와 함께 남길 메시지를 남겨줄 수 있다. 이 부분은 생략 가능한 부분이다.\n",
        "\n",
        "assert()는 방어적 프로그래밍(defensive programming) 방법 중 하나이며, 코드를 점검하는데 사용된다."
      ]
    },
    {
      "cell_type": "code",
      "metadata": {
        "id": "oZEGjJWcmnke"
      },
      "source": [
        "# 조건에 맞는 경우, 함수에서 부울값을 반환해주는 방법\n",
        "def bool_return(v1, v2):\n",
        "  # 두 인자가 서로소가 아닐 경우 False를 반환하고,\n",
        "  # 서로소일 경우 True를 반환한다.\n",
        "  for i in range(2, min(v1, v2) +1):\n",
        "    if v1 % i == 0 and v2 % i == 0:\n",
        "      return False\n",
        "  return True"
      ],
      "execution_count": null,
      "outputs": []
    },
    {
      "cell_type": "code",
      "metadata": {
        "colab": {
          "base_uri": "https://localhost:8080/"
        },
        "id": "VhklA-kpawwT",
        "outputId": "c5f4cbdc-619f-4f42-ceb0-549d5ac5d6e7"
      },
      "source": [
        "\n",
        "# 4와 9는 공약수가 1뿐인 두 정수로 서로소이다. 그러므로 아래 함수는 True 를 반환한다.\n",
        "print('bool_return(4,9): ',bool_return(4,9))\n",
        "assert bool_return(4,9)\n"
      ],
      "execution_count": null,
      "outputs": [
        {
          "output_type": "stream",
          "name": "stdout",
          "text": [
            "bool_return(4,9):  True\n"
          ]
        }
      ]
    },
    {
      "cell_type": "code",
      "metadata": {
        "colab": {
          "base_uri": "https://localhost:8080/",
          "height": 223
        },
        "id": "QNA3GtFKaygW",
        "outputId": "b27ee193-9157-4df2-9fdf-367dc0d1d3b4"
      },
      "source": [
        "# False면  AssertionError가 발생한다.\n",
        "print('bool_return(3,6):',bool_return(3,6))\n",
        "assert bool_return(3,6), '서로소를 입력해주세요.'"
      ],
      "execution_count": null,
      "outputs": [
        {
          "output_type": "stream",
          "name": "stdout",
          "text": [
            "bool_return(3,6): False\n"
          ]
        },
        {
          "output_type": "error",
          "ename": "AssertionError",
          "evalue": "ignored",
          "traceback": [
            "\u001b[0;31m---------------------------------------------------------------------------\u001b[0m",
            "\u001b[0;31mAssertionError\u001b[0m                            Traceback (most recent call last)",
            "\u001b[0;32m<ipython-input-34-f3a72a05c943>\u001b[0m in \u001b[0;36m<module>\u001b[0;34m()\u001b[0m\n\u001b[1;32m      2\u001b[0m \u001b[0;31m# 아래 주석 처리된 함수는 False 를 반환하고 AssertionError가 발생한다.\u001b[0m\u001b[0;34m\u001b[0m\u001b[0;34m\u001b[0m\u001b[0;34m\u001b[0m\u001b[0m\n\u001b[1;32m      3\u001b[0m \u001b[0mprint\u001b[0m\u001b[0;34m(\u001b[0m\u001b[0;34m'bool_return(3,6):'\u001b[0m\u001b[0;34m,\u001b[0m\u001b[0mbool_return\u001b[0m\u001b[0;34m(\u001b[0m\u001b[0;36m3\u001b[0m\u001b[0;34m,\u001b[0m\u001b[0;36m6\u001b[0m\u001b[0;34m)\u001b[0m\u001b[0;34m)\u001b[0m\u001b[0;34m\u001b[0m\u001b[0;34m\u001b[0m\u001b[0m\n\u001b[0;32m----> 4\u001b[0;31m \u001b[0;32massert\u001b[0m \u001b[0mbool_return\u001b[0m\u001b[0;34m(\u001b[0m\u001b[0;36m3\u001b[0m\u001b[0;34m,\u001b[0m\u001b[0;36m6\u001b[0m\u001b[0;34m)\u001b[0m\u001b[0;34m,\u001b[0m \u001b[0;34m'서로소를 입력해주세요.'\u001b[0m\u001b[0;34m\u001b[0m\u001b[0;34m\u001b[0m\u001b[0m\n\u001b[0m",
            "\u001b[0;31mAssertionError\u001b[0m: 서로소를 입력해주세요."
          ]
        }
      ]
    },
    {
      "cell_type": "code",
      "metadata": {
        "colab": {
          "base_uri": "https://localhost:8080/"
        },
        "id": "hRjVnB1KbOFg",
        "outputId": "f082b92f-dc97-4ecd-a317-40228ce2118f"
      },
      "source": [
        "# False일지라도 assert not False는 에러를 반환하지 않는다.\n",
        "# not bool_return(3,6) = not False = True\n",
        "print('not bool_return(3,6):', not bool_return(3,6))\n",
        "assert not bool_return(3,6)"
      ],
      "execution_count": null,
      "outputs": [
        {
          "output_type": "stream",
          "name": "stdout",
          "text": [
            "not bool_return(3,6): True\n"
          ]
        }
      ]
    },
    {
      "cell_type": "markdown",
      "metadata": {
        "id": "BkiEmTB_nW7I"
      },
      "source": [
        "# 예외처리 키워드 : try / except / raise / finally\n",
        "\n",
        "https://dojang.io/mod/page/view.php?id=2400\n",
        "\n",
        "try : 처리하고자 하는 부분을 넣는다.\n",
        "\n",
        "except : try구문 안에서 발생할 것으로 예상되는 예외를 처리한다.\n",
        "\n",
        "raise : 예외상황일 때 **명시적으로 처리**한다. ( 내 눈에 결과값이 나오도록 처리. 컴퓨터 내부적인 처리가 아님)\n",
        "\n",
        "finally : 마지막으로 실행하는 코드\n",
        "\n",
        "함수, 클래스 단위로 보기.\n",
        "\n",
        "\n",
        "- try / finally : 에러가 발생하더라도 마지막 코드를 수행해야 할때.\n",
        "\n",
        "- try / except / else : else 구문을 사용하면 예외구분을 위해 try 구문 안에 들어갈 코드를 최소화시켜 가독성이 좋아진다.\n",
        "\n",
        "가장 좋은 건 예외사항을 안만드는게 가장 좋은 것. 예외사항이 안나오게(정상동작하도록) 코드를 잘 잘성하는게 가장 좋다. \n",
        "\n",
        "\n"
      ]
    },
    {
      "cell_type": "markdown",
      "metadata": {
        "id": "zjIb5wPxb6I7"
      },
      "source": [
        "![image.png](data:image/png;base64,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)"
      ]
    },
    {
      "cell_type": "code",
      "metadata": {
        "id": "nGEfyfpGovdi"
      },
      "source": [
        "# 상황을 한번 쭈욱 보기. 일일이 정리하고 외울필요가 없다. "
      ],
      "execution_count": null,
      "outputs": []
    },
    {
      "cell_type": "code",
      "metadata": {
        "colab": {
          "base_uri": "https://localhost:8080/"
        },
        "id": "3M67Q7TUav6H",
        "outputId": "a91e311d-000f-4d40-806e-40f67b5ade92"
      },
      "source": [
        "def my_divide():\n",
        "    try:\n",
        "        # 문제가 없을 경우 실행할 코드\n",
        "        x = input('분자의 숫자를 입력하세요 ~ ')\n",
        "        y = input('분모의 숫자를 입력하세요 ~ ')\n",
        "        return int(x)/int(y)\n",
        "    except:\n",
        "        # 문제가 생겼을 경우 실행할 코드\n",
        "        return '나누기를 할 수 없습니다'\n",
        "\n",
        "print(my_divide())"
      ],
      "execution_count": null,
      "outputs": [
        {
          "output_type": "stream",
          "name": "stdout",
          "text": [
            "분자의 숫자를 입력하세요 ~ 5\n",
            "분모의 숫자를 입력하세요 ~ 가\n",
            "나누기를 할 수 없습니다\n"
          ]
        }
      ]
    },
    {
      "cell_type": "markdown",
      "metadata": {
        "id": "XBm53wiZcmAk"
      },
      "source": [
        "함수 자체의 에러를 볼 때는 assert\n",
        "\n",
        "함수 내부에서 에러발생하지 않게하기 위해서 except"
      ]
    },
    {
      "cell_type": "code",
      "metadata": {
        "colab": {
          "base_uri": "https://localhost:8080/"
        },
        "id": "41tN2f3_cYDt",
        "outputId": "fb3496c8-878d-4060-8fd3-5885756ac439"
      },
      "source": [
        "# try / except\n",
        "try:\n",
        "  print(3/0)\n",
        "except:\n",
        "  print('except case')"
      ],
      "execution_count": null,
      "outputs": [
        {
          "output_type": "stream",
          "name": "stdout",
          "text": [
            "except case\n"
          ]
        }
      ]
    },
    {
      "cell_type": "code",
      "metadata": {
        "colab": {
          "base_uri": "https://localhost:8080/",
          "height": 170
        },
        "id": "Vrds1UaJcape",
        "outputId": "c93cfc92-3177-451d-c78b-2d9933856b29"
      },
      "source": [
        "3/0"
      ],
      "execution_count": null,
      "outputs": [
        {
          "output_type": "error",
          "ename": "ZeroDivisionError",
          "evalue": "ignored",
          "traceback": [
            "\u001b[0;31m---------------------------------------------------------------------------\u001b[0m",
            "\u001b[0;31mZeroDivisionError\u001b[0m                         Traceback (most recent call last)",
            "\u001b[0;32m<ipython-input-42-f6cc6d14333b>\u001b[0m in \u001b[0;36m<module>\u001b[0;34m()\u001b[0m\n\u001b[0;32m----> 1\u001b[0;31m \u001b[0;36m3\u001b[0m\u001b[0;34m/\u001b[0m\u001b[0;36m0\u001b[0m\u001b[0;34m\u001b[0m\u001b[0;34m\u001b[0m\u001b[0m\n\u001b[0m",
            "\u001b[0;31mZeroDivisionError\u001b[0m: division by zero"
          ]
        }
      ]
    },
    {
      "cell_type": "code",
      "metadata": {
        "colab": {
          "base_uri": "https://localhost:8080/"
        },
        "id": "UuX1aFx3c0Dt",
        "outputId": "df87bf5b-58cc-4758-8056-bc06c2e3de10"
      },
      "source": [
        "# 특정한 에러가 날 때 except --> 에러문구지정\n",
        "try:\n",
        "  print(5/0)\n",
        "except ZeroDivisionError:\n",
        "  print('except case ZeroDivisionError')"
      ],
      "execution_count": null,
      "outputs": [
        {
          "output_type": "stream",
          "name": "stdout",
          "text": [
            "except case ZeroDivisionError\n"
          ]
        }
      ]
    },
    {
      "cell_type": "code",
      "metadata": {
        "colab": {
          "base_uri": "https://localhost:8080/"
        },
        "id": "NbG7749ndPmw",
        "outputId": "dc9ebd79-ac8f-4e4f-b7f4-71d4dcef599c"
      },
      "source": [
        "# try / except\n",
        "try:\n",
        "  print(3/가)\n",
        "except:\n",
        "  print('except case')"
      ],
      "execution_count": null,
      "outputs": [
        {
          "output_type": "stream",
          "name": "stdout",
          "text": [
            "except case\n"
          ]
        }
      ]
    },
    {
      "cell_type": "code",
      "metadata": {
        "colab": {
          "base_uri": "https://localhost:8080/",
          "height": 241
        },
        "id": "rHmSCk1AdRG0",
        "outputId": "3512b464-4322-45a7-d787-571018a9c850"
      },
      "source": [
        "# 특정한 에러가 날 때 except --> 에러문구지정\n",
        "try:\n",
        "  print(5/가)\n",
        "except ZeroDivisionError:\n",
        "  print('except case ZeroDivisionError')"
      ],
      "execution_count": null,
      "outputs": [
        {
          "output_type": "error",
          "ename": "NameError",
          "evalue": "ignored",
          "traceback": [
            "\u001b[0;31m---------------------------------------------------------------------------\u001b[0m",
            "\u001b[0;31mNameError\u001b[0m                                 Traceback (most recent call last)",
            "\u001b[0;32m<ipython-input-48-8a59c76fd515>\u001b[0m in \u001b[0;36m<module>\u001b[0;34m()\u001b[0m\n\u001b[1;32m      1\u001b[0m \u001b[0;31m# 특정한 에러가 날 때 except --> 에러문구지정\u001b[0m\u001b[0;34m\u001b[0m\u001b[0;34m\u001b[0m\u001b[0;34m\u001b[0m\u001b[0m\n\u001b[1;32m      2\u001b[0m \u001b[0;32mtry\u001b[0m\u001b[0;34m:\u001b[0m\u001b[0;34m\u001b[0m\u001b[0;34m\u001b[0m\u001b[0m\n\u001b[0;32m----> 3\u001b[0;31m   \u001b[0mprint\u001b[0m\u001b[0;34m(\u001b[0m\u001b[0;36m5\u001b[0m\u001b[0;34m/\u001b[0m\u001b[0m가\u001b[0m\u001b[0;34m)\u001b[0m\u001b[0;34m\u001b[0m\u001b[0;34m\u001b[0m\u001b[0m\n\u001b[0m\u001b[1;32m      4\u001b[0m \u001b[0;32mexcept\u001b[0m \u001b[0mZeroDivisionError\u001b[0m\u001b[0;34m:\u001b[0m\u001b[0;34m\u001b[0m\u001b[0;34m\u001b[0m\u001b[0m\n\u001b[1;32m      5\u001b[0m   \u001b[0mprint\u001b[0m\u001b[0;34m(\u001b[0m\u001b[0;34m'except case ZeroDivisionError'\u001b[0m\u001b[0;34m)\u001b[0m\u001b[0;34m\u001b[0m\u001b[0;34m\u001b[0m\u001b[0m\n",
            "\u001b[0;31mNameError\u001b[0m: name '가' is not defined"
          ]
        }
      ]
    },
    {
      "cell_type": "code",
      "metadata": {
        "colab": {
          "base_uri": "https://localhost:8080/"
        },
        "id": "zQpuxMIYc6Gh",
        "outputId": "f3c6d7ad-cb97-45ef-f0ad-d3bc0a89859d"
      },
      "source": [
        "# 특정 에러메세지 출력\n",
        "try:\n",
        "  print(7/0)\n",
        "except ZeroDivisionError as e:\n",
        "  print(e)"
      ],
      "execution_count": null,
      "outputs": [
        {
          "output_type": "stream",
          "name": "stdout",
          "text": [
            "division by zero\n"
          ]
        }
      ]
    },
    {
      "cell_type": "code",
      "metadata": {
        "colab": {
          "base_uri": "https://localhost:8080/"
        },
        "id": "dUGPKYq5dXeJ",
        "outputId": "e04ca30e-72b2-48cc-ddc7-0c72beccc7ee"
      },
      "source": [
        "# try / except / else\n",
        "try:\n",
        "  print(3/0)\n",
        "except:\n",
        "  print('except case')\n",
        "else:\n",
        "  # except 절을 만나지 않았을 경우 실행하는 코드\n",
        "  print('else case')"
      ],
      "execution_count": null,
      "outputs": [
        {
          "output_type": "stream",
          "name": "stdout",
          "text": [
            "except case\n"
          ]
        }
      ]
    },
    {
      "cell_type": "code",
      "metadata": {
        "colab": {
          "base_uri": "https://localhost:8080/"
        },
        "id": "91OttuEZdfLV",
        "outputId": "647da177-671d-4591-f160-2f9d714c6e7d"
      },
      "source": [
        "# try / except / else\n",
        "try:\n",
        "  print(3/1)\n",
        "except:\n",
        "  print('except case')\n",
        "else:\n",
        "  # except 절을 만나지 않았을 경우 실행하는 코드\n",
        "  print('else case')"
      ],
      "execution_count": null,
      "outputs": [
        {
          "output_type": "stream",
          "name": "stdout",
          "text": [
            "3.0\n",
            "else case\n"
          ]
        }
      ]
    },
    {
      "cell_type": "code",
      "metadata": {
        "colab": {
          "base_uri": "https://localhost:8080/"
        },
        "id": "p7yTKvENdbVa",
        "outputId": "2931a7f8-d99f-4dc8-a3b8-a3889b0b0e64"
      },
      "source": [
        "# try / except / finally\n",
        "try:\n",
        "  print(5/0)\n",
        "except:\n",
        "  print('except case')\n",
        "finally:\n",
        "  # 오류 발생 유무와 상관없이 무조건 실행하는 코드\n",
        "  print('finally case')"
      ],
      "execution_count": null,
      "outputs": [
        {
          "output_type": "stream",
          "name": "stdout",
          "text": [
            "except case\n",
            "finally case\n"
          ]
        }
      ]
    },
    {
      "cell_type": "code",
      "metadata": {
        "colab": {
          "base_uri": "https://localhost:8080/"
        },
        "id": "j-jL7rdtdiHY",
        "outputId": "4b7a21d7-ad42-4bb2-bc91-9eefdd4bff44"
      },
      "source": [
        "# try / except / finally\n",
        "try:\n",
        "  print(5/가)\n",
        "  print('try test')\n",
        "except NameError as n:\n",
        "  print(n)\n",
        "except ZeroDivisionError as z:\n",
        "  print(z)"
      ],
      "execution_count": null,
      "outputs": [
        {
          "output_type": "stream",
          "name": "stdout",
          "text": [
            "name '가' is not defined\n"
          ]
        }
      ]
    },
    {
      "cell_type": "code",
      "metadata": {
        "colab": {
          "base_uri": "https://localhost:8080/"
        },
        "id": "mBhjeUzEdlGp",
        "outputId": "2a3b4381-746f-4f3c-dc00-699149c9dad1"
      },
      "source": [
        "# try / raise★ / except \n",
        "try:\n",
        "  print('try test')\n",
        "  num = int(input(\"0 이상의 값 입력: \"))\n",
        "  \n",
        "  if num < 0:\n",
        "      raise NotImplementedError # raise로 예외를 발생시키면 raise 아래에 있는 코드는 실행되지 않고 바로 except로 넘어갑니다\n",
        "  print('num : ',num) \n",
        "\n",
        "except NotImplementedError:\n",
        "  print('NotImplemented Error')"
      ],
      "execution_count": null,
      "outputs": [
        {
          "output_type": "stream",
          "name": "stdout",
          "text": [
            "try test\n",
            "0 이상의 값 입력: -1\n",
            "NotImplemented Error\n"
          ]
        }
      ]
    },
    {
      "cell_type": "code",
      "metadata": {
        "id": "HwXzDqlee9yG"
      },
      "source": [
        "# None을 return 하는 경우\n",
        "\n",
        "def none_test(num1, num2):\n",
        "    try:\n",
        "        return num1 / num2\n",
        "    except ZeroDivisionError:\n",
        "        return None       # None 반환\n",
        "\n",
        "none_test(2,0)"
      ],
      "execution_count": null,
      "outputs": []
    },
    {
      "cell_type": "code",
      "metadata": {
        "colab": {
          "base_uri": "https://localhost:8080/"
        },
        "id": "dMPejxUvfQhu",
        "outputId": "c4d2d494-6052-4d82-ca70-fa9a7a65d04d"
      },
      "source": [
        "# 문제없음, 단순히 None이 있는지 없는지 판단함\n",
        "result = none_test(0,2)\n",
        "print(result)\n",
        "\n",
        "if result is None:\n",
        "    print('result is None')\n"
      ],
      "execution_count": null,
      "outputs": [
        {
          "output_type": "stream",
          "name": "stdout",
          "text": [
            "0.0\n"
          ]
        }
      ]
    },
    {
      "cell_type": "code",
      "metadata": {
        "colab": {
          "base_uri": "https://localhost:8080/"
        },
        "id": "1wgsTRMufSLY",
        "outputId": "b4c2dcc1-1333-4674-f51b-dcd1819c04d3"
      },
      "source": [
        "# 문제발생. 당연히 이런 결과가 나오는데, 이게 왜 문제가 되나요? 여기서 if not result: 를 쓴다는 것 자체가 잘못된것 같은데 왜 굳이 써서 문제가 된다는 건지 이해가 안됩니다.\n",
        "```\n",
        "result = none_test(0,2)\n",
        "print(result)\n",
        "\n",
        "# 조건식에서 not을 활용하는 경우, 파이썬에서는 None, 빈문자열, 빈리스트, 0을 모두 False로 판단한다\n",
        "# 단순히 결과값이 0인데도 not result 조건으로 인해 False 처리된다.\n",
        "if not result:              \n",
        "    print('not result')\n",
        "```\n",
        "\n",
        "# 0.0이면 예외사항이 발생하지 않는다. 만약 result가 아니라면 --> 'not result' 출력. 여기서는 result ==0.0이니까,, 0(False)가 아니라면, 즉, 무조건 True가 되니까 아래의 'not result'가 출력됨.\n",
        "# 만약 (2.0)을 입력한다면 zerodevisionerror로 None이 리턴됨. if not None이면 not False니까 True. 그러므로 아래의 'not result'가 출력된다. \n",
        "# 그러니까, 제로에러가 발생하든말든 상관없이 not result가 출력됨."
      ],
      "execution_count": null,
      "outputs": [
        {
          "output_type": "stream",
          "name": "stdout",
          "text": [
            "0.0\n",
            "not result\n"
          ]
        }
      ]
    },
    {
      "cell_type": "code",
      "metadata": {
        "colab": {
          "base_uri": "https://localhost:8080/",
          "height": 35
        },
        "id": "DIzrhMTLofi4",
        "outputId": "c0646372-4c1e-4f39-fa1c-72b92acd50be"
      },
      "source": [
        "# None을 return 하는 경우\n",
        "\n",
        "def none_test(num1, num2):\n",
        "    try:\n",
        "        return num1 / num2\n",
        "    except ZeroDivisionError:\n",
        "        return '안돼요'    # None 반환\n",
        "\n",
        "none_test(2,0)"
      ],
      "execution_count": null,
      "outputs": [
        {
          "output_type": "execute_result",
          "data": {
            "application/vnd.google.colaboratory.intrinsic+json": {
              "type": "string"
            },
            "text/plain": [
              "'안돼요'"
            ]
          },
          "metadata": {},
          "execution_count": 76
        }
      ]
    },
    {
      "cell_type": "code",
      "metadata": {
        "colab": {
          "base_uri": "https://localhost:8080/"
        },
        "id": "9cQTvBQNoi5f",
        "outputId": "8eea073a-6268-47a1-fd08-73ef6108e8f1"
      },
      "source": [
        "# 문제발생. 이게 왜 문제지?★   \n",
        "result = none_test(2,0)\n",
        "print(result)\n",
        "\n",
        "# 조건식에서 not을 활용하는 경우, 파이썬에서는 None, 빈문자열, 빈리스트, 0을 모두 False로 판단한다\n",
        "# 단순히 결과값이 0인데도 not result 조건으로 인해 False 처리된다.\n",
        "if not result:              \n",
        "    print('not result')"
      ],
      "execution_count": null,
      "outputs": [
        {
          "output_type": "stream",
          "name": "stdout",
          "text": [
            "안돼요\n"
          ]
        }
      ]
    },
    {
      "cell_type": "code",
      "metadata": {
        "colab": {
          "base_uri": "https://localhost:8080/"
        },
        "id": "1kZSofO-pbqE",
        "outputId": "93e937ec-e8fd-412f-d250-4375d42a47e6"
      },
      "source": [
        "# None을 return 하지 않는다.\n",
        "\n",
        "# ZeroDivisionError as z: <-- 이 부분이 바로 아래에서 제로디비젼에 대한 오류내용을 출력해주는 걸로 알고 있는데요, 바로 뒤에서 raise ValueError('숫자 입력값이 잘못된 경우') from z 가 나옵니다. 이 부분을 설명한다면 어떻게 설명할 수 있을까요?\n",
        "# 이 코드가 조금 어렵게 느껴지는데, 순서가 어떻게 되는지, 어떻게 실행되는지 한번만 설명해주시면 감사하겠습니다. \n",
        "\n",
        "def not_none_return(num1, num2):\n",
        "  try:\n",
        "    return num1 / num2\n",
        "  except ZeroDivisionError as z:\n",
        "    raise ValueError('숫자 입력값이 잘못된 경우') from z   # 여기 코드는 어떻게 해석해야 할까요??\n",
        "  else:\n",
        "    print(result1)\n",
        "\n",
        "try:\n",
        "    # result1 = not_none_return(2, 0) # case 1 - 정상적으로 except 처리\n",
        "    result1 = not_none_return(0, 2) # case 2 - 값 반환\n",
        "except ValueError:\n",
        "    print('숫자 입력값이 잘못된 경우')  # None을 반환하는 대신 예외를 발생시킨다.\n",
        "else:\n",
        "    print(result1)\n",
        "\n",
        "\n",
        "# try:\n",
        "# else:\n",
        "\n",
        "# 위 모양의 함수가 있다고 할때\n",
        "# try 에서 retrun 이 되버리면\n",
        "# else 부분은 코드가 실행이 되지 않는 건가요?\n",
        "## --> yes! return이 되면 함수가 종료가 된다. "
      ],
      "execution_count": null,
      "outputs": [
        {
          "output_type": "stream",
          "name": "stdout",
          "text": [
            "0.0\n"
          ]
        }
      ]
    },
    {
      "cell_type": "code",
      "metadata": {
        "colab": {
          "base_uri": "https://localhost:8080/"
        },
        "id": "o4zxRQig9cOh",
        "outputId": "18fcde67-264e-4feb-8b80-123308f97a62"
      },
      "source": [
        "try:\n",
        "    age=int(input('나이를 입력하세요: '))\n",
        "    if age <0:\n",
        "        raise ValueError\n",
        "\n",
        "except:\n",
        "    print('입력이 정확하지 않습니다.')\n",
        "else:\n",
        "    if age <= 18:\n",
        "        print('미성년자는 출입금지입니다.')\n",
        "    else:\n",
        "        print('환영합니다.')\n"
      ],
      "execution_count": null,
      "outputs": [
        {
          "output_type": "stream",
          "name": "stdout",
          "text": [
            "나이를 입력하세요: -1\n",
            "입력이 정확하지 않습니다.\n"
          ]
        }
      ]
    },
    {
      "cell_type": "markdown",
      "metadata": {
        "id": "M_6NOjEJ7vbs"
      },
      "source": [
        "```\n",
        "try: 처리하고자 하는 부분\n",
        "except : try구문 안에서 발생할 것으로 예상되는 예외를 처리\n",
        "else: except문이 발생안할 때(예외상황 발생x)\n",
        "finally: 예외 발생 하든 안하든 실행된다. \n",
        "\n",
        "<목적의 차이가 있음>\n",
        "raise : 예외상황일 때 명시적으로 처리 ==> raise : 강제로 에러가 발생하는 구문\n",
        "assert 조건 '메세지' => 디버깅 의 느낌."
      ]
    },
    {
      "cell_type": "code",
      "metadata": {
        "id": "KuyiFwch7uq1"
      },
      "source": [
        ""
      ],
      "execution_count": null,
      "outputs": []
    },
    {
      "cell_type": "markdown",
      "metadata": {
        "id": "5do1EsVeqGNY"
      },
      "source": [
        "# 문제해결전략(프로그래밍 로직) 작성\n",
        "\n",
        "- 의사코드에 해당하는 부분을 보고 실제 파이썬 코드로 작성해본다.\n",
        "\n",
        "소스코드에는 로직, 개별기능을 하는 함수와 변수가 포함되어야 한다.\n",
        "\n",
        "주석 및 테스트케이스를 미리 작성한다면 코드 작성 시 효율적일 수 있다.\n",
        "\n",
        "** 효율적이란? : (속도, 정상동작, input값을 덜받는다, 프로그램속도는 느리지만 직관성이 뛰어남, 기능분리잘함, 협업에 있어 이해하기쉬운 코드작성)"
      ]
    },
    {
      "cell_type": "code",
      "metadata": {
        "id": "SnkpC4nmfP1S"
      },
      "source": [
        "1) 값을 입력받음(input) => '띄어쓰기로 구분이 되는 문자열'\n",
        "2) 문자열 나누기(split) => '문자열 A', '문자열 B'  #이 상태에서도 비교가 되긴 함. ASCII코드 비교로 '1' > '2' 가능은 함.\n",
        "3) 문자열 숫자로 변환 => 숫자 A, 숫자 B\n",
        "4) 조건문 실행되는지\n",
        "4-1) if A>B => '>'\n",
        "4-2) if A<B => '<'\n",
        "4-3) 둘다 아닌 경우 => '=='\n"
      ],
      "execution_count": null,
      "outputs": []
    },
    {
      "cell_type": "code",
      "metadata": {
        "colab": {
          "base_uri": "https://localhost:8080/"
        },
        "id": "XihpKnInBUto",
        "outputId": "1c6aa7a3-477a-4777-82ac-bfed95f6a205"
      },
      "source": [
        "# a= input()\n",
        "# a= a.split()  # 리스트\n",
        "# A, B= map(int, a)  # 문자 -> 숫자\n",
        "A, B = map(int, input().split())\n",
        "if A > B:\n",
        "    print('>')\n",
        "elif A < B :\n",
        "    print('<')\n",
        "else:\n",
        "    print('==')"
      ],
      "execution_count": null,
      "outputs": [
        {
          "output_type": "stream",
          "name": "stdout",
          "text": [
            "1 2\n",
            "<\n"
          ]
        }
      ]
    },
    {
      "cell_type": "code",
      "metadata": {
        "id": "QqYqyOBHDGft"
      },
      "source": [
        "try:\n",
        "    age=int(input('나이를 입력하세요: '))\n",
        "    if age<=0:\n",
        "        raise Exception('my error')  # 이러한 이름의 오류를 발생시킨다. \n",
        "except:\n",
        "    print('입력이 정확하지 않습니다.')\n"
      ],
      "execution_count": null,
      "outputs": []
    },
    {
      "cell_type": "code",
      "metadata": {
        "id": "DOMdDVUEDJBZ"
      },
      "source": [
        "try:\n",
        "    age=int(input('나이를 입력하세요: '))\n",
        "    if age<=0:\n",
        "        raise ValueError\n",
        "except:\n",
        "    print('입력이 정확하지 않습니다.')\n"
      ],
      "execution_count": null,
      "outputs": []
    },
    {
      "cell_type": "code",
      "metadata": {
        "id": "H-Ylw0DpDZ2r"
      },
      "source": [
        "try:\n",
        "    age=int(input('나이를 입력하세요: '))\n",
        "    if age<=0:\n",
        "        raise TypeError\n",
        "except:\n",
        "    print('입력이 정확하지 않습니다.')\n"
      ],
      "execution_count": null,
      "outputs": []
    },
    {
      "cell_type": "markdown",
      "metadata": {
        "id": "x47tqW7z1ZRL"
      },
      "source": [
        "코드로 만들어내기. 코드로 구현하기.\n",
        "\n",
        "코드가 길지않고 어렵지 않으면 바로 작성해도 상관이 없으나,,\n",
        "\n",
        "만약 큰 서비스를 만들어야 된다면? 그때그때 생각해서 만들기 쉽지 않다는 부분.\n",
        "\n",
        "의사코드 : 세부적인 코드를 분석. 설계단계에서 오류를 방지하는 장점이 있다. 협업의 상황이 있다면 작성해두면 도움이 된다. 그림으로 그려도 되고. 설계를 해봐라. 중요!!!\n",
        "\n",
        "협업을 할 때는 의사코드를 동료와 약속된 형태로 작성하라. 동료가 이해할 수 있게.\n",
        "\n",
        "어떻게 설계를 하고 생각하면 좋을지를 결정."
      ]
    },
    {
      "cell_type": "code",
      "metadata": {
        "id": "IFTkma5w3VO0"
      },
      "source": [
        ""
      ],
      "execution_count": null,
      "outputs": []
    },
    {
      "cell_type": "markdown",
      "metadata": {
        "id": "mJf5zKku3VvD"
      },
      "source": [
        "프로그래밍 할 때 다양한 고려할 점?\n",
        "\n",
        "--> 컴프리헨션.(한줄로 파이썬을 구현) : 파이썬스럽게 코드를 작성한다. pythonic\n",
        "\n",
        "--> 그러나 현업에서는 가독성 문제로 자주 사용되진 않는다고 함.\n",
        "\n"
      ]
    },
    {
      "cell_type": "code",
      "metadata": {
        "id": "WBp64d0cq8UG"
      },
      "source": [
        "# 찾아보기 : 리팩토링 \n",
        "# : 게임을 함수(기능)에 따라 추가 및 개선시킬 수 있다."
      ],
      "execution_count": null,
      "outputs": []
    },
    {
      "cell_type": "markdown",
      "metadata": {
        "id": "V4iDiffv7J1i"
      },
      "source": [
        "기능이 추가된다면? 어떻게 하면 좋을지."
      ]
    },
    {
      "cell_type": "code",
      "metadata": {
        "colab": {
          "base_uri": "https://localhost:8080/"
        },
        "id": "egbB6e2vL1pf",
        "outputId": "bb880ad1-c7f4-4952-b0fa-904233613ab7"
      },
      "source": [
        "import random\n",
        "def show_welcome_message():\n",
        "    print(welcome_message)\n",
        "\n",
        "\n",
        "def get_user_choice():\n",
        "    ###[1] 가위   [2] 바위   [3] 보    [9] 게임종료###\n",
        "    return choice_options[int(input())]\n",
        "\n",
        "def quit_game(사용자승, 무승부, 사용자패):\n",
        "    print(quit_message)\n",
        "    print(\"게임결과\")\n",
        "    print(\"-----\")\n",
        "    ### 사용자승 : \",(사용자승) + \", \" +\"무승부 : \",(무승부) + \", \" +\"사용자패 : \",(사용자패) ###\n",
        "\n",
        "\n",
        "def compare_choices_and_get_result(user, computer):\n",
        "    if user == computer:\n",
        "        print(\"사용자 : \", user_choice, \", \", \"컴퓨터 : \", computer_choice)\n",
        "        return \"무승부\"\n",
        "    elif (user == \"바위\" and computer == \"가위\") or (user == \"보\" and computer == \"바위\") or (user == \"가위\" and computer == \"보\"):\n",
        "        print(\"사용자 : \", user_choice, \", \", \"컴퓨터 : \", computer_choice)\n",
        "        return \"사용자승\"\n",
        "    else:\n",
        "        print(\"사용자 : \", user_choice, \", \", \"컴퓨터 : \", computer_choice)\n",
        "        return \"사용자패\"\n",
        "\n",
        "\n",
        "def display_result_message_and_update_score(result):\n",
        "    if result == \"무승부\":\n",
        "        print(tie_message)\n",
        "        score[\"무승부\"] += 1\n",
        "    elif result == \"사용자승\":\n",
        "        print(win_message)\n",
        "        score[\"사용자승\"] += 1\n",
        "    else:\n",
        "        print(loss_message)\n",
        "        score[\"사용자패\"] += 1\n",
        "\n",
        "score =  {\n",
        "    \"사용자승\": 0,\n",
        "    \"무승부\": 0,\n",
        "    \"사용자패\": 0\n",
        "}\n",
        "\n",
        "welcome_message = \"가위바위보 게임을 시작합니다.\"\n",
        "win_message = \"사용자가 이겼습니다.\"\n",
        "loss_message = \"사용자가 졌습니다.\"\n",
        "tie_message = \"무승부입니다.\"\n",
        "quit_message = \"게임을 종료합니다.\"\n",
        "\n",
        "choice_options = {\n",
        "    1: \"가위\",\n",
        "    2: \"바위\",\n",
        "    3: \"보\",\n",
        "    9: \"게임종료\"\n",
        "}\n",
        "\n",
        "### 게임시작 메시지\n",
        "show_welcome_message()\n",
        "\n",
        "### 첫번째 사용자 선택\n",
        "user_choice = get_user_choice()\n",
        "\n",
        "### 게임수행을 위한 반복문\n",
        "while user_choice != \"게임종료\":\n",
        "    computer_choice = choice_options[random.randint(1, 3)]\n",
        "    result = compare_choices_and_get_result(user_choice, computer_choice)\n",
        "    display_result_message_and_update_score(result)\n",
        "    user_choice = get_user_choice()\n",
        "print('')\n",
        "quit_game(score[\"사용자승\"], score[\"무승부\"], score[\"사용자패\"])"
      ],
      "execution_count": null,
      "outputs": [
        {
          "output_type": "stream",
          "name": "stdout",
          "text": [
            "가위바위보 게임을 시작합니다.\n",
            "3\n",
            "사용자 :  보 ,  컴퓨터 :  보\n",
            "무승부입니다.\n",
            "9\n",
            "\n",
            "게임을 종료합니다.\n",
            "게임결과\n",
            "-----\n"
          ]
        }
      ]
    },
    {
      "cell_type": "code",
      "metadata": {
        "colab": {
          "base_uri": "https://localhost:8080/"
        },
        "id": "IfjvFlPYNCba",
        "outputId": "b2e0edce-6cd0-434b-9205-a3af2b87f8ed"
      },
      "source": [
        "# 첫번째 풀이\n",
        "import timeit\n",
        "start_time = timeit.default_timer() # 시작 시간 체크\n",
        "\n",
        "\n",
        "def solution(numbers):      #1. [2,1,3,4,1]\n",
        "    answer = list()         #2. list create\n",
        "\n",
        "    #print(answer)          # print를 활용한 중간값 확인을 통한 로직확인\n",
        "\n",
        "    for i in range(len(numbers)):               #3. len ([2,1,3,4,1])\n",
        "        for j in range(i+1, len(numbers)):      #4. len([2,1,3,4,1])\n",
        "            if numbers[i] + numbers[j] not in answer:         #5. numbers[0] + numbers[1] not in answer\n",
        "                answer.append(numbers[i] + numbers[j])        #6. answer.append(numbers[0]+numbers[1])\n",
        "     \n",
        "    #print(numbers[i],numbers[j])               # print를 활용한 중간값 확인을 통한 로직확인\n",
        "\n",
        "    answer.sort()           #7. 리스트결과 정렬\n",
        "    return answer\n",
        "\n",
        "print(solution([2,1,3,4,1]))\n",
        "end_time = timeit.default_timer()                  # 종료 시간 체크\n",
        "\n",
        "print(\"%f 초 걸렸습니다.\" % (end_time - start_time))  # 코드실행시간 측정"
      ],
      "execution_count": null,
      "outputs": [
        {
          "output_type": "stream",
          "name": "stdout",
          "text": [
            "[2, 3, 4, 5, 6, 7]\n",
            "0.000275 초 걸렸습니다.\n"
          ]
        }
      ]
    },
    {
      "cell_type": "code",
      "metadata": {
        "colab": {
          "base_uri": "https://localhost:8080/"
        },
        "id": "mFXeH8jKMghq",
        "outputId": "68cac702-2f25-4c6d-ee3b-a86d51dccdb3"
      },
      "source": [
        "# 두번째 풀이\n",
        "start_time = timeit.default_timer() # 시작 시간 체크\n",
        "def solution(numbers):\n",
        "    answer = set()        # set 활용\n",
        "    for i in range(len(numbers)):\n",
        "        for j in range(i+1, len(numbers)):\n",
        "            answer.add(numbers[i] + numbers[j])     # set의 add활용\n",
        "            \n",
        "    answer = list(answer)\n",
        "    answer.sort()\n",
        "    return answer\n",
        "\n",
        "print(solution([2,1,3,4,1]))\n",
        "end_time = timeit.default_timer() # 종료 시간 체크\n",
        "print(\"%f 초 걸렸습니다.\" % (end_time - start_time)) "
      ],
      "execution_count": null,
      "outputs": [
        {
          "output_type": "stream",
          "name": "stdout",
          "text": [
            "[2, 3, 4, 5, 6, 7]\n",
            "0.001074 초 걸렸습니다.\n"
          ]
        }
      ]
    },
    {
      "cell_type": "code",
      "metadata": {
        "id": "P6ydE46DNGzE"
      },
      "source": [
        ""
      ],
      "execution_count": null,
      "outputs": []
    }
  ]
}