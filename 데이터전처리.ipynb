{
  "nbformat": 4,
  "nbformat_minor": 0,
  "metadata": {
    "colab": {
      "name": "데이터전처리.ipynb",
      "private_outputs": true,
      "provenance": [],
      "include_colab_link": true
    },
    "kernelspec": {
      "name": "python3",
      "display_name": "Python 3"
    },
    "language_info": {
      "name": "python"
    }
  },
  "cells": [
    {
      "cell_type": "markdown",
      "metadata": {
        "id": "view-in-github",
        "colab_type": "text"
      },
      "source": [
        "<a href=\"https://colab.research.google.com/github/dagyaom/Python_Practice/blob/main/%EB%8D%B0%EC%9D%B4%ED%84%B0%EC%A0%84%EC%B2%98%EB%A6%AC.ipynb\" target=\"_parent\"><img src=\"https://colab.research.google.com/assets/colab-badge.svg\" alt=\"Open In Colab\"/></a>"
      ]
    },
    {
      "cell_type": "markdown",
      "metadata": {
        "id": "Isb8ifkxB-GK"
      },
      "source": [
        "# pd.concat()\n",
        "https://pandas.pydata.org/docs/reference/api/pandas.concat.html\n",
        "\n",
        "데이터프레임과 시리즈도 붙일 수 있다.\n",
        "\n",
        "이어붙이는 방식 :\n",
        "\n",
        "- outer : 합집합 -디폴트\n",
        "- inner : 교집합"
      ]
    },
    {
      "cell_type": "code",
      "metadata": {
        "id": "5M98o6v4CBCD"
      },
      "source": [
        "pd.concat([df1, df2])  #axis=0 이 디폴트이므로 위아래로 데이터프레임이 붙는다. \n",
        "pd.concat([df1, df2], axis=1) 옆으로 붙는다. \n",
        "pd.concat([df1, df2], ignore_index=True) #인덱스가 원래는 그대로 붙어서 뒤죽박죽인데, 인덱스를 재배열함. \n",
        "pd.concat([df1, df2], axis=1, join='inner') #열방향으로 붙이면서, 교집합. defalt는 합집합으로 없는 값에는 nan"
      ],
      "execution_count": null,
      "outputs": []
    },
    {
      "cell_type": "markdown",
      "metadata": {
        "id": "uUP2hD5q9N6O"
      },
      "source": [
        "# 데이터프레임 병합 : pd.merge()\n",
        "- merge()함수는 두 데이터프레임을 각 데이터에 존재하는 고유값(key)을 기준으로 병합할때 사용한다.\n",
        "- pd.merge(df_left, df_right, how='inner', on=None)이 default이다.\n",
        "\n",
        "https://pandas.pydata.org/docs/reference/api/pandas.merge.html\n",
        "https://yganalyst.github.io/data_handling/Pd_12/"
      ]
    },
    {
      "cell_type": "code",
      "metadata": {
        "id": "VFjQU-pIFTj7"
      },
      "source": [
        "pd.merge(df1. df2) #공통 열을 기준으로 교집합 조인"
      ],
      "execution_count": null,
      "outputs": []
    },
    {
      "cell_type": "code",
      "metadata": {
        "id": "oADyvEqg94_F"
      },
      "source": [
        "# id를 기준으로 합집합. 어느한쪽에라도 없는 데이터가 있는 경우 NaN.\n",
        "\n",
        "pd.merge(df1,df2, how='outer',on='id')"
      ],
      "execution_count": null,
      "outputs": []
    },
    {
      "cell_type": "code",
      "metadata": {
        "id": "On4sEIEQ9-BF"
      },
      "source": [
        "# how='left'옵션을 주었기 때문에, df1데이터의 고유값을 기준으로 한다.\n",
        "#df1에만 있고 df2에는 없어서 NaN이 생성됐음을 알 수 있다.\n",
        "pd.merge(df1,df2, how='left', left_on='stock_name', right_on='name')"
      ],
      "execution_count": null,
      "outputs": []
    },
    {
      "cell_type": "code",
      "metadata": {
        "id": "-Zs1zobX2mxa"
      },
      "source": [
        "## to_datetime을 통해 시간과 날짜를 다루기 쉬운 datetime64 형태로 변환합니다.\n",
        "df['date'] = pd.to_datetime(df['date'])"
      ],
      "execution_count": null,
      "outputs": []
    },
    {
      "cell_type": "code",
      "metadata": {
        "id": "cSSDLBwd3uhg"
      },
      "source": [
        "## 2015-03-01을 기준으로 훈련/테스트 세트를 분리합니다.\n",
        "cutOff = pd.to_datetime('2015-03-01')\n",
        "train = df[df['date'] < cutOff]\n",
        "test  = df[df['date'] >= cutOff]"
      ],
      "execution_count": null,
      "outputs": []
    },
    {
      "cell_type": "code",
      "metadata": {
        "id": "5ZKhCf1D2nK1"
      },
      "source": [
        "# np.percentile 사용해 이상치 제거\n",
        "df = df[(df['price'] >= np.percentile(df['price'], 5)) & \n",
        "        (df['price'] <= np.percentile(df['price'], 95))] \n",
        "\n",
        "# a : array_like\n",
        "# Input array or object that can be converted to an array.\n",
        "\n",
        "# q : array_like of float\n",
        "# Percentile or sequence of percentiles to compute, which must be between 0 and 100 inclusive."
      ],
      "execution_count": null,
      "outputs": []
    }
  ]
}