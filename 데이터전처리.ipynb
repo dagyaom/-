{
  "nbformat": 4,
  "nbformat_minor": 0,
  "metadata": {
    "colab": {
      "name": "데이터전처리.ipynb",
      "private_outputs": true,
      "provenance": [],
      "authorship_tag": "ABX9TyNTEimqbHRXf7ZLzRr10rrt",
      "include_colab_link": true
    },
    "kernelspec": {
      "name": "python3",
      "display_name": "Python 3"
    },
    "language_info": {
      "name": "python"
    }
  },
  "cells": [
    {
      "cell_type": "markdown",
      "metadata": {
        "id": "view-in-github",
        "colab_type": "text"
      },
      "source": [
        "<a href=\"https://colab.research.google.com/github/dagyaom/Python_Practice/blob/main/%EB%8D%B0%EC%9D%B4%ED%84%B0%EC%A0%84%EC%B2%98%EB%A6%AC.ipynb\" target=\"_parent\"><img src=\"https://colab.research.google.com/assets/colab-badge.svg\" alt=\"Open In Colab\"/></a>"
      ]
    },
    {
      "cell_type": "markdown",
      "metadata": {
        "id": "uUP2hD5q9N6O"
      },
      "source": [
        "# 데이터프레임 병합 : pd.merge()\n",
        "- merge()함수는 두 데이터프레임을 각 데이터에 존재하는 고유값(key)을 기준으로 병합할때 사용한다.\n",
        "- pd.merge(df_left, df_right, how='inner', on=None)이 default이다.\n",
        "\n",
        "https://yganalyst.github.io/data_handling/Pd_12/"
      ]
    },
    {
      "cell_type": "code",
      "metadata": {
        "id": "oADyvEqg94_F"
      },
      "source": [
        "# id를 기준으로 합치되, 어느한쪽에라도 없는 데이터가 있는 경우 NaN값이 지정된다.\n",
        "\n",
        "pd.merge(df1,df2, how='outer',on='id')"
      ],
      "execution_count": null,
      "outputs": []
    },
    {
      "cell_type": "code",
      "metadata": {
        "id": "On4sEIEQ9-BF"
      },
      "source": [
        "# how='left'옵션을 주었기 때문에, df1데이터의 고유값을 기준으로 한다.\n",
        "#df1에만 있고 df2에는 없어서 NaN이 생성됐음을 알 수 있다.\n",
        "pd.merge(df1,df2, how='left', left_on='stock_name', right_on='name')"
      ],
      "execution_count": null,
      "outputs": []
    }
  ]
}