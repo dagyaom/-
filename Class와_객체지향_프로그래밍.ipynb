{
  "nbformat": 4,
  "nbformat_minor": 0,
  "metadata": {
    "colab": {
      "name": "Class와 객체지향 프로그래밍.ipynb",
      "provenance": [],
      "collapsed_sections": [],
      "toc_visible": true,
      "authorship_tag": "ABX9TyPaekrjGmp98q2X4+4W4tXY",
      "include_colab_link": true
    },
    "kernelspec": {
      "name": "python3",
      "display_name": "Python 3"
    },
    "language_info": {
      "name": "python"
    }
  },
  "cells": [
    {
      "cell_type": "markdown",
      "metadata": {
        "id": "view-in-github",
        "colab_type": "text"
      },
      "source": [
        "<a href=\"https://colab.research.google.com/github/dagyaom/Python_Practice/blob/main/Class%EC%99%80_%EA%B0%9D%EC%B2%B4%EC%A7%80%ED%96%A5_%ED%94%84%EB%A1%9C%EA%B7%B8%EB%9E%98%EB%B0%8D.ipynb\" target=\"_parent\"><img src=\"https://colab.research.google.com/assets/colab-badge.svg\" alt=\"Open In Colab\"/></a>"
      ]
    },
    {
      "cell_type": "code",
      "metadata": {
        "id": "6CXQMZh078yi"
      },
      "source": [
        "from unittest import TestCase"
      ],
      "execution_count": null,
      "outputs": []
    },
    {
      "cell_type": "markdown",
      "metadata": {
        "id": "n5gylkLhZzip"
      },
      "source": [
        "# 객체지향 프로그래밍(OOP)\n",
        "\n",
        "파이썬은 모든것이 객체다\n",
        " https://wikidocs.net/20456\n",
        "\n",
        " 객체지향이란 : 줄줄히 코드를 쓰지 않고(절차적 프로그래밍이 아니고), 묶어서 작업할 수 있는 것들은 묶어서 작업할 수 있게 하는 프로그래밍 방법론 중의 일환 !\n",
        "\n",
        "\n",
        " 클래스와의 관계에 미뤄서 설명하면 인스턴스, 단독으로 설명하면 객체 (오브젝트) !\n",
        "\n"
      ]
    },
    {
      "cell_type": "markdown",
      "metadata": {
        "id": "Eb6UGLxLub3o"
      },
      "source": [
        "# 1.함수, 메소드\n",
        "\n",
        "1) 함수 사용 이유? : 코드의 재사용을 줄이기위해.\n",
        "\n",
        "2) 함수를 정의할 때 사용하는 매개변수를 '파라미터', \n",
        "호출할 때 부르는 매개변수를 인자(인수, Argument)라고 부른다.\n",
        "- 인자의 종류는 키워드 인수\n",
        "- 필수인수 : 갯수와 순서를 정확하게 맞춰줘야 한다.\n",
        "- 키워드 인수 : 순서가 상관없어진다. 명시적으로 사용되므로.(파이썬에서 좀더 추천되는 방법)\n",
        "- 기본인수 : 인수의 기본값 설정.\n",
        "\n",
        "3) 함수는 크게 두종류가 있다. built-in functions(내장함수), user-defined functions(사용자 정의함수). \n",
        "- 빌트인함수 : https://docs.python.org/3/library/functions.html. 선언하지 않고도 사용할 수 있다. 작은 크기에 빠른 속도를 가지고 있다. \n",
        "\n",
        "\n",
        "- 함수가 어떠한 객체와 관련있다면? --> 메소드 element.click()\n",
        "- 함수는 앞에 어떤 걸 달지않고 독자적으로 쓸수있다. ex) print()\n",
        "- 메소드 : 앞에 객체를 변수화한 것 뒤에 .함수 형태로 적는다.  ex) element.method()\n",
        "\n",
        "함수()\n",
        "\n",
        "외부모듈.함수()\n",
        "\n",
        "객체.메소드()\n",
        "\n",
        "```\n",
        "def 함수_이름( 파라미터 ):\n",
        "   \"함수 문서\"\n",
        "   함수 내용\n",
        "   return [표현식]\n",
        "```"
      ]
    },
    {
      "cell_type": "markdown",
      "metadata": {
        "id": "FsBNxv1YALs6"
      },
      "source": [
        "## mutable, immutable 차이 \n",
        ": mutable은 값이 변한다는 뜻이고, immutable은 값이 변하지 않는다는 의미이다.\n",
        "\n",
        "- 숫자, 문자열, 튜플은 변경이 불가능하고 리스트와 딕셔너리는 변경이 가능하다\n",
        "\n",
        "출처: https://ledgku.tistory.com/54 [블로그]\n",
        "\n",
        "\n",
        "\n",
        "참조 vs 값?★\n",
        "\n",
        "파이썬에서는 인수들이 참조로 함수에 전달이 됩니다. 즉, 객체의 주소값을 전달한다는 뜻입니다. 참조로 전달되지만 immutable, 즉 변경이 불가한, 객체들은 값으로 전달됩니다. 따라서 int, str 등은 값으로 전달이 되며 list, dict 와 같은 객체들은 참조값으로 전달이 됩니다.\n",
        "\n",
        "이게 무슨 말이냐.\n"
      ]
    },
    {
      "cell_type": "markdown",
      "metadata": {
        "id": "6d6CSglkE6ZK"
      },
      "source": [
        "## 인수\n",
        "\n",
        "- 필수 인수 (required arguments): 위치를 지키며 전달되는 인수\n",
        "```\n",
        "def person_info(first_name, last_name):\n",
        "    print(f\"Hello {first_name}, {last_name}!\")\n",
        "```\n",
        "- 키워드 인수 (keyword arguments): 파라미터 이름을 사용해 전달되는 인수\n",
        "```\n",
        "person_info(last_name=\"bob\", first_name=\"sponge\")\n",
        "```\n",
        "- 기본 인수 (default arguments): 파라미터에서 기본으로 사용되는 값. 기본 값으로 설정된 파라미터들은 기본값이 없는 파라미터 뒤에 등장해야 한다\n",
        "```\n",
        "def person_data(name, type_p='human'):\n",
        "    print(f\"Hello {name}, you are {type_p}\")\n",
        "```\n"
      ]
    },
    {
      "cell_type": "markdown",
      "metadata": {
        "id": "8chUTXk5F0ni"
      },
      "source": [
        "## return 과 print 는 어떻게 다른가요?\n",
        "\n",
        "- return : 함수가 전달해주고 싶은 값. 변수에 담을 수 있다. \n",
        "- print : 화면창으로 출력되는 것.\n",
        "\n",
        "리턴값을 전달하지 않으면 자동적으로 return None 반환된다. \n",
        "https://www.codeit.kr/community/threads/1969"
      ]
    },
    {
      "cell_type": "code",
      "metadata": {
        "id": "h2BuUPYFFzCj"
      },
      "source": [
        "def print_hello_1(name):\n",
        "    print(f\"Hello {name}\")\n",
        "    return None"
      ],
      "execution_count": null,
      "outputs": []
    },
    {
      "cell_type": "code",
      "metadata": {
        "id": "SY6pBbgRE5ol",
        "colab": {
          "base_uri": "https://localhost:8080/"
        },
        "outputId": "85d8f064-0734-4990-efc4-06cfaaf5e6e6"
      },
      "source": [
        "li = list()\n",
        "li.append(print_hello_1('철수'))\n",
        "print(li)"
      ],
      "execution_count": null,
      "outputs": [
        {
          "output_type": "stream",
          "name": "stdout",
          "text": [
            "Hello 철수\n",
            "[None]\n"
          ]
        }
      ]
    },
    {
      "cell_type": "code",
      "metadata": {
        "colab": {
          "base_uri": "https://localhost:8080/"
        },
        "id": "TUQup6SNu6fy",
        "outputId": "4fc5932c-6d42-4246-a7a2-87ace7bc6ce0"
      },
      "source": [
        "def person_info(first_name, last_name='bob') :\n",
        "    print(f\"Hello {first_name}, {last_name}!\")\n",
        "    # return None  리턴값을 전달하지 않아도 자동적으로 return None 반환된다\n",
        "\n",
        "print(person_info(first_name='sponge'))\n",
        "person_info(first_name='sponge')\n",
        "\n",
        "★"
      ],
      "execution_count": 31,
      "outputs": [
        {
          "output_type": "stream",
          "name": "stdout",
          "text": [
            "Hello sponge, bob!\n",
            "None\n",
            "Hello sponge, bob!\n"
          ]
        }
      ]
    },
    {
      "cell_type": "markdown",
      "metadata": {
        "id": "Jth7Mi9YA45c"
      },
      "source": [
        "## 얕은복사, 깊은복사.\n",
        "https://wikidocs.net/16038\n"
      ]
    },
    {
      "cell_type": "markdown",
      "metadata": {
        "id": "Gk5V_V2qMzlw"
      },
      "source": [
        "![unknown.png](data:image/png;base64,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)"
      ]
    },
    {
      "cell_type": "markdown",
      "metadata": {
        "id": "Z5wHu-CK7_EZ"
      },
      "source": [
        "# 1. 파이썬 클래스\n",
        "\n",
        "n331. 영상 참고.\n",
        "\n",
        "- 파이썬의 작동 방식은 고급 스크립트 방식이고, 파이썬 언어의 설계는 객체지향언어를 기반으로 만들어져 있습니다.\n",
        "\n",
        "**소프트웨어 개발방법론 : 어떻게 소프트웨어를 개발할건지, 프로세스, 가이드라인, 철학, 애자일기반, 절차지향 개발방법론 등이 있다. \n",
        "\n",
        "- 객체 지향 개발방법론 : 설계자 입장에서 대규모 소프트웨어 개발에 용이했기에 널리 쓰이고 있음. 왜?\n",
        "\n",
        "- 사업<수주>받고 <설계> 진행하고 <개발>하는  프로세스에 적합했기 때문.\n",
        "--> 기존에 일상 제품을 만드는 설계방법론을 그대로 차용했기 때문. \n",
        "\n",
        "- 설계서 = class, 제품 = instance\n",
        "\n",
        "인스턴스가 생성 될 때마다 호출되는 생성자 __init__\n",
        "\n",
        "클래스의 현재 인스턴스를 참조하는 self\n",
        "\n",
        "https://m.blog.naver.com/wideeyed/221906742759\n",
        "\n"
      ]
    },
    {
      "cell_type": "code",
      "metadata": {
        "id": "dzesHWwRAK24"
      },
      "source": [
        "\n",
        ">>> 'python'.title\n",
        "<function str.title>\n",
        "어떤 함수임을 알 수 있습니다. 내장함수를 사용할때와 동일하게, 괄호를 열고 닫아 함수를 호출(실행)해보도록 하겠습니다.\n",
        "\n",
        ">>> 'python'.title()\n",
        "'Python'\n",
        "첫글자가 대문자로 바뀐 문자가 나온것을 확인할 수 있습니다."
      ],
      "execution_count": null,
      "outputs": []
    },
    {
      "cell_type": "markdown",
      "metadata": {
        "id": "CdMKvca3OaiX"
      },
      "source": [
        "## 클래스 생성하기"
      ]
    },
    {
      "cell_type": "code",
      "metadata": {
        "id": "ImanQhvjOZhy"
      },
      "source": [
        "class Pokemon:\n",
        "    pokemon_a = 'pikachu'"
      ],
      "execution_count": null,
      "outputs": []
    },
    {
      "cell_type": "code",
      "metadata": {
        "id": "ZIAsqswKOr61",
        "colab": {
          "base_uri": "https://localhost:8080/",
          "height": 35
        },
        "outputId": "4a5a9844-a917-4604-d645-c19b2c861a00"
      },
      "source": [
        "Pokemon.pokemon_a"
      ],
      "execution_count": null,
      "outputs": [
        {
          "output_type": "execute_result",
          "data": {
            "application/vnd.google.colaboratory.intrinsic+json": {
              "type": "string"
            },
            "text/plain": [
              "'pikachu'"
            ]
          },
          "metadata": {},
          "execution_count": 8
        }
      ]
    },
    {
      "cell_type": "markdown",
      "metadata": {
        "id": "R9RnWgqYO0Q3"
      },
      "source": [
        "## 함수를 클래스내에서 선언하기(메서드)\n",
        "https://dojang.io/mod/page/view.php?id=2396\n"
      ]
    },
    {
      "cell_type": "code",
      "metadata": {
        "id": "W0gHpyDUPREm"
      },
      "source": [
        "class Pokemon:\n",
        "    pokemon_a = 'pikachu'\n",
        "\n",
        "    def print_pika():\n",
        "        print(\"Hello Pika\")"
      ],
      "execution_count": null,
      "outputs": []
    },
    {
      "cell_type": "code",
      "metadata": {
        "id": "wiO-M4LaProD",
        "colab": {
          "base_uri": "https://localhost:8080/",
          "height": 193
        },
        "outputId": "83ae1157-e4cc-4b98-920e-3a13ea415184"
      },
      "source": [
        "# 클래스의 인스턴스를 만들게 될 때 위 함수를 인스턴스에서 활용하기는 힘듭니다. 그 이유는 인스턴스에서 해당 메서드를 실행하게 되면 자신을 인수로 넘겨주게 되기 때문입니다.\n",
        "a= Pokemon()\n",
        "a.print_pika()  # TypeError: print_pika() takes 0 positional arguments but 1 was given\n",
        "\n"
      ],
      "execution_count": null,
      "outputs": [
        {
          "output_type": "error",
          "ename": "TypeError",
          "evalue": "ignored",
          "traceback": [
            "\u001b[0;31m---------------------------------------------------------------------------\u001b[0m",
            "\u001b[0;31mTypeError\u001b[0m                                 Traceback (most recent call last)",
            "\u001b[0;32m<ipython-input-20-42b5d9f5fd4e>\u001b[0m in \u001b[0;36m<module>\u001b[0;34m()\u001b[0m\n\u001b[1;32m      1\u001b[0m \u001b[0ma\u001b[0m\u001b[0;34m=\u001b[0m \u001b[0mPokemon\u001b[0m\u001b[0;34m(\u001b[0m\u001b[0;34m)\u001b[0m\u001b[0;34m\u001b[0m\u001b[0;34m\u001b[0m\u001b[0m\n\u001b[0;32m----> 2\u001b[0;31m \u001b[0ma\u001b[0m\u001b[0;34m.\u001b[0m\u001b[0mprint_pika\u001b[0m\u001b[0;34m(\u001b[0m\u001b[0;34m)\u001b[0m\u001b[0;34m\u001b[0m\u001b[0;34m\u001b[0m\u001b[0m\n\u001b[0m",
            "\u001b[0;31mTypeError\u001b[0m: print_pika() takes 0 positional arguments but 1 was given"
          ]
        }
      ]
    },
    {
      "cell_type": "code",
      "metadata": {
        "id": "XJ0_r8m4gGA2"
      },
      "source": [
        "# 만약 이렇게 된다면\n",
        "\n",
        "class Pokemon:\n",
        "\tpokemon_a = 'pikachu'\n",
        "\n",
        "\tdef print_pika(self):\n",
        "\t\tprint(\"pika\")\n",
        "# self : 사실 파이썬에서 활용되는 이 단어 자체는 키워드가 아닙니다. 다른 단어로 대체해도 문제가 없습니다. 하지만 인스턴스에서 메서드나 특성을 사용할 때 첫번째 인수, 파라미터로 넘겨지고 받아져야 한다는 것은 변함이 없습니다.\n",
        "\n"
      ],
      "execution_count": null,
      "outputs": []
    },
    {
      "cell_type": "code",
      "metadata": {
        "id": "ZLXnrum1gWl_",
        "colab": {
          "base_uri": "https://localhost:8080/"
        },
        "outputId": "f86d7c05-ca71-4a75-90b3-73d04526211f"
      },
      "source": [
        "a= Pokemon()\n",
        "a.print_pika() \n",
        "\n",
        "# 함수를 호출할 때 아무런 인수를 넘기지 않았습니다. 그저 함수를 실행했을 뿐이죠. 다만 메소드 내에서 파라미터를 self 하나 받도록 설정했습니다. \n",
        "# 이렇게 할 수 있는 이유는 파이썬에서 인스턴스가 메서드나 특성을 사용할 때 자동으로 그 인스턴스에 대한 참조값을 넘기지만 자동으로 받도록 하지는 않기 때문입니다.\n",
        "# 함수를 실행하게 될 때는 poke_a 인스턴스에 대한 참조값이 자동으로 넘겨지지만 실제로 함수를 실행할 때 파라미터 설정이 되어 있지 않게 되는 경우에는 필수 인수가 0이라 불일치한 현상이 발생하는 것이죠."
      ],
      "execution_count": null,
      "outputs": [
        {
          "output_type": "stream",
          "name": "stdout",
          "text": [
            "pika\n"
          ]
        }
      ]
    },
    {
      "cell_type": "code",
      "metadata": {
        "id": "yUso9WsUZG76",
        "colab": {
          "base_uri": "https://localhost:8080/"
        },
        "outputId": "9b3cbac4-8ff4-4d31-838e-28fb4ece6708"
      },
      "source": [
        "Pokemon   # __main__의 의미 : https://docs.python.org/ko/3/library/__main__.html\n",
        "# 괄호가 있어야만 객체가 만들어 집니다. 만약 괄호가 없다면 클래스 자체를 가리키는 변수일 뿐입니다."
      ],
      "execution_count": null,
      "outputs": [
        {
          "output_type": "execute_result",
          "data": {
            "text/plain": [
              "__main__.Pokemon"
            ]
          },
          "metadata": {},
          "execution_count": 14
        }
      ]
    },
    {
      "cell_type": "code",
      "metadata": {
        "id": "E-0UwmwXZozJ",
        "colab": {
          "base_uri": "https://localhost:8080/"
        },
        "outputId": "e34805ce-6bcf-4641-c974-40ca952148cd"
      },
      "source": [
        "Pokemon()  # 클래스 객체."
      ],
      "execution_count": null,
      "outputs": [
        {
          "output_type": "execute_result",
          "data": {
            "text/plain": [
              "<__main__.Pokemon at 0x7f433ab44dd0>"
            ]
          },
          "metadata": {},
          "execution_count": 15
        }
      ]
    },
    {
      "cell_type": "markdown",
      "metadata": {
        "id": "hWw1CHZfg58Y"
      },
      "source": [
        "## 생성자 함수\n",
        "- 생성자 함수 : 클래스가 인스턴스화 (instantiate) 될 때 사용되는 함수\n",
        "- 새로운 인스턴스를 생성하게 될 때 생성자 함수가 따로 정의되어 있지 않은 경우에는 파이썬의 기본 생성자 함수를 사용하게 되어 있습니다. ★\n",
        "\n",
        "인스턴스는 클래스의 생성자 함수에 따라 인스턴스의 초기 속성들을 받을 수 있습니다. 하지만 이는 인스턴스마다의 속성이지 클래스 전체에 대한 속성은 아니게 됩니다. 따라서 클래스 자체에서는 이러한 속성들에 대한 접근이 힘듭니다.\n",
        "\n"
      ]
    },
    {
      "cell_type": "code",
      "metadata": {
        "id": "zxCJCyjwg7Nm",
        "colab": {
          "base_uri": "https://localhost:8080/"
        },
        "outputId": "1c8312a6-abaf-4a00-bedb-6d45e8e6553c"
      },
      "source": [
        "class Pokemon:\n",
        "    def __init__(self, pokemon_a='pikachu'): #'pikachu' 이게 기본 생성자 함수.\n",
        "        self.pokemon_a = pokemon_a\n",
        "\n",
        "poke_a = Pokemon()\n",
        "print(poke_a.pokemon_a) #=> 'pikachu'"
      ],
      "execution_count": null,
      "outputs": [
        {
          "output_type": "stream",
          "name": "stdout",
          "text": [
            "pikachu\n"
          ]
        }
      ]
    },
    {
      "cell_type": "code",
      "metadata": {
        "id": "u8HmNBKIoJnS",
        "colab": {
          "base_uri": "https://localhost:8080/",
          "height": 174
        },
        "outputId": "e21694b7-6c4d-4775-b775-c6785043f010"
      },
      "source": [
        "Pokemon.pokemon_a  #클래스 자체에서는 생성자 속성에 접근할 수 없다. "
      ],
      "execution_count": null,
      "outputs": [
        {
          "output_type": "error",
          "ename": "AttributeError",
          "evalue": "ignored",
          "traceback": [
            "\u001b[0;31m---------------------------------------------------------------------------\u001b[0m",
            "\u001b[0;31mAttributeError\u001b[0m                            Traceback (most recent call last)",
            "\u001b[0;32m<ipython-input-25-d28d517ba5a9>\u001b[0m in \u001b[0;36m<module>\u001b[0;34m()\u001b[0m\n\u001b[0;32m----> 1\u001b[0;31m \u001b[0mPokemon\u001b[0m\u001b[0;34m.\u001b[0m\u001b[0mpokemon_a\u001b[0m\u001b[0;34m\u001b[0m\u001b[0;34m\u001b[0m\u001b[0m\n\u001b[0m",
            "\u001b[0;31mAttributeError\u001b[0m: type object 'Pokemon' has no attribute 'pokemon_a'"
          ]
        }
      ]
    },
    {
      "cell_type": "markdown",
      "metadata": {
        "id": "Uvl1qAn2oSNa"
      },
      "source": [
        "## 클래스 특별 메소드"
      ]
    },
    {
      "cell_type": "markdown",
      "metadata": {
        "id": "_B7pOjCBpEcG"
      },
      "source": [
        "### @property\n",
        "- 해당 메소드를 클래스의 특성 (attribute) 처럼 접근할 수 있게 됩니다.\n",
        "- 클래스 내에 다른 특성들과 연관이 되어 있는 특성들을 관리할 때 사용을 할 수 있습니다."
      ]
    },
    {
      "cell_type": "code",
      "metadata": {
        "id": "YsHuzHB8sJcK"
      },
      "source": [
        "class Person:\n",
        "\tdef __init__(self, first_name, last_name):\n",
        "\t\tself.first_name = first_name\n",
        "\t\tself.last_name = last_name\n",
        "\t\tself.full_name = self.first_name + ' ' + self.last_name"
      ],
      "execution_count": null,
      "outputs": []
    },
    {
      "cell_type": "code",
      "metadata": {
        "id": "tSuHOjJVsLdI",
        "colab": {
          "base_uri": "https://localhost:8080/"
        },
        "outputId": "e877e868-4e32-4ebb-887f-ec0d79f7d791"
      },
      "source": [
        "fred = Person('Fred', 'Williams')\n",
        "\n",
        "print(fred.first_name) #=> 'Fred'\n",
        "print(fred.last_name) #=> 'Williams'\n",
        "print(fred.full_name) #=> 'Fred Williams'"
      ],
      "execution_count": null,
      "outputs": [
        {
          "output_type": "stream",
          "name": "stdout",
          "text": [
            "Fred\n",
            "Williams\n",
            "Fred Williams\n"
          ]
        }
      ]
    },
    {
      "cell_type": "code",
      "metadata": {
        "id": "ET126M6JsNzk",
        "colab": {
          "base_uri": "https://localhost:8080/"
        },
        "outputId": "427660d4-ee09-4788-bd34-9b18b9205082"
      },
      "source": [
        "fred.first_name = 'Ted'\n",
        "\n",
        "print(fred.first_name) #=> 'Ted'\n",
        "print(fred.full_name) #=> 'Fred Williams'  # 속성값이 변하지 않는다. 방법은?"
      ],
      "execution_count": null,
      "outputs": [
        {
          "output_type": "stream",
          "name": "stdout",
          "text": [
            "Ted\n",
            "Fred Williams\n"
          ]
        }
      ]
    },
    {
      "cell_type": "code",
      "metadata": {
        "id": "m_b1PFIzsRTj"
      },
      "source": [
        "# 새로운 메서드 생성.\n",
        "class Person:\n",
        "\tdef __init__(self, first_name, last_name):\n",
        "\t\tself.first_name = first_name\n",
        "\t\tself.last_name = last_name\n",
        "\n",
        "\tdef full_name(self):\n",
        "\t\treturn self.first_name + ' ' + self.last_name"
      ],
      "execution_count": null,
      "outputs": []
    },
    {
      "cell_type": "code",
      "metadata": {
        "id": "DMjgEu9YsT55",
        "colab": {
          "base_uri": "https://localhost:8080/"
        },
        "outputId": "51fae1a6-bce8-43fb-a225-7ea74a390eab"
      },
      "source": [
        "fred = Person('Fred', 'Williams')\n",
        "\n",
        "fred.first_name = 'Ted'\n",
        "\n",
        "print(fred.first_name) #=> 'Ted'\n",
        "print(fred.full_name()) #=> 'Ted Williams'"
      ],
      "execution_count": null,
      "outputs": [
        {
          "output_type": "stream",
          "name": "stdout",
          "text": [
            "Ted\n",
            "Ted Williams\n"
          ]
        }
      ]
    },
    {
      "cell_type": "code",
      "metadata": {
        "id": "9nwdNtXYsYnV"
      },
      "source": [
        "# 메서드로 접근하지말고, 클래스의 속성으로 접근하는 방법은 없을까?\n",
        "\n",
        "class Person:\n",
        "\tdef __init__(self, first_name, last_name):\n",
        "\t\tself.first_name = first_name\n",
        "\t\tself.last_name = last_name\n",
        "\n",
        "\t@property\n",
        "\tdef full_name(self):\n",
        "\t\treturn self.first_name + ' ' + self.last_name"
      ],
      "execution_count": 2,
      "outputs": []
    },
    {
      "cell_type": "code",
      "metadata": {
        "id": "zJB_XShZobiT",
        "colab": {
          "base_uri": "https://localhost:8080/"
        },
        "outputId": "1d874344-ddfb-44f2-cda7-61607687e6ba"
      },
      "source": [
        "fred = Person('Fred', 'Williams')\n",
        "\n",
        "fred.first_name = 'Ted'\n",
        "\n",
        "print(fred.first_name) #=> 'Ted'\n",
        "print(fred.full_name) #=> 'Ted Williams'  # 속성처럼 접근이 가능하다.\n",
        "\n",
        "# fred.full_name = 'poel wiiek'   # AttributeError: can't set attribute  @property는 속성값을 읽기만 할 뿐 설정할 수 없다. "
      ],
      "execution_count": 5,
      "outputs": [
        {
          "output_type": "stream",
          "name": "stdout",
          "text": [
            "Ted\n",
            "Ted Williams\n"
          ]
        }
      ]
    },
    {
      "cell_type": "markdown",
      "metadata": {
        "id": "uxoNtfHXs6Vn"
      },
      "source": [
        "### getter, setter\n",
        "\n",
        "- getter : 어떤 것을 가져올 때 사용이 됩니다 @property 를 설정했을 때 이미 어떻게 가져올지 정해졌으니까 별도로 설정을 할 필요는 없습니다. \n",
        "- setter : 값을 설정해주는 행동"
      ]
    },
    {
      "cell_type": "code",
      "metadata": {
        "id": "z64XluBKvWoT"
      },
      "source": [
        "class Person:\n",
        "\tdef __init__(self, first_name, last_name):\n",
        "\t\tself.first_name = first_name\n",
        "\t\tself.last_name = last_name\n",
        "\n",
        "\t@property   # 메소드를 특성처럼 취급해서 가져옴.\n",
        "\tdef full_name(self):\n",
        "\t\treturn self.first_name + ' ' + self.last_name\n",
        "\t\t\n",
        "\t@full_name.setter   # 특성이름.setter\n",
        "\tdef full_name(self, new_full_name):\n",
        "\t\tfirst_name, last_name = new_full_name.split()\n",
        "\t\tself.first_name = first_name\n",
        "\t\tself.last_name = last_name"
      ],
      "execution_count": 19,
      "outputs": []
    },
    {
      "cell_type": "code",
      "metadata": {
        "id": "r5bLWSLUytau"
      },
      "source": [
        "fred = Person('Fred', 'Williams')\n",
        "fred.full_name = 'shell bithl'"
      ],
      "execution_count": 20,
      "outputs": []
    },
    {
      "cell_type": "code",
      "metadata": {
        "colab": {
          "base_uri": "https://localhost:8080/",
          "height": 35
        },
        "id": "j-fySCtK0Nwk",
        "outputId": "3209e1bd-19b1-461f-8dc4-79b3f3cf5035"
      },
      "source": [
        "fred.first_name"
      ],
      "execution_count": 21,
      "outputs": [
        {
          "output_type": "execute_result",
          "data": {
            "application/vnd.google.colaboratory.intrinsic+json": {
              "type": "string"
            },
            "text/plain": [
              "'shell'"
            ]
          },
          "metadata": {},
          "execution_count": 21
        }
      ]
    },
    {
      "cell_type": "code",
      "metadata": {
        "colab": {
          "base_uri": "https://localhost:8080/",
          "height": 35
        },
        "id": "v6pRA4nX1zv1",
        "outputId": "cd80dfe9-e590-43f2-d71f-347b17e02ba1"
      },
      "source": [
        "fred.full_name"
      ],
      "execution_count": 22,
      "outputs": [
        {
          "output_type": "execute_result",
          "data": {
            "application/vnd.google.colaboratory.intrinsic+json": {
              "type": "string"
            },
            "text/plain": [
              "'shell bithl'"
            ]
          },
          "metadata": {},
          "execution_count": 22
        }
      ]
    },
    {
      "cell_type": "code",
      "metadata": {
        "id": "DRKesKafAyKS"
      },
      "source": [
        "# 만약 setter 메소드가 없다면.\n",
        "\n",
        "class Person:\n",
        "    def __init__(self, first_name, last_name):\n",
        "        self.first_name = first_name\n",
        "        self.last_name = last_name\n",
        "    \n",
        "    @property  #메소드를 특성처럼 취급해서 가져온다.\n",
        "    def full_name(self):\n",
        "        return self.first_name + ' ' + self.last_name\n",
        "    \n",
        "    # 그냥 하나의 속성값이 된다. 동일이름의 경우 데코레이션보다 우선적으로 가져온다. \n",
        "    def full_names1(self, new_full_name):\n",
        "        first_name, last_name = new_full_name.split()\n",
        "        self.first_name = first_name\n",
        "        self.third_name = first_name\n",
        "        self.last_name = last_name\n",
        "        print(new_full_name)"
      ],
      "execution_count": 13,
      "outputs": []
    },
    {
      "cell_type": "code",
      "metadata": {
        "colab": {
          "base_uri": "https://localhost:8080/"
        },
        "id": "_jZLkYTk2gxM",
        "outputId": "7a33b55c-de80-4da1-ef1e-162273aff5df"
      },
      "source": [
        "fred = Person('Fred', 'Williams')\n",
        "print('1)',fred.full_name)\n",
        "\n",
        "fred.full_names2 = 'shell wii'   # 이거는 뭐냐면, __init__에 하나의 속성값을 추가한 것.\n",
        "print('2)', fred.full_names2)\n",
        "\n",
        "print('3)', fred.full_names1)  # 메서드가 실행되는게 아니라, 그냥 메서드 값이 나옴.\n",
        "print('4)', fred.full_names1('gil giline')) #메서드인데 리턴값이 없어서 함수 실행할 때 pring와 리턴값인 None이 나온다. \n",
        "print('5)', fred.first_name)  # 메서드가 실행된 후 first_name 속성값을 가져옴.  # 메서드에 포함된 속성값을 불러오고 싶을 땐, 메서드를 실행한 뒤 불러올 수 있다. https://dojang.io/mod/page/view.php?id=2373\n",
        "print('6)', fred.third_name)\n"
      ],
      "execution_count": 14,
      "outputs": [
        {
          "output_type": "stream",
          "name": "stdout",
          "text": [
            "1) Fred Williams\n",
            "2) shell wii\n",
            "3) <bound method Person.full_names1 of <__main__.Person object at 0x7f01e790b0d0>>\n",
            "gil giline\n",
            "4) None\n",
            "5) gil\n",
            "6) gil\n"
          ]
        }
      ]
    },
    {
      "cell_type": "code",
      "metadata": {
        "id": "SHZBE_TKDH5U"
      },
      "source": [
        "# 만약 setter 메소드가 없다면.\n",
        "\n",
        "class Person:\n",
        "    def __init__(self, first_name, last_name):\n",
        "        self.first_name = first_name\n",
        "        self.last_name = last_name\n",
        "    \n",
        "    @property  #메소드를 특성처럼 취급해서 가져온다.\n",
        "    def full_name(self):\n",
        "        return self.first_name + ' ' + self.last_name\n",
        "    \n",
        "    # 그냥 하나의 속성값이 된다. 동일이름의 경우 데코레이션보다 우선적으로 가져온다. \n",
        "    def full_names(self, new_full_name):\n",
        "        first_name, last_name = new_full_name.split()\n",
        "        self.first_name = first_name\n",
        "        self.third_name = first_name\n",
        "        self.last_name = last_name\n",
        "        print(new_full_name)"
      ],
      "execution_count": 15,
      "outputs": []
    },
    {
      "cell_type": "code",
      "metadata": {
        "colab": {
          "base_uri": "https://localhost:8080/"
        },
        "id": "RsC_Yuh2DLws",
        "outputId": "40d31989-ba2b-4201-8793-d33284075900"
      },
      "source": [
        "fred = Person('Fred', 'Williams')\n",
        "print('1)',fred.full_name)\n",
        "print('2)', fred.full_names('gil giline')) #메서드인데 리턴값이 없어서 함수 실행할 때 pring와 리턴값인 None이 나온다. \n",
        "print('3)', fred.first_name)  # 메서드가 실행된 후 first_name 속성값을 가져옴.  # 메서드에 포함된 속성값을 불러오고 싶을 땐, 메서드를 실행한 뒤 불러올 수 있다. https://dojang.io/mod/page/view.php?id=2373\n",
        "print('4)', fred.third_name)\n"
      ],
      "execution_count": 16,
      "outputs": [
        {
          "output_type": "stream",
          "name": "stdout",
          "text": [
            "1) Fred Williams\n",
            "gil giline\n",
            "2) None\n",
            "3) gil\n",
            "4) gil\n"
          ]
        }
      ]
    },
    {
      "cell_type": "markdown",
      "metadata": {
        "id": "rbYxV9sbFEY8"
      },
      "source": [
        "## single underscore/'double underscore'('dunderscore')\n",
        "- 변수나 함수에 특별한 의미를 부여할 때 사용이 됩니다.\n",
        "- 생성자 함수는 클래스를 통해서 인스턴스를 생성하게 해주는 특별한 용도의 함수이기 때문에 앞뒤로 두 개의 밑줄을 붙여줍니다.\n",
        "\n",
        "single : 숨기고 싶다 의도적으로 표현. 희망\n",
        "double : 강제. 좀더 강력하게 피력함."
      ]
    },
    {
      "cell_type": "code",
      "metadata": {
        "colab": {
          "base_uri": "https://localhost:8080/"
        },
        "id": "dloJBBbBFo7D",
        "outputId": "69ab6eb3-9a4d-42a4-d40b-b9f9b6eff8cf"
      },
      "source": [
        "class Pokemon:\n",
        "    _pokemon_health = 100  #파이썬 클래스 내부에서 따로 변수나 값을 저장할 때 사용\n",
        "\n",
        "    def __init__(self, pokemon_a='pikachu'):\n",
        "        self.pokemon_a = pokemon_a\n",
        "\n",
        "poke_a = Pokemon()\n",
        "print(poke_a._pokemon_health) #=> 100\n",
        "\n",
        "#다만 이렇게 클래스 내부 변수나 값으로 사용하더라도 파이썬에서는 외부에서 접근할 수가 있습니다."
      ],
      "execution_count": 21,
      "outputs": [
        {
          "output_type": "stream",
          "name": "stdout",
          "text": [
            "100\n"
          ]
        }
      ]
    },
    {
      "cell_type": "code",
      "metadata": {
        "colab": {
          "base_uri": "https://localhost:8080/",
          "height": 209
        },
        "id": "4RF3KHkkF6RY",
        "outputId": "65aafc9d-fba4-4ec2-a354-7db9e8d1c7c7"
      },
      "source": [
        "# 파이썬 클래스 내부에서만 관리하도록 밑줄을 두 개 사용할 수도 있습니다.\n",
        "class Pokemon:\n",
        "    __pokemon_health = 100\n",
        "\n",
        "    def __init__(self, pokemon_a='pikachu'):\n",
        "        self.pokemon_a = pokemon_a\n",
        "\n",
        "poke_a = Pokemon()\n",
        "print(poke_a.__pokemon_health) #=> 에러.  파이썬의 Name Mangling 으로 발생하는 상황\n",
        "# 밑줄을 두 개 사용하게 된다면 정해준 이름을 사용하지 않고 _<클래스 이름>_<변수 혹은 함수 이름> 으로 변경이 됩니다.\n",
        "# 즉, 위에서는 __pokemon_health 가 _Pokemon__pokemon_health 로 변경이 되죠."
      ],
      "execution_count": 25,
      "outputs": [
        {
          "output_type": "error",
          "ename": "AttributeError",
          "evalue": "ignored",
          "traceback": [
            "\u001b[0;31m---------------------------------------------------------------------------\u001b[0m",
            "\u001b[0;31mAttributeError\u001b[0m                            Traceback (most recent call last)",
            "\u001b[0;32m<ipython-input-25-da2e787c4f65>\u001b[0m in \u001b[0;36m<module>\u001b[0;34m()\u001b[0m\n\u001b[1;32m      7\u001b[0m \u001b[0;34m\u001b[0m\u001b[0m\n\u001b[1;32m      8\u001b[0m \u001b[0mpoke_a\u001b[0m \u001b[0;34m=\u001b[0m \u001b[0mPokemon\u001b[0m\u001b[0;34m(\u001b[0m\u001b[0;34m)\u001b[0m\u001b[0;34m\u001b[0m\u001b[0;34m\u001b[0m\u001b[0m\n\u001b[0;32m----> 9\u001b[0;31m \u001b[0mprint\u001b[0m\u001b[0;34m(\u001b[0m\u001b[0mpoke_a\u001b[0m\u001b[0;34m.\u001b[0m\u001b[0m__pokemon_health\u001b[0m\u001b[0;34m)\u001b[0m \u001b[0;31m#=> 에러\u001b[0m\u001b[0;34m\u001b[0m\u001b[0;34m\u001b[0m\u001b[0m\n\u001b[0m",
            "\u001b[0;31mAttributeError\u001b[0m: 'Pokemon' object has no attribute '__pokemon_health'"
          ]
        }
      ]
    },
    {
      "cell_type": "code",
      "metadata": {
        "colab": {
          "base_uri": "https://localhost:8080/"
        },
        "id": "BpQx9F93mVGJ",
        "outputId": "c38cb30f-139f-4c49-ac82-0ace277f443a"
      },
      "source": [
        "# 다시 말해, 밑줄을 두 개 사용한다고 해서 클래스 내부에서만 접근 가능한 private 개념이 되는 것이 아닌 여전히 public 개념인 거죠. 하고 싶다면 이렇게 접근할 수가 있습니다.\n",
        "print(poke_a._Pokemon__pokemon_health) #=> 100\n",
        "\n",
        "# 파이썬에서는 온전한 private 한 개념이 없는 부분을 매우 잘 보여주는 예시입니다. \n",
        "# 따라서 이러한 방법들을 통해서 파이썬 클래스 내부 값들을 외부에서 접근하기 힘들게 할 수는 있지만 접근이 불가하지는 않습니다."
      ],
      "execution_count": 26,
      "outputs": [
        {
          "output_type": "stream",
          "name": "stdout",
          "text": [
            "100\n"
          ]
        }
      ]
    },
    {
      "cell_type": "markdown",
      "metadata": {
        "id": "DzN_Pg_xCY9L"
      },
      "source": [
        "## 데코레이터\n",
        "- 어떤 함수에 추가적인 기능을 더 제공하고 싶을 때 사용.\n",
        "\n",
        "쓰는이유?? \n",
        "\n",
        "1) 코드의 재사용 줄이기 위해\n",
        "\n",
        "2) 대규모 소프트웨어를 개발하고 사용할 떄 사람들이 불편함 겪지않게 하기위해.\n",
        "\n",
        "\n",
        "- 개발자들은 clean하다. 깨끗하다. 고 표현한다.\n",
        "- 함수를 스크립트로 사용하거나 클래스에서 상속받을 수도 있지만, \n",
        "함수적으로 표현할 때는 데코레이터로 표현하는 것이 파이소닉하다고 표현함. \n",
        "\n",
        "클린하게 쓰기 위한 다른 방법은 무엇이 있을까???"
      ]
    },
    {
      "cell_type": "code",
      "metadata": {
        "id": "WPvyD1wQBMMC"
      },
      "source": [
        "a = PythonClasses()\n",
        "a.test_about_instance_creation()"
      ],
      "execution_count": null,
      "outputs": []
    },
    {
      "cell_type": "code",
      "metadata": {
        "id": "AcRU9lsCBu48",
        "colab": {
          "base_uri": "https://localhost:8080/"
        },
        "outputId": "cd4dc711-eb55-467c-931c-da9371b97e59"
      },
      "source": [
        "a = PythonClasses()\n",
        "a.echo()"
      ],
      "execution_count": null,
      "outputs": [
        {
          "output_type": "stream",
          "name": "stdout",
          "text": [
            "class name: Car\n",
            "condition: unknown\n",
            "doc: this is true love\n"
          ]
        }
      ]
    },
    {
      "cell_type": "code",
      "metadata": {
        "colab": {
          "base_uri": "https://localhost:8080/",
          "height": 213
        },
        "id": "9V4aAJnoULHz",
        "outputId": "1477e6c4-ac3e-4a7c-9f31-038844e7ce89"
      },
      "source": [
        "import pandas as pd\n",
        "pd.__doc__"
      ],
      "execution_count": null,
      "outputs": [
        {
          "output_type": "execute_result",
          "data": {
            "application/vnd.google.colaboratory.intrinsic+json": {
              "type": "string"
            },
            "text/plain": [
              "'\\npandas - a powerful data analysis and manipulation library for Python\\n=====================================================================\\n\\n**pandas** is a Python package providing fast, flexible, and expressive data\\nstructures designed to make working with \"relational\" or \"labeled\" data both\\neasy and intuitive. It aims to be the fundamental high-level building block for\\ndoing practical, **real world** data analysis in Python. Additionally, it has\\nthe broader goal of becoming **the most powerful and flexible open source data\\nanalysis / manipulation tool available in any language**. It is already well on\\nits way toward this goal.\\n\\nMain Features\\n-------------\\nHere are just a few of the things that pandas does well:\\n\\n  - Easy handling of missing data in floating point as well as non-floating\\n    point data.\\n  - Size mutability: columns can be inserted and deleted from DataFrame and\\n    higher dimensional objects\\n  - Automatic and explicit data alignment: objects can be explicitly aligned\\n    to a set of labels, or the user can simply ignore the labels and let\\n    `Series`, `DataFrame`, etc. automatically align the data for you in\\n    computations.\\n  - Powerful, flexible group by functionality to perform split-apply-combine\\n    operations on data sets, for both aggregating and transforming data.\\n  - Make it easy to convert ragged, differently-indexed data in other Python\\n    and NumPy data structures into DataFrame objects.\\n  - Intelligent label-based slicing, fancy indexing, and subsetting of large\\n    data sets.\\n  - Intuitive merging and joining data sets.\\n  - Flexible reshaping and pivoting of data sets.\\n  - Hierarchical labeling of axes (possible to have multiple labels per tick).\\n  - Robust IO tools for loading data from flat files (CSV and delimited),\\n    Excel files, databases, and saving/loading data from the ultrafast HDF5\\n    format.\\n  - Time series-specific functionality: date range generation and frequency\\n    conversion, moving window statistics, date shifting and lagging.\\n'"
            ]
          },
          "metadata": {},
          "execution_count": 47
        }
      ]
    },
    {
      "cell_type": "code",
      "metadata": {
        "id": "vA76nD1A8AhN"
      },
      "source": [
        "from unittest import TestCase\n",
        "\n",
        "class PythonClasses(TestCase):  #  PythonClasses는 TestCase를 상속함.\n",
        "    class Car:                  # PythonClasses 내부에 Car class 생성함. \n",
        "        \"There are many different cars\"\n",
        "    def test_about_instance_creation(self):\n",
        "        new_car = self.Car()\n",
        "        assert \"Car\" == new_car.__class__.__name__\n",
        "    def test_about_class_docstrings(self):\n",
        "        assert self.Car.__doc__ == \"빈칸을 채워주세요\"\n",
        "\n",
        "\n",
        "    class Car2:\n",
        "        def __init__(self):\n",
        "            self._name = 'BatCar'\n",
        "\n",
        "        def set_name(self, new_name):\n",
        "            self._name = new_name\n",
        "            \n",
        "    def test_about_init_constructor(self):\n",
        "        new_car = self.Car2()\n",
        "        assert \"BatCar\" == new_car._name\n"
      ],
      "execution_count": null,
      "outputs": []
    },
    {
      "cell_type": "code",
      "metadata": {
        "id": "WrsNOoOEBOrd"
      },
      "source": [
        "class Car2:\n",
        "    def __init__(self):\n",
        "        self._name = 'BatCar'\n",
        "    \n",
        "    def name(self):\n",
        "        new_car2 = self.Car2()\n",
        "        self._name = 'BatCar'\n",
        "        print()\n",
        "\n",
        "    def set_name(self, new_name):\n",
        "        self._name = new_name\n",
        "\n",
        "def test_about_init_constructor():\n",
        "    new_car = Car2()\n",
        "    print(new_car._name)\n",
        "    print(self._name)\n",
        "\n",
        "def test_about_private_attributes():\n",
        "    new_car = Car2()\n",
        "    new_car.set_name(\"SuperCar\")\n",
        "    print(new_car._name)\n",
        "\n",
        "def test_about_getattr_and_dict():\n",
        "    new_car = Car2()\n",
        "    new_car.set_name(\"SuperCar\")\n",
        "\n",
        "    print(getattr(new_car, \"_name\"))\n",
        "    print(new_car.__dict__[\"_name\"])"
      ],
      "execution_count": null,
      "outputs": []
    },
    {
      "cell_type": "code",
      "metadata": {
        "colab": {
          "base_uri": "https://localhost:8080/",
          "height": 35
        },
        "id": "gXXbX98BgUYs",
        "outputId": "68912c95-8289-4dff-e190-cbd28d274f2e"
      },
      "source": [
        "new_car = Car2()\n",
        "new_car._name  # BatCar\n",
        "new_car.set_name('Alice')\n",
        "new_car._name  # Alice"
      ],
      "execution_count": null,
      "outputs": [
        {
          "output_type": "execute_result",
          "data": {
            "application/vnd.google.colaboratory.intrinsic+json": {
              "type": "string"
            },
            "text/plain": [
              "'Alice'"
            ]
          },
          "metadata": {},
          "execution_count": 109
        }
      ]
    },
    {
      "cell_type": "code",
      "metadata": {
        "colab": {
          "base_uri": "https://localhost:8080/"
        },
        "id": "5A2XxxR7i6c-",
        "outputId": "053ef985-4629-4757-c4e8-89e435e63a6f"
      },
      "source": [
        "new_car.__dict__"
      ],
      "execution_count": null,
      "outputs": [
        {
          "output_type": "execute_result",
          "data": {
            "text/plain": [
              "{'_name': 'SuperCar'}"
            ]
          },
          "metadata": {},
          "execution_count": 106
        }
      ]
    },
    {
      "cell_type": "code",
      "metadata": {
        "id": "9k8etWB41c8t"
      },
      "source": [
        "class Car3:\n",
        "    def __init__(self):\n",
        "        self._name = None\n",
        "\n",
        "    def set_name(self, a_name):\n",
        "        self._name = a_name\n",
        "\n",
        "    def get_name(self):\n",
        "        return self._name\n",
        "\n",
        "    name = property(get_name, set_name)"
      ],
      "execution_count": null,
      "outputs": []
    },
    {
      "cell_type": "code",
      "metadata": {
        "colab": {
          "base_uri": "https://localhost:8080/",
          "height": 35
        },
        "id": "FF0SW8Ja3_8y",
        "outputId": "0cfab146-ff20-46cd-992b-acd8086effc6"
      },
      "source": [
        "new_car = Car3()\n",
        "new_car.set_name(\"SuperCar\")\n",
        "new_car.name"
      ],
      "execution_count": null,
      "outputs": [
        {
          "output_type": "execute_result",
          "data": {
            "application/vnd.google.colaboratory.intrinsic+json": {
              "type": "string"
            },
            "text/plain": [
              "'SuperCar'"
            ]
          },
          "metadata": {},
          "execution_count": 118
        }
      ]
    },
    {
      "cell_type": "code",
      "metadata": {
        "colab": {
          "base_uri": "https://localhost:8080/",
          "height": 35
        },
        "id": "bTWAvD6z-Zwv",
        "outputId": "ce9b3d72-fcab-439d-8174-ae3a208395f5"
      },
      "source": [
        "getattr(new_car, \"name\")  #getattr(object, name[, default]) object에 존재하는 name 속성의 값을 가져온다.\n"
      ],
      "execution_count": null,
      "outputs": [
        {
          "output_type": "execute_result",
          "data": {
            "application/vnd.google.colaboratory.intrinsic+json": {
              "type": "string"
            },
            "text/plain": [
              "'SuperCar'"
            ]
          },
          "metadata": {},
          "execution_count": 121
        }
      ]
    },
    {
      "cell_type": "code",
      "metadata": {
        "colab": {
          "base_uri": "https://localhost:8080/",
          "height": 35
        },
        "id": "Z-S9lWtODL2N",
        "outputId": "bab02857-bb1d-4f32-eee2-779de6bf12fe"
      },
      "source": [
        "new_car.name"
      ],
      "execution_count": null,
      "outputs": [
        {
          "output_type": "execute_result",
          "data": {
            "application/vnd.google.colaboratory.intrinsic+json": {
              "type": "string"
            },
            "text/plain": [
              "'SuperCar'"
            ]
          },
          "metadata": {},
          "execution_count": 122
        }
      ]
    },
    {
      "cell_type": "code",
      "metadata": {
        "id": "UzjLO9ww-cmW"
      },
      "source": [
        "class Car5:\n",
        "    def __init__(self, initial_name):\n",
        "        self._name = initial_name\n",
        "\n",
        "    @property    #읽기전용필드\n",
        "    def name(self):\n",
        "        return self._name"
      ],
      "execution_count": null,
      "outputs": []
    },
    {
      "cell_type": "code",
      "metadata": {
        "colab": {
          "base_uri": "https://localhost:8080/",
          "height": 169
        },
        "id": "hN8DMDUdMMfj",
        "outputId": "5d7a40fc-4864-45e2-ac17-efabf07a0fbf"
      },
      "source": [
        "a = Car5()"
      ],
      "execution_count": null,
      "outputs": [
        {
          "output_type": "error",
          "ename": "TypeError",
          "evalue": "ignored",
          "traceback": [
            "\u001b[0;31m---------------------------------------------------------------------------\u001b[0m",
            "\u001b[0;31mTypeError\u001b[0m                                 Traceback (most recent call last)",
            "\u001b[0;32m<ipython-input-130-735db8231697>\u001b[0m in \u001b[0;36m<module>\u001b[0;34m()\u001b[0m\n\u001b[0;32m----> 1\u001b[0;31m \u001b[0ma\u001b[0m \u001b[0;34m=\u001b[0m \u001b[0mCar5\u001b[0m\u001b[0;34m(\u001b[0m\u001b[0;34m)\u001b[0m\u001b[0;34m\u001b[0m\u001b[0;34m\u001b[0m\u001b[0m\n\u001b[0m",
            "\u001b[0;31mTypeError\u001b[0m: __init__() missing 1 required positional argument: 'initial_name'"
          ]
        }
      ]
    },
    {
      "cell_type": "code",
      "metadata": {
        "id": "e2sPz4bL4Hnd"
      },
      "source": [
        "from unittest import TestCase\n",
        "class PythonClasses(TestCase):\n",
        "    class Car6:\n",
        "        def __init__(self, initial_name):\n",
        "            self._name = initial_name\n",
        "\n",
        "        def get_self(self):\n",
        "            return self\n",
        "\n",
        "\n",
        "    def test_about_self_reference(self):\n",
        "        new_car = self.Car6(\"SuperCar\")\n",
        "        assert new_car == new_car.get_self()"
      ],
      "execution_count": null,
      "outputs": []
    },
    {
      "cell_type": "code",
      "metadata": {
        "colab": {
          "base_uri": "https://localhost:8080/"
        },
        "id": "E2Mt3S2-4XXY",
        "outputId": "86df9f43-f297-4734-d625-f1bcf1cf681e"
      },
      "source": [
        "a = PythonClasses().Car6('SuperCar')\n",
        "a.get_self()"
      ],
      "execution_count": null,
      "outputs": [
        {
          "output_type": "execute_result",
          "data": {
            "text/plain": [
              "<__main__.PythonClasses.Car6 at 0x7f420741fdd0>"
            ]
          },
          "metadata": {},
          "execution_count": 215
        }
      ]
    },
    {
      "cell_type": "code",
      "metadata": {
        "colab": {
          "base_uri": "https://localhost:8080/"
        },
        "id": "YNKGxARBZ8pO",
        "outputId": "ca7ceef5-ad4d-44bd-d4b1-d22fc39bc8c4"
      },
      "source": [
        "a = PythonClasses().Car6('SuperCar')\n",
        "a"
      ],
      "execution_count": null,
      "outputs": [
        {
          "output_type": "execute_result",
          "data": {
            "text/plain": [
              "<__main__.PythonClasses.Car6 at 0x7f42073e6d10>"
            ]
          },
          "metadata": {},
          "execution_count": 226
        }
      ]
    },
    {
      "cell_type": "code",
      "metadata": {
        "id": "pQ8-WmQT4a8o"
      },
      "source": [
        "b = PythonClasses().test_about_self_reference()"
      ],
      "execution_count": null,
      "outputs": []
    },
    {
      "cell_type": "code",
      "metadata": {
        "id": "6U74M-C24pN1"
      },
      "source": [
        "class Car6:\n",
        "    def __init__(self, initial_name):\n",
        "        self._name = initial_name\n",
        "\n",
        "    def get_self(self):\n",
        "        return self\n",
        "\n",
        "    def __str__(self):  #initial_name 인자를 전달했을 때, 인스턴스를 어떻게 출력할건지 형식을 지정.\n",
        "        return \"This car is {}\".format(self._name)\n",
        "\n",
        "    def __repr__(self):  # 객체를 문자화된 형태로 표현함. \n",
        "        return \"<Car '{}'>\".format(self._name)\n",
        "    "
      ],
      "execution_count": null,
      "outputs": []
    },
    {
      "cell_type": "code",
      "metadata": {
        "colab": {
          "base_uri": "https://localhost:8080/",
          "height": 35
        },
        "id": "fmpBA9vQSiGu",
        "outputId": "1217cb6e-5bef-442b-f999-8b9c6b1c92c2"
      },
      "source": [
        "new_car=Car6(\"SuperCar\")\n",
        "str(new_car)"
      ],
      "execution_count": null,
      "outputs": [
        {
          "output_type": "execute_result",
          "data": {
            "application/vnd.google.colaboratory.intrinsic+json": {
              "type": "string"
            },
            "text/plain": [
              "'This car is SuperCar'"
            ]
          },
          "metadata": {},
          "execution_count": 25
        }
      ]
    },
    {
      "cell_type": "code",
      "metadata": {
        "colab": {
          "base_uri": "https://localhost:8080/"
        },
        "id": "C3iaeibOT_xV",
        "outputId": "16a20385-4bb4-4497-8d5b-07dc9a88d7de"
      },
      "source": [
        "new_car.get_self()  # 원래 new_car는 이러한 형태로 객체가 보여지는데, 이걸 사람이 알아볼 수 있는 형태로 표현해주는게 __repr__"
      ],
      "execution_count": null,
      "outputs": [
        {
          "output_type": "execute_result",
          "data": {
            "text/plain": [
              "<Car 'SuperCar'>"
            ]
          },
          "metadata": {},
          "execution_count": 26
        }
      ]
    },
    {
      "cell_type": "code",
      "metadata": {
        "colab": {
          "base_uri": "https://localhost:8080/"
        },
        "id": "ppLBzXrMd-g_",
        "outputId": "6e428d0e-ce14-402d-97ca-4eed27fc28ad"
      },
      "source": [
        "new_car"
      ],
      "execution_count": null,
      "outputs": [
        {
          "output_type": "execute_result",
          "data": {
            "text/plain": [
              "<Car 'SuperCar'>"
            ]
          },
          "metadata": {},
          "execution_count": 27
        }
      ]
    },
    {
      "cell_type": "code",
      "metadata": {
        "colab": {
          "base_uri": "https://localhost:8080/"
        },
        "id": "P_oDD4T8fH6O",
        "outputId": "9115867b-d3ee-4dec-9ff9-11c22a05f3c1"
      },
      "source": [
        "new2_car=Car6(\"BatCar\")\n",
        "new2_car"
      ],
      "execution_count": null,
      "outputs": [
        {
          "output_type": "execute_result",
          "data": {
            "text/plain": [
              "<Car 'BatCar'>"
            ]
          },
          "metadata": {},
          "execution_count": 28
        }
      ]
    },
    {
      "cell_type": "code",
      "metadata": {
        "colab": {
          "base_uri": "https://localhost:8080/"
        },
        "id": "X2Gq0PQrfjyr",
        "outputId": "e0726f7a-edab-4812-d547-6fb5232b8fc8"
      },
      "source": [
        "new2_car.get_self() "
      ],
      "execution_count": null,
      "outputs": [
        {
          "output_type": "execute_result",
          "data": {
            "text/plain": [
              "<Car 'BatCar'>"
            ]
          },
          "metadata": {},
          "execution_count": 29
        }
      ]
    },
    {
      "cell_type": "code",
      "metadata": {
        "colab": {
          "base_uri": "https://localhost:8080/",
          "height": 35
        },
        "id": "8gdaUUbAf_J_",
        "outputId": "59dd7be3-0881-4a87-8231-984110f883d5"
      },
      "source": [
        "repr(new_car)"
      ],
      "execution_count": null,
      "outputs": [
        {
          "output_type": "execute_result",
          "data": {
            "application/vnd.google.colaboratory.intrinsic+json": {
              "type": "string"
            },
            "text/plain": [
              "\"<Car 'SuperCar'>\""
            ]
          },
          "metadata": {},
          "execution_count": 30
        }
      ]
    },
    {
      "cell_type": "code",
      "metadata": {
        "colab": {
          "base_uri": "https://localhost:8080/",
          "height": 35
        },
        "id": "b7ZFnOnmgAp2",
        "outputId": "f1737250-6ec0-4e20-de4e-fdad9e9b6424"
      },
      "source": [
        "repr(new2_car)"
      ],
      "execution_count": null,
      "outputs": [
        {
          "output_type": "execute_result",
          "data": {
            "application/vnd.google.colaboratory.intrinsic+json": {
              "type": "string"
            },
            "text/plain": [
              "\"<Car 'BatCar'>\""
            ]
          },
          "metadata": {},
          "execution_count": 31
        }
      ]
    },
    {
      "cell_type": "code",
      "metadata": {
        "id": "307-Fle7hSQH"
      },
      "source": [
        "from unittest import TestCase\n",
        "class PythonClasses(TestCase):\n",
        "    class Car6:\n",
        "        def __init__(self, initial_name):\n",
        "            self._name = initial_name\n",
        "\n",
        "        def get_self(self):\n",
        "            return self\n",
        "\n",
        "        def __str__(self):  #initial_name 인자를 전달했을 때, 인스턴스를 어떻게 출력할건지 형식을 지정.\n",
        "            return \"This car is {}\".format(self._name)\n",
        "\n",
        "        def __repr__(self):  # 객체를 문자화된 형태로 표현함. \n",
        "            return \"<Car '{}'>\".format(self._name)\n",
        "\n",
        "    def test_about_objects_str_and_repr(self):\n",
        "        nums=[1, 2, 3]\n",
        "\n",
        "        assert \"[1, 2, 3]\" == str(nums)\n",
        "        assert \"[1, 2, 3]\" == repr(nums)\n",
        "\n",
        "        assert \"STRING\" == str(\"STRING\")\n",
        "        assert \"'STRING'\" == repr(\"STRING\")        "
      ],
      "execution_count": null,
      "outputs": []
    },
    {
      "cell_type": "code",
      "metadata": {
        "id": "vpkp6ToWgCfP"
      },
      "source": [
        "a = PythonClasses().test_about_objects_str_and_repr()"
      ],
      "execution_count": null,
      "outputs": []
    },
    {
      "cell_type": "code",
      "metadata": {
        "colab": {
          "base_uri": "https://localhost:8080/",
          "height": 35
        },
        "id": "QrUH3DSZgkFV",
        "outputId": "f9da99bd-de61-4c85-e52d-ff3511cb532a"
      },
      "source": [
        "repr(\"STRING\")"
      ],
      "execution_count": null,
      "outputs": [
        {
          "output_type": "execute_result",
          "data": {
            "application/vnd.google.colaboratory.intrinsic+json": {
              "type": "string"
            },
            "text/plain": [
              "\"'STRING'\""
            ]
          },
          "metadata": {},
          "execution_count": 36
        }
      ]
    },
    {
      "cell_type": "code",
      "metadata": {
        "colab": {
          "base_uri": "https://localhost:8080/",
          "height": 35
        },
        "id": "PLUJbiFtjSkZ",
        "outputId": "4a507208-bc9c-40cd-96f1-96e93af92635"
      },
      "source": [
        "repr([1,2,3])"
      ],
      "execution_count": null,
      "outputs": [
        {
          "output_type": "execute_result",
          "data": {
            "application/vnd.google.colaboratory.intrinsic+json": {
              "type": "string"
            },
            "text/plain": [
              "'[1, 2, 3]'"
            ]
          },
          "metadata": {},
          "execution_count": 44
        }
      ]
    },
    {
      "cell_type": "code",
      "metadata": {
        "colab": {
          "base_uri": "https://localhost:8080/",
          "height": 35
        },
        "id": "serUfF8pjZlO",
        "outputId": "93a80d49-3b27-471f-d588-5e7fb67a7f40"
      },
      "source": [
        "str('string')"
      ],
      "execution_count": null,
      "outputs": [
        {
          "output_type": "execute_result",
          "data": {
            "application/vnd.google.colaboratory.intrinsic+json": {
              "type": "string"
            },
            "text/plain": [
              "'string'"
            ]
          },
          "metadata": {},
          "execution_count": 45
        }
      ]
    },
    {
      "cell_type": "markdown",
      "metadata": {
        "id": "VCaXLiMCvE8Q"
      },
      "source": [
        "# __class__ ★"
      ]
    },
    {
      "cell_type": "code",
      "metadata": {
        "id": "SseUb_PgknJG"
      },
      "source": [
        "##### 잘 이해가 안가는 것.\n",
        "from unittest import TestCase\n",
        "class PythonClassAttributes(TestCase):\n",
        "    class Car:\n",
        "        pass\n",
        "    def test_about_class_and_types(self):\n",
        "        new_car = self.Car()  #pytest 내부에서 Car클래스를 하나의 인스턴스로 만듦.\n",
        "        print('객체 그 자체: ', new_car)\n",
        "        print('객체가 속한 클래스: ', new_car.__class__)\n",
        "        print('객체가 속한 클래스 이름: ', new_car.__class__.__name__)\n",
        "        print('Car클래스의 정체는?: ', self.Car)\n",
        "        print('Car클래스가 속한 클래스는?: ', self.Car.__class__)\n",
        "        print('Car클래스가 속한 클래스의 이름?:', self.Car.__class__.__name__)"
      ],
      "execution_count": 17,
      "outputs": []
    },
    {
      "cell_type": "code",
      "metadata": {
        "colab": {
          "base_uri": "https://localhost:8080/"
        },
        "id": "_CvPlmxquvQ2",
        "outputId": "301d9b0a-0d41-4b89-91eb-f682063ce625"
      },
      "source": [
        "ab=  PythonClassAttributes().Car()  # python 클래스의 car클래스를 변수에 담아서 하나의 인스턴스를 만든다. \n",
        "print(ab)  # ab 인스턴스의 정체 : 객체였더라!!!\n",
        "print(ab.__class__)  #ab인스턴스가 속한 클래스\n",
        "print(ab.__class__.__name__)  # ab인스턴스가 속한 클래스 이름."
      ],
      "execution_count": null,
      "outputs": [
        {
          "output_type": "stream",
          "name": "stdout",
          "text": [
            "<__main__.PythonClassAttributes.Car object at 0x7f954722f250>\n",
            "<class '__main__.PythonClassAttributes.Car'>\n",
            "Car\n"
          ]
        }
      ]
    },
    {
      "cell_type": "code",
      "metadata": {
        "colab": {
          "base_uri": "https://localhost:8080/"
        },
        "id": "w9o0kU0G0MoX",
        "outputId": "fc36489e-6786-486b-e8c5-13012190bd4f"
      },
      "source": [
        "ab=  PythonClassAttributes().Car  # python 클래스의 car클래스를 변수에 담아서 하나의 인스턴스를 만든다. \n",
        "print(ab)  # ab 인스턴스의 정체 : 객체였더라!!!\n",
        "print(ab.__class__)  #ab인스턴스가 속한 클래스\n",
        "print(ab.__class__.__name__)  # ab인스턴스가 속한 클래스 이름."
      ],
      "execution_count": null,
      "outputs": [
        {
          "output_type": "stream",
          "name": "stdout",
          "text": [
            "<class '__main__.PythonClassAttributes.Car'>\n",
            "<class 'type'>\n",
            "type\n"
          ]
        }
      ]
    },
    {
      "cell_type": "code",
      "metadata": {
        "colab": {
          "base_uri": "https://localhost:8080/"
        },
        "id": "L735qVxJrHs1",
        "outputId": "8514d9a2-9a64-45a0-e451-53dffdce1b6e"
      },
      "source": [
        "a = PythonClassAttributes().test_about_class_and_types()\n",
        "a"
      ],
      "execution_count": null,
      "outputs": [
        {
          "output_type": "stream",
          "name": "stdout",
          "text": [
            "객체 그 자체:  <__main__.PythonClassAttributes.Car object at 0x7f9546b4e9d0>\n",
            "객체가 속한 클래스:  <class '__main__.PythonClassAttributes.Car'>\n",
            "객체가 속한 클래스 이름:  Car\n",
            "Car클래스의 정체는?:  <class '__main__.PythonClassAttributes.Car'>\n",
            "Car클래스가 속한 클래스는?:  <class 'type'>\n",
            "Car클래스가 속한 클래스의 이름?: type\n"
          ]
        }
      ]
    },
    {
      "cell_type": "code",
      "metadata": {
        "id": "4Ve6XFthuhVq"
      },
      "source": [
        "class Car:\n",
        "    pass"
      ],
      "execution_count": null,
      "outputs": []
    },
    {
      "cell_type": "code",
      "metadata": {
        "colab": {
          "base_uri": "https://localhost:8080/"
        },
        "id": "YRAuj4gEzcpp",
        "outputId": "87b293a7-3114-440f-d53a-d77c3328bb88"
      },
      "source": [
        "b = Car\n",
        "b == object"
      ],
      "execution_count": null,
      "outputs": [
        {
          "output_type": "execute_result",
          "data": {
            "text/plain": [
              "False"
            ]
          },
          "metadata": {},
          "execution_count": 121
        }
      ]
    },
    {
      "cell_type": "code",
      "metadata": {
        "colab": {
          "base_uri": "https://localhost:8080/",
          "height": 35
        },
        "id": "6YZmwYpJujvv",
        "outputId": "9f9f12a7-5bfe-4827-8ba0-93f6f81aaf7f"
      },
      "source": [
        "a = Car()\n",
        "a.__class__.__name__"
      ],
      "execution_count": null,
      "outputs": [
        {
          "output_type": "execute_result",
          "data": {
            "application/vnd.google.colaboratory.intrinsic+json": {
              "type": "string"
            },
            "text/plain": [
              "'Car'"
            ]
          },
          "metadata": {},
          "execution_count": 109
        }
      ]
    },
    {
      "cell_type": "code",
      "metadata": {
        "colab": {
          "base_uri": "https://localhost:8080/"
        },
        "id": "-NT3XtI62xt2",
        "outputId": "369711b4-65de-447c-dd5d-7a71b37d57c5"
      },
      "source": [
        "len(dir(a))"
      ],
      "execution_count": null,
      "outputs": [
        {
          "output_type": "execute_result",
          "data": {
            "text/plain": [
              "26"
            ]
          },
          "metadata": {},
          "execution_count": 124
        }
      ]
    },
    {
      "cell_type": "code",
      "metadata": {
        "colab": {
          "base_uri": "https://localhost:8080/"
        },
        "id": "4mNeZ4ja2_hj",
        "outputId": "f39d1d88-c802-47b3-f187-6d9726dd46eb"
      },
      "source": [
        "len(dir(Car))"
      ],
      "execution_count": null,
      "outputs": [
        {
          "output_type": "execute_result",
          "data": {
            "text/plain": [
              "26"
            ]
          },
          "metadata": {},
          "execution_count": 126
        }
      ]
    },
    {
      "cell_type": "markdown",
      "metadata": {
        "id": "Ctc4G9K42onX"
      },
      "source": [
        "/////"
      ]
    },
    {
      "cell_type": "code",
      "metadata": {
        "id": "_HK01xbfmvce"
      },
      "source": [
        "class PythonClassAttributes(TestCase):\n",
        "    class Car:\n",
        "        pass\n",
        "    def test_about_class_and_types(self):\n",
        "        new_car = self.Car()  #pytest 내부에서 Car클래스를 하나의 인스턴스로 만듦.\n",
        "        assert 26 == len(dir(new_car))\n",
        "        assert 26 == len(dir(self.Car))\n",
        "        new_car = self.Car()\n",
        "        new_car.wheels=4\n",
        "        print(new_car.wheels)\n",
        "        new_car=self.Car()\n",
        "        new_car.drive= lambda: 'driving car'  # 이건 drive라는 메서드\n",
        "        print(type(new_car.drive))   # drive메서드는 함수 클래스에 속해있다. \n",
        "        print(new_car.drive)   #메서드에 ()를 붙이지 않는다면  new_car객체의 drive메서드에 대한 정체가 나온다..?\n",
        "        print(new_car.drive())\n",
        "        new_car.drives= 'driving car'  #이건 drive라는 속성\n",
        "        print(new_car.drives)\n",
        "        print(new_car.drives())  #속성값에는 ()를 붙일 수 없다. \n",
        "\n",
        "\n",
        "    def test_about_individual_object_functions_2(self):\n",
        "        old_car = self.Car()\n",
        "        new_car = self.Car() \n",
        "        def drive():\n",
        "            return 'driving car'  #drive함수를 만든다. \n",
        "        old_car.drive = drive  # old_car 의 drive 메서드를 만들고, drive함수 객체의 주소값 부여.\n",
        "        print(old_car.drive)  # drive함수 객체의 주소값을 알수있고\n",
        "        print(old_car.drive())  # drive함수의 return값이 나온다. \n",
        "        print(new_car.drive)    #AttributeError: 'Car' object has no attribute 'drive'\n",
        "        with self.assertRaises(AttributeError):\n",
        "            new_car.drive()    #AttributeError: 'Car' object has no attribute 'drive'"
      ],
      "execution_count": null,
      "outputs": []
    },
    {
      "cell_type": "code",
      "metadata": {
        "colab": {
          "base_uri": "https://localhost:8080/",
          "height": 345
        },
        "id": "KT40Cu9S3asn",
        "outputId": "5887b63c-2b4e-44c1-c126-b26a939b0b9e"
      },
      "source": [
        "PythonClassAttributes().test_about_class_and_types()"
      ],
      "execution_count": null,
      "outputs": [
        {
          "output_type": "stream",
          "name": "stdout",
          "text": [
            "4\n",
            "<class 'function'>\n",
            "<function PythonClassAttributes.test_about_class_and_types.<locals>.<lambda> at 0x7f9546b2dd40>\n",
            "driving car\n",
            "driving car\n"
          ]
        },
        {
          "output_type": "error",
          "ename": "TypeError",
          "evalue": "ignored",
          "traceback": [
            "\u001b[0;31m---------------------------------------------------------------------------\u001b[0m",
            "\u001b[0;31mTypeError\u001b[0m                                 Traceback (most recent call last)",
            "\u001b[0;32m<ipython-input-154-7fd1c7e6f01d>\u001b[0m in \u001b[0;36m<module>\u001b[0;34m()\u001b[0m\n\u001b[0;32m----> 1\u001b[0;31m \u001b[0mPythonClassAttributes\u001b[0m\u001b[0;34m(\u001b[0m\u001b[0;34m)\u001b[0m\u001b[0;34m.\u001b[0m\u001b[0mtest_about_class_and_types\u001b[0m\u001b[0;34m(\u001b[0m\u001b[0;34m)\u001b[0m\u001b[0;34m\u001b[0m\u001b[0;34m\u001b[0m\u001b[0m\n\u001b[0m",
            "\u001b[0;32m<ipython-input-153-20d9fe3ada69>\u001b[0m in \u001b[0;36mtest_about_class_and_types\u001b[0;34m(self)\u001b[0m\n\u001b[1;32m     16\u001b[0m         \u001b[0mnew_car\u001b[0m\u001b[0;34m.\u001b[0m\u001b[0mdrives\u001b[0m\u001b[0;34m=\u001b[0m \u001b[0;34m'driving car'\u001b[0m  \u001b[0;31m#이건 drive라는 속성\u001b[0m\u001b[0;34m\u001b[0m\u001b[0;34m\u001b[0m\u001b[0m\n\u001b[1;32m     17\u001b[0m         \u001b[0mprint\u001b[0m\u001b[0;34m(\u001b[0m\u001b[0mnew_car\u001b[0m\u001b[0;34m.\u001b[0m\u001b[0mdrives\u001b[0m\u001b[0;34m)\u001b[0m\u001b[0;34m\u001b[0m\u001b[0;34m\u001b[0m\u001b[0m\n\u001b[0;32m---> 18\u001b[0;31m         \u001b[0mprint\u001b[0m\u001b[0;34m(\u001b[0m\u001b[0mnew_car\u001b[0m\u001b[0;34m.\u001b[0m\u001b[0mdrives\u001b[0m\u001b[0;34m(\u001b[0m\u001b[0;34m)\u001b[0m\u001b[0;34m)\u001b[0m  \u001b[0;31m#속성값에는 ()를 붙일 수 없다.\u001b[0m\u001b[0;34m\u001b[0m\u001b[0;34m\u001b[0m\u001b[0m\n\u001b[0m",
            "\u001b[0;31mTypeError\u001b[0m: 'str' object is not callable"
          ]
        }
      ]
    },
    {
      "cell_type": "code",
      "metadata": {
        "id": "OJGzqs9-49OR"
      },
      "source": [
        "class Car():\n",
        "    pass"
      ],
      "execution_count": null,
      "outputs": []
    },
    {
      "cell_type": "code",
      "metadata": {
        "id": "QUZizG5G3eE3"
      },
      "source": [
        "# ac = Car()\n",
        "old_car = Car()\n",
        "new_car = Car()"
      ],
      "execution_count": null,
      "outputs": []
    },
    {
      "cell_type": "code",
      "metadata": {
        "id": "kHPs6sYZ8Y8g"
      },
      "source": [
        "def drive():\n",
        "    return 'driving car'"
      ],
      "execution_count": null,
      "outputs": []
    },
    {
      "cell_type": "code",
      "metadata": {
        "id": "edvPkWZH8hs_"
      },
      "source": [
        "old_car.drive = drive"
      ],
      "execution_count": null,
      "outputs": []
    },
    {
      "cell_type": "code",
      "metadata": {
        "colab": {
          "base_uri": "https://localhost:8080/",
          "height": 169
        },
        "id": "qHjk2cu68j2g",
        "outputId": "50ed97bc-03a1-4fb1-90ad-313ca2e50cf5"
      },
      "source": [
        "old_car.drive"
      ],
      "execution_count": null,
      "outputs": [
        {
          "output_type": "error",
          "ename": "AttributeError",
          "evalue": "ignored",
          "traceback": [
            "\u001b[0;31m---------------------------------------------------------------------------\u001b[0m",
            "\u001b[0;31mAttributeError\u001b[0m                            Traceback (most recent call last)",
            "\u001b[0;32m<ipython-input-180-e59cd5db70ae>\u001b[0m in \u001b[0;36m<module>\u001b[0;34m()\u001b[0m\n\u001b[0;32m----> 1\u001b[0;31m \u001b[0mold_car\u001b[0m\u001b[0;34m.\u001b[0m\u001b[0mdrive\u001b[0m\u001b[0;34m\u001b[0m\u001b[0;34m\u001b[0m\u001b[0m\n\u001b[0m",
            "\u001b[0;31mAttributeError\u001b[0m: 'Car' object has no attribute 'drive'"
          ]
        }
      ]
    },
    {
      "cell_type": "code",
      "metadata": {
        "colab": {
          "base_uri": "https://localhost:8080/",
          "height": 35
        },
        "id": "Vz7JgvAX8oSP",
        "outputId": "9eb7bb37-e897-4b1b-fba6-99e74ed13240"
      },
      "source": [
        "new_car.drive()"
      ],
      "execution_count": null,
      "outputs": [
        {
          "output_type": "execute_result",
          "data": {
            "application/vnd.google.colaboratory.intrinsic+json": {
              "type": "string"
            },
            "text/plain": [
              "'driving car'"
            ]
          },
          "metadata": {},
          "execution_count": 163
        }
      ]
    },
    {
      "cell_type": "code",
      "metadata": {
        "colab": {
          "base_uri": "https://localhost:8080/",
          "height": 345
        },
        "id": "NdR4kzYo8xkn",
        "outputId": "12929ac4-6e75-4831-8242-9487479dec3c"
      },
      "source": [
        "function = PythonClassAttributes().test_about_individual_object_functions_2()\n",
        "function"
      ],
      "execution_count": null,
      "outputs": [
        {
          "output_type": "stream",
          "name": "stdout",
          "text": [
            "<function PythonClassAttributes.test_about_individual_object_functions_2.<locals>.drive at 0x7f9546aee050>\n",
            "driving car\n"
          ]
        },
        {
          "output_type": "error",
          "ename": "AttributeError",
          "evalue": "ignored",
          "traceback": [
            "\u001b[0;31m---------------------------------------------------------------------------\u001b[0m",
            "\u001b[0;31mAttributeError\u001b[0m                            Traceback (most recent call last)",
            "\u001b[0;32m<ipython-input-192-a53d75121ac9>\u001b[0m in \u001b[0;36m<module>\u001b[0;34m()\u001b[0m\n\u001b[0;32m----> 1\u001b[0;31m \u001b[0mfunction\u001b[0m \u001b[0;34m=\u001b[0m \u001b[0mPythonClassAttributes\u001b[0m\u001b[0;34m(\u001b[0m\u001b[0;34m)\u001b[0m\u001b[0;34m.\u001b[0m\u001b[0mtest_about_individual_object_functions_2\u001b[0m\u001b[0;34m(\u001b[0m\u001b[0;34m)\u001b[0m\u001b[0;34m\u001b[0m\u001b[0;34m\u001b[0m\u001b[0m\n\u001b[0m\u001b[1;32m      2\u001b[0m \u001b[0mfunction\u001b[0m\u001b[0;34m\u001b[0m\u001b[0;34m\u001b[0m\u001b[0m\n",
            "\u001b[0;32m<ipython-input-191-a36ea0fa2b78>\u001b[0m in \u001b[0;36mtest_about_individual_object_functions_2\u001b[0;34m(self)\u001b[0m\n\u001b[1;32m     27\u001b[0m         \u001b[0mprint\u001b[0m\u001b[0;34m(\u001b[0m\u001b[0mold_car\u001b[0m\u001b[0;34m.\u001b[0m\u001b[0mdrive\u001b[0m\u001b[0;34m)\u001b[0m\u001b[0;34m\u001b[0m\u001b[0;34m\u001b[0m\u001b[0m\n\u001b[1;32m     28\u001b[0m         \u001b[0mprint\u001b[0m\u001b[0;34m(\u001b[0m\u001b[0mold_car\u001b[0m\u001b[0;34m.\u001b[0m\u001b[0mdrive\u001b[0m\u001b[0;34m(\u001b[0m\u001b[0;34m)\u001b[0m\u001b[0;34m)\u001b[0m\u001b[0;34m\u001b[0m\u001b[0;34m\u001b[0m\u001b[0m\n\u001b[0;32m---> 29\u001b[0;31m         \u001b[0mprint\u001b[0m\u001b[0;34m(\u001b[0m\u001b[0mnew_car\u001b[0m\u001b[0;34m.\u001b[0m\u001b[0mdrive\u001b[0m\u001b[0;34m)\u001b[0m    \u001b[0;31m#AttributeError: 'Car' object has no attribute 'drive'\u001b[0m\u001b[0;34m\u001b[0m\u001b[0;34m\u001b[0m\u001b[0m\n\u001b[0m\u001b[1;32m     30\u001b[0m         \u001b[0;32mwith\u001b[0m \u001b[0mself\u001b[0m\u001b[0;34m.\u001b[0m\u001b[0massertRaises\u001b[0m\u001b[0;34m(\u001b[0m\u001b[0mAttributeError\u001b[0m\u001b[0;34m)\u001b[0m\u001b[0;34m:\u001b[0m\u001b[0;34m\u001b[0m\u001b[0;34m\u001b[0m\u001b[0m\n\u001b[1;32m     31\u001b[0m             \u001b[0mnew_car\u001b[0m\u001b[0;34m.\u001b[0m\u001b[0mdrive\u001b[0m\u001b[0;34m(\u001b[0m\u001b[0;34m)\u001b[0m    \u001b[0;31m#AttributeError: 'Car' object has no attribute 'drive'\u001b[0m\u001b[0;34m\u001b[0m\u001b[0;34m\u001b[0m\u001b[0m\n",
            "\u001b[0;31mAttributeError\u001b[0m: 'Car' object has no attribute 'drive'"
          ]
        }
      ]
    },
    {
      "cell_type": "code",
      "metadata": {
        "id": "baOQhlYk9Q94"
      },
      "source": [
        "def A():\n",
        "    return \"A is apple\""
      ],
      "execution_count": null,
      "outputs": []
    },
    {
      "cell_type": "code",
      "metadata": {
        "colab": {
          "base_uri": "https://localhost:8080/"
        },
        "id": "8_snfzL8LzXh",
        "outputId": "b7dbb9ad-2094-45f4-c792-c21c9cb72a96"
      },
      "source": [
        "print(A())"
      ],
      "execution_count": null,
      "outputs": [
        {
          "output_type": "stream",
          "name": "stdout",
          "text": [
            "A is apple\n"
          ]
        }
      ]
    },
    {
      "cell_type": "code",
      "metadata": {
        "id": "5sgdZwcGL08X"
      },
      "source": [
        "# class PythonClassAttributes(TestCase):\n",
        "class Car:\n",
        "    def __init__(self, name):\n",
        "        self._name = name\n",
        "\n",
        "    @ property\n",
        "    def name(self):\n",
        "        return self._name\n",
        "\n",
        "    def honk(self):\n",
        "        return \"beep\"\n",
        "\n",
        "# 자식클래스 1\n",
        "class Truck(Car):\n",
        "    def honk(self):\n",
        "        return \"beep beep\"\n",
        "\n",
        "    def drive(self):\n",
        "        return \"vroom\"\n",
        "\n",
        "def test_about_behavior_inheritance(self):  \n",
        "    new_truck = self.Truck(\"Optimoose\")  # new_truck인스턴스 생성 : \"Optimoose\"라는 name이 부여됨.--Car 라는 부모클래스로 부터 상속받았음.\n",
        "    assert  self.Car(\"Optimoose\").name == new_truck.name  \n",
        "    print(new_truck.drive())\n",
        "    new_car = self.Car(\"BatCar\")\n",
        "    new_car.drive()\n",
        "\n",
        "\n",
        "# 자식클래스 2\n",
        "class Racecar(Car):\n",
        "    def honk(self):\n",
        "        return super().honk() + \", BEEP!\" "
      ],
      "execution_count": null,
      "outputs": []
    },
    {
      "cell_type": "code",
      "metadata": {
        "colab": {
          "base_uri": "https://localhost:8080/"
        },
        "id": "TSOP0BB3RiIr",
        "outputId": "c1049013-df7a-44b7-95b4-50ff7277e48b"
      },
      "source": [
        "issubclass(Truck, object)"
      ],
      "execution_count": null,
      "outputs": [
        {
          "output_type": "execute_result",
          "data": {
            "text/plain": [
              "True"
            ]
          },
          "metadata": {},
          "execution_count": 198
        }
      ]
    },
    {
      "cell_type": "code",
      "metadata": {
        "colab": {
          "base_uri": "https://localhost:8080/",
          "height": 35
        },
        "id": "2qUacYMFRrB4",
        "outputId": "04045123-fd95-448f-b963-44e159aa36f9"
      },
      "source": [
        "new_truck = Truck(\"Optimoose\")\n",
        "Car(\"Optimoose\").name\n",
        "new_truck.name"
      ],
      "execution_count": null,
      "outputs": [
        {
          "output_type": "execute_result",
          "data": {
            "application/vnd.google.colaboratory.intrinsic+json": {
              "type": "string"
            },
            "text/plain": [
              "'Optimoose'"
            ]
          },
          "metadata": {},
          "execution_count": 211
        }
      ]
    },
    {
      "cell_type": "code",
      "metadata": {
        "colab": {
          "base_uri": "https://localhost:8080/",
          "height": 292
        },
        "id": "VKzPFh6mSrtY",
        "outputId": "90e6e68c-2339-40b9-a853-f89399d60b0f"
      },
      "source": [
        "a = PythonClassAttributes().test_about_behavior_inheritance()\n",
        "a"
      ],
      "execution_count": null,
      "outputs": [
        {
          "output_type": "stream",
          "name": "stdout",
          "text": [
            "vroom\n"
          ]
        },
        {
          "output_type": "error",
          "ename": "AttributeError",
          "evalue": "ignored",
          "traceback": [
            "\u001b[0;31m---------------------------------------------------------------------------\u001b[0m",
            "\u001b[0;31mAttributeError\u001b[0m                            Traceback (most recent call last)",
            "\u001b[0;32m<ipython-input-222-36958024b9b8>\u001b[0m in \u001b[0;36m<module>\u001b[0;34m()\u001b[0m\n\u001b[0;32m----> 1\u001b[0;31m \u001b[0ma\u001b[0m \u001b[0;34m=\u001b[0m \u001b[0mPythonClassAttributes\u001b[0m\u001b[0;34m(\u001b[0m\u001b[0;34m)\u001b[0m\u001b[0;34m.\u001b[0m\u001b[0mtest_about_behavior_inheritance\u001b[0m\u001b[0;34m(\u001b[0m\u001b[0;34m)\u001b[0m\u001b[0;34m\u001b[0m\u001b[0;34m\u001b[0m\u001b[0m\n\u001b[0m\u001b[1;32m      2\u001b[0m \u001b[0ma\u001b[0m\u001b[0;34m\u001b[0m\u001b[0;34m\u001b[0m\u001b[0m\n",
            "\u001b[0;32m<ipython-input-221-00aaa8fb2e37>\u001b[0m in \u001b[0;36mtest_about_behavior_inheritance\u001b[0;34m(self)\u001b[0m\n\u001b[1;32m     23\u001b[0m         \u001b[0mprint\u001b[0m\u001b[0;34m(\u001b[0m\u001b[0mnew_truck\u001b[0m\u001b[0;34m.\u001b[0m\u001b[0mdrive\u001b[0m\u001b[0;34m(\u001b[0m\u001b[0;34m)\u001b[0m\u001b[0;34m)\u001b[0m\u001b[0;34m\u001b[0m\u001b[0;34m\u001b[0m\u001b[0m\n\u001b[1;32m     24\u001b[0m         \u001b[0mnew_car\u001b[0m \u001b[0;34m=\u001b[0m \u001b[0mself\u001b[0m\u001b[0;34m.\u001b[0m\u001b[0mCar\u001b[0m\u001b[0;34m(\u001b[0m\u001b[0;34m\"BatCar\"\u001b[0m\u001b[0;34m)\u001b[0m\u001b[0;34m\u001b[0m\u001b[0;34m\u001b[0m\u001b[0m\n\u001b[0;32m---> 25\u001b[0;31m         \u001b[0mnew_car\u001b[0m\u001b[0;34m.\u001b[0m\u001b[0mdrive\u001b[0m\u001b[0;34m(\u001b[0m\u001b[0;34m)\u001b[0m\u001b[0;34m\u001b[0m\u001b[0;34m\u001b[0m\u001b[0m\n\u001b[0m",
            "\u001b[0;31mAttributeError\u001b[0m: 'Car' object has no attribute 'drive'"
          ]
        }
      ]
    },
    {
      "cell_type": "code",
      "metadata": {
        "colab": {
          "base_uri": "https://localhost:8080/",
          "height": 35
        },
        "id": "bKcEaTHPWchQ",
        "outputId": "3ace6947-5b8d-4608-bd5b-133b2a28646d"
      },
      "source": [
        "new_truck.honk()"
      ],
      "execution_count": null,
      "outputs": [
        {
          "output_type": "execute_result",
          "data": {
            "application/vnd.google.colaboratory.intrinsic+json": {
              "type": "string"
            },
            "text/plain": [
              "'beep beep'"
            ]
          },
          "metadata": {},
          "execution_count": 224
        }
      ]
    },
    {
      "cell_type": "code",
      "metadata": {
        "colab": {
          "base_uri": "https://localhost:8080/",
          "height": 35
        },
        "id": "KkGLAfFrUhfq",
        "outputId": "fba33bff-483a-46eb-b361-1a4760d21c2a"
      },
      "source": [
        "new_car = Car(\"BatCar\")\n",
        "new_car.honk()"
      ],
      "execution_count": null,
      "outputs": [
        {
          "output_type": "execute_result",
          "data": {
            "application/vnd.google.colaboratory.intrinsic+json": {
              "type": "string"
            },
            "text/plain": [
              "'beep'"
            ]
          },
          "metadata": {},
          "execution_count": 225
        }
      ]
    },
    {
      "cell_type": "code",
      "metadata": {
        "colab": {
          "base_uri": "https://localhost:8080/",
          "height": 35
        },
        "id": "-NUD3GOMWvbg",
        "outputId": "56d57a20-7cd9-4a57-eb83-676c89ac7027"
      },
      "source": [
        "three_car = Racecar(\"F!\")\n",
        "three_car.honk()"
      ],
      "execution_count": null,
      "outputs": [
        {
          "output_type": "execute_result",
          "data": {
            "application/vnd.google.colaboratory.intrinsic+json": {
              "type": "string"
            },
            "text/plain": [
              "'beep, BEEP!'"
            ]
          },
          "metadata": {},
          "execution_count": 232
        }
      ]
    },
    {
      "cell_type": "code",
      "metadata": {
        "colab": {
          "base_uri": "https://localhost:8080/",
          "height": 35
        },
        "id": "SkD5L80dYBsg",
        "outputId": "5aa4022b-1c4d-4340-f598-7d630e382fce"
      },
      "source": [
        "Car(\"F!\").honk()"
      ],
      "execution_count": null,
      "outputs": [
        {
          "output_type": "execute_result",
          "data": {
            "application/vnd.google.colaboratory.intrinsic+json": {
              "type": "string"
            },
            "text/plain": [
              "'beep'"
            ]
          },
          "metadata": {},
          "execution_count": 236
        }
      ]
    },
    {
      "cell_type": "code",
      "metadata": {
        "id": "e61I4UFpYktQ"
      },
      "source": [
        "class CoolCar(Car):\n",
        "    def __init__(self, name):\n",
        "        pass\n",
        "\n",
        "class Coldwheels(Car):\n",
        "    def __init__(self, name):\n",
        "        super().__init__(name)\n",
        "\n",
        "\n",
        "new_coolcar = CoolCar(\"Ice Car\")\n",
        "coldwheels = Coldwheels(\"hot water\")"
      ],
      "execution_count": null,
      "outputs": []
    },
    {
      "cell_type": "code",
      "metadata": {
        "colab": {
          "base_uri": "https://localhost:8080/",
          "height": 35
        },
        "id": "pEXJeDLPaCau",
        "outputId": "8713d479-4b76-4ad1-e52f-fe124e21c045"
      },
      "source": [
        "name = coldwheels.name\n",
        "name"
      ],
      "execution_count": null,
      "outputs": [
        {
          "output_type": "execute_result",
          "data": {
            "application/vnd.google.colaboratory.intrinsic+json": {
              "type": "string"
            },
            "text/plain": [
              "'hot water'"
            ]
          },
          "metadata": {},
          "execution_count": 243
        }
      ]
    },
    {
      "cell_type": "markdown",
      "metadata": {
        "id": "L-xvHqoCbwqk"
      },
      "source": [
        "# 파이썬 예외."
      ]
    },
    {
      "cell_type": "code",
      "metadata": {
        "id": "HElXbBNfafyD"
      },
      "source": [
        "class CustomError(RuntimeError):\n",
        "    pass\n",
        "mro = CustomError.mro()\n",
        "mro2 = CustomError()"
      ],
      "execution_count": null,
      "outputs": []
    },
    {
      "cell_type": "code",
      "metadata": {
        "colab": {
          "base_uri": "https://localhost:8080/",
          "height": 35
        },
        "id": "-uPHtFbnb3cI",
        "outputId": "2fa7efe7-1d58-4d26-d040-09ee2bb332ff"
      },
      "source": [
        "mro[3].__name__"
      ],
      "execution_count": null,
      "outputs": [
        {
          "output_type": "execute_result",
          "data": {
            "application/vnd.google.colaboratory.intrinsic+json": {
              "type": "string"
            },
            "text/plain": [
              "'BaseException'"
            ]
          },
          "metadata": {},
          "execution_count": 248
        }
      ]
    },
    {
      "cell_type": "code",
      "metadata": {
        "colab": {
          "base_uri": "https://localhost:8080/"
        },
        "id": "bK5vmW9QcBAN",
        "outputId": "4cd13d0e-5b9a-4b87-aac6-e1012ddd3806"
      },
      "source": [
        "mro"
      ],
      "execution_count": null,
      "outputs": [
        {
          "output_type": "execute_result",
          "data": {
            "text/plain": [
              "[__main__.CustomError, RuntimeError, Exception, BaseException, object]"
            ]
          },
          "metadata": {},
          "execution_count": 251
        }
      ]
    },
    {
      "cell_type": "code",
      "metadata": {
        "colab": {
          "base_uri": "https://localhost:8080/"
        },
        "id": "ku8DoC8VemxK",
        "outputId": "baf91533-308c-4e81-8db4-b992fed3f9ad"
      },
      "source": [
        "CustomError.__mro__"
      ],
      "execution_count": null,
      "outputs": [
        {
          "output_type": "execute_result",
          "data": {
            "text/plain": [
              "(__main__.CustomError, RuntimeError, Exception, BaseException, object)"
            ]
          },
          "metadata": {},
          "execution_count": 254
        }
      ]
    },
    {
      "cell_type": "code",
      "metadata": {
        "id": "XIubp9dlerZg"
      },
      "source": [
        "from unittest import TestCase\n",
        "\n",
        "class PythonExceptions(TestCase):\n",
        "    class CustomError(RuntimeError):  #RuntimeError 클래스를 상속한 CustomError. \n",
        "        pass\n",
        "\n",
        "    def test_about_try_clause(self):\n",
        "        result=None\n",
        "        try:\n",
        "            self.fail(\"Oops\")\n",
        "        except Exception as e:\n",
        "            result='exception handled'\n",
        "            e2=e\n",
        "\n",
        "        print(e2)\n",
        "        print('exception handled' == result)\n",
        "        print(isinstance(e2,Exception))\n",
        "        print(isinstance(e2,RuntimeError))\n",
        "        print(issubclass(RuntimeError, Exception))\n",
        "        \n",
        "    def test_about_raising_specific_error(self):\n",
        "        result=None\n",
        "\n",
        "        try:\n",
        "            raise self.CustomError(\"Custom Message\",\"C Message\") #런타임에러를 상속한 CustomError임을 기억하자.\n",
        "            raise self.CustomError(\"Custom2 Message\")\n",
        "            raise self.CustomError(\"Custom3 Message\")\n",
        "        except self.CustomError as e:  # 에러발생시에 아래와 같다. e는 에러의 종류 : 'Custom Message'\n",
        "            result='exception handling'\n",
        "            msg=e.args[0]\n",
        "            msg2 = e\n",
        "            msg3 = e.args  # 모든 요소들을 가져옴.\n",
        "\n",
        "        \n",
        "        print(result)  #<class 'str'>\n",
        "        print(msg)     #<class 'str'>\n",
        "        print(msg2)   # <class '__main__.PythonExceptions.CustomError'> \n",
        "        print(msg3)   # <class 'tuple'>"
      ],
      "execution_count": null,
      "outputs": []
    },
    {
      "cell_type": "code",
      "metadata": {
        "colab": {
          "base_uri": "https://localhost:8080/"
        },
        "id": "txRPNltLgEVG",
        "outputId": "4ba649c8-a2a2-43a7-a139-97877f80493e"
      },
      "source": [
        "PythonExceptions().test_about_try_clause()"
      ],
      "execution_count": null,
      "outputs": [
        {
          "output_type": "stream",
          "name": "stdout",
          "text": [
            "Oops\n",
            "True\n",
            "True\n",
            "False\n",
            "True\n"
          ]
        }
      ]
    },
    {
      "cell_type": "code",
      "metadata": {
        "colab": {
          "base_uri": "https://localhost:8080/"
        },
        "id": "_YH53dAf364y",
        "outputId": "39f3294d-6029-4d97-f74d-27c6c1a18349"
      },
      "source": [
        "PythonExceptions().test_about_raising_specific_error()"
      ],
      "execution_count": null,
      "outputs": [
        {
          "output_type": "stream",
          "name": "stdout",
          "text": [
            "exception handling\n",
            "Custom Message\n",
            "('Custom Message', 'C Message')\n",
            "('Custom Message', 'C Message')\n"
          ]
        }
      ]
    },
    {
      "cell_type": "code",
      "metadata": {
        "colab": {
          "base_uri": "https://localhost:8080/"
        },
        "id": "9m7b5sohgLTg",
        "outputId": "8183eb17-ea5f-49fa-d6a5-86b6388dcfd2"
      },
      "source": [
        "try:\n",
        "    self.fail(\"Oops\")\n",
        "except Exception as e:\n",
        "    result='exception handled'\n",
        "    e2=e\n",
        "    print(e2, ',', result)"
      ],
      "execution_count": null,
      "outputs": [
        {
          "output_type": "stream",
          "name": "stdout",
          "text": [
            "name 'self' is not defined , exception handled\n"
          ]
        }
      ]
    },
    {
      "cell_type": "code",
      "metadata": {
        "colab": {
          "base_uri": "https://localhost:8080/"
        },
        "id": "yJ59qSPXgN5Y",
        "outputId": "a8eea496-0994-45c2-c761-c41603893fcb"
      },
      "source": [
        "RuntimeError.__mro__"
      ],
      "execution_count": null,
      "outputs": [
        {
          "output_type": "execute_result",
          "data": {
            "text/plain": [
              "(RuntimeError, Exception, BaseException, object)"
            ]
          },
          "metadata": {},
          "execution_count": 16
        }
      ]
    },
    {
      "cell_type": "code",
      "metadata": {
        "id": "BiyMdEpozoRc"
      },
      "source": [
        ""
      ],
      "execution_count": null,
      "outputs": []
    }
  ]
}