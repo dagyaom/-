{
  "nbformat": 4,
  "nbformat_minor": 0,
  "metadata": {
    "colab": {
      "name": "Class와 객체지향 프로그래밍.ipynb",
      "provenance": [],
      "collapsed_sections": [],
      "authorship_tag": "ABX9TyPvkbjzSZDKWYyf1s0xalXW",
      "include_colab_link": true
    },
    "kernelspec": {
      "name": "python3",
      "display_name": "Python 3"
    },
    "language_info": {
      "name": "python"
    }
  },
  "cells": [
    {
      "cell_type": "markdown",
      "metadata": {
        "id": "view-in-github",
        "colab_type": "text"
      },
      "source": [
        "<a href=\"https://colab.research.google.com/github/dagyaom/Python_Practice/blob/main/Class%EC%99%80_%EA%B0%9D%EC%B2%B4%EC%A7%80%ED%96%A5_%ED%94%84%EB%A1%9C%EA%B7%B8%EB%9E%98%EB%B0%8D.ipynb\" target=\"_parent\"><img src=\"https://colab.research.google.com/assets/colab-badge.svg\" alt=\"Open In Colab\"/></a>"
      ]
    },
    {
      "cell_type": "code",
      "metadata": {
        "id": "6CXQMZh078yi"
      },
      "source": [
        "from unittest import TestCase"
      ],
      "execution_count": null,
      "outputs": []
    },
    {
      "cell_type": "code",
      "metadata": {
        "id": "XuLia29PZy4D"
      },
      "source": [
        ""
      ],
      "execution_count": null,
      "outputs": []
    },
    {
      "cell_type": "markdown",
      "metadata": {
        "id": "n5gylkLhZzip"
      },
      "source": [
        "# 객체지향 프로그래밍(OOP)\n",
        "\n",
        "파이썬은 모든것이 객체다\n",
        " https://wikidocs.net/20456"
      ]
    },
    {
      "cell_type": "markdown",
      "metadata": {
        "id": "Eb6UGLxLub3o"
      },
      "source": [
        "# 1.함수, 메소드\n",
        "\n",
        "함수가 어떠한 객체와 관련있다면? --> 메소드 element.click()\n",
        "- 함수는 앞에 어떤 걸 달지않고 독자적으로 쓸수있다. ex) print()\n",
        "메소드 : 앞에 객체를 변수화한 것 뒤에 .함수 형태로 적는다.  ex) element.method()\n",
        "\n",
        "함수()\n",
        "외부모듈.함수()\n",
        "객체.메소드()\n",
        "\n",
        "```\n",
        "def 함수_이름( 파라미터 ):\n",
        "   \"함수 문서\"\n",
        "   함수 내용\n",
        "   return [표현식]\n",
        "```"
      ]
    },
    {
      "cell_type": "markdown",
      "metadata": {
        "id": "FsBNxv1YALs6"
      },
      "source": [
        "## mutable, immutable 차이 \n",
        ": mutable은 값이 변한다는 뜻이고, immutable은 값이 변하지 않는다는 의미이다.\n",
        "\n",
        "- 숫자, 문자열, 튜플은 변경이 불가능하고 리스트와 딕셔너리는 변경이 가능하다\n",
        "\n",
        "출처: https://ledgku.tistory.com/54 [블로그]\n",
        "\n",
        "\n",
        "\n",
        "참조 vs 값?★\n",
        "\n",
        "파이썬에서는 인수들이 참조로 함수에 전달이 됩니다. 즉, 객체의 주소값을 전달한다는 뜻입니다. 참조로 전달되지만 immutable, 즉 변경이 불가한, 객체들은 값으로 전달됩니다. 따라서 int, str 등은 값으로 전달이 되며 list, dict 와 같은 객체들은 참조값으로 전달이 됩니다.\n",
        "\n",
        "이게 무슨 말이냐.\n"
      ]
    },
    {
      "cell_type": "markdown",
      "metadata": {
        "id": "6d6CSglkE6ZK"
      },
      "source": [
        "## 인수\n",
        "\n",
        "- 필수 인수 (required arguments): 위치를 지키며 전달되는 인수\n",
        "```\n",
        "def person_info(first_name, last_name):\n",
        "    print(f\"Hello {first_name}, {last_name}!\")\n",
        "```\n",
        "- 키워드 인수 (keyword arguments): 파라미터 이름을 사용해 전달되는 인수\n",
        "```\n",
        "person_info(last_name=\"bob\", first_name=\"sponge\")\n",
        "```\n",
        "- 기본 인수 (default arguments): 파라미터에서 기본으로 사용되는 값. 기본 값으로 설정된 파라미터들은 기본값이 없는 파라미터 뒤에 등장해야 한다\n",
        "```\n",
        "def person_data(name, type_p='human'):\n",
        "    print(f\"Hello {name}, you are {type_p}\")\n",
        "```\n"
      ]
    },
    {
      "cell_type": "markdown",
      "metadata": {
        "id": "8chUTXk5F0ni"
      },
      "source": [
        "## return 과 print 는 어떻게 다른가요?\n",
        "https://www.codeit.kr/community/threads/1969"
      ]
    },
    {
      "cell_type": "code",
      "metadata": {
        "id": "h2BuUPYFFzCj"
      },
      "source": [
        "def print_hello_1(name):\n",
        "    print(f\"Hello {name}\")\n",
        "    return None"
      ],
      "execution_count": 6,
      "outputs": []
    },
    {
      "cell_type": "code",
      "metadata": {
        "id": "SY6pBbgRE5ol",
        "outputId": "85d8f064-0734-4990-efc4-06cfaaf5e6e6",
        "colab": {
          "base_uri": "https://localhost:8080/"
        }
      },
      "source": [
        "li = list()\n",
        "li.append(print_hello_1('철수'))\n",
        "print(li)"
      ],
      "execution_count": 5,
      "outputs": [
        {
          "output_type": "stream",
          "name": "stdout",
          "text": [
            "Hello 철수\n",
            "[None]\n"
          ]
        }
      ]
    },
    {
      "cell_type": "markdown",
      "metadata": {
        "id": "Jth7Mi9YA45c"
      },
      "source": [
        "## 얕은복사, 깊은복사.\n",
        "https://wikidocs.net/16038\n"
      ]
    },
    {
      "cell_type": "markdown",
      "metadata": {
        "id": "Z5wHu-CK7_EZ"
      },
      "source": [
        "# 1. 파이썬 클래스\n",
        "\n",
        "인스턴스가 생성 될 때마다 호출되는 생성자 __init__\n",
        "\n",
        "클래스의 현재 인스턴스를 참조하는 self\n",
        "\n",
        "https://m.blog.naver.com/wideeyed/221906742759\n",
        "\n"
      ]
    },
    {
      "cell_type": "code",
      "metadata": {
        "id": "dzesHWwRAK24"
      },
      "source": [
        "\n",
        ">>> 'python'.title\n",
        "<function str.title>\n",
        "어떤 함수임을 알 수 있습니다. 내장함수를 사용할때와 동일하게, 괄호를 열고 닫아 함수를 호출(실행)해보도록 하겠습니다.\n",
        "\n",
        ">>> 'python'.title()\n",
        "'Python'\n",
        "첫글자가 대문자로 바뀐 문자가 나온것을 확인할 수 있습니다."
      ],
      "execution_count": null,
      "outputs": []
    },
    {
      "cell_type": "markdown",
      "metadata": {
        "id": "CdMKvca3OaiX"
      },
      "source": [
        "## 클래스 생성하기"
      ]
    },
    {
      "cell_type": "code",
      "metadata": {
        "id": "ImanQhvjOZhy"
      },
      "source": [
        "class Pokemon:\n",
        "    pokemon_a = 'pikachu'"
      ],
      "execution_count": 7,
      "outputs": []
    },
    {
      "cell_type": "code",
      "metadata": {
        "id": "ZIAsqswKOr61",
        "outputId": "4a5a9844-a917-4604-d645-c19b2c861a00",
        "colab": {
          "base_uri": "https://localhost:8080/",
          "height": 35
        }
      },
      "source": [
        "Pokemon.pokemon_a"
      ],
      "execution_count": 8,
      "outputs": [
        {
          "output_type": "execute_result",
          "data": {
            "application/vnd.google.colaboratory.intrinsic+json": {
              "type": "string"
            },
            "text/plain": [
              "'pikachu'"
            ]
          },
          "metadata": {},
          "execution_count": 8
        }
      ]
    },
    {
      "cell_type": "markdown",
      "metadata": {
        "id": "R9RnWgqYO0Q3"
      },
      "source": [
        "## 함수를 클래스내에서 선언하기(메서드)\n",
        "https://dojang.io/mod/page/view.php?id=2396\n"
      ]
    },
    {
      "cell_type": "code",
      "metadata": {
        "id": "W0gHpyDUPREm"
      },
      "source": [
        "class Pokemon:\n",
        "    pokemon_a = 'pikachu'\n",
        "\n",
        "    def print_pika():\n",
        "        print(\"Hello Pika\")"
      ],
      "execution_count": 17,
      "outputs": []
    },
    {
      "cell_type": "code",
      "metadata": {
        "id": "wiO-M4LaProD",
        "outputId": "83ae1157-e4cc-4b98-920e-3a13ea415184",
        "colab": {
          "base_uri": "https://localhost:8080/",
          "height": 193
        }
      },
      "source": [
        "# 클래스의 인스턴스를 만들게 될 때 위 함수를 인스턴스에서 활용하기는 힘듭니다. 그 이유는 인스턴스에서 해당 메서드를 실행하게 되면 자신을 인수로 넘겨주게 되기 때문입니다.\n",
        "a= Pokemon()\n",
        "a.print_pika()  # TypeError: print_pika() takes 0 positional arguments but 1 was given\n",
        "\n"
      ],
      "execution_count": 20,
      "outputs": [
        {
          "output_type": "error",
          "ename": "TypeError",
          "evalue": "ignored",
          "traceback": [
            "\u001b[0;31m---------------------------------------------------------------------------\u001b[0m",
            "\u001b[0;31mTypeError\u001b[0m                                 Traceback (most recent call last)",
            "\u001b[0;32m<ipython-input-20-42b5d9f5fd4e>\u001b[0m in \u001b[0;36m<module>\u001b[0;34m()\u001b[0m\n\u001b[1;32m      1\u001b[0m \u001b[0ma\u001b[0m\u001b[0;34m=\u001b[0m \u001b[0mPokemon\u001b[0m\u001b[0;34m(\u001b[0m\u001b[0;34m)\u001b[0m\u001b[0;34m\u001b[0m\u001b[0;34m\u001b[0m\u001b[0m\n\u001b[0;32m----> 2\u001b[0;31m \u001b[0ma\u001b[0m\u001b[0;34m.\u001b[0m\u001b[0mprint_pika\u001b[0m\u001b[0;34m(\u001b[0m\u001b[0;34m)\u001b[0m\u001b[0;34m\u001b[0m\u001b[0;34m\u001b[0m\u001b[0m\n\u001b[0m",
            "\u001b[0;31mTypeError\u001b[0m: print_pika() takes 0 positional arguments but 1 was given"
          ]
        }
      ]
    },
    {
      "cell_type": "code",
      "metadata": {
        "id": "XJ0_r8m4gGA2"
      },
      "source": [
        "# 만약 이렇게 된다면\n",
        "\n",
        "class Pokemon:\n",
        "\tpokemon_a = 'pikachu'\n",
        "\n",
        "\tdef print_pika(self):\n",
        "\t\tprint(\"pika\")\n",
        "# self : 사실 파이썬에서 활용되는 이 단어 자체는 키워드가 아닙니다. 다른 단어로 대체해도 문제가 없습니다. 하지만 인스턴스에서 메서드나 특성을 사용할 때 첫번째 인수, 파라미터로 넘겨지고 받아져야 한다는 것은 변함이 없습니다.\n",
        "\n"
      ],
      "execution_count": 22,
      "outputs": []
    },
    {
      "cell_type": "code",
      "metadata": {
        "id": "ZLXnrum1gWl_",
        "outputId": "f86d7c05-ca71-4a75-90b3-73d04526211f",
        "colab": {
          "base_uri": "https://localhost:8080/"
        }
      },
      "source": [
        "a= Pokemon()\n",
        "a.print_pika() \n",
        "\n",
        "# 함수를 호출할 때 아무런 인수를 넘기지 않았습니다. 그저 함수를 실행했을 뿐이죠. 다만 메소드 내에서 파라미터를 self 하나 받도록 설정했습니다. \n",
        "# 이렇게 할 수 있는 이유는 파이썬에서 인스턴스가 메서드나 특성을 사용할 때 자동으로 그 인스턴스에 대한 참조값을 넘기지만 자동으로 받도록 하지는 않기 때문입니다.\n",
        "# 함수를 실행하게 될 때는 poke_a 인스턴스에 대한 참조값이 자동으로 넘겨지지만 실제로 함수를 실행할 때 파라미터 설정이 되어 있지 않게 되는 경우에는 필수 인수가 0이라 불일치한 현상이 발생하는 것이죠."
      ],
      "execution_count": 23,
      "outputs": [
        {
          "output_type": "stream",
          "name": "stdout",
          "text": [
            "pika\n"
          ]
        }
      ]
    },
    {
      "cell_type": "code",
      "metadata": {
        "id": "yUso9WsUZG76",
        "outputId": "9b3cbac4-8ff4-4d31-838e-28fb4ece6708",
        "colab": {
          "base_uri": "https://localhost:8080/"
        }
      },
      "source": [
        "Pokemon   # __main__의 의미 : https://docs.python.org/ko/3/library/__main__.html\n",
        "# 괄호가 있어야만 객체가 만들어 집니다. 만약 괄호가 없다면 클래스 자체를 가리키는 변수일 뿐입니다."
      ],
      "execution_count": 14,
      "outputs": [
        {
          "output_type": "execute_result",
          "data": {
            "text/plain": [
              "__main__.Pokemon"
            ]
          },
          "metadata": {},
          "execution_count": 14
        }
      ]
    },
    {
      "cell_type": "code",
      "metadata": {
        "id": "E-0UwmwXZozJ",
        "outputId": "e34805ce-6bcf-4641-c974-40ca952148cd",
        "colab": {
          "base_uri": "https://localhost:8080/"
        }
      },
      "source": [
        "Pokemon()  # 클래스 객체."
      ],
      "execution_count": 15,
      "outputs": [
        {
          "output_type": "execute_result",
          "data": {
            "text/plain": [
              "<__main__.Pokemon at 0x7f433ab44dd0>"
            ]
          },
          "metadata": {},
          "execution_count": 15
        }
      ]
    },
    {
      "cell_type": "markdown",
      "metadata": {
        "id": "hWw1CHZfg58Y"
      },
      "source": [
        "## 생성자 함수\n",
        "- 생성자 함수 : 클래스가 인스턴스화 (instantiate) 될 때 사용되는 함수\n",
        "- 새로운 인스턴스를 생성하게 될 때 생성자 함수가 따로 정의되어 있지 않은 경우에는 파이썬의 기본 생성자 함수를 사용하게 되어 있습니다. ★\n",
        "\n",
        "인스턴스는 클래스의 생성자 함수에 따라 인스턴스의 초기 속성들을 받을 수 있습니다. 하지만 이는 인스턴스마다의 속성이지 클래스 전체에 대한 속성은 아니게 됩니다. 따라서 클래스 자체에서는 이러한 속성들에 대한 접근이 힘듭니다.\n",
        "\n"
      ]
    },
    {
      "cell_type": "code",
      "metadata": {
        "id": "zxCJCyjwg7Nm",
        "outputId": "1c8312a6-abaf-4a00-bedb-6d45e8e6553c",
        "colab": {
          "base_uri": "https://localhost:8080/"
        }
      },
      "source": [
        "class Pokemon:\n",
        "    def __init__(self, pokemon_a='pikachu'):\n",
        "        self.pokemon_a = pokemon_a\n",
        "\n",
        "poke_a = Pokemon()\n",
        "print(poke_a.pokemon_a) #=> 'pikachu'"
      ],
      "execution_count": 24,
      "outputs": [
        {
          "output_type": "stream",
          "name": "stdout",
          "text": [
            "pikachu\n"
          ]
        }
      ]
    },
    {
      "cell_type": "code",
      "metadata": {
        "id": "u8HmNBKIoJnS",
        "outputId": "e21694b7-6c4d-4775-b775-c6785043f010",
        "colab": {
          "base_uri": "https://localhost:8080/",
          "height": 174
        }
      },
      "source": [
        "Pokemon.pokemon_a  #클래스 자체에서는 생성자 속성에 접근할 수 없다. "
      ],
      "execution_count": 25,
      "outputs": [
        {
          "output_type": "error",
          "ename": "AttributeError",
          "evalue": "ignored",
          "traceback": [
            "\u001b[0;31m---------------------------------------------------------------------------\u001b[0m",
            "\u001b[0;31mAttributeError\u001b[0m                            Traceback (most recent call last)",
            "\u001b[0;32m<ipython-input-25-d28d517ba5a9>\u001b[0m in \u001b[0;36m<module>\u001b[0;34m()\u001b[0m\n\u001b[0;32m----> 1\u001b[0;31m \u001b[0mPokemon\u001b[0m\u001b[0;34m.\u001b[0m\u001b[0mpokemon_a\u001b[0m\u001b[0;34m\u001b[0m\u001b[0;34m\u001b[0m\u001b[0m\n\u001b[0m",
            "\u001b[0;31mAttributeError\u001b[0m: type object 'Pokemon' has no attribute 'pokemon_a'"
          ]
        }
      ]
    },
    {
      "cell_type": "markdown",
      "metadata": {
        "id": "Uvl1qAn2oSNa"
      },
      "source": [
        "## 클래스 특별 메소드"
      ]
    },
    {
      "cell_type": "markdown",
      "metadata": {
        "id": "_B7pOjCBpEcG"
      },
      "source": [
        "### @property\n",
        "- 해당 메소드를 클래스의 특성 (attribute) 처럼 접근할 수 있게 됩니다.\n",
        "- 클래스 내에 다른 특성들과 연관이 되어 있는 특성들을 관리할 때 사용을 할 수 있습니다."
      ]
    },
    {
      "cell_type": "code",
      "metadata": {
        "id": "YsHuzHB8sJcK"
      },
      "source": [
        "class Person:\n",
        "\tdef __init__(self, first_name, last_name):\n",
        "\t\tself.first_name = first_name\n",
        "\t\tself.last_name = last_name\n",
        "\t\tself.full_name = self.first_name + ' ' + self.last_name"
      ],
      "execution_count": 26,
      "outputs": []
    },
    {
      "cell_type": "code",
      "metadata": {
        "id": "tSuHOjJVsLdI",
        "outputId": "e877e868-4e32-4ebb-887f-ec0d79f7d791",
        "colab": {
          "base_uri": "https://localhost:8080/"
        }
      },
      "source": [
        "fred = Person('Fred', 'Williams')\n",
        "\n",
        "print(fred.first_name) #=> 'Fred'\n",
        "print(fred.last_name) #=> 'Williams'\n",
        "print(fred.full_name) #=> 'Fred Williams'"
      ],
      "execution_count": 27,
      "outputs": [
        {
          "output_type": "stream",
          "name": "stdout",
          "text": [
            "Fred\n",
            "Williams\n",
            "Fred Williams\n"
          ]
        }
      ]
    },
    {
      "cell_type": "code",
      "metadata": {
        "id": "ET126M6JsNzk",
        "outputId": "427660d4-ee09-4788-bd34-9b18b9205082",
        "colab": {
          "base_uri": "https://localhost:8080/"
        }
      },
      "source": [
        "fred.first_name = 'Ted'\n",
        "\n",
        "print(fred.first_name) #=> 'Ted'\n",
        "print(fred.full_name) #=> 'Fred Williams'  # 속성값이 변하지 않는다. 방법은?"
      ],
      "execution_count": 28,
      "outputs": [
        {
          "output_type": "stream",
          "name": "stdout",
          "text": [
            "Ted\n",
            "Fred Williams\n"
          ]
        }
      ]
    },
    {
      "cell_type": "code",
      "metadata": {
        "id": "m_b1PFIzsRTj"
      },
      "source": [
        "class Person:\n",
        "\tdef __init__(self, first_name, last_name):\n",
        "\t\tself.first_name = first_name\n",
        "\t\tself.last_name = last_name\n",
        "\n",
        "\tdef full_name(self):\n",
        "\t\treturn self.first_name + ' ' + self.last_name  # 메서드 사용하기."
      ],
      "execution_count": 29,
      "outputs": []
    },
    {
      "cell_type": "code",
      "metadata": {
        "id": "DMjgEu9YsT55",
        "outputId": "51fae1a6-bce8-43fb-a225-7ea74a390eab",
        "colab": {
          "base_uri": "https://localhost:8080/"
        }
      },
      "source": [
        "fred = Person('Fred', 'Williams')\n",
        "\n",
        "fred.first_name = 'Ted'\n",
        "\n",
        "print(fred.first_name) #=> 'Ted'\n",
        "print(fred.full_name()) #=> 'Ted Williams'"
      ],
      "execution_count": 30,
      "outputs": [
        {
          "output_type": "stream",
          "name": "stdout",
          "text": [
            "Ted\n",
            "Ted Williams\n"
          ]
        }
      ]
    },
    {
      "cell_type": "code",
      "metadata": {
        "id": "9nwdNtXYsYnV"
      },
      "source": [
        "# 메서드로 접근하지말고, 클래스의 속성으로 접근하는 방법은 없을까?\n",
        "\n",
        "class Person:\n",
        "\tdef __init__(self, first_name, last_name):\n",
        "\t\tself.first_name = first_name\n",
        "\t\tself.last_name = last_name\n",
        "\n",
        "\t@property\n",
        "\tdef full_name(self):\n",
        "\t\treturn self.first_name + ' ' + self.last_name"
      ],
      "execution_count": 31,
      "outputs": []
    },
    {
      "cell_type": "code",
      "metadata": {
        "id": "zJB_XShZobiT",
        "outputId": "0cb28341-b312-42f2-e27d-b66303018ffc",
        "colab": {
          "base_uri": "https://localhost:8080/"
        }
      },
      "source": [
        "fred = Person('Fred', 'Williams')\n",
        "\n",
        "fred.first_name = 'Ted'\n",
        "\n",
        "print(fred.first_name) #=> 'Ted'\n",
        "print(fred.full_name) #=> 'Ted Williams'  # 속성처럼 접근이 가능하다. ㅇ"
      ],
      "execution_count": 32,
      "outputs": [
        {
          "output_type": "stream",
          "name": "stdout",
          "text": [
            "Ted\n",
            "Ted Williams\n"
          ]
        }
      ]
    },
    {
      "cell_type": "markdown",
      "metadata": {
        "id": "uxoNtfHXs6Vn"
      },
      "source": [
        "### getter, setter\n",
        "\n",
        "- getter : 어떤 것을 가져올 때 사용이 됩니다 @property 를 설정했을 때 이미 어떻게 가져올지 정해졌으니까 별도로 설정을 할 필요는 없습니다. \n",
        "- setter : 값을 설정해주는 행동"
      ]
    },
    {
      "cell_type": "code",
      "metadata": {
        "id": "WPvyD1wQBMMC"
      },
      "source": [
        "a = PythonClasses()\n",
        "a.test_about_instance_creation()"
      ],
      "execution_count": null,
      "outputs": []
    },
    {
      "cell_type": "code",
      "metadata": {
        "id": "AcRU9lsCBu48",
        "colab": {
          "base_uri": "https://localhost:8080/"
        },
        "outputId": "cd4dc711-eb55-467c-931c-da9371b97e59"
      },
      "source": [
        "a = PythonClasses()\n",
        "a.echo()"
      ],
      "execution_count": null,
      "outputs": [
        {
          "output_type": "stream",
          "name": "stdout",
          "text": [
            "class name: Car\n",
            "condition: unknown\n",
            "doc: this is true love\n"
          ]
        }
      ]
    },
    {
      "cell_type": "code",
      "metadata": {
        "colab": {
          "base_uri": "https://localhost:8080/",
          "height": 213
        },
        "id": "9V4aAJnoULHz",
        "outputId": "1477e6c4-ac3e-4a7c-9f31-038844e7ce89"
      },
      "source": [
        "import pandas as pd\n",
        "pd.__doc__"
      ],
      "execution_count": null,
      "outputs": [
        {
          "output_type": "execute_result",
          "data": {
            "application/vnd.google.colaboratory.intrinsic+json": {
              "type": "string"
            },
            "text/plain": [
              "'\\npandas - a powerful data analysis and manipulation library for Python\\n=====================================================================\\n\\n**pandas** is a Python package providing fast, flexible, and expressive data\\nstructures designed to make working with \"relational\" or \"labeled\" data both\\neasy and intuitive. It aims to be the fundamental high-level building block for\\ndoing practical, **real world** data analysis in Python. Additionally, it has\\nthe broader goal of becoming **the most powerful and flexible open source data\\nanalysis / manipulation tool available in any language**. It is already well on\\nits way toward this goal.\\n\\nMain Features\\n-------------\\nHere are just a few of the things that pandas does well:\\n\\n  - Easy handling of missing data in floating point as well as non-floating\\n    point data.\\n  - Size mutability: columns can be inserted and deleted from DataFrame and\\n    higher dimensional objects\\n  - Automatic and explicit data alignment: objects can be explicitly aligned\\n    to a set of labels, or the user can simply ignore the labels and let\\n    `Series`, `DataFrame`, etc. automatically align the data for you in\\n    computations.\\n  - Powerful, flexible group by functionality to perform split-apply-combine\\n    operations on data sets, for both aggregating and transforming data.\\n  - Make it easy to convert ragged, differently-indexed data in other Python\\n    and NumPy data structures into DataFrame objects.\\n  - Intelligent label-based slicing, fancy indexing, and subsetting of large\\n    data sets.\\n  - Intuitive merging and joining data sets.\\n  - Flexible reshaping and pivoting of data sets.\\n  - Hierarchical labeling of axes (possible to have multiple labels per tick).\\n  - Robust IO tools for loading data from flat files (CSV and delimited),\\n    Excel files, databases, and saving/loading data from the ultrafast HDF5\\n    format.\\n  - Time series-specific functionality: date range generation and frequency\\n    conversion, moving window statistics, date shifting and lagging.\\n'"
            ]
          },
          "metadata": {},
          "execution_count": 47
        }
      ]
    },
    {
      "cell_type": "code",
      "metadata": {
        "id": "vA76nD1A8AhN"
      },
      "source": [
        "from unittest import TestCase\n",
        "\n",
        "class PythonClasses(TestCase):  #  PythonClasses는 TestCase를 상속함.\n",
        "    class Car:                  # PythonClasses 내부에 Car class 생성함. \n",
        "        \"There are many different cars\"\n",
        "    def test_about_instance_creation(self):\n",
        "        new_car = self.Car()\n",
        "        assert \"Car\" == new_car.__class__.__name__\n",
        "    def test_about_class_docstrings(self):\n",
        "        assert self.Car.__doc__ == \"빈칸을 채워주세요\"\n",
        "\n",
        "\n",
        "    class Car2:\n",
        "        def __init__(self):\n",
        "            self._name = 'BatCar'\n",
        "\n",
        "        def set_name(self, new_name):\n",
        "            self._name = new_name\n",
        "            \n",
        "    def test_about_init_constructor(self):\n",
        "        new_car = self.Car2()\n",
        "        assert \"BatCar\" == new_car._name\n"
      ],
      "execution_count": null,
      "outputs": []
    },
    {
      "cell_type": "code",
      "metadata": {
        "id": "WrsNOoOEBOrd"
      },
      "source": [
        "class Car2:\n",
        "    def __init__(self):\n",
        "        self._name = 'BatCar'\n",
        "    \n",
        "    def name(self):\n",
        "        new_car2 = self.Car2()\n",
        "        self._name = 'BatCar'\n",
        "        print()\n",
        "\n",
        "    def set_name(self, new_name):\n",
        "        self._name = new_name\n",
        "\n",
        "def test_about_init_constructor():\n",
        "    new_car = Car2()\n",
        "    print(new_car._name)\n",
        "    print(self._name)\n",
        "\n",
        "def test_about_private_attributes():\n",
        "    new_car = Car2()\n",
        "    new_car.set_name(\"SuperCar\")\n",
        "    print(new_car._name)\n",
        "\n",
        "def test_about_getattr_and_dict():\n",
        "    new_car = Car2()\n",
        "    new_car.set_name(\"SuperCar\")\n",
        "\n",
        "    print(getattr(new_car, \"_name\"))\n",
        "    print(new_car.__dict__[\"_name\"])"
      ],
      "execution_count": null,
      "outputs": []
    },
    {
      "cell_type": "code",
      "metadata": {
        "colab": {
          "base_uri": "https://localhost:8080/",
          "height": 35
        },
        "id": "gXXbX98BgUYs",
        "outputId": "68912c95-8289-4dff-e190-cbd28d274f2e"
      },
      "source": [
        "new_car = Car2()\n",
        "new_car._name  # BatCar\n",
        "new_car.set_name('Alice')\n",
        "new_car._name  # Alice"
      ],
      "execution_count": null,
      "outputs": [
        {
          "output_type": "execute_result",
          "data": {
            "application/vnd.google.colaboratory.intrinsic+json": {
              "type": "string"
            },
            "text/plain": [
              "'Alice'"
            ]
          },
          "metadata": {},
          "execution_count": 109
        }
      ]
    },
    {
      "cell_type": "code",
      "metadata": {
        "colab": {
          "base_uri": "https://localhost:8080/"
        },
        "id": "5A2XxxR7i6c-",
        "outputId": "053ef985-4629-4757-c4e8-89e435e63a6f"
      },
      "source": [
        "new_car.__dict__"
      ],
      "execution_count": null,
      "outputs": [
        {
          "output_type": "execute_result",
          "data": {
            "text/plain": [
              "{'_name': 'SuperCar'}"
            ]
          },
          "metadata": {},
          "execution_count": 106
        }
      ]
    },
    {
      "cell_type": "code",
      "metadata": {
        "id": "9k8etWB41c8t"
      },
      "source": [
        "class Car3:\n",
        "    def __init__(self):\n",
        "        self._name = None\n",
        "\n",
        "    def set_name(self, a_name):\n",
        "        self._name = a_name\n",
        "\n",
        "    def get_name(self):\n",
        "        return self._name\n",
        "\n",
        "    name = property(get_name, set_name)"
      ],
      "execution_count": null,
      "outputs": []
    },
    {
      "cell_type": "code",
      "metadata": {
        "colab": {
          "base_uri": "https://localhost:8080/",
          "height": 35
        },
        "id": "FF0SW8Ja3_8y",
        "outputId": "0cfab146-ff20-46cd-992b-acd8086effc6"
      },
      "source": [
        "new_car = Car3()\n",
        "new_car.set_name(\"SuperCar\")\n",
        "new_car.name"
      ],
      "execution_count": null,
      "outputs": [
        {
          "output_type": "execute_result",
          "data": {
            "application/vnd.google.colaboratory.intrinsic+json": {
              "type": "string"
            },
            "text/plain": [
              "'SuperCar'"
            ]
          },
          "metadata": {},
          "execution_count": 118
        }
      ]
    },
    {
      "cell_type": "code",
      "metadata": {
        "colab": {
          "base_uri": "https://localhost:8080/",
          "height": 35
        },
        "id": "bTWAvD6z-Zwv",
        "outputId": "ce9b3d72-fcab-439d-8174-ae3a208395f5"
      },
      "source": [
        "getattr(new_car, \"name\")  #getattr(object, name[, default]) object에 존재하는 name 속성의 값을 가져온다.\n"
      ],
      "execution_count": null,
      "outputs": [
        {
          "output_type": "execute_result",
          "data": {
            "application/vnd.google.colaboratory.intrinsic+json": {
              "type": "string"
            },
            "text/plain": [
              "'SuperCar'"
            ]
          },
          "metadata": {},
          "execution_count": 121
        }
      ]
    },
    {
      "cell_type": "code",
      "metadata": {
        "colab": {
          "base_uri": "https://localhost:8080/",
          "height": 35
        },
        "id": "Z-S9lWtODL2N",
        "outputId": "bab02857-bb1d-4f32-eee2-779de6bf12fe"
      },
      "source": [
        "new_car.name"
      ],
      "execution_count": null,
      "outputs": [
        {
          "output_type": "execute_result",
          "data": {
            "application/vnd.google.colaboratory.intrinsic+json": {
              "type": "string"
            },
            "text/plain": [
              "'SuperCar'"
            ]
          },
          "metadata": {},
          "execution_count": 122
        }
      ]
    },
    {
      "cell_type": "code",
      "metadata": {
        "id": "UzjLO9ww-cmW"
      },
      "source": [
        "class Car5:\n",
        "    def __init__(self, initial_name):\n",
        "        self._name = initial_name\n",
        "\n",
        "    @property    #읽기전용필드\n",
        "    def name(self):\n",
        "        return self._name"
      ],
      "execution_count": null,
      "outputs": []
    },
    {
      "cell_type": "code",
      "metadata": {
        "colab": {
          "base_uri": "https://localhost:8080/",
          "height": 169
        },
        "id": "hN8DMDUdMMfj",
        "outputId": "5d7a40fc-4864-45e2-ac17-efabf07a0fbf"
      },
      "source": [
        "a = Car5()"
      ],
      "execution_count": null,
      "outputs": [
        {
          "output_type": "error",
          "ename": "TypeError",
          "evalue": "ignored",
          "traceback": [
            "\u001b[0;31m---------------------------------------------------------------------------\u001b[0m",
            "\u001b[0;31mTypeError\u001b[0m                                 Traceback (most recent call last)",
            "\u001b[0;32m<ipython-input-130-735db8231697>\u001b[0m in \u001b[0;36m<module>\u001b[0;34m()\u001b[0m\n\u001b[0;32m----> 1\u001b[0;31m \u001b[0ma\u001b[0m \u001b[0;34m=\u001b[0m \u001b[0mCar5\u001b[0m\u001b[0;34m(\u001b[0m\u001b[0;34m)\u001b[0m\u001b[0;34m\u001b[0m\u001b[0;34m\u001b[0m\u001b[0m\n\u001b[0m",
            "\u001b[0;31mTypeError\u001b[0m: __init__() missing 1 required positional argument: 'initial_name'"
          ]
        }
      ]
    },
    {
      "cell_type": "code",
      "metadata": {
        "id": "e2sPz4bL4Hnd"
      },
      "source": [
        "from unittest import TestCase\n",
        "class PythonClasses(TestCase):\n",
        "    class Car6:\n",
        "        def __init__(self, initial_name):\n",
        "            self._name = initial_name\n",
        "\n",
        "        def get_self(self):\n",
        "            return self\n",
        "\n",
        "\n",
        "    def test_about_self_reference(self):\n",
        "        new_car = self.Car6(\"SuperCar\")\n",
        "        assert new_car == new_car.get_self()"
      ],
      "execution_count": null,
      "outputs": []
    },
    {
      "cell_type": "code",
      "metadata": {
        "colab": {
          "base_uri": "https://localhost:8080/"
        },
        "id": "E2Mt3S2-4XXY",
        "outputId": "86df9f43-f297-4734-d625-f1bcf1cf681e"
      },
      "source": [
        "a = PythonClasses().Car6('SuperCar')\n",
        "a.get_self()"
      ],
      "execution_count": null,
      "outputs": [
        {
          "output_type": "execute_result",
          "data": {
            "text/plain": [
              "<__main__.PythonClasses.Car6 at 0x7f420741fdd0>"
            ]
          },
          "metadata": {},
          "execution_count": 215
        }
      ]
    },
    {
      "cell_type": "code",
      "metadata": {
        "colab": {
          "base_uri": "https://localhost:8080/"
        },
        "id": "YNKGxARBZ8pO",
        "outputId": "ca7ceef5-ad4d-44bd-d4b1-d22fc39bc8c4"
      },
      "source": [
        "a = PythonClasses().Car6('SuperCar')\n",
        "a"
      ],
      "execution_count": null,
      "outputs": [
        {
          "output_type": "execute_result",
          "data": {
            "text/plain": [
              "<__main__.PythonClasses.Car6 at 0x7f42073e6d10>"
            ]
          },
          "metadata": {},
          "execution_count": 226
        }
      ]
    },
    {
      "cell_type": "code",
      "metadata": {
        "id": "pQ8-WmQT4a8o"
      },
      "source": [
        "b = PythonClasses().test_about_self_reference()"
      ],
      "execution_count": null,
      "outputs": []
    },
    {
      "cell_type": "code",
      "metadata": {
        "id": "6U74M-C24pN1"
      },
      "source": [
        "class Car6:\n",
        "    def __init__(self, initial_name):\n",
        "        self._name = initial_name\n",
        "\n",
        "    def get_self(self):\n",
        "        return self\n",
        "\n",
        "    def __str__(self):  #initial_name 인자를 전달했을 때, 인스턴스를 어떻게 출력할건지 형식을 지정.\n",
        "        return \"This car is {}\".format(self._name)\n",
        "\n",
        "    def __repr__(self):  # 객체를 문자화된 형태로 표현함. \n",
        "        return \"<Car '{}'>\".format(self._name)\n",
        "    "
      ],
      "execution_count": null,
      "outputs": []
    },
    {
      "cell_type": "code",
      "metadata": {
        "colab": {
          "base_uri": "https://localhost:8080/",
          "height": 35
        },
        "id": "fmpBA9vQSiGu",
        "outputId": "1217cb6e-5bef-442b-f999-8b9c6b1c92c2"
      },
      "source": [
        "new_car=Car6(\"SuperCar\")\n",
        "str(new_car)"
      ],
      "execution_count": null,
      "outputs": [
        {
          "output_type": "execute_result",
          "data": {
            "application/vnd.google.colaboratory.intrinsic+json": {
              "type": "string"
            },
            "text/plain": [
              "'This car is SuperCar'"
            ]
          },
          "metadata": {},
          "execution_count": 25
        }
      ]
    },
    {
      "cell_type": "code",
      "metadata": {
        "colab": {
          "base_uri": "https://localhost:8080/"
        },
        "id": "C3iaeibOT_xV",
        "outputId": "16a20385-4bb4-4497-8d5b-07dc9a88d7de"
      },
      "source": [
        "new_car.get_self()  # 원래 new_car는 이러한 형태로 객체가 보여지는데, 이걸 사람이 알아볼 수 있는 형태로 표현해주는게 __repr__"
      ],
      "execution_count": null,
      "outputs": [
        {
          "output_type": "execute_result",
          "data": {
            "text/plain": [
              "<Car 'SuperCar'>"
            ]
          },
          "metadata": {},
          "execution_count": 26
        }
      ]
    },
    {
      "cell_type": "code",
      "metadata": {
        "colab": {
          "base_uri": "https://localhost:8080/"
        },
        "id": "ppLBzXrMd-g_",
        "outputId": "6e428d0e-ce14-402d-97ca-4eed27fc28ad"
      },
      "source": [
        "new_car"
      ],
      "execution_count": null,
      "outputs": [
        {
          "output_type": "execute_result",
          "data": {
            "text/plain": [
              "<Car 'SuperCar'>"
            ]
          },
          "metadata": {},
          "execution_count": 27
        }
      ]
    },
    {
      "cell_type": "code",
      "metadata": {
        "colab": {
          "base_uri": "https://localhost:8080/"
        },
        "id": "P_oDD4T8fH6O",
        "outputId": "9115867b-d3ee-4dec-9ff9-11c22a05f3c1"
      },
      "source": [
        "new2_car=Car6(\"BatCar\")\n",
        "new2_car"
      ],
      "execution_count": null,
      "outputs": [
        {
          "output_type": "execute_result",
          "data": {
            "text/plain": [
              "<Car 'BatCar'>"
            ]
          },
          "metadata": {},
          "execution_count": 28
        }
      ]
    },
    {
      "cell_type": "code",
      "metadata": {
        "colab": {
          "base_uri": "https://localhost:8080/"
        },
        "id": "X2Gq0PQrfjyr",
        "outputId": "e0726f7a-edab-4812-d547-6fb5232b8fc8"
      },
      "source": [
        "new2_car.get_self() "
      ],
      "execution_count": null,
      "outputs": [
        {
          "output_type": "execute_result",
          "data": {
            "text/plain": [
              "<Car 'BatCar'>"
            ]
          },
          "metadata": {},
          "execution_count": 29
        }
      ]
    },
    {
      "cell_type": "code",
      "metadata": {
        "colab": {
          "base_uri": "https://localhost:8080/",
          "height": 35
        },
        "id": "8gdaUUbAf_J_",
        "outputId": "59dd7be3-0881-4a87-8231-984110f883d5"
      },
      "source": [
        "repr(new_car)"
      ],
      "execution_count": null,
      "outputs": [
        {
          "output_type": "execute_result",
          "data": {
            "application/vnd.google.colaboratory.intrinsic+json": {
              "type": "string"
            },
            "text/plain": [
              "\"<Car 'SuperCar'>\""
            ]
          },
          "metadata": {},
          "execution_count": 30
        }
      ]
    },
    {
      "cell_type": "code",
      "metadata": {
        "colab": {
          "base_uri": "https://localhost:8080/",
          "height": 35
        },
        "id": "b7ZFnOnmgAp2",
        "outputId": "f1737250-6ec0-4e20-de4e-fdad9e9b6424"
      },
      "source": [
        "repr(new2_car)"
      ],
      "execution_count": null,
      "outputs": [
        {
          "output_type": "execute_result",
          "data": {
            "application/vnd.google.colaboratory.intrinsic+json": {
              "type": "string"
            },
            "text/plain": [
              "\"<Car 'BatCar'>\""
            ]
          },
          "metadata": {},
          "execution_count": 31
        }
      ]
    },
    {
      "cell_type": "code",
      "metadata": {
        "id": "307-Fle7hSQH"
      },
      "source": [
        "from unittest import TestCase\n",
        "class PythonClasses(TestCase):\n",
        "    class Car6:\n",
        "        def __init__(self, initial_name):\n",
        "            self._name = initial_name\n",
        "\n",
        "        def get_self(self):\n",
        "            return self\n",
        "\n",
        "        def __str__(self):  #initial_name 인자를 전달했을 때, 인스턴스를 어떻게 출력할건지 형식을 지정.\n",
        "            return \"This car is {}\".format(self._name)\n",
        "\n",
        "        def __repr__(self):  # 객체를 문자화된 형태로 표현함. \n",
        "            return \"<Car '{}'>\".format(self._name)\n",
        "\n",
        "    def test_about_objects_str_and_repr(self):\n",
        "        nums=[1, 2, 3]\n",
        "\n",
        "        assert \"[1, 2, 3]\" == str(nums)\n",
        "        assert \"[1, 2, 3]\" == repr(nums)\n",
        "\n",
        "        assert \"STRING\" == str(\"STRING\")\n",
        "        assert \"'STRING'\" == repr(\"STRING\")        "
      ],
      "execution_count": null,
      "outputs": []
    },
    {
      "cell_type": "code",
      "metadata": {
        "id": "vpkp6ToWgCfP"
      },
      "source": [
        "a = PythonClasses().test_about_objects_str_and_repr()"
      ],
      "execution_count": null,
      "outputs": []
    },
    {
      "cell_type": "code",
      "metadata": {
        "colab": {
          "base_uri": "https://localhost:8080/",
          "height": 35
        },
        "id": "QrUH3DSZgkFV",
        "outputId": "f9da99bd-de61-4c85-e52d-ff3511cb532a"
      },
      "source": [
        "repr(\"STRING\")"
      ],
      "execution_count": null,
      "outputs": [
        {
          "output_type": "execute_result",
          "data": {
            "application/vnd.google.colaboratory.intrinsic+json": {
              "type": "string"
            },
            "text/plain": [
              "\"'STRING'\""
            ]
          },
          "metadata": {},
          "execution_count": 36
        }
      ]
    },
    {
      "cell_type": "code",
      "metadata": {
        "colab": {
          "base_uri": "https://localhost:8080/",
          "height": 35
        },
        "id": "PLUJbiFtjSkZ",
        "outputId": "4a507208-bc9c-40cd-96f1-96e93af92635"
      },
      "source": [
        "repr([1,2,3])"
      ],
      "execution_count": null,
      "outputs": [
        {
          "output_type": "execute_result",
          "data": {
            "application/vnd.google.colaboratory.intrinsic+json": {
              "type": "string"
            },
            "text/plain": [
              "'[1, 2, 3]'"
            ]
          },
          "metadata": {},
          "execution_count": 44
        }
      ]
    },
    {
      "cell_type": "code",
      "metadata": {
        "colab": {
          "base_uri": "https://localhost:8080/",
          "height": 35
        },
        "id": "serUfF8pjZlO",
        "outputId": "93a80d49-3b27-471f-d588-5e7fb67a7f40"
      },
      "source": [
        "str('string')"
      ],
      "execution_count": null,
      "outputs": [
        {
          "output_type": "execute_result",
          "data": {
            "application/vnd.google.colaboratory.intrinsic+json": {
              "type": "string"
            },
            "text/plain": [
              "'string'"
            ]
          },
          "metadata": {},
          "execution_count": 45
        }
      ]
    },
    {
      "cell_type": "markdown",
      "metadata": {
        "id": "VCaXLiMCvE8Q"
      },
      "source": [
        "# __class__ ★"
      ]
    },
    {
      "cell_type": "code",
      "metadata": {
        "id": "SseUb_PgknJG"
      },
      "source": [
        "##### 잘 이해가 안가는 것.\n",
        "from unittest import TestCase\n",
        "class PythonClassAttributes(TestCase):\n",
        "    class Car:\n",
        "        pass\n",
        "    def test_about_class_and_types(self):\n",
        "        new_car = self.Car()  #pytest 내부에서 Car클래스를 하나의 인스턴스로 만듦.\n",
        "        print('객체 그 자체: ', new_car)\n",
        "        print('객체가 속한 클래스: ', new_car.__class__)\n",
        "        print('객체가 속한 클래스 이름: ', new_car.__class__.__name__)\n",
        "        print('Car클래스의 정체는?: ', self.Car)\n",
        "        print('Car클래스가 속한 클래스는?: ', self.Car.__class__)\n",
        "        print('Car클래스가 속한 클래스의 이름?:', self.Car.__class__.__name__)"
      ],
      "execution_count": null,
      "outputs": []
    },
    {
      "cell_type": "code",
      "metadata": {
        "colab": {
          "base_uri": "https://localhost:8080/"
        },
        "id": "_CvPlmxquvQ2",
        "outputId": "301d9b0a-0d41-4b89-91eb-f682063ce625"
      },
      "source": [
        "ab=  PythonClassAttributes().Car()  # python 클래스의 car클래스를 변수에 담아서 하나의 인스턴스를 만든다. \n",
        "print(ab)  # ab 인스턴스의 정체 : 객체였더라!!!\n",
        "print(ab.__class__)  #ab인스턴스가 속한 클래스\n",
        "print(ab.__class__.__name__)  # ab인스턴스가 속한 클래스 이름."
      ],
      "execution_count": null,
      "outputs": [
        {
          "output_type": "stream",
          "name": "stdout",
          "text": [
            "<__main__.PythonClassAttributes.Car object at 0x7f954722f250>\n",
            "<class '__main__.PythonClassAttributes.Car'>\n",
            "Car\n"
          ]
        }
      ]
    },
    {
      "cell_type": "code",
      "metadata": {
        "colab": {
          "base_uri": "https://localhost:8080/"
        },
        "id": "w9o0kU0G0MoX",
        "outputId": "fc36489e-6786-486b-e8c5-13012190bd4f"
      },
      "source": [
        "ab=  PythonClassAttributes().Car  # python 클래스의 car클래스를 변수에 담아서 하나의 인스턴스를 만든다. \n",
        "print(ab)  # ab 인스턴스의 정체 : 객체였더라!!!\n",
        "print(ab.__class__)  #ab인스턴스가 속한 클래스\n",
        "print(ab.__class__.__name__)  # ab인스턴스가 속한 클래스 이름."
      ],
      "execution_count": null,
      "outputs": [
        {
          "output_type": "stream",
          "name": "stdout",
          "text": [
            "<class '__main__.PythonClassAttributes.Car'>\n",
            "<class 'type'>\n",
            "type\n"
          ]
        }
      ]
    },
    {
      "cell_type": "code",
      "metadata": {
        "colab": {
          "base_uri": "https://localhost:8080/"
        },
        "id": "L735qVxJrHs1",
        "outputId": "8514d9a2-9a64-45a0-e451-53dffdce1b6e"
      },
      "source": [
        "a = PythonClassAttributes().test_about_class_and_types()\n",
        "a"
      ],
      "execution_count": null,
      "outputs": [
        {
          "output_type": "stream",
          "name": "stdout",
          "text": [
            "객체 그 자체:  <__main__.PythonClassAttributes.Car object at 0x7f9546b4e9d0>\n",
            "객체가 속한 클래스:  <class '__main__.PythonClassAttributes.Car'>\n",
            "객체가 속한 클래스 이름:  Car\n",
            "Car클래스의 정체는?:  <class '__main__.PythonClassAttributes.Car'>\n",
            "Car클래스가 속한 클래스는?:  <class 'type'>\n",
            "Car클래스가 속한 클래스의 이름?: type\n"
          ]
        }
      ]
    },
    {
      "cell_type": "code",
      "metadata": {
        "id": "4Ve6XFthuhVq"
      },
      "source": [
        "class Car:\n",
        "    pass"
      ],
      "execution_count": null,
      "outputs": []
    },
    {
      "cell_type": "code",
      "metadata": {
        "colab": {
          "base_uri": "https://localhost:8080/"
        },
        "id": "YRAuj4gEzcpp",
        "outputId": "87b293a7-3114-440f-d53a-d77c3328bb88"
      },
      "source": [
        "b = Car\n",
        "b == object"
      ],
      "execution_count": null,
      "outputs": [
        {
          "output_type": "execute_result",
          "data": {
            "text/plain": [
              "False"
            ]
          },
          "metadata": {},
          "execution_count": 121
        }
      ]
    },
    {
      "cell_type": "code",
      "metadata": {
        "colab": {
          "base_uri": "https://localhost:8080/",
          "height": 35
        },
        "id": "6YZmwYpJujvv",
        "outputId": "9f9f12a7-5bfe-4827-8ba0-93f6f81aaf7f"
      },
      "source": [
        "a = Car()\n",
        "a.__class__.__name__"
      ],
      "execution_count": null,
      "outputs": [
        {
          "output_type": "execute_result",
          "data": {
            "application/vnd.google.colaboratory.intrinsic+json": {
              "type": "string"
            },
            "text/plain": [
              "'Car'"
            ]
          },
          "metadata": {},
          "execution_count": 109
        }
      ]
    },
    {
      "cell_type": "code",
      "metadata": {
        "colab": {
          "base_uri": "https://localhost:8080/"
        },
        "id": "-NT3XtI62xt2",
        "outputId": "369711b4-65de-447c-dd5d-7a71b37d57c5"
      },
      "source": [
        "len(dir(a))"
      ],
      "execution_count": null,
      "outputs": [
        {
          "output_type": "execute_result",
          "data": {
            "text/plain": [
              "26"
            ]
          },
          "metadata": {},
          "execution_count": 124
        }
      ]
    },
    {
      "cell_type": "code",
      "metadata": {
        "colab": {
          "base_uri": "https://localhost:8080/"
        },
        "id": "4mNeZ4ja2_hj",
        "outputId": "f39d1d88-c802-47b3-f187-6d9726dd46eb"
      },
      "source": [
        "len(dir(Car))"
      ],
      "execution_count": null,
      "outputs": [
        {
          "output_type": "execute_result",
          "data": {
            "text/plain": [
              "26"
            ]
          },
          "metadata": {},
          "execution_count": 126
        }
      ]
    },
    {
      "cell_type": "markdown",
      "metadata": {
        "id": "Ctc4G9K42onX"
      },
      "source": [
        "/////"
      ]
    },
    {
      "cell_type": "code",
      "metadata": {
        "id": "_HK01xbfmvce"
      },
      "source": [
        "class PythonClassAttributes(TestCase):\n",
        "    class Car:\n",
        "        pass\n",
        "    def test_about_class_and_types(self):\n",
        "        new_car = self.Car()  #pytest 내부에서 Car클래스를 하나의 인스턴스로 만듦.\n",
        "        assert 26 == len(dir(new_car))\n",
        "        assert 26 == len(dir(self.Car))\n",
        "        new_car = self.Car()\n",
        "        new_car.wheels=4\n",
        "        print(new_car.wheels)\n",
        "        new_car=self.Car()\n",
        "        new_car.drive= lambda: 'driving car'  # 이건 drive라는 메서드\n",
        "        print(type(new_car.drive))   # drive메서드는 함수 클래스에 속해있다. \n",
        "        print(new_car.drive)   #메서드에 ()를 붙이지 않는다면  new_car객체의 drive메서드에 대한 정체가 나온다..?\n",
        "        print(new_car.drive())\n",
        "        new_car.drives= 'driving car'  #이건 drive라는 속성\n",
        "        print(new_car.drives)\n",
        "        print(new_car.drives())  #속성값에는 ()를 붙일 수 없다. \n",
        "\n",
        "\n",
        "    def test_about_individual_object_functions_2(self):\n",
        "        old_car = self.Car()\n",
        "        new_car = self.Car() \n",
        "        def drive():\n",
        "            return 'driving car'  #drive함수를 만든다. \n",
        "        old_car.drive = drive  # old_car 의 drive 메서드를 만들고, drive함수 객체의 주소값 부여.\n",
        "        print(old_car.drive)  # drive함수 객체의 주소값을 알수있고\n",
        "        print(old_car.drive())  # drive함수의 return값이 나온다. \n",
        "        print(new_car.drive)    #AttributeError: 'Car' object has no attribute 'drive'\n",
        "        with self.assertRaises(AttributeError):\n",
        "            new_car.drive()    #AttributeError: 'Car' object has no attribute 'drive'"
      ],
      "execution_count": null,
      "outputs": []
    },
    {
      "cell_type": "code",
      "metadata": {
        "colab": {
          "base_uri": "https://localhost:8080/",
          "height": 345
        },
        "id": "KT40Cu9S3asn",
        "outputId": "5887b63c-2b4e-44c1-c126-b26a939b0b9e"
      },
      "source": [
        "PythonClassAttributes().test_about_class_and_types()"
      ],
      "execution_count": null,
      "outputs": [
        {
          "output_type": "stream",
          "name": "stdout",
          "text": [
            "4\n",
            "<class 'function'>\n",
            "<function PythonClassAttributes.test_about_class_and_types.<locals>.<lambda> at 0x7f9546b2dd40>\n",
            "driving car\n",
            "driving car\n"
          ]
        },
        {
          "output_type": "error",
          "ename": "TypeError",
          "evalue": "ignored",
          "traceback": [
            "\u001b[0;31m---------------------------------------------------------------------------\u001b[0m",
            "\u001b[0;31mTypeError\u001b[0m                                 Traceback (most recent call last)",
            "\u001b[0;32m<ipython-input-154-7fd1c7e6f01d>\u001b[0m in \u001b[0;36m<module>\u001b[0;34m()\u001b[0m\n\u001b[0;32m----> 1\u001b[0;31m \u001b[0mPythonClassAttributes\u001b[0m\u001b[0;34m(\u001b[0m\u001b[0;34m)\u001b[0m\u001b[0;34m.\u001b[0m\u001b[0mtest_about_class_and_types\u001b[0m\u001b[0;34m(\u001b[0m\u001b[0;34m)\u001b[0m\u001b[0;34m\u001b[0m\u001b[0;34m\u001b[0m\u001b[0m\n\u001b[0m",
            "\u001b[0;32m<ipython-input-153-20d9fe3ada69>\u001b[0m in \u001b[0;36mtest_about_class_and_types\u001b[0;34m(self)\u001b[0m\n\u001b[1;32m     16\u001b[0m         \u001b[0mnew_car\u001b[0m\u001b[0;34m.\u001b[0m\u001b[0mdrives\u001b[0m\u001b[0;34m=\u001b[0m \u001b[0;34m'driving car'\u001b[0m  \u001b[0;31m#이건 drive라는 속성\u001b[0m\u001b[0;34m\u001b[0m\u001b[0;34m\u001b[0m\u001b[0m\n\u001b[1;32m     17\u001b[0m         \u001b[0mprint\u001b[0m\u001b[0;34m(\u001b[0m\u001b[0mnew_car\u001b[0m\u001b[0;34m.\u001b[0m\u001b[0mdrives\u001b[0m\u001b[0;34m)\u001b[0m\u001b[0;34m\u001b[0m\u001b[0;34m\u001b[0m\u001b[0m\n\u001b[0;32m---> 18\u001b[0;31m         \u001b[0mprint\u001b[0m\u001b[0;34m(\u001b[0m\u001b[0mnew_car\u001b[0m\u001b[0;34m.\u001b[0m\u001b[0mdrives\u001b[0m\u001b[0;34m(\u001b[0m\u001b[0;34m)\u001b[0m\u001b[0;34m)\u001b[0m  \u001b[0;31m#속성값에는 ()를 붙일 수 없다.\u001b[0m\u001b[0;34m\u001b[0m\u001b[0;34m\u001b[0m\u001b[0m\n\u001b[0m",
            "\u001b[0;31mTypeError\u001b[0m: 'str' object is not callable"
          ]
        }
      ]
    },
    {
      "cell_type": "code",
      "metadata": {
        "id": "OJGzqs9-49OR"
      },
      "source": [
        "class Car():\n",
        "    pass"
      ],
      "execution_count": null,
      "outputs": []
    },
    {
      "cell_type": "code",
      "metadata": {
        "id": "QUZizG5G3eE3"
      },
      "source": [
        "# ac = Car()\n",
        "old_car = Car()\n",
        "new_car = Car()"
      ],
      "execution_count": null,
      "outputs": []
    },
    {
      "cell_type": "code",
      "metadata": {
        "id": "kHPs6sYZ8Y8g"
      },
      "source": [
        "def drive():\n",
        "    return 'driving car'"
      ],
      "execution_count": null,
      "outputs": []
    },
    {
      "cell_type": "code",
      "metadata": {
        "id": "edvPkWZH8hs_"
      },
      "source": [
        "old_car.drive = drive"
      ],
      "execution_count": null,
      "outputs": []
    },
    {
      "cell_type": "code",
      "metadata": {
        "colab": {
          "base_uri": "https://localhost:8080/",
          "height": 169
        },
        "id": "qHjk2cu68j2g",
        "outputId": "50ed97bc-03a1-4fb1-90ad-313ca2e50cf5"
      },
      "source": [
        "old_car.drive"
      ],
      "execution_count": null,
      "outputs": [
        {
          "output_type": "error",
          "ename": "AttributeError",
          "evalue": "ignored",
          "traceback": [
            "\u001b[0;31m---------------------------------------------------------------------------\u001b[0m",
            "\u001b[0;31mAttributeError\u001b[0m                            Traceback (most recent call last)",
            "\u001b[0;32m<ipython-input-180-e59cd5db70ae>\u001b[0m in \u001b[0;36m<module>\u001b[0;34m()\u001b[0m\n\u001b[0;32m----> 1\u001b[0;31m \u001b[0mold_car\u001b[0m\u001b[0;34m.\u001b[0m\u001b[0mdrive\u001b[0m\u001b[0;34m\u001b[0m\u001b[0;34m\u001b[0m\u001b[0m\n\u001b[0m",
            "\u001b[0;31mAttributeError\u001b[0m: 'Car' object has no attribute 'drive'"
          ]
        }
      ]
    },
    {
      "cell_type": "code",
      "metadata": {
        "colab": {
          "base_uri": "https://localhost:8080/",
          "height": 35
        },
        "id": "Vz7JgvAX8oSP",
        "outputId": "9eb7bb37-e897-4b1b-fba6-99e74ed13240"
      },
      "source": [
        "new_car.drive()"
      ],
      "execution_count": null,
      "outputs": [
        {
          "output_type": "execute_result",
          "data": {
            "application/vnd.google.colaboratory.intrinsic+json": {
              "type": "string"
            },
            "text/plain": [
              "'driving car'"
            ]
          },
          "metadata": {},
          "execution_count": 163
        }
      ]
    },
    {
      "cell_type": "code",
      "metadata": {
        "colab": {
          "base_uri": "https://localhost:8080/",
          "height": 345
        },
        "id": "NdR4kzYo8xkn",
        "outputId": "12929ac4-6e75-4831-8242-9487479dec3c"
      },
      "source": [
        "function = PythonClassAttributes().test_about_individual_object_functions_2()\n",
        "function"
      ],
      "execution_count": null,
      "outputs": [
        {
          "output_type": "stream",
          "name": "stdout",
          "text": [
            "<function PythonClassAttributes.test_about_individual_object_functions_2.<locals>.drive at 0x7f9546aee050>\n",
            "driving car\n"
          ]
        },
        {
          "output_type": "error",
          "ename": "AttributeError",
          "evalue": "ignored",
          "traceback": [
            "\u001b[0;31m---------------------------------------------------------------------------\u001b[0m",
            "\u001b[0;31mAttributeError\u001b[0m                            Traceback (most recent call last)",
            "\u001b[0;32m<ipython-input-192-a53d75121ac9>\u001b[0m in \u001b[0;36m<module>\u001b[0;34m()\u001b[0m\n\u001b[0;32m----> 1\u001b[0;31m \u001b[0mfunction\u001b[0m \u001b[0;34m=\u001b[0m \u001b[0mPythonClassAttributes\u001b[0m\u001b[0;34m(\u001b[0m\u001b[0;34m)\u001b[0m\u001b[0;34m.\u001b[0m\u001b[0mtest_about_individual_object_functions_2\u001b[0m\u001b[0;34m(\u001b[0m\u001b[0;34m)\u001b[0m\u001b[0;34m\u001b[0m\u001b[0;34m\u001b[0m\u001b[0m\n\u001b[0m\u001b[1;32m      2\u001b[0m \u001b[0mfunction\u001b[0m\u001b[0;34m\u001b[0m\u001b[0;34m\u001b[0m\u001b[0m\n",
            "\u001b[0;32m<ipython-input-191-a36ea0fa2b78>\u001b[0m in \u001b[0;36mtest_about_individual_object_functions_2\u001b[0;34m(self)\u001b[0m\n\u001b[1;32m     27\u001b[0m         \u001b[0mprint\u001b[0m\u001b[0;34m(\u001b[0m\u001b[0mold_car\u001b[0m\u001b[0;34m.\u001b[0m\u001b[0mdrive\u001b[0m\u001b[0;34m)\u001b[0m\u001b[0;34m\u001b[0m\u001b[0;34m\u001b[0m\u001b[0m\n\u001b[1;32m     28\u001b[0m         \u001b[0mprint\u001b[0m\u001b[0;34m(\u001b[0m\u001b[0mold_car\u001b[0m\u001b[0;34m.\u001b[0m\u001b[0mdrive\u001b[0m\u001b[0;34m(\u001b[0m\u001b[0;34m)\u001b[0m\u001b[0;34m)\u001b[0m\u001b[0;34m\u001b[0m\u001b[0;34m\u001b[0m\u001b[0m\n\u001b[0;32m---> 29\u001b[0;31m         \u001b[0mprint\u001b[0m\u001b[0;34m(\u001b[0m\u001b[0mnew_car\u001b[0m\u001b[0;34m.\u001b[0m\u001b[0mdrive\u001b[0m\u001b[0;34m)\u001b[0m    \u001b[0;31m#AttributeError: 'Car' object has no attribute 'drive'\u001b[0m\u001b[0;34m\u001b[0m\u001b[0;34m\u001b[0m\u001b[0m\n\u001b[0m\u001b[1;32m     30\u001b[0m         \u001b[0;32mwith\u001b[0m \u001b[0mself\u001b[0m\u001b[0;34m.\u001b[0m\u001b[0massertRaises\u001b[0m\u001b[0;34m(\u001b[0m\u001b[0mAttributeError\u001b[0m\u001b[0;34m)\u001b[0m\u001b[0;34m:\u001b[0m\u001b[0;34m\u001b[0m\u001b[0;34m\u001b[0m\u001b[0m\n\u001b[1;32m     31\u001b[0m             \u001b[0mnew_car\u001b[0m\u001b[0;34m.\u001b[0m\u001b[0mdrive\u001b[0m\u001b[0;34m(\u001b[0m\u001b[0;34m)\u001b[0m    \u001b[0;31m#AttributeError: 'Car' object has no attribute 'drive'\u001b[0m\u001b[0;34m\u001b[0m\u001b[0;34m\u001b[0m\u001b[0m\n",
            "\u001b[0;31mAttributeError\u001b[0m: 'Car' object has no attribute 'drive'"
          ]
        }
      ]
    },
    {
      "cell_type": "code",
      "metadata": {
        "id": "baOQhlYk9Q94"
      },
      "source": [
        "def A():\n",
        "    return \"A is apple\""
      ],
      "execution_count": null,
      "outputs": []
    },
    {
      "cell_type": "code",
      "metadata": {
        "colab": {
          "base_uri": "https://localhost:8080/"
        },
        "id": "8_snfzL8LzXh",
        "outputId": "b7dbb9ad-2094-45f4-c792-c21c9cb72a96"
      },
      "source": [
        "print(A())"
      ],
      "execution_count": null,
      "outputs": [
        {
          "output_type": "stream",
          "name": "stdout",
          "text": [
            "A is apple\n"
          ]
        }
      ]
    },
    {
      "cell_type": "code",
      "metadata": {
        "id": "5sgdZwcGL08X"
      },
      "source": [
        "# class PythonClassAttributes(TestCase):\n",
        "class Car:\n",
        "    def __init__(self, name):\n",
        "        self._name = name\n",
        "\n",
        "    @ property\n",
        "    def name(self):\n",
        "        return self._name\n",
        "\n",
        "    def honk(self):\n",
        "        return \"beep\"\n",
        "\n",
        "# 자식클래스 1\n",
        "class Truck(Car):\n",
        "    def honk(self):\n",
        "        return \"beep beep\"\n",
        "\n",
        "    def drive(self):\n",
        "        return \"vroom\"\n",
        "\n",
        "def test_about_behavior_inheritance(self):  \n",
        "    new_truck = self.Truck(\"Optimoose\")  # new_truck인스턴스 생성 : \"Optimoose\"라는 name이 부여됨.--Car 라는 부모클래스로 부터 상속받았음.\n",
        "    assert  self.Car(\"Optimoose\").name == new_truck.name  \n",
        "    print(new_truck.drive())\n",
        "    new_car = self.Car(\"BatCar\")\n",
        "    new_car.drive()\n",
        "\n",
        "\n",
        "# 자식클래스 2\n",
        "class Racecar(Car):\n",
        "    def honk(self):\n",
        "        return super().honk() + \", BEEP!\" "
      ],
      "execution_count": null,
      "outputs": []
    },
    {
      "cell_type": "code",
      "metadata": {
        "colab": {
          "base_uri": "https://localhost:8080/"
        },
        "id": "TSOP0BB3RiIr",
        "outputId": "c1049013-df7a-44b7-95b4-50ff7277e48b"
      },
      "source": [
        "issubclass(Truck, object)"
      ],
      "execution_count": null,
      "outputs": [
        {
          "output_type": "execute_result",
          "data": {
            "text/plain": [
              "True"
            ]
          },
          "metadata": {},
          "execution_count": 198
        }
      ]
    },
    {
      "cell_type": "code",
      "metadata": {
        "colab": {
          "base_uri": "https://localhost:8080/",
          "height": 35
        },
        "id": "2qUacYMFRrB4",
        "outputId": "04045123-fd95-448f-b963-44e159aa36f9"
      },
      "source": [
        "new_truck = Truck(\"Optimoose\")\n",
        "Car(\"Optimoose\").name\n",
        "new_truck.name"
      ],
      "execution_count": null,
      "outputs": [
        {
          "output_type": "execute_result",
          "data": {
            "application/vnd.google.colaboratory.intrinsic+json": {
              "type": "string"
            },
            "text/plain": [
              "'Optimoose'"
            ]
          },
          "metadata": {},
          "execution_count": 211
        }
      ]
    },
    {
      "cell_type": "code",
      "metadata": {
        "colab": {
          "base_uri": "https://localhost:8080/",
          "height": 292
        },
        "id": "VKzPFh6mSrtY",
        "outputId": "90e6e68c-2339-40b9-a853-f89399d60b0f"
      },
      "source": [
        "a = PythonClassAttributes().test_about_behavior_inheritance()\n",
        "a"
      ],
      "execution_count": null,
      "outputs": [
        {
          "output_type": "stream",
          "name": "stdout",
          "text": [
            "vroom\n"
          ]
        },
        {
          "output_type": "error",
          "ename": "AttributeError",
          "evalue": "ignored",
          "traceback": [
            "\u001b[0;31m---------------------------------------------------------------------------\u001b[0m",
            "\u001b[0;31mAttributeError\u001b[0m                            Traceback (most recent call last)",
            "\u001b[0;32m<ipython-input-222-36958024b9b8>\u001b[0m in \u001b[0;36m<module>\u001b[0;34m()\u001b[0m\n\u001b[0;32m----> 1\u001b[0;31m \u001b[0ma\u001b[0m \u001b[0;34m=\u001b[0m \u001b[0mPythonClassAttributes\u001b[0m\u001b[0;34m(\u001b[0m\u001b[0;34m)\u001b[0m\u001b[0;34m.\u001b[0m\u001b[0mtest_about_behavior_inheritance\u001b[0m\u001b[0;34m(\u001b[0m\u001b[0;34m)\u001b[0m\u001b[0;34m\u001b[0m\u001b[0;34m\u001b[0m\u001b[0m\n\u001b[0m\u001b[1;32m      2\u001b[0m \u001b[0ma\u001b[0m\u001b[0;34m\u001b[0m\u001b[0;34m\u001b[0m\u001b[0m\n",
            "\u001b[0;32m<ipython-input-221-00aaa8fb2e37>\u001b[0m in \u001b[0;36mtest_about_behavior_inheritance\u001b[0;34m(self)\u001b[0m\n\u001b[1;32m     23\u001b[0m         \u001b[0mprint\u001b[0m\u001b[0;34m(\u001b[0m\u001b[0mnew_truck\u001b[0m\u001b[0;34m.\u001b[0m\u001b[0mdrive\u001b[0m\u001b[0;34m(\u001b[0m\u001b[0;34m)\u001b[0m\u001b[0;34m)\u001b[0m\u001b[0;34m\u001b[0m\u001b[0;34m\u001b[0m\u001b[0m\n\u001b[1;32m     24\u001b[0m         \u001b[0mnew_car\u001b[0m \u001b[0;34m=\u001b[0m \u001b[0mself\u001b[0m\u001b[0;34m.\u001b[0m\u001b[0mCar\u001b[0m\u001b[0;34m(\u001b[0m\u001b[0;34m\"BatCar\"\u001b[0m\u001b[0;34m)\u001b[0m\u001b[0;34m\u001b[0m\u001b[0;34m\u001b[0m\u001b[0m\n\u001b[0;32m---> 25\u001b[0;31m         \u001b[0mnew_car\u001b[0m\u001b[0;34m.\u001b[0m\u001b[0mdrive\u001b[0m\u001b[0;34m(\u001b[0m\u001b[0;34m)\u001b[0m\u001b[0;34m\u001b[0m\u001b[0;34m\u001b[0m\u001b[0m\n\u001b[0m",
            "\u001b[0;31mAttributeError\u001b[0m: 'Car' object has no attribute 'drive'"
          ]
        }
      ]
    },
    {
      "cell_type": "code",
      "metadata": {
        "colab": {
          "base_uri": "https://localhost:8080/",
          "height": 35
        },
        "id": "bKcEaTHPWchQ",
        "outputId": "3ace6947-5b8d-4608-bd5b-133b2a28646d"
      },
      "source": [
        "new_truck.honk()"
      ],
      "execution_count": null,
      "outputs": [
        {
          "output_type": "execute_result",
          "data": {
            "application/vnd.google.colaboratory.intrinsic+json": {
              "type": "string"
            },
            "text/plain": [
              "'beep beep'"
            ]
          },
          "metadata": {},
          "execution_count": 224
        }
      ]
    },
    {
      "cell_type": "code",
      "metadata": {
        "colab": {
          "base_uri": "https://localhost:8080/",
          "height": 35
        },
        "id": "KkGLAfFrUhfq",
        "outputId": "fba33bff-483a-46eb-b361-1a4760d21c2a"
      },
      "source": [
        "new_car = Car(\"BatCar\")\n",
        "new_car.honk()"
      ],
      "execution_count": null,
      "outputs": [
        {
          "output_type": "execute_result",
          "data": {
            "application/vnd.google.colaboratory.intrinsic+json": {
              "type": "string"
            },
            "text/plain": [
              "'beep'"
            ]
          },
          "metadata": {},
          "execution_count": 225
        }
      ]
    },
    {
      "cell_type": "code",
      "metadata": {
        "colab": {
          "base_uri": "https://localhost:8080/",
          "height": 35
        },
        "id": "-NUD3GOMWvbg",
        "outputId": "56d57a20-7cd9-4a57-eb83-676c89ac7027"
      },
      "source": [
        "three_car = Racecar(\"F!\")\n",
        "three_car.honk()"
      ],
      "execution_count": null,
      "outputs": [
        {
          "output_type": "execute_result",
          "data": {
            "application/vnd.google.colaboratory.intrinsic+json": {
              "type": "string"
            },
            "text/plain": [
              "'beep, BEEP!'"
            ]
          },
          "metadata": {},
          "execution_count": 232
        }
      ]
    },
    {
      "cell_type": "code",
      "metadata": {
        "colab": {
          "base_uri": "https://localhost:8080/",
          "height": 35
        },
        "id": "SkD5L80dYBsg",
        "outputId": "5aa4022b-1c4d-4340-f598-7d630e382fce"
      },
      "source": [
        "Car(\"F!\").honk()"
      ],
      "execution_count": null,
      "outputs": [
        {
          "output_type": "execute_result",
          "data": {
            "application/vnd.google.colaboratory.intrinsic+json": {
              "type": "string"
            },
            "text/plain": [
              "'beep'"
            ]
          },
          "metadata": {},
          "execution_count": 236
        }
      ]
    },
    {
      "cell_type": "code",
      "metadata": {
        "id": "e61I4UFpYktQ"
      },
      "source": [
        "class CoolCar(Car):\n",
        "    def __init__(self, name):\n",
        "        pass\n",
        "\n",
        "class Coldwheels(Car):\n",
        "    def __init__(self, name):\n",
        "        super().__init__(name)\n",
        "\n",
        "\n",
        "new_coolcar = CoolCar(\"Ice Car\")\n",
        "coldwheels = Coldwheels(\"hot water\")"
      ],
      "execution_count": null,
      "outputs": []
    },
    {
      "cell_type": "code",
      "metadata": {
        "colab": {
          "base_uri": "https://localhost:8080/",
          "height": 35
        },
        "id": "pEXJeDLPaCau",
        "outputId": "8713d479-4b76-4ad1-e52f-fe124e21c045"
      },
      "source": [
        "name = coldwheels.name\n",
        "name"
      ],
      "execution_count": null,
      "outputs": [
        {
          "output_type": "execute_result",
          "data": {
            "application/vnd.google.colaboratory.intrinsic+json": {
              "type": "string"
            },
            "text/plain": [
              "'hot water'"
            ]
          },
          "metadata": {},
          "execution_count": 243
        }
      ]
    },
    {
      "cell_type": "markdown",
      "metadata": {
        "id": "L-xvHqoCbwqk"
      },
      "source": [
        "# 파이썬 예외."
      ]
    },
    {
      "cell_type": "code",
      "metadata": {
        "id": "HElXbBNfafyD"
      },
      "source": [
        "class CustomError(RuntimeError):\n",
        "    pass\n",
        "mro = CustomError.mro()\n",
        "mro2 = CustomError()"
      ],
      "execution_count": null,
      "outputs": []
    },
    {
      "cell_type": "code",
      "metadata": {
        "colab": {
          "base_uri": "https://localhost:8080/",
          "height": 35
        },
        "id": "-uPHtFbnb3cI",
        "outputId": "2fa7efe7-1d58-4d26-d040-09ee2bb332ff"
      },
      "source": [
        "mro[3].__name__"
      ],
      "execution_count": null,
      "outputs": [
        {
          "output_type": "execute_result",
          "data": {
            "application/vnd.google.colaboratory.intrinsic+json": {
              "type": "string"
            },
            "text/plain": [
              "'BaseException'"
            ]
          },
          "metadata": {},
          "execution_count": 248
        }
      ]
    },
    {
      "cell_type": "code",
      "metadata": {
        "colab": {
          "base_uri": "https://localhost:8080/"
        },
        "id": "bK5vmW9QcBAN",
        "outputId": "4cd13d0e-5b9a-4b87-aac6-e1012ddd3806"
      },
      "source": [
        "mro"
      ],
      "execution_count": null,
      "outputs": [
        {
          "output_type": "execute_result",
          "data": {
            "text/plain": [
              "[__main__.CustomError, RuntimeError, Exception, BaseException, object]"
            ]
          },
          "metadata": {},
          "execution_count": 251
        }
      ]
    },
    {
      "cell_type": "code",
      "metadata": {
        "colab": {
          "base_uri": "https://localhost:8080/"
        },
        "id": "ku8DoC8VemxK",
        "outputId": "baf91533-308c-4e81-8db4-b992fed3f9ad"
      },
      "source": [
        "CustomError.__mro__"
      ],
      "execution_count": null,
      "outputs": [
        {
          "output_type": "execute_result",
          "data": {
            "text/plain": [
              "(__main__.CustomError, RuntimeError, Exception, BaseException, object)"
            ]
          },
          "metadata": {},
          "execution_count": 254
        }
      ]
    },
    {
      "cell_type": "code",
      "metadata": {
        "id": "XIubp9dlerZg"
      },
      "source": [
        "from unittest import TestCase\n",
        "\n",
        "class PythonExceptions(TestCase):\n",
        "    class CustomError(RuntimeError):  #RuntimeError 클래스를 상속한 CustomError. \n",
        "        pass\n",
        "\n",
        "    def test_about_try_clause(self):\n",
        "        result=None\n",
        "        try:\n",
        "            self.fail(\"Oops\")\n",
        "        except Exception as e:\n",
        "            result='exception handled'\n",
        "            e2=e\n",
        "\n",
        "        print(e2)\n",
        "        print('exception handled' == result)\n",
        "        print(isinstance(e2,Exception))\n",
        "        print(isinstance(e2,RuntimeError))\n",
        "        print(issubclass(RuntimeError, Exception))\n",
        "        \n",
        "    def test_about_raising_specific_error(self):\n",
        "        result=None\n",
        "\n",
        "        try:\n",
        "            raise self.CustomError(\"Custom Message\",\"C Message\") #런타임에러를 상속한 CustomError임을 기억하자.\n",
        "            raise self.CustomError(\"Custom2 Message\")\n",
        "            raise self.CustomError(\"Custom3 Message\")\n",
        "        except self.CustomError as e:  # 에러발생시에 아래와 같다. e는 에러의 종류 : 'Custom Message'\n",
        "            result='exception handling'\n",
        "            msg=e.args[0]\n",
        "            msg2 = e\n",
        "            msg3 = e.args  # 모든 요소들을 가져옴.\n",
        "\n",
        "        \n",
        "        print(result)  #<class 'str'>\n",
        "        print(msg)     #<class 'str'>\n",
        "        print(msg2)   # <class '__main__.PythonExceptions.CustomError'> \n",
        "        print(msg3)   # <class 'tuple'>"
      ],
      "execution_count": null,
      "outputs": []
    },
    {
      "cell_type": "code",
      "metadata": {
        "colab": {
          "base_uri": "https://localhost:8080/"
        },
        "id": "txRPNltLgEVG",
        "outputId": "4ba649c8-a2a2-43a7-a139-97877f80493e"
      },
      "source": [
        "PythonExceptions().test_about_try_clause()"
      ],
      "execution_count": null,
      "outputs": [
        {
          "output_type": "stream",
          "name": "stdout",
          "text": [
            "Oops\n",
            "True\n",
            "True\n",
            "False\n",
            "True\n"
          ]
        }
      ]
    },
    {
      "cell_type": "code",
      "metadata": {
        "colab": {
          "base_uri": "https://localhost:8080/"
        },
        "id": "_YH53dAf364y",
        "outputId": "39f3294d-6029-4d97-f74d-27c6c1a18349"
      },
      "source": [
        "PythonExceptions().test_about_raising_specific_error()"
      ],
      "execution_count": null,
      "outputs": [
        {
          "output_type": "stream",
          "name": "stdout",
          "text": [
            "exception handling\n",
            "Custom Message\n",
            "('Custom Message', 'C Message')\n",
            "('Custom Message', 'C Message')\n"
          ]
        }
      ]
    },
    {
      "cell_type": "code",
      "metadata": {
        "colab": {
          "base_uri": "https://localhost:8080/"
        },
        "id": "9m7b5sohgLTg",
        "outputId": "8183eb17-ea5f-49fa-d6a5-86b6388dcfd2"
      },
      "source": [
        "try:\n",
        "    self.fail(\"Oops\")\n",
        "except Exception as e:\n",
        "    result='exception handled'\n",
        "    e2=e\n",
        "    print(e2, ',', result)"
      ],
      "execution_count": null,
      "outputs": [
        {
          "output_type": "stream",
          "name": "stdout",
          "text": [
            "name 'self' is not defined , exception handled\n"
          ]
        }
      ]
    },
    {
      "cell_type": "code",
      "metadata": {
        "colab": {
          "base_uri": "https://localhost:8080/"
        },
        "id": "yJ59qSPXgN5Y",
        "outputId": "a8eea496-0994-45c2-c761-c41603893fcb"
      },
      "source": [
        "RuntimeError.__mro__"
      ],
      "execution_count": null,
      "outputs": [
        {
          "output_type": "execute_result",
          "data": {
            "text/plain": [
              "(RuntimeError, Exception, BaseException, object)"
            ]
          },
          "metadata": {},
          "execution_count": 16
        }
      ]
    },
    {
      "cell_type": "code",
      "metadata": {
        "id": "BiyMdEpozoRc"
      },
      "source": [
        ""
      ],
      "execution_count": null,
      "outputs": []
    }
  ]
}