{
  "nbformat": 4,
  "nbformat_minor": 0,
  "metadata": {
    "colab": {
      "name": "과제해설 n523.ipynb",
      "provenance": [],
      "authorship_tag": "ABX9TyPKucWnjojErSNsq/wWV/s1",
      "include_colab_link": true
    },
    "kernelspec": {
      "name": "python3",
      "display_name": "Python 3"
    },
    "language_info": {
      "name": "python"
    }
  },
  "cells": [
    {
      "cell_type": "markdown",
      "metadata": {
        "id": "view-in-github",
        "colab_type": "text"
      },
      "source": [
        "<a href=\"https://colab.research.google.com/github/dagyeom23658/Python_Practice/blob/main/%EA%B3%BC%EC%A0%9C%ED%95%B4%EC%84%A4_n523.ipynb\" target=\"_parent\"><img src=\"https://colab.research.google.com/assets/colab-badge.svg\" alt=\"Open In Colab\"/></a>"
      ]
    },
    {
      "cell_type": "code",
      "metadata": {
        "id": "IrK7hOBUX6IW"
      },
      "source": [
        "li=[1,30,20,10,3,8,29]"
      ],
      "execution_count": 7,
      "outputs": []
    },
    {
      "cell_type": "code",
      "metadata": {
        "id": "kY6oQlBiX9_Z"
      },
      "source": [
        "value = li[4]  # 현재노드의 값\n",
        "prev = 4-1  # 바로 이전노드 인덱스"
      ],
      "execution_count": 8,
      "outputs": []
    },
    {
      "cell_type": "code",
      "metadata": {
        "colab": {
          "base_uri": "https://localhost:8080/"
        },
        "id": "O6ikC8FLYkyJ",
        "outputId": "8c0bb87e-c957-452d-9476-ca0cc31cd2ee"
      },
      "source": [
        "li"
      ],
      "execution_count": 9,
      "outputs": [
        {
          "output_type": "execute_result",
          "data": {
            "text/plain": [
              "[1, 30, 20, None, 10, 8, 29]"
            ]
          },
          "metadata": {},
          "execution_count": 9
        }
      ]
    },
    {
      "cell_type": "code",
      "metadata": {
        "id": "sM2DmJ66YlMO"
      },
      "source": [
        "if prev-1 >=0 and li[prev-1]>value:  #이전노드가 현재노드보다 크다면\n",
        "    li[prev-1], li[4-1] = None, li[prev-1]"
      ],
      "execution_count": 10,
      "outputs": []
    },
    {
      "cell_type": "code",
      "metadata": {
        "colab": {
          "base_uri": "https://localhost:8080/"
        },
        "id": "_4l99e9zZF_e",
        "outputId": "e8bdd190-b20f-4bec-f995-26c614e463a7"
      },
      "source": [
        "li"
      ],
      "execution_count": 11,
      "outputs": [
        {
          "output_type": "execute_result",
          "data": {
            "text/plain": [
              "[1, 30, None, 20, 10, 8, 29]"
            ]
          },
          "metadata": {},
          "execution_count": 11
        }
      ]
    },
    {
      "cell_type": "code",
      "metadata": {
        "id": "VViIC1UvZGQA"
      },
      "source": [
        "if prev-2 >=0 and li[prev-2]>value:  #이전노드가 현재노드보다 크다면\n",
        "    li[prev-2], li[4-2] = None, li[prev-2]"
      ],
      "execution_count": 12,
      "outputs": []
    },
    {
      "cell_type": "code",
      "metadata": {
        "colab": {
          "base_uri": "https://localhost:8080/"
        },
        "id": "F-SeRgqaZ3rv",
        "outputId": "e56af021-e76e-4f39-d636-95751c4e6c05"
      },
      "source": [
        "li"
      ],
      "execution_count": 13,
      "outputs": [
        {
          "output_type": "execute_result",
          "data": {
            "text/plain": [
              "[1, None, 30, 20, 10, 8, 29]"
            ]
          },
          "metadata": {},
          "execution_count": 13
        }
      ]
    },
    {
      "cell_type": "code",
      "metadata": {
        "id": "i_EVysvPZ36g"
      },
      "source": [
        "if prev-3 >=0 and li[prev-3]>value:  #이전노드가 현재노드보다 크다면\n",
        "    li[prev-3], li[4-3] = None, li[prev-3]\n",
        "else:\n",
        "    li[prev-3+1] = value"
      ],
      "execution_count": 14,
      "outputs": []
    },
    {
      "cell_type": "code",
      "metadata": {
        "colab": {
          "base_uri": "https://localhost:8080/"
        },
        "id": "uCP3vpWvaVKd",
        "outputId": "b33d201e-e804-4141-bc6f-78129bfeb9dc"
      },
      "source": [
        "li"
      ],
      "execution_count": 15,
      "outputs": [
        {
          "output_type": "execute_result",
          "data": {
            "text/plain": [
              "[1, 3, 30, 20, 10, 8, 29]"
            ]
          },
          "metadata": {},
          "execution_count": 15
        }
      ]
    },
    {
      "cell_type": "code",
      "metadata": {
        "id": "3mJYtFBHaVZN"
      },
      "source": [
        "def print_to_zero_pos(n, result_list):\n",
        "    try:\n",
        "        if n==0:\n",
        "            return result_list.append(0)\n",
        "        elif n>0:\n",
        "            result_list.append(n)\n",
        "        \n",
        "    except :\n",
        "        return None\n",
        "    \n",
        "    return print_to_zero_pos(n-1, result_list)\n",
        "\n",
        "def print_to_zero_neg(n, result_list):\n",
        "    try:\n",
        "        if n==0:\n",
        "            return result_list.append(0)\n",
        "        elif n<0:\n",
        "            result_list.append(n)\n",
        "\n",
        "        \n",
        "    except :\n",
        "        return None\n",
        "    \n",
        "    return print_to_zero_neg(n+1, result_list)"
      ],
      "execution_count": 60,
      "outputs": []
    },
    {
      "cell_type": "code",
      "metadata": {
        "id": "dlIuqosujf5L"
      },
      "source": [
        "def print_to_zero_pos(n, result_list):\n",
        "    if n==0:\n",
        "        return result_list.append('0')\n",
        "    elif n>0:\n",
        "        result_list.append(str(n))\n",
        "    return print_to_zero_pos(n-1, result_list)   "
      ],
      "execution_count": 1,
      "outputs": []
    },
    {
      "cell_type": "code",
      "metadata": {
        "id": "FUvB-IclmI7_"
      },
      "source": [
        "def print_to_zero_neg(n, result_list):\n",
        "    if n==0:\n",
        "        return result_list.append('0')\n",
        "    elif n<0:\n",
        "        result_list.append(str(n))    \n",
        "    return print_to_zero_neg(n+1, result_list)"
      ],
      "execution_count": 2,
      "outputs": []
    },
    {
      "cell_type": "code",
      "metadata": {
        "colab": {
          "base_uri": "https://localhost:8080/"
        },
        "id": "RyhJf3OHlRu1",
        "outputId": "5fa701ba-92b9-402c-f592-c6931582c101"
      },
      "source": [
        "result_list_pos = []\n",
        "result_list = []\n",
        "print_to_zero_pos(10, result_list_pos)\n",
        "print(result_list_pos)"
      ],
      "execution_count": 3,
      "outputs": [
        {
          "output_type": "stream",
          "name": "stdout",
          "text": [
            "['10', '9', '8', '7', '6', '5', '4', '3', '2', '1', '0']\n"
          ]
        }
      ]
    },
    {
      "cell_type": "code",
      "metadata": {
        "id": "yfNSWx2YcSyn"
      },
      "source": [
        "def print_to_zero_pos_neg(nums, dir):\n",
        "    if nums == '':\n",
        "        return dir\n",
        "    else:\n",
        "        n=nums.split(',')\n",
        "        number = int(n[0].strip())\n",
        "        if number > 0:\n",
        "            result_list = []\n",
        "            print_to_zero_pos(number, result_list)\n",
        "            dir[str(number)] = result_list\n",
        "\n",
        "        elif number < 0:\n",
        "            result_list = []\n",
        "            print_to_zero_neg(number, result_list)\n",
        "            dir[str(number)] = result_list\n",
        "\n",
        "        elif number == 0 :\n",
        "            dir[str(number)] = ['0']\n",
        "        # print(dir)\n",
        "\n",
        "    return print_to_zero_pos_neg(','.join(n[1:]), dir)"
      ],
      "execution_count": 8,
      "outputs": []
    },
    {
      "cell_type": "code",
      "metadata": {
        "colab": {
          "base_uri": "https://localhost:8080/"
        },
        "id": "4iyAHW2OcJXv",
        "outputId": "303e9e55-cd34-48f5-884d-27ca5436aad4"
      },
      "source": [
        "# 2개의 숫자(양수와 음수 모두 가능)가 입력되었을 경우, 처리해주는 코드를 추가로 작성하세요.\n",
        "# 재귀함수 사용\n",
        "# 입력받은 문자가 양수인지 음수인지 판별을 먼저 진행해야 합니다.\n",
        "res = {}\n",
        "print_to_zero_pos_neg('-10,10,5,-5', res)\n",
        "import pprint\n",
        "pprint.pprint(res)\n",
        "\n",
        "\n",
        "# ```\n",
        "# 입력값:\n",
        "#     -10,10,5,-5\n",
        "# 출력값:\n",
        "#     {'-10': ['-10', '-9', '-8', '-7', '-6', '-5', '-4', '-3', '-2', '-1', '0'],\n",
        "#     '-5': ['-5', '-4', '-3', '-2', '-1', '0'],\n",
        "#     '10': ['10', '9', '8', '7', '6', '5', '4', '3', '2', '1', '0'],\n",
        "#     '5': ['5', '4', '3', '2', '1', '0']}\n",
        "# ```"
      ],
      "execution_count": 9,
      "outputs": [
        {
          "output_type": "stream",
          "name": "stdout",
          "text": [
            "{'-10': ['-10', '-9', '-8', '-7', '-6', '-5', '-4', '-3', '-2', '-1', '0'],\n",
            " '-5': ['-5', '-4', '-3', '-2', '-1', '0'],\n",
            " '10': ['10', '9', '8', '7', '6', '5', '4', '3', '2', '1', '0'],\n",
            " '5': ['5', '4', '3', '2', '1', '0']}\n"
          ]
        }
      ]
    },
    {
      "cell_type": "code",
      "metadata": {
        "colab": {
          "base_uri": "https://localhost:8080/"
        },
        "id": "LC6m03Qmeg16",
        "outputId": "777106ef-0769-40cc-aedd-559d11daa8a5"
      },
      "source": [
        "dir = {}\n",
        "dir[0] =[0]\n",
        "dir"
      ],
      "execution_count": 18,
      "outputs": [
        {
          "output_type": "execute_result",
          "data": {
            "text/plain": [
              "{0: [0]}"
            ]
          },
          "metadata": {},
          "execution_count": 18
        }
      ]
    },
    {
      "cell_type": "code",
      "metadata": {
        "colab": {
          "base_uri": "https://localhost:8080/"
        },
        "id": "mjhvgrsXei8I",
        "outputId": "5a593217-4f82-4708-9ec7-b51afdca2b59"
      },
      "source": [
        "type(-10)"
      ],
      "execution_count": 26,
      "outputs": [
        {
          "output_type": "execute_result",
          "data": {
            "text/plain": [
              "int"
            ]
          },
          "metadata": {},
          "execution_count": 26
        }
      ]
    },
    {
      "cell_type": "code",
      "metadata": {
        "id": "ggGFVBeBiX-V"
      },
      "source": [
        "nums = '-10, 10, 5, -5'\n",
        "n = nums.split(',')\n",
        "number = int(n[1].strip())"
      ],
      "execution_count": 34,
      "outputs": []
    },
    {
      "cell_type": "code",
      "metadata": {
        "colab": {
          "base_uri": "https://localhost:8080/"
        },
        "id": "AB2eioTvil6c",
        "outputId": "a60a01a2-d856-48c0-f59b-125539fb6fe1"
      },
      "source": [
        "n\n",
        "    "
      ],
      "execution_count": 35,
      "outputs": [
        {
          "output_type": "execute_result",
          "data": {
            "text/plain": [
              "['-10', ' 10', ' 5', ' -5']"
            ]
          },
          "metadata": {},
          "execution_count": 35
        }
      ]
    },
    {
      "cell_type": "code",
      "metadata": {
        "colab": {
          "base_uri": "https://localhost:8080/"
        },
        "id": "ifiARMwzuGpm",
        "outputId": "cefd4aa1-629b-436e-a611-0c3d22e882b2"
      },
      "source": [
        "number"
      ],
      "execution_count": 36,
      "outputs": [
        {
          "output_type": "execute_result",
          "data": {
            "text/plain": [
              "10"
            ]
          },
          "metadata": {},
          "execution_count": 36
        }
      ]
    },
    {
      "cell_type": "code",
      "metadata": {
        "colab": {
          "base_uri": "https://localhost:8080/",
          "height": 35
        },
        "id": "dvUXFlHZitLk",
        "outputId": "9f478ee3-fcd6-47ac-e4f7-8d2ccd7cbcca"
      },
      "source": [
        "numm"
      ],
      "execution_count": 19,
      "outputs": [
        {
          "output_type": "execute_result",
          "data": {
            "application/vnd.google.colaboratory.intrinsic+json": {
              "type": "string"
            },
            "text/plain": [
              "' 10, 5, -5'"
            ]
          },
          "metadata": {},
          "execution_count": 19
        }
      ]
    },
    {
      "cell_type": "code",
      "metadata": {
        "colab": {
          "base_uri": "https://localhost:8080/"
        },
        "id": "X_btBYWusrNY",
        "outputId": "a2b6ad88-b4c0-447b-d8f3-162517941554"
      },
      "source": [
        "n=numm.split(',')\n",
        "n"
      ],
      "execution_count": 24,
      "outputs": [
        {
          "output_type": "execute_result",
          "data": {
            "text/plain": [
              "[' 10', ' 5', ' -5']"
            ]
          },
          "metadata": {},
          "execution_count": 24
        }
      ]
    },
    {
      "cell_type": "code",
      "metadata": {
        "id": "IWr5cmTAsu11"
      },
      "source": [
        "n[0] = int(n[0].strip())"
      ],
      "execution_count": 26,
      "outputs": []
    },
    {
      "cell_type": "code",
      "metadata": {
        "colab": {
          "base_uri": "https://localhost:8080/"
        },
        "id": "V__hJatCswRV",
        "outputId": "e5e8115d-d162-4937-d458-74f8f8b4ac14"
      },
      "source": [
        "n"
      ],
      "execution_count": 27,
      "outputs": [
        {
          "output_type": "execute_result",
          "data": {
            "text/plain": [
              "[10, ' 5', ' -5']"
            ]
          },
          "metadata": {},
          "execution_count": 27
        }
      ]
    },
    {
      "cell_type": "code",
      "metadata": {
        "id": "p62FIDG-tQzE"
      },
      "source": [
        ""
      ],
      "execution_count": null,
      "outputs": []
    }
  ]
}