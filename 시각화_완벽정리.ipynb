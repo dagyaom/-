{
  "nbformat": 4,
  "nbformat_minor": 0,
  "metadata": {
    "colab": {
      "name": "시각화 완벽정리.ipynb",
      "provenance": [],
      "authorship_tag": "ABX9TyNIikoyoKmfG9hdXq6GPGLk",
      "include_colab_link": true
    },
    "kernelspec": {
      "name": "python3",
      "display_name": "Python 3"
    },
    "language_info": {
      "name": "python"
    }
  },
  "cells": [
    {
      "cell_type": "markdown",
      "metadata": {
        "id": "view-in-github",
        "colab_type": "text"
      },
      "source": [
        "<a href=\"https://colab.research.google.com/github/dagyaom/Python_Practice/blob/main/%EC%8B%9C%EA%B0%81%ED%99%94_%EC%99%84%EB%B2%BD%EC%A0%95%EB%A6%AC.ipynb\" target=\"_parent\"><img src=\"https://colab.research.google.com/assets/colab-badge.svg\" alt=\"Open In Colab\"/></a>"
      ]
    },
    {
      "cell_type": "markdown",
      "metadata": {
        "id": "XZo-Kb9s2KsJ"
      },
      "source": [
        "https://hwi-doc.tistory.com/entry/matplotlib-%EC%99%84%EB%B2%BD-%EC%A0%95%EB%A6%AC\n",
        "\n",
        "ㅠ.. 어렵다"
      ]
    }
  ]
}