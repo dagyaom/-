{
  "nbformat": 4,
  "nbformat_minor": 0,
  "metadata": {
    "colab": {
      "name": "OOP(객체지향프로그래밍)_정리.ipynb",
      "provenance": [],
      "toc_visible": true,
      "authorship_tag": "ABX9TyOfPVTMzpYFarQG/2yilBla",
      "include_colab_link": true
    },
    "kernelspec": {
      "name": "python3",
      "display_name": "Python 3"
    },
    "language_info": {
      "name": "python"
    }
  },
  "cells": [
    {
      "cell_type": "markdown",
      "metadata": {
        "id": "view-in-github",
        "colab_type": "text"
      },
      "source": [
        "<a href=\"https://colab.research.google.com/github/dagyeom23658/Python_Practice/blob/main/OOP(%EA%B0%9D%EC%B2%B4%EC%A7%80%ED%96%A5%ED%94%84%EB%A1%9C%EA%B7%B8%EB%9E%98%EB%B0%8D)_%EC%A0%95%EB%A6%AC.ipynb\" target=\"_parent\"><img src=\"https://colab.research.google.com/assets/colab-badge.svg\" alt=\"Open In Colab\"/></a>"
      ]
    },
    {
      "cell_type": "markdown",
      "metadata": {
        "id": "Wk5FfKlmSnHQ"
      },
      "source": [
        "# 파이썬 with OOP Object-Oriented Programming\n",
        "\n",
        "파이썬은 클래스를 통해서 객체지향 프로그래밍을 한다.\n",
        "\n",
        "- oop란? 객체지향 프로그래임. 세상에 있는 실체가 있는 모든 물체를 클래스와 인스턴스, 함수, 변수라는 object로 변화시켜서 프로그램을 구성하는 것.--> 현실세계과 컴퓨터를 연결시키는 기능\n",
        "\n",
        "- 기능(함수, 변수) 재사용이 가능하도록 설계 및 프로그래밍 했는지가 중요!\n",
        "- 개인마다 어떤 걸 오브젝트화해서 프로젝트로 설계할 것인지가 다름. 따라서 oop는 주관적.\n",
        "- 어떤 부분을 오브젝트화하느냐에 따라 속도와 프로그램의 크기가 달라짐. \n",
        "- oop의 진행방향 : 사람이 이해하는 방식을 소스코드로 컴퓨터가 이해하게 진행시킨다\n",
        "- oop 이전 : 주된 함수가 먼저 실행되어야, 나머지 함수 a,b,c,d가 실행될 수 있다. main이 에러가 안나고 정상수행되어야 a가 수행, a가 에러안나고 정상수행되야 b... 순서가 있음\n",
        "- oop 이후 : 큰 틀의 오브젝트가 존재하고, 그 안에 오브젝트(기능)별로 분리시켜놨다. 다른 기능과 상관없이 트럭만 수행될 수 있고, 버스만 수행될 수 있음.\n",
        "\n",
        "\n",
        "\n",
        "https://wikidocs.net/16075"
      ]
    },
    {
      "cell_type": "markdown",
      "metadata": {
        "id": "U7aO_FqDe_xY"
      },
      "source": [
        "클래스를 사용하는 이유는? \n",
        "- 추상화된 현실의 개념을 구체화적인 코드로 표현하기 위해서 사용한다. \n",
        "\n",
        "클래스를 변수에 선언을 하면서 인스턴스를 생성한다. 클래스를 인스턴스화하면서 실제 저장공간(메모리)에 할당된다. "
      ]
    },
    {
      "cell_type": "code",
      "metadata": {
        "id": "UCBG1bbgepO-"
      },
      "source": [
        "자신이 생각하는 oop란??\n",
        "\n",
        "AI_05_박민석님이 모두에게 04:13 PM\n",
        "속성과 메서드를 클래스로 묶어 표현,정의하고 이를 재사용하는 것\n",
        "\n",
        "AI_05_김민주님이 모두에게 04:13 PM\n",
        "세상의 물리적인 모든 객체들의 속성과 행동을 컴퓨터에게 인지시키면서 효율적으로 프로그래밍하는 것\n",
        "\n",
        "AI_05_박예은님이 모두에게 04:13 PM\n",
        "현실 세계의 실체가 있는 대상들을 객체화 시키고, 최소한의 기능과 정보를 담고 있는 단위로 구성해 상호작용하기를 지향하는 프로그래밍 패러다임(방법론)의 일환  --> 스파게티코드화\n",
        "\n",
        "AI_05_김형진님이 모두에게 04:13 PM\n",
        "절대적인 순서보다는 기능 자체에 집중하여 현실에서 발생할 수 있는 특정 object를 코드로 구현하는 과정\n",
        "\n",
        "AI_05_이윤민님이 모두에게 04:13 PM\n",
        "사람의 사고방식처럼 애플리케이션을 구성하는 요소들을 객체로 바라보고, 객체들을 유기적으로 연결하여 프로그래밍 하는 것\n",
        "\n",
        "AI_05_김진수님이 모두에게 04:13 PM\n",
        "만들려는 프로그램의 기능을 설계하고자 할 때, 유사한 기능 혹은 과정이 있다면, 하나로 묶어 표현해, 같은 내용의 코드를 여러번 작성하지 않게 하는 것\n",
        "\n",
        "내가 모두에게 04:13 PM\n",
        "세상에 있는 모든 것을 컴퓨터가 알아듣게 소스코드로 만들어주는 거\n",
        "\n",
        "AI_05_이상아님이 모두에게 04:13 PM\n",
        "데이터와 처리방법이 아니라 객체를 기준으로 프로그래밍하는것\n",
        "\n",
        "AI_05_허성호님이 모두에게 04:13 PM\n",
        "oop는 코드의 반복적인 변수,함수사용을 줄여주며, 효율적으로 코드를 작성을 할수있게 해주는것.\n",
        "\n",
        "AI_05_도현진님이 모두에게 04:13 PM\n",
        "OOP는 object 안에 반복적으로 사용되는 데이터나 코드, 함수를 넣어서 코드를 효율적으로 사용할 수 있도록 돕는 방법입니다.\n",
        "\n",
        "AI_05_이주연님이 모두에게 04:13 PM\n",
        "현실세계와 컴퓨터가 더 직접적으로 소통할 수 있게 해주는 패러다임\n",
        "\n",
        "AI_05 _윤혜림님이 모두에게 04:13 PM\n",
        "객체를 기준으로 효율적인 프로그래밍을 하는것\n",
        "\n",
        "AI_05_김도욱님이 모두에게 04:14 PM\n",
        "객체들이 서로 유기적으로 동작하게 하고, 코드의 재사용성과 중복제거를 할 수 있게 해줌\n",
        "\n",
        "AI_05_이윤수님이 모두에게 04:14 PM\n",
        "어떤 기능을 하는 요소들을 묶어 객체로 만들고 이를 효율적으로 사용해서 컴퓨터로 문제를 해결할 수 있도록 정의하는 과정이라고 이해했습니다.\n",
        "\n",
        "AI_05_박찬우님이 모두에게 04:16 PM\n",
        "class 라는 각각의 친구를 만들어서 그 친구들한테 지식과 기술을 부여하는 느낌"
      ],
      "execution_count": null,
      "outputs": []
    },
    {
      "cell_type": "markdown",
      "metadata": {
        "id": "6wuVxApEhDL7"
      },
      "source": [
        "우리가 오늘 배운 것\n",
        "\n",
        "1) 프로그래밍 패러다임을 통한 작동방식\n",
        "2) OOP 기본코드설계\n",
        "3) OOP관련 개념\n",
        "\n",
        "우리가 오늘 해야할 것\n",
        "\n",
        "1) OOP 기본 용어 익숙해지기\n",
        "2) OOP 개념관련 그림 및 소스코드 익숙해지기\n",
        "3) 자신이 알기쉽게 정리해보기(자신만의 예시)"
      ]
    },
    {
      "cell_type": "code",
      "metadata": {
        "colab": {
          "base_uri": "https://localhost:8080/"
        },
        "id": "-WZE1AHKfIjK",
        "outputId": "914ad925-914d-4145-ddfc-bbdd56ebcf89"
      },
      "source": [
        "# 클래스 정의\n",
        "class Cat:\n",
        "    def info(self):  #고양이 정보 메소드\n",
        "        self.name = 'Navi'\n",
        "        self.color = ' black'\n",
        "        return self.name, self.color\n",
        "        \n",
        "    def meow(self) :\n",
        "        print('냐옹~')\n",
        "\n",
        "cat = Cat()  # 인스턴스 생성\n",
        "cat.info()  #.마침표 연산자 => 메소드 호출"
      ],
      "execution_count": null,
      "outputs": [
        {
          "output_type": "execute_result",
          "data": {
            "text/plain": [
              "('Navi', ' black')"
            ]
          },
          "metadata": {},
          "execution_count": 1
        }
      ]
    },
    {
      "cell_type": "markdown",
      "metadata": {
        "id": "J0ePyCeSfOF3"
      },
      "source": [
        "클래스는 일종의 설계도이다. \n",
        "하나의 클래스로 인스턴스 여러개 만들 수 있다.\n",
        "\n",
        "# class의 self는 어떤 의미인지 다시 ..! 잘 기억 안남. --> 파이썬 코딩도장 참고할 것."
      ]
    },
    {
      "cell_type": "code",
      "metadata": {
        "id": "As7cEBhSfY_G"
      },
      "source": [
        "# 파이썬은 클래스를 통해서 객체지향 프로그래밍을 한다.\n",
        "number = 1\n",
        "string = '1'\n",
        "list_data = [1]\n",
        "set_data = {1,2,3}\n",
        "\n",
        "print(type(number))\n",
        "print(type(string))\n",
        "print(type(list_data))\n",
        "print(type(set_data))"
      ],
      "execution_count": null,
      "outputs": []
    },
    {
      "cell_type": "code",
      "metadata": {
        "id": "AlWd05KqFHIC"
      },
      "source": [
        "oop의 구성 --> oop의 특징\n",
        "\n",
        "캡슐화 : 내부속성을 하나의 단위로 클래스를 만든다. "
      ],
      "execution_count": null,
      "outputs": []
    },
    {
      "cell_type": "code",
      "metadata": {
        "id": "Z6FbaBl8fehN"
      },
      "source": [
        "객체,  19:00\n",
        "객체라는 것이 중심이 되서 프로그래밍하는 것 --> 객체지향 프로그래밍을\n",
        "컴퓨터 저장공간에 저장되어 있는걸 객체\n",
        "oop --> 세상에 있는 모든 생각이나 물체를 데이터화시켜서 컴퓨터가 받아들일 수 있게 해주는 개념.\n",
        "\n",
        "이런식으로 접근을 해봤다~ 의 개념."
      ],
      "execution_count": null,
      "outputs": []
    },
    {
      "cell_type": "code",
      "metadata": {
        "id": "LQ434nZZBdqS"
      },
      "source": [
        "# oop => 집정리\n",
        "복잡한 것을 단순화시키고 서로 연관되어있는 것들을 기능별로 그룹화 이름을 붙이는 것.\n",
        "\n",
        "# 좋은 프로그램 만들기\n",
        "- 같은 코드를 반복하지 않는다.\n",
        "- 코드는 언제든지 바뀔 수 있다. \n",
        "- 한 번 쓰고 버리는 불필요한 클래스, 함수는 피해야 한다. --> 그냥 코드를 작성하면 됨.\n",
        "\n",
        "중복되는 코드가 많은데 --> 에러가 발생할 수 있고...\n",
        "\n",
        "중복되는 코드를 없애기 위해서는 ... --> 함수 이용\n",
        "코딩의 시간을 줄여주고 코딩관리를 쉽게 해준다. \n"
      ],
      "execution_count": null,
      "outputs": []
    },
    {
      "cell_type": "code",
      "metadata": {
        "id": "vnM7fNtcC58F"
      },
      "source": [
        "컴퓨터에 메모리를 가지고 저장된 “객체”라고 말씀 주신 부분을 조금 더 정확하게 이해했으면 하는데요! \n",
        "\n",
        "저는 실체가 있는 현실의 어떤 것을 클래스안에 함수, 변수로 정리한 상태 각각이 객체화 된 상태고, \n",
        "클래스는 설계도일 뿐이니까, 실제로 불러와서 사용을 하려면 인스턴스화된 객체가 필요하다고 이해했는데요! \n",
        "\n",
        "클래스를 생성하고 클래스를 활용하기 위해 메모리를 할당해서 인스턴스화한다는 점에서,\n",
        "클래스는 “객체”가 아닌 걸까요?\n",
        "\n",
        "--> 클래스도 객체가 맞다. 클래스를 활용하기 위해 실행시키면 메모리에 들어가긴 하니까. "
      ],
      "execution_count": null,
      "outputs": []
    },
    {
      "cell_type": "code",
      "metadata": {
        "id": "SXdyAGGuDLS5"
      },
      "source": [
        "그럼 “컴퓨터에 메모리를 가지고 저장된 “객체””로 말씀 주신 메모리는 인스턴스화될때의 메모리랑은 상관 없는 거죠?\n",
        "--> 헬프데스크로 가라."
      ],
      "execution_count": null,
      "outputs": []
    },
    {
      "cell_type": "code",
      "metadata": {
        "id": "QKg_YXTMDcSD"
      },
      "source": [
        "hero_names = '스파이더맨'\n",
        "hero_weapon = '거미줄'\n",
        "hero_money = '적음'\n",
        "hero_damage = 500\n",
        "\n",
        "hero_names = '아이언맨'\n",
        "hero_weapon = '레이져'\n",
        "hero_money = '많음'\n",
        "hero_damage = 800\n",
        "\n",
        "hero_names = '캡틴아메리카'\n",
        "hero_weapon = '방패'\n",
        "hero_money = '중간'\n",
        "hero_damage = 400\n",
        "\n",
        "hero_names = '스파이더맨'\n",
        "hero_weapon = '거미줄'\n",
        "hero_money = '적음'\n",
        "hero_damage = 500\n",
        "\n",
        "#추가해야 한다면..??   변수이름을 한꺼번에 바꾸고 싶다면??\n",
        "# 일이 너무 ㅁ낳다."
      ],
      "execution_count": null,
      "outputs": []
    },
    {
      "cell_type": "code",
      "metadata": {
        "id": "e85IJ0ivEZBx"
      },
      "source": [
        "class Hero:\n",
        "    def __init__(self, name, weapon, money, damage)\n",
        "        self.name = name\n",
        "        self.weapon = weapon\n",
        "        self.money = money\n",
        "        self.damage = damage\n",
        "\n",
        "spiderman = Hero('스파이더맨', '거미줄', '적음', 500)\n",
        "아이언맨 = Hero('아이언맨', '거미줄', '적음', 500)\n",
        "captin = Hero('스파이더맨', '거미줄', '적음', 500)"
      ],
      "execution_count": null,
      "outputs": []
    },
    {
      "cell_type": "code",
      "metadata": {
        "colab": {
          "base_uri": "https://localhost:8080/"
        },
        "id": "DD2zGcMeh8fV",
        "outputId": "7abb0f8b-d49c-4a1d-b932-4716b998e98a"
      },
      "source": [
        "# 인트로 코딩\n",
        "\n",
        "# 난수 다루기(1~100 사이 정수형 난수를 구하자.)  (난수란 정의된 범위 내에서 무작위로 추출된 수를 일컫는다. 난수는 누구라도 그 다음에 나올 값을 확신할 수 없어야 한다.)\n",
        "# 정수를 입력받고, 입력숫자가 출력될 때까지 입력숫자만큼 반복하여 난수를 출력하고 1개의 종료메시지를 띄우시오.\n",
        "\n",
        "import random\n",
        "\n",
        "input_num = int(input())\n",
        "\n",
        "for i in range(input_num):\n",
        "  ran_num = random.randint(1,100)\n",
        "  print(ran_num, end = ' ')\n",
        "\n",
        "  if ran_num == input_num:\n",
        "    print(\"input random number print\")\n",
        "    continue\n",
        "\n",
        "else:\n",
        "  print('exit')"
      ],
      "execution_count": null,
      "outputs": [
        {
          "output_type": "stream",
          "name": "stdout",
          "text": [
            "1000\n",
            "39 13 77 36 86 4 3 20 76 66 37 12 19 63 82 65 67 29 63 2 87 72 34 90 85 74 95 64 29 54 88 1 23 71 26 40 75 19 64 93 84 12 77 43 43 8 45 43 44 26 44 16 52 70 41 67 17 12 40 95 67 27 35 81 99 50 90 68 80 85 88 73 57 51 7 83 94 6 83 26 19 16 55 26 41 81 80 38 5 13 67 82 36 47 78 3 59 84 25 57 61 28 65 23 39 66 82 52 68 63 85 66 65 34 19 20 95 39 75 81 61 79 35 6 34 33 54 34 74 73 40 35 92 94 11 27 23 51 63 58 73 95 69 33 31 32 46 21 87 65 37 74 90 90 17 63 91 42 22 52 12 67 87 31 64 22 7 70 49 79 46 96 24 38 41 19 34 83 16 16 20 4 92 22 72 88 36 29 82 74 43 50 58 45 65 43 23 78 34 73 91 24 22 28 19 72 40 61 54 57 9 100 81 70 83 98 75 47 95 13 62 5 72 63 42 33 5 82 53 49 71 52 31 92 89 6 52 10 45 80 7 58 100 77 9 9 55 10 100 100 64 63 12 40 43 13 43 19 6 5 85 95 85 94 30 13 28 7 52 6 85 64 98 36 19 26 25 87 83 5 15 14 65 69 63 58 70 50 92 24 25 62 86 39 94 34 18 23 90 37 10 4 83 20 6 57 21 46 27 24 68 21 52 95 86 39 66 46 71 83 21 6 24 30 24 88 68 24 74 31 72 25 94 49 34 2 90 58 56 61 94 72 30 99 98 26 67 84 29 9 86 85 25 50 91 7 17 36 99 87 8 61 54 96 65 12 12 43 86 88 1 60 79 97 74 26 95 1 81 53 5 65 36 27 35 83 5 60 33 13 23 15 52 84 60 35 27 11 34 68 96 74 13 88 40 66 93 9 13 59 52 2 54 91 40 67 18 59 66 24 26 52 11 60 12 44 15 44 36 36 90 94 74 94 72 46 51 5 57 26 90 22 69 86 26 1 34 12 53 68 93 59 10 91 90 43 77 85 48 65 86 23 30 94 30 99 41 65 62 85 66 89 43 8 67 69 27 85 85 13 2 43 89 66 24 82 27 40 11 83 37 24 37 89 99 71 76 38 53 63 15 36 90 22 92 67 89 31 83 7 75 14 3 28 54 100 1 50 21 91 80 69 5 89 88 43 62 21 99 44 88 72 79 16 100 13 68 22 82 67 43 18 73 55 76 72 24 55 84 84 6 88 6 18 26 54 57 71 85 39 62 73 13 29 48 83 71 99 45 12 98 19 71 75 80 100 81 64 44 61 89 8 96 57 38 30 12 28 47 43 3 82 58 59 77 82 40 20 33 10 86 9 62 79 93 11 100 1 22 32 59 22 40 59 21 4 17 68 11 44 40 11 28 69 59 1 10 15 73 70 71 28 94 59 33 45 37 56 87 57 36 77 14 5 11 8 8 55 12 71 6 69 6 37 78 1 67 84 59 54 24 73 64 61 79 83 62 72 29 14 33 19 15 85 73 30 31 14 53 46 58 50 42 29 88 54 44 20 5 29 79 27 84 67 48 100 80 72 18 33 74 90 81 39 3 10 38 72 94 29 35 11 76 38 91 47 79 29 51 64 21 33 93 64 32 75 15 6 4 68 33 60 4 56 89 84 89 93 22 96 29 40 18 21 2 54 28 49 30 75 39 5 76 73 43 20 62 20 28 87 42 97 52 84 99 41 23 88 92 74 11 23 31 12 88 100 37 46 100 85 67 33 23 77 34 79 36 52 100 44 3 24 18 71 5 51 33 83 87 61 15 6 34 73 95 98 40 52 80 75 93 56 55 24 1 48 46 94 12 90 56 34 24 82 27 54 58 79 37 91 39 66 94 87 3 53 17 31 5 61 69 69 3 32 55 61 75 49 78 13 83 52 42 52 36 97 41 86 53 37 100 35 75 57 16 4 12 69 91 30 93 15 92 27 35 8 85 92 25 49 11 90 10 95 21 64 20 46 20 85 37 10 72 46 97 7 4 29 83 57 19 47 79 9 8 87 84 37 10 93 58 52 23 13 66 27 7 34 23 5 52 60 38 49 35 84 43 66 72 9 85 26 11 20 45 12 83 95 43 49 71 11 8 28 88 51 95 77 97 56 49 97 18 41 52 73 41 16 86 89 68 87 33 44 7 47 51 76 69 46 46 93 96 49 2 62 34 41 91 59 75 50 77 8 70 92 33 49 99 7 20 10 5 77 4 53 46 45 100 96 exit\n"
          ]
        }
      ]
    },
    {
      "cell_type": "code",
      "metadata": {
        "colab": {
          "base_uri": "https://localhost:8080/"
        },
        "id": "x4pRq7vui348",
        "outputId": "8bdcb12b-8083-4768-a5ad-e5df3dad2c0f"
      },
      "source": [
        "import random\n",
        "\n",
        "input_num = int(input())\n",
        "\n",
        "while True:\n",
        "  ran_num = random.randint(1,100)\n",
        "  print(ran_num, end = ' ')\n",
        "\n",
        "  if ran_num == input_num:\n",
        "      print(\"input random number print\")\n",
        "      break"
      ],
      "execution_count": null,
      "outputs": [
        {
          "output_type": "stream",
          "name": "stdout",
          "text": [
            "100\n",
            "71 36 98 49 83 45 30 47 88 41 62 99 60 42 94 66 29 43 62 3 11 20 85 71 10 8 14 37 36 100 input random number print\n"
          ]
        }
      ]
    },
    {
      "cell_type": "code",
      "metadata": {
        "colab": {
          "base_uri": "https://localhost:8080/"
        },
        "id": "17BWax8uh8vg",
        "outputId": "be62d0e7-7fbc-41f9-a8b4-051fa4bbcd67"
      },
      "source": [
        "# 절차 프로그래밍(Procedural Programming, 일명 PP)\n",
        "# 조건 또는 기능이 증가할 때마다 함수와 변수 같은 요소가 계속 증가할 수 있으므로 비효율적이다.\n",
        "\n",
        "# 케이스 1 : 함수활용\n",
        "def carAttribute():\n",
        "  speed = 50\n",
        "  color = 'black'\n",
        "  model = 'CarModel'\n",
        "  return speed,color,model\n",
        "\n",
        "# return값을 통해 함수 요소값을 확인할 수 있다.\n",
        "print(\"Car Attribute: \", carAttribute())\n",
        "\n",
        "# 케이스 2 : 변수활용\n",
        "speed = 50\n",
        "color = 'black'\n",
        "model = 'CarModel'\n",
        "\n",
        "# 해당 변수를 각각 명시해주어야 한다.\n",
        "print(\"Car Attribute: \", speed,color,model)"
      ],
      "execution_count": null,
      "outputs": [
        {
          "output_type": "stream",
          "name": "stdout",
          "text": [
            "Car Attribute:  (50, 'black', 'CarModel')\n",
            "Car Attribute:  50 black CarModel\n"
          ]
        }
      ]
    },
    {
      "cell_type": "code",
      "metadata": {
        "colab": {
          "base_uri": "https://localhost:8080/"
        },
        "id": "-3Cf9buDoFHP",
        "outputId": "49f1d8a5-cd0a-4546-8419-11ed6ac78421"
      },
      "source": [
        "# OOP / 기능에 따라 Car클래스 안에 있는 함수와 변수만 추가해주면 된다.\n",
        "# 절차 프로그래밍과 다르게 기능별로 수행되기 때문이다.\n",
        "class Bus:\n",
        "  def __init__(self, speed, color):\n",
        "      self.speed = speed\n",
        "      self.color = color\n",
        "  \n",
        "  def drive_bus(self):\n",
        "    self.speed = 70\n",
        "\n",
        "class Car:\n",
        "  def __init__(self, speed, color, model):\n",
        "    self.speed = speed\n",
        "    self.color = color\n",
        "    self.model = model\n",
        "  \n",
        "  def drive(self):\n",
        "    self.speed = 50\n",
        "  \n",
        "myCar = Car(0, \"green\", \"testCar\")\n",
        "print(\"--------Car Object Create Complete--------\")\n",
        "print(\"Car Speed: \", myCar.speed)\n",
        "print(\"Car Color: \", myCar.color)\n",
        "print(\"Car Model: \", myCar.model)\n",
        "# print(\"Bus color: \", myBus.color)\n",
        "\n",
        "myBus = Bus(0, 'black')\n",
        "print(\"--------Bus Object Create Complete--------\")\n",
        "print(\"Bus color: \", myBus.color)\n",
        "\n",
        "\n",
        "# 운전 중이 아니므로 speed는 0을 출력한다.\n",
        "print(\"--------Car/Bus Speed 1--------\")\n",
        "print(\"Car Speed by drive: \", myCar.speed)\n",
        "print(\"Bus Speed by drive: \", myBus.speed)\n",
        "\n",
        "# Car/Bus object method Call\n",
        "myCar.drive()\n",
        "myBus.drive_bus()\n",
        "\n",
        "# 각각의 개체가 각자의 속도로 움직이고 있다.\n",
        "print(\"--------Car/Bus Speed 2--------\")\n",
        "print(\"Car Speed by drive: \", myCar.speed)\n",
        "print(\"Bus Speed by drive: \", myBus.speed)"
      ],
      "execution_count": null,
      "outputs": [
        {
          "output_type": "stream",
          "name": "stdout",
          "text": [
            "--------Car Object Create Complete--------\n",
            "Car Speed:  0\n",
            "Car Color:  green\n",
            "Car Model:  testCar\n",
            "--------Bus Object Create Complete--------\n",
            "Bus color:  black\n",
            "--------Car/Bus Speed 1--------\n",
            "Car Speed by drive:  0\n",
            "Bus Speed by drive:  0\n",
            "--------Car/Bus Speed 2--------\n",
            "Car Speed by drive:  50\n",
            "Bus Speed by drive:  70\n"
          ]
        }
      ]
    },
    {
      "cell_type": "code",
      "metadata": {
        "id": "FH0q9qSSpGbe"
      },
      "source": [
        ""
      ],
      "execution_count": null,
      "outputs": []
    },
    {
      "cell_type": "markdown",
      "metadata": {
        "id": "JzHIYKTxpG4k"
      },
      "source": [
        "# OOP의 특징"
      ]
    },
    {
      "cell_type": "markdown",
      "metadata": {
        "id": "OSc0-fBqe0XS"
      },
      "source": [
        "캡슐화 : 비슷한 속성을 묶는거,. 정보은닉의 속성이 존재한다. ??? 클래스를 만들 떄 속성과 함수를 묶어서 구현을 하는 것. \n",
        "\n",
        "상속과 포함 : \n",
        "\n",
        "추상화 : 관리의 차원. 추상클래스 --> 자식들의 공통적인 걸 묶어서.. 필요한 것만 일반화시킴. 설계적 측면에서 접근할 수 있다. 상속과 목적은 다르다. 자신의 특성을 넘겨주는거고... 기획자에게 \n",
        "\n",
        "다형성 : 상속과 비슷하긴 한데, 메소드라이딩이랑 관련이 많다. 상위클래스의 속성을 재정의. 하위클래스마다 각자 다른 특징이 있다. "
      ]
    },
    {
      "cell_type": "markdown",
      "metadata": {
        "id": "WsWmqBohvBqj"
      },
      "source": [
        "## 1. 캡슐화\n",
        "-  내부 속성(변수)과 함수를 하나로 묶어서 클래스로 선언하는 일반적인 개념\n",
        "-  object 및 소스코드 구현에 대한 상세정보를 분리하는 과정\n",
        "- 캡슐화형태로 코드를 작성하지 않으면 특정 기능(함수, 변수)에 직접 접근하게 되는 상황이 된다.\n",
        "- 기능이 많아질수록 재사용의 개념을 활용하기가 어려움\n",
        "\n",
        "\n",
        "<장점>\n",
        "\n",
        "기능이 분리되어있으니 디버깅을 하는 경우 편리하다.\n",
        "\n",
        "프로그램이 기능별로 분리되어있으니 소스코드의 목적을 알기쉽다.\n",
        "\n"
      ]
    },
    {
      "cell_type": "code",
      "metadata": {
        "id": "xpTa33nBoi-W"
      },
      "source": [
        "# 캡슐화코드\n",
        "\n",
        "class Encap:\n",
        "  def __init__(self,value):   # __init__부분은 객체를 인스턴스화할 때 무조건 기본실행된다. \n",
        "    self.value = value\n",
        "    print('init :', self.value)\n",
        "\n",
        "  def _set(self):\n",
        "    print('set :', self.value)\n",
        "\n",
        "  def printTest(self):\n",
        "    print('printTest :', self.value)\n",
        "\n",
        "  def __printTest2(self):\n",
        "    print('printTest :', self.value)"
      ],
      "execution_count": null,
      "outputs": []
    },
    {
      "cell_type": "code",
      "metadata": {
        "colab": {
          "base_uri": "https://localhost:8080/"
        },
        "id": "3n3ieC0ApadF",
        "outputId": "282e6e4c-3f41-4f31-daaa-1a9dee8c4af3"
      },
      "source": [
        "# object 생성\n",
        "e = Encap(10)\n",
        "e   # 객체 자체의 주소값이 나온다. "
      ],
      "execution_count": null,
      "outputs": [
        {
          "output_type": "stream",
          "name": "stdout",
          "text": [
            "init : 10\n"
          ]
        },
        {
          "output_type": "execute_result",
          "data": {
            "text/plain": [
              "<__main__.Encap at 0x7f05926faa50>"
            ]
          },
          "metadata": {},
          "execution_count": 15
        }
      ]
    },
    {
      "cell_type": "code",
      "metadata": {
        "colab": {
          "base_uri": "https://localhost:8080/",
          "height": 383
        },
        "id": "_t0kmcLdpjGs",
        "outputId": "b8f8eebc-7cfa-4bcc-cf0a-53aa8934f267"
      },
      "source": [
        "# object 실행 \n",
        "# 케이스1\n",
        "print(e.value)\n",
        "print(e.__init__(20))\n",
        "print('---'*5)\n",
        "print(e.value)\n",
        "print(e._set())\n",
        "print('---'*5)\n",
        "print(e.printTest())\n",
        "e.__printTest2()    # 이런 것도 접근하는 방법 있었는데, 뭐였지?"
      ],
      "execution_count": null,
      "outputs": [
        {
          "output_type": "stream",
          "name": "stdout",
          "text": [
            "20\n",
            "init : 20\n",
            "None\n",
            "---------------\n",
            "20\n",
            "set : 20\n",
            "None\n",
            "---------------\n",
            "printTest : 20\n",
            "None\n"
          ]
        },
        {
          "output_type": "error",
          "ename": "AttributeError",
          "evalue": "ignored",
          "traceback": [
            "\u001b[0;31m---------------------------------------------------------------------------\u001b[0m",
            "\u001b[0;31mAttributeError\u001b[0m                            Traceback (most recent call last)",
            "\u001b[0;32m<ipython-input-17-e05d12d99088>\u001b[0m in \u001b[0;36m<module>\u001b[0;34m()\u001b[0m\n\u001b[1;32m      8\u001b[0m \u001b[0mprint\u001b[0m\u001b[0;34m(\u001b[0m\u001b[0;34m'---'\u001b[0m\u001b[0;34m*\u001b[0m\u001b[0;36m5\u001b[0m\u001b[0;34m)\u001b[0m\u001b[0;34m\u001b[0m\u001b[0;34m\u001b[0m\u001b[0m\n\u001b[1;32m      9\u001b[0m \u001b[0mprint\u001b[0m\u001b[0;34m(\u001b[0m\u001b[0me\u001b[0m\u001b[0;34m.\u001b[0m\u001b[0mprintTest\u001b[0m\u001b[0;34m(\u001b[0m\u001b[0;34m)\u001b[0m\u001b[0;34m)\u001b[0m\u001b[0;34m\u001b[0m\u001b[0;34m\u001b[0m\u001b[0m\n\u001b[0;32m---> 10\u001b[0;31m \u001b[0me\u001b[0m\u001b[0;34m.\u001b[0m\u001b[0m__printTest2\u001b[0m\u001b[0;34m(\u001b[0m\u001b[0;34m)\u001b[0m\u001b[0;34m\u001b[0m\u001b[0;34m\u001b[0m\u001b[0m\n\u001b[0m",
            "\u001b[0;31mAttributeError\u001b[0m: 'Encap' object has no attribute '__printTest2'"
          ]
        }
      ]
    },
    {
      "cell_type": "code",
      "metadata": {
        "colab": {
          "base_uri": "https://localhost:8080/"
        },
        "id": "o2-7QAHyqC2F",
        "outputId": "e571c896-de15-468b-d671-4c73f1d5d020"
      },
      "source": [
        "# 케이스2\n",
        "e.__init__(30)\n",
        "e._set()\n",
        "e.printTest()"
      ],
      "execution_count": null,
      "outputs": [
        {
          "output_type": "stream",
          "name": "stdout",
          "text": [
            "init : 30\n",
            "set : 30\n",
            "printTest : 30\n"
          ]
        }
      ]
    },
    {
      "cell_type": "markdown",
      "metadata": {
        "id": "OaZf9g0mqoPV"
      },
      "source": [
        "## 2. 상속과 포함(Inheritance & Composition)\n",
        "- 상속 : 상위 클래스의 모든 기능(함수, 변수)을 재사용할 수 있다.\n",
        "- 포함 : 다른 클래스의 일부 기능(함수)만을 재사용한다."
      ]
    },
    {
      "cell_type": "code",
      "metadata": {
        "colab": {
          "base_uri": "https://localhost:8080/"
        },
        "id": "-XG_tisBq9FN",
        "outputId": "2b88dfc7-6554-456a-bc84-7c735033e293"
      },
      "source": [
        "# 상속코드\n",
        "\n",
        "# 클래스 선언\n",
        "class Person:\n",
        "    def __init__(self, name):\n",
        "        self.name = name\n",
        "        \n",
        "class Student(Person):      # Person 클래스 상속받음(name 변수를 파라미터로 재사용)\n",
        "    def study(self):\n",
        "        print (self.name + \" studies hard\")\n",
        "\n",
        "class Employee(Person):     # Person 클래스 상속받음(name 변수를 파라미터로 재사용)\n",
        "    def work(self):\n",
        "        print (self.name + \" works hard\")\n",
        "\n",
        "# object 생성\n",
        "s = Student(\"Dave\")\n",
        "e = Employee(\"David\")\n",
        "\n",
        "# object 실행 --> 서로다른 클래스와 객체이지만, 같은 Person클래스를 상속받았음.\n",
        "s.study()\n",
        "print(s.name)\n",
        "e.work()\n",
        "print(e.name)"
      ],
      "execution_count": null,
      "outputs": [
        {
          "output_type": "stream",
          "name": "stdout",
          "text": [
            "Dave studies hard\n",
            "Dave\n",
            "David works hard\n",
            "David\n"
          ]
        }
      ]
    },
    {
      "cell_type": "code",
      "metadata": {
        "id": "HCuC_Ia6rIJ1"
      },
      "source": [
        "## 포함코드1) 클래스 선언할 때 포함하는 경우.\n",
        "\n",
        "# 클래스 선언\n",
        "class Person:\n",
        "    def __init__(self, name, age):\n",
        "        self.name = name\n",
        "        self.age = age\n",
        "\n",
        "    def printPerson(self):\n",
        "        print('Person_printPerson')\n",
        "\n",
        "class Student(Person):\n",
        "    def __init__(self, name, age, id):\n",
        "        Person.__init__(self, name, age)  # Person클래스의 속성값을 포함하고,\n",
        "        Person.printPerson(self)  # Person클래스의 printPerson메서드도 포함\n",
        "        self.id = id  # 그리고 Student클래스의 init에 id속성을 추가한다. \n",
        "\n",
        "    def test(self, score):\n",
        "        if score > 80:\n",
        "            print (self.name + \" studies hard\")\n",
        "        else:\n",
        "            print (self.name + \" needs supplementary lessons\")"
      ],
      "execution_count": null,
      "outputs": []
    },
    {
      "cell_type": "code",
      "metadata": {
        "colab": {
          "base_uri": "https://localhost:8080/"
        },
        "id": "Gax3hFgOswM3",
        "outputId": "9a51e089-6f24-4f5b-ba50-7c7a93ffae94"
      },
      "source": [
        "# object 생성\n",
        "# 한 번 생성된 object는 파라미터가 변하지 않는 이상 출력값 또한 변하지 않는다.\n",
        "s = Student(\"Dave\", 20, 1)\n",
        "\n",
        "\n",
        "# object 실행\n",
        "print(\"s.age:\", s.name)   # result : Dave\n",
        "print(\"s.age:\", s.age)   # result : 20\n",
        "print(\"s.id:\", s.id)   # result : 1\n",
        "print('\\n')\n",
        "\n",
        "\n",
        "print(s.printPerson())\n",
        "print(s.test(30))"
      ],
      "execution_count": null,
      "outputs": [
        {
          "output_type": "stream",
          "name": "stdout",
          "text": [
            "Person_printPerson\n",
            "s.age: Dave\n",
            "s.age: 20\n",
            "s.id: 1\n",
            "\n",
            "\n",
            "Person_printPerson\n",
            "None\n",
            "Dave needs supplementary lessons\n",
            "None\n"
          ]
        }
      ]
    },
    {
      "cell_type": "code",
      "metadata": {
        "colab": {
          "base_uri": "https://localhost:8080/"
        },
        "id": "VhMrVcyUs491",
        "outputId": "380172f3-dc07-486d-e422-31698b1d9125"
      },
      "source": [
        "# 객체 하나 더 생성하기\n",
        "s2 = Student(\"Jamie\", 25, 2)\n",
        "print(\"s2.age:\", s2.name)   # result : Jamie\n",
        "print(\"s2.age:\", s2.age)   # result : 25\n",
        "print(\"s2.id:\", s2.id)   # result : 2\n",
        "print('\\n')\n",
        "\n",
        "# 점수입력\n",
        "print('-- test score result --')\n",
        "s.test(52)\n",
        "s2.test(88)"
      ],
      "execution_count": null,
      "outputs": [
        {
          "output_type": "stream",
          "name": "stdout",
          "text": [
            "Person_printPerson\n",
            "s2.age: Jamie\n",
            "s2.age: 25\n",
            "s2.id: 2\n",
            "\n",
            "\n",
            "-- test score result --\n",
            "Dave needs supplementary lessons\n",
            "Jamie studies hard\n"
          ]
        }
      ]
    },
    {
      "cell_type": "code",
      "metadata": {
        "colab": {
          "base_uri": "https://localhost:8080/"
        },
        "id": "2Zx72LtetdwE",
        "outputId": "21d798ec-ad34-4268-d1d6-5bee7c2cf339"
      },
      "source": [
        "## 포함코드 2) 객체생성할 때 포함하는 경우.\n",
        "\n",
        "# 클래스 선언\n",
        "class Bill():\n",
        "    def __init__(self, description):\n",
        "        self.description = description\n",
        "\n",
        "\n",
        "class Tail():\n",
        "    def __init__(self, length):\n",
        "        self.length = length\n",
        "\n",
        "\n",
        "class Duck():\n",
        "    def __init__(self, bill, tail):\n",
        "        self.bill = bill\n",
        "        self.tail = tail\n",
        "\n",
        "    def about(self):\n",
        "        print(\n",
        "            f\"This duck has a {self.bill.description} and a {self.tail.length}.\")\n",
        "\n",
        "# object 생성  --> 객체생성할 때 포함하는 경우.\n",
        "duck = Duck(Bill('bill object'), Tail('tail object'))\n",
        "\n",
        "# object 실행\n",
        "duck.about()"
      ],
      "execution_count": null,
      "outputs": [
        {
          "output_type": "stream",
          "name": "stdout",
          "text": [
            "This duck has a bill object and a tail object.\n"
          ]
        }
      ]
    },
    {
      "cell_type": "markdown",
      "metadata": {
        "id": "5EPfyBhXu2pq"
      },
      "source": [
        "##  3. 추상화(abstraction)\n",
        "- \n",
        "- 형 프로젝트를 진행하는 경우 또는 프로그램이 복잡해지는 경우 1차적인 설계를 위해 기능을 추상화시켜놓고, 활용여부는 차후 결정하기 위함이다.\n",
        "\n",
        "- 추상화 렉쳐노트 예시의 코드를 나중에 어떻게 활용하나요? ★ @abstractmethod  외에는 상속과의 차이점이 안느껴지는데, 추상화의 활용에 대해 설명들을 수 있을까요?\n",
        "\n",
        "https://wikidocs.net/16075"
      ]
    },
    {
      "cell_type": "code",
      "metadata": {
        "id": "_LoQg9gSvqZn"
      },
      "source": [
        "# 추상화 코드\n",
        "\n",
        "from abc import *    # abc 모듈의 클래스와 메소드를 갖고온다.(abc : abstract base class)\n",
        "\n",
        "# 추상 클래스\n",
        "class People(metaclass=ABCMeta):  \n",
        "\n",
        "# 추상 메소드\n",
        "    @abstractmethod                      # 추상 메소드에는 @abstractmethod를 선언해줘야 함\n",
        "    def charecter(self): \n",
        "        pass        # 추상 메소드는 기능 내 실제 실행내용은 없다.\n",
        "\n",
        "# 상속받는 클래스\n",
        "class Student(People):\n",
        "    def charecter(self, pow, think):\n",
        "        self.pow = pow\n",
        "        self.think = think\n",
        "\n",
        "        print('체력: {0}'.format(self.pow))\n",
        "        print('생각: {0}'.format(self.think))\n",
        "\n",
        "# 상속받는 클래스\n",
        "class Driver(People):\n",
        "    def charecter(self, pow, think):\n",
        "        self.pow = pow\n",
        "        self.think = think\n",
        "\n",
        "        print('체력: {0}'.format(self.pow))\n",
        "        print('생각: {0}'.format(self.think))\n"
      ],
      "execution_count": null,
      "outputs": []
    },
    {
      "cell_type": "code",
      "metadata": {
        "colab": {
          "base_uri": "https://localhost:8080/"
        },
        "id": "5S0Pc9Mwv-AU",
        "outputId": "cda50749-e888-4da9-ca78-369688edbff8"
      },
      "source": [
        "# Student object 생성      \n",
        "peo1 = Student()\n",
        "print('Student : ')\n",
        "\n",
        "# Student object 실행\n",
        "peo1.charecter(30, 10)\n",
        "\n",
        "print()\n",
        "\n",
        "# Driver object 생성\n",
        "peo2 = Driver()\n",
        "print('Driver : ')\n",
        "\n",
        "# Driver object 실행\n",
        "peo2.charecter(10, 10)"
      ],
      "execution_count": null,
      "outputs": [
        {
          "output_type": "stream",
          "name": "stdout",
          "text": [
            "Student : \n",
            "체력: 30\n",
            "생각: 10\n",
            "\n",
            "Driver : \n",
            "체력: 10\n",
            "생각: 10\n"
          ]
        }
      ]
    },
    {
      "cell_type": "markdown",
      "metadata": {
        "id": "WujT5MW-y-GS"
      },
      "source": [
        "## 다형성\n",
        "-  구현되는 하위클래스에 따라 상위클래스를 다르게 처리하는 기능\n",
        "- 상속과 유사하다고 느껴질 수 있지만, 상속은 상위클래스의 기능(함수, 변수)을 재사용한다.\n",
        "- 다형성은 상위클래스의 기능을 변경하여 사용하는 것이다.(그대로 재사용하지 않는다.)\n"
      ]
    },
    {
      "cell_type": "code",
      "metadata": {
        "id": "X9Xka6A2zhqR"
      },
      "source": [
        "class Person:\n",
        "  def run(self):\n",
        "    print(\"I'm a human: \", end='')\n",
        "    print('run')\n",
        "\n",
        "  def play(self):\n",
        "    print(\"I'm a human: \", end='')\n",
        "    print('play')\n",
        "  \n",
        "class Student(Person):\n",
        "  def run(self):\n",
        "    print(\"I'm a student: \", end='')\n",
        "    print('fast run')\n",
        "  \n",
        "  def play(self):\n",
        "    print(\"I'm a student: \", end='')\n",
        "    print('play')\n",
        "  \n",
        "class teacher(Person):\n",
        "  def teach(self):\n",
        "    print(\"I'm a teacher: \", end='')\n",
        "    print('teach')\n",
        "\n",
        "  def play(self):\n",
        "    print(\"I'm a teacher: \", end='')\n",
        "    print('teach play')"
      ],
      "execution_count": null,
      "outputs": []
    },
    {
      "cell_type": "code",
      "metadata": {
        "colab": {
          "base_uri": "https://localhost:8080/"
        },
        "id": "EGdL2jyHzlQ3",
        "outputId": "bce6ea0e-dd37-4de3-e8e6-d8cea330b4ec"
      },
      "source": [
        "# 리스트를 생성한다.\n",
        "number = list()\n",
        "# 생성한 리스트에 다형성 개념을 위해 다른 클래스(Student, teacher)가 상위 클래스(Person)를 참조할 수 있도록 한다.\n",
        "number.append(Student())  # 리스트 끝에 서브 클래스 Student()를 넣습니다. \n",
        "number.append(teacher())  # 다시 리스트 끝에 서브 클래스 teacher()를 넣습니다.\n",
        "\n",
        "print(\"=========\")\n",
        "for Runner in number:\n",
        "    Runner.run()     # 상위클래스인 Person의 run은 상속하여 사용하지만 내용은 다르다.\n",
        "\n",
        "\n",
        "print(\"=========\")\n",
        "for Player in number: \n",
        "    Player.play()    # 상위클래스인 Person의 play는 상속하여 사용하지만 내용은 다르다."
      ],
      "execution_count": null,
      "outputs": [
        {
          "output_type": "stream",
          "name": "stdout",
          "text": [
            "=========\n",
            "I'm a student: fast run\n",
            "I'm a human: run\n",
            "=========\n",
            "I'm a student: play\n",
            "I'm a teacher: teach play\n"
          ]
        }
      ]
    },
    {
      "cell_type": "code",
      "metadata": {
        "colab": {
          "base_uri": "https://localhost:8080/"
        },
        "id": "SPGn24Qczqcz",
        "outputId": "f89fbaf7-d1af-4fec-e57f-c6af283661e8"
      },
      "source": [
        "# 오해하지 않도록 코드를 작성하자.\n",
        "# foo: 프로그래밍 상에서 임시로 변수이름을 지정해줘야 할 때 주로 쓰이는 변수 이름이다.\n",
        "foo = ''\n",
        "\n",
        "# 가독성 좋음\n",
        "if foo is not None: # 한 번만 해석하면 된다. (A는 B가 아니다.)\n",
        "  print('가독성 좋음')\n",
        "\n",
        "# 가독성 좋지 않음\n",
        "if not foo is None: # 두 번 해석해야된다. (A가 아닌 것은 None이다.)\n",
        "  print('가독성 좋지 않음')"
      ],
      "execution_count": null,
      "outputs": [
        {
          "output_type": "stream",
          "name": "stdout",
          "text": [
            "가독성 좋음\n",
            "가독성 좋지 않음\n"
          ]
        }
      ]
    },
    {
      "cell_type": "markdown",
      "metadata": {
        "id": "w6ALLr7a0KEF"
      },
      "source": [
        "# 코드설계\n",
        "- 클래스 설계가 중요한 이유는 코드 재사용성이다.\n",
        "- 코드설계를 진행하는데 앞서, 바로 소스코드를 작성하지 않고 그림과 글을 통해 자신의 방법으로 코드블록을 구성해본다.\n",
        "\n",
        "1) User\n",
        " - Attributes(속성)\n",
        "   - 이름\n",
        "   - 사용자가 관리자인가?\n",
        "\n",
        " 1-1)  Customers\n",
        "   - Attributes :이름, 구매목록\n",
        "\n",
        " 1-2)  Vendors\n",
        "   - Attributes : 이름, 상품목록\n",
        "\n",
        " 1-3)  Admin\n",
        "   - 이름, 사용자가 관리자임을 나타내는 구분값\n",
        "\n",
        "2) Products\n",
        " - Attributes\n",
        "   - 이름\n",
        "   - 가격\n",
        "   - 공급업체\n",
        "\n",
        "3) Purchases\n",
        "  - Attributes\n",
        "    - 제품\n",
        "    - 고객\n",
        "    - 가격\n",
        "    - 구매완료기간\n",
        "\n",
        "\n",
        "\n",
        "판매자는 1개 이상의 제품을 갖고 있다.\n",
        "\n",
        "고객은 1개 이상의 구매를 한다.\n",
        "\n",
        "구매는 1개 이상의 제품을 구매하는 것이다."
      ]
    },
    {
      "cell_type": "code",
      "metadata": {
        "id": "1EwHJgVT0oG7"
      },
      "source": [
        "# 기본이 될 수 있는 User 클래스 생성\n",
        "\n",
        "class User:\n",
        "    def __init__(self, name, is_admin=False):\n",
        "        self.name = name\n",
        "        self.is_admin = is_admin"
      ],
      "execution_count": null,
      "outputs": []
    },
    {
      "cell_type": "code",
      "metadata": {
        "id": "Iqcq3d7JFA6x"
      },
      "source": [
        "# User로부터 상속받는 3개의 클래스를 정의\n",
        "\"\"\"\n",
        "부모 클래스에서 정의한 함수와 변수는 자식 클래스에서 정의한 것처럼 사용할 수 있습니다.\n",
        "\n",
        "부모 클래스에서 정의한 함수와 자식 클래스에서 정의한 함수 이름이 같은 경우,\n",
        "부모 클래스의 함수를 호출하려면 두 가지 방법 중 하나를 사용해야 합니다.\n",
        "1) 부모클래스명.함수명()\n",
        "2) super().함수명()\n",
        "\n",
        "즉, super()는 자식클래스에서 부모클래스에 있는 함수를 사용하고 싶고,\n",
        "플러스 해당 함수명이 자식클래스에 중복되어 있을 때 사용할 수 있는 코드입니다.\n",
        "\"\"\"\n",
        "\n",
        "class User:\n",
        "    def __init__(self, name, is_admin=False):\n",
        "        self.name = name\n",
        "        self.is_admin = is_admin\n",
        "\n",
        "class Admin(User):\n",
        "    def __init__(self, name):\n",
        "        super().__init__(name, is_admin=True)\n",
        "\n",
        "# 부모 클래스(User)로부터 상속을 받으려면 클래스를 선언할 때,\n",
        "# 클래스 이름 다음에 있는 소괄호 안에 부모 클래스의 이름을 넣어주면 됩니다.\n",
        "class Customer(User):\n",
        "    def __init__(self, name):\n",
        "        super().__init__(name)\n",
        "        self.purchases = []\n",
        "\n",
        "class Vendor(User):\n",
        "    def __init__(self, name):\n",
        "        super().__init__(name)\n",
        "        self.products = []"
      ],
      "execution_count": null,
      "outputs": []
    },
    {
      "cell_type": "code",
      "metadata": {
        "id": "GHQb_0B7FCh3"
      },
      "source": [
        "# 위의 코드에서 제품(Product)과 구매(Purchase) 클래스 생성 코드 추가\n",
        "\n",
        "from datetime import datetime\n",
        "\n",
        "class User:\n",
        "    def __init__(self, name, is_admin=False):\n",
        "        self.name = name\n",
        "        self.is_admin = is_admin\n",
        "\n",
        "class Admin(User):\n",
        "    def __init__(self, name):\n",
        "        super().__init__(name, is_admin=True)\n",
        "\n",
        "class Customer(User):\n",
        "    def __init__(self, name):\n",
        "        super().__init__(name)\n",
        "        self.purchases = []\n",
        "\n",
        "class Vendor(User):\n",
        "    def __init__(self, name):\n",
        "        super().__init__(name)\n",
        "        self.products = []\n",
        "\n",
        "class Product:\n",
        "    def __init__(self, name, price, vendor):\n",
        "        self.name = name\n",
        "        self.price = price\n",
        "        self.vendor = vendor\n",
        "\n",
        "class Purchase:\n",
        "    def __init__(self, product, customer):\n",
        "        self.product = product\n",
        "        self.customer = customer\n",
        "        self.purchase_price = product.price   # 속성값에 속성값?? 이건 뭐죵..★\n",
        "        self.purchase_data = datetime.now()"
      ],
      "execution_count": null,
      "outputs": []
    },
    {
      "cell_type": "code",
      "metadata": {
        "id": "sFNRnMQUFDTo"
      },
      "source": [
        "\"\"\"\n",
        "현재 생성된 클래스: User(Admin, Customer, Vendor), Product, Purchase\n",
        "\n",
        "1) 고객(Customer): 제품(Product)을 구매(Purchase)하는 행동\n",
        "   => Customer 클래스에 purchase_product 메소드 추가\n",
        "\n",
        "2) 공급업체(Vendor): 제품(Product)을 생산(Product)하는 행동\n",
        "   => Vendor 클래스에 create_product 메소드 추가\n",
        "\"\"\"\n",
        "\n",
        "from datetime import datetime\n",
        "\n",
        "class User:\n",
        "    def __init__(self, name, is_admin=False):\n",
        "        self.name = name\n",
        "        self.is_admin = is_admin\n",
        "\n",
        "class Admin(User):\n",
        "    def __init__(self, name):\n",
        "        super().__init__(name, is_admin=True)\n",
        "\n",
        "class Customer(User):\n",
        "    def __init__(self, name):\n",
        "        super().__init__(name)\n",
        "        self.purchases = []\n",
        "    # 함수 추가\n",
        "    def purchase_product(self, product):\n",
        "        purchase = Purchase(product, self)  ##  이 부분에서 self가 들어가는게 뭔지 모르겠거든...\n",
        "        self.purchases.append(purchase)\n",
        "\n",
        "class Vendor(User):\n",
        "    def __init__(self, name):\n",
        "        super().__init__(name)\n",
        "        self.products = []\n",
        "    # 함수 추가\n",
        "    def create_product(self, product_name, product_price):\n",
        "        product = Product(product_name, product_price, self)  # 마찬가지.. \n",
        "        self.products.append(product)\n",
        "\n",
        "# 모델링을 위한 추가 소스코드\n",
        "class Product:\n",
        "    def __init__(self, name, price, vendor):\n",
        "        self.name = name\n",
        "        self.price = price\n",
        "        self.vendor = vendor\n",
        "\n",
        "class Purchase:\n",
        "    def __init__(self, product, customer):\n",
        "        self.product = product\n",
        "        self.customer = customer\n",
        "        self.purchase_price = product.price  # 속성값에 속성값?? 이건 머지요\n",
        "        self.purchase_data = datetime.now()"
      ],
      "execution_count": null,
      "outputs": []
    },
    {
      "cell_type": "markdown",
      "metadata": {
        "id": "Axixshj9fn7k"
      },
      "source": [
        "# 클래스의 인스턴스화\n",
        "\n",
        "self 이해하기 : \n",
        "https://velog.io/@magnoliarfsit/RePython-1.-self-%EC%9D%B4%ED%95%B4%ED%95%98%EA%B8%B0\n",
        "\n",
        "self는 현재의 인스턴스를 의미한다. \n",
        "\n",
        "https://dojang.io/mod/page/view.php?id=2378\n",
        "\n"
      ]
    },
    {
      "cell_type": "code",
      "metadata": {
        "id": "wK3-QJYJfpT8"
      },
      "source": [
        "https://velog.io/@magnoliarfsit/RePython-1.-self-%EC%9D%B4%ED%95%B4%ED%95%98%EA%B8%B0"
      ],
      "execution_count": null,
      "outputs": []
    },
    {
      "cell_type": "markdown",
      "metadata": {
        "id": "Uhwih4Rh0PC3"
      },
      "source": [
        "\n",
        "![image.png](data:image/png;base64,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){: width=\"10\" height=\"10\"}"
      ]
    },
    {
      "cell_type": "markdown",
      "metadata": {
        "id": "5VJYhJRZ04BP"
      },
      "source": [
        "object가 생성된 이후, object가 소프트웨어의 메모리할당이 되면 인스턴스가 되는 것이다.\n",
        "\n",
        "object는 인스턴스를 포함할 수 있으며, 포괄적 의미를 갖는다.\n",
        "\n",
        "object는 프로그래밍 전체에서 쓰이는 포괄적인 의미를 갖으므로 인스턴스와 비교하면서 학습하는 대상은 아니다.\n",
        "\n",
        "\n",
        "\n",
        "https://www.itple.co.kr/entry/%ED%8C%8C%EC%9D%B4%EC%8D%AC-%ED%81%B4%EB%9E%98%EC%8A%A4-%EA%B0%9D%EC%B2%B4-%EC%9D%B8%EC%8A%A4%ED%84%B4%EC%8A%A4-%EC%9D%B4%ED%95%B4%ED%95%98%EA%B8%B0\n",
        "\n",
        "‘트럭은 인스턴스’보다는 ‘트럭은 객체’라는 표현이 어울리며, ‘트럭은 자동차의 객체’보다는 ‘트럭은 자동차의 인스턴스’라는 표현이 훨씬 잘 어울립니다."
      ]
    },
    {
      "cell_type": "markdown",
      "metadata": {
        "id": "Yx-z6W8OgC4U"
      },
      "source": [
        "협업에서 클래스설계가 있다면 코드바로 보는것보다 더 파악이 쉽다. \n",
        "\n",
        "현실세계의 객체를 프로그램에 인식시키는 과정\n",
        "\n",
        "현실세계의 개념을 앱스트랜션을 통해 추상클래스, 상위클래스를 만든다.\n",
        "\n",
        "클래스를 활용하기 위해 오브젝트를 만든다.(오브젝트화)\n",
        "\n",
        "완료됐다면, 소스코드(메모리)로 컴퓨터에 인식시키기 --> 공식적으로 인식되면서 인스턴스가 만들어짐.(메모리에 적용이 됨) \n",
        "\n",
        "즉, 오브젝트에 해당하는 메모리가 할당이 됨. (공간이 만들어짐) (오브젝트가 인스턴스보다 포괄적인 개념이다.)\n",
        "\n",
        "-- 이 부분 너무 설명 잘되어 있는데?? 강의 10분 정도에.[영상 Session] N513_Part4_ProgrammaticDesign\n",
        "\n",
        "\n",
        "https://www.itple.co.kr/entry/%ED%8C%8C%EC%9D%B4%EC%8D%AC-%ED%81%B4%EB%9E%98%EC%8A%A4-%EA%B0%9D%EC%B2%B4-%EC%9D%B8%EC%8A%A4%ED%84%B4%EC%8A%A4-%EC%9D%B4%ED%95%B4%ED%95%98%EA%B8%B0 "
      ]
    },
    {
      "cell_type": "code",
      "metadata": {
        "colab": {
          "base_uri": "https://localhost:8080/"
        },
        "id": "Gi5k5Rh_03aQ",
        "outputId": "6ae13101-b6c5-439c-9f4f-b9b8db676d35"
      },
      "source": [
        "# 가장 기본적인 클래스를 생성해보고 값을 확인해본다.\n",
        "\n",
        "class MyFirstClass:\n",
        "    pass\n",
        "\n",
        "a = MyFirstClass()  # 인스턴스화(메모리할당됨)\n",
        "\n",
        "print(a)    # 주소값은 일반적인 정수값과 다르게 나온다.\n",
        "\n",
        "# 즉, a는 객체이며, MyFirstClass의 인스턴스이다. "
      ],
      "execution_count": null,
      "outputs": [
        {
          "output_type": "stream",
          "name": "stdout",
          "text": [
            "<__main__.MyFirstClass object at 0x7f05926fed90>\n"
          ]
        }
      ]
    },
    {
      "cell_type": "markdown",
      "metadata": {
        "id": "fYZoJYax2rdJ"
      },
      "source": [
        "# 데이터 캡슐화, 접근제어\n",
        "\n",
        "- '_클래스이름__메소드이름' 형태로 이름을 변환시켜, 부모클래스와 서브클래스의 변수나 메소드이름을 구분짓는다. ★"
      ]
    },
    {
      "cell_type": "code",
      "metadata": {
        "id": "o7sKK3KPzqkj"
      },
      "source": [
        "class Point:\n",
        "   def __init__(self, x, y):\n",
        "       self.x = x\n",
        "       self.y = y\n",
        "       self.__private_name = \"private 접근\"\n",
        "\n",
        "class Point_sub(Point):\n",
        "  def __init__(self,x, y):\n",
        "    Point.__init__(self,x,y)\n",
        "    # self.x = x\n",
        "    # self.y = y\n",
        "    \n",
        "  def __sub(self):\n",
        "    self.__x = 10\n",
        "    self.__y = 20\n",
        "\n",
        "  def sub(self):\n",
        "    self.__sub()\n",
        "    print(self.__x)\n",
        "    print(self.__y)\n",
        " \n"
      ],
      "execution_count": null,
      "outputs": []
    },
    {
      "cell_type": "code",
      "metadata": {
        "id": "2TT5pWhT4YWN"
      },
      "source": [
        "my_point = Point(1, 2)\n",
        "my_point_sub = Point_sub(11,22)"
      ],
      "execution_count": null,
      "outputs": []
    },
    {
      "cell_type": "code",
      "metadata": {
        "colab": {
          "base_uri": "https://localhost:8080/",
          "height": 134
        },
        "id": "LI58z64Q4aG8",
        "outputId": "20fe908d-6f45-4d16-8bee-a5a73e75c2be"
      },
      "source": [
        "case 1 - error case: private 으로 해당코드로 접근할 수 없다\n",
        "print(my_point.__private_name)"
      ],
      "execution_count": null,
      "outputs": [
        {
          "output_type": "error",
          "ename": "SyntaxError",
          "evalue": "ignored",
          "traceback": [
            "\u001b[0;36m  File \u001b[0;32m\"<ipython-input-43-bcce7b4436b4>\"\u001b[0;36m, line \u001b[0;32m1\u001b[0m\n\u001b[0;31m    case 1 - error case: private 으로 해당코드로 접근할 수 없다\u001b[0m\n\u001b[0m         ^\u001b[0m\n\u001b[0;31mSyntaxError\u001b[0m\u001b[0;31m:\u001b[0m invalid syntax\n"
          ]
        }
      ]
    },
    {
      "cell_type": "code",
      "metadata": {
        "colab": {
          "base_uri": "https://localhost:8080/"
        },
        "id": "NRufO7ZN59L3",
        "outputId": "ad218b39-837a-461f-fc5a-8632f022fce0"
      },
      "source": [
        "# case 2\n",
        "# 클래스 생성자에 있는 private변수에 접근하기위해 '_클래스이름__private변수' 를 활용한다.\n",
        "print(my_point._Point__private_name)"
      ],
      "execution_count": null,
      "outputs": [
        {
          "output_type": "stream",
          "name": "stdout",
          "text": [
            "private 접근\n"
          ]
        }
      ]
    },
    {
      "cell_type": "code",
      "metadata": {
        "colab": {
          "base_uri": "https://localhost:8080/"
        },
        "id": "XTQCmV4W6AIL",
        "outputId": "1d3562e7-ef40-4bcb-8c0f-def3947f42b6"
      },
      "source": [
        "# case 3\n",
        "my_point_sub.sub()    # 변환된 이름에 대해 값 출력"
      ],
      "execution_count": null,
      "outputs": [
        {
          "output_type": "stream",
          "name": "stdout",
          "text": [
            "10\n",
            "20\n"
          ]
        }
      ]
    },
    {
      "cell_type": "code",
      "metadata": {
        "id": "Tckf2oiI6Qg4"
      },
      "source": [
        "# 아래와 같이 클래스이름과 속성에 대해 알고 있으면, 변형된 이름을 사용해 접근가능\n",
        "# 따라서, 코드상에서 접근을 강제로 막을 방법은 없다.\n",
        "# 언더스코어(_) 참고자료 : https://mingrammer.com/underscore-in-python/\n",
        "\n",
        "class A(object):\n",
        "  def __init__(self):\n",
        "    self.__X = 3        # self._A__X 로 변환\n",
        "\n",
        "  def __test(self):     # _A__test() 로 변환\n",
        "    print('self.__X' ,self.__X)\n",
        "\n",
        "  def bast(self):\n",
        "    self.__test()\n",
        "\n",
        "class B(A):\n",
        "  def __init__(self):\n",
        "    A.__init__(self)\n",
        "    self.__X = 20       # self._B__X 로 변환\n",
        "\n",
        "  def __test(self):     # _B__test() 로 변환\n",
        "    print(self.__X)\n",
        "\n",
        "  def bast(self):\n",
        "    self.__test()\n"
      ],
      "execution_count": null,
      "outputs": []
    },
    {
      "cell_type": "code",
      "metadata": {
        "colab": {
          "base_uri": "https://localhost:8080/"
        },
        "id": "C7-vYy7Br1Y7",
        "outputId": "43324e5b-efd6-40f8-e445-fd1ec8c22379"
      },
      "source": [
        "# 객체 생성\n",
        "a = A()\n",
        "\n",
        "# 오류 발생 코드\n",
        "# a.__test()\n",
        "\n",
        "# private 메소드 접근방법\n",
        "# 1) 변형된 이름을 통해 접근가능: '_클래스이름__private메소드'\n",
        "print('a ----------------------')\n",
        "a._A__test()\n",
        "\n",
        "# 2) 우회경로로 접근가능\n",
        "a.bast()"
      ],
      "execution_count": null,
      "outputs": [
        {
          "output_type": "stream",
          "name": "stdout",
          "text": [
            "a ----------------------\n",
            "self.__X 3\n",
            "self.__X 3\n"
          ]
        }
      ]
    },
    {
      "cell_type": "code",
      "metadata": {
        "colab": {
          "base_uri": "https://localhost:8080/"
        },
        "id": "yWg7maYasDPH",
        "outputId": "aab70f2b-fcbd-4e1e-f734-97a7dc113216"
      },
      "source": [
        "# 객체 생성\n",
        "b = B()\n",
        "\n",
        "# private 메소드 접근\n",
        "print('b ----------------------')\n",
        "b._B__test()\n",
        "b.bast()\n",
        "\n",
        "# 오류 발생 코드\n",
        "# print(a.__X)\n",
        "\n",
        "# __X 변수 접근\n",
        "print('X ----------------------')\n",
        "print(a._A__X)\n",
        "print(b._A__X)\n",
        "print('\\n')"
      ],
      "execution_count": null,
      "outputs": [
        {
          "output_type": "stream",
          "name": "stdout",
          "text": [
            "b ----------------------\n",
            "20\n",
            "20\n",
            "X ----------------------\n",
            "3\n",
            "3\n",
            "\n",
            "\n"
          ]
        }
      ]
    },
    {
      "cell_type": "code",
      "metadata": {
        "colab": {
          "base_uri": "https://localhost:8080/"
        },
        "id": "jjr7uffH8Ybj",
        "outputId": "d65fa9b3-e008-423b-83a7-ee0261d4b478"
      },
      "source": [
        "# 상속을 받았기 때문에 B클래스의 인스턴스에서 A클래스의 함수와 변수도 확인가능하다.\n",
        "# dir(객체): 파이썬 내장메소드로 해당 객체가 어떤 변수와 메소드를 가지고 있는지 나열\n",
        "print('[부모클래스 A를 사용해 생성한 객체 a의 변수와 메소드]')\n",
        "print(dir(a))\n",
        "\n",
        "print('[부모클래스 B를 사용해 생성한 객체 b의 변수와 메소드]')\n",
        "print(dir(b))       "
      ],
      "execution_count": null,
      "outputs": [
        {
          "output_type": "stream",
          "name": "stdout",
          "text": [
            "[부모클래스 A를 사용해 생성한 객체 a의 변수와 메소드]\n",
            "['_A__X', '_A__test', '__class__', '__delattr__', '__dict__', '__dir__', '__doc__', '__eq__', '__format__', '__ge__', '__getattribute__', '__gt__', '__hash__', '__init__', '__init_subclass__', '__le__', '__lt__', '__module__', '__ne__', '__new__', '__reduce__', '__reduce_ex__', '__repr__', '__setattr__', '__sizeof__', '__str__', '__subclasshook__', '__weakref__', 'bast']\n",
            "[부모클래스 B를 사용해 생성한 객체 b의 변수와 메소드]\n",
            "['_A__X', '_A__test', '_B__X', '_B__test', '__class__', '__delattr__', '__dict__', '__dir__', '__doc__', '__eq__', '__format__', '__ge__', '__getattribute__', '__gt__', '__hash__', '__init__', '__init_subclass__', '__le__', '__lt__', '__module__', '__ne__', '__new__', '__reduce__', '__reduce_ex__', '__repr__', '__setattr__', '__sizeof__', '__str__', '__subclasshook__', '__weakref__', 'bast']\n"
          ]
        }
      ]
    },
    {
      "cell_type": "code",
      "metadata": {
        "colab": {
          "base_uri": "https://localhost:8080/"
        },
        "id": "reJrrVnitSUy",
        "outputId": "a05d551b-6749-4529-aba5-e43de3ad2f66"
      },
      "source": [
        "# 속성충돌\n",
        "# 프로그램이 길어지고 다양한 변수를 선언하는 경우 클래스의 속성이 충돌(변수의 중복)할 수 있다.\n",
        "\n",
        "\n",
        "class parent_class:\n",
        "  def __init__(self):\n",
        "    self.value = 30\n",
        "    self._value = 40\n",
        "    self.__value = 50\n",
        "\n",
        "  def get(self):\n",
        "    return self.value\n",
        "\n",
        "class sub_class(parent_class):\n",
        "  def __init__(self):\n",
        "    super().__init__()\n",
        "    self.__value = 20    # 위의 parent_class의 _value와 충돌(값의 중복)발생\n",
        "\n",
        "s = sub_class()\n",
        "print(s.value) # public  30\n",
        "print(s._value)# protected  40\n",
        "\n",
        "print('어떤 클래스에서 값을 받아오냐에 따라 값의 정보가 바뀜--')\n",
        "print(s._parent_class__value) # 50\n",
        "print(s._sub_class__value)  # 20\n",
        "print('parent_class value:',s.get(),' sub_class value:', s.value)  #30, #30"
      ],
      "execution_count": null,
      "outputs": [
        {
          "output_type": "stream",
          "name": "stdout",
          "text": [
            "30\n",
            "40\n",
            "어떤 클래스에서 값을 받아오냐에 따라 값의 정보가 바뀜--\n",
            "50\n",
            "20\n",
            "parent_class value: 30  sub_class value: 30\n"
          ]
        }
      ]
    },
    {
      "cell_type": "code",
      "metadata": {
        "colab": {
          "base_uri": "https://localhost:8080/"
        },
        "id": "RSeunoTfvTz6",
        "outputId": "62f74c55-8b05-46f6-ad23-c21e3be938a4"
      },
      "source": [
        "# 속성충돌방지(언더바와 접근제어의 개념을 활용하여 같은 변수이름끼리 헷갈리지 않도록 한다.)\n",
        "\n",
        "class parent_class:\n",
        "  def __init__(self):\n",
        "    self.__value = 10   # parent_class는 '__'\n",
        "\n",
        "  def get(self):\n",
        "    return self.__value # parent_class는 '__'\n",
        "\n",
        "class sub_class(parent_class):\n",
        "  def __init__(self):\n",
        "    super().__init__()  # parent_class 호출을 위해 super() 사용\n",
        "    self._value = 20    # sub_class는 '_'\n",
        "\n",
        "\n",
        "s = sub_class()\n",
        "print('parent_class value:',s.get(),' sub_class value:', s._value) "
      ],
      "execution_count": null,
      "outputs": [
        {
          "output_type": "stream",
          "name": "stdout",
          "text": [
            "parent_class value: 10  sub_class value: 20\n"
          ]
        }
      ]
    },
    {
      "cell_type": "markdown",
      "metadata": {
        "id": "5ei0IdSKvfMk"
      },
      "source": [
        "# 메소드 오버라이딩\n",
        "\n",
        "- 오버라이딩은 우선시하다라는 의미로, 상속처럼 부모클래스의 메소드를 재호출하는 것이 아니라 같은 이름의 메소드를 신규 생성하는 것이다.\n",
        "\n",
        "- 중복되는 기능(메소드)은 기존 부모클래스의 메소드(기능)로 재사용하고, 다르게 사용하려면 재정의하는 개념으로 활용할 수 있다.\n",
        "\n",
        "- 프로그래밍의 핵심이 되는 재사용을 위함이다."
      ]
    },
    {
      "cell_type": "code",
      "metadata": {
        "colab": {
          "base_uri": "https://localhost:8080/",
          "height": 105
        },
        "id": "JLwsoVTWvqBj",
        "outputId": "928a24ca-dbfc-4000-8d51-8aefc94c44a0"
      },
      "source": [
        "class Bicycle():\n",
        "     def exclaim(self):\n",
        "       print(\"부모클래스 자전거\")\n",
        "\n",
        "class Specialized(Bicycle):            # 부모클래스를 상속받음\n",
        "    def exclaim(self, specialized):    # 메소드 오버라이딩(specialized 파라미터 추가, return 추가)\n",
        "         print(\"자식클래스 재정의:\",specialized)\n",
        "         return 'return 자식클래스 재정의: '+specialized\n",
        "        #  return 'return 자식클래스 재정의: ', specialized\n",
        "\n",
        "a_bike = Bicycle()\n",
        "a_specialized = Specialized()\n",
        "\n",
        "# 출력1 - 부모클래스 메소드\n",
        "print('출력1:')\n",
        "a_bike.exclaim()\n",
        "\n",
        "# 출력2 - 오버라이딩된 자식클래스 메소드(파라미터 추가, return 추가)\n",
        "print('출력2:')\n",
        "a_specialized.exclaim('specialized test')"
      ],
      "execution_count": null,
      "outputs": [
        {
          "output_type": "stream",
          "name": "stdout",
          "text": [
            "출력1:\n",
            "부모클래스 자전거\n",
            "출력2:\n",
            "자식클래스 재정의: specialized test\n"
          ]
        },
        {
          "output_type": "execute_result",
          "data": {
            "application/vnd.google.colaboratory.intrinsic+json": {
              "type": "string"
            },
            "text/plain": [
              "'return 자식클래스 재정의: specialized test'"
            ]
          },
          "metadata": {},
          "execution_count": 14
        }
      ]
    },
    {
      "cell_type": "code",
      "metadata": {
        "colab": {
          "base_uri": "https://localhost:8080/"
        },
        "id": "IWPH5d8QxL7s",
        "outputId": "bf805cae-534b-4a08-f0cf-2e172aee73aa"
      },
      "source": [
        "class Bicycle():\n",
        "    def exclaim(self):  \n",
        "        print(\"부모클래스 자전거\")\n",
        "\n",
        "class Specialized(Bicycle): # 부모클래스를 상속받음\n",
        "    def exclaim(self):    # 메소드 오버라이딩\n",
        "        super().exclaim() # super는 위의 부모클래스 메소드를 그대로 활용한다.\n",
        "        print('super를 활용한 부모클래스의 메소드입니다.')\n",
        "         \n",
        "\n",
        "\n",
        "a_bike = Bicycle()\n",
        "a_specialized = Specialized()\n",
        "\n",
        "# 출력1 - 부모클래스 메소드\n",
        "print('출력1:')\n",
        "a_bike.exclaim()\n",
        "\n",
        "# 출력2 - super : 부모클래스 메소드 그대로 활용\n",
        "print('출력2:')\n",
        "a_specialized.exclaim()"
      ],
      "execution_count": null,
      "outputs": [
        {
          "output_type": "stream",
          "name": "stdout",
          "text": [
            "출력1:\n",
            "부모클래스 자전거\n",
            "출력2:\n",
            "부모클래스 자전거\n",
            "super를 활용한 부모클래스의 메소드입니다.\n"
          ]
        }
      ]
    },
    {
      "cell_type": "code",
      "metadata": {
        "colab": {
          "base_uri": "https://localhost:8080/"
        },
        "id": "0Imv6P15x9Ue",
        "outputId": "6f8efe0a-64f6-40cc-b02d-b98cb4573849"
      },
      "source": [
        "class Student:    # 부모클래스\n",
        "     def __init__(self, name):\n",
        "         self.name = name\n",
        "         print(self.name)\n",
        "\n",
        "class Graduate(Student):    # 부모클래스 상속받음\n",
        "     def __init__(self, name, graduation_date): \n",
        "         super().__init__(name)   # super를 활용하여 부모 메소드를 호출하여 name 매개변수 재사용(super를 사용하면 부모클래스의 상속받는다는 것을 의미함)\n",
        "         self.graduation_date = graduation_date\n",
        "\n",
        "print('출력1: ', end='')\n",
        "a_student = Student('stu_class')  # stu_class\n",
        "print('출력2: ', end='')\n",
        "a_graduate = Graduate('gradu_class',11)  #  gradu_class\n",
        "\n",
        "print('출력3: ', end='')\n",
        "a_student.__init__('stu')  # stu\n",
        "print('출력4: ', end='')\n",
        "a_graduate.__init__('gradu',11)  #  gradu\n",
        "\n",
        "# graduate 인스턴스 생성\n",
        "print('출력5: ', end='')\n",
        "print(a_graduate.name)  #gradu\n",
        "\n",
        "print('출력6: ', end='')\n",
        "print(a_graduate.graduation_date)  # 11"
      ],
      "execution_count": null,
      "outputs": [
        {
          "output_type": "stream",
          "name": "stdout",
          "text": [
            "출력1: stu_class\n",
            "출력2: gradu_class\n",
            "출력3: stu\n",
            "출력4: gradu\n",
            "출력5: gradu\n",
            "출력6: 11\n"
          ]
        }
      ]
    },
    {
      "cell_type": "markdown",
      "metadata": {
        "id": "9O-avUbY0qCv"
      },
      "source": [
        "## 리스트 반복의 경우 range와 enumerate 내장함수를 비교"
      ]
    },
    {
      "cell_type": "code",
      "metadata": {
        "colab": {
          "base_uri": "https://localhost:8080/"
        },
        "id": "1BM7405h0RGD",
        "outputId": "fee70181-62ba-4491-be60-f97501b4d335"
      },
      "source": [
        "# range보다는 enumerate를 사용한다.\n",
        "# range 내장 함수는 정수집합을 반복하는 상황에서 유용하다.\n",
        "\n",
        "# 하지만 리스트에 대해서 특정 인덱스에 따라 반복을 하는 경우, list의 길이를 알아야하고(len함수 써야함), \n",
        "# 인덱스를 사용해 배열원소에 접근해야 한다.(index함수 써야함)\n",
        "\n",
        "# case 1 - range를 통한 반복\n",
        "fla_list = ['A','B','C','D']\n",
        "\n",
        "len_list = len(fla_list)            # len을 통해 리스트 길이 확인\n",
        "index_list = fla_list.index('B')    # index를 통해 배열원소 접근\n",
        "\n",
        "for i in range(0, len_list):\n",
        "  print('range with len method : ',i)\n",
        "\n",
        "print('index method : ',index_list)"
      ],
      "execution_count": null,
      "outputs": [
        {
          "output_type": "stream",
          "name": "stdout",
          "text": [
            "range with len method :  0\n",
            "range with len method :  1\n",
            "range with len method :  2\n",
            "range with len method :  3\n",
            "index method :  1\n"
          ]
        }
      ]
    },
    {
      "cell_type": "code",
      "metadata": {
        "colab": {
          "base_uri": "https://localhost:8080/"
        },
        "id": "wUpsdIax0YTe",
        "outputId": "07cba56e-1d1c-4170-ca07-f1ec786c242b"
      },
      "source": [
        "# 리스트 반복의 경우 enumerate 내장함수를 사용해보는게 좋다.\n",
        "\n",
        "# case 2 - enumerate 활용\n",
        "fla_list = ['A','B','C','D']\n",
        "enu_list = enumerate(fla_list)\n",
        "print(enu_list)\n",
        "print(next(enu_list))\n",
        "print(next(enu_list))\n",
        "\n",
        "# enumerate는 인덱스와 값을 함께 출력해주기 때문에 상황에 따라 다양하게 활용해볼 수 있다.\n",
        "import timeit\n",
        "start_time = timeit.default_timer() # 시작 시간 체크\n",
        "\n",
        "for i,enu_list in enumerate(fla_list):\n",
        "  print(f'{i+1}: {enu_list}')\n",
        "\n",
        "end_time = timeit.default_timer()  \n",
        "print(\"%f 초 걸렸습니다.\" % (end_time - start_time))  # 코드실행시간 측정"
      ],
      "execution_count": null,
      "outputs": [
        {
          "output_type": "stream",
          "name": "stdout",
          "text": [
            "<enumerate object at 0x7fc9901044b0>\n",
            "(0, 'A')\n",
            "(1, 'B')\n",
            "1: A\n",
            "2: B\n",
            "3: C\n",
            "4: D\n",
            "0.001740 초 걸렸습니다.\n"
          ]
        }
      ]
    },
    {
      "cell_type": "code",
      "metadata": {
        "colab": {
          "base_uri": "https://localhost:8080/"
        },
        "id": "olKif13d0ZVX",
        "outputId": "07819bfc-64c9-4eb0-9506-7537e1faef24"
      },
      "source": [
        "# 위의 방법을 range로 해보고 비교해보자.\n",
        "import timeit\n",
        "start_time = timeit.default_timer() # 시작 시간 체크\n",
        "\n",
        "for i in range(0,len(fla_list)):\n",
        "  fla = fla_list[i]\n",
        "  print(f'{i+1}: {fla}')\n",
        "\n",
        "end_time = timeit.default_timer()  \n",
        "print(\"%f 초 걸렸습니다.\" % (end_time - start_time))  # 코드실행시간 측정"
      ],
      "execution_count": null,
      "outputs": [
        {
          "output_type": "stream",
          "name": "stdout",
          "text": [
            "1: A\n",
            "2: B\n",
            "3: C\n",
            "4: D\n",
            "0.003319 초 걸렸습니다.\n"
          ]
        }
      ]
    },
    {
      "cell_type": "markdown",
      "metadata": {
        "id": "ro1epIC96GRk"
      },
      "source": [
        "# 자료구조\n",
        "\n",
        "- 자료를 쉽게 관리하기 위해 다양한 구조로 묶는 것\n",
        "- 파이썬이라는 프로그래밍언어와는 별개로, 실생활에서 발생하는 대용량의 다양한 데이터를 효율적으로 처리(저장)하기위해 개발된 개념\n",
        "- 여기서 효율적인 처리란?\n",
        "\n",
        "자동화\n",
        "\n",
        "빠른 계산(계산기)\n",
        "\n",
        "반복되는 내용 처리\n",
        "\n",
        "여러개의 값을 한 번에 처리\n",
        "\n",
        "값이 빠르게 변경되는 경우에 대한 처리\n",
        "\n",
        "특정 변수에 대한 처리\n",
        "\n",
        "특정 값을 다양한 형태로 보기를 원하는 경우\n",
        "\n",
        "조건에 따른 처리"
      ]
    },
    {
      "cell_type": "markdown",
      "metadata": {
        "id": "PkI4nsHXB7FE"
      },
      "source": [
        "- 자료구조라는 개념이 있기 전에는 필요할 때마다 변수를 만들어서 사용했다.\n",
        "- 배열의 개념이 생겼고 배열요소와 인덱스를 활용되어 배열이 구성된다.\n",
        " -  arr[0],arr[1],arr[2],arr[3]는 배열요소를 뜻하고, [0],[1],[2],[3]는 인덱스를 뜻한다."
      ]
    },
    {
      "cell_type": "code",
      "metadata": {
        "id": "BGW8kIke6i2t",
        "outputId": "06ac067a-cd52-413e-ab04-d1e2ae5ea5ce",
        "colab": {
          "base_uri": "https://localhost:8080/"
        }
      },
      "source": [
        "# 인트로 코딩\n",
        "# 특정 두 수의 합과 같은 인덱스값을 찾자.\n",
        "def twonumbersum(numbers, result):\n",
        "  for i in range(len(numbers)):\n",
        "    for j in range(i+1, len(numbers)):\n",
        "      if numbers[i] + numbers[j] == result:\n",
        "        return [i,j]\n",
        "\n",
        "# 리스트값을 받기 위한 코드: 리스트 컴프리헨션 & 리스트 메소드(split) 활용\n",
        "# input 예시: 10,5,7\n",
        "numbers = [int(numbers) for numbers in input(\"리스트값을 입력하세요 : \").split(',')]  # input(\"리스트값을 입력하세요 : \").split(',') 은 리스트형으로 받는다. input은 str형으로 받는다. \n",
        "# input 예시: 17\n",
        "result = int(input(\"두 수의 합을 입력하세요 : \"))\n",
        "\n",
        "print(\"인덱스값 : \", twonumbersum(numbers,result))"
      ],
      "execution_count": 3,
      "outputs": [
        {
          "output_type": "stream",
          "name": "stdout",
          "text": [
            "리스트값을 입력하세요 : 10, 5, 7\n",
            "두 수의 합을 입력하세요 : 17\n",
            "인덱스값 :  [0, 2]\n"
          ]
        }
      ]
    },
    {
      "cell_type": "code",
      "metadata": {
        "id": "FRmTyk4_0OJG",
        "outputId": "a2ee23fb-0bca-4b12-bcf1-4c07c7a4fa9f",
        "colab": {
          "base_uri": "https://localhost:8080/"
        }
      },
      "source": [
        "a = input(\"리스트값을 입력하세요 : \")"
      ],
      "execution_count": 7,
      "outputs": [
        {
          "name": "stdout",
          "output_type": "stream",
          "text": [
            "리스트값을 입력하세요 : 10\n"
          ]
        }
      ]
    },
    {
      "cell_type": "code",
      "metadata": {
        "id": "icTrz6Vv9fRk",
        "outputId": "18c11b3c-715f-4af4-c87c-421c69cc3088",
        "colab": {
          "base_uri": "https://localhost:8080/"
        }
      },
      "source": [
        "type(a)"
      ],
      "execution_count": 8,
      "outputs": [
        {
          "output_type": "execute_result",
          "data": {
            "text/plain": [
              "str"
            ]
          },
          "metadata": {},
          "execution_count": 8
        }
      ]
    },
    {
      "cell_type": "markdown",
      "metadata": {
        "id": "AOePK-ZJANbG"
      },
      "source": [
        "보통 함수와 값만 작성하는데 argument를 전달할 때 변수이름과 값을 넘겨주는 방식이 있다."
      ]
    },
    {
      "cell_type": "code",
      "metadata": {
        "id": "ORiOk1iF92b6",
        "outputId": "7ddcc384-baf4-484e-9590-6f0a7035d0b9",
        "colab": {
          "base_uri": "https://localhost:8080/"
        }
      },
      "source": [
        "# 함수에 값만 전달하는 경우\n",
        "def remainder(num, div):\n",
        "    return num % div\n",
        "\n",
        "print(remainder(20, 7))   # argument에 값 전달"
      ],
      "execution_count": 9,
      "outputs": [
        {
          "output_type": "stream",
          "name": "stdout",
          "text": [
            "6\n"
          ]
        }
      ]
    },
    {
      "cell_type": "code",
      "metadata": {
        "id": "UQih-TP0AB96",
        "outputId": "e32f0984-e84d-439f-93d7-98710ac12b44",
        "colab": {
          "base_uri": "https://localhost:8080/"
        }
      },
      "source": [
        "# case 1 - 함수에 변수이름과 값을 함께 전달하는 경우\n",
        "#case 1처럼 코드를 작성하게 되면 대규모 프로젝트를 진행하는 경우에 처음 코드를 보는 사람도 함수에 전달되는 값이 무엇인지 알 수 있다.\n",
        "def remainder(num, div):\n",
        "    return num % div\n",
        "\n",
        "print(remainder(num = 20, div = 7))"
      ],
      "execution_count": 10,
      "outputs": [
        {
          "output_type": "stream",
          "name": "stdout",
          "text": [
            "6\n"
          ]
        }
      ]
    },
    {
      "cell_type": "code",
      "metadata": {
        "id": "MPdlS3yyAFs6"
      },
      "source": [
        "# case 2 - 함수에 디폴트값을 할당해주는 경우 : 이 방법은 함수에 전달되는 argument값이 고정값일 때 유연하게 쓰일 수 있다.\n",
        "def remainder(test, num = 5, div = 2):\n",
        "    return num % div\n",
        "\n",
        "print(remainder(test = 7))"
      ],
      "execution_count": null,
      "outputs": []
    },
    {
      "cell_type": "markdown",
      "metadata": {
        "id": "PTUnjhIZAWWK"
      },
      "source": [
        "## 배열의 구현 : 리스트&튜플\n",
        "자료구조의 다양한 활용 : 자료구조를 체계적으로 정립하기 위해 프로그래밍 언어별로 다양한 자료형이 생겨났고, 파이썬에서는 리스트와 튜플을 통해 자료구조의 기본인 배열을 구현할 수 있게 되었다.\n",
        "\n",
        "- 배열의 기능은 각각의 변수를 하나의 변수에 여러 개의 인덱스로 묶는 것이다. 예시 : arr[5]\n",
        "\n",
        "- 배열의 특징 : 인덱스 사용하여 노드에 접근가능\n",
        "\n",
        "- 연결리스트의 특징 : 인덱스 크기를 자유롭게 확장가능, 서로 다른 자료형을 노드로 갖을 수 있다.\n",
        "\n",
        "- 파이썬의 리스트는 자료구조의 배열과 연결리스트의 특징을 모두 갖고 있다.\n",
        "\n",
        "즉, 파이썬이라는 프로그래밍 언어는 기존 프로그래밍에서 발생한 어려운 점을 부분적으로 개선시켰다\n",
        "\n",
        "- 리스트는 임의의 메모리(위치)에 자료를 동적으로 처리할 수 있다."
      ]
    },
    {
      "cell_type": "code",
      "metadata": {
        "id": "MNSt4zEzCM6U",
        "outputId": "951d58fa-9fa9-44ff-8e64-d70fb063dfb4",
        "colab": {
          "base_uri": "https://localhost:8080/"
        }
      },
      "source": [
        "# 파이썬의 리스트를 활용하여 배열이 어떻게 구성되어있는지 알아보자.\n",
        "\n",
        "arr = [1,2,3,4,5,6] # 리스트 이름선언 및 값 할당\n",
        "\n",
        "for i in range(0,arr[5]):   # 반복문을 활용하여 코드 한 줄로 리스트전체를 출력한다.(반복과 자동화개념)\n",
        "  print('배열요소 : ', arr[i], ', 배열인덱스 : ', [i])"
      ],
      "execution_count": 11,
      "outputs": [
        {
          "output_type": "stream",
          "name": "stdout",
          "text": [
            "배열요소 :  1 , 배열인덱스 :  [0]\n",
            "배열요소 :  2 , 배열인덱스 :  [1]\n",
            "배열요소 :  3 , 배열인덱스 :  [2]\n",
            "배열요소 :  4 , 배열인덱스 :  [3]\n",
            "배열요소 :  5 , 배열인덱스 :  [4]\n",
            "배열요소 :  6 , 배열인덱스 :  [5]\n"
          ]
        }
      ]
    },
    {
      "cell_type": "code",
      "metadata": {
        "id": "8KIutfFgCNKb",
        "outputId": "b6d04232-68d6-4325-a349-5230423c84a8",
        "colab": {
          "base_uri": "https://localhost:8080/",
          "height": 294
        }
      },
      "source": [
        "# len() 함수를 활용하여 배열의 원소길이 구하기\n",
        "# 기존에 파이썬에서 배웠던 리스트 메소드이다.\n",
        "\n",
        "x = [15,'x',20,13,['a','b'], 'cde','1']\n",
        "\n",
        "# 리스트의 전체 길이 출력\n",
        "print(len(x))\n",
        "# 리스트의 특정 인덱스의 길이 출력\n",
        "print(x[1],'의 length: ', len(x[1]))\n",
        "print(x[4],'의 length: ',len(x[4]))\n",
        "print(x[5],'의 length: ',len(x[5]))\n",
        "print(x[6],'의 length: ',len(x[6]))\n",
        "print(x[6],'의 length: ',len(x[0]))  # 주석 풀어서 에러파악  #TypeError: 'int' 유형의 개체에 len()이 없습니다."
      ],
      "execution_count": 13,
      "outputs": [
        {
          "output_type": "stream",
          "name": "stdout",
          "text": [
            "7\n",
            "x 의 length:  1\n",
            "['a', 'b'] 의 length:  2\n",
            "cde 의 length:  3\n",
            "1 의 length:  1\n"
          ]
        },
        {
          "output_type": "error",
          "ename": "TypeError",
          "evalue": "ignored",
          "traceback": [
            "\u001b[0;31m---------------------------------------------------------------------------\u001b[0m",
            "\u001b[0;31mTypeError\u001b[0m                                 Traceback (most recent call last)",
            "\u001b[0;32m<ipython-input-13-df46133366a4>\u001b[0m in \u001b[0;36m<module>\u001b[0;34m()\u001b[0m\n\u001b[1;32m     11\u001b[0m \u001b[0mprint\u001b[0m\u001b[0;34m(\u001b[0m\u001b[0mx\u001b[0m\u001b[0;34m[\u001b[0m\u001b[0;36m5\u001b[0m\u001b[0;34m]\u001b[0m\u001b[0;34m,\u001b[0m\u001b[0;34m'의 length: '\u001b[0m\u001b[0;34m,\u001b[0m\u001b[0mlen\u001b[0m\u001b[0;34m(\u001b[0m\u001b[0mx\u001b[0m\u001b[0;34m[\u001b[0m\u001b[0;36m5\u001b[0m\u001b[0;34m]\u001b[0m\u001b[0;34m)\u001b[0m\u001b[0;34m)\u001b[0m\u001b[0;34m\u001b[0m\u001b[0;34m\u001b[0m\u001b[0m\n\u001b[1;32m     12\u001b[0m \u001b[0mprint\u001b[0m\u001b[0;34m(\u001b[0m\u001b[0mx\u001b[0m\u001b[0;34m[\u001b[0m\u001b[0;36m6\u001b[0m\u001b[0;34m]\u001b[0m\u001b[0;34m,\u001b[0m\u001b[0;34m'의 length: '\u001b[0m\u001b[0;34m,\u001b[0m\u001b[0mlen\u001b[0m\u001b[0;34m(\u001b[0m\u001b[0mx\u001b[0m\u001b[0;34m[\u001b[0m\u001b[0;36m6\u001b[0m\u001b[0;34m]\u001b[0m\u001b[0;34m)\u001b[0m\u001b[0;34m)\u001b[0m\u001b[0;34m\u001b[0m\u001b[0;34m\u001b[0m\u001b[0m\n\u001b[0;32m---> 13\u001b[0;31m \u001b[0mprint\u001b[0m\u001b[0;34m(\u001b[0m\u001b[0mx\u001b[0m\u001b[0;34m[\u001b[0m\u001b[0;36m6\u001b[0m\u001b[0;34m]\u001b[0m\u001b[0;34m,\u001b[0m\u001b[0;34m'의 length: '\u001b[0m\u001b[0;34m,\u001b[0m\u001b[0mlen\u001b[0m\u001b[0;34m(\u001b[0m\u001b[0mx\u001b[0m\u001b[0;34m[\u001b[0m\u001b[0;36m0\u001b[0m\u001b[0;34m]\u001b[0m\u001b[0;34m)\u001b[0m\u001b[0;34m)\u001b[0m  \u001b[0;31m# 주석 풀어서 에러파악\u001b[0m\u001b[0;34m\u001b[0m\u001b[0;34m\u001b[0m\u001b[0m\n\u001b[0m",
            "\u001b[0;31mTypeError\u001b[0m: object of type 'int' has no len()"
          ]
        }
      ]
    },
    {
      "cell_type": "code",
      "metadata": {
        "id": "_Xzpu17bCjHa",
        "outputId": "90e46228-77b5-49ff-f9e5-02206c1d4cd0",
        "colab": {
          "base_uri": "https://localhost:8080/"
        }
      },
      "source": [
        "# 리스트 인덱싱/슬라이싱 예시\n",
        "\n",
        "s = [11,22,33,44,55]\n",
        "\n",
        "print('s[0:3] 결과:', s[0:3])\n",
        "print('s[:3] 결과:', s[:3])\n",
        "print('s[1:] 결과:', s[1:])\n",
        "print('s[::2] 결과:', s[::2])\n",
        "print('s[0:1:3] 결과:', s[0:1:3])\n",
        "print('s[-3] 결과:', s[-3])\n",
        "print('s[-3:-1] 결과:', s[-3:-1])\n",
        "print('s[1:-1] 결과:', s[1:-1])"
      ],
      "execution_count": 16,
      "outputs": [
        {
          "output_type": "stream",
          "name": "stdout",
          "text": [
            "s[0:3] 결과: [11, 22, 33]\n",
            "s[:3] 결과: [11, 22, 33]\n",
            "s[1:] 결과: [22, 33, 44, 55]\n",
            "s[::2] 결과: [11, 33, 55]\n",
            "s[0:1:3] 결과: [11]\n",
            "s[-3] 결과: 33\n",
            "s[-3:-1] 결과: [33, 44]\n",
            "s[1:-1] 결과: [22, 33, 44]\n"
          ]
        }
      ]
    },
    {
      "cell_type": "markdown",
      "metadata": {
        "id": "JK42JmwNC_ar"
      },
      "source": [
        "## 리스트뒤집기 : for문 활용, 내장함수(reversed), 리스트메서드(reverse) + isalnum()\n",
        "알고리즘의 기본이 될 수 있는 문자열 메소드, 반복문, 조건문을 활용하여 다양한 프로그래밍을 배워보자."
      ]
    },
    {
      "cell_type": "code",
      "metadata": {
        "id": "_uctstjRCupq",
        "outputId": "c75177e0-b46e-4d45-b787-a68a1422f81d",
        "colab": {
          "base_uri": "https://localhost:8080/"
        }
      },
      "source": [
        "# 예시1 - 회문(팰린드롬)  \n",
        "\n",
        "def ispalindrome(s):\n",
        "    return_numbers = []\n",
        "    for char in s:\n",
        "        if char.isalnum():   #isalnum() : 문자열이 영어, 한글 혹은 숫자로 되어있으면 True 리턴, 아니면 False 리턴.https://it-neicebee.tistory.com/43\n",
        "            return_numbers.append(char.lower())\n",
        "      \n",
        "    while len(return_numbers) > 1:\n",
        "        if return_numbers.pop(0) != return_numbers.pop():  # pop(0) : 첫번째 요소 pop, pop() : 마지막 요소 pop\n",
        "            return False\n",
        "\n",
        "    return True\n",
        "\n",
        "test_string = input()\n",
        "print(ispalindrome(test_string))"
      ],
      "execution_count": 18,
      "outputs": [
        {
          "output_type": "stream",
          "name": "stdout",
          "text": [
            "1, 30, '&*(%', 'dklf'','한글'\n",
            "False\n"
          ]
        }
      ]
    },
    {
      "cell_type": "code",
      "metadata": {
        "id": "-ik_tgGWD_bd",
        "outputId": "8234543f-b18b-44e5-a792-d08495353f2d",
        "colab": {
          "base_uri": "https://localhost:8080/"
        }
      },
      "source": [
        "# 예시2 - 문자열 뒤집기(반복문과 조건문, 대입개념 활용)\n",
        "\n",
        "def reverse_string(strtest):\n",
        "  left, right = 0, len(strtest) - 1\n",
        "  while left < right:\n",
        "    strtest[left], strtest[right] = strtest[right], strtest[left]\n",
        "    left += 1\n",
        "    right -= 1\n",
        "\n",
        "  return strtest\n",
        "\n",
        "strtest =['a','b','c','d','e']\n",
        "print(reverse_string(strtest))\n",
        "print(strtest) # 위의 print 결과와 비교해보자."
      ],
      "execution_count": 20,
      "outputs": [
        {
          "output_type": "stream",
          "name": "stdout",
          "text": [
            "['e', 'd', 'c', 'b', 'a']\n",
            "['e', 'd', 'c', 'b', 'a']\n"
          ]
        }
      ]
    },
    {
      "cell_type": "code",
      "metadata": {
        "id": "jy3PgrB5ErPR",
        "outputId": "7df9e841-4c8b-4bd8-9961-b6b9799c6207",
        "colab": {
          "base_uri": "https://localhost:8080/"
        }
      },
      "source": [
        "# 예시3 - 문자열 뒤집기(리스트에서 제공하는 메소드 사용)\n",
        "strtest2 =['a','b','c','d']\n",
        "lever = strtest2.reverse()\n",
        "\n",
        "# 리스트 메소드를 사용하면 특정값을 반환하는 것이 아니라, 문자열을 뒤집어주는 기능만 한다.\n",
        "# 그래서 기능을 print를 해보면 함수에 대한 print를 하기 때문에 None이 출력된다.\n",
        "# print(strtest2.reverse())  # 이 위치에서 이걸 활성화하면 reverse메소드가 활성화되서 위에 뒤집었던 dcba를 다시 뒤집어버림..\n",
        "print(lever)\n",
        "print(strtest2) "
      ],
      "execution_count": 44,
      "outputs": [
        {
          "output_type": "stream",
          "name": "stdout",
          "text": [
            "None\n",
            "['d', 'c', 'b', 'a']\n"
          ]
        }
      ]
    },
    {
      "cell_type": "code",
      "metadata": {
        "id": "ZYzL2CyBEsfp",
        "outputId": "d66746d5-b113-463f-ab79-982b3ddee90f",
        "colab": {
          "base_uri": "https://localhost:8080/"
        }
      },
      "source": [
        "# 예시4 - 문자열 뒤집기(리스트에서 제공하는 메소드가 아닌, 파이썬의 내장함수 활용)\n",
        "strtest3 =['a','b','c','d']\n",
        "tuple_test =('a','b','c','d')\n",
        "\n",
        "print(strtest3) \n",
        "print(reversed(strtest3))\n",
        "print(list(reversed(strtest3)))\n",
        "print(tuple(reversed(strtest3)))\n",
        "print(strtest3)"
      ],
      "execution_count": 25,
      "outputs": [
        {
          "output_type": "stream",
          "name": "stdout",
          "text": [
            "['a', 'b', 'c', 'd']\n",
            "<list_reverseiterator object at 0x7fafbf81a690>\n",
            "['d', 'c', 'b', 'a']\n",
            "('d', 'c', 'b', 'a')\n",
            "['a', 'b', 'c', 'd']\n"
          ]
        }
      ]
    }
  ]
}