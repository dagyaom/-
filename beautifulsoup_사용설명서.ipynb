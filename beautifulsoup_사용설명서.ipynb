{
  "nbformat": 4,
  "nbformat_minor": 0,
  "metadata": {
    "colab": {
      "name": "beautifulsoup 사용설명서.ipynb",
      "provenance": [],
      "collapsed_sections": [],
      "toc_visible": true,
      "authorship_tag": "ABX9TyNCrJ01V/spV4pEtLKL5S6J",
      "include_colab_link": true
    },
    "kernelspec": {
      "name": "python3",
      "display_name": "Python 3"
    },
    "language_info": {
      "name": "python"
    }
  },
  "cells": [
    {
      "cell_type": "markdown",
      "metadata": {
        "id": "view-in-github",
        "colab_type": "text"
      },
      "source": [
        "<a href=\"https://colab.research.google.com/github/dagyeom23658/Python_Practice/blob/main/beautifulsoup_%EC%82%AC%EC%9A%A9%EC%84%A4%EB%AA%85%EC%84%9C.ipynb\" target=\"_parent\"><img src=\"https://colab.research.google.com/assets/colab-badge.svg\" alt=\"Open In Colab\"/></a>"
      ]
    },
    {
      "cell_type": "code",
      "metadata": {
        "id": "LGpn0x7xfDM0"
      },
      "source": [
        "html_doc = \"\"\"<html><head><title>The Dormouse's story</title></head>\n",
        "<body>\n",
        "<p class=\"title\"><b>The Dormouse's story</b></p>\n",
        "\n",
        "<p class=\"story\">Once upon a time there were three little sisters; and their names were\n",
        "<a href=\"http://example.com/elsie\" class=\"sister\" id=\"link1\">Elsie</a>,\n",
        "<a href=\"http://example.com/lacie\" class=\"sister\" id=\"link2\">Lacie</a> and\n",
        "<a href=\"http://example.com/tillie\" class=\"sister\" id=\"link3\">Tillie</a>;\n",
        "and they lived at the bottom of a well.</p>\n",
        "\n",
        "<p class=\"story\">...</p>\n",
        "\"\"\""
      ],
      "execution_count": 1,
      "outputs": []
    },
    {
      "cell_type": "markdown",
      "metadata": {
        "id": "l7gCzMYGrkNn"
      },
      "source": [
        "# 설치"
      ]
    },
    {
      "cell_type": "code",
      "metadata": {
        "colab": {
          "base_uri": "https://localhost:8080/"
        },
        "id": "2QapS8Wsjyss",
        "outputId": "d7e500c7-6bde-4108-bd60-fa4098ec7f60"
      },
      "source": [
        "pip install bs4"
      ],
      "execution_count": 4,
      "outputs": [
        {
          "output_type": "stream",
          "name": "stdout",
          "text": [
            "Requirement already satisfied: bs4 in /usr/local/lib/python3.7/dist-packages (0.0.1)\n",
            "Requirement already satisfied: beautifulsoup4 in /usr/local/lib/python3.7/dist-packages (from bs4) (4.6.3)\n"
          ]
        }
      ]
    },
    {
      "cell_type": "code",
      "metadata": {
        "colab": {
          "base_uri": "https://localhost:8080/"
        },
        "id": "F6V_bsk5nZ2P",
        "outputId": "507f3d20-6634-4e7f-eb8c-22bd0226e8c0"
      },
      "source": [
        "pip install beautifulsoup4"
      ],
      "execution_count": 31,
      "outputs": [
        {
          "output_type": "stream",
          "name": "stdout",
          "text": [
            "Requirement already satisfied: beautifulsoup4 in /usr/local/lib/python3.7/dist-packages (4.6.3)\n"
          ]
        }
      ]
    },
    {
      "cell_type": "markdown",
      "metadata": {
        "id": "1HQjZxC_rmgV"
      },
      "source": [
        "# 뷰티풀숲 객체만들기/ 프리티파이"
      ]
    },
    {
      "cell_type": "code",
      "metadata": {
        "colab": {
          "base_uri": "https://localhost:8080/"
        },
        "id": "cIvs1390fEoe",
        "outputId": "5ec69294-d01e-4a90-d55e-c505ac7c1a3b"
      },
      "source": [
        "from bs4 import BeautifulSoup\n",
        "soup = BeautifulSoup(html_doc, 'html.parser')\n",
        "print(soup)\n",
        "print('--------')\n",
        "print(soup.prettify())"
      ],
      "execution_count": 13,
      "outputs": [
        {
          "output_type": "stream",
          "name": "stdout",
          "text": [
            "<html><head><title>The Dormouse's story</title></head>\n",
            "<body>\n",
            "<p class=\"title\"><b>The Dormouse's story</b></p>\n",
            "<p class=\"story\">Once upon a time there were three little sisters; and their names were\n",
            "<a class=\"sister\" href=\"http://example.com/elsie\" id=\"link1\">Elsie</a>,\n",
            "<a class=\"sister\" href=\"http://example.com/lacie\" id=\"link2\">Lacie</a> and\n",
            "<a class=\"sister\" href=\"http://example.com/tillie\" id=\"link3\">Tillie</a>;\n",
            "and they lived at the bottom of a well.</p>\n",
            "<p class=\"story\">...</p>\n",
            "</body></html>\n",
            "--------\n",
            "<html>\n",
            " <head>\n",
            "  <title>\n",
            "   The Dormouse's story\n",
            "  </title>\n",
            " </head>\n",
            " <body>\n",
            "  <p class=\"title\">\n",
            "   <b>\n",
            "    The Dormouse's story\n",
            "   </b>\n",
            "  </p>\n",
            "  <p class=\"story\">\n",
            "   Once upon a time there were three little sisters; and their names were\n",
            "   <a class=\"sister\" href=\"http://example.com/elsie\" id=\"link1\">\n",
            "    Elsie\n",
            "   </a>\n",
            "   ,\n",
            "   <a class=\"sister\" href=\"http://example.com/lacie\" id=\"link2\">\n",
            "    Lacie\n",
            "   </a>\n",
            "   and\n",
            "   <a class=\"sister\" href=\"http://example.com/tillie\" id=\"link3\">\n",
            "    Tillie\n",
            "   </a>\n",
            "   ;\n",
            "and they lived at the bottom of a well.\n",
            "  </p>\n",
            "  <p class=\"story\">\n",
            "   ...\n",
            "  </p>\n",
            " </body>\n",
            "</html>\n"
          ]
        }
      ]
    },
    {
      "cell_type": "code",
      "metadata": {
        "colab": {
          "base_uri": "https://localhost:8080/"
        },
        "id": "UgHdJ35skuFN",
        "outputId": "21892eb2-3ba9-4002-9e7a-e1062d7aa148"
      },
      "source": [
        "print(soup.title)\n",
        "print(soup.title.name)\n",
        "print(soup.title.string)\n",
        "print(soup.title.parent.name)\n",
        "print(soup.p)\n",
        "print(soup.p['class'])\n",
        "print(soup.p.b.string) # 문자열 추출.\n",
        "print(soup.a)\n",
        "print(soup.find_all('a'))\n",
        "print(soup.find(id='link3'))"
      ],
      "execution_count": 26,
      "outputs": [
        {
          "output_type": "stream",
          "name": "stdout",
          "text": [
            "<title>The Dormouse's story</title>\n",
            "title\n",
            "The Dormouse's story\n",
            "head\n",
            "<p class=\"title\"><b>The Dormouse's story</b></p>\n",
            "['title']\n",
            "The Dormouse's story\n",
            "<a class=\"sister\" href=\"http://example.com/elsie\" id=\"link1\">Elsie</a>\n",
            "[<a class=\"sister\" href=\"http://example.com/elsie\" id=\"link1\">Elsie</a>, <a class=\"sister\" href=\"http://example.com/lacie\" id=\"link2\">Lacie</a>, <a class=\"sister\" href=\"http://example.com/tillie\" id=\"link3\">Tillie</a>]\n",
            "<a class=\"sister\" href=\"http://example.com/tillie\" id=\"link3\">Tillie</a>\n"
          ]
        }
      ]
    },
    {
      "cell_type": "markdown",
      "metadata": {
        "id": "CLZJVrZnryEa"
      },
      "source": [
        "## 태그 내에 있는 모든 URL을 추출하기<a;>  <href;>"
      ]
    },
    {
      "cell_type": "code",
      "metadata": {
        "colab": {
          "base_uri": "https://localhost:8080/"
        },
        "id": "TSlpC82PmrBs",
        "outputId": "ce57e8ef-880d-438e-8279-ba96920a0bd3"
      },
      "source": [
        "# <a> 태그 내에 있는 모든 URL을 추출하기.\n",
        "for link in soup.find_all('a'):\n",
        "    print(link.get('href'))"
      ],
      "execution_count": 28,
      "outputs": [
        {
          "output_type": "stream",
          "name": "stdout",
          "text": [
            "http://example.com/elsie\n",
            "http://example.com/lacie\n",
            "http://example.com/tillie\n"
          ]
        }
      ]
    },
    {
      "cell_type": "markdown",
      "metadata": {
        "id": "7_nt7YA8r39Q"
      },
      "source": [
        "## 페이지에서 모든 텍스트를 추출"
      ]
    },
    {
      "cell_type": "code",
      "metadata": {
        "colab": {
          "base_uri": "https://localhost:8080/"
        },
        "id": "uvSdHM0Jm3WF",
        "outputId": "3631eb22-705e-4c7f-cafb-641c58aa22d1"
      },
      "source": [
        "#페이지에서 모든 텍스트를 추출\n",
        "print(soup.get_text())"
      ],
      "execution_count": 29,
      "outputs": [
        {
          "output_type": "stream",
          "name": "stdout",
          "text": [
            "The Dormouse's story\n",
            "\n",
            "The Dormouse's story\n",
            "Once upon a time there were three little sisters; and their names were\n",
            "Elsie,\n",
            "Lacie and\n",
            "Tillie;\n",
            "and they lived at the bottom of a well.\n",
            "...\n",
            "\n"
          ]
        }
      ]
    },
    {
      "cell_type": "markdown",
      "metadata": {
        "id": "bnMRU0BIsfyQ"
      },
      "source": [
        "# 객체의 종류\n",
        "- Beautiful Soup은 복잡한 HTML 문서를 Python 개체의 복잡한 트리로 변환합니다. 그러나 Tag, NavigableString, BeautifulSoup 및 Comment의 약 4가지 종류의 객체만 처리하면 됩니다."
      ]
    },
    {
      "cell_type": "markdown",
      "metadata": {
        "id": "jNUKwS_PtI4U"
      },
      "source": [
        "## Tag"
      ]
    },
    {
      "cell_type": "code",
      "metadata": {
        "colab": {
          "base_uri": "https://localhost:8080/"
        },
        "id": "H94NXSyXikCu",
        "outputId": "1a43e13f-1c51-4ae1-c4c9-b65d1f55fc0e"
      },
      "source": [
        "# <class 'bs4.element.Tag'>\n",
        "\n",
        "soup = BeautifulSoup('<b class=\"boldest\">Extremely bold</b>', 'html.parser')\n",
        "tag = soup.b\n",
        "print(tag)\n",
        "type(tag)"
      ],
      "execution_count": 33,
      "outputs": [
        {
          "output_type": "stream",
          "name": "stdout",
          "text": [
            "<b class=\"boldest\">Extremely bold</b>\n"
          ]
        },
        {
          "output_type": "execute_result",
          "data": {
            "text/plain": [
              "bs4.element.Tag"
            ]
          },
          "metadata": {},
          "execution_count": 33
        }
      ]
    },
    {
      "cell_type": "code",
      "metadata": {
        "colab": {
          "base_uri": "https://localhost:8080/",
          "height": 35
        },
        "id": "K8x0GODusWjV",
        "outputId": "8f7e5bae-e962-4b75-9198-e1b5db9d8862"
      },
      "source": [
        "# name\n",
        "tag.name"
      ],
      "execution_count": 34,
      "outputs": [
        {
          "output_type": "execute_result",
          "data": {
            "application/vnd.google.colaboratory.intrinsic+json": {
              "type": "string"
            },
            "text/plain": [
              "'b'"
            ]
          },
          "metadata": {},
          "execution_count": 34
        }
      ]
    },
    {
      "cell_type": "code",
      "metadata": {
        "colab": {
          "base_uri": "https://localhost:8080/"
        },
        "id": "Wd8cH-1XsrnC",
        "outputId": "815b4295-e400-4668-e82d-fcc6d3ce3ed5"
      },
      "source": [
        "#태그 이름을 변경하면 변경 사항이 Beautiful Soup에서 생성된 HTML 마크업에 반영됩니다.\n",
        "tag.name = \"blockquote\"\n",
        "tag"
      ],
      "execution_count": 35,
      "outputs": [
        {
          "output_type": "execute_result",
          "data": {
            "text/plain": [
              "<blockquote class=\"boldest\">Extremely bold</blockquote>"
            ]
          },
          "metadata": {},
          "execution_count": 35
        }
      ]
    },
    {
      "cell_type": "markdown",
      "metadata": {
        "id": "T3-J2V3MtGAQ"
      },
      "source": [
        "### 태그 속성에 접근하기"
      ]
    },
    {
      "cell_type": "code",
      "metadata": {
        "colab": {
          "base_uri": "https://localhost:8080/",
          "height": 35
        },
        "id": "qaRgM6Uns_WE",
        "outputId": "d34e1d82-d734-4bdc-d7c7-509d4d0959b3"
      },
      "source": [
        "tag = BeautifulSoup('<b id=\"boldest\">bold</b>', 'html.parser').b\n",
        "tag['id']"
      ],
      "execution_count": 36,
      "outputs": [
        {
          "output_type": "execute_result",
          "data": {
            "application/vnd.google.colaboratory.intrinsic+json": {
              "type": "string"
            },
            "text/plain": [
              "'boldest'"
            ]
          },
          "metadata": {},
          "execution_count": 36
        }
      ]
    },
    {
      "cell_type": "code",
      "metadata": {
        "colab": {
          "base_uri": "https://localhost:8080/"
        },
        "id": "Wr4S9eUVtSgE",
        "outputId": "da032ed0-68a4-45fe-b25e-fea886cca4f9"
      },
      "source": [
        "tag.attrs"
      ],
      "execution_count": 37,
      "outputs": [
        {
          "output_type": "execute_result",
          "data": {
            "text/plain": [
              "{'id': 'boldest'}"
            ]
          },
          "metadata": {},
          "execution_count": 37
        }
      ]
    },
    {
      "cell_type": "code",
      "metadata": {
        "id": "AFuoTB94tbXS"
      },
      "source": [
        "# add, remove, and modify a tag’s attributes. \n",
        "\n",
        "tag['id'] = 'verybold'\n",
        "tag['another-attribute'] = 1\n",
        "tag\n",
        "# <b another-attribute=\"1\" id=\"verybold\"></b>\n",
        "\n",
        "del tag['id']\n",
        "del tag['another-attribute']\n",
        "tag\n",
        "# <b>bold</b>\n",
        "\n",
        "tag['id']\n",
        "# KeyError: 'id'\n",
        "tag.get('id')\n",
        "# None"
      ],
      "execution_count": null,
      "outputs": []
    },
    {
      "cell_type": "markdown",
      "metadata": {
        "id": "H3BABPI2uCRy"
      },
      "source": [
        "### 다중값 속성\n"
      ]
    },
    {
      "cell_type": "code",
      "metadata": {
        "colab": {
          "base_uri": "https://localhost:8080/"
        },
        "id": "HFVwQx2MtqhO",
        "outputId": "4a6a8391-048a-4f20-becf-9b1fd5ee137a"
      },
      "source": [
        "css_soup = BeautifulSoup('<p class=\"body\"></p>', 'html.parser')\n",
        "css_soup.p['class']\n",
        "# ['body']\n",
        "\n",
        "css_soup = BeautifulSoup('<p class=\"body strikeout\"></p>', 'html.parser')\n",
        "css_soup.p['class']\n",
        "# ['body', 'strikeout']"
      ],
      "execution_count": 39,
      "outputs": [
        {
          "output_type": "execute_result",
          "data": {
            "text/plain": [
              "['body', 'strikeout']"
            ]
          },
          "metadata": {},
          "execution_count": 39
        }
      ]
    },
    {
      "cell_type": "code",
      "metadata": {
        "colab": {
          "base_uri": "https://localhost:8080/"
        },
        "id": "wqkMGG8I6ZKn",
        "outputId": "04f54707-4c9e-4ac7-8ab4-1e8d113155d6"
      },
      "source": [
        "rel_soup = BeautifulSoup('<p>Back to the <a rel=\"index\">homepage</a></p>', 'html.parser')\n",
        "rel_soup.a['rel'] = ['index', 'contents']\n",
        "print(rel_soup.p)"
      ],
      "execution_count": 4,
      "outputs": [
        {
          "output_type": "stream",
          "name": "stdout",
          "text": [
            "<p>Back to the <a rel=\"index contents\">homepage</a></p>\n"
          ]
        }
      ]
    },
    {
      "cell_type": "code",
      "metadata": {
        "colab": {
          "base_uri": "https://localhost:8080/",
          "height": 209
        },
        "id": "nWbQAFKm7ehh",
        "outputId": "f431cd95-c464-4f78-ab47-9940a6abcf45"
      },
      "source": [
        "no_list_soup = BeautifulSoup('<p class=\"body strikeout\"></p>', 'html.parser')\n",
        "id_soup.p.get_attribute_list('id')\n",
        "# [\"my id\"]"
      ],
      "execution_count": 7,
      "outputs": [
        {
          "output_type": "error",
          "ename": "NameError",
          "evalue": "ignored",
          "traceback": [
            "\u001b[0;31m---------------------------------------------------------------------------\u001b[0m",
            "\u001b[0;31mNameError\u001b[0m                                 Traceback (most recent call last)",
            "\u001b[0;32m<ipython-input-7-066baaf10b53>\u001b[0m in \u001b[0;36m<module>\u001b[0;34m()\u001b[0m\n\u001b[1;32m      1\u001b[0m \u001b[0mno_list_soup\u001b[0m \u001b[0;34m=\u001b[0m \u001b[0mBeautifulSoup\u001b[0m\u001b[0;34m(\u001b[0m\u001b[0;34m'<p class=\"body strikeout\"></p>'\u001b[0m\u001b[0;34m,\u001b[0m \u001b[0;34m'html.parser'\u001b[0m\u001b[0;34m)\u001b[0m\u001b[0;34m\u001b[0m\u001b[0;34m\u001b[0m\u001b[0m\n\u001b[0;32m----> 2\u001b[0;31m \u001b[0mid_soup\u001b[0m\u001b[0;34m.\u001b[0m\u001b[0mp\u001b[0m\u001b[0;34m.\u001b[0m\u001b[0mget_attribute_list\u001b[0m\u001b[0;34m(\u001b[0m\u001b[0;34m'id'\u001b[0m\u001b[0;34m)\u001b[0m\u001b[0;34m\u001b[0m\u001b[0;34m\u001b[0m\u001b[0m\n\u001b[0m\u001b[1;32m      3\u001b[0m \u001b[0;31m# [\"my id\"]\u001b[0m\u001b[0;34m\u001b[0m\u001b[0;34m\u001b[0m\u001b[0;34m\u001b[0m\u001b[0m\n",
            "\u001b[0;31mNameError\u001b[0m: name 'id_soup' is not defined"
          ]
        }
      ]
    },
    {
      "cell_type": "markdown",
      "metadata": {
        "id": "ftRwO5d_76VL"
      },
      "source": [
        "## NavigableString\n",
        "- 문자열은 .contents 또는 .string 속성 또는 find() 메서드를 지원하지 않습니다."
      ]
    },
    {
      "cell_type": "code",
      "metadata": {
        "colab": {
          "base_uri": "https://localhost:8080/"
        },
        "id": "FOr4MlnL7xfw",
        "outputId": "db92a64d-79fa-48c2-b5b8-2eb15fe67970"
      },
      "source": [
        "soup = BeautifulSoup('<b class=\"boldest\">Extremely bold</b>', 'html.parser')\n",
        "print(soup.b.string)\n",
        "type(soup.b.string)"
      ],
      "execution_count": 13,
      "outputs": [
        {
          "output_type": "stream",
          "name": "stdout",
          "text": [
            "Extremely bold\n"
          ]
        },
        {
          "output_type": "execute_result",
          "data": {
            "text/plain": [
              "bs4.element.NavigableString"
            ]
          },
          "metadata": {},
          "execution_count": 13
        }
      ]
    },
    {
      "cell_type": "code",
      "metadata": {
        "colab": {
          "base_uri": "https://localhost:8080/"
        },
        "id": "511ykqdd7jOA",
        "outputId": "44766ae4-153a-4c2d-d4a8-cc24019c5dac"
      },
      "source": [
        "unicode_string = str(soup.b.string)\n",
        "print(unicode_string)\n",
        "# 'Extremely bold'\n",
        "type(unicode_string)\n",
        "# <type 'str'>"
      ],
      "execution_count": 16,
      "outputs": [
        {
          "output_type": "stream",
          "name": "stdout",
          "text": [
            "Extremely bold\n"
          ]
        },
        {
          "output_type": "execute_result",
          "data": {
            "text/plain": [
              "str"
            ]
          },
          "metadata": {},
          "execution_count": 16
        }
      ]
    },
    {
      "cell_type": "code",
      "metadata": {
        "colab": {
          "base_uri": "https://localhost:8080/"
        },
        "id": "ik6HrWVn8D4v",
        "outputId": "080035cd-a308-4b55-fbe5-3f564eee89fc"
      },
      "source": [
        "# 대체도 가능하다. \n",
        "soup.b.string.replace_with(\"No longer bold\")\n",
        "soup"
      ],
      "execution_count": 17,
      "outputs": [
        {
          "output_type": "execute_result",
          "data": {
            "text/plain": [
              "<b class=\"boldest\">No longer bold</b>"
            ]
          },
          "metadata": {},
          "execution_count": 17
        }
      ]
    },
    {
      "cell_type": "markdown",
      "metadata": {
        "id": "U_nbeIwo9726"
      },
      "source": [
        "## Comments"
      ]
    },
    {
      "cell_type": "code",
      "metadata": {
        "colab": {
          "base_uri": "https://localhost:8080/"
        },
        "id": "wSHFLqo59A5f",
        "outputId": "0f64b12b-bd7f-4ef4-cbc7-42d64106651f"
      },
      "source": [
        "markup = \"<b><!--Hey, buddy. Want to buy a used parser?--></b>\"\n",
        "soup = BeautifulSoup(markup, 'html.parser')\n",
        "comment = soup.b.string\n",
        "print(comment)\n",
        "print(type(comment))\n",
        "\n",
        "#Comment 객체는 NavigableString의 특별한 유형일 뿐입니다."
      ],
      "execution_count": 21,
      "outputs": [
        {
          "output_type": "stream",
          "name": "stdout",
          "text": [
            "Hey, buddy. Want to buy a used parser?\n",
            "<class 'bs4.element.Comment'>\n"
          ]
        }
      ]
    },
    {
      "cell_type": "code",
      "metadata": {
        "colab": {
          "base_uri": "https://localhost:8080/"
        },
        "id": "IGXJ3LMW-LmX",
        "outputId": "07db2067-b5f8-4860-d863-b9cc8f1a55d6"
      },
      "source": [
        "# 그러나 HTML 문서의 일부로 나타날 때 주석은 특별한 형식으로 표시됩니다.\n",
        "print(soup.b.prettify())"
      ],
      "execution_count": 22,
      "outputs": [
        {
          "output_type": "stream",
          "name": "stdout",
          "text": [
            "<b>\n",
            " <!--Hey, buddy. Want to buy a used parser?-->\n",
            "</b>\n"
          ]
        }
      ]
    },
    {
      "cell_type": "markdown",
      "metadata": {
        "id": "ZFenEh9o_jY2"
      },
      "source": [
        "# Navigating using tag names"
      ]
    },
    {
      "cell_type": "code",
      "metadata": {
        "id": "7aq7gW5Y_oFM"
      },
      "source": [
        "html_doc = \"\"\"\n",
        "<html><head><title>The Dormouse's story</title></head>\n",
        "<body>\n",
        "<p class=\"title\"><b>The Dormouse's story</b></p>\n",
        "\n",
        "<p class=\"story\">Once upon a time there were three little sisters; and their names were\n",
        "<a href=\"http://example.com/elsie\" class=\"sister\" id=\"link1\">Elsie</a>,\n",
        "<a href=\"http://example.com/lacie\" class=\"sister\" id=\"link2\">Lacie</a> and\n",
        "<a href=\"http://example.com/tillie\" class=\"sister\" id=\"link3\">Tillie</a>;\n",
        "and they lived at the bottom of a well.</p>\n",
        "\n",
        "<p class=\"story\">...</p>\n",
        "\"\"\"\n",
        "\n",
        "from bs4 import BeautifulSoup\n",
        "soup = BeautifulSoup(html_doc, 'html.parser')"
      ],
      "execution_count": 16,
      "outputs": []
    },
    {
      "cell_type": "markdown",
      "metadata": {
        "id": "HBe-Ikr3MgPo"
      },
      "source": [
        "### find_all()"
      ]
    },
    {
      "cell_type": "code",
      "metadata": {
        "colab": {
          "base_uri": "https://localhost:8080/"
        },
        "id": "FNgi_H_q_iwq",
        "outputId": "8933f2c7-9456-431b-8fb5-15d33dc9adb5"
      },
      "source": [
        "# 1) \n",
        "soup.body.a"
      ],
      "execution_count": 17,
      "outputs": [
        {
          "output_type": "execute_result",
          "data": {
            "text/plain": [
              "<a class=\"sister\" href=\"http://example.com/elsie\" id=\"link1\">Elsie</a>"
            ]
          },
          "metadata": {},
          "execution_count": 17
        }
      ]
    },
    {
      "cell_type": "code",
      "metadata": {
        "colab": {
          "base_uri": "https://localhost:8080/"
        },
        "id": "mBCHiNtD-MWP",
        "outputId": "65e520ff-e3b2-403b-b4ab-448086c25098"
      },
      "source": [
        "## find_all\n",
        "aa=soup.find_all('a')\n",
        "print(aa)\n",
        "print(type(aa))"
      ],
      "execution_count": 18,
      "outputs": [
        {
          "output_type": "stream",
          "name": "stdout",
          "text": [
            "[<a class=\"sister\" href=\"http://example.com/elsie\" id=\"link1\">Elsie</a>, <a class=\"sister\" href=\"http://example.com/lacie\" id=\"link2\">Lacie</a>, <a class=\"sister\" href=\"http://example.com/tillie\" id=\"link3\">Tillie</a>]\n",
            "<class 'bs4.element.ResultSet'>\n"
          ]
        }
      ]
    },
    {
      "cell_type": "markdown",
      "metadata": {
        "id": "JgH41yLKMjBJ"
      },
      "source": [
        "### .contents"
      ]
    },
    {
      "cell_type": "code",
      "metadata": {
        "colab": {
          "base_uri": "https://localhost:8080/"
        },
        "id": "inYVA-1qASbY",
        "outputId": "eccda89b-8911-4fd9-fc64-cdfa751601ef"
      },
      "source": [
        "# 2)\n",
        "head_tag = soup.head\n",
        "print(head_tag)\n",
        "print(type(head_tag))"
      ],
      "execution_count": 19,
      "outputs": [
        {
          "output_type": "stream",
          "name": "stdout",
          "text": [
            "<head><title>The Dormouse's story</title></head>\n",
            "<class 'bs4.element.Tag'>\n"
          ]
        }
      ]
    },
    {
      "cell_type": "code",
      "metadata": {
        "colab": {
          "base_uri": "https://localhost:8080/"
        },
        "id": "8j3rdc1OAdkh",
        "outputId": "3629e73f-b2af-4d5c-c602-55117b3695c4"
      },
      "source": [
        "print(head_tag.contents)\n",
        "print(type(head_tag.contents))"
      ],
      "execution_count": 20,
      "outputs": [
        {
          "output_type": "stream",
          "name": "stdout",
          "text": [
            "[<title>The Dormouse's story</title>]\n",
            "<class 'list'>\n"
          ]
        }
      ]
    },
    {
      "cell_type": "code",
      "metadata": {
        "colab": {
          "base_uri": "https://localhost:8080/"
        },
        "id": "ZCB-M8ebAfqP",
        "outputId": "452b86e5-b3d5-4964-c1e7-956f75472fe1"
      },
      "source": [
        "title_tag=head_tag.contents[0]\n",
        "print(title_tag)\n",
        "print(type(title_tag))"
      ],
      "execution_count": 21,
      "outputs": [
        {
          "output_type": "stream",
          "name": "stdout",
          "text": [
            "<title>The Dormouse's story</title>\n",
            "<class 'bs4.element.Tag'>\n"
          ]
        }
      ]
    },
    {
      "cell_type": "code",
      "metadata": {
        "colab": {
          "base_uri": "https://localhost:8080/"
        },
        "id": "TBoKK693AvDw",
        "outputId": "83340ebd-a341-4e1e-a2ea-3437a31a8532"
      },
      "source": [
        "print(title_tag.contents)\n",
        "print(type(title_tag.contents))"
      ],
      "execution_count": 22,
      "outputs": [
        {
          "output_type": "stream",
          "name": "stdout",
          "text": [
            "[\"The Dormouse's story\"]\n",
            "<class 'list'>\n"
          ]
        }
      ]
    },
    {
      "cell_type": "code",
      "metadata": {
        "colab": {
          "base_uri": "https://localhost:8080/",
          "height": 35
        },
        "id": "pmgh_iE3Jycm",
        "outputId": "a3f9ffff-6ea8-4a4f-9ca5-f4ff837d200a"
      },
      "source": [
        "soup.contents[1].name"
      ],
      "execution_count": 7,
      "outputs": [
        {
          "output_type": "execute_result",
          "data": {
            "application/vnd.google.colaboratory.intrinsic+json": {
              "type": "string"
            },
            "text/plain": [
              "'html'"
            ]
          },
          "metadata": {},
          "execution_count": 7
        }
      ]
    },
    {
      "cell_type": "code",
      "metadata": {
        "colab": {
          "base_uri": "https://localhost:8080/"
        },
        "id": "_YIBM2mTAwAf",
        "outputId": "fb6857b5-32de-446e-94b1-36f9f8c652de"
      },
      "source": [
        "len(soup.contents)"
      ],
      "execution_count": 12,
      "outputs": [
        {
          "output_type": "execute_result",
          "data": {
            "text/plain": [
              "2"
            ]
          },
          "metadata": {},
          "execution_count": 12
        }
      ]
    },
    {
      "cell_type": "markdown",
      "metadata": {
        "id": "OasmBKs7M70w"
      },
      "source": [
        "### children, descendants"
      ]
    },
    {
      "cell_type": "code",
      "metadata": {
        "colab": {
          "base_uri": "https://localhost:8080/"
        },
        "id": "RwFRnIYLJOQJ",
        "outputId": "1c87e4ca-a825-444b-d567-572b12c08588"
      },
      "source": [
        "#목록으로 가져오는 대신 .children 생성기를 사용하여 태그의 자식을 반복할 수 있습니다.\n",
        "for child in title_tag.children:\n",
        "    print(child)\n",
        "# The Dormouse's story"
      ],
      "execution_count": 24,
      "outputs": [
        {
          "output_type": "stream",
          "name": "stdout",
          "text": [
            "The Dormouse's story\n"
          ]
        }
      ]
    },
    {
      "cell_type": "code",
      "metadata": {
        "colab": {
          "base_uri": "https://localhost:8080/"
        },
        "id": "ONLYWmI9LdNk",
        "outputId": "711a9b18-a9b7-4389-8164-10b283afa50d"
      },
      "source": [
        "title_tag.children"
      ],
      "execution_count": 27,
      "outputs": [
        {
          "output_type": "execute_result",
          "data": {
            "text/plain": [
              "<list_iterator at 0x7fb3c23dd650>"
            ]
          },
          "metadata": {},
          "execution_count": 27
        }
      ]
    },
    {
      "cell_type": "code",
      "metadata": {
        "colab": {
          "base_uri": "https://localhost:8080/"
        },
        "id": "BjyhAl32K2b4",
        "outputId": "ebc3850e-0f67-4d8b-9b92-5bfce8771617"
      },
      "source": [
        "len(list(soup.children))  # 직계자식 갯수\n",
        "# 1\n",
        "len(list(soup.descendants))  #자손들 갯수\n",
        "# 26"
      ],
      "execution_count": 28,
      "outputs": [
        {
          "output_type": "execute_result",
          "data": {
            "text/plain": [
              "27"
            ]
          },
          "metadata": {},
          "execution_count": 28
        }
      ]
    },
    {
      "cell_type": "markdown",
      "metadata": {
        "id": "LUDT_bIANVlh"
      },
      "source": [
        "### soup.strings, soup.stripped_strings\n",
        "  - 태그에 둘 이상의 항목이 포함된 경우 .string이 무엇을 참조해야 하는지 명확하지 않으므로 .string은 None으로 정의됩니다.\n",
        "  - If there’s more than one thing inside a tag, you can still look at just the strings. Use the .strings generator"
      ]
    },
    {
      "cell_type": "code",
      "metadata": {
        "colab": {
          "base_uri": "https://localhost:8080/"
        },
        "id": "BZ6CumoDNWRY",
        "outputId": "1aa1475f-972f-46b5-9db6-8ece6bc1bda0"
      },
      "source": [
        "print(head_tag.string)\n",
        "# 'The Dormouse's story''\n",
        "print(title_tag.string)\n",
        "# 'The Dormouse's story'"
      ],
      "execution_count": 30,
      "outputs": [
        {
          "output_type": "stream",
          "name": "stdout",
          "text": [
            "The Dormouse's story\n",
            "The Dormouse's story\n"
          ]
        }
      ]
    },
    {
      "cell_type": "code",
      "metadata": {
        "colab": {
          "base_uri": "https://localhost:8080/"
        },
        "id": "rZpzIj9cNg7D",
        "outputId": "60ffce01-0f16-4125-c747-80db247431be"
      },
      "source": [
        "print(soup.html.string)\n",
        "# None"
      ],
      "execution_count": 31,
      "outputs": [
        {
          "output_type": "stream",
          "name": "stdout",
          "text": [
            "None\n"
          ]
        }
      ]
    },
    {
      "cell_type": "code",
      "metadata": {
        "colab": {
          "base_uri": "https://localhost:8080/"
        },
        "id": "aLM0kjkXOALx",
        "outputId": "40ab469b-f662-4a54-bc34-946807c68ff8"
      },
      "source": [
        "soup.strings"
      ],
      "execution_count": 32,
      "outputs": [
        {
          "output_type": "execute_result",
          "data": {
            "text/plain": [
              "<generator object Tag._all_strings at 0x7fb3c2446a50>"
            ]
          },
          "metadata": {},
          "execution_count": 32
        }
      ]
    },
    {
      "cell_type": "code",
      "metadata": {
        "colab": {
          "base_uri": "https://localhost:8080/"
        },
        "id": "lWKcU0FTy67Q",
        "outputId": "d4e8ca28-b04a-469f-8201-324fd8909e43"
      },
      "source": [
        "for string in soup.strings:\n",
        "    print(repr(string))\n",
        "    # print(str(string))\n",
        "print(type(repr(string)))\n",
        "# str과 repr의 차이 : https://qhdrl.tistory.com/22"
      ],
      "execution_count": 39,
      "outputs": [
        {
          "output_type": "stream",
          "name": "stdout",
          "text": [
            "'\\n'\n",
            "\"The Dormouse's story\"\n",
            "'\\n'\n",
            "'\\n'\n",
            "\"The Dormouse's story\"\n",
            "'\\n'\n",
            "'Once upon a time there were three little sisters; and their names were\\n'\n",
            "'Elsie'\n",
            "',\\n'\n",
            "'Lacie'\n",
            "' and\\n'\n",
            "'Tillie'\n",
            "';\\nand they lived at the bottom of a well.'\n",
            "'\\n'\n",
            "'...'\n",
            "'\\n'\n",
            "<class 'str'>\n"
          ]
        }
      ]
    },
    {
      "cell_type": "code",
      "metadata": {
        "colab": {
          "base_uri": "https://localhost:8080/"
        },
        "id": "OG5g1rx-8rxz",
        "outputId": "6326c22e-5566-4fe5-99ac-43589672136d"
      },
      "source": [
        "# These strings tend to have a lot of extra whitespace, which you can remove by using the .stripped_strings generator instead:\n",
        "for string in soup.stripped_strings:\n",
        "    print(repr(string))"
      ],
      "execution_count": 40,
      "outputs": [
        {
          "output_type": "stream",
          "name": "stdout",
          "text": [
            "\"The Dormouse's story\"\n",
            "\"The Dormouse's story\"\n",
            "'Once upon a time there were three little sisters; and their names were'\n",
            "'Elsie'\n",
            "','\n",
            "'Lacie'\n",
            "'and'\n",
            "'Tillie'\n",
            "';\\nand they lived at the bottom of a well.'\n",
            "'...'\n"
          ]
        }
      ]
    },
    {
      "cell_type": "markdown",
      "metadata": {
        "id": "gOH1pEkoNgSv"
      },
      "source": [
        "# Kinds of filters"
      ]
    },
    {
      "cell_type": "code",
      "metadata": {
        "id": "64wtWeiDG7ZD"
      },
      "source": [
        "html_doc = \"\"\"\n",
        "<html><head><title>The Dormouse's story</title></head>\n",
        "<body>\n",
        "<p class=\"title\"><b>The Dormouse's story</b></p>\n",
        "\n",
        "<p class=\"story\">Once upon a time there were three little sisters; and their names were\n",
        "<a href=\"http://example.com/elsie\" class=\"sister\" id=\"link1\">Elsie</a>,\n",
        "<a href=\"http://example.com/lacie\" class=\"sister\" id=\"link2\">Lacie</a> and\n",
        "<a href=\"http://example.com/tillie\" class=\"sister\" id=\"link3\">Tillie</a>;\n",
        "and they lived at the bottom of a well.</p>\n",
        "\n",
        "<p class=\"story\">...</p>\n",
        "\"\"\"\n",
        "\n",
        "from bs4 import BeautifulSoup\n",
        "soup = BeautifulSoup(html_doc, 'html.parser')"
      ],
      "execution_count": 41,
      "outputs": []
    },
    {
      "cell_type": "code",
      "metadata": {
        "colab": {
          "base_uri": "https://localhost:8080/"
        },
        "id": "9qM9aYjMHLDN",
        "outputId": "c4add913-cd19-4c3a-9219-804cd7ae0284"
      },
      "source": [
        "soup.find_all('b')"
      ],
      "execution_count": 42,
      "outputs": [
        {
          "output_type": "execute_result",
          "data": {
            "text/plain": [
              "[<b>The Dormouse's story</b>]"
            ]
          },
          "metadata": {},
          "execution_count": 42
        }
      ]
    },
    {
      "cell_type": "code",
      "metadata": {
        "colab": {
          "base_uri": "https://localhost:8080/"
        },
        "id": "Z-I_8vpYHxEw",
        "outputId": "60d2ef0a-0b43-4224-f159-d771b0ed5d5b"
      },
      "source": [
        "# 정규표현식 : 이름에 문자 't'가 포함된 모든 태그를 찾습니다.\n",
        "\n",
        "import re\n",
        "for tag in soup.find_all(re.compile(\"t\")):\n",
        "    print(tag.name)"
      ],
      "execution_count": 44,
      "outputs": [
        {
          "output_type": "stream",
          "name": "stdout",
          "text": [
            "html\n",
            "title\n"
          ]
        }
      ]
    },
    {
      "cell_type": "code",
      "metadata": {
        "colab": {
          "base_uri": "https://localhost:8080/"
        },
        "id": "ZSgolQ82IOUD",
        "outputId": "8092d100-12c0-41f7-fce7-c7415902b54b"
      },
      "source": [
        "# 리스트로 인자를 넘겨줄 수도 있다. \n",
        "\n",
        "soup.find_all([\"a\", \"b\"])"
      ],
      "execution_count": 45,
      "outputs": [
        {
          "output_type": "execute_result",
          "data": {
            "text/plain": [
              "[<b>The Dormouse's story</b>,\n",
              " <a class=\"sister\" href=\"http://example.com/elsie\" id=\"link1\">Elsie</a>,\n",
              " <a class=\"sister\" href=\"http://example.com/lacie\" id=\"link2\">Lacie</a>,\n",
              " <a class=\"sister\" href=\"http://example.com/tillie\" id=\"link3\">Tillie</a>]"
            ]
          },
          "metadata": {},
          "execution_count": 45
        }
      ]
    },
    {
      "cell_type": "code",
      "metadata": {
        "colab": {
          "base_uri": "https://localhost:8080/"
        },
        "id": "b8HukAWBIYs5",
        "outputId": "d254aa1c-d858-437b-fa54-a57e1d492420"
      },
      "source": [
        "# True 값은 가능한 모든 것과 일치합니다. 이 코드는 문서의 모든 태그를 찾지만 텍스트 문자열은 찾지 않습니다.\n",
        "\n",
        "for tag in soup.find_all(True):\n",
        "    print(tag.name)"
      ],
      "execution_count": 46,
      "outputs": [
        {
          "output_type": "stream",
          "name": "stdout",
          "text": [
            "html\n",
            "head\n",
            "title\n",
            "body\n",
            "p\n",
            "b\n",
            "p\n",
            "a\n",
            "a\n",
            "a\n",
            "p\n"
          ]
        }
      ]
    },
    {
      "cell_type": "code",
      "metadata": {
        "colab": {
          "base_uri": "https://localhost:8080/",
          "height": 35
        },
        "id": "36Kzn6RGIOeW",
        "outputId": "cd89c301-8104-4773-f8a7-843c6d4ed95b"
      },
      "source": [
        "soup.find_all(\"title\")\n",
        "# [<title>The Dormouse's story</title>]\n",
        "\n",
        "soup.find_all(\"p\", \"title\")\n",
        "# [<p class=\"title\"><b>The Dormouse's story</b></p>]\n",
        "\n",
        "soup.find_all(\"a\")\n",
        "# [<a class=\"sister\" href=\"http://example.com/elsie\" id=\"link1\">Elsie</a>,\n",
        "#  <a class=\"sister\" href=\"http://example.com/lacie\" id=\"link2\">Lacie</a>,\n",
        "#  <a class=\"sister\" href=\"http://example.com/tillie\" id=\"link3\">Tillie</a>]\n",
        "\n",
        "soup.find_all(id=\"link2\")\n",
        "# [<a class=\"sister\" href=\"http://example.com/lacie\" id=\"link2\">Lacie</a>]\n",
        "\n",
        "import re\n",
        "soup.find(string=re.compile(\"sisters\"))\n",
        "# 'Once upon a time there were three little sisters; and their names were\\n'\n",
        "\n",
        "soup.find_all(href=re.compile(\"elsie\"))\n",
        "# [<a class=\"sister\" href=\"http://example.com/elsie\" id=\"link1\">Elsie</a>]\n",
        "\n",
        "soup.find_all(id=True)\n",
        "# [<a class=\"sister\" href=\"http://example.com/elsie\" id=\"link1\">Elsie</a>,\n",
        "#  <a class=\"sister\" href=\"http://example.com/lacie\" id=\"link2\">Lacie</a>,\n",
        "#  <a class=\"sister\" href=\"http://example.com/tillie\" id=\"link3\">Tillie</a>]\n",
        "\n",
        "soup.find_all(href=re.compile(\"elsie\"), id='link1')\n",
        "# [<a class=\"sister\" href=\"http://example.com/elsie\" id=\"link1\">Elsie</a>]"
      ],
      "execution_count": 49,
      "outputs": [
        {
          "output_type": "execute_result",
          "data": {
            "application/vnd.google.colaboratory.intrinsic+json": {
              "type": "string"
            },
            "text/plain": [
              "'Once upon a time there were three little sisters; and their names were\\n'"
            ]
          },
          "metadata": {},
          "execution_count": 49
        }
      ]
    },
    {
      "cell_type": "code",
      "metadata": {
        "colab": {
          "base_uri": "https://localhost:8080/"
        },
        "id": "TZy0Qy0wKEhF",
        "outputId": "67d61166-11f0-445e-9178-96c55b3b5701"
      },
      "source": [
        "data_soup = BeautifulSoup('<div data-foo=\"value\">foo!</div>', 'html.parser')\n",
        "data_soup.find_all(attrs={\"data-foo\": \"value\"})"
      ],
      "execution_count": 51,
      "outputs": [
        {
          "output_type": "execute_result",
          "data": {
            "text/plain": [
              "[<div data-foo=\"value\">foo!</div>]"
            ]
          },
          "metadata": {},
          "execution_count": 51
        }
      ]
    },
    {
      "cell_type": "code",
      "metadata": {
        "colab": {
          "base_uri": "https://localhost:8080/"
        },
        "id": "1-8VDyQVKRIM",
        "outputId": "48ad05e8-1013-4a84-f6e7-e3ccbbb40530"
      },
      "source": [
        "data_soup.find_all('div')"
      ],
      "execution_count": 52,
      "outputs": [
        {
          "output_type": "execute_result",
          "data": {
            "text/plain": [
              "[<div data-foo=\"value\">foo!</div>]"
            ]
          },
          "metadata": {},
          "execution_count": 52
        }
      ]
    },
    {
      "cell_type": "code",
      "metadata": {
        "id": "2DFy98BkKFDu"
      },
      "source": [
        ""
      ],
      "execution_count": null,
      "outputs": []
    }
  ]
}