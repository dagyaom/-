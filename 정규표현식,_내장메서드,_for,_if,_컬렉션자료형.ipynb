{
  "nbformat": 4,
  "nbformat_minor": 0,
  "metadata": {
    "colab": {
      "name": "정규표현식, 내장메서드, for, if, 컬렉션자료형.ipynb",
      "provenance": [],
      "collapsed_sections": [],
      "toc_visible": true,
      "authorship_tag": "ABX9TyNO+TOKDJ/XIe6VuiGD44Am",
      "include_colab_link": true
    },
    "kernelspec": {
      "name": "python3",
      "display_name": "Python 3"
    },
    "language_info": {
      "name": "python"
    }
  },
  "cells": [
    {
      "cell_type": "markdown",
      "metadata": {
        "id": "view-in-github",
        "colab_type": "text"
      },
      "source": [
        "<a href=\"https://colab.research.google.com/github/dagyeom23658/Python_Practice/blob/main/%EC%A0%95%EA%B7%9C%ED%91%9C%ED%98%84%EC%8B%9D%2C_%EB%82%B4%EC%9E%A5%EB%A9%94%EC%84%9C%EB%93%9C%2C_for%2C_if%2C_%EC%BB%AC%EB%A0%89%EC%85%98%EC%9E%90%EB%A3%8C%ED%98%95.ipynb\" target=\"_parent\"><img src=\"https://colab.research.google.com/assets/colab-badge.svg\" alt=\"Open In Colab\"/></a>"
      ]
    },
    {
      "cell_type": "markdown",
      "metadata": {
        "id": "UDh9dbUHrJDN"
      },
      "source": [
        "컴퓨팅 환경이라든지 제한된 상황에서, 써야할 순간이 온다.\n",
        "\n",
        "수학보다 직접적인 ... \n",
        "\n",
        "데이터 엔지니어, 개발자와 커뮤니케이션 할떄 도움이 된다!!\n",
        "\n",
        "코테는 최소한의 지식이나, 코딩실력을 갖췄는지 보는 시험. 업무에 100% 연관된다곤 못하지만, 문제를 풀어가는 과정이나 논리구조를 보고 가산점을 주기도한다. 주석을 잘 다는 연습하기. 수학적 사고력, 논리력!을 충분한 사람이면 기술적 부분이 부족해도 충분히 보충 가능하다고,, 특히 대기업에서 그렇게 생각을 많이 한다. \n",
        "\n",
        "코딩테스트를 위한 암기도 필요하지만, 문제해결력과 논리적 사고력을 기르기.\n",
        "내장메서드.. 내부적으로 어떻게 돌아가는지 이해하면서 공부\n",
        "\n",
        "개념이 모호할때가 많고... 자신만의 언어로 작성해서 저장해두기...!!!\n",
        "\n",
        "정규표현식은 불용어때 사용 많이 하고,, 웹크롤링 데이터 가져올 때 쓰기도 하고..ㅡ\n",
        "각 메서드들이 어떠한 차이가 있는지 알아보기!!\n",
        "\n",
        "한줄 한줄 분석하면서 하는 연습!! 컴퓨팅 사고에 도움이 된다.\n",
        "\n",
        "프로그래머스 레벨3 통과하면 웬만한 기업 테스트는 다 통과할 수 있다. 백준도 있음."
      ]
    },
    {
      "cell_type": "code",
      "metadata": {
        "id": "8fZFDsTevURi"
      },
      "source": [
        "## 더 알아보기\n",
        "# iterator , iterable 의 차이는??\n",
        "# reduce"
      ],
      "execution_count": null,
      "outputs": []
    },
    {
      "cell_type": "markdown",
      "metadata": {
        "id": "OiJkFQYNtb-d"
      },
      "source": [
        "# 정규표현식\n",
        "- 특정한 규칙을 가진 문자열의 집합을 표현하는 사용하는 형식\n",
        "- 복잡한 문자열을 처리할 때 사용한다. \n",
        "- 파이썬 이외에도 모든 프로그래밍 언어에 공통적으로 사용이 된다. \n"
      ]
    },
    {
      "cell_type": "markdown",
      "metadata": {
        "id": "jruH4i1-vlsq"
      },
      "source": [
        "# 정규식 기호 = 메타 문자\n",
        "- 원래 그 문자가 가진 뜻이 아닌 특별한 용도로 사용하는 문자.\n",
        "\n",
        ".  => \\n을 제외한 모든 문자\n",
        "\n",
        "[ ] => [a-z] => 알파벳 소문자를 [1-9] => 1부터 9 중 가져온\n",
        "\n",
        "^  => 부정, 문자 클래스 안에 문자를 제외한 나머지 애들을 하는거.\n",
        "\n",
        "$ => 끝을 나타내는 메타 문제 => 문자열의 행이나 끝을 의미한다. \n",
        "\n",
        "* + => 둘의 차이는?  *는 0부터 반복, +는 최소 1번 이상 반복\n",
        "\n",
        "? => on/off => 있어도 되고, 없어도 된다. => ab? => a, ab\n",
        "\n",
        "{m,n} => m번 이상, n번 이하 => a{1,2} => a,aa\n",
        "\n",
        "m번 이상 => {m,}\n",
        "\n",
        "n번 이하 => {,n}\n",
        "\n",
        "m번 => {m}\n",
        "\n",
        "\\ : 용도>  => 메타문자/특수 기호를 문자로서 표현하고 싶을 떄  => .com => \\\\.com\n"
      ]
    },
    {
      "cell_type": "markdown",
      "metadata": {
        "id": "aqIbT01pOMhE"
      },
      "source": [
        "# 정규표현식 regular expression\n",
        "\n",
        "https://wikidocs.net/4308#_3\n",
        "\n",
        "현업에서도 많이 쓰이는 정규표현식. \n",
        "\n",
        "정규식 기호(메타문자)를 이용해서 ...\n",
        "\n",
        "어떤 상황에 어떤 메서드를 쓰는게 좋을지 생각해보기."
      ]
    },
    {
      "cell_type": "markdown",
      "metadata": {
        "id": "JxaxwSIJOoVj"
      },
      "source": [
        "- re.search : 문자열 전체를 검색하여 정규식과 매치되는지 조사한다.\n",
        "- re.match : \t문자열의 처음부터 정규식과 매치되는지 조사한다."
      ]
    },
    {
      "cell_type": "code",
      "metadata": {
        "colab": {
          "base_uri": "https://localhost:8080/"
        },
        "id": "dgKt7K4ZODEH",
        "outputId": "59ac017e-632e-4b30-cbf9-23d38d345598"
      },
      "source": [
        "# re.search\n",
        "import re\n",
        "\n",
        "wordlist = [\"acolor\",\"color\", \"colour\", \"work\", \"working\",\n",
        "            \"fox\", \"worker\", \"working\",\"acolor is not colir\"]\n",
        "\n",
        "# wordlist = \"color, is, not, colir\"\n",
        "for word in wordlist :\n",
        "    if re.search('col.r', word):  #정규 표현식의 Dot(.) 메타 문자는 줄바꿈 문자인 \\n을 제외한 모든 문자와 매치됨을 의미한다.\n",
        "        print('search:',word)\n",
        "    if re.match('col.r', word): \n",
        "        print('match:', word)\n",
        "    print('***')"
      ],
      "execution_count": 27,
      "outputs": [
        {
          "output_type": "stream",
          "name": "stdout",
          "text": [
            "search: acolor\n",
            "***\n",
            "search: color\n",
            "match: color\n",
            "***\n",
            "***\n",
            "***\n",
            "***\n",
            "***\n",
            "***\n",
            "***\n",
            "search: acolor is not colir\n",
            "***\n"
          ]
        }
      ]
    },
    {
      "cell_type": "code",
      "metadata": {
        "colab": {
          "base_uri": "https://localhost:8080/"
        },
        "id": "LywrI1RgOaOx",
        "outputId": "9b7ce49d-a0ec-4ea1-b263-0bbeee6ef99d"
      },
      "source": [
        "# re.match\n",
        "regular_expressions = '<html><head><title>Title</title'\n",
        "print(len(regular_expressions))\n",
        "print(re.match('<.*>', regular_expressions).span())  # span(): 매치된 문자열의 (시작, 끝)에 해당하는 튜플을 돌려준다.\n",
        "print(re.match('<.*>', regular_expressions).group())  # group(): 매치된 문자열을 돌려준다.\n",
        "# 개행문자를 제외한 어떤 문자든지 가능(.), 바로 앞의 문자를 0번부터 반복가능(*)\n",
        "# re.match --> '<'과 문자열이 일치해야 함."
      ],
      "execution_count": 18,
      "outputs": [
        {
          "output_type": "stream",
          "name": "stdout",
          "text": [
            "31\n",
            "(0, 19)\n",
            "<html><head><title>\n"
          ]
        }
      ]
    },
    {
      "cell_type": "code",
      "metadata": {
        "id": "ONpWbPACO1vN"
      },
      "source": [
        "# case 1_1\n",
        "phone = re.compile(r\"\"\"\n",
        "010-    # 핸드폰 앞자리 \n",
        "\\d{4}-  # 중간자리\n",
        "\\d{4}  # 뒷자리\n",
        "\"\"\", re.VERBOSE)  \n",
        "\n",
        "# 컴파일된 패턴 객체인 phone는 모두 동일한 역할을 한다. 하지만 정규식이 복잡할 경우 case 1_2보다 case 1_1처럼 주석을 적고 여러 줄로 표현하는 것이 훨씬 가독성이 좋다.\n",
        "# re.VERBOSE 옵션을 사용하면 문자열에 사용된 whitespace는 컴파일할 때 제거된다(단 [ ] 안에 사용한 whitespace는 제외). 그리고 줄 단위로 '#'기호를 사용하여 주석문을 작성할 수 있다."
      ],
      "execution_count": 32,
      "outputs": []
    },
    {
      "cell_type": "markdown",
      "metadata": {
        "id": "xU8LEyXQYCbP"
      },
      "source": [
        "{ } 메타 문자를 사용하면 반복 횟수를 고정할 수 있다. {m, n} 정규식을 사용하면 반복 횟수가 m부터 n까지 매치할 수 있다. 또한 m 또는 n을 생략할 수도 있다. 만약 {3,}처럼 사용하면 반복 횟수가 3 이상인 경우이고 {,3}처럼 사용하면 반복 횟수가 3 이하를 의미한다. 생략된 m은 0과 동일하며, 생략된 n은 무한대(2억 개 미만)의 의미를 갖는다.\n",
        "\n",
        "\n",
        "\\d - 숫자와 매치, [0-9]와 동일한 표현식이다."
      ]
    },
    {
      "cell_type": "code",
      "metadata": {
        "id": "PJY0NLbZVsG2"
      },
      "source": [
        "# case 1_2\n",
        "phone = re.compile(r\"010-\\d{4}-\\d{4}\")  # \\d - 숫자와 매치, [0-9]와 동일한 표현식이다.--> 반드시 4번 반복되어야 한다. "
      ],
      "execution_count": 30,
      "outputs": []
    },
    {
      "cell_type": "code",
      "metadata": {
        "colab": {
          "base_uri": "https://localhost:8080/"
        },
        "id": "NF4OkYmEVtmc",
        "outputId": "f618d51a-d803-42a5-e7d5-cb8ca085a5c8"
      },
      "source": [
        "# case 1_3\n",
        "info = ['홍길동 010-1234-1234', '고길동 010-5678-5679']\n",
        "\n",
        "for text in info:\n",
        "    match_object = phone.search(text)  # 문자열 전체를 검사해서 정규식과 일치되는지 조사\n",
        "    print(match_object.group()) #매치된 문자열을 돌려줌"
      ],
      "execution_count": 33,
      "outputs": [
        {
          "output_type": "stream",
          "name": "stdout",
          "text": [
            "010-1234-1234\n",
            "010-5678-5679\n"
          ]
        }
      ]
    },
    {
      "cell_type": "markdown",
      "metadata": {
        "id": "uaFJbplPYq-v"
      },
      "source": [
        "# rjust(width, [fillchar]), zfill(width)\n",
        "원하는 문자를 따로 지정하고, 다른 문자열로 앞 부분을 채워줄 수 있다.\n",
        "\n",
        "0으로 앞부분 채워주기"
      ]
    },
    {
      "cell_type": "code",
      "metadata": {
        "colab": {
          "base_uri": "https://localhost:8080/"
        },
        "id": "QWQXG2yyVxmD",
        "outputId": "afdfa13f-9994-4c13-a875-28830ef38058"
      },
      "source": [
        "#\"002\"\n",
        "print(\"2\".rjust(3,\"0\"))\n",
        " \n",
        "#\"50000\"\n",
        "print(\"50000\".rjust(5,\"0\"))  # --> 채워줄 공간이 없으므로 그대로 출력\n",
        " \n",
        "#\"00123\"\n",
        "print(\"123\".rjust(5,\"0\"))\n",
        " \n",
        "#\"aa123\"\n",
        "print(\"123\".rjust(5,\"a\"))"
      ],
      "execution_count": 34,
      "outputs": [
        {
          "output_type": "stream",
          "name": "stdout",
          "text": [
            "002\n",
            "50000\n",
            "00123\n",
            "aa123\n"
          ]
        }
      ]
    },
    {
      "cell_type": "code",
      "metadata": {
        "id": "Erk3X9y8Y0N0"
      },
      "source": [
        "#\"002\"\n",
        "print(\"2\".zfill(3))\n",
        " \n",
        "#\"50000\"\n",
        "print(\"50000\".zfill(5))\n",
        " \n",
        "#\"00123\"\n",
        "print(\"123\".zfill(5))"
      ],
      "execution_count": null,
      "outputs": []
    },
    {
      "cell_type": "markdown",
      "metadata": {
        "id": "J7btk4byZKzu"
      },
      "source": [
        "# split(), startswith(), endswith(), replace()"
      ]
    },
    {
      "cell_type": "code",
      "metadata": {
        "colab": {
          "base_uri": "https://localhost:8080/"
        },
        "id": "CNoPIMD5ZN26",
        "outputId": "2159ba7e-0b54-47c8-c8b9-a570d96be53f"
      },
      "source": [
        "string_ = \"Hello, I am Jack and I am a data scientist\"\n",
        "print(string_)\n",
        "print(string_[1])"
      ],
      "execution_count": 35,
      "outputs": [
        {
          "output_type": "stream",
          "name": "stdout",
          "text": [
            "Hello, I am Jack and I am a data scientist\n",
            "e\n"
          ]
        }
      ]
    },
    {
      "cell_type": "code",
      "metadata": {
        "colab": {
          "base_uri": "https://localhost:8080/"
        },
        "id": "TtsbNQsvZWY9",
        "outputId": "6d7431cc-f30c-45a6-9283-67e4277a6202"
      },
      "source": [
        "string_list = string_.split(\" \")  # 공백을 기준으로 나누다.\n",
        "string_list"
      ],
      "execution_count": 36,
      "outputs": [
        {
          "output_type": "execute_result",
          "data": {
            "text/plain": [
              "['Hello,', 'I', 'am', 'Jack', 'and', 'I', 'am', 'a', 'data', 'scientist']"
            ]
          },
          "metadata": {},
          "execution_count": 36
        }
      ]
    },
    {
      "cell_type": "code",
      "metadata": {
        "colab": {
          "base_uri": "https://localhost:8080/"
        },
        "id": "nLWpkxqWZWjT",
        "outputId": "ba86afd8-483d-47c9-833c-153a8beea867"
      },
      "source": [
        "string_.startswith('hello')  # 불값으로 반환. 첫시작이 일치하는지 여부"
      ],
      "execution_count": 38,
      "outputs": [
        {
          "output_type": "execute_result",
          "data": {
            "text/plain": [
              "False"
            ]
          },
          "metadata": {},
          "execution_count": 38
        }
      ]
    },
    {
      "cell_type": "code",
      "metadata": {
        "colab": {
          "base_uri": "https://localhost:8080/"
        },
        "id": "gJuqPBCBZbbr",
        "outputId": "0178452f-4b4b-4b55-c7e7-ed0bfe56cd7f"
      },
      "source": [
        "string_.endswith('scientist')  # 불값으로 반환. 끝부분이 일치하는지 여부"
      ],
      "execution_count": 39,
      "outputs": [
        {
          "output_type": "execute_result",
          "data": {
            "text/plain": [
              "True"
            ]
          },
          "metadata": {},
          "execution_count": 39
        }
      ]
    },
    {
      "cell_type": "code",
      "metadata": {
        "colab": {
          "base_uri": "https://localhost:8080/"
        },
        "id": "4R1JQt1tZi0M",
        "outputId": "86994763-c293-457e-c329-be6f1c159df2"
      },
      "source": [
        "string_.endswith('tist')   #완전한 단어가 아니어도 됨. 끝이 t 이기만 하면 모두 true"
      ],
      "execution_count": 41,
      "outputs": [
        {
          "output_type": "execute_result",
          "data": {
            "text/plain": [
              "True"
            ]
          },
          "metadata": {},
          "execution_count": 41
        }
      ]
    },
    {
      "cell_type": "code",
      "metadata": {
        "colab": {
          "base_uri": "https://localhost:8080/"
        },
        "id": "RzXCQ-McZ3Ag",
        "outputId": "6636d3e7-7c29-4ad3-f24f-5d540770e15a"
      },
      "source": [
        "print(string_.replace(\"Jack\", \"John\"))\n",
        "print(string_)"
      ],
      "execution_count": 42,
      "outputs": [
        {
          "output_type": "stream",
          "name": "stdout",
          "text": [
            "Hello, I am John and I am a data scientist\n",
            "Hello, I am Jack and I am a data scientist\n"
          ]
        }
      ]
    },
    {
      "cell_type": "markdown",
      "metadata": {
        "id": "VccpgY76aCgU"
      },
      "source": [
        "# 얕은복사, 깊은복사.\n",
        "\n",
        "https://wikidocs.net/16038\n",
        "\n",
        "https://dojang.io/mod/page/view.php?id=2477"
      ]
    },
    {
      "cell_type": "code",
      "metadata": {
        "colab": {
          "base_uri": "https://localhost:8080/"
        },
        "id": "YjC9I0jsZsFr",
        "outputId": "490c4f02-6f6d-4f56-d87f-78bf5cb2fd86"
      },
      "source": [
        "fruits = {\"apple\", \"banana\", \"cherry\"}  #set --> 순서가 없음   https://wikidocs.net/1015\n",
        "fruits_copy = fruits.copy()\n",
        "print(fruits_copy)\n",
        "print(id(fruits))\n",
        "print(id(fruits_copy))"
      ],
      "execution_count": 59,
      "outputs": [
        {
          "output_type": "stream",
          "name": "stdout",
          "text": [
            "{'apple', 'banana', 'cherry'}\n",
            "140392727653504\n",
            "140392586235488\n"
          ]
        }
      ]
    },
    {
      "cell_type": "code",
      "metadata": {
        "colab": {
          "base_uri": "https://localhost:8080/"
        },
        "id": "jOyOCaEOaNrs",
        "outputId": "77a22c01-05e0-4dc8-deb9-6364b4c352ec"
      },
      "source": [
        "a = {'a': 5, 'b': 4, 'c':  {'python': '2.7'}}\n",
        "b = a\n",
        "del b['a']\n",
        "b['c']['python'] = '2.7.15'\n",
        "print(b)\n",
        "print(a)\n",
        "print(id(b))\n",
        "print(id(a))"
      ],
      "execution_count": 60,
      "outputs": [
        {
          "output_type": "stream",
          "name": "stdout",
          "text": [
            "{'b': 4, 'c': {'python': '2.7.15'}}\n",
            "{'b': 4, 'c': {'python': '2.7.15'}}\n",
            "140392585444320\n",
            "140392585444320\n"
          ]
        }
      ]
    },
    {
      "cell_type": "code",
      "metadata": {
        "colab": {
          "base_uri": "https://localhost:8080/"
        },
        "id": "c-lVD1IVcrvM",
        "outputId": "8b2d1a84-1967-4fc6-c335-c6120a4a9077"
      },
      "source": [
        "import copy\n",
        "a = {'a': 5, 'b': 4, 'c':  {'python': '2.7'}}\n",
        "b = copy.copy(a)\n",
        "del b['a']\n",
        "b['c']['python'] = '2.7.15'\n",
        "print(b)\n",
        "print(a)\n",
        "\n",
        "print(id(b))\n",
        "print(id(a))\n",
        "\n",
        "# 중첩딕셔너리를 다른 객체로 만드려면 deepcopy() 메서드를 써야한다. "
      ],
      "execution_count": 61,
      "outputs": [
        {
          "output_type": "stream",
          "name": "stdout",
          "text": [
            "{'b': 4, 'c': {'python': '2.7.15'}}\n",
            "{'a': 5, 'b': 4, 'c': {'python': '2.7.15'}}\n",
            "140392585828864\n",
            "140392585829184\n"
          ]
        }
      ]
    },
    {
      "cell_type": "code",
      "metadata": {
        "colab": {
          "base_uri": "https://localhost:8080/"
        },
        "id": "257miZuScr7D",
        "outputId": "e3b917f4-040c-4941-d5b5-5143a88ec237"
      },
      "source": [
        "import copy\n",
        "list_var = [[1,2],[3,4]]\n",
        "list_var_deepcopy = copy.deepcopy(list_var)\n",
        "list_var_copy = list_var.copy()\n",
        "\n",
        "list_var[1].append(5)\n",
        "\n",
        "print(list_var)  # 원래 변수\n",
        "\n",
        "print(list_var_deepcopy)  # deepcopy : append와 같은 메소드를 써도 값이 변경되지 않음\n",
        "\n",
        "print(list_var_copy)  # copy : 원본이 변경되었으므로 함께 변경됨"
      ],
      "execution_count": 63,
      "outputs": [
        {
          "output_type": "stream",
          "name": "stdout",
          "text": [
            "[[1, 2], [3, 4, 5]]\n",
            "[[1, 2], [3, 4]]\n",
            "[[1, 2], [3, 4, 5]]\n"
          ]
        }
      ]
    },
    {
      "cell_type": "markdown",
      "metadata": {
        "id": "19JvDil2f0CG"
      },
      "source": [
        "# 반복문, 조건문"
      ]
    },
    {
      "cell_type": "markdown",
      "metadata": {
        "id": "H4e--TWqixA9"
      },
      "source": [
        "## for문"
      ]
    },
    {
      "cell_type": "code",
      "metadata": {
        "colab": {
          "base_uri": "https://localhost:8080/",
          "height": 223
        },
        "id": "YUnEE7-sfdqz",
        "outputId": "aba0dc2c-0bbc-4285-bb92-cf35a0edd953"
      },
      "source": [
        "# case 1\n",
        "data = [90, 45, 32, 44]\n",
        "for i in range(data):\n",
        "   print(data[i]) # 90, 45, 32, 44"
      ],
      "execution_count": 65,
      "outputs": [
        {
          "output_type": "error",
          "ename": "TypeError",
          "evalue": "ignored",
          "traceback": [
            "\u001b[0;31m---------------------------------------------------------------------------\u001b[0m",
            "\u001b[0;31mTypeError\u001b[0m                                 Traceback (most recent call last)",
            "\u001b[0;32m<ipython-input-65-217a4068f845>\u001b[0m in \u001b[0;36m<module>\u001b[0;34m()\u001b[0m\n\u001b[1;32m      1\u001b[0m \u001b[0;31m# case 1\u001b[0m\u001b[0;34m\u001b[0m\u001b[0;34m\u001b[0m\u001b[0;34m\u001b[0m\u001b[0m\n\u001b[1;32m      2\u001b[0m \u001b[0mdata\u001b[0m \u001b[0;34m=\u001b[0m \u001b[0;34m[\u001b[0m\u001b[0;36m90\u001b[0m\u001b[0;34m,\u001b[0m \u001b[0;36m45\u001b[0m\u001b[0;34m,\u001b[0m \u001b[0;36m32\u001b[0m\u001b[0;34m,\u001b[0m \u001b[0;36m44\u001b[0m\u001b[0;34m]\u001b[0m\u001b[0;34m\u001b[0m\u001b[0;34m\u001b[0m\u001b[0m\n\u001b[0;32m----> 3\u001b[0;31m \u001b[0;32mfor\u001b[0m \u001b[0mi\u001b[0m \u001b[0;32min\u001b[0m \u001b[0mrange\u001b[0m\u001b[0;34m(\u001b[0m\u001b[0mdata\u001b[0m\u001b[0;34m)\u001b[0m\u001b[0;34m:\u001b[0m\u001b[0;34m\u001b[0m\u001b[0;34m\u001b[0m\u001b[0m\n\u001b[0m\u001b[1;32m      4\u001b[0m    \u001b[0mprint\u001b[0m\u001b[0;34m(\u001b[0m\u001b[0mdata\u001b[0m\u001b[0;34m[\u001b[0m\u001b[0mi\u001b[0m\u001b[0;34m]\u001b[0m\u001b[0;34m)\u001b[0m \u001b[0;31m# 90, 45, 32, 44\u001b[0m\u001b[0;34m\u001b[0m\u001b[0;34m\u001b[0m\u001b[0m\n",
            "\u001b[0;31mTypeError\u001b[0m: 'list' object cannot be interpreted as an integer"
          ]
        }
      ]
    },
    {
      "cell_type": "code",
      "metadata": {
        "colab": {
          "base_uri": "https://localhost:8080/"
        },
        "id": "Fb2Fl3gQft5T",
        "outputId": "39e53699-418c-4e83-dfe9-72a21de489e9"
      },
      "source": [
        "# case 1\n",
        "data = [90, 45, 32, 44]\n",
        "for i in range(len(data)):\n",
        "   print(data[i]) # 90, 45, 32, 44"
      ],
      "execution_count": 66,
      "outputs": [
        {
          "output_type": "stream",
          "name": "stdout",
          "text": [
            "90\n",
            "45\n",
            "32\n",
            "44\n"
          ]
        }
      ]
    },
    {
      "cell_type": "markdown",
      "metadata": {
        "id": "3xZodziYi0pi"
      },
      "source": [
        "## 딕셔너리 for문"
      ]
    },
    {
      "cell_type": "code",
      "metadata": {
        "id": "AoDbh9Kgf4xD"
      },
      "source": [
        "# case 2\n",
        "mock_data = {\n",
        "  \"id\": 1,\n",
        "  \"first_name\": \"states\",\n",
        "  \"last_name\": \"code\",\n",
        "  \"email\": \"code@states.com\",\n",
        "  \"gender\": \"Female\",\n",
        "  \"ip_address\": \"123.123.123.23\"\n",
        "}"
      ],
      "execution_count": 67,
      "outputs": []
    },
    {
      "cell_type": "code",
      "metadata": {
        "colab": {
          "base_uri": "https://localhost:8080/"
        },
        "id": "UjkAFe_1f8Eb",
        "outputId": "2de900db-3754-4d6f-cb93-abd1a87f32a0"
      },
      "source": [
        "# 키만 나오는군\n",
        "for x in mock_data:\n",
        "    print(x)"
      ],
      "execution_count": 68,
      "outputs": [
        {
          "output_type": "stream",
          "name": "stdout",
          "text": [
            "id\n",
            "first_name\n",
            "last_name\n",
            "email\n",
            "gender\n",
            "ip_address\n"
          ]
        }
      ]
    },
    {
      "cell_type": "code",
      "metadata": {
        "colab": {
          "base_uri": "https://localhost:8080/"
        },
        "id": "tqzTV_Fwf-ej",
        "outputId": "948a5a00-59de-4054-ae3e-226d7f58adc0"
      },
      "source": [
        "for x in mock_data.keys():\n",
        "    print(x)"
      ],
      "execution_count": 69,
      "outputs": [
        {
          "output_type": "stream",
          "name": "stdout",
          "text": [
            "id\n",
            "first_name\n",
            "last_name\n",
            "email\n",
            "gender\n",
            "ip_address\n"
          ]
        }
      ]
    },
    {
      "cell_type": "code",
      "metadata": {
        "colab": {
          "base_uri": "https://localhost:8080/"
        },
        "id": "xtR1aAt8gEdF",
        "outputId": "0d448aea-44b0-4e74-e7ae-6420bfe58b26"
      },
      "source": [
        "for x in mock_data.values():\n",
        "    print(x)"
      ],
      "execution_count": 70,
      "outputs": [
        {
          "output_type": "stream",
          "name": "stdout",
          "text": [
            "1\n",
            "states\n",
            "code\n",
            "code@states.com\n",
            "Female\n",
            "123.123.123.23\n"
          ]
        }
      ]
    },
    {
      "cell_type": "code",
      "metadata": {
        "colab": {
          "base_uri": "https://localhost:8080/"
        },
        "id": "nXJfVeVtgGpD",
        "outputId": "d7b160ae-1ede-4e2a-9636-d7a1201b3ded"
      },
      "source": [
        "for x in mock_data.items():\n",
        "    print(x)\n",
        "print(type(x))\n",
        "\n",
        "for k,v in mock_data.items():\n",
        "    print(k,v)\n",
        "print(type(k))"
      ],
      "execution_count": 73,
      "outputs": [
        {
          "output_type": "stream",
          "name": "stdout",
          "text": [
            "('id', 1)\n",
            "('first_name', 'states')\n",
            "('last_name', 'code')\n",
            "('email', 'code@states.com')\n",
            "('gender', 'Female')\n",
            "('ip_address', '123.123.123.23')\n",
            "<class 'tuple'>\n",
            "id 1\n",
            "first_name states\n",
            "last_name code\n",
            "email code@states.com\n",
            "gender Female\n",
            "ip_address 123.123.123.23\n",
            "<class 'str'>\n"
          ]
        }
      ]
    },
    {
      "cell_type": "markdown",
      "metadata": {
        "id": "egqLFr1ii4u6"
      },
      "source": [
        "## zip() for문"
      ]
    },
    {
      "cell_type": "code",
      "metadata": {
        "colab": {
          "base_uri": "https://localhost:8080/"
        },
        "id": "janQQXpFgNE7",
        "outputId": "d7e4f35c-483a-43f1-b015-dd52f05ce67c"
      },
      "source": [
        "# 일반적인 반복문 활용\n",
        "a = [1,2,3,4,5]\n",
        "b = [10,20,30,40,50]\n",
        "for i in range(len(a)):\n",
        "   print(a[i],b[i])"
      ],
      "execution_count": 74,
      "outputs": [
        {
          "output_type": "stream",
          "name": "stdout",
          "text": [
            "1 10\n",
            "2 20\n",
            "3 30\n",
            "4 40\n",
            "5 50\n"
          ]
        }
      ]
    },
    {
      "cell_type": "code",
      "metadata": {
        "colab": {
          "base_uri": "https://localhost:8080/"
        },
        "id": "ssEFbD6vil_D",
        "outputId": "4f75ea89-1d0c-43c9-c209-5f24a589cbc0"
      },
      "source": [
        "# zip 함수 활용\n",
        "a = [1,2,3,4,5]\n",
        "b = [10,20,30,40,50]\n",
        "c = zip(a,b)\n",
        "d = list(c)\n",
        "\n",
        "print(c)\n",
        "print(list(c))  # ★\n",
        "print(d)\n",
        "print(type(c))\n",
        "print(type(d))\n",
        "\n",
        "\n",
        "# 이거는 또 뭥... 한번 들어가버리면 활용이 안되는것?\n",
        "\n",
        "# iterator, iterable 객체의 차이.\n",
        "# zip object\n",
        "# map 도 iterator의 하나이다. \n",
        "# generator"
      ],
      "execution_count": 86,
      "outputs": [
        {
          "output_type": "stream",
          "name": "stdout",
          "text": [
            "<zip object at 0x7fafb654ddc0>\n",
            "[]\n",
            "[(1, 10), (2, 20), (3, 30), (4, 40), (5, 50)]\n",
            "<class 'zip'>\n",
            "<class 'list'>\n"
          ]
        }
      ]
    },
    {
      "cell_type": "code",
      "metadata": {
        "colab": {
          "base_uri": "https://localhost:8080/"
        },
        "id": "DIt9hNe6_N_C",
        "outputId": "73681890-f3da-4b7d-b14e-6ea8306d8d59"
      },
      "source": [
        "help(zip)  # 소스코드가 나온다. "
      ],
      "execution_count": 28,
      "outputs": [
        {
          "output_type": "stream",
          "name": "stdout",
          "text": [
            "Help on class zip in module builtins:\n",
            "\n",
            "class zip(object)\n",
            " |  zip(*iterables) --> zip object\n",
            " |  \n",
            " |  Return a zip object whose .__next__() method returns a tuple where\n",
            " |  the i-th element comes from the i-th iterable argument.  The .__next__()\n",
            " |  method continues until the shortest iterable in the argument sequence\n",
            " |  is exhausted and then it raises StopIteration.\n",
            " |  \n",
            " |  Methods defined here:\n",
            " |  \n",
            " |  __getattribute__(self, name, /)\n",
            " |      Return getattr(self, name).\n",
            " |  \n",
            " |  __iter__(self, /)\n",
            " |      Implement iter(self).\n",
            " |  \n",
            " |  __next__(self, /)\n",
            " |      Implement next(self).\n",
            " |  \n",
            " |  __reduce__(...)\n",
            " |      Return state information for pickling.\n",
            " |  \n",
            " |  ----------------------------------------------------------------------\n",
            " |  Static methods defined here:\n",
            " |  \n",
            " |  __new__(*args, **kwargs) from builtins.type\n",
            " |      Create and return a new object.  See help(type) for accurate signature.\n",
            "\n"
          ]
        }
      ]
    },
    {
      "cell_type": "code",
      "metadata": {
        "colab": {
          "base_uri": "https://localhost:8080/"
        },
        "id": "1rq1xxvnioZC",
        "outputId": "5768990f-fce6-446d-cb2b-f32fe946a93b"
      },
      "source": [
        "# 반복문과 zip 활용\n",
        "a = [1,2,3,4,5]\n",
        "b = [10,20,30,40,50]\n",
        "c = [100,200,300,400,500]\n",
        "print(zip(a,b,c))\n",
        "for x,y,z in zip(a,b,c) :\n",
        "    print(x,y,z)\n",
        "\n",
        "\n",
        "for x in zip(a,b,c) :\n",
        "    print(x)"
      ],
      "execution_count": 83,
      "outputs": [
        {
          "output_type": "stream",
          "name": "stdout",
          "text": [
            "<zip object at 0x7fafb24268c0>\n",
            "1 10 100\n",
            "2 20 200\n",
            "3 30 300\n",
            "4 40 400\n",
            "5 50 500\n",
            "(1, 10, 100)\n",
            "(2, 20, 200)\n",
            "(3, 30, 300)\n",
            "(4, 40, 400)\n",
            "(5, 50, 500)\n"
          ]
        }
      ]
    },
    {
      "cell_type": "code",
      "metadata": {
        "colab": {
          "base_uri": "https://localhost:8080/"
        },
        "id": "U-9SREYAinaD",
        "outputId": "cbaf130d-761e-4cad-8d0e-9d527e549211"
      },
      "source": [
        "# break\n",
        "IntCollection=[0,1,2,3,4,5,6,7]\n",
        "for x in IntCollection:\n",
        "    if(x==3):\n",
        "        break\n",
        "    else:\n",
        "        print(x)"
      ],
      "execution_count": 1,
      "outputs": [
        {
          "output_type": "stream",
          "name": "stdout",
          "text": [
            "0\n",
            "1\n",
            "2\n"
          ]
        }
      ]
    },
    {
      "cell_type": "code",
      "metadata": {
        "colab": {
          "base_uri": "https://localhost:8080/"
        },
        "id": "zw93DgssipZu",
        "outputId": "05c2a35e-38cf-443c-83ee-19bff6fcca69"
      },
      "source": [
        "# continue\n",
        "IntCollection=[0,1,2,3,4,5,6,7]\n",
        "for x in IntCollection:\n",
        "    if(x==3):\n",
        "        continue\n",
        "    else:\n",
        "        print(x)"
      ],
      "execution_count": 2,
      "outputs": [
        {
          "output_type": "stream",
          "name": "stdout",
          "text": [
            "0\n",
            "1\n",
            "2\n",
            "4\n",
            "5\n",
            "6\n",
            "7\n"
          ]
        }
      ]
    },
    {
      "cell_type": "code",
      "metadata": {
        "colab": {
          "base_uri": "https://localhost:8080/"
        },
        "id": "iEHSy0S4ixFf",
        "outputId": "cfe792ba-0301-4267-a2c2-9d43dfb908e3"
      },
      "source": [
        "# 반복문의 다양한 활용\n",
        "list_ = [1,2,3,4,5]\n",
        "\n",
        "def foo(list_):\n",
        "  print(list_)\n",
        "\n",
        "print('foo(list_[i])')\n",
        "for i in range(len(list_)):\n",
        "    foo(list_[i])\n",
        "\n",
        "print('foo(element)')\n",
        "for element in list_:\n",
        "    foo(element)"
      ],
      "execution_count": 3,
      "outputs": [
        {
          "output_type": "stream",
          "name": "stdout",
          "text": [
            "foo(list_[i])\n",
            "1\n",
            "2\n",
            "3\n",
            "4\n",
            "5\n",
            "foo(element)\n",
            "1\n",
            "2\n",
            "3\n",
            "4\n",
            "5\n"
          ]
        }
      ]
    },
    {
      "cell_type": "markdown",
      "metadata": {
        "id": "eDXxL_Pdi98e"
      },
      "source": [
        "## 에러\n",
        "\n",
        "- 띄어쓰기 에러\n",
        "- sintax 잘못된 문법 에러\n",
        "- while문에서 컨트롤씨 누르면 인터럽트 에러\n"
      ]
    },
    {
      "cell_type": "code",
      "metadata": {
        "colab": {
          "base_uri": "https://localhost:8080/",
          "height": 134
        },
        "id": "m5RwLx0di_Ux",
        "outputId": "7aba3f76-8402-4165-ce62-62e6a032f2a2"
      },
      "source": [
        "# 케이스 1 - IndentationError\n",
        "\n",
        "def print_list(list):\n",
        "for item in list: # 에러 확인 및 해결필요\n",
        "print(item)"
      ],
      "execution_count": 4,
      "outputs": [
        {
          "output_type": "error",
          "ename": "IndentationError",
          "evalue": "ignored",
          "traceback": [
            "\u001b[0;36m  File \u001b[0;32m\"<ipython-input-4-9e5bcc334641>\"\u001b[0;36m, line \u001b[0;32m4\u001b[0m\n\u001b[0;31m    for item in list: # 에러 확인 및 해결필요\u001b[0m\n\u001b[0m      ^\u001b[0m\n\u001b[0;31mIndentationError\u001b[0m\u001b[0;31m:\u001b[0m expected an indented block\n"
          ]
        }
      ]
    },
    {
      "cell_type": "code",
      "metadata": {
        "colab": {
          "base_uri": "https://localhost:8080/",
          "height": 134
        },
        "id": "V8kuZDhejCzp",
        "outputId": "b9544895-1148-46f2-f099-69c15f85ab95"
      },
      "source": [
        "# 케이스 2 - SyntaxError\n",
        "\n",
        "123ddf"
      ],
      "execution_count": 5,
      "outputs": [
        {
          "output_type": "error",
          "ename": "SyntaxError",
          "evalue": "ignored",
          "traceback": [
            "\u001b[0;36m  File \u001b[0;32m\"<ipython-input-5-4e3b401ad3b5>\"\u001b[0;36m, line \u001b[0;32m3\u001b[0m\n\u001b[0;31m    123ddf\u001b[0m\n\u001b[0m         ^\u001b[0m\n\u001b[0;31mSyntaxError\u001b[0m\u001b[0;31m:\u001b[0m invalid syntax\n"
          ]
        }
      ]
    },
    {
      "cell_type": "code",
      "metadata": {
        "colab": {
          "base_uri": "https://localhost:8080/",
          "height": 205
        },
        "id": "ZTi7d_jxjDnh",
        "outputId": "757641a7-70ff-4338-babb-dbbd919497b0"
      },
      "source": [
        "# 케이스 3 - KeyboardInterrupt\n",
        "\n",
        "while True:\n",
        "  pass"
      ],
      "execution_count": 6,
      "outputs": [
        {
          "output_type": "error",
          "ename": "KeyboardInterrupt",
          "evalue": "ignored",
          "traceback": [
            "\u001b[0;31m---------------------------------------------------------------------------\u001b[0m",
            "\u001b[0;31mKeyboardInterrupt\u001b[0m                         Traceback (most recent call last)",
            "\u001b[0;32m<ipython-input-6-8b9c5ee2054e>\u001b[0m in \u001b[0;36m<module>\u001b[0;34m()\u001b[0m\n\u001b[1;32m      2\u001b[0m \u001b[0;34m\u001b[0m\u001b[0m\n\u001b[1;32m      3\u001b[0m \u001b[0;32mwhile\u001b[0m \u001b[0;32mTrue\u001b[0m\u001b[0;34m:\u001b[0m\u001b[0;34m\u001b[0m\u001b[0;34m\u001b[0m\u001b[0m\n\u001b[0;32m----> 4\u001b[0;31m   \u001b[0;32mpass\u001b[0m\u001b[0;34m\u001b[0m\u001b[0;34m\u001b[0m\u001b[0m\n\u001b[0m",
            "\u001b[0;31mKeyboardInterrupt\u001b[0m: "
          ]
        }
      ]
    },
    {
      "cell_type": "code",
      "metadata": {
        "colab": {
          "base_uri": "https://localhost:8080/",
          "height": 223
        },
        "id": "LMWPgIDljGo9",
        "outputId": "775e4f7f-98c1-4ca6-95c5-6e66f54ab70e"
      },
      "source": [
        "# 케이스 4 - TypeError\n",
        "\n",
        "# print(1) / 232\n",
        "\n",
        "a,b = 0\n",
        "print(a,b)"
      ],
      "execution_count": 8,
      "outputs": [
        {
          "output_type": "error",
          "ename": "TypeError",
          "evalue": "ignored",
          "traceback": [
            "\u001b[0;31m---------------------------------------------------------------------------\u001b[0m",
            "\u001b[0;31mTypeError\u001b[0m                                 Traceback (most recent call last)",
            "\u001b[0;32m<ipython-input-8-6b4a80de8be5>\u001b[0m in \u001b[0;36m<module>\u001b[0;34m()\u001b[0m\n\u001b[1;32m      3\u001b[0m \u001b[0;31m# print(1) / 232\u001b[0m\u001b[0;34m\u001b[0m\u001b[0;34m\u001b[0m\u001b[0;34m\u001b[0m\u001b[0m\n\u001b[1;32m      4\u001b[0m \u001b[0;34m\u001b[0m\u001b[0m\n\u001b[0;32m----> 5\u001b[0;31m \u001b[0ma\u001b[0m\u001b[0;34m,\u001b[0m\u001b[0mb\u001b[0m \u001b[0;34m=\u001b[0m \u001b[0;36m0\u001b[0m\u001b[0;34m\u001b[0m\u001b[0;34m\u001b[0m\u001b[0m\n\u001b[0m\u001b[1;32m      6\u001b[0m \u001b[0mprint\u001b[0m\u001b[0;34m(\u001b[0m\u001b[0ma\u001b[0m\u001b[0;34m,\u001b[0m\u001b[0mb\u001b[0m\u001b[0;34m)\u001b[0m\u001b[0;34m\u001b[0m\u001b[0;34m\u001b[0m\u001b[0m\n",
            "\u001b[0;31mTypeError\u001b[0m: cannot unpack non-iterable int object"
          ]
        }
      ]
    },
    {
      "cell_type": "code",
      "metadata": {
        "colab": {
          "base_uri": "https://localhost:8080/",
          "height": 205
        },
        "id": "yCaa1kBUjWa9",
        "outputId": "cc275a48-7904-41c9-e6cd-5e2c4cafabdd"
      },
      "source": [
        "# 케이스 5 - ZeroDivisionError\n",
        "\n",
        "value = 2/0"
      ],
      "execution_count": 9,
      "outputs": [
        {
          "output_type": "error",
          "ename": "ZeroDivisionError",
          "evalue": "ignored",
          "traceback": [
            "\u001b[0;31m---------------------------------------------------------------------------\u001b[0m",
            "\u001b[0;31mZeroDivisionError\u001b[0m                         Traceback (most recent call last)",
            "\u001b[0;32m<ipython-input-9-3213cee69b6c>\u001b[0m in \u001b[0;36m<module>\u001b[0;34m()\u001b[0m\n\u001b[1;32m      1\u001b[0m \u001b[0;31m# 케이스 5 - ZeroDivisionError\u001b[0m\u001b[0;34m\u001b[0m\u001b[0;34m\u001b[0m\u001b[0;34m\u001b[0m\u001b[0m\n\u001b[1;32m      2\u001b[0m \u001b[0;34m\u001b[0m\u001b[0m\n\u001b[0;32m----> 3\u001b[0;31m \u001b[0mvalue\u001b[0m \u001b[0;34m=\u001b[0m \u001b[0;36m2\u001b[0m\u001b[0;34m/\u001b[0m\u001b[0;36m0\u001b[0m\u001b[0;34m\u001b[0m\u001b[0;34m\u001b[0m\u001b[0m\n\u001b[0m",
            "\u001b[0;31mZeroDivisionError\u001b[0m: division by zero"
          ]
        }
      ]
    },
    {
      "cell_type": "code",
      "metadata": {
        "colab": {
          "base_uri": "https://localhost:8080/"
        },
        "id": "Su2QOgrzjYW4",
        "outputId": "da5bcb04-b825-4fe9-dbb6-0ce24fd3594f"
      },
      "source": [
        "# 특이 케이스 6 - 경고(warning) // ignore\n",
        "def A():\n",
        "  a = 0\n",
        "  c =0\n",
        "  print(a,c,) # 경고는 명시적으로 보이지 않지만, 메모리 비효율/휴먼 에러 등이 발생할 수 있다.\n",
        "\n",
        "A()"
      ],
      "execution_count": 11,
      "outputs": [
        {
          "output_type": "stream",
          "name": "stdout",
          "text": [
            "0 0\n"
          ]
        }
      ]
    },
    {
      "cell_type": "markdown",
      "metadata": {
        "id": "WQsffu3RkIMf"
      },
      "source": [
        "# 컬렉션 자료형의 내장메소드"
      ]
    },
    {
      "cell_type": "markdown",
      "metadata": {
        "id": "nHpm_4sqkO9e"
      },
      "source": [
        "## append(), extend(), insert()\n",
        "\n",
        "extend ==> 리스트를 이어서 추가해주는 것.(확장의 개념)\n",
        "\n",
        "이외에는 삽입의 의미."
      ]
    },
    {
      "cell_type": "code",
      "metadata": {
        "colab": {
          "base_uri": "https://localhost:8080/"
        },
        "id": "cAdQ7GcXcuIP",
        "outputId": "e43c722f-1cc4-4b04-eba0-4019486e7b89"
      },
      "source": [
        "list_1 = ['bread', 'meat']\n",
        "list_2 = ['Lettuce',2 ,5]\n",
        "list_1.extend(list_2)\n",
        "print('list1: {}, list2: {}'.format(list_1, list_2))"
      ],
      "execution_count": 36,
      "outputs": [
        {
          "output_type": "stream",
          "name": "stdout",
          "text": [
            "list1: ['bread', 'meat', 'Lettuce', 2, 5], list2: ['Lettuce', 2, 5]\n"
          ]
        }
      ]
    },
    {
      "cell_type": "code",
      "metadata": {
        "id": "KG4nGgmXkMXM"
      },
      "source": [
        "my_list=[]\n",
        "for i in range(1000, 2200):\n",
        "    if (i%7==0) and (i%5!=0):\n",
        "        my_list.append(str(i))\n",
        "\n",
        "print(','.join(my_list))"
      ],
      "execution_count": null,
      "outputs": []
    },
    {
      "cell_type": "code",
      "metadata": {
        "colab": {
          "base_uri": "https://localhost:8080/"
        },
        "id": "LlBtekW3j-ZW",
        "outputId": "e78faced-0d17-450c-f403-7fc72310018a"
      },
      "source": [
        "my_list=[]\n",
        "for i in range(1000, 2200):\n",
        "    if (i%7==0) and (i%5!=0):\n",
        "        my_list.insert(len(my_list), str(i))\n",
        "\n",
        "print(','.join(my_list))"
      ],
      "execution_count": 12,
      "outputs": [
        {
          "output_type": "stream",
          "name": "stdout",
          "text": [
            "1001,1008,1022,1029,1036,1043,1057,1064,1071,1078,1092,1099,1106,1113,1127,1134,1141,1148,1162,1169,1176,1183,1197,1204,1211,1218,1232,1239,1246,1253,1267,1274,1281,1288,1302,1309,1316,1323,1337,1344,1351,1358,1372,1379,1386,1393,1407,1414,1421,1428,1442,1449,1456,1463,1477,1484,1491,1498,1512,1519,1526,1533,1547,1554,1561,1568,1582,1589,1596,1603,1617,1624,1631,1638,1652,1659,1666,1673,1687,1694,1701,1708,1722,1729,1736,1743,1757,1764,1771,1778,1792,1799,1806,1813,1827,1834,1841,1848,1862,1869,1876,1883,1897,1904,1911,1918,1932,1939,1946,1953,1967,1974,1981,1988,2002,2009,2016,2023,2037,2044,2051,2058,2072,2079,2086,2093,2107,2114,2121,2128,2142,2149,2156,2163,2177,2184,2191,2198\n"
          ]
        }
      ]
    },
    {
      "cell_type": "code",
      "metadata": {
        "colab": {
          "base_uri": "https://localhost:8080/"
        },
        "id": "EdR-L_62kcJI",
        "outputId": "095b055b-62f0-46ba-ab43-76425b8414ff"
      },
      "source": [
        "words = []\n",
        "while True:\n",
        "    char = input()\n",
        "    if char:\n",
        "        words.append(char.upper())\n",
        "        # while 문을 통해 char = input() 의 입력을 계속해서 받으므로,\n",
        "        # 입력할 데이터가 끝났으면 아무것도 입력하지 않고 엔터를 입력한다.\n",
        "    else:\n",
        "        break\n",
        "print(words)\n",
        "for word in words:\n",
        "    print(word)"
      ],
      "execution_count": 29,
      "outputs": [
        {
          "output_type": "stream",
          "name": "stdout",
          "text": [
            "apple\n",
            "banana\n",
            "shit\n",
            "\n",
            "['APPLE', 'BANANA', 'SHIT']\n",
            "APPLE\n",
            "BANANA\n",
            "SHIT\n"
          ]
        }
      ]
    },
    {
      "cell_type": "code",
      "metadata": {
        "colab": {
          "base_uri": "https://localhost:8080/"
        },
        "id": "JO-rZzfgbcbK",
        "outputId": "60b903c9-6a3b-427f-f2f8-31cb16dcc84b"
      },
      "source": [
        "values = []\n",
        "for i in range(100,300):\n",
        "    char = str(i)\n",
        "\n",
        "    if (int(char[0])%2==0) and (int(char[2])%2==0):\n",
        "        values.append(char)\n",
        "print(values)\n",
        "print(\",\".join(values))"
      ],
      "execution_count": 35,
      "outputs": [
        {
          "output_type": "stream",
          "name": "stdout",
          "text": [
            "['200', '202', '204', '206', '208', '210', '212', '214', '216', '218', '220', '222', '224', '226', '228', '230', '232', '234', '236', '238', '240', '242', '244', '246', '248', '250', '252', '254', '256', '258', '260', '262', '264', '266', '268', '270', '272', '274', '276', '278', '280', '282', '284', '286', '288', '290', '292', '294', '296', '298']\n",
            "200,202,204,206,208,210,212,214,216,218,220,222,224,226,228,230,232,234,236,238,240,242,244,246,248,250,252,254,256,258,260,262,264,266,268,270,272,274,276,278,280,282,284,286,288,290,292,294,296,298\n"
          ]
        }
      ]
    },
    {
      "cell_type": "markdown",
      "metadata": {
        "id": "PJF32gNMdVOA"
      },
      "source": [
        "## del, remove, pop\n",
        "- remove()는 지우고자 하는 인덱스가 아닌, 값을 입력하는 방식\n",
        "- pop()과 del은 지우고자 하는 리스트의 인덱스를 받아서 지우는 방식\n",
        "- pop()은 지워진 인덱스의 값을 반환하지만 del은 반환하지 않습니다. 이 차이 때문에 미세하게 del이 pop()보다 수행속도가 더 빠릅니다. 또한 remove()와 동일하게 pop()과 del은 특정 인덱스를 삭제한 다음, 리스트를 재조정합니다. \n",
        "\n",
        "https://brownbears.tistory.com/452"
      ]
    },
    {
      "cell_type": "code",
      "metadata": {
        "colab": {
          "base_uri": "https://localhost:8080/"
        },
        "id": "8BYCCba8eMNm",
        "outputId": "7f0f9e0c-001e-4439-85b0-fa458d2d898f"
      },
      "source": [
        "list1 = [11, 12, 43, 4, 6]\n",
        "for i in list1.copy():\n",
        "    if not i % 2 :\n",
        "        list1.remove(i)\n",
        "print(list1)"
      ],
      "execution_count": 72,
      "outputs": [
        {
          "output_type": "stream",
          "name": "stdout",
          "text": [
            "[11, 43]\n"
          ]
        }
      ]
    },
    {
      "cell_type": "code",
      "metadata": {
        "colab": {
          "base_uri": "https://localhost:8080/"
        },
        "id": "S5lsEm88eeNC",
        "outputId": "de97872e-6b8f-45f6-9814-0efc053c4975"
      },
      "source": [
        "list2 = [11, 12, 43, 4, 6]\n",
        "for i in list2:\n",
        "    if not i % 2:\n",
        "        list2.remove(i)\n",
        "print(list2)"
      ],
      "execution_count": 73,
      "outputs": [
        {
          "output_type": "stream",
          "name": "stdout",
          "text": [
            "[11, 43, 6]\n"
          ]
        }
      ]
    },
    {
      "cell_type": "markdown",
      "metadata": {
        "id": "VwjoqUi-7Hu0"
      },
      "source": [
        "AI_05_정세연 — 오늘 오후 7:59\n",
        "렉쳐노트 del,remove,pop부분말인데요,,\n",
        "```\n",
        "list1 = [11, 12, 43, 4, 6]\n",
        "for i in list1.copy():\n",
        "    if not i % 2 :\n",
        "        list1.remove(i)\n",
        "print(list1)\n",
        "이거는 결과가 [11,43]이고\n",
        "list2 = [11, 12, 43, 4, 6]\n",
        "for i in list2:\n",
        "    if not i % 2:\n",
        "        list2.remove(i)\n",
        "print(list2)\n",
        "이렇게 하면 결과가 [11, 43, 6] 나오거든요..??\n",
        "```\n",
        "왜 이럴까요..? 6이 둘다 안나와야 맞을 것 같은데\n",
        "copy를 안해준 부분에서는 그냥 6이 나오네요\n",
        "\n",
        "AI_05_이주연 — 오늘 오후 8:44\n",
        "이거 저도 궁금해서 직접 디버깅 해봤는데... copy를 안 하면 for문을 돌때마다 리스트에 있는 값이 직접 삭제돼서 모든 값이 for문에 적용되지 않는 것 같아요.\n",
        "for문에서 11->12->43->4->6이 모두 도는게 아니라\n",
        "첫번째 인덱스의 11 -> 삭제되지 않음 -> 두번째 인덱스의 12 -> 12는 짝수이므로 삭제됨 [11,43,4,6] -> 변경된 리스트에서 세번째 인덱스값(4) 으로 넘어감 -> 4가 짝수이므로 삭제됨[11,43,6] -> 변경된 리스트에서 네번째 인덱스값으로 넘어가야 하는데 값이 없어서 for문 종료\n",
        "이런식인 것 같아요... 혹시 이해가 가실까요?\n",
        "그래서 43이 있는 자리는 홀수 짝수 여부와 상관 없이 무조건 출력됩니다. 실제로 40을 넣어봐도 [11,40,6]이 나오는 걸 확인하실 수 있습니다!\n",
        "\n",
        "AI_05_박예은 — 오늘 오후 8:54\n",
        "인덱스 튕기는게 재밌네요 ㅎㅎ , 주연님이 이미 설명해주신 부분 요렇게 참고해보셔도 좋을 것 같아요 ! - print(i) / print(list2) 추가된 내용이에요!"
      ]
    },
    {
      "cell_type": "code",
      "metadata": {
        "colab": {
          "base_uri": "https://localhost:8080/"
        },
        "id": "eZVbNX3L1W8F",
        "outputId": "3247bc5c-d7c9-4fa4-e8f7-9e3825fda580"
      },
      "source": [
        "list4 = [11,12,43,4,6]\n",
        "for i in list4:\n",
        "    print(i)\n",
        "    if not i % 2:  # 짝수인 경우 참\n",
        "        list4.remove(i)\n",
        "    print(list4)\n",
        "print(list4)"
      ],
      "execution_count": 86,
      "outputs": [
        {
          "output_type": "stream",
          "name": "stdout",
          "text": [
            "11\n",
            "[11, 12, 43, 4, 6]\n",
            "12\n",
            "[11, 43, 4, 6]\n",
            "4\n",
            "[11, 43, 6]\n",
            "[11, 43, 6]\n"
          ]
        }
      ]
    },
    {
      "cell_type": "markdown",
      "metadata": {
        "id": "50v801oK7ZJY"
      },
      "source": [
        "그런데 아까전엔 지나치듯 봐서 몰랐는데, \n",
        "if not i % 2\n",
        " 이 부분이 왜 짝수를 지정할까요? \n",
        "i%2는 만약 i가 짝수라면 0이고, i가 홀수라면 1이 되죠..?\n",
        "if not ==> ~~ 이 아니라면\n",
        "if not i%2 ==> 만약 i%2가 아니라면, list에서 i를 remove해라. \n",
        "<만약 i%2가 아니라면>  ==> 이 부분 잘 이해가 안되네요..  차라리 \n",
        "if not (i%2 == 1):\n",
        " 이렇게 되면,, 짝수일 때 remove해라 라고 이해될 텐데요 \n",
        "\n",
        "AI_05_정인중 — 오늘 오후 9:37\n",
        "정수에서 0은 bool값에서 False로 해석돼요. 따라서 i%2는 i를 2로나눴을때 나머지값이 나오기때문에 짝수일 경우에는 0이 나오므로 False인데 앞에 not이 있으니까 True가 됩니다\n",
        "\n",
        "아..  그러니까, 짝수면 if not False가 되어서, i를 지워라 가 되는거고, 홀수면 if not True가 되어서, False가 되니까 아래의 remove를 실행하지 않게 되네요! 감사합니다 🤩\n"
      ]
    },
    {
      "cell_type": "code",
      "metadata": {
        "colab": {
          "base_uri": "https://localhost:8080/"
        },
        "id": "PNhfFGOi07KW",
        "outputId": "b11190ab-3db0-40ea-a2a5-71144b662421"
      },
      "source": [
        "list2 = [11, 12, 43, 4, 6]\n",
        "for i in list2:\n",
        "    if not i % 2:\n",
        "        print(i)"
      ],
      "execution_count": 83,
      "outputs": [
        {
          "output_type": "stream",
          "name": "stdout",
          "text": [
            "12\n",
            "4\n",
            "6\n"
          ]
        }
      ]
    },
    {
      "cell_type": "code",
      "metadata": {
        "colab": {
          "base_uri": "https://localhost:8080/"
        },
        "id": "1yg4XHXb5an4",
        "outputId": "a532ed0c-7839-4342-a0aa-7152bbee1d17"
      },
      "source": [
        "list4 = [11,12,43,4,6]\n",
        "for i in list4:\n",
        "    print(i)\n",
        "    if not (i % 2==1):  # 짝수인 경우 참\n",
        "        list4.remove(i)\n",
        "    print(list4)\n",
        "print(list4)"
      ],
      "execution_count": 85,
      "outputs": [
        {
          "output_type": "stream",
          "name": "stdout",
          "text": [
            "11\n",
            "[11, 12, 43, 4, 6]\n",
            "12\n",
            "[11, 43, 4, 6]\n",
            "4\n",
            "[11, 43, 6]\n",
            "[11, 43, 6]\n"
          ]
        }
      ]
    },
    {
      "cell_type": "code",
      "metadata": {
        "colab": {
          "base_uri": "https://localhost:8080/"
        },
        "id": "tG_alaeOetOW",
        "outputId": "43f5635b-22c6-4cf8-e7b9-cb2faa10f574"
      },
      "source": [
        "list3 = [11, 12, 43, 4, 6]\n",
        "ll = list3.copy()\n",
        "print(id(ll), id(list3))\n",
        "print(list3, ll)\n",
        "del list3[3]\n",
        "print(list3,ll)"
      ],
      "execution_count": 61,
      "outputs": [
        {
          "output_type": "stream",
          "name": "stdout",
          "text": [
            "140653974586304 140653974586384\n",
            "[11, 12, 43, 4, 6] [11, 12, 43, 4, 6]\n",
            "[11, 12, 43, 6] [11, 12, 43, 4, 6]\n"
          ]
        }
      ]
    },
    {
      "cell_type": "code",
      "metadata": {
        "colab": {
          "base_uri": "https://localhost:8080/"
        },
        "id": "TxcJLYl0jrMX",
        "outputId": "5f1b7f64-1f6c-4ef9-dd5c-d49387722b9e"
      },
      "source": [
        "my_list = [1, 2, 3, 4, 5]\n",
        "my_list[0] = 99\n",
        "print(my_list)\n",
        "\n",
        "del my_list[0]\n",
        "print(my_list)"
      ],
      "execution_count": 68,
      "outputs": [
        {
          "output_type": "stream",
          "name": "stdout",
          "text": [
            "[99, 2, 3, 4, 5]\n",
            "[2, 3, 4, 5]\n"
          ]
        }
      ]
    },
    {
      "cell_type": "code",
      "metadata": {
        "colab": {
          "base_uri": "https://localhost:8080/"
        },
        "id": "pXi2ZE-BjxdR",
        "outputId": "86f320fb-e87f-42f7-fe35-e323a0e605a0"
      },
      "source": [
        "my_list = [1, 2, 3, 4, 5]\n",
        "my_list[0] = 99\n",
        "print(my_list)\n",
        "\n",
        "my_list.pop()\n",
        "print(my_list)"
      ],
      "execution_count": 69,
      "outputs": [
        {
          "output_type": "stream",
          "name": "stdout",
          "text": [
            "[99, 2, 3, 4, 5]\n",
            "[99, 2, 3, 4]\n"
          ]
        }
      ]
    },
    {
      "cell_type": "markdown",
      "metadata": {
        "id": "wjb3kWpAkTfI"
      },
      "source": [
        "## count()와 index()\n",
        "- count() : 지정된 값의 출현 횟수\n",
        "- index() : 지정된 값의 첫 번째 인덱스를 내주는 메서드"
      ]
    },
    {
      "cell_type": "code",
      "metadata": {
        "colab": {
          "base_uri": "https://localhost:8080/"
        },
        "id": "wNV2Q-a2kVQ4",
        "outputId": "29087d3c-09f4-48d3-a015-63bda9b73039"
      },
      "source": [
        "my_list = ['xyz', 'XYZ' 'abc', 'ABC']\n",
        "print(\"Index for xyz : \",  my_list.index( 'xyz' ))\n",
        "print(\"Index for ABC : \",  my_list.index( 'ABC' ))"
      ],
      "execution_count": 70,
      "outputs": [
        {
          "output_type": "stream",
          "name": "stdout",
          "text": [
            "Index for xyz :  0\n",
            "Index for ABC :  2\n"
          ]
        }
      ]
    },
    {
      "cell_type": "code",
      "metadata": {
        "colab": {
          "base_uri": "https://localhost:8080/"
        },
        "id": "FE7Y7Oo2kjQj",
        "outputId": "fd2bd6f7-6cae-4dcb-dd0d-15c2d0aa6038"
      },
      "source": [
        "my_list = ['xyz', 'XYZ' 'abc', 'ABC']\n",
        "print(\"Count for xyz : \",  my_list.count( 'xyz' ))\n",
        "print(\"Count for ABC : \",  my_list.count( 'ABC' ))"
      ],
      "execution_count": 71,
      "outputs": [
        {
          "output_type": "stream",
          "name": "stdout",
          "text": [
            "Count for xyz :  1\n",
            "Count for ABC :  1\n"
          ]
        }
      ]
    },
    {
      "cell_type": "code",
      "metadata": {
        "colab": {
          "base_uri": "https://localhost:8080/"
        },
        "id": "wc2IvIB9mUcw",
        "outputId": "090f9e6c-984a-4da1-e5be-74faebb232fd"
      },
      "source": [
        "# 뭘 하려고 하는건지 모르겠음.\n",
        "import math\n",
        "def bin_search(li,element):\n",
        "    bottom = 0\n",
        "    top = len(li)-1  #6\n",
        "    index = -1\n",
        "    while top >= bottom and index == -1:\n",
        "        mid = int(math.floor((top+bottom) / 2.0))   # 실수를 입력하면내림하여 정수를 반환하는 함수\n",
        "        if li[mid] == element:\n",
        "            index = mid\n",
        "        elif li[mid] > element:\n",
        "            top = mid-1\n",
        "        else:\n",
        "            bottom = mid+1\n",
        "    return index\n",
        "\n",
        "li=[2,5,7,9,11,17,222]\n",
        "print(bin_search(li,11))\n",
        "print(bin_search(li,102))"
      ],
      "execution_count": 74,
      "outputs": [
        {
          "output_type": "stream",
          "name": "stdout",
          "text": [
            "4\n",
            "-1\n"
          ]
        }
      ]
    },
    {
      "cell_type": "markdown",
      "metadata": {
        "id": "ulJC9vt5x6-T"
      },
      "source": [
        "## enumerate"
      ]
    },
    {
      "cell_type": "code",
      "metadata": {
        "colab": {
          "base_uri": "https://localhost:8080/"
        },
        "id": "St-G_dQwpBww",
        "outputId": "94a5a19b-4711-46c4-a627-5bed85f19990"
      },
      "source": [
        "li = [12,24,35,70,88,120]\n",
        "for (i,x) in enumerate(li):  # 순서가 있는 자료형(list, set, tuple, dictionary, string)을 입력으로 받아 인덱스 값을 포함하는 enumerate 객체를 리턴\n",
        "    print(i, x)\n",
        "    if i not in (0,3,5):\n",
        "       li = x\n",
        "print(li)"
      ],
      "execution_count": 77,
      "outputs": [
        {
          "output_type": "stream",
          "name": "stdout",
          "text": [
            "0 12\n",
            "1 24\n",
            "2 35\n",
            "3 70\n",
            "4 88\n",
            "5 120\n",
            "88\n"
          ]
        }
      ]
    },
    {
      "cell_type": "markdown",
      "metadata": {
        "id": "B3kzZRcWyG8F"
      },
      "source": [
        "## set과 add()"
      ]
    },
    {
      "cell_type": "code",
      "metadata": {
        "colab": {
          "base_uri": "https://localhost:8080/"
        },
        "id": "rFmyIgNesnVV",
        "outputId": "b17ebfcd-dc25-426f-8edf-e7a3daaef267"
      },
      "source": [
        "def list_update(data):\n",
        "    new_li=[]\n",
        "    new_set = set()\n",
        "    for item in data:\n",
        "        if item not in new_set:\n",
        "            new_set.add(item)   # set에서는 요소를 추가할 때 add()함수를 쓴다. \n",
        "            new_li.append(item)\n",
        "\n",
        "    return new_li, new_set\n",
        "\n",
        "list_test=[120,120,10,20,30,20]\n",
        "print(list_update(list_test))"
      ],
      "execution_count": 79,
      "outputs": [
        {
          "output_type": "stream",
          "name": "stdout",
          "text": [
            "([120, 10, 20, 30], {120, 10, 20, 30})\n"
          ]
        }
      ]
    },
    {
      "cell_type": "markdown",
      "metadata": {
        "id": "Js98vV1KwQB8"
      },
      "source": [
        "## sort, sorted, 다중정렬\n",
        "\n",
        "https://cigiko.cafe24.com/python-%EC%A0%95%EB%A0%AC%ED%95%98%EA%B8%B0-sort%EC%99%80-sorted/"
      ]
    },
    {
      "cell_type": "code",
      "metadata": {
        "colab": {
          "base_uri": "https://localhost:8080/"
        },
        "id": "EnwrkrbNtXT5",
        "outputId": "a1ad7f67-55c2-4ec4-fc86-88d0a9f060a5"
      },
      "source": [
        "from operator import itemgetter\n",
        "# operator.itemgetter 모듈은 주로 sorted와 같은 함수의 key 매개변수에 적용되어 다중 수준의 정렬을 가능하게 해주는 모듈\n",
        "\n",
        "l = []\n",
        "while True:\n",
        "    s = input()\n",
        "    if not s:\n",
        "        break\n",
        "    l.append(tuple(s.split(\",\")))  # 입력받는 s를 ,로 나눈다음 tuple로 만들어서 list에 추가해줘라.\n",
        "\n",
        "print(sorted(l, key=itemgetter(0,1,2)))  #리스트를 정렬한다. key를 기준으로 하여 순서대로\n",
        "\n"
      ],
      "execution_count": 80,
      "outputs": [
        {
          "output_type": "stream",
          "name": "stdout",
          "text": [
            "adam, 10, Newyork\n",
            "John, 5, Afreeca\n",
            "miho, 35, juji\n",
            "AAdo, 22, age\n",
            "\n",
            "[('AAdo', ' 22', ' age'), ('John', ' 5', ' Afreeca'), ('adam', ' 10', ' Newyork'), ('miho', ' 35', ' juji')]\n"
          ]
        }
      ]
    },
    {
      "cell_type": "markdown",
      "metadata": {
        "id": "HaX4zc3mxwy7"
      },
      "source": [
        "## 딕셔너리 : get()"
      ]
    },
    {
      "cell_type": "code",
      "metadata": {
        "colab": {
          "base_uri": "https://localhost:8080/"
        },
        "id": "xYyfvlj0wTuq",
        "outputId": "3efdf9f0-fe3b-4e7b-a571-e4f32684b20c"
      },
      "source": [
        "dic = {}\n",
        "s=input()\n",
        "for s in s:\n",
        "    dic[s] = dic.get(s,0)+1  # get(찾고자하는 key, 찾는key가 없을 때 딕셔너리에 key와 함께 추가할 value)\\\n",
        "print(dic)\n",
        "print(['%s,%s' % (k, v) for k, v in dic.items()])\n",
        "print('\\n'.join(['%s,%s' % (k, v) for k, v in dic.items()]))"
      ],
      "execution_count": 90,
      "outputs": [
        {
          "output_type": "stream",
          "name": "stdout",
          "text": [
            "hello, world\n",
            "{'h': 1, 'e': 1, 'l': 3, 'o': 2, ',': 1, ' ': 1, 'w': 1, 'r': 1, 'd': 1}\n",
            "['h,1', 'e,1', 'l,3', 'o,2', ',,1', ' ,1', 'w,1', 'r,1', 'd,1']\n",
            "h,1\n",
            "e,1\n",
            "l,3\n",
            "o,2\n",
            ",,1\n",
            " ,1\n",
            "w,1\n",
            "r,1\n",
            "d,1\n"
          ]
        }
      ]
    },
    {
      "cell_type": "markdown",
      "metadata": {
        "id": "pnf6NUF4qz2D"
      },
      "source": [
        "# lambda\n",
        "람다 함수의 장점은 함수 객체를 반환한다. 따라서 함수 객체를 인수로 필요로하는 map 또는 filter와 같은 함수와 함께 사용할 때 유용하다."
      ]
    },
    {
      "cell_type": "code",
      "metadata": {
        "colab": {
          "base_uri": "https://localhost:8080/"
        },
        "id": "wvRfzkIotPjb",
        "outputId": "b9867fbf-09ad-4ce9-a3ef-5ac1cf650103"
      },
      "source": [
        "# 함수정의\n",
        "define_word = (lambda word1,define :  word1 * define)\n",
        "\n",
        "# 함수호출\n",
        "result = define_word('call_result_',5)\n",
        "\n",
        "# 결과출력\n",
        "print(result)"
      ],
      "execution_count": 1,
      "outputs": [
        {
          "output_type": "stream",
          "name": "stdout",
          "text": [
            "call_result_call_result_call_result_call_result_call_result_\n"
          ]
        }
      ]
    },
    {
      "cell_type": "markdown",
      "metadata": {
        "id": "x_ZC5iFNru6N"
      },
      "source": [
        "## map(function, iterable)\n",
        "- 첫 번째 매개변수로는 함수가 오고 두 번째 매개변수로는 반복 가능한 자료형(리스트, 튜플 등)이 옵니다.\n",
        "- map 함수의 반환 값은 map객체 이기 때문에 해당 자료형을 list 혹은 tuple로 형 변환시켜주어야 합니다.\n",
        "\n",
        "- 함수의 동작은 두 번째 인자로 들어온 반복 가능한 자료형 (리스트나 튜플)을 첫 번째 인자로 들어온 함수에 하나씩 집어넣어서 함수를 수행하는 함수입니다.\n",
        "\n",
        "- map(적용시킬 함수, 적용할 값들) 이런 식인 거죠.\n",
        "\n",
        "\n",
        "\n",
        "출처: https://blockdmask.tistory.com/531 [개발자 지망생]"
      ]
    },
    {
      "cell_type": "code",
      "metadata": {
        "colab": {
          "base_uri": "https://localhost:8080/"
        },
        "id": "-Uc1fGGmrHya",
        "outputId": "ee5689a6-b4f5-48c2-b7a7-89ad43002971"
      },
      "source": [
        "# 리스트 생성\n",
        "spelling = [\"test1\", \"test2\", \"test4 test5\", \"test3\"]\n",
        "\n",
        "# 람다함수적용\n",
        "shout_spells = map(lambda item: item + ('!!!'), spelling)  # map(function, iterable)\n",
        "\n",
        "\n",
        "\n",
        "# 리스트형태로 변환\n",
        "shout_spells_list = list(shout_spells)\n",
        "\n",
        "# 결과출력\n",
        "print(shout_spells)\n",
        "print(shout_spells_list)"
      ],
      "execution_count": 3,
      "outputs": [
        {
          "output_type": "stream",
          "name": "stdout",
          "text": [
            "<map object at 0x7f89081bc310>\n",
            "['test1!!!', 'test2!!!', 'test4 test5!!!', 'test3!!!']\n"
          ]
        }
      ]
    },
    {
      "cell_type": "markdown",
      "metadata": {
        "id": "ehGpCyepsELO"
      },
      "source": [
        "## filter(조건 함수, 순회 가능한 데이터)\n",
        "\n",
        "filter() 함수는 두번째 인자로 넘어온 데이터 중에서 첫번째 인자로 넘어온 조건 함수를 만족하는 데이터만을 반환합니다."
      ]
    },
    {
      "cell_type": "code",
      "metadata": {
        "colab": {
          "base_uri": "https://localhost:8080/"
        },
        "id": "HmM2oAEzrYES",
        "outputId": "6fc09be1-4e52-4feb-e68f-0df79df3938f"
      },
      "source": [
        "# 리스트 생성\n",
        "fellowship = ['frodo', 'samwise', 'merry', 'pippin', 'aragorn', 'boromir', 'legolas', 'gimli', 'gandalf']\n",
        "\n",
        "# 람다함수적용\n",
        "result = filter(lambda member: len(member) > 6, fellowship)  # True 만 반환\n",
        "\n",
        "# 리스트형태로 변환\n",
        "result_list = list(result)\n",
        "\n",
        "# 결과출력\n",
        "print(result_list)"
      ],
      "execution_count": 4,
      "outputs": [
        {
          "output_type": "stream",
          "name": "stdout",
          "text": [
            "['samwise', 'aragorn', 'boromir', 'legolas', 'gandalf']\n"
          ]
        }
      ]
    },
    {
      "cell_type": "markdown",
      "metadata": {
        "id": "0BjHwe9tsXiZ"
      },
      "source": [
        "## reduce(function, iterable, initializer=None)\n",
        "reduce(집계 함수, 순회 가능한 데이터[, 초기값])\n",
        "\n",
        "기본적으로 초기값을 기준으로 데이터를 루프 돌면서 집계 함수를 계속해서 적용하면서 데이터를 누적하는 방식으로 작동합니다.\n",
        "\n",
        " 첫번째 인자는 누적자(accumulator), 두번째 인자는 현재값(current value)가 넘어오게 됩니다. 누적자는 함수 실행의 시작부터 끝까지 계속해서 재사용되는 값이고, 현재값은 루프 돌면서 계속해서 바뀌는 값입니다.\n",
        "\n",
        " https://www.daleseo.com/python-functools-reduce/\n",
        "\n",
        " 단점 : # 람다 : 에러가 뜰 때 어느 부분에서 뜨는지 알수 없다. \n",
        "\n",
        "\n",
        "map-reduce-filter 차이 :  https://gonigoni.kr/posts/python-map-reduce-filter/"
      ]
    },
    {
      "cell_type": "code",
      "metadata": {
        "colab": {
          "base_uri": "https://localhost:8080/"
        },
        "id": "fsozWbjSsP6V",
        "outputId": "e7ba1dd1-72e5-4ac7-8a67-2d7eed95434f"
      },
      "source": [
        "# functools 모듈 사용\n",
        "from functools import reduce\n",
        "\n",
        "# 리스트 생성\n",
        "stark = ['robb', 'sansa', 'arya', 'brandon', 'rickon']\n",
        "\n",
        "# 람다함수적용\n",
        "result = reduce(lambda item1, item2:  item1+item2, stark)\n",
        "\n",
        "# 결과출력\n",
        "print(result)"
      ],
      "execution_count": 5,
      "outputs": [
        {
          "output_type": "stream",
          "name": "stdout",
          "text": [
            "robbsansaaryabrandonrickon\n"
          ]
        }
      ]
    },
    {
      "cell_type": "code",
      "metadata": {
        "colab": {
          "base_uri": "https://localhost:8080/"
        },
        "id": "ppx7Otxls8Ra",
        "outputId": "9125ee30-09a2-4609-f92e-d30ca36bcb03"
      },
      "source": [
        "from functools import reduce\n",
        "\n",
        "\n",
        "func = lambda a, b: a if (a > b) else b  # 만약 a가 b보다 크면 func는 a이고, 아니면 b이다.\n",
        "result = reduce(func, [1, 100, 2, 55])  # reduce는 func에 1,100을 차례로 넣어줌.\n",
        "\n",
        "print(result)\n",
        "\n",
        "# 100"
      ],
      "execution_count": 9,
      "outputs": [
        {
          "output_type": "stream",
          "name": "stdout",
          "text": [
            "100\n"
          ]
        }
      ]
    }
  ]
}