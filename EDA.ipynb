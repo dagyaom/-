{
  "nbformat": 4,
  "nbformat_minor": 0,
  "metadata": {
    "colab": {
      "name": "파이썬 코드 기록.ipynb",
      "private_outputs": true,
      "provenance": [],
      "toc_visible": true,
      "include_colab_link": true
    },
    "kernelspec": {
      "name": "python3",
      "display_name": "Python 3"
    },
    "language_info": {
      "name": "python"
    }
  },
  "cells": [
    {
      "cell_type": "markdown",
      "metadata": {
        "id": "view-in-github",
        "colab_type": "text"
      },
      "source": [
        "<a href=\"https://colab.research.google.com/github/dagyaom/Python_Practice/blob/main/EDA.ipynb\" target=\"_parent\"><img src=\"https://colab.research.google.com/assets/colab-badge.svg\" alt=\"Open In Colab\"/></a>"
      ]
    },
    {
      "cell_type": "markdown",
      "metadata": {
        "id": "hEhizN8oDI1A"
      },
      "source": [
        "# EDA(Exploratory Data Analysis)\n",
        "탐색적 데이터 분석\n",
        "http://www.dodomira.com/2016/10/20/how_to_eda/"
      ]
    },
    {
      "cell_type": "markdown",
      "metadata": {
        "id": "GzDmqMgv1Ui7"
      },
      "source": [
        "# matplotlib에서 한글로 된 데이터를 다룰 경우 폰트 문제로 깨지는 것에 대한 문제 해결"
      ]
    },
    {
      "cell_type": "code",
      "metadata": {
        "id": "Hz-lrGNH1O74"
      },
      "source": [
        "!sudo apt-get install -y fonts-nanum\n",
        "!sudo fc-cache -fv\n",
        "!rm ~/.cache/matplotlib -rf\n",
        "\n",
        "# matplotlib에서 한글로 된 데이터를 다룰 경우 폰트 문제로 깨지는 것에 대한 문제 해결1"
      ],
      "execution_count": null,
      "outputs": []
    },
    {
      "cell_type": "code",
      "metadata": {
        "id": "Fe2lJFF-1T0X"
      },
      "source": [
        "import matplotlib.pyplot as plt\n",
        "import pandas as pd\n",
        "import warnings\n",
        "\n",
        "warnings.filterwarnings(\"ignore\")\n",
        "%matplotlib inline\n",
        "%config InlineBackend.figure_format='retina'\n",
        "\n",
        "# matplotlib에서 한글로 된 데이터를 다룰 경우 폰트 문제로 깨지는 것에 대한 문제 해결2"
      ],
      "execution_count": null,
      "outputs": []
    },
    {
      "cell_type": "code",
      "metadata": {
        "id": "lAduefem1b7N"
      },
      "source": [
        "import matplotlib.pyplot as plt\n",
        "\n",
        "plt.rc('font', family='NanumBarunGothic')  #한글 깨지는거 해결\n",
        "plt.rc('axes', unicode_minus=False)  # 숫자 옆 -(마이너스) 표시 불가 해결\n",
        "\n",
        "# matplotlib에서 한글로 된 데이터를 다룰 경우 폰트 문제로 깨지는 것에 대한 문제 해결3"
      ],
      "execution_count": null,
      "outputs": []
    },
    {
      "cell_type": "markdown",
      "metadata": {
        "id": "IjG6QOcH3ZHw"
      },
      "source": [
        "# 데이터셋 불러오기 연습\n",
        "- 행과 열의 수\n",
        "- 열에 헤더가 있는지 (\"데이터 이름\"이 있는지?)\n",
        "- 결측 데이터 (Missing data)가 있는지 확인\n",
        "- 원본의 형태를 확인하기"
      ]
    },
    {
      "cell_type": "code",
      "metadata": {
        "id": "egVRuLBjh5NI"
      },
      "source": [
        "pd.read_csv('경로', sep = '\\t', index_col = 0(위치) or '(변수이름)', \n",
        "\n",
        "# sep\t’,’\t자료의 구분 기준을 설정\n",
        "# header\t‘infer’\t첫행을 열이름으로 쓸 것인지. 몇번째 행을 열이름으로 쓸건지\n",
        "# names\t-\t열이름을 리스트로 입력해 줄 수있다. (header=None으로 자동 설정)\n",
        "# index_col\tNone\t특정 행이름으로 한 행을 인덱스를 지정\n",
        "# prefix\t-\theader가 없는 경우, ‘V’를 넣으면, V0,V1순으로 열이름 부여\n",
        "# dtype\t-\t개별 열 또는 모든 열의 타입을 지정(e.g ‘str’, {‘a’: np.float64, ‘c’: ‘Int64’})\n",
        "# na_values\t-\t결측값으로 인식할 문자열 지정\n",
        "# keep_default_na\tTrue\t결측값(NaN)을 포함할지 여부 결정\n",
        "# na_filter\tTrue\t결측값 탐지\n",
        "# skip_blank_lines\tTrue\t빈줄은 결측값으로 판단하지 않고 건너뜀\n",
        "# encoding\t-\t참고\n",
        "# nrow\t-\t읽을 파일 행(row)의 수\n",
        "# thousands=','  - 데이터에 쉼표 일괄적으로 지우기.\n",
        "\n",
        "# https://yganalyst.github.io/data_handling/Pd_4/"
      ],
      "execution_count": null,
      "outputs": []
    },
    {
      "cell_type": "code",
      "metadata": {
        "id": "aDYCV6n-3YF0"
      },
      "source": [
        "travel = 'https://ds-lecture-data.s3.ap-northeast-2.amazonaws.com/stocks/Travel.xlsx'\n",
        "\n",
        "import pandas as pd\n",
        "import xlrd\n",
        "df1 = pd.read_excel(travel, sheet_name = '008770 ')\n",
        "df2 = pd.read_excel(travel, sheet_name = '035250') #sheet_name=1 이렇게 쓸수도 있다.!"
      ],
      "execution_count": null,
      "outputs": []
    },
    {
      "cell_type": "code",
      "metadata": {
        "id": "vbDAxasy3kds"
      },
      "source": [
        "df1_transposed = df1.T\n",
        "df1=df1_transposed \n",
        "\n",
        "df1.columns = df1.iloc[0]\n",
        "df1= df1[1:]\n",
        "df1.head()\n",
        "\n",
        "# 트렌스포즈와 첫번째 row를 column name으로 설정"
      ],
      "execution_count": null,
      "outputs": []
    },
    {
      "cell_type": "markdown",
      "metadata": {
        "id": "AVIrpjXb_nlJ"
      },
      "source": [
        "## 시본의 파머펭귄 불러오기\n",
        "- seaborn은 matplotlib 기반의 파이썬 시각화 라이브러리\n",
        "\n"
      ]
    },
    {
      "cell_type": "code",
      "metadata": {
        "id": "0CCbGbSZ_qo0"
      },
      "source": [
        "import pandas as pd\n",
        "import seaborn as sns #라이브러리 불러온다.\n",
        "pp = sns.load_dataset('penguins') #데이터준비.\n",
        "pp"
      ],
      "execution_count": null,
      "outputs": []
    },
    {
      "cell_type": "markdown",
      "metadata": {
        "id": "BdPO974j3zh6"
      },
      "source": [
        "# 데이터의 dimension을 확인,결측치"
      ]
    },
    {
      "cell_type": "markdown",
      "metadata": {
        "id": "RiTgP_51sxhZ"
      },
      "source": [
        "## 자료형 확인"
      ]
    },
    {
      "cell_type": "code",
      "metadata": {
        "id": "X0ZqctlPs0VN"
      },
      "source": [
        "df.info()  #전체적인 자료형 확인\n",
        "\n",
        "# 컬럼 별 결측치 확인\n",
        "df.isnull().sum()\n",
        "\n",
        "# 데이터프레임 데이터 형태 확인 int? float?\n",
        "df.dtypes\n",
        "\n",
        "\n",
        "# 수치형 자료 정보알기.\n",
        "df.describe()"
      ],
      "execution_count": null,
      "outputs": []
    },
    {
      "cell_type": "code",
      "metadata": {
        "id": "ebUF_uLg4c55"
      },
      "source": [
        "print(df1.shape)  # 데이터 dimension확인\n",
        "print(df2.shape)\n",
        "\n",
        "df1.isnull().sum()  # 결측치 확인\n",
        "\n",
        "df1.fillna(0, inplace=True) # 결측치 0으로 처리\n",
        "pd.DataFrame(df2.isnull().sum(), columns = ['결측치갯수'])   # 데이터프레임화"
      ],
      "execution_count": null,
      "outputs": []
    },
    {
      "cell_type": "markdown",
      "metadata": {
        "id": "ksK4z59W5ISV"
      },
      "source": [
        "# 시각화\n",
        "\n",
        "-matplotlib : \n",
        "https://dailyheumsi.tistory.com/36\n",
        "\n",
        "- 다양한 시각화 : http://growthj.link/python-seaborn-%EB%8D%B0%EC%9D%B4%ED%84%B0-%EC%8B%9C%EA%B0%81%ED%99%94-%EC%B4%9D%EC%A0%95%EB%A6%AC/\n",
        "\n",
        "\n"
      ]
    },
    {
      "cell_type": "markdown",
      "metadata": {
        "id": "XNSsax3jQzX2"
      },
      "source": [
        "![확률밀도함수.png](data:image/png;base64,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)"
      ]
    },
    {
      "cell_type": "markdown",
      "metadata": {
        "id": "1_Ph7e1aTOgr"
      },
      "source": [
        "![20210816_043207.png](data:image/png;base64,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)"
      ]
    },
    {
      "cell_type": "markdown",
      "metadata": {
        "id": "rKZ0R7bAXi9j"
      },
      "source": [
        "## 선그래프"
      ]
    },
    {
      "cell_type": "code",
      "metadata": {
        "id": "0sr9uvnnSLfv"
      },
      "source": [
        "sns.lineplot(x=x, y=predict, color='red')"
      ],
      "execution_count": null,
      "outputs": []
    },
    {
      "cell_type": "code",
      "metadata": {
        "id": "BAfWpr40XlEj"
      },
      "source": [
        "plt.plot(data_for_graph['biden_cable_multiple'])\n",
        "plt.plot(data_for_graph['biden_online_multiple'])\n",
        "plt.title(\"Biden's Ukraine-related media bump is fading\")"
      ],
      "execution_count": null,
      "outputs": []
    },
    {
      "cell_type": "code",
      "metadata": {
        "id": "8D_LsZp2XpYB"
      },
      "source": [
        "df_g1 = data_for_graph['biden_cable_multiple'].plot(color='red');\n",
        "df_g2 = data_for_graph['biden_online_multiple'].plot(color='blue');"
      ],
      "execution_count": null,
      "outputs": []
    },
    {
      "cell_type": "markdown",
      "metadata": {
        "id": "aEjvHMGO4WPg"
      },
      "source": [
        "## 산점도"
      ]
    },
    {
      "cell_type": "code",
      "metadata": {
        "id": "t3uJSzHA4U8G"
      },
      "source": [
        "import matplotlib.pyplot as plt\n",
        "\n",
        "df1.plot.scatter('time', 'cell_phones_total');"
      ],
      "execution_count": null,
      "outputs": []
    },
    {
      "cell_type": "code",
      "metadata": {
        "id": "QJLGVla54cR0"
      },
      "source": [
        "import matplotlib.pyplot as plt\n",
        "%config InlineBackend.figure_format='retina'  #%matplotlib 뒤에 넣어주면 그래프를 더 높은 해상도로 출력한다.\n",
        "\n",
        "plt.scatter(df1['time'],df1['cell_phones_total'])"
      ],
      "execution_count": null,
      "outputs": []
    },
    {
      "cell_type": "code",
      "metadata": {
        "id": "StpTpLTD5dZO"
      },
      "source": [
        "import seaborn as sns\n",
        "ax = sns.scatterplot(x='time', \n",
        "                     y= 'cell_phones_total', \n",
        "                     data=df1)"
      ],
      "execution_count": null,
      "outputs": []
    },
    {
      "cell_type": "code",
      "metadata": {
        "id": "JxPuopDEzgjc"
      },
      "source": [
        "import seaborn as sns\n",
        "\n",
        "sns.scatterplot(x='time', \n",
        "                y='cell_phones_total', \n",
        "                hue='geo', # different colors by group\n",
        "                style='geo', # different shapes by group\n",
        "                s=100, # marker size\n",
        "                data=df1_1)\n",
        "plt.show()"
      ],
      "execution_count": null,
      "outputs": []
    },
    {
      "cell_type": "code",
      "metadata": {
        "id": "ElJ25EbJzjOd"
      },
      "source": [
        "sns.scatterplot(us_china['time'],us_china['cell_phones_total'],hue=us_china['geo'])"
      ],
      "execution_count": null,
      "outputs": []
    },
    {
      "cell_type": "markdown",
      "metadata": {
        "id": "qHsrZ1lR5P6k"
      },
      "source": [
        "##  bar.plot"
      ]
    },
    {
      "cell_type": "code",
      "metadata": {
        "id": "CIcDLNgz5HwC"
      },
      "source": [
        "df1['FCF'].plot.bar();"
      ],
      "execution_count": null,
      "outputs": []
    },
    {
      "cell_type": "code",
      "metadata": {
        "id": "gRyV-trD5vpw"
      },
      "source": [
        "# FCF 값을 Barplot으로 표현 - df2, horizon\n",
        "\n",
        "df2['FCF'].plot.barh();"
      ],
      "execution_count": null,
      "outputs": []
    },
    {
      "cell_type": "code",
      "metadata": {
        "id": "VPoDihO68ucE"
      },
      "source": [
        "# value_counts() : 어떤 컬럼/Series의 unique value들을 count해주는 함수 \n",
        "df1.FCF[df1['FCF'] > 0].value_counts()  # df1의 FCF행에서, FCF값이 0보다 큰 것을 추출"
      ],
      "execution_count": null,
      "outputs": []
    },
    {
      "cell_type": "code",
      "metadata": {
        "id": "0EE27IZY9H54"
      },
      "source": [
        "df1['FCF'] > 0\n",
        "# bull값으로 도출됨"
      ],
      "execution_count": null,
      "outputs": []
    },
    {
      "cell_type": "code",
      "metadata": {
        "id": "j5tENx129IdQ"
      },
      "source": [
        "df1[df1['FCF'] > 0]  #df1 전체에서 FCF값이 0보다 큰 것을 골라서 추출(FCF값 외에도 다른 행도 함께 나옴.)"
      ],
      "execution_count": null,
      "outputs": []
    },
    {
      "cell_type": "markdown",
      "metadata": {
        "id": "SKZIzpj7ISrP"
      },
      "source": [
        "## QQ플롯\n",
        "- 정규성 검정\n",
        ": 빨간선에 가까울 수록 정규성을 만족한다. \n",
        "- 우리가 가진 데이터와 정규분포를 비교합니다. 따라서 '정규성 검정'의 한 방법이라고 이야기할 수도 있습니다. \n",
        "- 넓은 의미의 Q-Q plot : 임의의 두 데이터 분포를 비교함\n",
        "- 좁은 의미의 Q-Q plot : 정규성 검정의 한 방법"
      ]
    },
    {
      "cell_type": "code",
      "metadata": {
        "id": "HUcjhnBlIRzY"
      },
      "source": [
        "import scipy.stats as stats\n",
        "\n",
        "stats.probplot(pp['bill_length_mm'], plot=plt);"
      ],
      "execution_count": null,
      "outputs": []
    },
    {
      "cell_type": "markdown",
      "metadata": {
        "id": "i8pkYIDVLcGB"
      },
      "source": [
        "## boxplot\n",
        "- 기술 통계학에서 '상자 수염 그림'(box-and-whisker plot, box-and-whisker diagram) 또는 '상자 그림'(box plot, boxplot)은 수치적 자료를 표현하는 그래프이다. 이 그래프는 가공하지 않은 자료 그대로를 이용하여 그린 것이 아니라, 자료로부터 얻어낸 통계량인 5가지 요약 수치(다섯 숫자 요약, five-number summary)를 가지고 그린다. 이 때 5가지 요약 수치란 최솟값, 제 1사분위, 제 2사분위, 제 3사분위, 최댓값을 일컫는 말이다. 히스토그램과는 다르게 집단이 여러개인 경우에도 한 공간에 수월하게 나타낼수 있다.\n",
        "\n",
        "\n",
        "- 중위수 : 데이터의 정 가운데 순위에 해당하는 값.(관측치의 절반은 크거나 같고 나머지 절반은 작거나 같다.\n",
        "- 제 3사분위 수 (Q3) : 중앙값 기준으로 상위 50% 중의 중앙값, 전체 데이터 중 상위 25%에 해당하는 값\n",
        "- 제 1사분위 수 (Q1) : 중앙값 기준으로 하위 50% 중의 중앙값, 전체 데이터 중 하위 25%에 해당하는 값\n",
        "\n",
        ">https://rfriend.tistory.com/410"
      ]
    },
    {
      "cell_type": "code",
      "metadata": {
        "id": "Ni3LKTQ5Mgn4"
      },
      "source": [
        ""
      ],
      "execution_count": null,
      "outputs": []
    },
    {
      "cell_type": "markdown",
      "metadata": {
        "id": "a-MpeHWF-Udl"
      },
      "source": [
        "# 작업파일 내보내기. 읽어오기."
      ]
    },
    {
      "cell_type": "code",
      "metadata": {
        "id": "d1EGxmNv-UTM"
      },
      "source": [
        "df1.to_csv('df1.csv') ## csv 파일로 저장\n",
        "pd.read_csv('df1.csv')  ## csv 파일 읽어오기"
      ],
      "execution_count": null,
      "outputs": []
    },
    {
      "cell_type": "code",
      "metadata": {
        "id": "MEgVHLOm_VJ6"
      },
      "source": [
        "df1.to_csv('./df1.csv', index=True)   #index의 불값이 무슨 의미일까?\n",
        "pd.read_csv('df1.csv')\n",
        "# index = True (행의 이름 index 도 같이 내보냄. index 내보내기 싫으면 False 명기)"
      ],
      "execution_count": null,
      "outputs": []
    },
    {
      "cell_type": "markdown",
      "metadata": {
        "id": "UZJ_DoclGGsv"
      },
      "source": [
        "# 크로스탭(교차도표)"
      ]
    },
    {
      "cell_type": "code",
      "metadata": {
        "id": "TZWA8_Y7GFf8"
      },
      "source": [
        "pp_crosstab = pd.crosstab(index=pp[\"species\"], columns=pp[\"sex\"])\n",
        "pp_crosstab"
      ],
      "execution_count": null,
      "outputs": []
    },
    {
      "cell_type": "code",
      "metadata": {
        "id": "TLbrSOLZGff5"
      },
      "source": [
        "tmp = pd.crosstab(pp['species'],pp['sex']) ## 두개의 변수에 대해서 크로스탭 시행. tmp 변수에 저장\n",
        "#tmp\n",
        "# type(tmp)\n",
        "print(tmp) ## 크로스탭 보기\n",
        "num3 = max(tmp.max())   ## 최댓값 찾기\n",
        "num4 = min(tmp.min())   ## 최솟값 찾기"
      ],
      "execution_count": null,
      "outputs": []
    },
    {
      "cell_type": "markdown",
      "metadata": {
        "id": "8ZZHSnCndBRM"
      },
      "source": [
        "파이썬의 os.listdir() 메써드는 지정한 디렉토리 내의 모든 파일과 디렉토리의 리스트(list)를 리턴한다. 디렉토리를 지정하지 않으면 현재의 working directory를 사용한다."
      ]
    },
    {
      "cell_type": "code",
      "metadata": {
        "id": "jiGhIsWGnXre"
      },
      "source": [
        "df['영업이익'].str.replace(',','')  # 데이터프레임 한 행에서 쉼표 없애기.\n",
        "pd.to_numeric(df['영업이익'])  # 데이터프레임 형변환 : 문자열에서 숫자로"
      ],
      "execution_count": null,
      "outputs": []
    },
    {
      "cell_type": "code",
      "metadata": {
        "id": "ikXkPjFaoiyV"
      },
      "source": [
        "round((df['영업이익']/df['매출액'])*100, 2)\n",
        "\n",
        " # ★round 함수를 사용하여 소수점 2자리까지 잘라보기."
      ],
      "execution_count": null,
      "outputs": []
    },
    {
      "cell_type": "markdown",
      "metadata": {
        "id": "xSP12S7pTdHN"
      },
      "source": [
        "# python - Pandas의 이중 중괄호`[[…]]`와 단일 중괄호`[..]`인덱싱의 차이점\n",
        "https://pythonq.com/so/python/347084\n",
        "\n",
        "- 하나의 열을 선택하면 Pandas.Series가 생성 : df['Brains']\n",
        "- DataFrame의 하위 집합을 선택하면 DataFrame이 생성 : df[['Brains']]"
      ]
    },
    {
      "cell_type": "code",
      "metadata": {
        "id": "pDMN2JW4WZ1s"
      },
      "source": [
        "## GrLivArea > 3500 & GrLivArea < 4500 사이의 데이터를 보겠습니다.\n",
        "df[(df['GrLivArea'] > 3500) & (df['GrLivArea'] < 4500)]*"
      ],
      "execution_count": null,
      "outputs": []
    }
  ]
}