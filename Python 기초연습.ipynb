{
  "nbformat": 4,
  "nbformat_minor": 0,
  "metadata": {
    "colab": {
      "name": "Python.ipynb",
      "private_outputs": true,
      "provenance": [],
      "authorship_tag": "ABX9TyN8zEnAnhmFqPo5w7Rm17JM",
      "include_colab_link": true
    },
    "kernelspec": {
      "name": "python3",
      "display_name": "Python 3"
    },
    "language_info": {
      "name": "python"
    }
  },
  "cells": [
    {
      "cell_type": "markdown",
      "metadata": {
        "id": "view-in-github",
        "colab_type": "text"
      },
      "source": [
        "<a href=\"https://colab.research.google.com/github/dagyaom/Python_Practice/blob/main/Python%20%EA%B8%B0%EC%B4%88%EC%97%B0%EC%8A%B5.ipynb\" target=\"_parent\"><img src=\"https://colab.research.google.com/assets/colab-badge.svg\" alt=\"Open In Colab\"/></a>"
      ]
    },
    {
      "cell_type": "markdown",
      "metadata": {
        "id": "SCAR7EMasJbR"
      },
      "source": [
        "# 시리즈 형태, 데이터프레임 형태"
      ]
    },
    {
      "cell_type": "code",
      "metadata": {
        "id": "gm9o69Ilr9QN"
      },
      "source": [
        "# pd.Series \n",
        "https://nittaku.tistory.com/110"
      ],
      "execution_count": null,
      "outputs": []
    }
  ]
}