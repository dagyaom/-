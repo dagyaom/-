{
  "nbformat": 4,
  "nbformat_minor": 0,
  "metadata": {
    "colab": {
      "name": "Python.ipynb",
      "private_outputs": true,
      "provenance": [],
      "toc_visible": true,
      "authorship_tag": "ABX9TyNR02ZaHqGLdC6J9Ej4WUfy",
      "include_colab_link": true
    },
    "kernelspec": {
      "name": "python3",
      "display_name": "Python 3"
    },
    "language_info": {
      "name": "python"
    }
  },
  "cells": [
    {
      "cell_type": "markdown",
      "metadata": {
        "id": "view-in-github",
        "colab_type": "text"
      },
      "source": [
        "<a href=\"https://colab.research.google.com/github/dagyaom/Python_Practice/blob/main/Python%20%EA%B8%B0%EC%B4%88%EC%97%B0%EC%8A%B5.ipynb\" target=\"_parent\"><img src=\"https://colab.research.google.com/assets/colab-badge.svg\" alt=\"Open In Colab\"/></a>"
      ]
    },
    {
      "cell_type": "markdown",
      "metadata": {
        "id": "SCAR7EMasJbR"
      },
      "source": [
        "# 시리즈 형태, 데이터프레임 형태"
      ]
    },
    {
      "cell_type": "code",
      "metadata": {
        "id": "gm9o69Ilr9QN"
      },
      "source": [
        "# pd.Series \n",
        "https://nittaku.tistory.com/110"
      ],
      "execution_count": null,
      "outputs": []
    },
    {
      "cell_type": "markdown",
      "metadata": {
        "id": "_5temIy0QNS9"
      },
      "source": [
        "# 판다스 출력 포매팅"
      ]
    },
    {
      "cell_type": "code",
      "metadata": {
        "id": "8s0BGDkNQPXO"
      },
      "source": [
        "# pandas 포멧팅을 사용하면, 판다스 객체들의 결과에서 쉼표를 넣고 소숫점 아래는 생략하도록 설정할 수 있습니다.\n",
        "# float 형식 소숫점 1자리, 쉼표 포함\n",
        "#https://financedata.github.io/posts/pandas-display-format.html\n",
        "pd.set_option('display.float_format', '{:,.1f}'.format)\n",
        "\n",
        "# 기본 셋팅으로 돌아오기 위해서는,\n",
        "# pd.set_option('display.float_format', None) "
      ],
      "execution_count": null,
      "outputs": []
    },
    {
      "cell_type": "code",
      "metadata": {
        "id": "0biwCbtRnXZd"
      },
      "source": [
        "# https://yganalyst.github.io/data_handling/memo_9/\n",
        "# pandas 문자열 관련 함수 str판다스에서 문자열 관련 함수를 사용하거나 전처리를 하기 위해서는 함수 및 명령어 앞에 str을 붙여주어야 한다."
      ],
      "execution_count": null,
      "outputs": []
    },
    {
      "cell_type": "code",
      "metadata": {
        "id": "DNf3MmYIwQRZ"
      },
      "source": [
        "# https://ponyozzang.tistory.com/622\n",
        "# Python DataFrame 문자열 포함 확인 str.contains()"
      ],
      "execution_count": null,
      "outputs": []
    }
  ]
}