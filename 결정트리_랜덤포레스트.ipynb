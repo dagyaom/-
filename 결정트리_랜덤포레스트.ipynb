{
  "nbformat": 4,
  "nbformat_minor": 0,
  "metadata": {
    "colab": {
      "name": "결정트리 랜덤포레스트.ipynb",
      "private_outputs": true,
      "provenance": [],
      "toc_visible": true,
      "authorship_tag": "ABX9TyNN8/q5pYHNj7tH8TdMKlku",
      "include_colab_link": true
    },
    "kernelspec": {
      "name": "python3",
      "display_name": "Python 3"
    },
    "language_info": {
      "name": "python"
    }
  },
  "cells": [
    {
      "cell_type": "markdown",
      "metadata": {
        "id": "view-in-github",
        "colab_type": "text"
      },
      "source": [
        "<a href=\"https://colab.research.google.com/github/dagyaom/Python_Practice/blob/main/%EA%B2%B0%EC%A0%95%ED%8A%B8%EB%A6%AC_%EB%9E%9C%EB%8D%A4%ED%8F%AC%EB%A0%88%EC%8A%A4%ED%8A%B8.ipynb\" target=\"_parent\"><img src=\"https://colab.research.google.com/assets/colab-badge.svg\" alt=\"Open In Colab\"/></a>"
      ]
    },
    {
      "cell_type": "markdown",
      "metadata": {
        "id": "8vtuERVW5s0x"
      },
      "source": [
        "# 결정트리(Decision Trees)"
      ]
    },
    {
      "cell_type": "markdown",
      "metadata": {
        "id": "Mg3JcvQDIFGu"
      },
      "source": [
        "## Merge사용한 데이터 불러오기"
      ]
    },
    {
      "cell_type": "code",
      "metadata": {
        "id": "Vv5AzGOx-00v"
      },
      "source": [
        "import pandas as pd"
      ],
      "execution_count": null,
      "outputs": []
    },
    {
      "cell_type": "code",
      "metadata": {
        "id": "6mi4aIq2-q2m"
      },
      "source": [
        "train_1 = pd.read_csv('https://ds-lecture-data.s3.ap-northeast-2.amazonaws.com/vacc_flu/train.csv')\n",
        "train_1.head(3)"
      ],
      "execution_count": null,
      "outputs": []
    },
    {
      "cell_type": "code",
      "metadata": {
        "id": "TXmA69Yv-zSR"
      },
      "source": [
        "train_2 = pd.read_csv('https://ds-lecture-data.s3.ap-northeast-2.amazonaws.com/vacc_flu/train_labels.csv')\n",
        "train_2.head(3)"
      ],
      "execution_count": null,
      "outputs": []
    },
    {
      "cell_type": "code",
      "metadata": {
        "id": "GLSiZt_d5rEK"
      },
      "source": [
        "# 데이터 가져오기\n",
        "target = 'vacc_h1n1_f'\n",
        "train1 = pd.merge(pd.read_csv('https://ds-lecture-data.s3.ap-northeast-2.amazonaws.com/vacc_flu/train.csv'),\n",
        "                 pd.read_csv('https://ds-lecture-data.s3.ap-northeast-2.amazonaws.com/vacc_flu/train_labels.csv')[target], left_index=True, right_index=True)\n",
        "train1.head(3)\n",
        "\n",
        "# 왼쪽 데이터프레임의 인덱스를 조인키로 사용함."
      ],
      "execution_count": null,
      "outputs": []
    },
    {
      "cell_type": "code",
      "metadata": {
        "id": "B_KuCTUX_RM3"
      },
      "source": [
        "test = pd.read_csv('https://ds-lecture-data.s3.ap-northeast-2.amazonaws.com/vacc_flu/test.csv')\n",
        "test.head(3)"
      ],
      "execution_count": null,
      "outputs": []
    },
    {
      "cell_type": "code",
      "metadata": {
        "id": "2XQOnGqOH7Vp"
      },
      "source": [
        "sample_submission = pd.read_csv('https://ds-lecture-data.s3.ap-northeast-2.amazonaws.com/vacc_flu/submission.csv')\n",
        "sample_submission.head(3)"
      ],
      "execution_count": null,
      "outputs": []
    },
    {
      "cell_type": "markdown",
      "metadata": {
        "id": "7DmCHugHILyi"
      },
      "source": [
        "## EDA(탐색적 데이터분석)"
      ]
    },
    {
      "cell_type": "code",
      "metadata": {
        "id": "fhtuTnbiIBP3"
      },
      "source": [
        "# 전체적인 형태 파악\n",
        "train1.head().T"
      ],
      "execution_count": null,
      "outputs": []
    },
    {
      "cell_type": "code",
      "metadata": {
        "id": "ZYWZvpvkIqkm"
      },
      "source": [
        "# 컬럼 타입 파악\n",
        "train1.dtypes"
      ],
      "execution_count": null,
      "outputs": []
    },
    {
      "cell_type": "code",
      "metadata": {
        "id": "Wj48Gs9xIkq2"
      },
      "source": [
        "# 전처리\n",
        "\n",
        "from sklearn.model_selection import train_test_split\n",
        "\n",
        "train, val = train_test_split(train1, train_size=0.80, test_size=0.20, \n",
        "                              stratify=train1[target], random_state=2)\n",
        "\n",
        "\n",
        "train.shape, val.shape, test.shape\n",
        "\n",
        "#stratify : 지정한 Data의 비율을 유지한다. 예를 들어, Label Set인 Y가 25%의 0과 75%의 1로 이루어진 Binary Set일 때,\n",
        "#  stratify=Y로 설정하면 나누어진 데이터셋들도 0과 1을 각각 25%, 75%로 유지한 채 분할된다.\n",
        "\n",
        "# 출처: https://ebbnflow.tistory.com/126 [Dev Log : 삶은 확률의 구름]\n",
        "\n",
        "# ★ stratify: default=None 입니다. classification을 다룰 때 매우 중요한 옵션값입니다. stratify 값을 target으로 지정해주면 각각의 class 비율(ratio)을 train / validation에 유지해 줍니다. \n",
        "#(한 쪽에 쏠려서 분배되는 것을 방지합니다) 만약 이 옵션을 지정해 주지 않고 classification 문제를 다룬다면, 성능의 차이가 많이 날 수 있습니다.\n",
        "# 계층적 데이터 추출 옵션 (분류 모델에서 추천!)\n",
        "# : 여러 층으로 분할후 각 층별로 렌덤 데이터 추출, 원래 데이터의 분포와 유사하게 데이터 추출\n",
        "#https://teddylee777.github.io/scikit-learn/train-test-split"
      ],
      "execution_count": null,
      "outputs": []
    },
    {
      "cell_type": "code",
      "metadata": {
        "id": "Ynre1jKLLetn"
      },
      "source": [
        "train1[target].value_counts(normalize=True)"
      ],
      "execution_count": null,
      "outputs": []
    },
    {
      "cell_type": "code",
      "metadata": {
        "id": "IVTyXH19K2OX"
      },
      "source": [
        "# 타겟 비율 살펴보기\n",
        "print(train[target].value_counts(normalize=True))\n",
        "print(val[target].value_counts(normalize=True))\n",
        "\n",
        "# stratify=train1[target] -- 이 옵션을 줌으로써 train1의 타겟값 비율이 train과 val에 동일하게 적용되었음을 알 수 있다. \n",
        "# 클래스가 0,1인 분류문제로, 가장 큰 범주(0)dl 76%가량을 차지하고 있다. --> 클래스가 불균형한 분류문제(imbalanced)"
      ],
      "execution_count": null,
      "outputs": []
    },
    {
      "cell_type": "code",
      "metadata": {
        "id": "koEYB-WZMm-J"
      },
      "source": [
        "# 프로파일링을 사용해서 데이터리포트를 분석해보자\n",
        "pip install -U pandas-profiling"
      ],
      "execution_count": null,
      "outputs": []
    },
    {
      "cell_type": "code",
      "metadata": {
        "id": "AaUofVmELwiA"
      },
      "source": [
        ""
      ],
      "execution_count": null,
      "outputs": []
    }
  ]
}